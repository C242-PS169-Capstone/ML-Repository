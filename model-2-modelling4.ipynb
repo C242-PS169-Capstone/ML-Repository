{
 "cells": [
  {
   "cell_type": "markdown",
   "id": "fd3f4e40",
   "metadata": {
    "papermill": {
     "duration": 0.005286,
     "end_time": "2024-12-06T07:16:19.422135",
     "exception": false,
     "start_time": "2024-12-06T07:16:19.416849",
     "status": "completed"
    },
    "tags": []
   },
   "source": [
    "### Read Data"
   ]
  },
  {
   "cell_type": "code",
   "execution_count": 1,
   "id": "42752737",
   "metadata": {
    "execution": {
     "iopub.execute_input": "2024-12-06T07:16:19.432363Z",
     "iopub.status.busy": "2024-12-06T07:16:19.432037Z",
     "iopub.status.idle": "2024-12-06T07:16:40.786312Z",
     "shell.execute_reply": "2024-12-06T07:16:40.785625Z"
    },
    "papermill": {
     "duration": 21.361695,
     "end_time": "2024-12-06T07:16:40.788287",
     "exception": false,
     "start_time": "2024-12-06T07:16:19.426592",
     "status": "completed"
    },
    "tags": []
   },
   "outputs": [],
   "source": [
    "# Import Libraries\n",
    "import pandas as pd\n",
    "import ast\n",
    "from sklearn.preprocessing import LabelEncoder\n",
    "from transformers import BertTokenizer, TFBertModel\n",
    "from sklearn.model_selection import train_test_split\n",
    "from tensorflow.keras.models import Model\n",
    "from tensorflow.keras.layers import Input, GRU, Dense, Dropout, BatchNormalization\n",
    "from tensorflow.keras.callbacks import EarlyStopping, ModelCheckpoint\n",
    "import tensorflow as tf"
   ]
  },
  {
   "cell_type": "code",
   "execution_count": 2,
   "id": "67ce103c",
   "metadata": {
    "execution": {
     "iopub.execute_input": "2024-12-06T07:16:40.799776Z",
     "iopub.status.busy": "2024-12-06T07:16:40.799310Z",
     "iopub.status.idle": "2024-12-06T07:16:41.151989Z",
     "shell.execute_reply": "2024-12-06T07:16:41.151232Z"
    },
    "papermill": {
     "duration": 0.360935,
     "end_time": "2024-12-06T07:16:41.154066",
     "exception": false,
     "start_time": "2024-12-06T07:16:40.793131",
     "status": "completed"
    },
    "tags": []
   },
   "outputs": [],
   "source": [
    "\n",
    "\n",
    "# Read data from CSV\n",
    "file_path = '/kaggle/input/data-model2/data_model2.csv'\n",
    "df = pd.read_csv(file_path)"
   ]
  },
  {
   "cell_type": "code",
   "execution_count": 3,
   "id": "261c94a5",
   "metadata": {
    "execution": {
     "iopub.execute_input": "2024-12-06T07:16:41.165015Z",
     "iopub.status.busy": "2024-12-06T07:16:41.164726Z",
     "iopub.status.idle": "2024-12-06T07:16:44.414333Z",
     "shell.execute_reply": "2024-12-06T07:16:44.413485Z"
    },
    "papermill": {
     "duration": 3.257385,
     "end_time": "2024-12-06T07:16:44.416412",
     "exception": false,
     "start_time": "2024-12-06T07:16:41.159027",
     "status": "completed"
    },
    "tags": []
   },
   "outputs": [],
   "source": [
    "# Convert string literals to Python lists\n",
    "df['statement'] = df['statement'].apply(lambda x: ast.literal_eval(x) if isinstance(x, str) else x)\n",
    "\n",
    "# Join lists into sentences\n",
    "df['statement'] = df['statement'].apply(lambda x: ' '.join(x) if isinstance(x, list) else x)\n"
   ]
  },
  {
   "cell_type": "code",
   "execution_count": 4,
   "id": "837535d8",
   "metadata": {
    "execution": {
     "iopub.execute_input": "2024-12-06T07:16:44.426789Z",
     "iopub.status.busy": "2024-12-06T07:16:44.426520Z",
     "iopub.status.idle": "2024-12-06T07:16:44.439302Z",
     "shell.execute_reply": "2024-12-06T07:16:44.438383Z"
    },
    "papermill": {
     "duration": 0.020144,
     "end_time": "2024-12-06T07:16:44.441228",
     "exception": false,
     "start_time": "2024-12-06T07:16:44.421084",
     "status": "completed"
    },
    "tags": []
   },
   "outputs": [
    {
     "data": {
      "text/html": [
       "<div>\n",
       "<style scoped>\n",
       "    .dataframe tbody tr th:only-of-type {\n",
       "        vertical-align: middle;\n",
       "    }\n",
       "\n",
       "    .dataframe tbody tr th {\n",
       "        vertical-align: top;\n",
       "    }\n",
       "\n",
       "    .dataframe thead th {\n",
       "        text-align: right;\n",
       "    }\n",
       "</style>\n",
       "<table border=\"1\" class=\"dataframe\">\n",
       "  <thead>\n",
       "    <tr style=\"text-align: right;\">\n",
       "      <th></th>\n",
       "      <th>Unnamed: 0</th>\n",
       "      <th>statement</th>\n",
       "      <th>status</th>\n",
       "    </tr>\n",
       "  </thead>\n",
       "  <tbody>\n",
       "    <tr>\n",
       "      <th>0</th>\n",
       "      <td>0</td>\n",
       "      <td>oh gosh</td>\n",
       "      <td>2</td>\n",
       "    </tr>\n",
       "    <tr>\n",
       "      <th>1</th>\n",
       "      <td>1</td>\n",
       "      <td>trouble sleep confused mind restless heart tune</td>\n",
       "      <td>2</td>\n",
       "    </tr>\n",
       "    <tr>\n",
       "      <th>2</th>\n",
       "      <td>2</td>\n",
       "      <td>wrong back dear forward doubt stay restless re...</td>\n",
       "      <td>2</td>\n",
       "    </tr>\n",
       "    <tr>\n",
       "      <th>3</th>\n",
       "      <td>3</td>\n",
       "      <td>shift focus something else still worry</td>\n",
       "      <td>2</td>\n",
       "    </tr>\n",
       "    <tr>\n",
       "      <th>4</th>\n",
       "      <td>4</td>\n",
       "      <td>restless restless month boy mean</td>\n",
       "      <td>2</td>\n",
       "    </tr>\n",
       "  </tbody>\n",
       "</table>\n",
       "</div>"
      ],
      "text/plain": [
       "   Unnamed: 0                                          statement  status\n",
       "0           0                                            oh gosh       2\n",
       "1           1    trouble sleep confused mind restless heart tune       2\n",
       "2           2  wrong back dear forward doubt stay restless re...       2\n",
       "3           3             shift focus something else still worry       2\n",
       "4           4                   restless restless month boy mean       2"
      ]
     },
     "execution_count": 4,
     "metadata": {},
     "output_type": "execute_result"
    }
   ],
   "source": [
    "df.head()"
   ]
  },
  {
   "cell_type": "markdown",
   "id": "511063de",
   "metadata": {
    "papermill": {
     "duration": 0.004564,
     "end_time": "2024-12-06T07:16:44.450631",
     "exception": false,
     "start_time": "2024-12-06T07:16:44.446067",
     "status": "completed"
    },
    "tags": []
   },
   "source": [
    "### Resampling for more balance data"
   ]
  },
  {
   "cell_type": "code",
   "execution_count": 5,
   "id": "71552ce0",
   "metadata": {
    "execution": {
     "iopub.execute_input": "2024-12-06T07:16:44.460639Z",
     "iopub.status.busy": "2024-12-06T07:16:44.460392Z",
     "iopub.status.idle": "2024-12-06T07:16:44.475962Z",
     "shell.execute_reply": "2024-12-06T07:16:44.475137Z"
    },
    "papermill": {
     "duration": 0.022489,
     "end_time": "2024-12-06T07:16:44.477688",
     "exception": false,
     "start_time": "2024-12-06T07:16:44.455199",
     "status": "completed"
    },
    "tags": []
   },
   "outputs": [],
   "source": [
    "from sklearn.utils import resample\n",
    "df_sample = df.sample(n=20000,random_state=2024)\n",
    "majority_size = len(df_sample[df_sample['status']==0])\n",
    "\n",
    "def resampling(df):\n",
    "  minority_resample = resample(df,replace=True, n_samples=majority_size,random_state=22)\n",
    "  return minority_resample"
   ]
  },
  {
   "cell_type": "code",
   "execution_count": 6,
   "id": "37e87562",
   "metadata": {
    "execution": {
     "iopub.execute_input": "2024-12-06T07:16:44.487784Z",
     "iopub.status.busy": "2024-12-06T07:16:44.487526Z",
     "iopub.status.idle": "2024-12-06T07:16:44.512670Z",
     "shell.execute_reply": "2024-12-06T07:16:44.511841Z"
    },
    "papermill": {
     "duration": 0.03234,
     "end_time": "2024-12-06T07:16:44.514417",
     "exception": false,
     "start_time": "2024-12-06T07:16:44.482077",
     "status": "completed"
    },
    "tags": []
   },
   "outputs": [
    {
     "data": {
      "text/plain": [
       "status\n",
       "0    7710\n",
       "1    7710\n",
       "2    7710\n",
       "3    7710\n",
       "4    7710\n",
       "5    7710\n",
       "Name: count, dtype: int64"
      ]
     },
     "execution_count": 6,
     "metadata": {},
     "output_type": "execute_result"
    }
   ],
   "source": [
    "df_sample_1 = resampling(df_sample[df_sample['status']==1])\n",
    "df_sample_2 = resampling(df_sample[df_sample['status']==2])\n",
    "df_sample_3 = resampling(df_sample[df_sample['status']==3])\n",
    "df_sample_4 = resampling(df_sample[df_sample['status']==4])\n",
    "df_sample_5 = resampling(df_sample[df_sample['status']==5])\n",
    "\n",
    "df_new =pd.concat([df_sample[df_sample['status']==0],df_sample_1,df_sample_2,df_sample_3,df_sample_4,df_sample_5], axis=0).reset_index(drop=True)\n",
    "df_new['status'].value_counts()"
   ]
  },
  {
   "cell_type": "code",
   "execution_count": 7,
   "id": "306e47e7",
   "metadata": {
    "execution": {
     "iopub.execute_input": "2024-12-06T07:16:44.524727Z",
     "iopub.status.busy": "2024-12-06T07:16:44.524494Z",
     "iopub.status.idle": "2024-12-06T07:16:44.532182Z",
     "shell.execute_reply": "2024-12-06T07:16:44.531311Z"
    },
    "papermill": {
     "duration": 0.014786,
     "end_time": "2024-12-06T07:16:44.533955",
     "exception": false,
     "start_time": "2024-12-06T07:16:44.519169",
     "status": "completed"
    },
    "tags": []
   },
   "outputs": [
    {
     "data": {
      "text/html": [
       "<div>\n",
       "<style scoped>\n",
       "    .dataframe tbody tr th:only-of-type {\n",
       "        vertical-align: middle;\n",
       "    }\n",
       "\n",
       "    .dataframe tbody tr th {\n",
       "        vertical-align: top;\n",
       "    }\n",
       "\n",
       "    .dataframe thead th {\n",
       "        text-align: right;\n",
       "    }\n",
       "</style>\n",
       "<table border=\"1\" class=\"dataframe\">\n",
       "  <thead>\n",
       "    <tr style=\"text-align: right;\">\n",
       "      <th></th>\n",
       "      <th>Unnamed: 0</th>\n",
       "      <th>statement</th>\n",
       "      <th>status</th>\n",
       "    </tr>\n",
       "  </thead>\n",
       "  <tbody>\n",
       "    <tr>\n",
       "      <th>0</th>\n",
       "      <td>42422</td>\n",
       "      <td>real n twitter hate u</td>\n",
       "      <td>0</td>\n",
       "    </tr>\n",
       "    <tr>\n",
       "      <th>1</th>\n",
       "      <td>4204</td>\n",
       "      <td>two</td>\n",
       "      <td>0</td>\n",
       "    </tr>\n",
       "    <tr>\n",
       "      <th>2</th>\n",
       "      <td>2180</td>\n",
       "      <td>love matter far near determine mine love death...</td>\n",
       "      <td>0</td>\n",
       "    </tr>\n",
       "    <tr>\n",
       "      <th>3</th>\n",
       "      <td>6269</td>\n",
       "      <td>father s obligation feed clothe mother good way</td>\n",
       "      <td>0</td>\n",
       "    </tr>\n",
       "    <tr>\n",
       "      <th>4</th>\n",
       "      <td>5093</td>\n",
       "      <td>mutual let we</td>\n",
       "      <td>0</td>\n",
       "    </tr>\n",
       "  </tbody>\n",
       "</table>\n",
       "</div>"
      ],
      "text/plain": [
       "   Unnamed: 0                                          statement  status\n",
       "0       42422                              real n twitter hate u       0\n",
       "1        4204                                                two       0\n",
       "2        2180  love matter far near determine mine love death...       0\n",
       "3        6269    father s obligation feed clothe mother good way       0\n",
       "4        5093                                      mutual let we       0"
      ]
     },
     "execution_count": 7,
     "metadata": {},
     "output_type": "execute_result"
    }
   ],
   "source": [
    "df_new.head()"
   ]
  },
  {
   "cell_type": "code",
   "execution_count": null,
   "id": "fa5057c9",
   "metadata": {
    "papermill": {
     "duration": 0.004372,
     "end_time": "2024-12-06T07:16:44.542938",
     "exception": false,
     "start_time": "2024-12-06T07:16:44.538566",
     "status": "completed"
    },
    "tags": []
   },
   "outputs": [],
   "source": []
  },
  {
   "cell_type": "markdown",
   "id": "0ac18877",
   "metadata": {
    "papermill": {
     "duration": 0.004382,
     "end_time": "2024-12-06T07:16:44.551847",
     "exception": false,
     "start_time": "2024-12-06T07:16:44.547465",
     "status": "completed"
    },
    "tags": []
   },
   "source": [
    "## Modelling"
   ]
  },
  {
   "cell_type": "code",
   "execution_count": 8,
   "id": "c67fcb03",
   "metadata": {
    "execution": {
     "iopub.execute_input": "2024-12-06T07:16:44.562240Z",
     "iopub.status.busy": "2024-12-06T07:16:44.561809Z",
     "iopub.status.idle": "2024-12-06T07:16:47.120661Z",
     "shell.execute_reply": "2024-12-06T07:16:47.119526Z"
    },
    "papermill": {
     "duration": 2.566119,
     "end_time": "2024-12-06T07:16:47.122735",
     "exception": false,
     "start_time": "2024-12-06T07:16:44.556616",
     "status": "completed"
    },
    "tags": []
   },
   "outputs": [
    {
     "name": "stderr",
     "output_type": "stream",
     "text": [
      "/opt/conda/lib/python3.10/pty.py:89: RuntimeWarning: os.fork() was called. os.fork() is incompatible with multithreaded code, and JAX is multithreaded, so this will likely lead to a deadlock.\n",
      "  pid, fd = os.forkpty()\n"
     ]
    },
    {
     "name": "stdout",
     "output_type": "stream",
     "text": [
      "Requirement already satisfied: gensim in /opt/conda/lib/python3.10/site-packages (4.3.3)\r\n",
      "Note: you may need to restart the kernel to use updated packages.\n"
     ]
    }
   ],
   "source": [
    "pip install gensim --no-deps\n"
   ]
  },
  {
   "cell_type": "code",
   "execution_count": 9,
   "id": "970942c6",
   "metadata": {
    "execution": {
     "iopub.execute_input": "2024-12-06T07:16:47.134217Z",
     "iopub.status.busy": "2024-12-06T07:16:47.133898Z",
     "iopub.status.idle": "2024-12-06T07:17:00.812112Z",
     "shell.execute_reply": "2024-12-06T07:17:00.811414Z"
    },
    "papermill": {
     "duration": 13.686309,
     "end_time": "2024-12-06T07:17:00.814185",
     "exception": false,
     "start_time": "2024-12-06T07:16:47.127876",
     "status": "completed"
    },
    "tags": []
   },
   "outputs": [],
   "source": [
    "from tensorflow.keras.preprocessing.text import Tokenizer\n",
    "from tensorflow.keras.preprocessing.sequence import pad_sequences\n",
    "import gensim.downloader as api\n",
    "import numpy as np\n",
    "from sklearn.model_selection import train_test_split\n",
    "from keras.models import Sequential\n",
    "from keras.layers import Embedding, Dropout, Dense\n",
    "from keras.layers import GRU\n",
    "from keras.callbacks import EarlyStopping, ModelCheckpoint\n",
    "\n"
   ]
  },
  {
   "cell_type": "markdown",
   "id": "f882edb7",
   "metadata": {
    "papermill": {
     "duration": 0.004945,
     "end_time": "2024-12-06T07:17:00.825325",
     "exception": false,
     "start_time": "2024-12-06T07:17:00.820380",
     "status": "completed"
    },
    "tags": []
   },
   "source": [
    "### Tokenization with keras"
   ]
  },
  {
   "cell_type": "code",
   "execution_count": 10,
   "id": "f40043a6",
   "metadata": {
    "execution": {
     "iopub.execute_input": "2024-12-06T07:17:00.836385Z",
     "iopub.status.busy": "2024-12-06T07:17:00.835757Z",
     "iopub.status.idle": "2024-12-06T07:17:04.074101Z",
     "shell.execute_reply": "2024-12-06T07:17:04.073393Z"
    },
    "papermill": {
     "duration": 3.246125,
     "end_time": "2024-12-06T07:17:04.076123",
     "exception": false,
     "start_time": "2024-12-06T07:17:00.829998",
     "status": "completed"
    },
    "tags": []
   },
   "outputs": [],
   "source": [
    "# Configuration\n",
    "EMBEDDING_DIM = 100  # Dimension of word embeddings\n",
    "MAX_NUM_WORDS = 10000  # Maximum number of unique words\n",
    "MAX_SEQUENCE_LENGTH = 200  # Fixed sequence length for all input data\n",
    "\n",
    "\n",
    "\n",
    "# Tokenizer: Train and convert text to sequences\n",
    "tokenizer = Tokenizer(num_words=MAX_NUM_WORDS, lower=True)  # Limit vocabulary size and convert to lowercase\n",
    "tokenizer.fit_on_texts(df_new['statement'])  # Learn the vocabulary from the text data\n",
    "X = tokenizer.texts_to_sequences(df_new['statement'])  # Convert text to numerical sequences\n",
    "\n",
    "# Pad sequences to ensure uniform length\n",
    "X = pad_sequences(X, maxlen=MAX_SEQUENCE_LENGTH, padding='post')  # Add padding at the end of sequences\n"
   ]
  },
  {
   "cell_type": "code",
   "execution_count": 11,
   "id": "ad9e1718",
   "metadata": {
    "execution": {
     "iopub.execute_input": "2024-12-06T07:17:04.087299Z",
     "iopub.status.busy": "2024-12-06T07:17:04.087055Z",
     "iopub.status.idle": "2024-12-06T07:17:04.100004Z",
     "shell.execute_reply": "2024-12-06T07:17:04.099041Z"
    },
    "papermill": {
     "duration": 0.020361,
     "end_time": "2024-12-06T07:17:04.101681",
     "exception": false,
     "start_time": "2024-12-06T07:17:04.081320",
     "status": "completed"
    },
    "tags": []
   },
   "outputs": [
    {
     "name": "stdout",
     "output_type": "stream",
     "text": [
      "Tokenizer has been saved to tokenizer.pkl\n"
     ]
    }
   ],
   "source": [
    "import pickle\n",
    "\n",
    "# Save the tokenizer to a .pkl file\n",
    "with open('tokenizer.pkl', 'wb') as file:\n",
    "    pickle.dump(tokenizer, file)\n",
    "print(\"Tokenizer has been saved to tokenizer.pkl\")\n"
   ]
  },
  {
   "cell_type": "code",
   "execution_count": 12,
   "id": "5a389f09",
   "metadata": {
    "execution": {
     "iopub.execute_input": "2024-12-06T07:17:04.112728Z",
     "iopub.status.busy": "2024-12-06T07:17:04.112474Z",
     "iopub.status.idle": "2024-12-06T07:17:04.121726Z",
     "shell.execute_reply": "2024-12-06T07:17:04.120881Z"
    },
    "papermill": {
     "duration": 0.016687,
     "end_time": "2024-12-06T07:17:04.123433",
     "exception": false,
     "start_time": "2024-12-06T07:17:04.106746",
     "status": "completed"
    },
    "tags": []
   },
   "outputs": [
    {
     "data": {
      "text/html": [
       "<div>\n",
       "<style scoped>\n",
       "    .dataframe tbody tr th:only-of-type {\n",
       "        vertical-align: middle;\n",
       "    }\n",
       "\n",
       "    .dataframe tbody tr th {\n",
       "        vertical-align: top;\n",
       "    }\n",
       "\n",
       "    .dataframe thead th {\n",
       "        text-align: right;\n",
       "    }\n",
       "</style>\n",
       "<table border=\"1\" class=\"dataframe\">\n",
       "  <thead>\n",
       "    <tr style=\"text-align: right;\">\n",
       "      <th></th>\n",
       "      <th>Unnamed: 0</th>\n",
       "      <th>statement</th>\n",
       "      <th>status</th>\n",
       "    </tr>\n",
       "  </thead>\n",
       "  <tbody>\n",
       "    <tr>\n",
       "      <th>0</th>\n",
       "      <td>42422</td>\n",
       "      <td>real n twitter hate u</td>\n",
       "      <td>0</td>\n",
       "    </tr>\n",
       "    <tr>\n",
       "      <th>1</th>\n",
       "      <td>4204</td>\n",
       "      <td>two</td>\n",
       "      <td>0</td>\n",
       "    </tr>\n",
       "    <tr>\n",
       "      <th>2</th>\n",
       "      <td>2180</td>\n",
       "      <td>love matter far near determine mine love death...</td>\n",
       "      <td>0</td>\n",
       "    </tr>\n",
       "    <tr>\n",
       "      <th>3</th>\n",
       "      <td>6269</td>\n",
       "      <td>father s obligation feed clothe mother good way</td>\n",
       "      <td>0</td>\n",
       "    </tr>\n",
       "    <tr>\n",
       "      <th>4</th>\n",
       "      <td>5093</td>\n",
       "      <td>mutual let we</td>\n",
       "      <td>0</td>\n",
       "    </tr>\n",
       "    <tr>\n",
       "      <th>5</th>\n",
       "      <td>5456</td>\n",
       "      <td>come want check k file turn u</td>\n",
       "      <td>0</td>\n",
       "    </tr>\n",
       "    <tr>\n",
       "      <th>6</th>\n",
       "      <td>4154</td>\n",
       "      <td>al ham h oh god touch</td>\n",
       "      <td>0</td>\n",
       "    </tr>\n",
       "    <tr>\n",
       "      <th>7</th>\n",
       "      <td>33037</td>\n",
       "      <td>yes land reporter army band</td>\n",
       "      <td>0</td>\n",
       "    </tr>\n",
       "    <tr>\n",
       "      <th>8</th>\n",
       "      <td>42350</td>\n",
       "      <td>earthquake ha make sad saw pic news terrible</td>\n",
       "      <td>0</td>\n",
       "    </tr>\n",
       "    <tr>\n",
       "      <th>9</th>\n",
       "      <td>42535</td>\n",
       "      <td>yeah application run every minute add conflict ti</td>\n",
       "      <td>0</td>\n",
       "    </tr>\n",
       "    <tr>\n",
       "      <th>10</th>\n",
       "      <td>33241</td>\n",
       "      <td>get free food</td>\n",
       "      <td>0</td>\n",
       "    </tr>\n",
       "    <tr>\n",
       "      <th>11</th>\n",
       "      <td>42385</td>\n",
       "      <td>er sorry hear dog</td>\n",
       "      <td>0</td>\n",
       "    </tr>\n",
       "    <tr>\n",
       "      <th>12</th>\n",
       "      <td>5345</td>\n",
       "      <td>bus set lot bat</td>\n",
       "      <td>0</td>\n",
       "    </tr>\n",
       "    <tr>\n",
       "      <th>13</th>\n",
       "      <td>44088</td>\n",
       "      <td>kind sad find</td>\n",
       "      <td>0</td>\n",
       "    </tr>\n",
       "    <tr>\n",
       "      <th>14</th>\n",
       "      <td>4044</td>\n",
       "      <td>keep think positive even though positive think</td>\n",
       "      <td>0</td>\n",
       "    </tr>\n",
       "    <tr>\n",
       "      <th>15</th>\n",
       "      <td>41845</td>\n",
       "      <td>wish tag tag thing nonsense tire</td>\n",
       "      <td>0</td>\n",
       "    </tr>\n",
       "    <tr>\n",
       "      <th>16</th>\n",
       "      <td>4477</td>\n",
       "      <td>ho date</td>\n",
       "      <td>0</td>\n",
       "    </tr>\n",
       "    <tr>\n",
       "      <th>17</th>\n",
       "      <td>37332</td>\n",
       "      <td>weird pizza place stand room around dinner ti ...</td>\n",
       "      <td>0</td>\n",
       "    </tr>\n",
       "    <tr>\n",
       "      <th>18</th>\n",
       "      <td>37021</td>\n",
       "      <td>love cap jo ross happy birthday live sh</td>\n",
       "      <td>0</td>\n",
       "    </tr>\n",
       "    <tr>\n",
       "      <th>19</th>\n",
       "      <td>6327</td>\n",
       "      <td>file file control</td>\n",
       "      <td>0</td>\n",
       "    </tr>\n",
       "  </tbody>\n",
       "</table>\n",
       "</div>"
      ],
      "text/plain": [
       "    Unnamed: 0                                          statement  status\n",
       "0        42422                              real n twitter hate u       0\n",
       "1         4204                                                two       0\n",
       "2         2180  love matter far near determine mine love death...       0\n",
       "3         6269    father s obligation feed clothe mother good way       0\n",
       "4         5093                                      mutual let we       0\n",
       "5         5456                      come want check k file turn u       0\n",
       "6         4154                              al ham h oh god touch       0\n",
       "7        33037                        yes land reporter army band       0\n",
       "8        42350       earthquake ha make sad saw pic news terrible       0\n",
       "9        42535  yeah application run every minute add conflict ti       0\n",
       "10       33241                                      get free food       0\n",
       "11       42385                                  er sorry hear dog       0\n",
       "12        5345                                    bus set lot bat       0\n",
       "13       44088                                      kind sad find       0\n",
       "14        4044     keep think positive even though positive think       0\n",
       "15       41845                   wish tag tag thing nonsense tire       0\n",
       "16        4477                                            ho date       0\n",
       "17       37332  weird pizza place stand room around dinner ti ...       0\n",
       "18       37021            love cap jo ross happy birthday live sh       0\n",
       "19        6327                                  file file control       0"
      ]
     },
     "execution_count": 12,
     "metadata": {},
     "output_type": "execute_result"
    }
   ],
   "source": [
    "df_new.head(20)"
   ]
  },
  {
   "cell_type": "markdown",
   "id": "720f210b",
   "metadata": {
    "papermill": {
     "duration": 0.005101,
     "end_time": "2024-12-06T07:17:04.134075",
     "exception": false,
     "start_time": "2024-12-06T07:17:04.128974",
     "status": "completed"
    },
    "tags": []
   },
   "source": [
    "### Convert label to one-hot encoding"
   ]
  },
  {
   "cell_type": "code",
   "execution_count": 13,
   "id": "f12bf115",
   "metadata": {
    "execution": {
     "iopub.execute_input": "2024-12-06T07:17:04.145602Z",
     "iopub.status.busy": "2024-12-06T07:17:04.145331Z",
     "iopub.status.idle": "2024-12-06T07:17:04.172901Z",
     "shell.execute_reply": "2024-12-06T07:17:04.171969Z"
    },
    "papermill": {
     "duration": 0.035672,
     "end_time": "2024-12-06T07:17:04.175035",
     "exception": false,
     "start_time": "2024-12-06T07:17:04.139363",
     "status": "completed"
    },
    "tags": []
   },
   "outputs": [],
   "source": [
    "# Convert labels to one-hot encoding\n",
    "y = pd.get_dummies(df_new['status']).values  # Transform class labels into a binary matrix\n",
    "\n",
    "# Split data into training and testing sets\n",
    "X_train, X_test, y_train, y_test = train_test_split(X, y, test_size=0.3, random_state=42)\n",
    "# `test_size=0.3` allocates 30% of the data for testing, 70% for training\n",
    "# `random_state=42` ensures reproducibility of the split\n",
    "\n"
   ]
  },
  {
   "cell_type": "markdown",
   "id": "31a25b6c",
   "metadata": {
    "papermill": {
     "duration": 0.005311,
     "end_time": "2024-12-06T07:17:04.185712",
     "exception": false,
     "start_time": "2024-12-06T07:17:04.180401",
     "status": "completed"
    },
    "tags": []
   },
   "source": [
    "### Word Embedding"
   ]
  },
  {
   "cell_type": "code",
   "execution_count": 14,
   "id": "f4807bc0",
   "metadata": {
    "execution": {
     "iopub.execute_input": "2024-12-06T07:17:04.197524Z",
     "iopub.status.busy": "2024-12-06T07:17:04.196934Z",
     "iopub.status.idle": "2024-12-06T07:17:49.015518Z",
     "shell.execute_reply": "2024-12-06T07:17:49.014785Z"
    },
    "papermill": {
     "duration": 44.826832,
     "end_time": "2024-12-06T07:17:49.017588",
     "exception": false,
     "start_time": "2024-12-06T07:17:04.190756",
     "status": "completed"
    },
    "tags": []
   },
   "outputs": [
    {
     "name": "stdout",
     "output_type": "stream",
     "text": [
      "[==================================================] 100.0% 128.1/128.1MB downloaded\n"
     ]
    }
   ],
   "source": [
    "# Download and load pre-trained GloVe embeddings (100 dimensions)\n",
    "glove_gensim = api.load('glove-wiki-gigaword-100')\n",
    "\n",
    "# Create a weight matrix for the embedding layer\n",
    "gensim_weight_matrix = np.zeros((MAX_NUM_WORDS, EMBEDDING_DIM))  # Initialize with zeros\n",
    "\n",
    "# Populate the weight matrix with GloVe vectors for words in the tokenizer's vocabulary\n",
    "for word, index in tokenizer.word_index.items():\n",
    "    if index < MAX_NUM_WORDS:  # Ensure the index is within the specified maximum word limit\n",
    "        if word in glove_gensim.index_to_key:  # Check if the word exists in the GloVe vocabulary\n",
    "            gensim_weight_matrix[index] = glove_gensim[word]  # Assign the GloVe vector\n",
    "        else:\n",
    "            gensim_weight_matrix[index] = np.zeros(EMBEDDING_DIM)  # Assign a zero vector if the word is not found\n"
   ]
  },
  {
   "cell_type": "markdown",
   "id": "b3d31509",
   "metadata": {
    "papermill": {
     "duration": 0.772303,
     "end_time": "2024-12-06T07:17:50.576958",
     "exception": false,
     "start_time": "2024-12-06T07:17:49.804655",
     "status": "completed"
    },
    "tags": []
   },
   "source": [
    "### Build the Model"
   ]
  },
  {
   "cell_type": "code",
   "execution_count": 15,
   "id": "16343617",
   "metadata": {
    "execution": {
     "iopub.execute_input": "2024-12-06T07:17:52.075409Z",
     "iopub.status.busy": "2024-12-06T07:17:52.075069Z",
     "iopub.status.idle": "2024-12-06T07:17:53.725781Z",
     "shell.execute_reply": "2024-12-06T07:17:53.725105Z"
    },
    "papermill": {
     "duration": 2.381113,
     "end_time": "2024-12-06T07:17:53.727384",
     "exception": false,
     "start_time": "2024-12-06T07:17:51.346271",
     "status": "completed"
    },
    "tags": []
   },
   "outputs": [
    {
     "data": {
      "text/html": [
       "<pre style=\"white-space:pre;overflow-x:auto;line-height:normal;font-family:Menlo,'DejaVu Sans Mono',consolas,'Courier New',monospace\"><span style=\"font-weight: bold\">Model: \"sequential\"</span>\n",
       "</pre>\n"
      ],
      "text/plain": [
       "\u001b[1mModel: \"sequential\"\u001b[0m\n"
      ]
     },
     "metadata": {},
     "output_type": "display_data"
    },
    {
     "data": {
      "text/html": [
       "<pre style=\"white-space:pre;overflow-x:auto;line-height:normal;font-family:Menlo,'DejaVu Sans Mono',consolas,'Courier New',monospace\">┏━━━━━━━━━━━━━━━━━━━━━━━━━━━━━━━━━┳━━━━━━━━━━━━━━━━━━━━━━━━┳━━━━━━━━━━━━━━━┓\n",
       "┃<span style=\"font-weight: bold\"> Layer (type)                    </span>┃<span style=\"font-weight: bold\"> Output Shape           </span>┃<span style=\"font-weight: bold\">       Param # </span>┃\n",
       "┡━━━━━━━━━━━━━━━━━━━━━━━━━━━━━━━━━╇━━━━━━━━━━━━━━━━━━━━━━━━╇━━━━━━━━━━━━━━━┩\n",
       "│ embedding (<span style=\"color: #0087ff; text-decoration-color: #0087ff\">Embedding</span>)           │ (<span style=\"color: #00d7ff; text-decoration-color: #00d7ff\">None</span>, <span style=\"color: #00af00; text-decoration-color: #00af00\">200</span>, <span style=\"color: #00af00; text-decoration-color: #00af00\">100</span>)       │     <span style=\"color: #00af00; text-decoration-color: #00af00\">1,000,000</span> │\n",
       "├─────────────────────────────────┼────────────────────────┼───────────────┤\n",
       "│ bidirectional (<span style=\"color: #0087ff; text-decoration-color: #0087ff\">Bidirectional</span>)   │ (<span style=\"color: #00d7ff; text-decoration-color: #00d7ff\">None</span>, <span style=\"color: #00af00; text-decoration-color: #00af00\">200</span>, <span style=\"color: #00af00; text-decoration-color: #00af00\">200</span>)       │       <span style=\"color: #00af00; text-decoration-color: #00af00\">121,200</span> │\n",
       "├─────────────────────────────────┼────────────────────────┼───────────────┤\n",
       "│ dropout (<span style=\"color: #0087ff; text-decoration-color: #0087ff\">Dropout</span>)               │ (<span style=\"color: #00d7ff; text-decoration-color: #00d7ff\">None</span>, <span style=\"color: #00af00; text-decoration-color: #00af00\">200</span>, <span style=\"color: #00af00; text-decoration-color: #00af00\">200</span>)       │             <span style=\"color: #00af00; text-decoration-color: #00af00\">0</span> │\n",
       "├─────────────────────────────────┼────────────────────────┼───────────────┤\n",
       "│ bidirectional_1 (<span style=\"color: #0087ff; text-decoration-color: #0087ff\">Bidirectional</span>) │ (<span style=\"color: #00d7ff; text-decoration-color: #00d7ff\">None</span>, <span style=\"color: #00af00; text-decoration-color: #00af00\">200</span>, <span style=\"color: #00af00; text-decoration-color: #00af00\">200</span>)       │       <span style=\"color: #00af00; text-decoration-color: #00af00\">181,200</span> │\n",
       "├─────────────────────────────────┼────────────────────────┼───────────────┤\n",
       "│ dropout_1 (<span style=\"color: #0087ff; text-decoration-color: #0087ff\">Dropout</span>)             │ (<span style=\"color: #00d7ff; text-decoration-color: #00d7ff\">None</span>, <span style=\"color: #00af00; text-decoration-color: #00af00\">200</span>, <span style=\"color: #00af00; text-decoration-color: #00af00\">200</span>)       │             <span style=\"color: #00af00; text-decoration-color: #00af00\">0</span> │\n",
       "├─────────────────────────────────┼────────────────────────┼───────────────┤\n",
       "│ bidirectional_2 (<span style=\"color: #0087ff; text-decoration-color: #0087ff\">Bidirectional</span>) │ (<span style=\"color: #00d7ff; text-decoration-color: #00d7ff\">None</span>, <span style=\"color: #00af00; text-decoration-color: #00af00\">200</span>, <span style=\"color: #00af00; text-decoration-color: #00af00\">200</span>)       │       <span style=\"color: #00af00; text-decoration-color: #00af00\">181,200</span> │\n",
       "├─────────────────────────────────┼────────────────────────┼───────────────┤\n",
       "│ dropout_2 (<span style=\"color: #0087ff; text-decoration-color: #0087ff\">Dropout</span>)             │ (<span style=\"color: #00d7ff; text-decoration-color: #00d7ff\">None</span>, <span style=\"color: #00af00; text-decoration-color: #00af00\">200</span>, <span style=\"color: #00af00; text-decoration-color: #00af00\">200</span>)       │             <span style=\"color: #00af00; text-decoration-color: #00af00\">0</span> │\n",
       "├─────────────────────────────────┼────────────────────────┼───────────────┤\n",
       "│ bidirectional_3 (<span style=\"color: #0087ff; text-decoration-color: #0087ff\">Bidirectional</span>) │ (<span style=\"color: #00d7ff; text-decoration-color: #00d7ff\">None</span>, <span style=\"color: #00af00; text-decoration-color: #00af00\">200</span>)            │       <span style=\"color: #00af00; text-decoration-color: #00af00\">181,200</span> │\n",
       "├─────────────────────────────────┼────────────────────────┼───────────────┤\n",
       "│ dropout_3 (<span style=\"color: #0087ff; text-decoration-color: #0087ff\">Dropout</span>)             │ (<span style=\"color: #00d7ff; text-decoration-color: #00d7ff\">None</span>, <span style=\"color: #00af00; text-decoration-color: #00af00\">200</span>)            │             <span style=\"color: #00af00; text-decoration-color: #00af00\">0</span> │\n",
       "├─────────────────────────────────┼────────────────────────┼───────────────┤\n",
       "│ dense (<span style=\"color: #0087ff; text-decoration-color: #0087ff\">Dense</span>)                   │ (<span style=\"color: #00d7ff; text-decoration-color: #00d7ff\">None</span>, <span style=\"color: #00af00; text-decoration-color: #00af00\">64</span>)             │        <span style=\"color: #00af00; text-decoration-color: #00af00\">12,864</span> │\n",
       "├─────────────────────────────────┼────────────────────────┼───────────────┤\n",
       "│ dropout_4 (<span style=\"color: #0087ff; text-decoration-color: #0087ff\">Dropout</span>)             │ (<span style=\"color: #00d7ff; text-decoration-color: #00d7ff\">None</span>, <span style=\"color: #00af00; text-decoration-color: #00af00\">64</span>)             │             <span style=\"color: #00af00; text-decoration-color: #00af00\">0</span> │\n",
       "├─────────────────────────────────┼────────────────────────┼───────────────┤\n",
       "│ dense_1 (<span style=\"color: #0087ff; text-decoration-color: #0087ff\">Dense</span>)                 │ (<span style=\"color: #00d7ff; text-decoration-color: #00d7ff\">None</span>, <span style=\"color: #00af00; text-decoration-color: #00af00\">6</span>)              │           <span style=\"color: #00af00; text-decoration-color: #00af00\">390</span> │\n",
       "└─────────────────────────────────┴────────────────────────┴───────────────┘\n",
       "</pre>\n"
      ],
      "text/plain": [
       "┏━━━━━━━━━━━━━━━━━━━━━━━━━━━━━━━━━┳━━━━━━━━━━━━━━━━━━━━━━━━┳━━━━━━━━━━━━━━━┓\n",
       "┃\u001b[1m \u001b[0m\u001b[1mLayer (type)                   \u001b[0m\u001b[1m \u001b[0m┃\u001b[1m \u001b[0m\u001b[1mOutput Shape          \u001b[0m\u001b[1m \u001b[0m┃\u001b[1m \u001b[0m\u001b[1m      Param #\u001b[0m\u001b[1m \u001b[0m┃\n",
       "┡━━━━━━━━━━━━━━━━━━━━━━━━━━━━━━━━━╇━━━━━━━━━━━━━━━━━━━━━━━━╇━━━━━━━━━━━━━━━┩\n",
       "│ embedding (\u001b[38;5;33mEmbedding\u001b[0m)           │ (\u001b[38;5;45mNone\u001b[0m, \u001b[38;5;34m200\u001b[0m, \u001b[38;5;34m100\u001b[0m)       │     \u001b[38;5;34m1,000,000\u001b[0m │\n",
       "├─────────────────────────────────┼────────────────────────┼───────────────┤\n",
       "│ bidirectional (\u001b[38;5;33mBidirectional\u001b[0m)   │ (\u001b[38;5;45mNone\u001b[0m, \u001b[38;5;34m200\u001b[0m, \u001b[38;5;34m200\u001b[0m)       │       \u001b[38;5;34m121,200\u001b[0m │\n",
       "├─────────────────────────────────┼────────────────────────┼───────────────┤\n",
       "│ dropout (\u001b[38;5;33mDropout\u001b[0m)               │ (\u001b[38;5;45mNone\u001b[0m, \u001b[38;5;34m200\u001b[0m, \u001b[38;5;34m200\u001b[0m)       │             \u001b[38;5;34m0\u001b[0m │\n",
       "├─────────────────────────────────┼────────────────────────┼───────────────┤\n",
       "│ bidirectional_1 (\u001b[38;5;33mBidirectional\u001b[0m) │ (\u001b[38;5;45mNone\u001b[0m, \u001b[38;5;34m200\u001b[0m, \u001b[38;5;34m200\u001b[0m)       │       \u001b[38;5;34m181,200\u001b[0m │\n",
       "├─────────────────────────────────┼────────────────────────┼───────────────┤\n",
       "│ dropout_1 (\u001b[38;5;33mDropout\u001b[0m)             │ (\u001b[38;5;45mNone\u001b[0m, \u001b[38;5;34m200\u001b[0m, \u001b[38;5;34m200\u001b[0m)       │             \u001b[38;5;34m0\u001b[0m │\n",
       "├─────────────────────────────────┼────────────────────────┼───────────────┤\n",
       "│ bidirectional_2 (\u001b[38;5;33mBidirectional\u001b[0m) │ (\u001b[38;5;45mNone\u001b[0m, \u001b[38;5;34m200\u001b[0m, \u001b[38;5;34m200\u001b[0m)       │       \u001b[38;5;34m181,200\u001b[0m │\n",
       "├─────────────────────────────────┼────────────────────────┼───────────────┤\n",
       "│ dropout_2 (\u001b[38;5;33mDropout\u001b[0m)             │ (\u001b[38;5;45mNone\u001b[0m, \u001b[38;5;34m200\u001b[0m, \u001b[38;5;34m200\u001b[0m)       │             \u001b[38;5;34m0\u001b[0m │\n",
       "├─────────────────────────────────┼────────────────────────┼───────────────┤\n",
       "│ bidirectional_3 (\u001b[38;5;33mBidirectional\u001b[0m) │ (\u001b[38;5;45mNone\u001b[0m, \u001b[38;5;34m200\u001b[0m)            │       \u001b[38;5;34m181,200\u001b[0m │\n",
       "├─────────────────────────────────┼────────────────────────┼───────────────┤\n",
       "│ dropout_3 (\u001b[38;5;33mDropout\u001b[0m)             │ (\u001b[38;5;45mNone\u001b[0m, \u001b[38;5;34m200\u001b[0m)            │             \u001b[38;5;34m0\u001b[0m │\n",
       "├─────────────────────────────────┼────────────────────────┼───────────────┤\n",
       "│ dense (\u001b[38;5;33mDense\u001b[0m)                   │ (\u001b[38;5;45mNone\u001b[0m, \u001b[38;5;34m64\u001b[0m)             │        \u001b[38;5;34m12,864\u001b[0m │\n",
       "├─────────────────────────────────┼────────────────────────┼───────────────┤\n",
       "│ dropout_4 (\u001b[38;5;33mDropout\u001b[0m)             │ (\u001b[38;5;45mNone\u001b[0m, \u001b[38;5;34m64\u001b[0m)             │             \u001b[38;5;34m0\u001b[0m │\n",
       "├─────────────────────────────────┼────────────────────────┼───────────────┤\n",
       "│ dense_1 (\u001b[38;5;33mDense\u001b[0m)                 │ (\u001b[38;5;45mNone\u001b[0m, \u001b[38;5;34m6\u001b[0m)              │           \u001b[38;5;34m390\u001b[0m │\n",
       "└─────────────────────────────────┴────────────────────────┴───────────────┘\n"
      ]
     },
     "metadata": {},
     "output_type": "display_data"
    },
    {
     "data": {
      "text/html": [
       "<pre style=\"white-space:pre;overflow-x:auto;line-height:normal;font-family:Menlo,'DejaVu Sans Mono',consolas,'Courier New',monospace\"><span style=\"font-weight: bold\"> Total params: </span><span style=\"color: #00af00; text-decoration-color: #00af00\">1,678,054</span> (6.40 MB)\n",
       "</pre>\n"
      ],
      "text/plain": [
       "\u001b[1m Total params: \u001b[0m\u001b[38;5;34m1,678,054\u001b[0m (6.40 MB)\n"
      ]
     },
     "metadata": {},
     "output_type": "display_data"
    },
    {
     "data": {
      "text/html": [
       "<pre style=\"white-space:pre;overflow-x:auto;line-height:normal;font-family:Menlo,'DejaVu Sans Mono',consolas,'Courier New',monospace\"><span style=\"font-weight: bold\"> Trainable params: </span><span style=\"color: #00af00; text-decoration-color: #00af00\">678,054</span> (2.59 MB)\n",
       "</pre>\n"
      ],
      "text/plain": [
       "\u001b[1m Trainable params: \u001b[0m\u001b[38;5;34m678,054\u001b[0m (2.59 MB)\n"
      ]
     },
     "metadata": {},
     "output_type": "display_data"
    },
    {
     "data": {
      "text/html": [
       "<pre style=\"white-space:pre;overflow-x:auto;line-height:normal;font-family:Menlo,'DejaVu Sans Mono',consolas,'Courier New',monospace\"><span style=\"font-weight: bold\"> Non-trainable params: </span><span style=\"color: #00af00; text-decoration-color: #00af00\">1,000,000</span> (3.81 MB)\n",
       "</pre>\n"
      ],
      "text/plain": [
       "\u001b[1m Non-trainable params: \u001b[0m\u001b[38;5;34m1,000,000\u001b[0m (3.81 MB)\n"
      ]
     },
     "metadata": {},
     "output_type": "display_data"
    }
   ],
   "source": [
    "from tensorflow.keras.models import Sequential\n",
    "from tensorflow.keras.layers import Embedding, GRU, Dense, Dropout, Input, Bidirectional\n",
    "\n",
    "# Build the model\n",
    "model = Sequential()\n",
    "\n",
    "# Add Input layer\n",
    "model.add(Input(shape=(X.shape[1],)))  # Sequence length: 200\n",
    "\n",
    "# Embedding Layer\n",
    "model.add(Embedding(input_dim=MAX_NUM_WORDS,       # Number of words in the tokenizer\n",
    "                    output_dim=EMBEDDING_DIM,     # Embedding dimensions (e.g., 100)\n",
    "                    weights=[gensim_weight_matrix],  # Pre-trained GloVe embedding matrix\n",
    "                    trainable=False))             # Fine-tuning allowed (weights can be updated)\n",
    "\n",
    "# Bidirectional GRU Layer 1\n",
    "model.add(Bidirectional(GRU(100, return_sequences=True)))  # First Bidirectional GRU layer\n",
    "model.add(Dropout(0.2))  # Dropout to prevent overfitting\n",
    "\n",
    "# Bidirectional GRU Layer 2\n",
    "model.add(Bidirectional(GRU(100, return_sequences=True))) \n",
    "model.add(Dropout(0.2))  \n",
    "\n",
    "# Bidirectional GRU Layer 3\n",
    "model.add(Bidirectional(GRU(100, return_sequences=True)))  \n",
    "model.add(Dropout(0.2))  \n",
    "\n",
    "# Bidirectional GRU Layer 4\n",
    "model.add(Bidirectional(GRU(100, return_sequences=False)))  # Fourth Bidirectional GRU layer, not returning sequences\n",
    "model.add(Dropout(0.2))  #\n",
    "\n",
    "# Fully Connected Output Layer\n",
    "model.add(Dense(64, activation='relu'))  \n",
    "model.add(Dropout(0.2))  # Dropout to prevent overfitting\n",
    "\n",
    "# Output Layer\n",
    "model.add(Dense(y.shape[1], activation='softmax'))  # Output layer with softmax activation for multi-class classification\n",
    "\n",
    "# Compile the model\n",
    "model.compile(loss='categorical_crossentropy', optimizer='adam', metrics=['accuracy'])\n",
    "\n",
    "# Display model summary\n",
    "model.summary()\n"
   ]
  },
  {
   "cell_type": "code",
   "execution_count": null,
   "id": "8c9b18e4",
   "metadata": {
    "papermill": {
     "duration": 0.787605,
     "end_time": "2024-12-06T07:17:55.293291",
     "exception": false,
     "start_time": "2024-12-06T07:17:54.505686",
     "status": "completed"
    },
    "tags": []
   },
   "outputs": [],
   "source": []
  },
  {
   "cell_type": "markdown",
   "id": "7e5214b3",
   "metadata": {
    "papermill": {
     "duration": 0.770337,
     "end_time": "2024-12-06T07:17:56.786585",
     "exception": false,
     "start_time": "2024-12-06T07:17:56.016248",
     "status": "completed"
    },
    "tags": []
   },
   "source": [
    "### Train the Model"
   ]
  },
  {
   "cell_type": "code",
   "execution_count": 16,
   "id": "d229fc5f",
   "metadata": {
    "execution": {
     "iopub.execute_input": "2024-12-06T07:17:58.349360Z",
     "iopub.status.busy": "2024-12-06T07:17:58.348989Z",
     "iopub.status.idle": "2024-12-06T07:30:28.374192Z",
     "shell.execute_reply": "2024-12-06T07:30:28.373311Z"
    },
    "papermill": {
     "duration": 751.581448,
     "end_time": "2024-12-06T07:30:29.151036",
     "exception": false,
     "start_time": "2024-12-06T07:17:57.569588",
     "status": "completed"
    },
    "tags": []
   },
   "outputs": [
    {
     "name": "stdout",
     "output_type": "stream",
     "text": [
      "Epoch 1/100\n",
      "\u001b[1m253/253\u001b[0m \u001b[32m━━━━━━━━━━━━━━━━━━━━\u001b[0m\u001b[37m\u001b[0m \u001b[1m0s\u001b[0m 104ms/step - accuracy: 0.4841 - loss: 1.3044\n",
      "Epoch 1: val_accuracy improved from -inf to 0.74665, saving model to best_model.weights.h5\n",
      "\u001b[1m253/253\u001b[0m \u001b[32m━━━━━━━━━━━━━━━━━━━━\u001b[0m\u001b[37m\u001b[0m \u001b[1m38s\u001b[0m 122ms/step - accuracy: 0.4846 - loss: 1.3034 - val_accuracy: 0.7466 - val_loss: 0.7309\n",
      "Epoch 2/100\n",
      "\u001b[1m253/253\u001b[0m \u001b[32m━━━━━━━━━━━━━━━━━━━━\u001b[0m\u001b[37m\u001b[0m \u001b[1m0s\u001b[0m 105ms/step - accuracy: 0.7656 - loss: 0.7068\n",
      "Epoch 2: val_accuracy improved from 0.74665 to 0.81546, saving model to best_model.weights.h5\n",
      "\u001b[1m253/253\u001b[0m \u001b[32m━━━━━━━━━━━━━━━━━━━━\u001b[0m\u001b[37m\u001b[0m \u001b[1m31s\u001b[0m 121ms/step - accuracy: 0.7656 - loss: 0.7066 - val_accuracy: 0.8155 - val_loss: 0.5443\n",
      "Epoch 3/100\n",
      "\u001b[1m253/253\u001b[0m \u001b[32m━━━━━━━━━━━━━━━━━━━━\u001b[0m\u001b[37m\u001b[0m \u001b[1m0s\u001b[0m 106ms/step - accuracy: 0.8316 - loss: 0.5215\n",
      "Epoch 3: val_accuracy improved from 0.81546 to 0.85718, saving model to best_model.weights.h5\n",
      "\u001b[1m253/253\u001b[0m \u001b[32m━━━━━━━━━━━━━━━━━━━━\u001b[0m\u001b[37m\u001b[0m \u001b[1m31s\u001b[0m 122ms/step - accuracy: 0.8317 - loss: 0.5214 - val_accuracy: 0.8572 - val_loss: 0.4249\n",
      "Epoch 4/100\n",
      "\u001b[1m253/253\u001b[0m \u001b[32m━━━━━━━━━━━━━━━━━━━━\u001b[0m\u001b[37m\u001b[0m \u001b[1m0s\u001b[0m 107ms/step - accuracy: 0.8814 - loss: 0.3705\n",
      "Epoch 4: val_accuracy improved from 0.85718 to 0.87938, saving model to best_model.weights.h5\n",
      "\u001b[1m253/253\u001b[0m \u001b[32m━━━━━━━━━━━━━━━━━━━━\u001b[0m\u001b[37m\u001b[0m \u001b[1m31s\u001b[0m 124ms/step - accuracy: 0.8814 - loss: 0.3705 - val_accuracy: 0.8794 - val_loss: 0.3691\n",
      "Epoch 5/100\n",
      "\u001b[1m253/253\u001b[0m \u001b[32m━━━━━━━━━━━━━━━━━━━━\u001b[0m\u001b[37m\u001b[0m \u001b[1m0s\u001b[0m 108ms/step - accuracy: 0.9108 - loss: 0.2941\n",
      "Epoch 5: val_accuracy improved from 0.87938 to 0.91699, saving model to best_model.weights.h5\n",
      "\u001b[1m253/253\u001b[0m \u001b[32m━━━━━━━━━━━━━━━━━━━━\u001b[0m\u001b[37m\u001b[0m \u001b[1m32s\u001b[0m 125ms/step - accuracy: 0.9108 - loss: 0.2940 - val_accuracy: 0.9170 - val_loss: 0.2795\n",
      "Epoch 6/100\n",
      "\u001b[1m253/253\u001b[0m \u001b[32m━━━━━━━━━━━━━━━━━━━━\u001b[0m\u001b[37m\u001b[0m \u001b[1m0s\u001b[0m 109ms/step - accuracy: 0.9369 - loss: 0.2081\n",
      "Epoch 6: val_accuracy improved from 0.91699 to 0.93810, saving model to best_model.weights.h5\n",
      "\u001b[1m253/253\u001b[0m \u001b[32m━━━━━━━━━━━━━━━━━━━━\u001b[0m\u001b[37m\u001b[0m \u001b[1m32s\u001b[0m 126ms/step - accuracy: 0.9369 - loss: 0.2081 - val_accuracy: 0.9381 - val_loss: 0.2154\n",
      "Epoch 7/100\n",
      "\u001b[1m253/253\u001b[0m \u001b[32m━━━━━━━━━━━━━━━━━━━━\u001b[0m\u001b[37m\u001b[0m \u001b[1m0s\u001b[0m 110ms/step - accuracy: 0.9483 - loss: 0.1731\n",
      "Epoch 7: val_accuracy did not improve from 0.93810\n",
      "\u001b[1m253/253\u001b[0m \u001b[32m━━━━━━━━━━━━━━━━━━━━\u001b[0m\u001b[37m\u001b[0m \u001b[1m32s\u001b[0m 126ms/step - accuracy: 0.9483 - loss: 0.1731 - val_accuracy: 0.9331 - val_loss: 0.2340\n",
      "Epoch 8/100\n",
      "\u001b[1m253/253\u001b[0m \u001b[32m━━━━━━━━━━━━━━━━━━━━\u001b[0m\u001b[37m\u001b[0m \u001b[1m0s\u001b[0m 111ms/step - accuracy: 0.9566 - loss: 0.1428\n",
      "Epoch 8: val_accuracy improved from 0.93810 to 0.95021, saving model to best_model.weights.h5\n",
      "\u001b[1m253/253\u001b[0m \u001b[32m━━━━━━━━━━━━━━━━━━━━\u001b[0m\u001b[37m\u001b[0m \u001b[1m32s\u001b[0m 128ms/step - accuracy: 0.9566 - loss: 0.1428 - val_accuracy: 0.9502 - val_loss: 0.1914\n",
      "Epoch 9/100\n",
      "\u001b[1m253/253\u001b[0m \u001b[32m━━━━━━━━━━━━━━━━━━━━\u001b[0m\u001b[37m\u001b[0m \u001b[1m0s\u001b[0m 111ms/step - accuracy: 0.9680 - loss: 0.1122\n",
      "Epoch 9: val_accuracy did not improve from 0.95021\n",
      "\u001b[1m253/253\u001b[0m \u001b[32m━━━━━━━━━━━━━━━━━━━━\u001b[0m\u001b[37m\u001b[0m \u001b[1m32s\u001b[0m 128ms/step - accuracy: 0.9680 - loss: 0.1122 - val_accuracy: 0.9404 - val_loss: 0.2137\n",
      "Epoch 10/100\n",
      "\u001b[1m253/253\u001b[0m \u001b[32m━━━━━━━━━━━━━━━━━━━━\u001b[0m\u001b[37m\u001b[0m \u001b[1m0s\u001b[0m 111ms/step - accuracy: 0.9715 - loss: 0.0988\n",
      "Epoch 10: val_accuracy did not improve from 0.95021\n",
      "\u001b[1m253/253\u001b[0m \u001b[32m━━━━━━━━━━━━━━━━━━━━\u001b[0m\u001b[37m\u001b[0m \u001b[1m32s\u001b[0m 128ms/step - accuracy: 0.9715 - loss: 0.0988 - val_accuracy: 0.9444 - val_loss: 0.2149\n",
      "Epoch 11/100\n",
      "\u001b[1m253/253\u001b[0m \u001b[32m━━━━━━━━━━━━━━━━━━━━\u001b[0m\u001b[37m\u001b[0m \u001b[1m0s\u001b[0m 112ms/step - accuracy: 0.9761 - loss: 0.0854\n",
      "Epoch 11: val_accuracy improved from 0.95021 to 0.96116, saving model to best_model.weights.h5\n",
      "\u001b[1m253/253\u001b[0m \u001b[32m━━━━━━━━━━━━━━━━━━━━\u001b[0m\u001b[37m\u001b[0m \u001b[1m33s\u001b[0m 129ms/step - accuracy: 0.9761 - loss: 0.0854 - val_accuracy: 0.9612 - val_loss: 0.1654\n",
      "Epoch 12/100\n",
      "\u001b[1m253/253\u001b[0m \u001b[32m━━━━━━━━━━━━━━━━━━━━\u001b[0m\u001b[37m\u001b[0m \u001b[1m0s\u001b[0m 112ms/step - accuracy: 0.9759 - loss: 0.0809\n",
      "Epoch 12: val_accuracy did not improve from 0.96116\n",
      "\u001b[1m253/253\u001b[0m \u001b[32m━━━━━━━━━━━━━━━━━━━━\u001b[0m\u001b[37m\u001b[0m \u001b[1m33s\u001b[0m 129ms/step - accuracy: 0.9759 - loss: 0.0809 - val_accuracy: 0.9504 - val_loss: 0.1982\n",
      "Epoch 13/100\n",
      "\u001b[1m253/253\u001b[0m \u001b[32m━━━━━━━━━━━━━━━━━━━━\u001b[0m\u001b[37m\u001b[0m \u001b[1m0s\u001b[0m 112ms/step - accuracy: 0.9794 - loss: 0.0724\n",
      "Epoch 13: val_accuracy improved from 0.96116 to 0.96210, saving model to best_model.weights.h5\n",
      "\u001b[1m253/253\u001b[0m \u001b[32m━━━━━━━━━━━━━━━━━━━━\u001b[0m\u001b[37m\u001b[0m \u001b[1m33s\u001b[0m 129ms/step - accuracy: 0.9794 - loss: 0.0724 - val_accuracy: 0.9621 - val_loss: 0.1503\n",
      "Epoch 14/100\n",
      "\u001b[1m253/253\u001b[0m \u001b[32m━━━━━━━━━━━━━━━━━━━━\u001b[0m\u001b[37m\u001b[0m \u001b[1m0s\u001b[0m 113ms/step - accuracy: 0.9853 - loss: 0.0478\n",
      "Epoch 14: val_accuracy did not improve from 0.96210\n",
      "\u001b[1m253/253\u001b[0m \u001b[32m━━━━━━━━━━━━━━━━━━━━\u001b[0m\u001b[37m\u001b[0m \u001b[1m33s\u001b[0m 129ms/step - accuracy: 0.9853 - loss: 0.0478 - val_accuracy: 0.9533 - val_loss: 0.2084\n",
      "Epoch 15/100\n",
      "\u001b[1m253/253\u001b[0m \u001b[32m━━━━━━━━━━━━━━━━━━━━\u001b[0m\u001b[37m\u001b[0m \u001b[1m0s\u001b[0m 113ms/step - accuracy: 0.9831 - loss: 0.0568\n",
      "Epoch 15: val_accuracy did not improve from 0.96210\n",
      "\u001b[1m253/253\u001b[0m \u001b[32m━━━━━━━━━━━━━━━━━━━━\u001b[0m\u001b[37m\u001b[0m \u001b[1m33s\u001b[0m 129ms/step - accuracy: 0.9831 - loss: 0.0568 - val_accuracy: 0.9509 - val_loss: 0.2145\n",
      "Epoch 16/100\n",
      "\u001b[1m253/253\u001b[0m \u001b[32m━━━━━━━━━━━━━━━━━━━━\u001b[0m\u001b[37m\u001b[0m \u001b[1m0s\u001b[0m 113ms/step - accuracy: 0.9870 - loss: 0.0462\n",
      "Epoch 16: val_accuracy did not improve from 0.96210\n",
      "\u001b[1m253/253\u001b[0m \u001b[32m━━━━━━━━━━━━━━━━━━━━\u001b[0m\u001b[37m\u001b[0m \u001b[1m33s\u001b[0m 129ms/step - accuracy: 0.9870 - loss: 0.0462 - val_accuracy: 0.9620 - val_loss: 0.1831\n",
      "Epoch 17/100\n",
      "\u001b[1m253/253\u001b[0m \u001b[32m━━━━━━━━━━━━━━━━━━━━\u001b[0m\u001b[37m\u001b[0m \u001b[1m0s\u001b[0m 113ms/step - accuracy: 0.9858 - loss: 0.0454\n",
      "Epoch 17: val_accuracy improved from 0.96210 to 0.96224, saving model to best_model.weights.h5\n",
      "\u001b[1m253/253\u001b[0m \u001b[32m━━━━━━━━━━━━━━━━━━━━\u001b[0m\u001b[37m\u001b[0m \u001b[1m33s\u001b[0m 130ms/step - accuracy: 0.9858 - loss: 0.0454 - val_accuracy: 0.9622 - val_loss: 0.1768\n",
      "Epoch 18/100\n",
      "\u001b[1m253/253\u001b[0m \u001b[32m━━━━━━━━━━━━━━━━━━━━\u001b[0m\u001b[37m\u001b[0m \u001b[1m0s\u001b[0m 113ms/step - accuracy: 0.9890 - loss: 0.0381\n",
      "Epoch 18: val_accuracy did not improve from 0.96224\n",
      "\u001b[1m253/253\u001b[0m \u001b[32m━━━━━━━━━━━━━━━━━━━━\u001b[0m\u001b[37m\u001b[0m \u001b[1m33s\u001b[0m 129ms/step - accuracy: 0.9890 - loss: 0.0381 - val_accuracy: 0.9594 - val_loss: 0.1959\n",
      "Epoch 19/100\n",
      "\u001b[1m253/253\u001b[0m \u001b[32m━━━━━━━━━━━━━━━━━━━━\u001b[0m\u001b[37m\u001b[0m \u001b[1m0s\u001b[0m 113ms/step - accuracy: 0.9869 - loss: 0.0449\n",
      "Epoch 19: val_accuracy did not improve from 0.96224\n",
      "\u001b[1m253/253\u001b[0m \u001b[32m━━━━━━━━━━━━━━━━━━━━\u001b[0m\u001b[37m\u001b[0m \u001b[1m33s\u001b[0m 130ms/step - accuracy: 0.9869 - loss: 0.0449 - val_accuracy: 0.9591 - val_loss: 0.2108\n",
      "Epoch 20/100\n",
      "\u001b[1m253/253\u001b[0m \u001b[32m━━━━━━━━━━━━━━━━━━━━\u001b[0m\u001b[37m\u001b[0m \u001b[1m0s\u001b[0m 113ms/step - accuracy: 0.9864 - loss: 0.0451\n",
      "Epoch 20: val_accuracy did not improve from 0.96224\n",
      "\u001b[1m253/253\u001b[0m \u001b[32m━━━━━━━━━━━━━━━━━━━━\u001b[0m\u001b[37m\u001b[0m \u001b[1m33s\u001b[0m 130ms/step - accuracy: 0.9864 - loss: 0.0450 - val_accuracy: 0.9591 - val_loss: 0.1928\n",
      "Epoch 21/100\n",
      "\u001b[1m253/253\u001b[0m \u001b[32m━━━━━━━━━━━━━━━━━━━━\u001b[0m\u001b[37m\u001b[0m \u001b[1m0s\u001b[0m 113ms/step - accuracy: 0.9917 - loss: 0.0288\n",
      "Epoch 21: val_accuracy improved from 0.96224 to 0.96729, saving model to best_model.weights.h5\n",
      "\u001b[1m253/253\u001b[0m \u001b[32m━━━━━━━━━━━━━━━━━━━━\u001b[0m\u001b[37m\u001b[0m \u001b[1m33s\u001b[0m 130ms/step - accuracy: 0.9917 - loss: 0.0288 - val_accuracy: 0.9673 - val_loss: 0.1756\n",
      "Epoch 22/100\n",
      "\u001b[1m253/253\u001b[0m \u001b[32m━━━━━━━━━━━━━━━━━━━━\u001b[0m\u001b[37m\u001b[0m \u001b[1m0s\u001b[0m 113ms/step - accuracy: 0.9936 - loss: 0.0216\n",
      "Epoch 22: val_accuracy did not improve from 0.96729\n",
      "\u001b[1m253/253\u001b[0m \u001b[32m━━━━━━━━━━━━━━━━━━━━\u001b[0m\u001b[37m\u001b[0m \u001b[1m33s\u001b[0m 130ms/step - accuracy: 0.9936 - loss: 0.0217 - val_accuracy: 0.9612 - val_loss: 0.1880\n",
      "Epoch 23/100\n",
      "\u001b[1m253/253\u001b[0m \u001b[32m━━━━━━━━━━━━━━━━━━━━\u001b[0m\u001b[37m\u001b[0m \u001b[1m0s\u001b[0m 113ms/step - accuracy: 0.9900 - loss: 0.0310\n",
      "Epoch 23: val_accuracy did not improve from 0.96729\n",
      "\u001b[1m253/253\u001b[0m \u001b[32m━━━━━━━━━━━━━━━━━━━━\u001b[0m\u001b[37m\u001b[0m \u001b[1m33s\u001b[0m 130ms/step - accuracy: 0.9900 - loss: 0.0310 - val_accuracy: 0.9658 - val_loss: 0.1816\n",
      "Epoch 23: early stopping\n",
      "Best weights loaded from best_model.weights.h5\n",
      "Full model saved as best_model.keras\n",
      "Full model saved as best_model.h5\n"
     ]
    }
   ],
   "source": [
    "from tensorflow.keras.models import load_model\n",
    "\n",
    "# EarlyStopping and ModelCheckpoint for saving weights\n",
    "es = EarlyStopping(monitor='val_loss', mode='min', verbose=1, patience=10)\n",
    "mc = ModelCheckpoint('best_model.weights.h5', monitor='val_accuracy', mode='max', verbose=1, save_best_only=True, save_weights_only=True)\n",
    "\n",
    "# Train the model\n",
    "history = model.fit(\n",
    "    X_train,\n",
    "    y_train,\n",
    "    validation_data=(X_test, y_test),\n",
    "    epochs=100,\n",
    "    batch_size=128,\n",
    "    callbacks=[es, mc]\n",
    ")\n",
    "\n",
    "# After training, load the best weights\n",
    "model.load_weights('best_model.weights.h5')\n",
    "print(\"Best weights loaded from best_model.weights.h5\")\n",
    "\n",
    "# Save the full model to .keras format\n",
    "model.save('best_model.keras')\n",
    "print(\"Full model saved as best_model.keras\")\n",
    "\n",
    "# Convert the .keras file to .h5\n",
    "model.save('best_model.h5', save_format='h5')\n",
    "print(\"Full model saved as best_model.h5\")\n"
   ]
  },
  {
   "cell_type": "code",
   "execution_count": 17,
   "id": "61234c9a",
   "metadata": {
    "execution": {
     "iopub.execute_input": "2024-12-06T07:30:31.285312Z",
     "iopub.status.busy": "2024-12-06T07:30:31.284955Z",
     "iopub.status.idle": "2024-12-06T07:30:31.903408Z",
     "shell.execute_reply": "2024-12-06T07:30:31.902558Z"
    },
    "papermill": {
     "duration": 1.691256,
     "end_time": "2024-12-06T07:30:31.905369",
     "exception": false,
     "start_time": "2024-12-06T07:30:30.214113",
     "status": "completed"
    },
    "tags": []
   },
   "outputs": [
    {
     "data": {
      "image/png": "[encoded data removed]",
      "text/plain": [
       "<Figure size 1200x500 with 2 Axes>"
      ]
     },
     "metadata": {},
     "output_type": "display_data"
    }
   ],
   "source": [
    "import matplotlib.pyplot as plt\n",
    "\n",
    "# Plot for accuracy\n",
    "plt.figure(figsize=(12, 5))\n",
    "\n",
    "# Subplot for accuracy\n",
    "plt.subplot(1, 2, 1)\n",
    "plt.plot(history.history['accuracy'], label='Train Accuracy')  # Training accuracy\n",
    "plt.plot(history.history['val_accuracy'], label='Validation Accuracy')  # Validation accuracy\n",
    "plt.title('Accuracy per Epoch')  # Title of the plot\n",
    "plt.xlabel('Epochs')  # X-axis label\n",
    "plt.ylabel('Accuracy')  # Y-axis label\n",
    "plt.legend()  # Display legend\n",
    "\n",
    "# Subplot for loss\n",
    "plt.subplot(1, 2, 2)\n",
    "plt.plot(history.history['loss'], label='Train Loss')  # Training loss\n",
    "plt.plot(history.history['val_loss'], label='Validation Loss')  # Validation loss\n",
    "plt.title('Loss per Epoch')  # Title of the plot\n",
    "plt.xlabel('Epochs')  # X-axis label\n",
    "plt.ylabel('Loss')  # Y-axis label\n",
    "plt.legend()  # Display legend\n",
    "\n",
    "# Display the plot\n",
    "plt.tight_layout()  # Adjust layout for better fit\n",
    "plt.show()  # Show the plots"
   ]
  },
  {
   "cell_type": "code",
   "execution_count": 18,
   "id": "eaba60b5",
   "metadata": {
    "execution": {
     "iopub.execute_input": "2024-12-06T07:30:34.078451Z",
     "iopub.status.busy": "2024-12-06T07:30:34.078080Z",
     "iopub.status.idle": "2024-12-06T07:30:34.082443Z",
     "shell.execute_reply": "2024-12-06T07:30:34.081678Z"
    },
    "papermill": {
     "duration": 1.069818,
     "end_time": "2024-12-06T07:30:34.084083",
     "exception": false,
     "start_time": "2024-12-06T07:30:33.014265",
     "status": "completed"
    },
    "tags": []
   },
   "outputs": [],
   "source": [
    "# from sklearn.metrics import classification_report\n",
    "\n",
    "# # Get model predictions\n",
    "# y_pred = model.predict(X_test)\n",
    "\n",
    "# # Convert predictions and labels from one-hot encoding to integer labels\n",
    "# y_pred_labels = np.argmax(y_pred, axis=1)\n",
    "# y_test_labels = np.argmax(y_test, axis=1)\n",
    "\n",
    "# # Generate the classification report\n",
    "# report = classification_report(y_test_labels, y_pred_labels, target_names=df['status'].unique())\n",
    "\n",
    "# # Print the classification report\n",
    "# print(report)"
   ]
  },
  {
   "cell_type": "code",
   "execution_count": 19,
   "id": "8b78b76b",
   "metadata": {
    "execution": {
     "iopub.execute_input": "2024-12-06T07:30:36.197249Z",
     "iopub.status.busy": "2024-12-06T07:30:36.196862Z",
     "iopub.status.idle": "2024-12-06T07:30:45.993243Z",
     "shell.execute_reply": "2024-12-06T07:30:45.992428Z"
    },
    "papermill": {
     "duration": 10.852218,
     "end_time": "2024-12-06T07:30:45.994785",
     "exception": false,
     "start_time": "2024-12-06T07:30:35.142567",
     "status": "completed"
    },
    "tags": []
   },
   "outputs": [
    {
     "name": "stdout",
     "output_type": "stream",
     "text": [
      "\u001b[1m434/434\u001b[0m \u001b[32m━━━━━━━━━━━━━━━━━━━━\u001b[0m\u001b[37m\u001b[0m \u001b[1m10s\u001b[0m 22ms/step - accuracy: 0.9667 - loss: 0.1832\n",
      "Test Loss: 0.17557725310325623\n",
      "Test Accuracy: 0.9672863483428955\n"
     ]
    }
   ],
   "source": [
    "\n",
    "loss, accuracy = model.evaluate(X_test, y_test, verbose=1)\n",
    "print(f\"Test Loss: {loss}\")\n",
    "print(f\"Test Accuracy: {accuracy}\")"
   ]
  },
  {
   "cell_type": "markdown",
   "id": "a683c146",
   "metadata": {
    "papermill": {
     "duration": 1.058633,
     "end_time": "2024-12-06T07:30:48.109667",
     "exception": false,
     "start_time": "2024-12-06T07:30:47.051034",
     "status": "completed"
    },
    "tags": []
   },
   "source": [
    "### Model Evaluation"
   ]
  },
  {
   "cell_type": "code",
   "execution_count": null,
   "id": "204608f0",
   "metadata": {
    "papermill": {
     "duration": 1.077908,
     "end_time": "2024-12-06T07:30:50.248149",
     "exception": false,
     "start_time": "2024-12-06T07:30:49.170241",
     "status": "completed"
    },
    "tags": []
   },
   "outputs": [],
   "source": []
  },
  {
   "cell_type": "code",
   "execution_count": null,
   "id": "91e4eb4f",
   "metadata": {
    "papermill": {
     "duration": 1.06428,
     "end_time": "2024-12-06T07:30:52.367167",
     "exception": false,
     "start_time": "2024-12-06T07:30:51.302887",
     "status": "completed"
    },
    "tags": []
   },
   "outputs": [],
   "source": []
  }
 ],
 "metadata": {
  "kaggle": {
   "accelerator": "nvidiaTeslaT4",
   "dataSources": [
    {
     "datasetId": 5338273,
     "sourceId": 8870083,
     "sourceType": "datasetVersion"
    },
    {
     "datasetId": 6241587,
     "sourceId": 10116235,
     "sourceType": "datasetVersion"
    }
   ],
   "dockerImageVersionId": 30787,
   "isGpuEnabled": true,
   "isInternetEnabled": true,
   "language": "python",
   "sourceType": "notebook"
  },
  "kernelspec": {
   "display_name": "Python 3",
   "language": "python",
   "name": "python3"
  },
  "language_info": {
   "codemirror_mode": {
    "name": "ipython",
    "version": 3
   },
   "file_extension": ".py",
   "mimetype": "text/x-python",
   "name": "python",
   "nbconvert_exporter": "python",
   "pygments_lexer": "ipython3",
   "version": "3.10.14"
  },
  "papermill": {
   "default_parameters": {},
   "duration": 879.757405,
   "end_time": "2024-12-06T07:30:56.457404",
   "environment_variables": {},
   "exception": null,
   "input_path": "__notebook__.ipynb",
   "output_path": "__notebook__.ipynb",
   "parameters": {},
   "start_time": "2024-12-06T07:16:16.699999",
   "version": "2.6.0"
  }
 },
 "nbformat": 4,
 "nbformat_minor": 5
}
