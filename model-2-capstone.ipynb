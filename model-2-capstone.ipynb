{
 "cells": [
  {
   "cell_type": "code",
   "execution_count": 1,
   "id": "94a464d9",
   "metadata": {
    "_cell_guid": "b1076dfc-b9ad-4769-8c92-a6c4dae69d19",
    "_uuid": "8f2839f25d086af736a60e9eeb907d3b93b6e0e5",
    "execution": {
     "iopub.execute_input": "2024-11-24T19:14:49.086708Z",
     "iopub.status.busy": "2024-11-24T19:14:49.086439Z",
     "iopub.status.idle": "2024-11-24T19:14:53.811908Z",
     "shell.execute_reply": "2024-11-24T19:14:53.810862Z"
    },
    "papermill": {
     "duration": 4.739422,
     "end_time": "2024-11-24T19:14:53.814273",
     "exception": false,
     "start_time": "2024-11-24T19:14:49.074851",
     "status": "completed"
    },
    "tags": []
   },
   "outputs": [
    {
     "name": "stdout",
     "output_type": "stream",
     "text": [
      "Requirement already satisfied: spacy in /opt/conda/lib/python3.10/site-packages (3.7.6)\r\n",
      "Collecting langdetect\r\n",
      "  Downloading langdetect-1.0.9.tar.gz (981 kB)\r\n",
      "\u001b[2K     \u001b[90m━━━━━━━━━━━━━━━━━━━━━━━━━━━━━━━━━━━━━━\u001b[0m \u001b[32m981.5/981.5 kB\u001b[0m \u001b[31m13.9 MB/s\u001b[0m eta \u001b[36m0:00:00\u001b[0m\r\n",
      "\u001b[?25h  Preparing metadata (setup.py) ... \u001b[?25l-\b \bdone\r\n",
      "\u001b[?25hRequirement already satisfied: wordcloud in /opt/conda/lib/python3.10/site-packages (1.9.3)\r\n",
      "Building wheels for collected packages: langdetect\r\n",
      "  Building wheel for langdetect (setup.py) ... \u001b[?25l-\b \bdone\r\n",
      "\u001b[?25h  Created wheel for langdetect: filename=langdetect-1.0.9-py3-none-any.whl size=993227 sha256=6dcd8af8f048541965119e7a0ecdf827e6c829d07147048a021497eb45d03cf9\r\n",
      "  Stored in directory: /root/.cache/pip/wheels/95/03/7d/59ea870c70ce4e5a370638b5462a7711ab78fba2f655d05106\r\n",
      "Successfully built langdetect\r\n",
      "Installing collected packages: langdetect\r\n",
      "Successfully installed langdetect-1.0.9\r\n"
     ]
    }
   ],
   "source": [
    "!pip install spacy langdetect wordcloud --no-deps\n"
   ]
  },
  {
   "cell_type": "code",
   "execution_count": 2,
   "id": "467f3d9b",
   "metadata": {
    "execution": {
     "iopub.execute_input": "2024-11-24T19:14:53.834739Z",
     "iopub.status.busy": "2024-11-24T19:14:53.834395Z",
     "iopub.status.idle": "2024-11-24T19:15:02.320904Z",
     "shell.execute_reply": "2024-11-24T19:15:02.320204Z"
    },
    "papermill": {
     "duration": 8.498849,
     "end_time": "2024-11-24T19:15:02.322895",
     "exception": false,
     "start_time": "2024-11-24T19:14:53.824046",
     "status": "completed"
    },
    "tags": []
   },
   "outputs": [],
   "source": [
    "import pandas as pd\n",
    "import numpy as np\n",
    "import matplotlib.pyplot as plt\n",
    "import seaborn as sns\n",
    "import spacy\n",
    "import nltk\n",
    "import re\n",
    "import string\n",
    "import wordcloud\n",
    "from langdetect import detect\n",
    "from collections import Counter\n",
    "from nltk.corpus import stopwords, wordnet\n",
    "from nltk.tokenize import word_tokenize\n",
    "from nltk.stem import WordNetLemmatizer\n",
    "from wordcloud import WordCloud, STOPWORDS\n",
    "from nltk.corpus import words"
   ]
  },
  {
   "cell_type": "markdown",
   "id": "8f4b95f2",
   "metadata": {
    "papermill": {
     "duration": 0.009018,
     "end_time": "2024-11-24T19:15:02.341412",
     "exception": false,
     "start_time": "2024-11-24T19:15:02.332394",
     "status": "completed"
    },
    "tags": []
   },
   "source": [
    "## EDA"
   ]
  },
  {
   "cell_type": "markdown",
   "id": "367d471d",
   "metadata": {
    "papermill": {
     "duration": 0.009189,
     "end_time": "2024-11-24T19:15:02.359887",
     "exception": false,
     "start_time": "2024-11-24T19:15:02.350698",
     "status": "completed"
    },
    "tags": []
   },
   "source": [
    "### Read the Data"
   ]
  },
  {
   "cell_type": "code",
   "execution_count": 3,
   "id": "8e5fa190",
   "metadata": {
    "execution": {
     "iopub.execute_input": "2024-11-24T19:15:02.379836Z",
     "iopub.status.busy": "2024-11-24T19:15:02.379327Z",
     "iopub.status.idle": "2024-11-24T19:15:03.029839Z",
     "shell.execute_reply": "2024-11-24T19:15:03.028867Z"
    },
    "papermill": {
     "duration": 0.662697,
     "end_time": "2024-11-24T19:15:03.031884",
     "exception": false,
     "start_time": "2024-11-24T19:15:02.369187",
     "status": "completed"
    },
    "tags": []
   },
   "outputs": [],
   "source": [
    "data_path = '/kaggle/input/sentiment-analysis-for-mental-health/Combined Data.csv'\n",
    "df = pd.read_csv(data_path)"
   ]
  },
  {
   "cell_type": "code",
   "execution_count": 4,
   "id": "1e0442a0",
   "metadata": {
    "execution": {
     "iopub.execute_input": "2024-11-24T19:15:03.051988Z",
     "iopub.status.busy": "2024-11-24T19:15:03.051694Z",
     "iopub.status.idle": "2024-11-24T19:15:03.067542Z",
     "shell.execute_reply": "2024-11-24T19:15:03.066734Z"
    },
    "papermill": {
     "duration": 0.027693,
     "end_time": "2024-11-24T19:15:03.069207",
     "exception": false,
     "start_time": "2024-11-24T19:15:03.041514",
     "status": "completed"
    },
    "tags": []
   },
   "outputs": [
    {
     "data": {
      "text/html": [
       "<div>\n",
       "<style scoped>\n",
       "    .dataframe tbody tr th:only-of-type {\n",
       "        vertical-align: middle;\n",
       "    }\n",
       "\n",
       "    .dataframe tbody tr th {\n",
       "        vertical-align: top;\n",
       "    }\n",
       "\n",
       "    .dataframe thead th {\n",
       "        text-align: right;\n",
       "    }\n",
       "</style>\n",
       "<table border=\"1\" class=\"dataframe\">\n",
       "  <thead>\n",
       "    <tr style=\"text-align: right;\">\n",
       "      <th></th>\n",
       "      <th>Unnamed: 0</th>\n",
       "      <th>statement</th>\n",
       "      <th>status</th>\n",
       "    </tr>\n",
       "  </thead>\n",
       "  <tbody>\n",
       "    <tr>\n",
       "      <th>0</th>\n",
       "      <td>0</td>\n",
       "      <td>oh my gosh</td>\n",
       "      <td>Anxiety</td>\n",
       "    </tr>\n",
       "    <tr>\n",
       "      <th>1</th>\n",
       "      <td>1</td>\n",
       "      <td>trouble sleeping, confused mind, restless hear...</td>\n",
       "      <td>Anxiety</td>\n",
       "    </tr>\n",
       "    <tr>\n",
       "      <th>2</th>\n",
       "      <td>2</td>\n",
       "      <td>All wrong, back off dear, forward doubt. Stay ...</td>\n",
       "      <td>Anxiety</td>\n",
       "    </tr>\n",
       "    <tr>\n",
       "      <th>3</th>\n",
       "      <td>3</td>\n",
       "      <td>I've shifted my focus to something else but I'...</td>\n",
       "      <td>Anxiety</td>\n",
       "    </tr>\n",
       "    <tr>\n",
       "      <th>4</th>\n",
       "      <td>4</td>\n",
       "      <td>I'm restless and restless, it's been a month n...</td>\n",
       "      <td>Anxiety</td>\n",
       "    </tr>\n",
       "    <tr>\n",
       "      <th>5</th>\n",
       "      <td>5</td>\n",
       "      <td>every break, you must be nervous, like somethi...</td>\n",
       "      <td>Anxiety</td>\n",
       "    </tr>\n",
       "    <tr>\n",
       "      <th>6</th>\n",
       "      <td>6</td>\n",
       "      <td>I feel scared, anxious, what can I do? And may...</td>\n",
       "      <td>Anxiety</td>\n",
       "    </tr>\n",
       "    <tr>\n",
       "      <th>7</th>\n",
       "      <td>7</td>\n",
       "      <td>Have you ever felt nervous but didn't know why?</td>\n",
       "      <td>Anxiety</td>\n",
       "    </tr>\n",
       "    <tr>\n",
       "      <th>8</th>\n",
       "      <td>8</td>\n",
       "      <td>I haven't slept well for 2 days, it's like I'm...</td>\n",
       "      <td>Anxiety</td>\n",
       "    </tr>\n",
       "    <tr>\n",
       "      <th>9</th>\n",
       "      <td>9</td>\n",
       "      <td>I'm really worried, I want to cry.</td>\n",
       "      <td>Anxiety</td>\n",
       "    </tr>\n",
       "    <tr>\n",
       "      <th>10</th>\n",
       "      <td>10</td>\n",
       "      <td>always restless every night, even though I don...</td>\n",
       "      <td>Anxiety</td>\n",
       "    </tr>\n",
       "    <tr>\n",
       "      <th>11</th>\n",
       "      <td>11</td>\n",
       "      <td>I'm confused, I'm not feeling good lately. Eve...</td>\n",
       "      <td>Anxiety</td>\n",
       "    </tr>\n",
       "    <tr>\n",
       "      <th>12</th>\n",
       "      <td>12</td>\n",
       "      <td>sometimes what is needed when there is a probl...</td>\n",
       "      <td>Anxiety</td>\n",
       "    </tr>\n",
       "    <tr>\n",
       "      <th>13</th>\n",
       "      <td>13</td>\n",
       "      <td>Because this worry is you.</td>\n",
       "      <td>Anxiety</td>\n",
       "    </tr>\n",
       "    <tr>\n",
       "      <th>14</th>\n",
       "      <td>14</td>\n",
       "      <td>Sometimes it's your own thoughts that make you...</td>\n",
       "      <td>Anxiety</td>\n",
       "    </tr>\n",
       "    <tr>\n",
       "      <th>15</th>\n",
       "      <td>15</td>\n",
       "      <td>Every time I wake up, I'm definitely nervous a...</td>\n",
       "      <td>Anxiety</td>\n",
       "    </tr>\n",
       "    <tr>\n",
       "      <th>16</th>\n",
       "      <td>16</td>\n",
       "      <td>I can only hope, even though I'm worried if it...</td>\n",
       "      <td>Anxiety</td>\n",
       "    </tr>\n",
       "    <tr>\n",
       "      <th>17</th>\n",
       "      <td>17</td>\n",
       "      <td>restive = restless, restless</td>\n",
       "      <td>Anxiety</td>\n",
       "    </tr>\n",
       "    <tr>\n",
       "      <th>18</th>\n",
       "      <td>18</td>\n",
       "      <td>\"No regrets or grudges/angry at things that ha...</td>\n",
       "      <td>Anxiety</td>\n",
       "    </tr>\n",
       "    <tr>\n",
       "      <th>19</th>\n",
       "      <td>19</td>\n",
       "      <td>If the guy is sick, the girl actually feels si...</td>\n",
       "      <td>Anxiety</td>\n",
       "    </tr>\n",
       "  </tbody>\n",
       "</table>\n",
       "</div>"
      ],
      "text/plain": [
       "    Unnamed: 0                                          statement   status\n",
       "0            0                                         oh my gosh  Anxiety\n",
       "1            1  trouble sleeping, confused mind, restless hear...  Anxiety\n",
       "2            2  All wrong, back off dear, forward doubt. Stay ...  Anxiety\n",
       "3            3  I've shifted my focus to something else but I'...  Anxiety\n",
       "4            4  I'm restless and restless, it's been a month n...  Anxiety\n",
       "5            5  every break, you must be nervous, like somethi...  Anxiety\n",
       "6            6  I feel scared, anxious, what can I do? And may...  Anxiety\n",
       "7            7    Have you ever felt nervous but didn't know why?  Anxiety\n",
       "8            8  I haven't slept well for 2 days, it's like I'm...  Anxiety\n",
       "9            9                 I'm really worried, I want to cry.  Anxiety\n",
       "10          10  always restless every night, even though I don...  Anxiety\n",
       "11          11  I'm confused, I'm not feeling good lately. Eve...  Anxiety\n",
       "12          12  sometimes what is needed when there is a probl...  Anxiety\n",
       "13          13                         Because this worry is you.  Anxiety\n",
       "14          14  Sometimes it's your own thoughts that make you...  Anxiety\n",
       "15          15  Every time I wake up, I'm definitely nervous a...  Anxiety\n",
       "16          16  I can only hope, even though I'm worried if it...  Anxiety\n",
       "17          17                       restive = restless, restless  Anxiety\n",
       "18          18  \"No regrets or grudges/angry at things that ha...  Anxiety\n",
       "19          19  If the guy is sick, the girl actually feels si...  Anxiety"
      ]
     },
     "execution_count": 4,
     "metadata": {},
     "output_type": "execute_result"
    }
   ],
   "source": [
    "df.head(20)"
   ]
  },
  {
   "cell_type": "markdown",
   "id": "d6196625",
   "metadata": {
    "papermill": {
     "duration": 0.009185,
     "end_time": "2024-11-24T19:15:03.087814",
     "exception": false,
     "start_time": "2024-11-24T19:15:03.078629",
     "status": "completed"
    },
    "tags": []
   },
   "source": [
    "### Data Summary"
   ]
  },
  {
   "cell_type": "code",
   "execution_count": 5,
   "id": "0467b270",
   "metadata": {
    "execution": {
     "iopub.execute_input": "2024-11-24T19:15:03.107543Z",
     "iopub.status.busy": "2024-11-24T19:15:03.107286Z",
     "iopub.status.idle": "2024-11-24T19:15:03.123687Z",
     "shell.execute_reply": "2024-11-24T19:15:03.122772Z"
    },
    "papermill": {
     "duration": 0.02801,
     "end_time": "2024-11-24T19:15:03.125160",
     "exception": false,
     "start_time": "2024-11-24T19:15:03.097150",
     "status": "completed"
    },
    "tags": []
   },
   "outputs": [
    {
     "name": "stdout",
     "output_type": "stream",
     "text": [
      "\n",
      "Summary Statistics:\n",
      "         Unnamed: 0\n",
      "count  53043.000000\n",
      "mean   26521.000000\n",
      "std    15312.339501\n",
      "min        0.000000\n",
      "25%    13260.500000\n",
      "50%    26521.000000\n",
      "75%    39781.500000\n",
      "max    53042.000000\n"
     ]
    }
   ],
   "source": [
    "print(\"\\nSummary Statistics:\")\n",
    "print(df.describe())"
   ]
  },
  {
   "cell_type": "markdown",
   "id": "90238007",
   "metadata": {
    "papermill": {
     "duration": 0.009409,
     "end_time": "2024-11-24T19:15:03.144022",
     "exception": false,
     "start_time": "2024-11-24T19:15:03.134613",
     "status": "completed"
    },
    "tags": []
   },
   "source": [
    "### Check for Missing Value"
   ]
  },
  {
   "cell_type": "code",
   "execution_count": 6,
   "id": "fb1f93c3",
   "metadata": {
    "execution": {
     "iopub.execute_input": "2024-11-24T19:15:03.163809Z",
     "iopub.status.busy": "2024-11-24T19:15:03.163539Z",
     "iopub.status.idle": "2024-11-24T19:15:03.174038Z",
     "shell.execute_reply": "2024-11-24T19:15:03.173213Z"
    },
    "papermill": {
     "duration": 0.022205,
     "end_time": "2024-11-24T19:15:03.175638",
     "exception": false,
     "start_time": "2024-11-24T19:15:03.153433",
     "status": "completed"
    },
    "tags": []
   },
   "outputs": [
    {
     "name": "stdout",
     "output_type": "stream",
     "text": [
      "\n",
      "Missing Values:\n",
      "Unnamed: 0      0\n",
      "statement     362\n",
      "status          0\n",
      "dtype: int64\n"
     ]
    }
   ],
   "source": [
    "print(\"\\nMissing Values:\")\n",
    "print(df.isnull().sum())"
   ]
  },
  {
   "cell_type": "code",
   "execution_count": 7,
   "id": "a2fba11c",
   "metadata": {
    "execution": {
     "iopub.execute_input": "2024-11-24T19:15:03.197680Z",
     "iopub.status.busy": "2024-11-24T19:15:03.197421Z",
     "iopub.status.idle": "2024-11-24T19:15:03.209410Z",
     "shell.execute_reply": "2024-11-24T19:15:03.208434Z"
    },
    "papermill": {
     "duration": 0.024354,
     "end_time": "2024-11-24T19:15:03.211064",
     "exception": false,
     "start_time": "2024-11-24T19:15:03.186710",
     "status": "completed"
    },
    "tags": []
   },
   "outputs": [
    {
     "name": "stdout",
     "output_type": "stream",
     "text": [
      "       Unnamed: 0 statement   status\n",
      "293           293       NaN  Anxiety\n",
      "572           572       NaN  Anxiety\n",
      "595           595       NaN  Anxiety\n",
      "1539         1539       NaN   Normal\n",
      "2448         2448       NaN   Normal\n",
      "...           ...       ...      ...\n",
      "52838       52838       NaN  Anxiety\n",
      "52870       52870       NaN  Anxiety\n",
      "52936       52936       NaN  Anxiety\n",
      "53010       53010       NaN  Anxiety\n",
      "53031       53031       NaN  Anxiety\n",
      "\n",
      "[362 rows x 3 columns]\n"
     ]
    }
   ],
   "source": [
    "# Display rows with missing values in the 'statement' column\n",
    "null_df = df[df['statement'].isnull()]\n",
    "print(null_df)\n"
   ]
  },
  {
   "cell_type": "markdown",
   "id": "0429cdc7",
   "metadata": {
    "papermill": {
     "duration": 0.009329,
     "end_time": "2024-11-24T19:15:03.229901",
     "exception": false,
     "start_time": "2024-11-24T19:15:03.220572",
     "status": "completed"
    },
    "tags": []
   },
   "source": [
    "### Label Distribution"
   ]
  },
  {
   "cell_type": "code",
   "execution_count": 8,
   "id": "f72edfac",
   "metadata": {
    "execution": {
     "iopub.execute_input": "2024-11-24T19:15:03.250279Z",
     "iopub.status.busy": "2024-11-24T19:15:03.249922Z",
     "iopub.status.idle": "2024-11-24T19:15:03.666693Z",
     "shell.execute_reply": "2024-11-24T19:15:03.665838Z"
    },
    "papermill": {
     "duration": 0.428985,
     "end_time": "2024-11-24T19:15:03.668339",
     "exception": false,
     "start_time": "2024-11-24T19:15:03.239354",
     "status": "completed"
    },
    "tags": []
   },
   "outputs": [
    {
     "data": {
      "image/png": "[encoded data removed]",
      "text/plain": [
       "<Figure size 1200x800 with 1 Axes>"
      ]
     },
     "metadata": {},
     "output_type": "display_data"
    }
   ],
   "source": [
    "plt.figure(figsize=(12,8))\n",
    "\n",
    "# get the unique status values and their counts\n",
    "status_counts = df['status'].value_counts()\n",
    "\n",
    "# create the bar plot\n",
    "ax = status_counts.plot(kind='bar')\n",
    "\n",
    "# add the count labels on top of each bar\n",
    "for i, v in enumerate(status_counts):\n",
    "    ax.text(i, v, str(v), ha='center', va='bottom')\n",
    "\n",
    "plt.title('Statement distribution by status')\n",
    "plt.xlabel('Status')\n",
    "plt.ylabel('Count')\n",
    "plt.tight_layout()\n",
    "plt.show() "
   ]
  },
  {
   "cell_type": "markdown",
   "id": "d92cae41",
   "metadata": {
    "papermill": {
     "duration": 0.010382,
     "end_time": "2024-11-24T19:15:03.689459",
     "exception": false,
     "start_time": "2024-11-24T19:15:03.679077",
     "status": "completed"
    },
    "tags": []
   },
   "source": [
    "### Check for Duplicate Data"
   ]
  },
  {
   "cell_type": "code",
   "execution_count": 9,
   "id": "ca56ed6b",
   "metadata": {
    "execution": {
     "iopub.execute_input": "2024-11-24T19:15:03.711127Z",
     "iopub.status.busy": "2024-11-24T19:15:03.710855Z",
     "iopub.status.idle": "2024-11-24T19:15:03.751967Z",
     "shell.execute_reply": "2024-11-24T19:15:03.750946Z"
    },
    "papermill": {
     "duration": 0.053843,
     "end_time": "2024-11-24T19:15:03.753545",
     "exception": false,
     "start_time": "2024-11-24T19:15:03.699702",
     "status": "completed"
    },
    "tags": []
   },
   "outputs": [
    {
     "name": "stdout",
     "output_type": "stream",
     "text": [
      "Number of duplicate rows: 0\n"
     ]
    }
   ],
   "source": [
    "duplicate_count = df.duplicated().sum()\n",
    "print(f\"Number of duplicate rows: {duplicate_count}\")"
   ]
  },
  {
   "cell_type": "markdown",
   "id": "ad2bc4d1",
   "metadata": {
    "papermill": {
     "duration": 0.010221,
     "end_time": "2024-11-24T19:15:03.774116",
     "exception": false,
     "start_time": "2024-11-24T19:15:03.763895",
     "status": "completed"
    },
    "tags": []
   },
   "source": [
    "### Display the word cloud for each Label"
   ]
  },
  {
   "cell_type": "code",
   "execution_count": 10,
   "id": "8183baef",
   "metadata": {
    "execution": {
     "iopub.execute_input": "2024-11-24T19:15:03.795666Z",
     "iopub.status.busy": "2024-11-24T19:15:03.795382Z",
     "iopub.status.idle": "2024-11-24T19:15:03.798839Z",
     "shell.execute_reply": "2024-11-24T19:15:03.798185Z"
    },
    "papermill": {
     "duration": 0.016008,
     "end_time": "2024-11-24T19:15:03.800397",
     "exception": false,
     "start_time": "2024-11-24T19:15:03.784389",
     "status": "completed"
    },
    "tags": []
   },
   "outputs": [],
   "source": [
    "# categories = df['status'].value_counts().index\n",
    "\n",
    "# for cat in categories:\n",
    "#     statements = \" \".join(df[df['status']==cat]['statement'])\n",
    "    \n",
    "#     wordcloud = WordCloud(width=800, height=400).generate(statements)\n",
    "#     plt.figure(figsize=(10, 5))\n",
    "#     plt.imshow(wordcloud, interpolation='bilinear')\n",
    "#     plt.title(cat)\n",
    "#     plt.axis('off')\n",
    "#     plt.show()"
   ]
  },
  {
   "cell_type": "markdown",
   "id": "dbe4deda",
   "metadata": {
    "papermill": {
     "duration": 0.010111,
     "end_time": "2024-11-24T19:15:03.820774",
     "exception": false,
     "start_time": "2024-11-24T19:15:03.810663",
     "status": "completed"
    },
    "tags": []
   },
   "source": [
    "## Data Preprocessing"
   ]
  },
  {
   "cell_type": "markdown",
   "id": "cda1055a",
   "metadata": {
    "papermill": {
     "duration": 0.010085,
     "end_time": "2024-11-24T19:15:03.841121",
     "exception": false,
     "start_time": "2024-11-24T19:15:03.831036",
     "status": "completed"
    },
    "tags": []
   },
   "source": [
    "### Remove the Data with 'Suicidal' Label"
   ]
  },
  {
   "cell_type": "markdown",
   "id": "95fe8c17",
   "metadata": {
    "papermill": {
     "duration": 0.01059,
     "end_time": "2024-11-24T19:15:03.861960",
     "exception": false,
     "start_time": "2024-11-24T19:15:03.851370",
     "status": "completed"
    },
    "tags": []
   },
   "source": [
    "Remove the data with Suicidal status, because we're gonna use the model to classify the detail about the suicidal tension of a text"
   ]
  },
  {
   "cell_type": "code",
   "execution_count": 11,
   "id": "d74acd58",
   "metadata": {
    "execution": {
     "iopub.execute_input": "2024-11-24T19:15:03.883433Z",
     "iopub.status.busy": "2024-11-24T19:15:03.883185Z",
     "iopub.status.idle": "2024-11-24T19:15:03.891863Z",
     "shell.execute_reply": "2024-11-24T19:15:03.891278Z"
    },
    "papermill": {
     "duration": 0.021093,
     "end_time": "2024-11-24T19:15:03.893366",
     "exception": false,
     "start_time": "2024-11-24T19:15:03.872273",
     "status": "completed"
    },
    "tags": []
   },
   "outputs": [],
   "source": [
    "# Remove rows where 'status' is 'sucidal'\n",
    "df = df[df['status'] != 'Suicidal']\n",
    "\n"
   ]
  },
  {
   "cell_type": "code",
   "execution_count": 12,
   "id": "392f62a2",
   "metadata": {
    "execution": {
     "iopub.execute_input": "2024-11-24T19:15:03.914982Z",
     "iopub.status.busy": "2024-11-24T19:15:03.914678Z",
     "iopub.status.idle": "2024-11-24T19:15:03.920318Z",
     "shell.execute_reply": "2024-11-24T19:15:03.919620Z"
    },
    "papermill": {
     "duration": 0.018194,
     "end_time": "2024-11-24T19:15:03.921894",
     "exception": false,
     "start_time": "2024-11-24T19:15:03.903700",
     "status": "completed"
    },
    "tags": []
   },
   "outputs": [
    {
     "name": "stdout",
     "output_type": "stream",
     "text": [
      "['Anxiety' 'Normal' 'Depression' 'Stress' 'Bipolar' 'Personality disorder']\n"
     ]
    }
   ],
   "source": [
    "# Display unique values in the 'status' column\n",
    "print(df['status'].unique())\n"
   ]
  },
  {
   "cell_type": "markdown",
   "id": "22c70d64",
   "metadata": {
    "papermill": {
     "duration": 0.010398,
     "end_time": "2024-11-24T19:15:03.942835",
     "exception": false,
     "start_time": "2024-11-24T19:15:03.932437",
     "status": "completed"
    },
    "tags": []
   },
   "source": [
    "### Drop the Data row with missing value"
   ]
  },
  {
   "cell_type": "code",
   "execution_count": 13,
   "id": "3a5c5ed3",
   "metadata": {
    "execution": {
     "iopub.execute_input": "2024-11-24T19:15:03.964877Z",
     "iopub.status.busy": "2024-11-24T19:15:03.964661Z",
     "iopub.status.idle": "2024-11-24T19:15:03.980687Z",
     "shell.execute_reply": "2024-11-24T19:15:03.979866Z"
    },
    "papermill": {
     "duration": 0.028851,
     "end_time": "2024-11-24T19:15:03.982233",
     "exception": false,
     "start_time": "2024-11-24T19:15:03.953382",
     "status": "completed"
    },
    "tags": []
   },
   "outputs": [
    {
     "name": "stdout",
     "output_type": "stream",
     "text": [
      "\n",
      "Updated Missing Values:\n",
      "Unnamed: 0    0\n",
      "statement     0\n",
      "status        0\n",
      "dtype: int64\n"
     ]
    }
   ],
   "source": [
    "# Drop rows with missing values in the 'statement' column\n",
    "df.dropna(subset=['statement'], inplace=True)\n",
    "\n",
    "# Verify if missing values are removed\n",
    "print(\"\\nUpdated Missing Values:\")\n",
    "print(df.isnull().sum())\n"
   ]
  },
  {
   "cell_type": "markdown",
   "id": "769d4e51",
   "metadata": {
    "papermill": {
     "duration": 0.0104,
     "end_time": "2024-11-24T19:15:04.003166",
     "exception": false,
     "start_time": "2024-11-24T19:15:03.992766",
     "status": "completed"
    },
    "tags": []
   },
   "source": [
    "### Lowercase the statement"
   ]
  },
  {
   "cell_type": "code",
   "execution_count": 14,
   "id": "80778cd9",
   "metadata": {
    "execution": {
     "iopub.execute_input": "2024-11-24T19:15:04.025357Z",
     "iopub.status.busy": "2024-11-24T19:15:04.025104Z",
     "iopub.status.idle": "2024-11-24T19:15:04.105961Z",
     "shell.execute_reply": "2024-11-24T19:15:04.105320Z"
    },
    "papermill": {
     "duration": 0.09403,
     "end_time": "2024-11-24T19:15:04.107701",
     "exception": false,
     "start_time": "2024-11-24T19:15:04.013671",
     "status": "completed"
    },
    "tags": []
   },
   "outputs": [],
   "source": [
    "df['statement'] = df['statement'].str.lower()"
   ]
  },
  {
   "cell_type": "code",
   "execution_count": 15,
   "id": "5c5a7883",
   "metadata": {
    "execution": {
     "iopub.execute_input": "2024-11-24T19:15:04.132035Z",
     "iopub.status.busy": "2024-11-24T19:15:04.131739Z",
     "iopub.status.idle": "2024-11-24T19:15:04.141524Z",
     "shell.execute_reply": "2024-11-24T19:15:04.140790Z"
    },
    "papermill": {
     "duration": 0.024336,
     "end_time": "2024-11-24T19:15:04.143071",
     "exception": false,
     "start_time": "2024-11-24T19:15:04.118735",
     "status": "completed"
    },
    "tags": []
   },
   "outputs": [
    {
     "data": {
      "text/html": [
       "<div>\n",
       "<style scoped>\n",
       "    .dataframe tbody tr th:only-of-type {\n",
       "        vertical-align: middle;\n",
       "    }\n",
       "\n",
       "    .dataframe tbody tr th {\n",
       "        vertical-align: top;\n",
       "    }\n",
       "\n",
       "    .dataframe thead th {\n",
       "        text-align: right;\n",
       "    }\n",
       "</style>\n",
       "<table border=\"1\" class=\"dataframe\">\n",
       "  <thead>\n",
       "    <tr style=\"text-align: right;\">\n",
       "      <th></th>\n",
       "      <th>Unnamed: 0</th>\n",
       "      <th>statement</th>\n",
       "      <th>status</th>\n",
       "    </tr>\n",
       "  </thead>\n",
       "  <tbody>\n",
       "    <tr>\n",
       "      <th>0</th>\n",
       "      <td>0</td>\n",
       "      <td>oh my gosh</td>\n",
       "      <td>Anxiety</td>\n",
       "    </tr>\n",
       "    <tr>\n",
       "      <th>1</th>\n",
       "      <td>1</td>\n",
       "      <td>trouble sleeping, confused mind, restless hear...</td>\n",
       "      <td>Anxiety</td>\n",
       "    </tr>\n",
       "    <tr>\n",
       "      <th>2</th>\n",
       "      <td>2</td>\n",
       "      <td>all wrong, back off dear, forward doubt. stay ...</td>\n",
       "      <td>Anxiety</td>\n",
       "    </tr>\n",
       "    <tr>\n",
       "      <th>3</th>\n",
       "      <td>3</td>\n",
       "      <td>i've shifted my focus to something else but i'...</td>\n",
       "      <td>Anxiety</td>\n",
       "    </tr>\n",
       "    <tr>\n",
       "      <th>4</th>\n",
       "      <td>4</td>\n",
       "      <td>i'm restless and restless, it's been a month n...</td>\n",
       "      <td>Anxiety</td>\n",
       "    </tr>\n",
       "    <tr>\n",
       "      <th>5</th>\n",
       "      <td>5</td>\n",
       "      <td>every break, you must be nervous, like somethi...</td>\n",
       "      <td>Anxiety</td>\n",
       "    </tr>\n",
       "    <tr>\n",
       "      <th>6</th>\n",
       "      <td>6</td>\n",
       "      <td>i feel scared, anxious, what can i do? and may...</td>\n",
       "      <td>Anxiety</td>\n",
       "    </tr>\n",
       "    <tr>\n",
       "      <th>7</th>\n",
       "      <td>7</td>\n",
       "      <td>have you ever felt nervous but didn't know why?</td>\n",
       "      <td>Anxiety</td>\n",
       "    </tr>\n",
       "    <tr>\n",
       "      <th>8</th>\n",
       "      <td>8</td>\n",
       "      <td>i haven't slept well for 2 days, it's like i'm...</td>\n",
       "      <td>Anxiety</td>\n",
       "    </tr>\n",
       "    <tr>\n",
       "      <th>9</th>\n",
       "      <td>9</td>\n",
       "      <td>i'm really worried, i want to cry.</td>\n",
       "      <td>Anxiety</td>\n",
       "    </tr>\n",
       "  </tbody>\n",
       "</table>\n",
       "</div>"
      ],
      "text/plain": [
       "   Unnamed: 0                                          statement   status\n",
       "0           0                                         oh my gosh  Anxiety\n",
       "1           1  trouble sleeping, confused mind, restless hear...  Anxiety\n",
       "2           2  all wrong, back off dear, forward doubt. stay ...  Anxiety\n",
       "3           3  i've shifted my focus to something else but i'...  Anxiety\n",
       "4           4  i'm restless and restless, it's been a month n...  Anxiety\n",
       "5           5  every break, you must be nervous, like somethi...  Anxiety\n",
       "6           6  i feel scared, anxious, what can i do? and may...  Anxiety\n",
       "7           7    have you ever felt nervous but didn't know why?  Anxiety\n",
       "8           8  i haven't slept well for 2 days, it's like i'm...  Anxiety\n",
       "9           9                 i'm really worried, i want to cry.  Anxiety"
      ]
     },
     "execution_count": 15,
     "metadata": {},
     "output_type": "execute_result"
    }
   ],
   "source": [
    "df.head(10)"
   ]
  },
  {
   "cell_type": "markdown",
   "id": "831bbe7d",
   "metadata": {
    "papermill": {
     "duration": 0.010726,
     "end_time": "2024-11-24T19:15:04.164908",
     "exception": false,
     "start_time": "2024-11-24T19:15:04.154182",
     "status": "completed"
    },
    "tags": []
   },
   "source": [
    "### Replace \"’\" with \"'\""
   ]
  },
  {
   "cell_type": "code",
   "execution_count": 16,
   "id": "41041223",
   "metadata": {
    "execution": {
     "iopub.execute_input": "2024-11-24T19:15:04.189718Z",
     "iopub.status.busy": "2024-11-24T19:15:04.189379Z",
     "iopub.status.idle": "2024-11-24T19:15:04.212268Z",
     "shell.execute_reply": "2024-11-24T19:15:04.211698Z"
    },
    "papermill": {
     "duration": 0.037869,
     "end_time": "2024-11-24T19:15:04.213852",
     "exception": false,
     "start_time": "2024-11-24T19:15:04.175983",
     "status": "completed"
    },
    "tags": []
   },
   "outputs": [],
   "source": [
    "df['statement'] = df['statement'].str.replace(\"’\", \"'\")"
   ]
  },
  {
   "cell_type": "code",
   "execution_count": 17,
   "id": "05f51978",
   "metadata": {
    "execution": {
     "iopub.execute_input": "2024-11-24T19:15:04.236684Z",
     "iopub.status.busy": "2024-11-24T19:15:04.236407Z",
     "iopub.status.idle": "2024-11-24T19:15:04.244343Z",
     "shell.execute_reply": "2024-11-24T19:15:04.243631Z"
    },
    "papermill": {
     "duration": 0.021284,
     "end_time": "2024-11-24T19:15:04.246152",
     "exception": false,
     "start_time": "2024-11-24T19:15:04.224868",
     "status": "completed"
    },
    "tags": []
   },
   "outputs": [
    {
     "data": {
      "text/html": [
       "<div>\n",
       "<style scoped>\n",
       "    .dataframe tbody tr th:only-of-type {\n",
       "        vertical-align: middle;\n",
       "    }\n",
       "\n",
       "    .dataframe tbody tr th {\n",
       "        vertical-align: top;\n",
       "    }\n",
       "\n",
       "    .dataframe thead th {\n",
       "        text-align: right;\n",
       "    }\n",
       "</style>\n",
       "<table border=\"1\" class=\"dataframe\">\n",
       "  <thead>\n",
       "    <tr style=\"text-align: right;\">\n",
       "      <th></th>\n",
       "      <th>Unnamed: 0</th>\n",
       "      <th>statement</th>\n",
       "      <th>status</th>\n",
       "    </tr>\n",
       "  </thead>\n",
       "  <tbody>\n",
       "    <tr>\n",
       "      <th>0</th>\n",
       "      <td>0</td>\n",
       "      <td>oh my gosh</td>\n",
       "      <td>Anxiety</td>\n",
       "    </tr>\n",
       "    <tr>\n",
       "      <th>1</th>\n",
       "      <td>1</td>\n",
       "      <td>trouble sleeping, confused mind, restless hear...</td>\n",
       "      <td>Anxiety</td>\n",
       "    </tr>\n",
       "    <tr>\n",
       "      <th>2</th>\n",
       "      <td>2</td>\n",
       "      <td>all wrong, back off dear, forward doubt. stay ...</td>\n",
       "      <td>Anxiety</td>\n",
       "    </tr>\n",
       "    <tr>\n",
       "      <th>3</th>\n",
       "      <td>3</td>\n",
       "      <td>i've shifted my focus to something else but i'...</td>\n",
       "      <td>Anxiety</td>\n",
       "    </tr>\n",
       "    <tr>\n",
       "      <th>4</th>\n",
       "      <td>4</td>\n",
       "      <td>i'm restless and restless, it's been a month n...</td>\n",
       "      <td>Anxiety</td>\n",
       "    </tr>\n",
       "    <tr>\n",
       "      <th>5</th>\n",
       "      <td>5</td>\n",
       "      <td>every break, you must be nervous, like somethi...</td>\n",
       "      <td>Anxiety</td>\n",
       "    </tr>\n",
       "    <tr>\n",
       "      <th>6</th>\n",
       "      <td>6</td>\n",
       "      <td>i feel scared, anxious, what can i do? and may...</td>\n",
       "      <td>Anxiety</td>\n",
       "    </tr>\n",
       "    <tr>\n",
       "      <th>7</th>\n",
       "      <td>7</td>\n",
       "      <td>have you ever felt nervous but didn't know why?</td>\n",
       "      <td>Anxiety</td>\n",
       "    </tr>\n",
       "    <tr>\n",
       "      <th>8</th>\n",
       "      <td>8</td>\n",
       "      <td>i haven't slept well for 2 days, it's like i'm...</td>\n",
       "      <td>Anxiety</td>\n",
       "    </tr>\n",
       "    <tr>\n",
       "      <th>9</th>\n",
       "      <td>9</td>\n",
       "      <td>i'm really worried, i want to cry.</td>\n",
       "      <td>Anxiety</td>\n",
       "    </tr>\n",
       "  </tbody>\n",
       "</table>\n",
       "</div>"
      ],
      "text/plain": [
       "   Unnamed: 0                                          statement   status\n",
       "0           0                                         oh my gosh  Anxiety\n",
       "1           1  trouble sleeping, confused mind, restless hear...  Anxiety\n",
       "2           2  all wrong, back off dear, forward doubt. stay ...  Anxiety\n",
       "3           3  i've shifted my focus to something else but i'...  Anxiety\n",
       "4           4  i'm restless and restless, it's been a month n...  Anxiety\n",
       "5           5  every break, you must be nervous, like somethi...  Anxiety\n",
       "6           6  i feel scared, anxious, what can i do? and may...  Anxiety\n",
       "7           7    have you ever felt nervous but didn't know why?  Anxiety\n",
       "8           8  i haven't slept well for 2 days, it's like i'm...  Anxiety\n",
       "9           9                 i'm really worried, i want to cry.  Anxiety"
      ]
     },
     "execution_count": 17,
     "metadata": {},
     "output_type": "execute_result"
    }
   ],
   "source": [
    "df.head(10)"
   ]
  },
  {
   "cell_type": "markdown",
   "id": "4572ef75",
   "metadata": {
    "papermill": {
     "duration": 0.016652,
     "end_time": "2024-11-24T19:15:04.275198",
     "exception": false,
     "start_time": "2024-11-24T19:15:04.258546",
     "status": "completed"
    },
    "tags": []
   },
   "source": [
    "### Replace the Abbreviations"
   ]
  },
  {
   "cell_type": "code",
   "execution_count": 18,
   "id": "507976a1",
   "metadata": {
    "execution": {
     "iopub.execute_input": "2024-11-24T19:15:04.309730Z",
     "iopub.status.busy": "2024-11-24T19:15:04.309446Z",
     "iopub.status.idle": "2024-11-24T19:15:04.319970Z",
     "shell.execute_reply": "2024-11-24T19:15:04.319121Z"
    },
    "papermill": {
     "duration": 0.031395,
     "end_time": "2024-11-24T19:15:04.322521",
     "exception": false,
     "start_time": "2024-11-24T19:15:04.291126",
     "status": "completed"
    },
    "tags": []
   },
   "outputs": [],
   "source": [
    "abb = {\n",
    "  \"ain't\": \"am not\",\n",
    "  \"aren't\": \"are not\",\n",
    "  \"can't\": \"cannot\",\n",
    "  \"can't've\": \"cannot have\",\n",
    "  \"'cause\": \"because\",\n",
    "  \"could've\": \"could have\",\n",
    "  \"couldn't\": \"could not\",\n",
    "  \"couldn't've\": \"could not have\",\n",
    "  \"didn't\": \"did not\",\n",
    "  \"doesn't\": \"does not\",\n",
    "  \"don't\": \"do not\",\n",
    "  \"dont\": \"do not\",\n",
    "  \"hadn't\": \"had not\",\n",
    "  \"hadn't've\": \"had not have\",\n",
    "  \"hasn't\": \"has not\",\n",
    "  \"haven't\": \"have not\",\n",
    "  \"he'd\": \"he would\",\n",
    "  \"idk\": \"i do not know\",\n",
    "  \"he'd've\": \"he would have\",\n",
    "  \"he'll\": \"he will\",  \"he'll've\": \"he will have\",\n",
    "  \"he's\": \"he is\",\n",
    "  \"how'd\": \"how did\",\n",
    "  \"how'd'y\": \"how do you\",\n",
    "  \"how'll\": \"how will\",\n",
    "  \"how's\": \"how is\",\n",
    "  \"i'd\": \"i would\",\n",
    "  \"i'd've\": \"i would have\",\n",
    "  \"i'll\": \"i will\",\n",
    "  \"i'll've\": \"i will have\",\n",
    "  \"i'm\": \"i am\",\n",
    "  \"im\": \"i am\",\n",
    "  \"i've\": \"i have\",\n",
    "  \"isn't\": \"is not\",\n",
    "  \"it'd\": \"it had\",\n",
    "  \"it'd've\": \"it would have\",\n",
    "  \"it'll\": \"it will\",\n",
    "  \"it'll've\": \"it will have\",\n",
    "  \"it's\": \"it is\", \"let's\": \"let us\",\n",
    "  \"ma'am\": \"madam\",\n",
    "  \"mayn't\": \"may not\",\n",
    "  \"might've\": \"might have\",\n",
    "  \"mightn't\": \"might not\",\n",
    "  \"mightn't've\": \"might not have\",\n",
    "  \"must've\": \"must have\",\n",
    "  \"mustn't\": \"must not\",\n",
    "  \"mustn't've\": \"must not have\",\n",
    "  \"needn't\": \"need not\",\n",
    "  \"needn't've\": \"need not have\",\n",
    "  \"o'clock\": \"of the clock\",\n",
    "  \"oughtn't\": \"ought not\",\n",
    "  \"oughtn't've\": \"ought not have\",\n",
    "  \"shan't\": \"shall not\",\n",
    "  \"sha'n't\": \"shall not\",\n",
    "  \"shan't've\": \"shall not have\",\n",
    "  \"she'd\": \"she would\",\n",
    "  \"she'd've\": \"she would have\", \"she'll\": \"she will\",\n",
    "  \"she'll've\": \"she will have\",\n",
    "  \"she's\": \"she is\",\n",
    "  \"should've\": \"should have\",\n",
    "  \"shouldn't\": \"should not\",\n",
    "  \"shouldn't've\": \"should not have\",\n",
    "  \"so've\": \"so have\",\n",
    "  \"so's\": \"so is\",\n",
    "  \"that'd\": \"that would\",\n",
    "  \"that'd've\": \"that would have\",\n",
    "  \"that's\": \"that is\",\n",
    "  \"there'd\": \"there had\",\n",
    "  \"there'd've\": \"there would have\",\n",
    "  \"there's\": \"there is\",\n",
    "  \"they'd\": \"they would\",\n",
    "  \"they'd've\": \"they would have\",\n",
    "  \"they'll\": \"they will\",\n",
    "  \"they'll've\": \"they will have\",\n",
    "  \"they're\": \"they are\",\n",
    "  \"they've\": \"they have\",      \"to've\": \"to have\",\n",
    "  \"wasn't\": \"was not\",\n",
    "  \"we'd\": \"we had\",\n",
    "  \"we'd've\": \"we would have\",\n",
    "  \"we'll\": \"we will\",\n",
    "  \"we'll've\": \"we will have\",\n",
    "  \"we're\": \"we are\",\n",
    "  \"we've\": \"we have\",\n",
    "  \"weren't\": \"were not\",\n",
    "  \"what'll\": \"what will\",\n",
    "  \"what'll've\": \"what will have\",\n",
    "  \"what're\": \"what are\",\n",
    "  \"what's\": \"what is\",\n",
    "  \"what've\": \"what have\",\n",
    "  \"when's\": \"when is\",\n",
    "  \"when've\": \"when have\",\n",
    "  \"where'd\": \"where did\",\n",
    "  \"where's\": \"where is\",\n",
    "  \"where've\": \"where have\", \"who'll\": \"who will\",\n",
    "  \"who'll've\": \"who will have\",\n",
    "  \"who's\": \"who is\",\n",
    "  \"who've\": \"who have\",\n",
    "  \"why's\": \"why is\",\n",
    "  \"why've\": \"why have\",\n",
    "  \"will've\": \"will have\",\n",
    "  \"won't\": \"will not\",\n",
    "  \"won't've\": \"will not have\",\n",
    "  \"would've\": \"would have\",\n",
    "  \"wouldn't\": \"would not\",\n",
    "  \"wouldn't've\": \"would not have\",\n",
    "  \"y'all\": \"you all\",\n",
    "  \"y'alls\": \"you alls\",\n",
    "  \"y'all'd\": \"you all would\",\n",
    "  \"y'all'd've\": \"you all would have\",\n",
    "  \"y'all're\": \"you all are\",\n",
    "  \"y'all've\": \"you all have\",\n",
    "  \"you'd\": \"you had\",\n",
    "  \"you'd've\": \"you would have\", \"you'll\": \"you you will\",\n",
    "  \"you'll've\": \"you you will have\",\n",
    "  \"you're\": \"you are\",\n",
    "  \"you've\": \"you have\"\n",
    "}\n",
    "\n"
   ]
  },
  {
   "cell_type": "code",
   "execution_count": 19,
   "id": "930bf692",
   "metadata": {
    "execution": {
     "iopub.execute_input": "2024-11-24T19:15:04.349027Z",
     "iopub.status.busy": "2024-11-24T19:15:04.348774Z",
     "iopub.status.idle": "2024-11-24T19:15:09.223683Z",
     "shell.execute_reply": "2024-11-24T19:15:09.222984Z"
    },
    "papermill": {
     "duration": 4.889007,
     "end_time": "2024-11-24T19:15:09.225752",
     "exception": false,
     "start_time": "2024-11-24T19:15:04.336745",
     "status": "completed"
    },
    "tags": []
   },
   "outputs": [],
   "source": [
    "abb_re = re.compile('(%s)' % '|'.join(abb.keys()))\n",
    "\n",
    "def expandContractions(text, abb_re=abb_re):\n",
    "    def replace(match):\n",
    "        return abb[match.group(0)]\n",
    "    return abb_re.sub(replace, text)\n",
    "\n",
    "df['statement'] = df['statement'].apply(expandContractions)"
   ]
  },
  {
   "cell_type": "code",
   "execution_count": 20,
   "id": "b3b64325",
   "metadata": {
    "execution": {
     "iopub.execute_input": "2024-11-24T19:15:09.250044Z",
     "iopub.status.busy": "2024-11-24T19:15:09.249778Z",
     "iopub.status.idle": "2024-11-24T19:15:09.258288Z",
     "shell.execute_reply": "2024-11-24T19:15:09.257493Z"
    },
    "papermill": {
     "duration": 0.022503,
     "end_time": "2024-11-24T19:15:09.260023",
     "exception": false,
     "start_time": "2024-11-24T19:15:09.237520",
     "status": "completed"
    },
    "tags": []
   },
   "outputs": [
    {
     "data": {
      "text/html": [
       "<div>\n",
       "<style scoped>\n",
       "    .dataframe tbody tr th:only-of-type {\n",
       "        vertical-align: middle;\n",
       "    }\n",
       "\n",
       "    .dataframe tbody tr th {\n",
       "        vertical-align: top;\n",
       "    }\n",
       "\n",
       "    .dataframe thead th {\n",
       "        text-align: right;\n",
       "    }\n",
       "</style>\n",
       "<table border=\"1\" class=\"dataframe\">\n",
       "  <thead>\n",
       "    <tr style=\"text-align: right;\">\n",
       "      <th></th>\n",
       "      <th>Unnamed: 0</th>\n",
       "      <th>statement</th>\n",
       "      <th>status</th>\n",
       "    </tr>\n",
       "  </thead>\n",
       "  <tbody>\n",
       "    <tr>\n",
       "      <th>0</th>\n",
       "      <td>0</td>\n",
       "      <td>oh my gosh</td>\n",
       "      <td>Anxiety</td>\n",
       "    </tr>\n",
       "    <tr>\n",
       "      <th>1</th>\n",
       "      <td>1</td>\n",
       "      <td>trouble sleeping, confused mind, restless hear...</td>\n",
       "      <td>Anxiety</td>\n",
       "    </tr>\n",
       "    <tr>\n",
       "      <th>2</th>\n",
       "      <td>2</td>\n",
       "      <td>all wrong, back off dear, forward doubt. stay ...</td>\n",
       "      <td>Anxiety</td>\n",
       "    </tr>\n",
       "    <tr>\n",
       "      <th>3</th>\n",
       "      <td>3</td>\n",
       "      <td>i have shifted my focus to something else but ...</td>\n",
       "      <td>Anxiety</td>\n",
       "    </tr>\n",
       "    <tr>\n",
       "      <th>4</th>\n",
       "      <td>4</td>\n",
       "      <td>i am restless and restless, it is been a month...</td>\n",
       "      <td>Anxiety</td>\n",
       "    </tr>\n",
       "    <tr>\n",
       "      <th>5</th>\n",
       "      <td>5</td>\n",
       "      <td>every break, you must be nervous, like somethi...</td>\n",
       "      <td>Anxiety</td>\n",
       "    </tr>\n",
       "    <tr>\n",
       "      <th>6</th>\n",
       "      <td>6</td>\n",
       "      <td>i feel scared, anxious, what can i do? and may...</td>\n",
       "      <td>Anxiety</td>\n",
       "    </tr>\n",
       "    <tr>\n",
       "      <th>7</th>\n",
       "      <td>7</td>\n",
       "      <td>have you ever felt nervous but did not know why?</td>\n",
       "      <td>Anxiety</td>\n",
       "    </tr>\n",
       "    <tr>\n",
       "      <th>8</th>\n",
       "      <td>8</td>\n",
       "      <td>i have not slept well for 2 days, it is like i...</td>\n",
       "      <td>Anxiety</td>\n",
       "    </tr>\n",
       "    <tr>\n",
       "      <th>9</th>\n",
       "      <td>9</td>\n",
       "      <td>i am really worried, i want to cry.</td>\n",
       "      <td>Anxiety</td>\n",
       "    </tr>\n",
       "  </tbody>\n",
       "</table>\n",
       "</div>"
      ],
      "text/plain": [
       "   Unnamed: 0                                          statement   status\n",
       "0           0                                         oh my gosh  Anxiety\n",
       "1           1  trouble sleeping, confused mind, restless hear...  Anxiety\n",
       "2           2  all wrong, back off dear, forward doubt. stay ...  Anxiety\n",
       "3           3  i have shifted my focus to something else but ...  Anxiety\n",
       "4           4  i am restless and restless, it is been a month...  Anxiety\n",
       "5           5  every break, you must be nervous, like somethi...  Anxiety\n",
       "6           6  i feel scared, anxious, what can i do? and may...  Anxiety\n",
       "7           7   have you ever felt nervous but did not know why?  Anxiety\n",
       "8           8  i have not slept well for 2 days, it is like i...  Anxiety\n",
       "9           9                i am really worried, i want to cry.  Anxiety"
      ]
     },
     "execution_count": 20,
     "metadata": {},
     "output_type": "execute_result"
    }
   ],
   "source": [
    "df.head(10)"
   ]
  },
  {
   "cell_type": "markdown",
   "id": "0f568dd8",
   "metadata": {
    "papermill": {
     "duration": 0.011154,
     "end_time": "2024-11-24T19:15:09.282802",
     "exception": false,
     "start_time": "2024-11-24T19:15:09.271648",
     "status": "completed"
    },
    "tags": []
   },
   "source": [
    "### Tokenization"
   ]
  },
  {
   "cell_type": "code",
   "execution_count": 21,
   "id": "f281b0c8",
   "metadata": {
    "execution": {
     "iopub.execute_input": "2024-11-24T19:15:09.306833Z",
     "iopub.status.busy": "2024-11-24T19:15:09.306331Z",
     "iopub.status.idle": "2024-11-24T19:15:35.017360Z",
     "shell.execute_reply": "2024-11-24T19:15:35.016668Z"
    },
    "papermill": {
     "duration": 25.725208,
     "end_time": "2024-11-24T19:15:35.019434",
     "exception": false,
     "start_time": "2024-11-24T19:15:09.294226",
     "status": "completed"
    },
    "tags": []
   },
   "outputs": [
    {
     "name": "stdout",
     "output_type": "stream",
     "text": [
      "[nltk_data] Downloading package punkt to /usr/share/nltk_data...\n",
      "[nltk_data]   Package punkt is already up-to-date!\n"
     ]
    }
   ],
   "source": [
    "import pandas as pd\n",
    "import nltk\n",
    "from nltk.tokenize import word_tokenize\n",
    "nltk.download('punkt')\n",
    "\n",
    "# Function to tokenize text\n",
    "def tokenize_text(text):\n",
    "    tokens = word_tokenize(text)\n",
    "    return tokens\n",
    "\n",
    "df['statement'] = df['statement'].apply(tokenize_text)"
   ]
  },
  {
   "cell_type": "code",
   "execution_count": 22,
   "id": "11954cef",
   "metadata": {
    "execution": {
     "iopub.execute_input": "2024-11-24T19:15:35.044127Z",
     "iopub.status.busy": "2024-11-24T19:15:35.043871Z",
     "iopub.status.idle": "2024-11-24T19:15:35.057609Z",
     "shell.execute_reply": "2024-11-24T19:15:35.056898Z"
    },
    "papermill": {
     "duration": 0.027874,
     "end_time": "2024-11-24T19:15:35.059216",
     "exception": false,
     "start_time": "2024-11-24T19:15:35.031342",
     "status": "completed"
    },
    "tags": []
   },
   "outputs": [
    {
     "data": {
      "text/html": [
       "<div>\n",
       "<style scoped>\n",
       "    .dataframe tbody tr th:only-of-type {\n",
       "        vertical-align: middle;\n",
       "    }\n",
       "\n",
       "    .dataframe tbody tr th {\n",
       "        vertical-align: top;\n",
       "    }\n",
       "\n",
       "    .dataframe thead th {\n",
       "        text-align: right;\n",
       "    }\n",
       "</style>\n",
       "<table border=\"1\" class=\"dataframe\">\n",
       "  <thead>\n",
       "    <tr style=\"text-align: right;\">\n",
       "      <th></th>\n",
       "      <th>Unnamed: 0</th>\n",
       "      <th>statement</th>\n",
       "      <th>status</th>\n",
       "    </tr>\n",
       "  </thead>\n",
       "  <tbody>\n",
       "    <tr>\n",
       "      <th>0</th>\n",
       "      <td>0</td>\n",
       "      <td>[oh, my, gosh]</td>\n",
       "      <td>Anxiety</td>\n",
       "    </tr>\n",
       "    <tr>\n",
       "      <th>1</th>\n",
       "      <td>1</td>\n",
       "      <td>[trouble, sleeping, ,, confused, mind, ,, rest...</td>\n",
       "      <td>Anxiety</td>\n",
       "    </tr>\n",
       "    <tr>\n",
       "      <th>2</th>\n",
       "      <td>2</td>\n",
       "      <td>[all, wrong, ,, back, off, dear, ,, forward, d...</td>\n",
       "      <td>Anxiety</td>\n",
       "    </tr>\n",
       "    <tr>\n",
       "      <th>3</th>\n",
       "      <td>3</td>\n",
       "      <td>[i, have, shifted, my, focus, to, something, e...</td>\n",
       "      <td>Anxiety</td>\n",
       "    </tr>\n",
       "    <tr>\n",
       "      <th>4</th>\n",
       "      <td>4</td>\n",
       "      <td>[i, am, restless, and, restless, ,, it, is, be...</td>\n",
       "      <td>Anxiety</td>\n",
       "    </tr>\n",
       "    <tr>\n",
       "      <th>5</th>\n",
       "      <td>5</td>\n",
       "      <td>[every, break, ,, you, must, be, nervous, ,, l...</td>\n",
       "      <td>Anxiety</td>\n",
       "    </tr>\n",
       "    <tr>\n",
       "      <th>6</th>\n",
       "      <td>6</td>\n",
       "      <td>[i, feel, scared, ,, anxious, ,, what, can, i,...</td>\n",
       "      <td>Anxiety</td>\n",
       "    </tr>\n",
       "    <tr>\n",
       "      <th>7</th>\n",
       "      <td>7</td>\n",
       "      <td>[have, you, ever, felt, nervous, but, did, not...</td>\n",
       "      <td>Anxiety</td>\n",
       "    </tr>\n",
       "    <tr>\n",
       "      <th>8</th>\n",
       "      <td>8</td>\n",
       "      <td>[i, have, not, slept, well, for, 2, days, ,, i...</td>\n",
       "      <td>Anxiety</td>\n",
       "    </tr>\n",
       "    <tr>\n",
       "      <th>9</th>\n",
       "      <td>9</td>\n",
       "      <td>[i, am, really, worried, ,, i, want, to, cry, .]</td>\n",
       "      <td>Anxiety</td>\n",
       "    </tr>\n",
       "    <tr>\n",
       "      <th>10</th>\n",
       "      <td>10</td>\n",
       "      <td>[always, restless, every, night, ,, even, thou...</td>\n",
       "      <td>Anxiety</td>\n",
       "    </tr>\n",
       "    <tr>\n",
       "      <th>11</th>\n",
       "      <td>11</td>\n",
       "      <td>[i, am, confused, ,, i, am, not, feeling, good...</td>\n",
       "      <td>Anxiety</td>\n",
       "    </tr>\n",
       "    <tr>\n",
       "      <th>12</th>\n",
       "      <td>12</td>\n",
       "      <td>[someti, ames, what, is, needed, when, there, ...</td>\n",
       "      <td>Anxiety</td>\n",
       "    </tr>\n",
       "    <tr>\n",
       "      <th>13</th>\n",
       "      <td>13</td>\n",
       "      <td>[because, this, worry, is, you, .]</td>\n",
       "      <td>Anxiety</td>\n",
       "    </tr>\n",
       "    <tr>\n",
       "      <th>14</th>\n",
       "      <td>14</td>\n",
       "      <td>[someti, ames, it, is, your, own, thoughts, th...</td>\n",
       "      <td>Anxiety</td>\n",
       "    </tr>\n",
       "    <tr>\n",
       "      <th>15</th>\n",
       "      <td>15</td>\n",
       "      <td>[every, ti, ame, i, wake, up, ,, i, am, defini...</td>\n",
       "      <td>Anxiety</td>\n",
       "    </tr>\n",
       "    <tr>\n",
       "      <th>16</th>\n",
       "      <td>16</td>\n",
       "      <td>[i, can, only, hope, ,, even, though, i, am, w...</td>\n",
       "      <td>Anxiety</td>\n",
       "    </tr>\n",
       "    <tr>\n",
       "      <th>17</th>\n",
       "      <td>17</td>\n",
       "      <td>[restive, =, restless, ,, restless]</td>\n",
       "      <td>Anxiety</td>\n",
       "    </tr>\n",
       "    <tr>\n",
       "      <th>18</th>\n",
       "      <td>18</td>\n",
       "      <td>[``, no, regrets, or, grudges/angry, at, thing...</td>\n",
       "      <td>Anxiety</td>\n",
       "    </tr>\n",
       "    <tr>\n",
       "      <th>19</th>\n",
       "      <td>19</td>\n",
       "      <td>[if, the, guy, is, sick, ,, the, girl, actuall...</td>\n",
       "      <td>Anxiety</td>\n",
       "    </tr>\n",
       "  </tbody>\n",
       "</table>\n",
       "</div>"
      ],
      "text/plain": [
       "    Unnamed: 0                                          statement   status\n",
       "0            0                                     [oh, my, gosh]  Anxiety\n",
       "1            1  [trouble, sleeping, ,, confused, mind, ,, rest...  Anxiety\n",
       "2            2  [all, wrong, ,, back, off, dear, ,, forward, d...  Anxiety\n",
       "3            3  [i, have, shifted, my, focus, to, something, e...  Anxiety\n",
       "4            4  [i, am, restless, and, restless, ,, it, is, be...  Anxiety\n",
       "5            5  [every, break, ,, you, must, be, nervous, ,, l...  Anxiety\n",
       "6            6  [i, feel, scared, ,, anxious, ,, what, can, i,...  Anxiety\n",
       "7            7  [have, you, ever, felt, nervous, but, did, not...  Anxiety\n",
       "8            8  [i, have, not, slept, well, for, 2, days, ,, i...  Anxiety\n",
       "9            9   [i, am, really, worried, ,, i, want, to, cry, .]  Anxiety\n",
       "10          10  [always, restless, every, night, ,, even, thou...  Anxiety\n",
       "11          11  [i, am, confused, ,, i, am, not, feeling, good...  Anxiety\n",
       "12          12  [someti, ames, what, is, needed, when, there, ...  Anxiety\n",
       "13          13                 [because, this, worry, is, you, .]  Anxiety\n",
       "14          14  [someti, ames, it, is, your, own, thoughts, th...  Anxiety\n",
       "15          15  [every, ti, ame, i, wake, up, ,, i, am, defini...  Anxiety\n",
       "16          16  [i, can, only, hope, ,, even, though, i, am, w...  Anxiety\n",
       "17          17                [restive, =, restless, ,, restless]  Anxiety\n",
       "18          18  [``, no, regrets, or, grudges/angry, at, thing...  Anxiety\n",
       "19          19  [if, the, guy, is, sick, ,, the, girl, actuall...  Anxiety"
      ]
     },
     "execution_count": 22,
     "metadata": {},
     "output_type": "execute_result"
    }
   ],
   "source": [
    "df.head(20)"
   ]
  },
  {
   "cell_type": "markdown",
   "id": "9d63315d",
   "metadata": {
    "papermill": {
     "duration": 0.01135,
     "end_time": "2024-11-24T19:15:35.083532",
     "exception": false,
     "start_time": "2024-11-24T19:15:35.072182",
     "status": "completed"
    },
    "tags": []
   },
   "source": [
    "### Word Segementation"
   ]
  },
  {
   "cell_type": "code",
   "execution_count": 23,
   "id": "0bb33315",
   "metadata": {
    "execution": {
     "iopub.execute_input": "2024-11-24T19:15:35.107414Z",
     "iopub.status.busy": "2024-11-24T19:15:35.107157Z",
     "iopub.status.idle": "2024-11-24T19:15:38.905963Z",
     "shell.execute_reply": "2024-11-24T19:15:38.905008Z"
    },
    "papermill": {
     "duration": 3.813014,
     "end_time": "2024-11-24T19:15:38.908036",
     "exception": false,
     "start_time": "2024-11-24T19:15:35.095022",
     "status": "completed"
    },
    "tags": []
   },
   "outputs": [
    {
     "name": "stdout",
     "output_type": "stream",
     "text": [
      "Collecting wordninja\r\n",
      "  Downloading wordninja-2.0.0.tar.gz (541 kB)\r\n",
      "\u001b[2K     \u001b[90m━━━━━━━━━━━━━━━━━━━━━━━━━━━━━━━━━━━━━━━\u001b[0m \u001b[32m541.6/541.6 kB\u001b[0m \u001b[31m9.3 MB/s\u001b[0m eta \u001b[36m0:00:00\u001b[0m\r\n",
      "\u001b[?25h  Preparing metadata (setup.py) ... \u001b[?25l-\b \bdone\r\n",
      "\u001b[?25hBuilding wheels for collected packages: wordninja\r\n",
      "  Building wheel for wordninja (setup.py) ... \u001b[?25l-\b \bdone\r\n",
      "\u001b[?25h  Created wheel for wordninja: filename=wordninja-2.0.0-py3-none-any.whl size=541530 sha256=6299675a25439b855502a823eba22d69acb94c41f7450c6cfb047469756d3c1f\r\n",
      "  Stored in directory: /root/.cache/pip/wheels/aa/44/3a/f2a5c1859b8b541ded969b4cd12d0a58897f12408f4f51e084\r\n",
      "Successfully built wordninja\r\n",
      "Installing collected packages: wordninja\r\n",
      "Successfully installed wordninja-2.0.0\r\n"
     ]
    }
   ],
   "source": [
    "!pip install wordninja --no-deps"
   ]
  },
  {
   "cell_type": "code",
   "execution_count": 24,
   "id": "b5c45e78",
   "metadata": {
    "execution": {
     "iopub.execute_input": "2024-11-24T19:15:38.934453Z",
     "iopub.status.busy": "2024-11-24T19:15:38.933831Z",
     "iopub.status.idle": "2024-11-24T19:16:35.730467Z",
     "shell.execute_reply": "2024-11-24T19:16:35.729636Z"
    },
    "papermill": {
     "duration": 56.81207,
     "end_time": "2024-11-24T19:16:35.732708",
     "exception": false,
     "start_time": "2024-11-24T19:15:38.920638",
     "status": "completed"
    },
    "tags": []
   },
   "outputs": [],
   "source": [
    "import pandas as pd\n",
    "import wordninja\n",
    "import re\n",
    "\n",
    "# Apply word segmentation\n",
    "df['statement'] = df['statement'].apply(lambda tokens: wordninja.split(\" \".join(tokens)))"
   ]
  },
  {
   "cell_type": "code",
   "execution_count": 25,
   "id": "0e1465c0",
   "metadata": {
    "execution": {
     "iopub.execute_input": "2024-11-24T19:16:35.758412Z",
     "iopub.status.busy": "2024-11-24T19:16:35.758135Z",
     "iopub.status.idle": "2024-11-24T19:16:35.769094Z",
     "shell.execute_reply": "2024-11-24T19:16:35.768295Z"
    },
    "papermill": {
     "duration": 0.025369,
     "end_time": "2024-11-24T19:16:35.770653",
     "exception": false,
     "start_time": "2024-11-24T19:16:35.745284",
     "status": "completed"
    },
    "tags": []
   },
   "outputs": [
    {
     "data": {
      "text/html": [
       "<div>\n",
       "<style scoped>\n",
       "    .dataframe tbody tr th:only-of-type {\n",
       "        vertical-align: middle;\n",
       "    }\n",
       "\n",
       "    .dataframe tbody tr th {\n",
       "        vertical-align: top;\n",
       "    }\n",
       "\n",
       "    .dataframe thead th {\n",
       "        text-align: right;\n",
       "    }\n",
       "</style>\n",
       "<table border=\"1\" class=\"dataframe\">\n",
       "  <thead>\n",
       "    <tr style=\"text-align: right;\">\n",
       "      <th></th>\n",
       "      <th>Unnamed: 0</th>\n",
       "      <th>statement</th>\n",
       "      <th>status</th>\n",
       "    </tr>\n",
       "  </thead>\n",
       "  <tbody>\n",
       "    <tr>\n",
       "      <th>0</th>\n",
       "      <td>0</td>\n",
       "      <td>[oh, my, gosh]</td>\n",
       "      <td>Anxiety</td>\n",
       "    </tr>\n",
       "    <tr>\n",
       "      <th>1</th>\n",
       "      <td>1</td>\n",
       "      <td>[trouble, sleeping, confused, mind, restless, ...</td>\n",
       "      <td>Anxiety</td>\n",
       "    </tr>\n",
       "    <tr>\n",
       "      <th>2</th>\n",
       "      <td>2</td>\n",
       "      <td>[all, wrong, back, off, dear, forward, doubt, ...</td>\n",
       "      <td>Anxiety</td>\n",
       "    </tr>\n",
       "    <tr>\n",
       "      <th>3</th>\n",
       "      <td>3</td>\n",
       "      <td>[i, have, shifted, my, focus, to, something, e...</td>\n",
       "      <td>Anxiety</td>\n",
       "    </tr>\n",
       "    <tr>\n",
       "      <th>4</th>\n",
       "      <td>4</td>\n",
       "      <td>[i, am, restless, and, restless, it, is, been,...</td>\n",
       "      <td>Anxiety</td>\n",
       "    </tr>\n",
       "    <tr>\n",
       "      <th>5</th>\n",
       "      <td>5</td>\n",
       "      <td>[every, break, you, must, be, nervous, like, s...</td>\n",
       "      <td>Anxiety</td>\n",
       "    </tr>\n",
       "    <tr>\n",
       "      <th>6</th>\n",
       "      <td>6</td>\n",
       "      <td>[i, feel, scared, anxious, what, can, i, do, a...</td>\n",
       "      <td>Anxiety</td>\n",
       "    </tr>\n",
       "    <tr>\n",
       "      <th>7</th>\n",
       "      <td>7</td>\n",
       "      <td>[have, you, ever, felt, nervous, but, did, not...</td>\n",
       "      <td>Anxiety</td>\n",
       "    </tr>\n",
       "    <tr>\n",
       "      <th>8</th>\n",
       "      <td>8</td>\n",
       "      <td>[i, have, not, slept, well, for, 2, days, it, ...</td>\n",
       "      <td>Anxiety</td>\n",
       "    </tr>\n",
       "    <tr>\n",
       "      <th>9</th>\n",
       "      <td>9</td>\n",
       "      <td>[i, am, really, worried, i, want, to, cry]</td>\n",
       "      <td>Anxiety</td>\n",
       "    </tr>\n",
       "  </tbody>\n",
       "</table>\n",
       "</div>"
      ],
      "text/plain": [
       "   Unnamed: 0                                          statement   status\n",
       "0           0                                     [oh, my, gosh]  Anxiety\n",
       "1           1  [trouble, sleeping, confused, mind, restless, ...  Anxiety\n",
       "2           2  [all, wrong, back, off, dear, forward, doubt, ...  Anxiety\n",
       "3           3  [i, have, shifted, my, focus, to, something, e...  Anxiety\n",
       "4           4  [i, am, restless, and, restless, it, is, been,...  Anxiety\n",
       "5           5  [every, break, you, must, be, nervous, like, s...  Anxiety\n",
       "6           6  [i, feel, scared, anxious, what, can, i, do, a...  Anxiety\n",
       "7           7  [have, you, ever, felt, nervous, but, did, not...  Anxiety\n",
       "8           8  [i, have, not, slept, well, for, 2, days, it, ...  Anxiety\n",
       "9           9         [i, am, really, worried, i, want, to, cry]  Anxiety"
      ]
     },
     "execution_count": 25,
     "metadata": {},
     "output_type": "execute_result"
    }
   ],
   "source": [
    "df.head(10)"
   ]
  },
  {
   "cell_type": "markdown",
   "id": "d63711d0",
   "metadata": {
    "papermill": {
     "duration": 0.012189,
     "end_time": "2024-11-24T19:16:35.795032",
     "exception": false,
     "start_time": "2024-11-24T19:16:35.782843",
     "status": "completed"
    },
    "tags": []
   },
   "source": [
    "### Stopwords Removal"
   ]
  },
  {
   "cell_type": "code",
   "execution_count": 26,
   "id": "2f9b4b1f",
   "metadata": {
    "execution": {
     "iopub.execute_input": "2024-11-24T19:16:35.820509Z",
     "iopub.status.busy": "2024-11-24T19:16:35.820259Z",
     "iopub.status.idle": "2024-11-24T19:16:36.867023Z",
     "shell.execute_reply": "2024-11-24T19:16:36.866045Z"
    },
    "papermill": {
     "duration": 1.061793,
     "end_time": "2024-11-24T19:16:36.869086",
     "exception": false,
     "start_time": "2024-11-24T19:16:35.807293",
     "status": "completed"
    },
    "tags": []
   },
   "outputs": [
    {
     "name": "stdout",
     "output_type": "stream",
     "text": [
      "[nltk_data] Downloading package stopwords to /usr/share/nltk_data...\n",
      "[nltk_data]   Package stopwords is already up-to-date!\n"
     ]
    }
   ],
   "source": [
    "from nltk.corpus import stopwords\n",
    "\n",
    "# Download the list of English stopwords\n",
    "nltk.download('stopwords')\n",
    "\n",
    "# Retrieve the English stopwords\n",
    "stop_words = set(stopwords.words('english'))\n",
    "\n",
    "# Function to remove stopwords from a list of tokens\n",
    "def remove_stopwords(tokens):\n",
    "    return [word for word in tokens if word.lower() not in stop_words]\n",
    "\n",
    "# Apply the stopword removal function\n",
    "df['statement'] = df['statement'].apply(remove_stopwords)\n",
    "\n"
   ]
  },
  {
   "cell_type": "code",
   "execution_count": 27,
   "id": "deff1169",
   "metadata": {
    "execution": {
     "iopub.execute_input": "2024-11-24T19:16:36.895387Z",
     "iopub.status.busy": "2024-11-24T19:16:36.895094Z",
     "iopub.status.idle": "2024-11-24T19:16:36.905592Z",
     "shell.execute_reply": "2024-11-24T19:16:36.904778Z"
    },
    "papermill": {
     "duration": 0.025305,
     "end_time": "2024-11-24T19:16:36.907276",
     "exception": false,
     "start_time": "2024-11-24T19:16:36.881971",
     "status": "completed"
    },
    "tags": []
   },
   "outputs": [
    {
     "data": {
      "text/html": [
       "<div>\n",
       "<style scoped>\n",
       "    .dataframe tbody tr th:only-of-type {\n",
       "        vertical-align: middle;\n",
       "    }\n",
       "\n",
       "    .dataframe tbody tr th {\n",
       "        vertical-align: top;\n",
       "    }\n",
       "\n",
       "    .dataframe thead th {\n",
       "        text-align: right;\n",
       "    }\n",
       "</style>\n",
       "<table border=\"1\" class=\"dataframe\">\n",
       "  <thead>\n",
       "    <tr style=\"text-align: right;\">\n",
       "      <th></th>\n",
       "      <th>Unnamed: 0</th>\n",
       "      <th>statement</th>\n",
       "      <th>status</th>\n",
       "    </tr>\n",
       "  </thead>\n",
       "  <tbody>\n",
       "    <tr>\n",
       "      <th>0</th>\n",
       "      <td>0</td>\n",
       "      <td>[oh, gosh]</td>\n",
       "      <td>Anxiety</td>\n",
       "    </tr>\n",
       "    <tr>\n",
       "      <th>1</th>\n",
       "      <td>1</td>\n",
       "      <td>[trouble, sleeping, confused, mind, restless, ...</td>\n",
       "      <td>Anxiety</td>\n",
       "    </tr>\n",
       "    <tr>\n",
       "      <th>2</th>\n",
       "      <td>2</td>\n",
       "      <td>[wrong, back, dear, forward, doubt, stay, rest...</td>\n",
       "      <td>Anxiety</td>\n",
       "    </tr>\n",
       "    <tr>\n",
       "      <th>3</th>\n",
       "      <td>3</td>\n",
       "      <td>[shifted, focus, something, else, still, worried]</td>\n",
       "      <td>Anxiety</td>\n",
       "    </tr>\n",
       "    <tr>\n",
       "      <th>4</th>\n",
       "      <td>4</td>\n",
       "      <td>[restless, restless, month, boy, mean]</td>\n",
       "      <td>Anxiety</td>\n",
       "    </tr>\n",
       "    <tr>\n",
       "      <th>5</th>\n",
       "      <td>5</td>\n",
       "      <td>[every, break, must, nervous, like, something,...</td>\n",
       "      <td>Anxiety</td>\n",
       "    </tr>\n",
       "    <tr>\n",
       "      <th>6</th>\n",
       "      <td>6</td>\n",
       "      <td>[feel, scared, anxious, may, family, us, prote...</td>\n",
       "      <td>Anxiety</td>\n",
       "    </tr>\n",
       "    <tr>\n",
       "      <th>7</th>\n",
       "      <td>7</td>\n",
       "      <td>[ever, felt, nervous, know]</td>\n",
       "      <td>Anxiety</td>\n",
       "    </tr>\n",
       "    <tr>\n",
       "      <th>8</th>\n",
       "      <td>8</td>\n",
       "      <td>[slept, well, 2, days, like, restless, huh]</td>\n",
       "      <td>Anxiety</td>\n",
       "    </tr>\n",
       "    <tr>\n",
       "      <th>9</th>\n",
       "      <td>9</td>\n",
       "      <td>[really, worried, want, cry]</td>\n",
       "      <td>Anxiety</td>\n",
       "    </tr>\n",
       "  </tbody>\n",
       "</table>\n",
       "</div>"
      ],
      "text/plain": [
       "   Unnamed: 0                                          statement   status\n",
       "0           0                                         [oh, gosh]  Anxiety\n",
       "1           1  [trouble, sleeping, confused, mind, restless, ...  Anxiety\n",
       "2           2  [wrong, back, dear, forward, doubt, stay, rest...  Anxiety\n",
       "3           3  [shifted, focus, something, else, still, worried]  Anxiety\n",
       "4           4             [restless, restless, month, boy, mean]  Anxiety\n",
       "5           5  [every, break, must, nervous, like, something,...  Anxiety\n",
       "6           6  [feel, scared, anxious, may, family, us, prote...  Anxiety\n",
       "7           7                        [ever, felt, nervous, know]  Anxiety\n",
       "8           8        [slept, well, 2, days, like, restless, huh]  Anxiety\n",
       "9           9                       [really, worried, want, cry]  Anxiety"
      ]
     },
     "execution_count": 27,
     "metadata": {},
     "output_type": "execute_result"
    }
   ],
   "source": [
    "df.head(10)"
   ]
  },
  {
   "cell_type": "markdown",
   "id": "141742ae",
   "metadata": {
    "papermill": {
     "duration": 0.012223,
     "end_time": "2024-11-24T19:16:36.932657",
     "exception": false,
     "start_time": "2024-11-24T19:16:36.920434",
     "status": "completed"
    },
    "tags": []
   },
   "source": [
    "### Punctuation and Digit Removal"
   ]
  },
  {
   "cell_type": "code",
   "execution_count": 28,
   "id": "48dae24e",
   "metadata": {
    "execution": {
     "iopub.execute_input": "2024-11-24T19:16:36.958371Z",
     "iopub.status.busy": "2024-11-24T19:16:36.958138Z",
     "iopub.status.idle": "2024-11-24T19:16:37.370059Z",
     "shell.execute_reply": "2024-11-24T19:16:37.369322Z"
    },
    "papermill": {
     "duration": 0.427087,
     "end_time": "2024-11-24T19:16:37.372158",
     "exception": false,
     "start_time": "2024-11-24T19:16:36.945071",
     "status": "completed"
    },
    "tags": []
   },
   "outputs": [],
   "source": [
    "import string\n",
    "\n",
    "# Function to remove punctuation and digits\n",
    "def remove_punctuation(tokens):\n",
    "    return [word for word in tokens if word not in string.punctuation and not word.isdigit()]\n",
    "\n",
    "# Apply the function to remove punctuation and digits \n",
    "df['statement'] = df['statement'].apply(remove_punctuation)\n",
    "\n",
    "\n"
   ]
  },
  {
   "cell_type": "code",
   "execution_count": 29,
   "id": "59970562",
   "metadata": {
    "execution": {
     "iopub.execute_input": "2024-11-24T19:16:37.399734Z",
     "iopub.status.busy": "2024-11-24T19:16:37.399434Z",
     "iopub.status.idle": "2024-11-24T19:16:37.411429Z",
     "shell.execute_reply": "2024-11-24T19:16:37.410637Z"
    },
    "papermill": {
     "duration": 0.027986,
     "end_time": "2024-11-24T19:16:37.413254",
     "exception": false,
     "start_time": "2024-11-24T19:16:37.385268",
     "status": "completed"
    },
    "tags": []
   },
   "outputs": [
    {
     "data": {
      "text/html": [
       "<div>\n",
       "<style scoped>\n",
       "    .dataframe tbody tr th:only-of-type {\n",
       "        vertical-align: middle;\n",
       "    }\n",
       "\n",
       "    .dataframe tbody tr th {\n",
       "        vertical-align: top;\n",
       "    }\n",
       "\n",
       "    .dataframe thead th {\n",
       "        text-align: right;\n",
       "    }\n",
       "</style>\n",
       "<table border=\"1\" class=\"dataframe\">\n",
       "  <thead>\n",
       "    <tr style=\"text-align: right;\">\n",
       "      <th></th>\n",
       "      <th>Unnamed: 0</th>\n",
       "      <th>statement</th>\n",
       "      <th>status</th>\n",
       "    </tr>\n",
       "  </thead>\n",
       "  <tbody>\n",
       "    <tr>\n",
       "      <th>0</th>\n",
       "      <td>0</td>\n",
       "      <td>[oh, gosh]</td>\n",
       "      <td>Anxiety</td>\n",
       "    </tr>\n",
       "    <tr>\n",
       "      <th>1</th>\n",
       "      <td>1</td>\n",
       "      <td>[trouble, sleeping, confused, mind, restless, ...</td>\n",
       "      <td>Anxiety</td>\n",
       "    </tr>\n",
       "    <tr>\n",
       "      <th>2</th>\n",
       "      <td>2</td>\n",
       "      <td>[wrong, back, dear, forward, doubt, stay, rest...</td>\n",
       "      <td>Anxiety</td>\n",
       "    </tr>\n",
       "    <tr>\n",
       "      <th>3</th>\n",
       "      <td>3</td>\n",
       "      <td>[shifted, focus, something, else, still, worried]</td>\n",
       "      <td>Anxiety</td>\n",
       "    </tr>\n",
       "    <tr>\n",
       "      <th>4</th>\n",
       "      <td>4</td>\n",
       "      <td>[restless, restless, month, boy, mean]</td>\n",
       "      <td>Anxiety</td>\n",
       "    </tr>\n",
       "    <tr>\n",
       "      <th>5</th>\n",
       "      <td>5</td>\n",
       "      <td>[every, break, must, nervous, like, something,...</td>\n",
       "      <td>Anxiety</td>\n",
       "    </tr>\n",
       "    <tr>\n",
       "      <th>6</th>\n",
       "      <td>6</td>\n",
       "      <td>[feel, scared, anxious, may, family, us, prote...</td>\n",
       "      <td>Anxiety</td>\n",
       "    </tr>\n",
       "    <tr>\n",
       "      <th>7</th>\n",
       "      <td>7</td>\n",
       "      <td>[ever, felt, nervous, know]</td>\n",
       "      <td>Anxiety</td>\n",
       "    </tr>\n",
       "    <tr>\n",
       "      <th>8</th>\n",
       "      <td>8</td>\n",
       "      <td>[slept, well, days, like, restless, huh]</td>\n",
       "      <td>Anxiety</td>\n",
       "    </tr>\n",
       "    <tr>\n",
       "      <th>9</th>\n",
       "      <td>9</td>\n",
       "      <td>[really, worried, want, cry]</td>\n",
       "      <td>Anxiety</td>\n",
       "    </tr>\n",
       "  </tbody>\n",
       "</table>\n",
       "</div>"
      ],
      "text/plain": [
       "   Unnamed: 0                                          statement   status\n",
       "0           0                                         [oh, gosh]  Anxiety\n",
       "1           1  [trouble, sleeping, confused, mind, restless, ...  Anxiety\n",
       "2           2  [wrong, back, dear, forward, doubt, stay, rest...  Anxiety\n",
       "3           3  [shifted, focus, something, else, still, worried]  Anxiety\n",
       "4           4             [restless, restless, month, boy, mean]  Anxiety\n",
       "5           5  [every, break, must, nervous, like, something,...  Anxiety\n",
       "6           6  [feel, scared, anxious, may, family, us, prote...  Anxiety\n",
       "7           7                        [ever, felt, nervous, know]  Anxiety\n",
       "8           8           [slept, well, days, like, restless, huh]  Anxiety\n",
       "9           9                       [really, worried, want, cry]  Anxiety"
      ]
     },
     "execution_count": 29,
     "metadata": {},
     "output_type": "execute_result"
    }
   ],
   "source": [
    "df.head(10)"
   ]
  },
  {
   "cell_type": "markdown",
   "id": "fdc9a534",
   "metadata": {
    "papermill": {
     "duration": 0.012616,
     "end_time": "2024-11-24T19:16:37.440626",
     "exception": false,
     "start_time": "2024-11-24T19:16:37.428010",
     "status": "completed"
    },
    "tags": []
   },
   "source": [
    "### Special Characters Removal"
   ]
  },
  {
   "cell_type": "code",
   "execution_count": 30,
   "id": "bba83449",
   "metadata": {
    "execution": {
     "iopub.execute_input": "2024-11-24T19:16:37.467595Z",
     "iopub.status.busy": "2024-11-24T19:16:37.466839Z",
     "iopub.status.idle": "2024-11-24T19:16:38.900408Z",
     "shell.execute_reply": "2024-11-24T19:16:38.899446Z"
    },
    "papermill": {
     "duration": 1.448931,
     "end_time": "2024-11-24T19:16:38.902271",
     "exception": false,
     "start_time": "2024-11-24T19:16:37.453340",
     "status": "completed"
    },
    "tags": []
   },
   "outputs": [],
   "source": [
    "def remove_special_characters(tokens):\n",
    "    # Remove special characters from each token using a regular expression\n",
    "    return [re.sub(r'[^a-zA-Z0-9\\s]', '', word) for word in tokens]\n",
    "\n",
    "# Apply the function to remove special characters\n",
    "df['statement'] = df['statement'].apply(remove_special_characters)"
   ]
  },
  {
   "cell_type": "code",
   "execution_count": 31,
   "id": "8b12639a",
   "metadata": {
    "execution": {
     "iopub.execute_input": "2024-11-24T19:16:38.930260Z",
     "iopub.status.busy": "2024-11-24T19:16:38.929974Z",
     "iopub.status.idle": "2024-11-24T19:16:38.941311Z",
     "shell.execute_reply": "2024-11-24T19:16:38.940412Z"
    },
    "papermill": {
     "duration": 0.027124,
     "end_time": "2024-11-24T19:16:38.943105",
     "exception": false,
     "start_time": "2024-11-24T19:16:38.915981",
     "status": "completed"
    },
    "tags": []
   },
   "outputs": [
    {
     "data": {
      "text/html": [
       "<div>\n",
       "<style scoped>\n",
       "    .dataframe tbody tr th:only-of-type {\n",
       "        vertical-align: middle;\n",
       "    }\n",
       "\n",
       "    .dataframe tbody tr th {\n",
       "        vertical-align: top;\n",
       "    }\n",
       "\n",
       "    .dataframe thead th {\n",
       "        text-align: right;\n",
       "    }\n",
       "</style>\n",
       "<table border=\"1\" class=\"dataframe\">\n",
       "  <thead>\n",
       "    <tr style=\"text-align: right;\">\n",
       "      <th></th>\n",
       "      <th>Unnamed: 0</th>\n",
       "      <th>statement</th>\n",
       "      <th>status</th>\n",
       "    </tr>\n",
       "  </thead>\n",
       "  <tbody>\n",
       "    <tr>\n",
       "      <th>0</th>\n",
       "      <td>0</td>\n",
       "      <td>[oh, gosh]</td>\n",
       "      <td>Anxiety</td>\n",
       "    </tr>\n",
       "    <tr>\n",
       "      <th>1</th>\n",
       "      <td>1</td>\n",
       "      <td>[trouble, sleeping, confused, mind, restless, ...</td>\n",
       "      <td>Anxiety</td>\n",
       "    </tr>\n",
       "    <tr>\n",
       "      <th>2</th>\n",
       "      <td>2</td>\n",
       "      <td>[wrong, back, dear, forward, doubt, stay, rest...</td>\n",
       "      <td>Anxiety</td>\n",
       "    </tr>\n",
       "    <tr>\n",
       "      <th>3</th>\n",
       "      <td>3</td>\n",
       "      <td>[shifted, focus, something, else, still, worried]</td>\n",
       "      <td>Anxiety</td>\n",
       "    </tr>\n",
       "    <tr>\n",
       "      <th>4</th>\n",
       "      <td>4</td>\n",
       "      <td>[restless, restless, month, boy, mean]</td>\n",
       "      <td>Anxiety</td>\n",
       "    </tr>\n",
       "    <tr>\n",
       "      <th>5</th>\n",
       "      <td>5</td>\n",
       "      <td>[every, break, must, nervous, like, something,...</td>\n",
       "      <td>Anxiety</td>\n",
       "    </tr>\n",
       "    <tr>\n",
       "      <th>6</th>\n",
       "      <td>6</td>\n",
       "      <td>[feel, scared, anxious, may, family, us, prote...</td>\n",
       "      <td>Anxiety</td>\n",
       "    </tr>\n",
       "    <tr>\n",
       "      <th>7</th>\n",
       "      <td>7</td>\n",
       "      <td>[ever, felt, nervous, know]</td>\n",
       "      <td>Anxiety</td>\n",
       "    </tr>\n",
       "    <tr>\n",
       "      <th>8</th>\n",
       "      <td>8</td>\n",
       "      <td>[slept, well, days, like, restless, huh]</td>\n",
       "      <td>Anxiety</td>\n",
       "    </tr>\n",
       "    <tr>\n",
       "      <th>9</th>\n",
       "      <td>9</td>\n",
       "      <td>[really, worried, want, cry]</td>\n",
       "      <td>Anxiety</td>\n",
       "    </tr>\n",
       "  </tbody>\n",
       "</table>\n",
       "</div>"
      ],
      "text/plain": [
       "   Unnamed: 0                                          statement   status\n",
       "0           0                                         [oh, gosh]  Anxiety\n",
       "1           1  [trouble, sleeping, confused, mind, restless, ...  Anxiety\n",
       "2           2  [wrong, back, dear, forward, doubt, stay, rest...  Anxiety\n",
       "3           3  [shifted, focus, something, else, still, worried]  Anxiety\n",
       "4           4             [restless, restless, month, boy, mean]  Anxiety\n",
       "5           5  [every, break, must, nervous, like, something,...  Anxiety\n",
       "6           6  [feel, scared, anxious, may, family, us, prote...  Anxiety\n",
       "7           7                        [ever, felt, nervous, know]  Anxiety\n",
       "8           8           [slept, well, days, like, restless, huh]  Anxiety\n",
       "9           9                       [really, worried, want, cry]  Anxiety"
      ]
     },
     "execution_count": 31,
     "metadata": {},
     "output_type": "execute_result"
    }
   ],
   "source": [
    "df.head(10)"
   ]
  },
  {
   "cell_type": "markdown",
   "id": "31371936",
   "metadata": {
    "papermill": {
     "duration": 0.013541,
     "end_time": "2024-11-24T19:16:38.975162",
     "exception": false,
     "start_time": "2024-11-24T19:16:38.961621",
     "status": "completed"
    },
    "tags": []
   },
   "source": [
    "### Extra white spaces Removal"
   ]
  },
  {
   "cell_type": "code",
   "execution_count": 32,
   "id": "28869bb5",
   "metadata": {
    "execution": {
     "iopub.execute_input": "2024-11-24T19:16:39.002615Z",
     "iopub.status.busy": "2024-11-24T19:16:39.002328Z",
     "iopub.status.idle": "2024-11-24T19:16:39.405429Z",
     "shell.execute_reply": "2024-11-24T19:16:39.404387Z"
    },
    "papermill": {
     "duration": 0.419721,
     "end_time": "2024-11-24T19:16:39.408057",
     "exception": false,
     "start_time": "2024-11-24T19:16:38.988336",
     "status": "completed"
    },
    "tags": []
   },
   "outputs": [],
   "source": [
    "# Function to remove extra whitespaces\n",
    "def remove_extra_whitespaces(tokens):\n",
    "    # Strip leading and trailing whitespaces and filter out empty strings\n",
    "    return [word.strip() for word in tokens if word.strip() != '']\n",
    "\n",
    "df['statement'] = df['statement'].apply(remove_extra_whitespaces)\n"
   ]
  },
  {
   "cell_type": "code",
   "execution_count": 33,
   "id": "1ecf1b5e",
   "metadata": {
    "execution": {
     "iopub.execute_input": "2024-11-24T19:16:39.450996Z",
     "iopub.status.busy": "2024-11-24T19:16:39.450702Z",
     "iopub.status.idle": "2024-11-24T19:16:39.461806Z",
     "shell.execute_reply": "2024-11-24T19:16:39.461000Z"
    },
    "papermill": {
     "duration": 0.030082,
     "end_time": "2024-11-24T19:16:39.463911",
     "exception": false,
     "start_time": "2024-11-24T19:16:39.433829",
     "status": "completed"
    },
    "tags": []
   },
   "outputs": [
    {
     "data": {
      "text/html": [
       "<div>\n",
       "<style scoped>\n",
       "    .dataframe tbody tr th:only-of-type {\n",
       "        vertical-align: middle;\n",
       "    }\n",
       "\n",
       "    .dataframe tbody tr th {\n",
       "        vertical-align: top;\n",
       "    }\n",
       "\n",
       "    .dataframe thead th {\n",
       "        text-align: right;\n",
       "    }\n",
       "</style>\n",
       "<table border=\"1\" class=\"dataframe\">\n",
       "  <thead>\n",
       "    <tr style=\"text-align: right;\">\n",
       "      <th></th>\n",
       "      <th>Unnamed: 0</th>\n",
       "      <th>statement</th>\n",
       "      <th>status</th>\n",
       "    </tr>\n",
       "  </thead>\n",
       "  <tbody>\n",
       "    <tr>\n",
       "      <th>0</th>\n",
       "      <td>0</td>\n",
       "      <td>[oh, gosh]</td>\n",
       "      <td>Anxiety</td>\n",
       "    </tr>\n",
       "    <tr>\n",
       "      <th>1</th>\n",
       "      <td>1</td>\n",
       "      <td>[trouble, sleeping, confused, mind, restless, ...</td>\n",
       "      <td>Anxiety</td>\n",
       "    </tr>\n",
       "    <tr>\n",
       "      <th>2</th>\n",
       "      <td>2</td>\n",
       "      <td>[wrong, back, dear, forward, doubt, stay, rest...</td>\n",
       "      <td>Anxiety</td>\n",
       "    </tr>\n",
       "    <tr>\n",
       "      <th>3</th>\n",
       "      <td>3</td>\n",
       "      <td>[shifted, focus, something, else, still, worried]</td>\n",
       "      <td>Anxiety</td>\n",
       "    </tr>\n",
       "    <tr>\n",
       "      <th>4</th>\n",
       "      <td>4</td>\n",
       "      <td>[restless, restless, month, boy, mean]</td>\n",
       "      <td>Anxiety</td>\n",
       "    </tr>\n",
       "    <tr>\n",
       "      <th>5</th>\n",
       "      <td>5</td>\n",
       "      <td>[every, break, must, nervous, like, something,...</td>\n",
       "      <td>Anxiety</td>\n",
       "    </tr>\n",
       "    <tr>\n",
       "      <th>6</th>\n",
       "      <td>6</td>\n",
       "      <td>[feel, scared, anxious, may, family, us, prote...</td>\n",
       "      <td>Anxiety</td>\n",
       "    </tr>\n",
       "    <tr>\n",
       "      <th>7</th>\n",
       "      <td>7</td>\n",
       "      <td>[ever, felt, nervous, know]</td>\n",
       "      <td>Anxiety</td>\n",
       "    </tr>\n",
       "    <tr>\n",
       "      <th>8</th>\n",
       "      <td>8</td>\n",
       "      <td>[slept, well, days, like, restless, huh]</td>\n",
       "      <td>Anxiety</td>\n",
       "    </tr>\n",
       "    <tr>\n",
       "      <th>9</th>\n",
       "      <td>9</td>\n",
       "      <td>[really, worried, want, cry]</td>\n",
       "      <td>Anxiety</td>\n",
       "    </tr>\n",
       "  </tbody>\n",
       "</table>\n",
       "</div>"
      ],
      "text/plain": [
       "   Unnamed: 0                                          statement   status\n",
       "0           0                                         [oh, gosh]  Anxiety\n",
       "1           1  [trouble, sleeping, confused, mind, restless, ...  Anxiety\n",
       "2           2  [wrong, back, dear, forward, doubt, stay, rest...  Anxiety\n",
       "3           3  [shifted, focus, something, else, still, worried]  Anxiety\n",
       "4           4             [restless, restless, month, boy, mean]  Anxiety\n",
       "5           5  [every, break, must, nervous, like, something,...  Anxiety\n",
       "6           6  [feel, scared, anxious, may, family, us, prote...  Anxiety\n",
       "7           7                        [ever, felt, nervous, know]  Anxiety\n",
       "8           8           [slept, well, days, like, restless, huh]  Anxiety\n",
       "9           9                       [really, worried, want, cry]  Anxiety"
      ]
     },
     "execution_count": 33,
     "metadata": {},
     "output_type": "execute_result"
    }
   ],
   "source": [
    "df.head(10)"
   ]
  },
  {
   "cell_type": "markdown",
   "id": "cef01ce7",
   "metadata": {
    "papermill": {
     "duration": 0.013265,
     "end_time": "2024-11-24T19:16:39.496678",
     "exception": false,
     "start_time": "2024-11-24T19:16:39.483413",
     "status": "completed"
    },
    "tags": []
   },
   "source": [
    "### Emoji, mail, and url Removal"
   ]
  },
  {
   "cell_type": "code",
   "execution_count": 34,
   "id": "c4668cd3",
   "metadata": {
    "execution": {
     "iopub.execute_input": "2024-11-24T19:16:39.524020Z",
     "iopub.status.busy": "2024-11-24T19:16:39.523748Z",
     "iopub.status.idle": "2024-11-24T19:16:45.395901Z",
     "shell.execute_reply": "2024-11-24T19:16:45.395218Z"
    },
    "papermill": {
     "duration": 5.8882,
     "end_time": "2024-11-24T19:16:45.397953",
     "exception": false,
     "start_time": "2024-11-24T19:16:39.509753",
     "status": "completed"
    },
    "tags": []
   },
   "outputs": [],
   "source": [
    "import re\n",
    "\n",
    "# Function to remove URLs \n",
    "def remove_url(tokens):\n",
    "    cleaned_tokens = [re.sub(r'http\\S+', '', token) for token in tokens]\n",
    "    return cleaned_tokens\n",
    "\n",
    "# Function to remove email addresses \n",
    "def remove_mail(tokens):\n",
    "    cleaned_tokens = [re.sub(r'\\S+@\\S+', '', token) for token in tokens]\n",
    "    return cleaned_tokens\n",
    "\n",
    "# Function to remove emojis \n",
    "def remove_emoji(tokens):\n",
    "    cleaned_tokens = [re.sub(r'[\\U0001F600-\\U0001F64F\\U0001F300-\\U0001F5FF\\U0001F680-\\U0001F6FF\\U0001F700-\\U0001F77F\\U0001F780-\\U0001F7FF\\U0001F800-\\U0001F8FF\\U0001F900-\\U0001F9FF\\U0001FA00-\\U0001FA6F\\U0001FA70-\\U0001FAFF\\U0001FB00-\\U0001FBFF\\U0001FE00-\\U0001FE0F\\U0001F004]+', '', token) for token in tokens]\n",
    "    return cleaned_tokens\n",
    "\n",
    "df['statement'] = df['statement'].apply(remove_url)\n",
    "df['statement'] = df['statement'].apply(remove_mail)\n",
    "df['statement'] = df['statement'].apply(remove_emoji)"
   ]
  },
  {
   "cell_type": "code",
   "execution_count": 35,
   "id": "1e5f1d3c",
   "metadata": {
    "execution": {
     "iopub.execute_input": "2024-11-24T19:16:45.427588Z",
     "iopub.status.busy": "2024-11-24T19:16:45.427269Z",
     "iopub.status.idle": "2024-11-24T19:16:45.438247Z",
     "shell.execute_reply": "2024-11-24T19:16:45.437232Z"
    },
    "papermill": {
     "duration": 0.026875,
     "end_time": "2024-11-24T19:16:45.439799",
     "exception": false,
     "start_time": "2024-11-24T19:16:45.412924",
     "status": "completed"
    },
    "tags": []
   },
   "outputs": [
    {
     "data": {
      "text/html": [
       "<div>\n",
       "<style scoped>\n",
       "    .dataframe tbody tr th:only-of-type {\n",
       "        vertical-align: middle;\n",
       "    }\n",
       "\n",
       "    .dataframe tbody tr th {\n",
       "        vertical-align: top;\n",
       "    }\n",
       "\n",
       "    .dataframe thead th {\n",
       "        text-align: right;\n",
       "    }\n",
       "</style>\n",
       "<table border=\"1\" class=\"dataframe\">\n",
       "  <thead>\n",
       "    <tr style=\"text-align: right;\">\n",
       "      <th></th>\n",
       "      <th>Unnamed: 0</th>\n",
       "      <th>statement</th>\n",
       "      <th>status</th>\n",
       "    </tr>\n",
       "  </thead>\n",
       "  <tbody>\n",
       "    <tr>\n",
       "      <th>0</th>\n",
       "      <td>0</td>\n",
       "      <td>[oh, gosh]</td>\n",
       "      <td>Anxiety</td>\n",
       "    </tr>\n",
       "    <tr>\n",
       "      <th>1</th>\n",
       "      <td>1</td>\n",
       "      <td>[trouble, sleeping, confused, mind, restless, ...</td>\n",
       "      <td>Anxiety</td>\n",
       "    </tr>\n",
       "    <tr>\n",
       "      <th>2</th>\n",
       "      <td>2</td>\n",
       "      <td>[wrong, back, dear, forward, doubt, stay, rest...</td>\n",
       "      <td>Anxiety</td>\n",
       "    </tr>\n",
       "    <tr>\n",
       "      <th>3</th>\n",
       "      <td>3</td>\n",
       "      <td>[shifted, focus, something, else, still, worried]</td>\n",
       "      <td>Anxiety</td>\n",
       "    </tr>\n",
       "    <tr>\n",
       "      <th>4</th>\n",
       "      <td>4</td>\n",
       "      <td>[restless, restless, month, boy, mean]</td>\n",
       "      <td>Anxiety</td>\n",
       "    </tr>\n",
       "    <tr>\n",
       "      <th>5</th>\n",
       "      <td>5</td>\n",
       "      <td>[every, break, must, nervous, like, something,...</td>\n",
       "      <td>Anxiety</td>\n",
       "    </tr>\n",
       "    <tr>\n",
       "      <th>6</th>\n",
       "      <td>6</td>\n",
       "      <td>[feel, scared, anxious, may, family, us, prote...</td>\n",
       "      <td>Anxiety</td>\n",
       "    </tr>\n",
       "    <tr>\n",
       "      <th>7</th>\n",
       "      <td>7</td>\n",
       "      <td>[ever, felt, nervous, know]</td>\n",
       "      <td>Anxiety</td>\n",
       "    </tr>\n",
       "    <tr>\n",
       "      <th>8</th>\n",
       "      <td>8</td>\n",
       "      <td>[slept, well, days, like, restless, huh]</td>\n",
       "      <td>Anxiety</td>\n",
       "    </tr>\n",
       "    <tr>\n",
       "      <th>9</th>\n",
       "      <td>9</td>\n",
       "      <td>[really, worried, want, cry]</td>\n",
       "      <td>Anxiety</td>\n",
       "    </tr>\n",
       "  </tbody>\n",
       "</table>\n",
       "</div>"
      ],
      "text/plain": [
       "   Unnamed: 0                                          statement   status\n",
       "0           0                                         [oh, gosh]  Anxiety\n",
       "1           1  [trouble, sleeping, confused, mind, restless, ...  Anxiety\n",
       "2           2  [wrong, back, dear, forward, doubt, stay, rest...  Anxiety\n",
       "3           3  [shifted, focus, something, else, still, worried]  Anxiety\n",
       "4           4             [restless, restless, month, boy, mean]  Anxiety\n",
       "5           5  [every, break, must, nervous, like, something,...  Anxiety\n",
       "6           6  [feel, scared, anxious, may, family, us, prote...  Anxiety\n",
       "7           7                        [ever, felt, nervous, know]  Anxiety\n",
       "8           8           [slept, well, days, like, restless, huh]  Anxiety\n",
       "9           9                       [really, worried, want, cry]  Anxiety"
      ]
     },
     "execution_count": 35,
     "metadata": {},
     "output_type": "execute_result"
    }
   ],
   "source": [
    "df.head(10)"
   ]
  },
  {
   "cell_type": "markdown",
   "id": "dd75c231",
   "metadata": {
    "papermill": {
     "duration": 0.013058,
     "end_time": "2024-11-24T19:16:45.466244",
     "exception": false,
     "start_time": "2024-11-24T19:16:45.453186",
     "status": "completed"
    },
    "tags": []
   },
   "source": [
    "### Text Lemmatization"
   ]
  },
  {
   "cell_type": "code",
   "execution_count": 36,
   "id": "4d76f6de",
   "metadata": {
    "execution": {
     "iopub.execute_input": "2024-11-24T19:16:45.493690Z",
     "iopub.status.busy": "2024-11-24T19:16:45.493419Z",
     "iopub.status.idle": "2024-11-24T19:23:01.269238Z",
     "shell.execute_reply": "2024-11-24T19:23:01.268485Z"
    },
    "papermill": {
     "duration": 375.792063,
     "end_time": "2024-11-24T19:23:01.271536",
     "exception": false,
     "start_time": "2024-11-24T19:16:45.479473",
     "status": "completed"
    },
    "tags": []
   },
   "outputs": [],
   "source": [
    "# Load the spaCy English model\n",
    "import spacy\n",
    "nlp = spacy.load('en_core_web_sm')\n",
    "\n",
    "def lemmatize_tokens(tokens):\n",
    "    # Join the tokens back into a sentence\n",
    "    text = ' '.join(tokens)\n",
    "    # Process the text using spaCy\n",
    "    doc = nlp(text)\n",
    "    # Lemmatize each token and return the lemmatized tokens\n",
    "    lemmatized_tokens = [token.lemma_ for token in doc]\n",
    "    return lemmatized_tokens\n",
    "\n",
    "# Apply lemmatization \n",
    "df['statement'] = df['statement'].apply(lemmatize_tokens)"
   ]
  },
  {
   "cell_type": "code",
   "execution_count": 37,
   "id": "0d4f945d",
   "metadata": {
    "execution": {
     "iopub.execute_input": "2024-11-24T19:23:01.300156Z",
     "iopub.status.busy": "2024-11-24T19:23:01.299862Z",
     "iopub.status.idle": "2024-11-24T19:23:01.310702Z",
     "shell.execute_reply": "2024-11-24T19:23:01.309936Z"
    },
    "papermill": {
     "duration": 0.026665,
     "end_time": "2024-11-24T19:23:01.312299",
     "exception": false,
     "start_time": "2024-11-24T19:23:01.285634",
     "status": "completed"
    },
    "tags": []
   },
   "outputs": [
    {
     "data": {
      "text/html": [
       "<div>\n",
       "<style scoped>\n",
       "    .dataframe tbody tr th:only-of-type {\n",
       "        vertical-align: middle;\n",
       "    }\n",
       "\n",
       "    .dataframe tbody tr th {\n",
       "        vertical-align: top;\n",
       "    }\n",
       "\n",
       "    .dataframe thead th {\n",
       "        text-align: right;\n",
       "    }\n",
       "</style>\n",
       "<table border=\"1\" class=\"dataframe\">\n",
       "  <thead>\n",
       "    <tr style=\"text-align: right;\">\n",
       "      <th></th>\n",
       "      <th>Unnamed: 0</th>\n",
       "      <th>statement</th>\n",
       "      <th>status</th>\n",
       "    </tr>\n",
       "  </thead>\n",
       "  <tbody>\n",
       "    <tr>\n",
       "      <th>0</th>\n",
       "      <td>0</td>\n",
       "      <td>[oh, gosh]</td>\n",
       "      <td>Anxiety</td>\n",
       "    </tr>\n",
       "    <tr>\n",
       "      <th>1</th>\n",
       "      <td>1</td>\n",
       "      <td>[trouble, sleep, confused, mind, restless, hea...</td>\n",
       "      <td>Anxiety</td>\n",
       "    </tr>\n",
       "    <tr>\n",
       "      <th>2</th>\n",
       "      <td>2</td>\n",
       "      <td>[wrong, back, dear, forward, doubt, stay, rest...</td>\n",
       "      <td>Anxiety</td>\n",
       "    </tr>\n",
       "    <tr>\n",
       "      <th>3</th>\n",
       "      <td>3</td>\n",
       "      <td>[shift, focus, something, else, still, worry]</td>\n",
       "      <td>Anxiety</td>\n",
       "    </tr>\n",
       "    <tr>\n",
       "      <th>4</th>\n",
       "      <td>4</td>\n",
       "      <td>[restless, restless, month, boy, mean]</td>\n",
       "      <td>Anxiety</td>\n",
       "    </tr>\n",
       "    <tr>\n",
       "      <th>5</th>\n",
       "      <td>5</td>\n",
       "      <td>[every, break, must, nervous, like, something,...</td>\n",
       "      <td>Anxiety</td>\n",
       "    </tr>\n",
       "    <tr>\n",
       "      <th>6</th>\n",
       "      <td>6</td>\n",
       "      <td>[feel, scared, anxious, may, family, we, protect]</td>\n",
       "      <td>Anxiety</td>\n",
       "    </tr>\n",
       "    <tr>\n",
       "      <th>7</th>\n",
       "      <td>7</td>\n",
       "      <td>[ever, feel, nervous, know]</td>\n",
       "      <td>Anxiety</td>\n",
       "    </tr>\n",
       "    <tr>\n",
       "      <th>8</th>\n",
       "      <td>8</td>\n",
       "      <td>[sleep, well, day, like, restless, huh]</td>\n",
       "      <td>Anxiety</td>\n",
       "    </tr>\n",
       "    <tr>\n",
       "      <th>9</th>\n",
       "      <td>9</td>\n",
       "      <td>[really, worried, want, cry]</td>\n",
       "      <td>Anxiety</td>\n",
       "    </tr>\n",
       "  </tbody>\n",
       "</table>\n",
       "</div>"
      ],
      "text/plain": [
       "   Unnamed: 0                                          statement   status\n",
       "0           0                                         [oh, gosh]  Anxiety\n",
       "1           1  [trouble, sleep, confused, mind, restless, hea...  Anxiety\n",
       "2           2  [wrong, back, dear, forward, doubt, stay, rest...  Anxiety\n",
       "3           3      [shift, focus, something, else, still, worry]  Anxiety\n",
       "4           4             [restless, restless, month, boy, mean]  Anxiety\n",
       "5           5  [every, break, must, nervous, like, something,...  Anxiety\n",
       "6           6  [feel, scared, anxious, may, family, we, protect]  Anxiety\n",
       "7           7                        [ever, feel, nervous, know]  Anxiety\n",
       "8           8            [sleep, well, day, like, restless, huh]  Anxiety\n",
       "9           9                       [really, worried, want, cry]  Anxiety"
      ]
     },
     "execution_count": 37,
     "metadata": {},
     "output_type": "execute_result"
    }
   ],
   "source": [
    "df.head(10)"
   ]
  },
  {
   "cell_type": "markdown",
   "id": "1f08c783",
   "metadata": {
    "papermill": {
     "duration": 0.013455,
     "end_time": "2024-11-24T19:23:01.339695",
     "exception": false,
     "start_time": "2024-11-24T19:23:01.326240",
     "status": "completed"
    },
    "tags": []
   },
   "source": [
    "### Remove non-English Words"
   ]
  },
  {
   "cell_type": "markdown",
   "id": "cef81ffa",
   "metadata": {
    "papermill": {
     "duration": 0.013315,
     "end_time": "2024-11-24T19:23:01.366417",
     "exception": false,
     "start_time": "2024-11-24T19:23:01.353102",
     "status": "completed"
    },
    "tags": []
   },
   "source": [
    "we keep some of the words that maybe not include in english word of nltk that we think important for the model features"
   ]
  },
  {
   "cell_type": "code",
   "execution_count": 38,
   "id": "843b60a2",
   "metadata": {
    "execution": {
     "iopub.execute_input": "2024-11-24T19:23:01.394921Z",
     "iopub.status.busy": "2024-11-24T19:23:01.394422Z",
     "iopub.status.idle": "2024-11-24T19:23:01.951695Z",
     "shell.execute_reply": "2024-11-24T19:23:01.950720Z"
    },
    "papermill": {
     "duration": 0.573772,
     "end_time": "2024-11-24T19:23:01.953719",
     "exception": false,
     "start_time": "2024-11-24T19:23:01.379947",
     "status": "completed"
    },
    "tags": []
   },
   "outputs": [
    {
     "name": "stdout",
     "output_type": "stream",
     "text": [
      "[nltk_data] Downloading package words to /usr/share/nltk_data...\n",
      "[nltk_data]   Package words is already up-to-date!\n"
     ]
    }
   ],
   "source": [
    "from nltk.corpus import words\n",
    "import nltk\n",
    "\n",
    "# Download the list of English words (if not already downloaded)\n",
    "nltk.download('words')\n",
    "\n",
    "# Load the set of English words\n",
    "english_words = set(words.words())\n",
    "\n",
    "# List of words to exclude from removal\n",
    "words_to_exclude =  {\n",
    "    'fuck','suicidal', 'depressed', 'anxiety', 'selfharm', 'overdose', 'hopeless',\n",
    "    'cutting', 'lifeless', 'worthless', 'painful', 'enditall', 'sadness',\n",
    "    'goodbye', 'helpme', 'hurtmyself', 'numb', 'alone', 'darkness', 'dying',\n",
    "    'unloved', 'lost', 'killmyself', 'hanging', 'drugs', 'triggered',\n",
    "    'relapse', 'cut', 'sh', 'kms', 'plshelp', 'wanttodie', 'tiredoflife'\n",
    "}\n",
    "\n",
    "# Function to remove non-English words from a list of tokens\n",
    "def remove_non_english(tokens):\n",
    "    english_tokens = [\n",
    "        token if (token in english_words or token in words_to_exclude) else ''\n",
    "        for token in tokens]\n",
    "    return [token for token in english_tokens if token != '']\n",
    "\n",
    "# Apply the function \n",
    "df['statement'] = df['statement'].apply(remove_non_english)"
   ]
  },
  {
   "cell_type": "code",
   "execution_count": 39,
   "id": "1a6dbc67",
   "metadata": {
    "execution": {
     "iopub.execute_input": "2024-11-24T19:23:02.018137Z",
     "iopub.status.busy": "2024-11-24T19:23:02.017353Z",
     "iopub.status.idle": "2024-11-24T19:23:02.028118Z",
     "shell.execute_reply": "2024-11-24T19:23:02.027359Z"
    },
    "papermill": {
     "duration": 0.06174,
     "end_time": "2024-11-24T19:23:02.029725",
     "exception": false,
     "start_time": "2024-11-24T19:23:01.967985",
     "status": "completed"
    },
    "tags": []
   },
   "outputs": [
    {
     "data": {
      "text/html": [
       "<div>\n",
       "<style scoped>\n",
       "    .dataframe tbody tr th:only-of-type {\n",
       "        vertical-align: middle;\n",
       "    }\n",
       "\n",
       "    .dataframe tbody tr th {\n",
       "        vertical-align: top;\n",
       "    }\n",
       "\n",
       "    .dataframe thead th {\n",
       "        text-align: right;\n",
       "    }\n",
       "</style>\n",
       "<table border=\"1\" class=\"dataframe\">\n",
       "  <thead>\n",
       "    <tr style=\"text-align: right;\">\n",
       "      <th></th>\n",
       "      <th>Unnamed: 0</th>\n",
       "      <th>statement</th>\n",
       "      <th>status</th>\n",
       "    </tr>\n",
       "  </thead>\n",
       "  <tbody>\n",
       "    <tr>\n",
       "      <th>0</th>\n",
       "      <td>0</td>\n",
       "      <td>[oh, gosh]</td>\n",
       "      <td>Anxiety</td>\n",
       "    </tr>\n",
       "    <tr>\n",
       "      <th>1</th>\n",
       "      <td>1</td>\n",
       "      <td>[trouble, sleep, confused, mind, restless, hea...</td>\n",
       "      <td>Anxiety</td>\n",
       "    </tr>\n",
       "    <tr>\n",
       "      <th>2</th>\n",
       "      <td>2</td>\n",
       "      <td>[wrong, back, dear, forward, doubt, stay, rest...</td>\n",
       "      <td>Anxiety</td>\n",
       "    </tr>\n",
       "    <tr>\n",
       "      <th>3</th>\n",
       "      <td>3</td>\n",
       "      <td>[shift, focus, something, else, still, worry]</td>\n",
       "      <td>Anxiety</td>\n",
       "    </tr>\n",
       "    <tr>\n",
       "      <th>4</th>\n",
       "      <td>4</td>\n",
       "      <td>[restless, restless, month, boy, mean]</td>\n",
       "      <td>Anxiety</td>\n",
       "    </tr>\n",
       "    <tr>\n",
       "      <th>5</th>\n",
       "      <td>5</td>\n",
       "      <td>[every, break, must, nervous, like, something,...</td>\n",
       "      <td>Anxiety</td>\n",
       "    </tr>\n",
       "    <tr>\n",
       "      <th>6</th>\n",
       "      <td>6</td>\n",
       "      <td>[feel, anxious, may, family, we, protect]</td>\n",
       "      <td>Anxiety</td>\n",
       "    </tr>\n",
       "    <tr>\n",
       "      <th>7</th>\n",
       "      <td>7</td>\n",
       "      <td>[ever, feel, nervous, know]</td>\n",
       "      <td>Anxiety</td>\n",
       "    </tr>\n",
       "    <tr>\n",
       "      <th>8</th>\n",
       "      <td>8</td>\n",
       "      <td>[sleep, well, day, like, restless, huh]</td>\n",
       "      <td>Anxiety</td>\n",
       "    </tr>\n",
       "    <tr>\n",
       "      <th>9</th>\n",
       "      <td>9</td>\n",
       "      <td>[really, worried, want, cry]</td>\n",
       "      <td>Anxiety</td>\n",
       "    </tr>\n",
       "  </tbody>\n",
       "</table>\n",
       "</div>"
      ],
      "text/plain": [
       "   Unnamed: 0                                          statement   status\n",
       "0           0                                         [oh, gosh]  Anxiety\n",
       "1           1  [trouble, sleep, confused, mind, restless, hea...  Anxiety\n",
       "2           2  [wrong, back, dear, forward, doubt, stay, rest...  Anxiety\n",
       "3           3      [shift, focus, something, else, still, worry]  Anxiety\n",
       "4           4             [restless, restless, month, boy, mean]  Anxiety\n",
       "5           5  [every, break, must, nervous, like, something,...  Anxiety\n",
       "6           6          [feel, anxious, may, family, we, protect]  Anxiety\n",
       "7           7                        [ever, feel, nervous, know]  Anxiety\n",
       "8           8            [sleep, well, day, like, restless, huh]  Anxiety\n",
       "9           9                       [really, worried, want, cry]  Anxiety"
      ]
     },
     "execution_count": 39,
     "metadata": {},
     "output_type": "execute_result"
    }
   ],
   "source": [
    "df.head(10)"
   ]
  },
  {
   "cell_type": "markdown",
   "id": "d8d7b609",
   "metadata": {
    "papermill": {
     "duration": 0.014975,
     "end_time": "2024-11-24T19:23:02.058621",
     "exception": false,
     "start_time": "2024-11-24T19:23:02.043646",
     "status": "completed"
    },
    "tags": []
   },
   "source": [
    "### Convert labels to number"
   ]
  },
  {
   "cell_type": "code",
   "execution_count": 40,
   "id": "93eceb9e",
   "metadata": {
    "execution": {
     "iopub.execute_input": "2024-11-24T19:23:02.087435Z",
     "iopub.status.busy": "2024-11-24T19:23:02.087170Z",
     "iopub.status.idle": "2024-11-24T19:23:02.100639Z",
     "shell.execute_reply": "2024-11-24T19:23:02.099909Z"
    },
    "papermill": {
     "duration": 0.029753,
     "end_time": "2024-11-24T19:23:02.102135",
     "exception": false,
     "start_time": "2024-11-24T19:23:02.072382",
     "status": "completed"
    },
    "tags": []
   },
   "outputs": [
    {
     "data": {
      "text/html": [
       "<div>\n",
       "<style scoped>\n",
       "    .dataframe tbody tr th:only-of-type {\n",
       "        vertical-align: middle;\n",
       "    }\n",
       "\n",
       "    .dataframe tbody tr th {\n",
       "        vertical-align: top;\n",
       "    }\n",
       "\n",
       "    .dataframe thead th {\n",
       "        text-align: right;\n",
       "    }\n",
       "</style>\n",
       "<table border=\"1\" class=\"dataframe\">\n",
       "  <thead>\n",
       "    <tr style=\"text-align: right;\">\n",
       "      <th></th>\n",
       "      <th>Unnamed: 0</th>\n",
       "      <th>statement</th>\n",
       "      <th>status</th>\n",
       "    </tr>\n",
       "  </thead>\n",
       "  <tbody>\n",
       "    <tr>\n",
       "      <th>0</th>\n",
       "      <td>0</td>\n",
       "      <td>[oh, gosh]</td>\n",
       "      <td>2</td>\n",
       "    </tr>\n",
       "    <tr>\n",
       "      <th>1</th>\n",
       "      <td>1</td>\n",
       "      <td>[trouble, sleep, confused, mind, restless, hea...</td>\n",
       "      <td>2</td>\n",
       "    </tr>\n",
       "    <tr>\n",
       "      <th>2</th>\n",
       "      <td>2</td>\n",
       "      <td>[wrong, back, dear, forward, doubt, stay, rest...</td>\n",
       "      <td>2</td>\n",
       "    </tr>\n",
       "    <tr>\n",
       "      <th>3</th>\n",
       "      <td>3</td>\n",
       "      <td>[shift, focus, something, else, still, worry]</td>\n",
       "      <td>2</td>\n",
       "    </tr>\n",
       "    <tr>\n",
       "      <th>4</th>\n",
       "      <td>4</td>\n",
       "      <td>[restless, restless, month, boy, mean]</td>\n",
       "      <td>2</td>\n",
       "    </tr>\n",
       "  </tbody>\n",
       "</table>\n",
       "</div>"
      ],
      "text/plain": [
       "   Unnamed: 0                                          statement  status\n",
       "0           0                                         [oh, gosh]       2\n",
       "1           1  [trouble, sleep, confused, mind, restless, hea...       2\n",
       "2           2  [wrong, back, dear, forward, doubt, stay, rest...       2\n",
       "3           3      [shift, focus, something, else, still, worry]       2\n",
       "4           4             [restless, restless, month, boy, mean]       2"
      ]
     },
     "execution_count": 40,
     "metadata": {},
     "output_type": "execute_result"
    }
   ],
   "source": [
    "#Converting Labels into numbers\n",
    "\n",
    "label_ordered = df['status'].value_counts().index\n",
    "\n",
    "label_ordered = {k:i for i,k in enumerate(label_ordered,0)}\n",
    "\n",
    "df['status'] = df['status'].map(label_ordered)\n",
    "df.head()"
   ]
  },
  {
   "cell_type": "markdown",
   "id": "7f109615",
   "metadata": {
    "papermill": {
     "duration": 0.014043,
     "end_time": "2024-11-24T19:23:02.130694",
     "exception": false,
     "start_time": "2024-11-24T19:23:02.116651",
     "status": "completed"
    },
    "tags": []
   },
   "source": [
    "### Resampling for more balance data"
   ]
  },
  {
   "cell_type": "code",
   "execution_count": 41,
   "id": "a4b33707",
   "metadata": {
    "execution": {
     "iopub.execute_input": "2024-11-24T19:23:02.160081Z",
     "iopub.status.busy": "2024-11-24T19:23:02.159829Z",
     "iopub.status.idle": "2024-11-24T19:23:02.169735Z",
     "shell.execute_reply": "2024-11-24T19:23:02.169091Z"
    },
    "papermill": {
     "duration": 0.026484,
     "end_time": "2024-11-24T19:23:02.171259",
     "exception": false,
     "start_time": "2024-11-24T19:23:02.144775",
     "status": "completed"
    },
    "tags": []
   },
   "outputs": [],
   "source": [
    "from sklearn.utils import resample\n",
    "df_sample = df.sample(n=20000,random_state=2024)\n",
    "majority_size = len(df_sample[df_sample['status']==0])\n",
    "\n",
    "def resampling(df):\n",
    "  minority_resample = resample(df,replace=True, n_samples=majority_size,random_state=22)\n",
    "  return minority_resample"
   ]
  },
  {
   "cell_type": "code",
   "execution_count": 42,
   "id": "774b9352",
   "metadata": {
    "execution": {
     "iopub.execute_input": "2024-11-24T19:23:02.200493Z",
     "iopub.status.busy": "2024-11-24T19:23:02.200224Z",
     "iopub.status.idle": "2024-11-24T19:23:02.223787Z",
     "shell.execute_reply": "2024-11-24T19:23:02.223030Z"
    },
    "papermill": {
     "duration": 0.039959,
     "end_time": "2024-11-24T19:23:02.225366",
     "exception": false,
     "start_time": "2024-11-24T19:23:02.185407",
     "status": "completed"
    },
    "tags": []
   },
   "outputs": [
    {
     "data": {
      "text/plain": [
       "status\n",
       "0    7710\n",
       "1    7710\n",
       "2    7710\n",
       "3    7710\n",
       "4    7710\n",
       "5    7710\n",
       "Name: count, dtype: int64"
      ]
     },
     "execution_count": 42,
     "metadata": {},
     "output_type": "execute_result"
    }
   ],
   "source": [
    "df_sample_1 = resampling(df_sample[df_sample['status']==1])\n",
    "df_sample_2 = resampling(df_sample[df_sample['status']==2])\n",
    "df_sample_3 = resampling(df_sample[df_sample['status']==3])\n",
    "df_sample_4 = resampling(df_sample[df_sample['status']==4])\n",
    "df_sample_5 = resampling(df_sample[df_sample['status']==5])\n",
    "\n",
    "df_new =pd.concat([df_sample[df_sample['status']==0],df_sample_1,df_sample_2,df_sample_3,df_sample_4,df_sample_5], axis=0).reset_index(drop=True)\n",
    "df_new['status'].value_counts()"
   ]
  },
  {
   "cell_type": "markdown",
   "id": "1ff40427",
   "metadata": {
    "papermill": {
     "duration": 0.013849,
     "end_time": "2024-11-24T19:23:02.253304",
     "exception": false,
     "start_time": "2024-11-24T19:23:02.239455",
     "status": "completed"
    },
    "tags": []
   },
   "source": [
    "## Modelling"
   ]
  },
  {
   "cell_type": "code",
   "execution_count": 43,
   "id": "d1664b47",
   "metadata": {
    "execution": {
     "iopub.execute_input": "2024-11-24T19:23:02.282830Z",
     "iopub.status.busy": "2024-11-24T19:23:02.282538Z",
     "iopub.status.idle": "2024-11-24T19:23:04.073316Z",
     "shell.execute_reply": "2024-11-24T19:23:04.072245Z"
    },
    "papermill": {
     "duration": 1.807421,
     "end_time": "2024-11-24T19:23:04.075090",
     "exception": false,
     "start_time": "2024-11-24T19:23:02.267669",
     "status": "completed"
    },
    "tags": []
   },
   "outputs": [
    {
     "name": "stdout",
     "output_type": "stream",
     "text": [
      "Requirement already satisfied: gensim in /opt/conda/lib/python3.10/site-packages (4.3.3)\r\n",
      "Note: you may need to restart the kernel to use updated packages.\n"
     ]
    }
   ],
   "source": [
    "pip install gensim --no-deps\n"
   ]
  },
  {
   "cell_type": "code",
   "execution_count": 44,
   "id": "71d13808",
   "metadata": {
    "execution": {
     "iopub.execute_input": "2024-11-24T19:23:04.106081Z",
     "iopub.status.busy": "2024-11-24T19:23:04.105796Z",
     "iopub.status.idle": "2024-11-24T19:23:29.388921Z",
     "shell.execute_reply": "2024-11-24T19:23:29.388242Z"
    },
    "papermill": {
     "duration": 25.300632,
     "end_time": "2024-11-24T19:23:29.390851",
     "exception": false,
     "start_time": "2024-11-24T19:23:04.090219",
     "status": "completed"
    },
    "tags": []
   },
   "outputs": [],
   "source": [
    "from tensorflow.keras.preprocessing.text import Tokenizer\n",
    "from tensorflow.keras.preprocessing.sequence import pad_sequences\n",
    "import gensim.downloader as api\n",
    "import numpy as np\n",
    "from sklearn.model_selection import train_test_split\n",
    "from keras.models import Sequential\n",
    "from keras.layers import Embedding, Dropout, Dense\n",
    "from keras.layers import GRU\n",
    "from keras.callbacks import EarlyStopping, ModelCheckpoint\n",
    "\n"
   ]
  },
  {
   "cell_type": "markdown",
   "id": "d506099d",
   "metadata": {
    "papermill": {
     "duration": 0.01422,
     "end_time": "2024-11-24T19:23:29.420236",
     "exception": false,
     "start_time": "2024-11-24T19:23:29.406016",
     "status": "completed"
    },
    "tags": []
   },
   "source": [
    "### Tokenization with keras"
   ]
  },
  {
   "cell_type": "code",
   "execution_count": 45,
   "id": "6744b7d8",
   "metadata": {
    "execution": {
     "iopub.execute_input": "2024-11-24T19:23:29.450169Z",
     "iopub.status.busy": "2024-11-24T19:23:29.449624Z",
     "iopub.status.idle": "2024-11-24T19:23:31.733173Z",
     "shell.execute_reply": "2024-11-24T19:23:31.732436Z"
    },
    "papermill": {
     "duration": 2.300718,
     "end_time": "2024-11-24T19:23:31.735213",
     "exception": false,
     "start_time": "2024-11-24T19:23:29.434495",
     "status": "completed"
    },
    "tags": []
   },
   "outputs": [],
   "source": [
    "# Configuration\n",
    "EMBEDDING_DIM = 100  # Dimension of word embeddings\n",
    "MAX_NUM_WORDS = 10000  # Maximum number of unique words\n",
    "MAX_SEQUENCE_LENGTH = 200  # Fixed sequence length for all input data\n",
    "\n",
    "# Combine tokens back into a string to process with the Tokenizer\n",
    "df['statement'] = df['statement'].apply(lambda tokens: \" \".join(tokens))\n",
    "\n",
    "# Tokenizer: Train and convert text to sequences\n",
    "tokenizer = Tokenizer(num_words=MAX_NUM_WORDS, lower=True)  # Limit vocabulary size and convert to lowercase\n",
    "tokenizer.fit_on_texts(df['statement'])  # Learn the vocabulary from the text data\n",
    "X = tokenizer.texts_to_sequences(df['statement'])  # Convert text to numerical sequences\n",
    "\n",
    "# Pad sequences to ensure uniform length\n",
    "X = pad_sequences(X, maxlen=MAX_SEQUENCE_LENGTH, padding='post')  # Add padding at the end of sequences\n"
   ]
  },
  {
   "cell_type": "code",
   "execution_count": 46,
   "id": "6b38f867",
   "metadata": {
    "execution": {
     "iopub.execute_input": "2024-11-24T19:23:31.765834Z",
     "iopub.status.busy": "2024-11-24T19:23:31.765508Z",
     "iopub.status.idle": "2024-11-24T19:23:31.774851Z",
     "shell.execute_reply": "2024-11-24T19:23:31.774006Z"
    },
    "papermill": {
     "duration": 0.026113,
     "end_time": "2024-11-24T19:23:31.776438",
     "exception": false,
     "start_time": "2024-11-24T19:23:31.750325",
     "status": "completed"
    },
    "tags": []
   },
   "outputs": [
    {
     "data": {
      "text/html": [
       "<div>\n",
       "<style scoped>\n",
       "    .dataframe tbody tr th:only-of-type {\n",
       "        vertical-align: middle;\n",
       "    }\n",
       "\n",
       "    .dataframe tbody tr th {\n",
       "        vertical-align: top;\n",
       "    }\n",
       "\n",
       "    .dataframe thead th {\n",
       "        text-align: right;\n",
       "    }\n",
       "</style>\n",
       "<table border=\"1\" class=\"dataframe\">\n",
       "  <thead>\n",
       "    <tr style=\"text-align: right;\">\n",
       "      <th></th>\n",
       "      <th>Unnamed: 0</th>\n",
       "      <th>statement</th>\n",
       "      <th>status</th>\n",
       "    </tr>\n",
       "  </thead>\n",
       "  <tbody>\n",
       "    <tr>\n",
       "      <th>0</th>\n",
       "      <td>0</td>\n",
       "      <td>oh gosh</td>\n",
       "      <td>2</td>\n",
       "    </tr>\n",
       "    <tr>\n",
       "      <th>1</th>\n",
       "      <td>1</td>\n",
       "      <td>trouble sleep confused mind restless heart tune</td>\n",
       "      <td>2</td>\n",
       "    </tr>\n",
       "    <tr>\n",
       "      <th>2</th>\n",
       "      <td>2</td>\n",
       "      <td>wrong back dear forward doubt stay restless re...</td>\n",
       "      <td>2</td>\n",
       "    </tr>\n",
       "    <tr>\n",
       "      <th>3</th>\n",
       "      <td>3</td>\n",
       "      <td>shift focus something else still worry</td>\n",
       "      <td>2</td>\n",
       "    </tr>\n",
       "    <tr>\n",
       "      <th>4</th>\n",
       "      <td>4</td>\n",
       "      <td>restless restless month boy mean</td>\n",
       "      <td>2</td>\n",
       "    </tr>\n",
       "    <tr>\n",
       "      <th>5</th>\n",
       "      <td>5</td>\n",
       "      <td>every break must nervous like something wrong ...</td>\n",
       "      <td>2</td>\n",
       "    </tr>\n",
       "    <tr>\n",
       "      <th>6</th>\n",
       "      <td>6</td>\n",
       "      <td>feel anxious may family we protect</td>\n",
       "      <td>2</td>\n",
       "    </tr>\n",
       "    <tr>\n",
       "      <th>7</th>\n",
       "      <td>7</td>\n",
       "      <td>ever feel nervous know</td>\n",
       "      <td>2</td>\n",
       "    </tr>\n",
       "    <tr>\n",
       "      <th>8</th>\n",
       "      <td>8</td>\n",
       "      <td>sleep well day like restless huh</td>\n",
       "      <td>2</td>\n",
       "    </tr>\n",
       "    <tr>\n",
       "      <th>9</th>\n",
       "      <td>9</td>\n",
       "      <td>really worried want cry</td>\n",
       "      <td>2</td>\n",
       "    </tr>\n",
       "    <tr>\n",
       "      <th>10</th>\n",
       "      <td>10</td>\n",
       "      <td>always restless every night even though know w...</td>\n",
       "      <td>2</td>\n",
       "    </tr>\n",
       "    <tr>\n",
       "      <th>11</th>\n",
       "      <td>11</td>\n",
       "      <td>confused feel good lately every ti want sleep ...</td>\n",
       "      <td>2</td>\n",
       "    </tr>\n",
       "    <tr>\n",
       "      <th>12</th>\n",
       "      <td>12</td>\n",
       "      <td>ti ame need problem laugh forget problem remem...</td>\n",
       "      <td>2</td>\n",
       "    </tr>\n",
       "    <tr>\n",
       "      <th>13</th>\n",
       "      <td>13</td>\n",
       "      <td>worry</td>\n",
       "      <td>2</td>\n",
       "    </tr>\n",
       "    <tr>\n",
       "      <th>14</th>\n",
       "      <td>14</td>\n",
       "      <td>ti ame thought make anxious afraid close eye s...</td>\n",
       "      <td>2</td>\n",
       "    </tr>\n",
       "    <tr>\n",
       "      <th>15</th>\n",
       "      <td>15</td>\n",
       "      <td>every ti wake definitely nervous excited going...</td>\n",
       "      <td>2</td>\n",
       "    </tr>\n",
       "    <tr>\n",
       "      <th>16</th>\n",
       "      <td>16</td>\n",
       "      <td>hope even though worried start like</td>\n",
       "      <td>2</td>\n",
       "    </tr>\n",
       "    <tr>\n",
       "      <th>17</th>\n",
       "      <td>17</td>\n",
       "      <td>restive restless restless</td>\n",
       "      <td>2</td>\n",
       "    </tr>\n",
       "    <tr>\n",
       "      <th>18</th>\n",
       "      <td>18</td>\n",
       "      <td>regret grudge angry thing pass worry much futu...</td>\n",
       "      <td>2</td>\n",
       "    </tr>\n",
       "    <tr>\n",
       "      <th>19</th>\n",
       "      <td>19</td>\n",
       "      <td>guy sick girl actually feel sick indirectly mu...</td>\n",
       "      <td>2</td>\n",
       "    </tr>\n",
       "  </tbody>\n",
       "</table>\n",
       "</div>"
      ],
      "text/plain": [
       "    Unnamed: 0                                          statement  status\n",
       "0            0                                            oh gosh       2\n",
       "1            1    trouble sleep confused mind restless heart tune       2\n",
       "2            2  wrong back dear forward doubt stay restless re...       2\n",
       "3            3             shift focus something else still worry       2\n",
       "4            4                   restless restless month boy mean       2\n",
       "5            5  every break must nervous like something wrong ...       2\n",
       "6            6                 feel anxious may family we protect       2\n",
       "7            7                             ever feel nervous know       2\n",
       "8            8                   sleep well day like restless huh       2\n",
       "9            9                            really worried want cry       2\n",
       "10          10  always restless every night even though know w...       2\n",
       "11          11  confused feel good lately every ti want sleep ...       2\n",
       "12          12  ti ame need problem laugh forget problem remem...       2\n",
       "13          13                                              worry       2\n",
       "14          14  ti ame thought make anxious afraid close eye s...       2\n",
       "15          15  every ti wake definitely nervous excited going...       2\n",
       "16          16                hope even though worried start like       2\n",
       "17          17                          restive restless restless       2\n",
       "18          18  regret grudge angry thing pass worry much futu...       2\n",
       "19          19  guy sick girl actually feel sick indirectly mu...       2"
      ]
     },
     "execution_count": 46,
     "metadata": {},
     "output_type": "execute_result"
    }
   ],
   "source": [
    "df.head(20)"
   ]
  },
  {
   "cell_type": "markdown",
   "id": "70481972",
   "metadata": {
    "papermill": {
     "duration": 0.014555,
     "end_time": "2024-11-24T19:23:31.805647",
     "exception": false,
     "start_time": "2024-11-24T19:23:31.791092",
     "status": "completed"
    },
    "tags": []
   },
   "source": [
    "### Convert label to one-hot encoding"
   ]
  },
  {
   "cell_type": "code",
   "execution_count": 47,
   "id": "ba057f55",
   "metadata": {
    "execution": {
     "iopub.execute_input": "2024-11-24T19:23:31.835827Z",
     "iopub.status.busy": "2024-11-24T19:23:31.835602Z",
     "iopub.status.idle": "2024-11-24T19:23:31.858194Z",
     "shell.execute_reply": "2024-11-24T19:23:31.857459Z"
    },
    "papermill": {
     "duration": 0.039898,
     "end_time": "2024-11-24T19:23:31.860268",
     "exception": false,
     "start_time": "2024-11-24T19:23:31.820370",
     "status": "completed"
    },
    "tags": []
   },
   "outputs": [],
   "source": [
    "# Convert labels to one-hot encoding\n",
    "y = pd.get_dummies(df['status']).values  # Transform class labels into a binary matrix\n",
    "\n",
    "# Split data into training and testing sets\n",
    "X_train, X_test, y_train, y_test = train_test_split(X, y, test_size=0.3, random_state=42)\n",
    "# `test_size=0.3` allocates 30% of the data for testing, 70% for training\n",
    "# `random_state=42` ensures reproducibility of the split\n",
    "\n"
   ]
  },
  {
   "cell_type": "markdown",
   "id": "515e5f4b",
   "metadata": {
    "papermill": {
     "duration": 0.014554,
     "end_time": "2024-11-24T19:23:31.890722",
     "exception": false,
     "start_time": "2024-11-24T19:23:31.876168",
     "status": "completed"
    },
    "tags": []
   },
   "source": [
    "### Word Embedding"
   ]
  },
  {
   "cell_type": "code",
   "execution_count": 48,
   "id": "20c4e659",
   "metadata": {
    "execution": {
     "iopub.execute_input": "2024-11-24T19:23:31.921473Z",
     "iopub.status.busy": "2024-11-24T19:23:31.921162Z",
     "iopub.status.idle": "2024-11-24T19:24:16.495150Z",
     "shell.execute_reply": "2024-11-24T19:24:16.494097Z"
    },
    "papermill": {
     "duration": 44.592036,
     "end_time": "2024-11-24T19:24:16.497350",
     "exception": false,
     "start_time": "2024-11-24T19:23:31.905314",
     "status": "completed"
    },
    "tags": []
   },
   "outputs": [
    {
     "name": "stdout",
     "output_type": "stream",
     "text": [
      "[==================================================] 100.0% 128.1/128.1MB downloaded\n"
     ]
    }
   ],
   "source": [
    "# Download and load pre-trained GloVe embeddings (100 dimensions)\n",
    "glove_gensim = api.load('glove-wiki-gigaword-100')\n",
    "\n",
    "# Create a weight matrix for the embedding layer\n",
    "gensim_weight_matrix = np.zeros((MAX_NUM_WORDS, EMBEDDING_DIM))  # Initialize with zeros\n",
    "\n",
    "# Populate the weight matrix with GloVe vectors for words in the tokenizer's vocabulary\n",
    "for word, index in tokenizer.word_index.items():\n",
    "    if index < MAX_NUM_WORDS:  # Ensure the index is within the specified maximum word limit\n",
    "        if word in glove_gensim.index_to_key:  # Check if the word exists in the GloVe vocabulary\n",
    "            gensim_weight_matrix[index] = glove_gensim[word]  # Assign the GloVe vector\n",
    "        else:\n",
    "            gensim_weight_matrix[index] = np.zeros(EMBEDDING_DIM)  # Assign a zero vector if the word is not found\n"
   ]
  },
  {
   "cell_type": "markdown",
   "id": "f81788f2",
   "metadata": {
    "papermill": {
     "duration": 0.766404,
     "end_time": "2024-11-24T19:24:18.037412",
     "exception": false,
     "start_time": "2024-11-24T19:24:17.271008",
     "status": "completed"
    },
    "tags": []
   },
   "source": [
    "### Build the Model"
   ]
  },
  {
   "cell_type": "code",
   "execution_count": 49,
   "id": "1a043a37",
   "metadata": {
    "execution": {
     "iopub.execute_input": "2024-11-24T19:24:19.512383Z",
     "iopub.status.busy": "2024-11-24T19:24:19.511417Z",
     "iopub.status.idle": "2024-11-24T19:24:20.857392Z",
     "shell.execute_reply": "2024-11-24T19:24:20.856542Z"
    },
    "papermill": {
     "duration": 2.103933,
     "end_time": "2024-11-24T19:24:20.859138",
     "exception": false,
     "start_time": "2024-11-24T19:24:18.755205",
     "status": "completed"
    },
    "tags": []
   },
   "outputs": [
    {
     "data": {
      "text/html": [
       "<pre style=\"white-space:pre;overflow-x:auto;line-height:normal;font-family:Menlo,'DejaVu Sans Mono',consolas,'Courier New',monospace\"><span style=\"font-weight: bold\">Model: \"sequential\"</span>\n",
       "</pre>\n"
      ],
      "text/plain": [
       "\u001b[1mModel: \"sequential\"\u001b[0m\n"
      ]
     },
     "metadata": {},
     "output_type": "display_data"
    },
    {
     "data": {
      "text/html": [
       "<pre style=\"white-space:pre;overflow-x:auto;line-height:normal;font-family:Menlo,'DejaVu Sans Mono',consolas,'Courier New',monospace\">┏━━━━━━━━━━━━━━━━━━━━━━━━━━━━━━━━━┳━━━━━━━━━━━━━━━━━━━━━━━━┳━━━━━━━━━━━━━━━┓\n",
       "┃<span style=\"font-weight: bold\"> Layer (type)                    </span>┃<span style=\"font-weight: bold\"> Output Shape           </span>┃<span style=\"font-weight: bold\">       Param # </span>┃\n",
       "┡━━━━━━━━━━━━━━━━━━━━━━━━━━━━━━━━━╇━━━━━━━━━━━━━━━━━━━━━━━━╇━━━━━━━━━━━━━━━┩\n",
       "│ embedding (<span style=\"color: #0087ff; text-decoration-color: #0087ff\">Embedding</span>)           │ (<span style=\"color: #00d7ff; text-decoration-color: #00d7ff\">None</span>, <span style=\"color: #00af00; text-decoration-color: #00af00\">200</span>, <span style=\"color: #00af00; text-decoration-color: #00af00\">100</span>)       │     <span style=\"color: #00af00; text-decoration-color: #00af00\">1,000,000</span> │\n",
       "├─────────────────────────────────┼────────────────────────┼───────────────┤\n",
       "│ gru (<span style=\"color: #0087ff; text-decoration-color: #0087ff\">GRU</span>)                       │ (<span style=\"color: #00d7ff; text-decoration-color: #00d7ff\">None</span>, <span style=\"color: #00af00; text-decoration-color: #00af00\">200</span>, <span style=\"color: #00af00; text-decoration-color: #00af00\">100</span>)       │        <span style=\"color: #00af00; text-decoration-color: #00af00\">60,600</span> │\n",
       "├─────────────────────────────────┼────────────────────────┼───────────────┤\n",
       "│ dropout (<span style=\"color: #0087ff; text-decoration-color: #0087ff\">Dropout</span>)               │ (<span style=\"color: #00d7ff; text-decoration-color: #00d7ff\">None</span>, <span style=\"color: #00af00; text-decoration-color: #00af00\">200</span>, <span style=\"color: #00af00; text-decoration-color: #00af00\">100</span>)       │             <span style=\"color: #00af00; text-decoration-color: #00af00\">0</span> │\n",
       "├─────────────────────────────────┼────────────────────────┼───────────────┤\n",
       "│ gru_1 (<span style=\"color: #0087ff; text-decoration-color: #0087ff\">GRU</span>)                     │ (<span style=\"color: #00d7ff; text-decoration-color: #00d7ff\">None</span>, <span style=\"color: #00af00; text-decoration-color: #00af00\">200</span>, <span style=\"color: #00af00; text-decoration-color: #00af00\">100</span>)       │        <span style=\"color: #00af00; text-decoration-color: #00af00\">60,600</span> │\n",
       "├─────────────────────────────────┼────────────────────────┼───────────────┤\n",
       "│ dropout_1 (<span style=\"color: #0087ff; text-decoration-color: #0087ff\">Dropout</span>)             │ (<span style=\"color: #00d7ff; text-decoration-color: #00d7ff\">None</span>, <span style=\"color: #00af00; text-decoration-color: #00af00\">200</span>, <span style=\"color: #00af00; text-decoration-color: #00af00\">100</span>)       │             <span style=\"color: #00af00; text-decoration-color: #00af00\">0</span> │\n",
       "├─────────────────────────────────┼────────────────────────┼───────────────┤\n",
       "│ gru_2 (<span style=\"color: #0087ff; text-decoration-color: #0087ff\">GRU</span>)                     │ (<span style=\"color: #00d7ff; text-decoration-color: #00d7ff\">None</span>, <span style=\"color: #00af00; text-decoration-color: #00af00\">200</span>, <span style=\"color: #00af00; text-decoration-color: #00af00\">100</span>)       │        <span style=\"color: #00af00; text-decoration-color: #00af00\">60,600</span> │\n",
       "├─────────────────────────────────┼────────────────────────┼───────────────┤\n",
       "│ dropout_2 (<span style=\"color: #0087ff; text-decoration-color: #0087ff\">Dropout</span>)             │ (<span style=\"color: #00d7ff; text-decoration-color: #00d7ff\">None</span>, <span style=\"color: #00af00; text-decoration-color: #00af00\">200</span>, <span style=\"color: #00af00; text-decoration-color: #00af00\">100</span>)       │             <span style=\"color: #00af00; text-decoration-color: #00af00\">0</span> │\n",
       "├─────────────────────────────────┼────────────────────────┼───────────────┤\n",
       "│ gru_3 (<span style=\"color: #0087ff; text-decoration-color: #0087ff\">GRU</span>)                     │ (<span style=\"color: #00d7ff; text-decoration-color: #00d7ff\">None</span>, <span style=\"color: #00af00; text-decoration-color: #00af00\">100</span>)            │        <span style=\"color: #00af00; text-decoration-color: #00af00\">60,600</span> │\n",
       "├─────────────────────────────────┼────────────────────────┼───────────────┤\n",
       "│ dropout_3 (<span style=\"color: #0087ff; text-decoration-color: #0087ff\">Dropout</span>)             │ (<span style=\"color: #00d7ff; text-decoration-color: #00d7ff\">None</span>, <span style=\"color: #00af00; text-decoration-color: #00af00\">100</span>)            │             <span style=\"color: #00af00; text-decoration-color: #00af00\">0</span> │\n",
       "├─────────────────────────────────┼────────────────────────┼───────────────┤\n",
       "│ dense (<span style=\"color: #0087ff; text-decoration-color: #0087ff\">Dense</span>)                   │ (<span style=\"color: #00d7ff; text-decoration-color: #00d7ff\">None</span>, <span style=\"color: #00af00; text-decoration-color: #00af00\">64</span>)             │         <span style=\"color: #00af00; text-decoration-color: #00af00\">6,464</span> │\n",
       "├─────────────────────────────────┼────────────────────────┼───────────────┤\n",
       "│ dropout_4 (<span style=\"color: #0087ff; text-decoration-color: #0087ff\">Dropout</span>)             │ (<span style=\"color: #00d7ff; text-decoration-color: #00d7ff\">None</span>, <span style=\"color: #00af00; text-decoration-color: #00af00\">64</span>)             │             <span style=\"color: #00af00; text-decoration-color: #00af00\">0</span> │\n",
       "├─────────────────────────────────┼────────────────────────┼───────────────┤\n",
       "│ dense_1 (<span style=\"color: #0087ff; text-decoration-color: #0087ff\">Dense</span>)                 │ (<span style=\"color: #00d7ff; text-decoration-color: #00d7ff\">None</span>, <span style=\"color: #00af00; text-decoration-color: #00af00\">6</span>)              │           <span style=\"color: #00af00; text-decoration-color: #00af00\">390</span> │\n",
       "└─────────────────────────────────┴────────────────────────┴───────────────┘\n",
       "</pre>\n"
      ],
      "text/plain": [
       "┏━━━━━━━━━━━━━━━━━━━━━━━━━━━━━━━━━┳━━━━━━━━━━━━━━━━━━━━━━━━┳━━━━━━━━━━━━━━━┓\n",
       "┃\u001b[1m \u001b[0m\u001b[1mLayer (type)                   \u001b[0m\u001b[1m \u001b[0m┃\u001b[1m \u001b[0m\u001b[1mOutput Shape          \u001b[0m\u001b[1m \u001b[0m┃\u001b[1m \u001b[0m\u001b[1m      Param #\u001b[0m\u001b[1m \u001b[0m┃\n",
       "┡━━━━━━━━━━━━━━━━━━━━━━━━━━━━━━━━━╇━━━━━━━━━━━━━━━━━━━━━━━━╇━━━━━━━━━━━━━━━┩\n",
       "│ embedding (\u001b[38;5;33mEmbedding\u001b[0m)           │ (\u001b[38;5;45mNone\u001b[0m, \u001b[38;5;34m200\u001b[0m, \u001b[38;5;34m100\u001b[0m)       │     \u001b[38;5;34m1,000,000\u001b[0m │\n",
       "├─────────────────────────────────┼────────────────────────┼───────────────┤\n",
       "│ gru (\u001b[38;5;33mGRU\u001b[0m)                       │ (\u001b[38;5;45mNone\u001b[0m, \u001b[38;5;34m200\u001b[0m, \u001b[38;5;34m100\u001b[0m)       │        \u001b[38;5;34m60,600\u001b[0m │\n",
       "├─────────────────────────────────┼────────────────────────┼───────────────┤\n",
       "│ dropout (\u001b[38;5;33mDropout\u001b[0m)               │ (\u001b[38;5;45mNone\u001b[0m, \u001b[38;5;34m200\u001b[0m, \u001b[38;5;34m100\u001b[0m)       │             \u001b[38;5;34m0\u001b[0m │\n",
       "├─────────────────────────────────┼────────────────────────┼───────────────┤\n",
       "│ gru_1 (\u001b[38;5;33mGRU\u001b[0m)                     │ (\u001b[38;5;45mNone\u001b[0m, \u001b[38;5;34m200\u001b[0m, \u001b[38;5;34m100\u001b[0m)       │        \u001b[38;5;34m60,600\u001b[0m │\n",
       "├─────────────────────────────────┼────────────────────────┼───────────────┤\n",
       "│ dropout_1 (\u001b[38;5;33mDropout\u001b[0m)             │ (\u001b[38;5;45mNone\u001b[0m, \u001b[38;5;34m200\u001b[0m, \u001b[38;5;34m100\u001b[0m)       │             \u001b[38;5;34m0\u001b[0m │\n",
       "├─────────────────────────────────┼────────────────────────┼───────────────┤\n",
       "│ gru_2 (\u001b[38;5;33mGRU\u001b[0m)                     │ (\u001b[38;5;45mNone\u001b[0m, \u001b[38;5;34m200\u001b[0m, \u001b[38;5;34m100\u001b[0m)       │        \u001b[38;5;34m60,600\u001b[0m │\n",
       "├─────────────────────────────────┼────────────────────────┼───────────────┤\n",
       "│ dropout_2 (\u001b[38;5;33mDropout\u001b[0m)             │ (\u001b[38;5;45mNone\u001b[0m, \u001b[38;5;34m200\u001b[0m, \u001b[38;5;34m100\u001b[0m)       │             \u001b[38;5;34m0\u001b[0m │\n",
       "├─────────────────────────────────┼────────────────────────┼───────────────┤\n",
       "│ gru_3 (\u001b[38;5;33mGRU\u001b[0m)                     │ (\u001b[38;5;45mNone\u001b[0m, \u001b[38;5;34m100\u001b[0m)            │        \u001b[38;5;34m60,600\u001b[0m │\n",
       "├─────────────────────────────────┼────────────────────────┼───────────────┤\n",
       "│ dropout_3 (\u001b[38;5;33mDropout\u001b[0m)             │ (\u001b[38;5;45mNone\u001b[0m, \u001b[38;5;34m100\u001b[0m)            │             \u001b[38;5;34m0\u001b[0m │\n",
       "├─────────────────────────────────┼────────────────────────┼───────────────┤\n",
       "│ dense (\u001b[38;5;33mDense\u001b[0m)                   │ (\u001b[38;5;45mNone\u001b[0m, \u001b[38;5;34m64\u001b[0m)             │         \u001b[38;5;34m6,464\u001b[0m │\n",
       "├─────────────────────────────────┼────────────────────────┼───────────────┤\n",
       "│ dropout_4 (\u001b[38;5;33mDropout\u001b[0m)             │ (\u001b[38;5;45mNone\u001b[0m, \u001b[38;5;34m64\u001b[0m)             │             \u001b[38;5;34m0\u001b[0m │\n",
       "├─────────────────────────────────┼────────────────────────┼───────────────┤\n",
       "│ dense_1 (\u001b[38;5;33mDense\u001b[0m)                 │ (\u001b[38;5;45mNone\u001b[0m, \u001b[38;5;34m6\u001b[0m)              │           \u001b[38;5;34m390\u001b[0m │\n",
       "└─────────────────────────────────┴────────────────────────┴───────────────┘\n"
      ]
     },
     "metadata": {},
     "output_type": "display_data"
    },
    {
     "data": {
      "text/html": [
       "<pre style=\"white-space:pre;overflow-x:auto;line-height:normal;font-family:Menlo,'DejaVu Sans Mono',consolas,'Courier New',monospace\"><span style=\"font-weight: bold\"> Total params: </span><span style=\"color: #00af00; text-decoration-color: #00af00\">1,249,254</span> (4.77 MB)\n",
       "</pre>\n"
      ],
      "text/plain": [
       "\u001b[1m Total params: \u001b[0m\u001b[38;5;34m1,249,254\u001b[0m (4.77 MB)\n"
      ]
     },
     "metadata": {},
     "output_type": "display_data"
    },
    {
     "data": {
      "text/html": [
       "<pre style=\"white-space:pre;overflow-x:auto;line-height:normal;font-family:Menlo,'DejaVu Sans Mono',consolas,'Courier New',monospace\"><span style=\"font-weight: bold\"> Trainable params: </span><span style=\"color: #00af00; text-decoration-color: #00af00\">1,249,254</span> (4.77 MB)\n",
       "</pre>\n"
      ],
      "text/plain": [
       "\u001b[1m Trainable params: \u001b[0m\u001b[38;5;34m1,249,254\u001b[0m (4.77 MB)\n"
      ]
     },
     "metadata": {},
     "output_type": "display_data"
    },
    {
     "data": {
      "text/html": [
       "<pre style=\"white-space:pre;overflow-x:auto;line-height:normal;font-family:Menlo,'DejaVu Sans Mono',consolas,'Courier New',monospace\"><span style=\"font-weight: bold\"> Non-trainable params: </span><span style=\"color: #00af00; text-decoration-color: #00af00\">0</span> (0.00 B)\n",
       "</pre>\n"
      ],
      "text/plain": [
       "\u001b[1m Non-trainable params: \u001b[0m\u001b[38;5;34m0\u001b[0m (0.00 B)\n"
      ]
     },
     "metadata": {},
     "output_type": "display_data"
    }
   ],
   "source": [
    "from tensorflow.keras.models import Sequential\n",
    "from tensorflow.keras.layers import Embedding, GRU, Dense, Dropout, Input\n",
    "\n",
    "# Build the model\n",
    "model = Sequential()\n",
    "\n",
    "# Add Input layer\n",
    "model.add(Input(shape=(X.shape[1],)))  # Sequence length: 200\n",
    "\n",
    "# Embedding Layer\n",
    "model.add(Embedding(input_dim=MAX_NUM_WORDS,       # Number of words in the tokenizer\n",
    "                    output_dim=EMBEDDING_DIM,     # Embedding dimensions (e.g., 100)\n",
    "                    weights=[gensim_weight_matrix],  # Pre-trained GloVe embedding matrix\n",
    "                    trainable=True))             # Fine-tuning allowed (weights can be updated)\n",
    "\n",
    "# GRU Layer 1\n",
    "model.add(GRU(100, return_sequences=True))  # First GRU layer with 100 units, returning sequences for further layers\n",
    "model.add(Dropout(0.2))  # Dropout to prevent overfitting\n",
    "\n",
    "# GRU Layer 2\n",
    "model.add(GRU(100, return_sequences=True)) \n",
    "model.add(Dropout(0.2))  \n",
    "\n",
    "# GRU Layer 3 (Adding one more GRU layer)\n",
    "model.add(GRU(100, return_sequences=True))  \n",
    "model.add(Dropout(0.2))  \n",
    "\n",
    "# GRU Layer 4 (Adding one more GRU layer)\n",
    "model.add(GRU(100, return_sequences=False))  # Fourth GRU layer, not returning sequences (final output)\n",
    "model.add(Dropout(0.2))  #\n",
    "\n",
    "# Fully Connected Output Layer\n",
    "model.add(Dense(64, activation='relu'))  #\n",
    "model.add(Dropout(0.2))  # Dropout to pre\n",
    "\n",
    "# Output Layer\n",
    "model.add(Dense(y.shape[1], activation='softmax'))  # Output layer with softmax activation for multi-class \n",
    "\n",
    "\n",
    "# Compile the model\n",
    "model.compile(loss='categorical_crossentropy', optimizer='adam', metrics=['accuracy'])\n",
    "\n",
    "# Display model summary\n",
    "model.summary()\n"
   ]
  },
  {
   "cell_type": "code",
   "execution_count": 50,
   "id": "58a488f2",
   "metadata": {
    "execution": {
     "iopub.execute_input": "2024-11-24T19:24:22.387633Z",
     "iopub.status.busy": "2024-11-24T19:24:22.386625Z",
     "iopub.status.idle": "2024-11-24T19:24:22.391528Z",
     "shell.execute_reply": "2024-11-24T19:24:22.390743Z"
    },
    "papermill": {
     "duration": 0.774363,
     "end_time": "2024-11-24T19:24:22.393090",
     "exception": false,
     "start_time": "2024-11-24T19:24:21.618727",
     "status": "completed"
    },
    "tags": []
   },
   "outputs": [],
   "source": [
    "es = EarlyStopping(monitor='val_loss', mode='min', verbose=1, patience=5)  # Stop training if validation loss doesn't improve for 5 epochs\n",
    "mc = ModelCheckpoint('./best_model.keras', monitor='val_accuracy', mode='max', \n",
    "                     verbose=1, save_best_only=True)  # Save the model with the best validation accuracy"
   ]
  },
  {
   "cell_type": "markdown",
   "id": "476012c7",
   "metadata": {
    "papermill": {
     "duration": 0.754795,
     "end_time": "2024-11-24T19:24:23.860837",
     "exception": false,
     "start_time": "2024-11-24T19:24:23.106042",
     "status": "completed"
    },
    "tags": []
   },
   "source": [
    "### Train the Model"
   ]
  },
  {
   "cell_type": "code",
   "execution_count": 51,
   "id": "78a0535e",
   "metadata": {
    "execution": {
     "iopub.execute_input": "2024-11-24T19:24:25.369488Z",
     "iopub.status.busy": "2024-11-24T19:24:25.368772Z",
     "iopub.status.idle": "2024-11-24T19:26:18.407385Z",
     "shell.execute_reply": "2024-11-24T19:26:18.406508Z"
    },
    "papermill": {
     "duration": 113.759031,
     "end_time": "2024-11-24T19:26:18.409114",
     "exception": false,
     "start_time": "2024-11-24T19:24:24.650083",
     "status": "completed"
    },
    "tags": []
   },
   "outputs": [
    {
     "name": "stdout",
     "output_type": "stream",
     "text": [
      "Epoch 1/20\n",
      "\u001b[1m183/184\u001b[0m \u001b[32m━━━━━━━━━━━━━━━━━━━\u001b[0m\u001b[37m━\u001b[0m \u001b[1m0s\u001b[0m 45ms/step - accuracy: 0.3941 - loss: 1.4749\n",
      "Epoch 1: val_accuracy improved from -inf to 0.42250, saving model to ./best_model.keras\n",
      "\u001b[1m184/184\u001b[0m \u001b[32m━━━━━━━━━━━━━━━━━━━━\u001b[0m\u001b[37m\u001b[0m \u001b[1m15s\u001b[0m 52ms/step - accuracy: 0.3941 - loss: 1.4744 - val_accuracy: 0.4225 - val_loss: 1.3796\n",
      "Epoch 2/20\n",
      "\u001b[1m183/184\u001b[0m \u001b[32m━━━━━━━━━━━━━━━━━━━\u001b[0m\u001b[37m━\u001b[0m \u001b[1m0s\u001b[0m 45ms/step - accuracy: 0.4961 - loss: 1.2991\n",
      "Epoch 2: val_accuracy improved from 0.42250 to 0.70156, saving model to ./best_model.keras\n",
      "\u001b[1m184/184\u001b[0m \u001b[32m━━━━━━━━━━━━━━━━━━━━\u001b[0m\u001b[37m\u001b[0m \u001b[1m9s\u001b[0m 49ms/step - accuracy: 0.4973 - loss: 1.2972 - val_accuracy: 0.7016 - val_loss: 0.9071\n",
      "Epoch 3/20\n",
      "\u001b[1m183/184\u001b[0m \u001b[32m━━━━━━━━━━━━━━━━━━━\u001b[0m\u001b[37m━\u001b[0m \u001b[1m0s\u001b[0m 45ms/step - accuracy: 0.7140 - loss: 0.8765\n",
      "Epoch 3: val_accuracy improved from 0.70156 to 0.76088, saving model to ./best_model.keras\n",
      "\u001b[1m184/184\u001b[0m \u001b[32m━━━━━━━━━━━━━━━━━━━━\u001b[0m\u001b[37m\u001b[0m \u001b[1m9s\u001b[0m 50ms/step - accuracy: 0.7141 - loss: 0.8761 - val_accuracy: 0.7609 - val_loss: 0.7361\n",
      "Epoch 4/20\n",
      "\u001b[1m183/184\u001b[0m \u001b[32m━━━━━━━━━━━━━━━━━━━\u001b[0m\u001b[37m━\u001b[0m \u001b[1m0s\u001b[0m 46ms/step - accuracy: 0.8023 - loss: 0.6242\n",
      "Epoch 4: val_accuracy improved from 0.76088 to 0.80812, saving model to ./best_model.keras\n",
      "\u001b[1m184/184\u001b[0m \u001b[32m━━━━━━━━━━━━━━━━━━━━\u001b[0m\u001b[37m\u001b[0m \u001b[1m9s\u001b[0m 50ms/step - accuracy: 0.8024 - loss: 0.6238 - val_accuracy: 0.8081 - val_loss: 0.5865\n",
      "Epoch 5/20\n",
      "\u001b[1m183/184\u001b[0m \u001b[32m━━━━━━━━━━━━━━━━━━━\u001b[0m\u001b[37m━\u001b[0m \u001b[1m0s\u001b[0m 46ms/step - accuracy: 0.8478 - loss: 0.4939\n",
      "Epoch 5: val_accuracy improved from 0.80812 to 0.82019, saving model to ./best_model.keras\n",
      "\u001b[1m184/184\u001b[0m \u001b[32m━━━━━━━━━━━━━━━━━━━━\u001b[0m\u001b[37m\u001b[0m \u001b[1m9s\u001b[0m 50ms/step - accuracy: 0.8478 - loss: 0.4939 - val_accuracy: 0.8202 - val_loss: 0.6037\n",
      "Epoch 6/20\n",
      "\u001b[1m183/184\u001b[0m \u001b[32m━━━━━━━━━━━━━━━━━━━\u001b[0m\u001b[37m━\u001b[0m \u001b[1m0s\u001b[0m 46ms/step - accuracy: 0.8698 - loss: 0.4248\n",
      "Epoch 6: val_accuracy improved from 0.82019 to 0.82053, saving model to ./best_model.keras\n",
      "\u001b[1m184/184\u001b[0m \u001b[32m━━━━━━━━━━━━━━━━━━━━\u001b[0m\u001b[37m\u001b[0m \u001b[1m9s\u001b[0m 51ms/step - accuracy: 0.8698 - loss: 0.4248 - val_accuracy: 0.8205 - val_loss: 0.5860\n",
      "Epoch 7/20\n",
      "\u001b[1m183/184\u001b[0m \u001b[32m━━━━━━━━━━━━━━━━━━━\u001b[0m\u001b[37m━\u001b[0m \u001b[1m0s\u001b[0m 47ms/step - accuracy: 0.8868 - loss: 0.3693\n",
      "Epoch 7: val_accuracy improved from 0.82053 to 0.82597, saving model to ./best_model.keras\n",
      "\u001b[1m184/184\u001b[0m \u001b[32m━━━━━━━━━━━━━━━━━━━━\u001b[0m\u001b[37m\u001b[0m \u001b[1m9s\u001b[0m 51ms/step - accuracy: 0.8868 - loss: 0.3693 - val_accuracy: 0.8260 - val_loss: 0.5899\n",
      "Epoch 8/20\n",
      "\u001b[1m183/184\u001b[0m \u001b[32m━━━━━━━━━━━━━━━━━━━\u001b[0m\u001b[37m━\u001b[0m \u001b[1m0s\u001b[0m 47ms/step - accuracy: 0.9069 - loss: 0.3036\n",
      "Epoch 8: val_accuracy did not improve from 0.82597\n",
      "\u001b[1m184/184\u001b[0m \u001b[32m━━━━━━━━━━━━━━━━━━━━\u001b[0m\u001b[37m\u001b[0m \u001b[1m9s\u001b[0m 51ms/step - accuracy: 0.9069 - loss: 0.3037 - val_accuracy: 0.8190 - val_loss: 0.6415\n",
      "Epoch 9/20\n",
      "\u001b[1m183/184\u001b[0m \u001b[32m━━━━━━━━━━━━━━━━━━━\u001b[0m\u001b[37m━\u001b[0m \u001b[1m0s\u001b[0m 47ms/step - accuracy: 0.9219 - loss: 0.2634\n",
      "Epoch 9: val_accuracy did not improve from 0.82597\n",
      "\u001b[1m184/184\u001b[0m \u001b[32m━━━━━━━━━━━━━━━━━━━━\u001b[0m\u001b[37m\u001b[0m \u001b[1m9s\u001b[0m 51ms/step - accuracy: 0.9219 - loss: 0.2634 - val_accuracy: 0.8238 - val_loss: 0.6915\n",
      "Epoch 10/20\n",
      "\u001b[1m184/184\u001b[0m \u001b[32m━━━━━━━━━━━━━━━━━━━━\u001b[0m\u001b[37m\u001b[0m \u001b[1m0s\u001b[0m 48ms/step - accuracy: 0.9384 - loss: 0.2230\n",
      "Epoch 10: val_accuracy did not improve from 0.82597\n",
      "\u001b[1m184/184\u001b[0m \u001b[32m━━━━━━━━━━━━━━━━━━━━\u001b[0m\u001b[37m\u001b[0m \u001b[1m10s\u001b[0m 52ms/step - accuracy: 0.9384 - loss: 0.2230 - val_accuracy: 0.8236 - val_loss: 0.7146\n",
      "Epoch 11/20\n",
      "\u001b[1m184/184\u001b[0m \u001b[32m━━━━━━━━━━━━━━━━━━━━\u001b[0m\u001b[37m\u001b[0m \u001b[1m0s\u001b[0m 48ms/step - accuracy: 0.9492 - loss: 0.1789\n",
      "Epoch 11: val_accuracy improved from 0.82597 to 0.82750, saving model to ./best_model.keras\n",
      "\u001b[1m184/184\u001b[0m \u001b[32m━━━━━━━━━━━━━━━━━━━━\u001b[0m\u001b[37m\u001b[0m \u001b[1m10s\u001b[0m 53ms/step - accuracy: 0.9492 - loss: 0.1790 - val_accuracy: 0.8275 - val_loss: 0.6880\n",
      "Epoch 11: early stopping\n",
      "\u001b[1m395/395\u001b[0m \u001b[32m━━━━━━━━━━━━━━━━━━━━\u001b[0m\u001b[37m\u001b[0m \u001b[1m4s\u001b[0m 11ms/step - accuracy: 0.8327 - loss: 0.6650\n",
      "Test Loss: 0.6600224375724792\n",
      "Test Accuracy: 0.8365453481674194\n"
     ]
    }
   ],
   "source": [
    "# Melatih model\n",
    "history = model.fit(X_train, y_train,\n",
    "                    validation_split=0.2,\n",
    "                    epochs=20,\n",
    "                    batch_size=128,\n",
    "                    callbacks=[es, mc],\n",
    "                    verbose=1)\n",
    "\n",
    "# Evaluasi model\n",
    "loss, accuracy = model.evaluate(X_test, y_test, verbose=1)\n",
    "print(f\"Test Loss: {loss}\")\n",
    "print(f\"Test Accuracy: {accuracy}\")"
   ]
  },
  {
   "cell_type": "markdown",
   "id": "d67bbb9b",
   "metadata": {
    "papermill": {
     "duration": 0.820565,
     "end_time": "2024-11-24T19:26:20.044333",
     "exception": false,
     "start_time": "2024-11-24T19:26:19.223768",
     "status": "completed"
    },
    "tags": []
   },
   "source": [
    "### Model Evaluation"
   ]
  },
  {
   "cell_type": "code",
   "execution_count": null,
   "id": "bf7982e8",
   "metadata": {
    "papermill": {
     "duration": 0.816146,
     "end_time": "2024-11-24T19:26:21.688069",
     "exception": false,
     "start_time": "2024-11-24T19:26:20.871923",
     "status": "completed"
    },
    "tags": []
   },
   "outputs": [],
   "source": []
  },
  {
   "cell_type": "code",
   "execution_count": null,
   "id": "d25352bd",
   "metadata": {
    "papermill": {
     "duration": 0.803459,
     "end_time": "2024-11-24T19:26:23.254254",
     "exception": false,
     "start_time": "2024-11-24T19:26:22.450795",
     "status": "completed"
    },
    "tags": []
   },
   "outputs": [],
   "source": []
  }
 ],
 "metadata": {
  "kaggle": {
   "accelerator": "nvidiaTeslaT4",
   "dataSources": [
    {
     "datasetId": 5338273,
     "sourceId": 8870083,
     "sourceType": "datasetVersion"
    }
   ],
   "dockerImageVersionId": 30787,
   "isGpuEnabled": true,
   "isInternetEnabled": true,
   "language": "python",
   "sourceType": "notebook"
  },
  "kernelspec": {
   "display_name": "Python 3",
   "language": "python",
   "name": "python3"
  },
  "language_info": {
   "codemirror_mode": {
    "name": "ipython",
    "version": 3
   },
   "file_extension": ".py",
   "mimetype": "text/x-python",
   "name": "python",
   "nbconvert_exporter": "python",
   "pygments_lexer": "ipython3",
   "version": "3.10.14"
  },
  "papermill": {
   "default_parameters": {},
   "duration": 701.088412,
   "end_time": "2024-11-24T19:26:27.850358",
   "environment_variables": {},
   "exception": null,
   "input_path": "__notebook__.ipynb",
   "output_path": "__notebook__.ipynb",
   "parameters": {},
   "start_time": "2024-11-24T19:14:46.761946",
   "version": "2.6.0"
  }
 },
 "nbformat": 4,
 "nbformat_minor": 5
}
