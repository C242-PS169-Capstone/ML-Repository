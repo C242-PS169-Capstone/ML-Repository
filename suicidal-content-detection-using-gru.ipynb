{
 "cells": [
  {
   "cell_type": "markdown",
   "id": "b146bea8",
   "metadata": {
    "id": "ExcDIWLKN0b2",
    "papermill": {
     "duration": 0.013167,
     "end_time": "2024-11-24T18:27:52.212716",
     "exception": false,
     "start_time": "2024-11-24T18:27:52.199549",
     "status": "completed"
    },
    "tags": []
   },
   "source": [
    "# Data loading\n"
   ]
  },
  {
   "cell_type": "code",
   "execution_count": 1,
   "id": "745828b1",
   "metadata": {
    "execution": {
     "iopub.execute_input": "2024-11-24T18:27:52.237157Z",
     "iopub.status.busy": "2024-11-24T18:27:52.236758Z",
     "iopub.status.idle": "2024-11-24T18:27:56.462425Z",
     "shell.execute_reply": "2024-11-24T18:27:56.461432Z"
    },
    "id": "oZ7fB0JmNdsK",
    "outputId": "7c1aba3c-5af4-4edc-dfcd-eb8c52a63c65",
    "papermill": {
     "duration": 4.240094,
     "end_time": "2024-11-24T18:27:56.464409",
     "exception": false,
     "start_time": "2024-11-24T18:27:52.224315",
     "status": "completed"
    },
    "tags": []
   },
   "outputs": [
    {
     "data": {
      "text/html": [
       "<div>\n",
       "<style scoped>\n",
       "    .dataframe tbody tr th:only-of-type {\n",
       "        vertical-align: middle;\n",
       "    }\n",
       "\n",
       "    .dataframe tbody tr th {\n",
       "        vertical-align: top;\n",
       "    }\n",
       "\n",
       "    .dataframe thead th {\n",
       "        text-align: right;\n",
       "    }\n",
       "</style>\n",
       "<table border=\"1\" class=\"dataframe\">\n",
       "  <thead>\n",
       "    <tr style=\"text-align: right;\">\n",
       "      <th></th>\n",
       "      <th>Unnamed: 0</th>\n",
       "      <th>text</th>\n",
       "      <th>class</th>\n",
       "    </tr>\n",
       "  </thead>\n",
       "  <tbody>\n",
       "    <tr>\n",
       "      <th>0</th>\n",
       "      <td>2</td>\n",
       "      <td>Ex Wife Threatening SuicideRecently I left my ...</td>\n",
       "      <td>suicide</td>\n",
       "    </tr>\n",
       "    <tr>\n",
       "      <th>1</th>\n",
       "      <td>3</td>\n",
       "      <td>Am I weird I don't get affected by compliments...</td>\n",
       "      <td>non-suicide</td>\n",
       "    </tr>\n",
       "    <tr>\n",
       "      <th>2</th>\n",
       "      <td>4</td>\n",
       "      <td>Finally 2020 is almost over... So I can never ...</td>\n",
       "      <td>non-suicide</td>\n",
       "    </tr>\n",
       "    <tr>\n",
       "      <th>3</th>\n",
       "      <td>8</td>\n",
       "      <td>i need helpjust help me im crying so hard</td>\n",
       "      <td>suicide</td>\n",
       "    </tr>\n",
       "    <tr>\n",
       "      <th>4</th>\n",
       "      <td>9</td>\n",
       "      <td>I’m so lostHello, my name is Adam (16) and I’v...</td>\n",
       "      <td>suicide</td>\n",
       "    </tr>\n",
       "  </tbody>\n",
       "</table>\n",
       "</div>"
      ],
      "text/plain": [
       "   Unnamed: 0                                               text        class\n",
       "0           2  Ex Wife Threatening SuicideRecently I left my ...      suicide\n",
       "1           3  Am I weird I don't get affected by compliments...  non-suicide\n",
       "2           4  Finally 2020 is almost over... So I can never ...  non-suicide\n",
       "3           8          i need helpjust help me im crying so hard      suicide\n",
       "4           9  I’m so lostHello, my name is Adam (16) and I’v...      suicide"
      ]
     },
     "execution_count": 1,
     "metadata": {},
     "output_type": "execute_result"
    }
   ],
   "source": [
    "import pandas as pd\n",
    "dataframe = pd.read_csv('/kaggle/input/suicide-watch/Suicide_Detection.csv')\n",
    "dataframe.head()"
   ]
  },
  {
   "cell_type": "code",
   "execution_count": 2,
   "id": "7031c7f3",
   "metadata": {
    "execution": {
     "iopub.execute_input": "2024-11-24T18:27:56.490863Z",
     "iopub.status.busy": "2024-11-24T18:27:56.490144Z",
     "iopub.status.idle": "2024-11-24T18:27:56.552274Z",
     "shell.execute_reply": "2024-11-24T18:27:56.551291Z"
    },
    "id": "RfWxfSZHBdzd",
    "papermill": {
     "duration": 0.076853,
     "end_time": "2024-11-24T18:27:56.554549",
     "exception": false,
     "start_time": "2024-11-24T18:27:56.477696",
     "status": "completed"
    },
    "tags": []
   },
   "outputs": [],
   "source": [
    "suicide = dataframe[dataframe['class']=='suicide']\n",
    "non_suicide = dataframe[dataframe['class']== 'non-suicide']\n",
    "suicide = suicide.head(50000)\n",
    "non_suicide = non_suicide.head(50000)\n",
    "dataframe = pd.concat([suicide,non_suicide])"
   ]
  },
  {
   "cell_type": "code",
   "execution_count": 3,
   "id": "63f9c2b9",
   "metadata": {
    "execution": {
     "iopub.execute_input": "2024-11-24T18:27:56.581329Z",
     "iopub.status.busy": "2024-11-24T18:27:56.580521Z",
     "iopub.status.idle": "2024-11-24T18:27:56.609628Z",
     "shell.execute_reply": "2024-11-24T18:27:56.608642Z"
    },
    "id": "N3JRK8bkOEw4",
    "outputId": "b2558bbf-8b52-483a-e21a-760d4105be2c",
    "papermill": {
     "duration": 0.045053,
     "end_time": "2024-11-24T18:27:56.611644",
     "exception": false,
     "start_time": "2024-11-24T18:27:56.566591",
     "status": "completed"
    },
    "tags": []
   },
   "outputs": [
    {
     "name": "stdout",
     "output_type": "stream",
     "text": [
      "<class 'pandas.core.frame.DataFrame'>\n",
      "Int64Index: 100000 entries, 0 to 99822\n",
      "Data columns (total 3 columns):\n",
      " #   Column      Non-Null Count   Dtype \n",
      "---  ------      --------------   ----- \n",
      " 0   Unnamed: 0  100000 non-null  int64 \n",
      " 1   text        100000 non-null  object\n",
      " 2   class       100000 non-null  object\n",
      "dtypes: int64(1), object(2)\n",
      "memory usage: 3.1+ MB\n"
     ]
    }
   ],
   "source": [
    "dataframe.info()"
   ]
  },
  {
   "cell_type": "code",
   "execution_count": 4,
   "id": "e75a06d1",
   "metadata": {
    "execution": {
     "iopub.execute_input": "2024-11-24T18:27:56.636523Z",
     "iopub.status.busy": "2024-11-24T18:27:56.635942Z",
     "iopub.status.idle": "2024-11-24T18:27:56.654256Z",
     "shell.execute_reply": "2024-11-24T18:27:56.653496Z"
    },
    "id": "gRdpyxlKOOYs",
    "outputId": "be88f206-29ba-4d01-b521-e4a3727ce3a4",
    "papermill": {
     "duration": 0.032575,
     "end_time": "2024-11-24T18:27:56.656004",
     "exception": false,
     "start_time": "2024-11-24T18:27:56.623429",
     "status": "completed"
    },
    "tags": []
   },
   "outputs": [
    {
     "data": {
      "text/plain": [
       "Unnamed: 0    0\n",
       "text          0\n",
       "class         0\n",
       "dtype: int64"
      ]
     },
     "execution_count": 4,
     "metadata": {},
     "output_type": "execute_result"
    }
   ],
   "source": [
    "dataframe.isnull().sum()"
   ]
  },
  {
   "cell_type": "markdown",
   "id": "de356f1e",
   "metadata": {
    "id": "9iFYk83sQuee",
    "papermill": {
     "duration": 0.011711,
     "end_time": "2024-11-24T18:27:56.679390",
     "exception": false,
     "start_time": "2024-11-24T18:27:56.667679",
     "status": "completed"
    },
    "tags": []
   },
   "source": [
    "# preprocessing"
   ]
  },
  {
   "cell_type": "code",
   "execution_count": 5,
   "id": "227e8b9d",
   "metadata": {
    "execution": {
     "iopub.execute_input": "2024-11-24T18:27:56.704254Z",
     "iopub.status.busy": "2024-11-24T18:27:56.703941Z",
     "iopub.status.idle": "2024-11-24T18:28:32.727973Z",
     "shell.execute_reply": "2024-11-24T18:28:32.726846Z"
    },
    "id": "Ax20bikLPtLs",
    "outputId": "69aca607-b333-4abd-ea6a-8eab7a6669cc",
    "papermill": {
     "duration": 36.039041,
     "end_time": "2024-11-24T18:28:32.730356",
     "exception": false,
     "start_time": "2024-11-24T18:27:56.691315",
     "status": "completed"
    },
    "tags": []
   },
   "outputs": [
    {
     "name": "stdout",
     "output_type": "stream",
     "text": [
      "Collecting text_hammer\r\n",
      "  Downloading text_hammer-0.1.5-py3-none-any.whl (7.6 kB)\r\n",
      "Requirement already satisfied: spacy in /opt/conda/lib/python3.7/site-packages (from text_hammer) (3.5.1)\r\n",
      "Requirement already satisfied: pandas in /opt/conda/lib/python3.7/site-packages (from text_hammer) (1.3.5)\r\n",
      "Requirement already satisfied: numpy in /opt/conda/lib/python3.7/site-packages (from text_hammer) (1.21.6)\r\n",
      "Collecting beautifulsoup4==4.9.1\r\n",
      "  Downloading beautifulsoup4-4.9.1-py3-none-any.whl (115 kB)\r\n",
      "\u001b[2K     \u001b[90m━━━━━━━━━━━━━━━━━━━━━━━━━━━━━━━━━━━━━━━\u001b[0m \u001b[32m115.1/115.1 kB\u001b[0m \u001b[31m4.9 MB/s\u001b[0m eta \u001b[36m0:00:00\u001b[0m\r\n",
      "\u001b[?25hRequirement already satisfied: TextBlob in /opt/conda/lib/python3.7/site-packages (from text_hammer) (0.17.1)\r\n",
      "Requirement already satisfied: soupsieve>1.2 in /opt/conda/lib/python3.7/site-packages (from beautifulsoup4==4.9.1->text_hammer) (2.3.2.post1)\r\n",
      "Requirement already satisfied: python-dateutil>=2.7.3 in /opt/conda/lib/python3.7/site-packages (from pandas->text_hammer) (2.8.2)\r\n",
      "Requirement already satisfied: pytz>=2017.3 in /opt/conda/lib/python3.7/site-packages (from pandas->text_hammer) (2023.3)\r\n",
      "Requirement already satisfied: srsly<3.0.0,>=2.4.3 in /opt/conda/lib/python3.7/site-packages (from spacy->text_hammer) (2.4.6)\r\n",
      "Requirement already satisfied: packaging>=20.0 in /opt/conda/lib/python3.7/site-packages (from spacy->text_hammer) (23.0)\r\n",
      "Requirement already satisfied: pathy>=0.10.0 in /opt/conda/lib/python3.7/site-packages (from spacy->text_hammer) (0.10.1)\r\n",
      "Requirement already satisfied: setuptools in /opt/conda/lib/python3.7/site-packages (from spacy->text_hammer) (59.8.0)\r\n",
      "Requirement already satisfied: spacy-legacy<3.1.0,>=3.0.11 in /opt/conda/lib/python3.7/site-packages (from spacy->text_hammer) (3.0.12)\r\n",
      "Requirement already satisfied: requests<3.0.0,>=2.13.0 in /opt/conda/lib/python3.7/site-packages (from spacy->text_hammer) (2.28.2)\r\n",
      "Requirement already satisfied: pydantic!=1.8,!=1.8.1,<1.11.0,>=1.7.4 in /opt/conda/lib/python3.7/site-packages (from spacy->text_hammer) (1.10.4)\r\n",
      "Requirement already satisfied: jinja2 in /opt/conda/lib/python3.7/site-packages (from spacy->text_hammer) (3.1.2)\r\n",
      "Requirement already satisfied: preshed<3.1.0,>=3.0.2 in /opt/conda/lib/python3.7/site-packages (from spacy->text_hammer) (3.0.8)\r\n",
      "Requirement already satisfied: smart-open<7.0.0,>=5.2.1 in /opt/conda/lib/python3.7/site-packages (from spacy->text_hammer) (6.3.0)\r\n",
      "Requirement already satisfied: tqdm<5.0.0,>=4.38.0 in /opt/conda/lib/python3.7/site-packages (from spacy->text_hammer) (4.64.1)\r\n",
      "Requirement already satisfied: thinc<8.2.0,>=8.1.8 in /opt/conda/lib/python3.7/site-packages (from spacy->text_hammer) (8.1.9)\r\n",
      "Requirement already satisfied: spacy-loggers<2.0.0,>=1.0.0 in /opt/conda/lib/python3.7/site-packages (from spacy->text_hammer) (1.0.4)\r\n",
      "Requirement already satisfied: typer<0.8.0,>=0.3.0 in /opt/conda/lib/python3.7/site-packages (from spacy->text_hammer) (0.7.0)\r\n",
      "Requirement already satisfied: typing-extensions<4.5.0,>=3.7.4.1 in /opt/conda/lib/python3.7/site-packages (from spacy->text_hammer) (4.4.0)\r\n",
      "Requirement already satisfied: langcodes<4.0.0,>=3.2.0 in /opt/conda/lib/python3.7/site-packages (from spacy->text_hammer) (3.3.0)\r\n",
      "Requirement already satisfied: wasabi<1.2.0,>=0.9.1 in /opt/conda/lib/python3.7/site-packages (from spacy->text_hammer) (1.1.1)\r\n",
      "Requirement already satisfied: cymem<2.1.0,>=2.0.2 in /opt/conda/lib/python3.7/site-packages (from spacy->text_hammer) (2.0.7)\r\n",
      "Requirement already satisfied: murmurhash<1.1.0,>=0.28.0 in /opt/conda/lib/python3.7/site-packages (from spacy->text_hammer) (1.0.9)\r\n",
      "Requirement already satisfied: catalogue<2.1.0,>=2.0.6 in /opt/conda/lib/python3.7/site-packages (from spacy->text_hammer) (2.0.8)\r\n",
      "Requirement already satisfied: nltk>=3.1 in /opt/conda/lib/python3.7/site-packages (from TextBlob->text_hammer) (3.2.4)\r\n",
      "Requirement already satisfied: zipp>=0.5 in /opt/conda/lib/python3.7/site-packages (from catalogue<2.1.0,>=2.0.6->spacy->text_hammer) (3.11.0)\r\n",
      "Requirement already satisfied: six in /opt/conda/lib/python3.7/site-packages (from nltk>=3.1->TextBlob->text_hammer) (1.16.0)\r\n",
      "Requirement already satisfied: idna<4,>=2.5 in /opt/conda/lib/python3.7/site-packages (from requests<3.0.0,>=2.13.0->spacy->text_hammer) (3.4)\r\n",
      "Requirement already satisfied: urllib3<1.27,>=1.21.1 in /opt/conda/lib/python3.7/site-packages (from requests<3.0.0,>=2.13.0->spacy->text_hammer) (1.26.14)\r\n",
      "Requirement already satisfied: charset-normalizer<4,>=2 in /opt/conda/lib/python3.7/site-packages (from requests<3.0.0,>=2.13.0->spacy->text_hammer) (2.1.1)\r\n",
      "Requirement already satisfied: certifi>=2017.4.17 in /opt/conda/lib/python3.7/site-packages (from requests<3.0.0,>=2.13.0->spacy->text_hammer) (2022.12.7)\r\n",
      "Requirement already satisfied: blis<0.8.0,>=0.7.8 in /opt/conda/lib/python3.7/site-packages (from thinc<8.2.0,>=8.1.8->spacy->text_hammer) (0.7.9)\r\n",
      "Requirement already satisfied: confection<1.0.0,>=0.0.1 in /opt/conda/lib/python3.7/site-packages (from thinc<8.2.0,>=8.1.8->spacy->text_hammer) (0.0.4)\r\n",
      "Requirement already satisfied: click<9.0.0,>=7.1.1 in /opt/conda/lib/python3.7/site-packages (from typer<0.8.0,>=0.3.0->spacy->text_hammer) (8.1.3)\r\n",
      "Requirement already satisfied: MarkupSafe>=2.0 in /opt/conda/lib/python3.7/site-packages (from jinja2->spacy->text_hammer) (2.1.1)\r\n",
      "Requirement already satisfied: importlib-metadata in /opt/conda/lib/python3.7/site-packages (from click<9.0.0,>=7.1.1->typer<0.8.0,>=0.3.0->spacy->text_hammer) (4.11.4)\r\n",
      "Installing collected packages: beautifulsoup4, text_hammer\r\n",
      "  Attempting uninstall: beautifulsoup4\r\n",
      "    Found existing installation: beautifulsoup4 4.11.1\r\n",
      "    Uninstalling beautifulsoup4-4.11.1:\r\n",
      "      Successfully uninstalled beautifulsoup4-4.11.1\r\n",
      "Successfully installed beautifulsoup4-4.11.1 text_hammer-0.1.5\r\n",
      "\u001b[33mWARNING: Running pip as the 'root' user can result in broken permissions and conflicting behaviour with the system package manager. It is recommended to use a virtual environment instead: https://pip.pypa.io/warnings/venv\u001b[0m\u001b[33m\r\n",
      "\u001b[0m"
     ]
    }
   ],
   "source": [
    "!pip install text_hammer \n",
    "import text_hammer as th"
   ]
  },
  {
   "cell_type": "code",
   "execution_count": 6,
   "id": "a0b12daf",
   "metadata": {
    "execution": {
     "iopub.execute_input": "2024-11-24T18:28:32.758466Z",
     "iopub.status.busy": "2024-11-24T18:28:32.757345Z",
     "iopub.status.idle": "2024-11-24T18:28:32.916761Z",
     "shell.execute_reply": "2024-11-24T18:28:32.915696Z"
    },
    "id": "FRwfTks6BtzG",
    "outputId": "0e20ecad-9997-4be4-b667-10226530069a",
    "papermill": {
     "duration": 0.175305,
     "end_time": "2024-11-24T18:28:32.918653",
     "exception": false,
     "start_time": "2024-11-24T18:28:32.743348",
     "status": "completed"
    },
    "tags": []
   },
   "outputs": [
    {
     "name": "stdout",
     "output_type": "stream",
     "text": [
      "[nltk_data] Downloading package stopwords to /usr/share/nltk_data...\n",
      "[nltk_data]   Package stopwords is already up-to-date!\n",
      "[nltk_data] Downloading package punkt to /usr/share/nltk_data...\n",
      "[nltk_data]   Package punkt is already up-to-date!\n"
     ]
    }
   ],
   "source": [
    "import nltk\n",
    "from nltk.corpus import stopwords\n",
    "from nltk.tokenize import word_tokenize \n",
    "nltk.download('stopwords')\n",
    "nltk.download('punkt')\n",
    "lists = stopwords.words('english')"
   ]
  },
  {
   "cell_type": "code",
   "execution_count": 7,
   "id": "77a4761f",
   "metadata": {
    "execution": {
     "iopub.execute_input": "2024-11-24T18:28:32.945178Z",
     "iopub.status.busy": "2024-11-24T18:28:32.944660Z",
     "iopub.status.idle": "2024-11-24T18:28:32.959260Z",
     "shell.execute_reply": "2024-11-24T18:28:32.958510Z"
    },
    "id": "ZsoWucx6Btvv",
    "papermill": {
     "duration": 0.029754,
     "end_time": "2024-11-24T18:28:32.961043",
     "exception": false,
     "start_time": "2024-11-24T18:28:32.931289",
     "status": "completed"
    },
    "tags": []
   },
   "outputs": [],
   "source": [
    "stopwords_list = ['i','I', 'am', 'is','are','this','that','then','those','have','has','it','can','could','the','had','was','were','been','them','what',\n",
    "                  'yet', 'though', 'wherein', 'really', 'show', 'then', 'rather', 'same', 'con', 'call', 'is', 'twenty', 'side', 'go', 'namely',\n",
    "                  'every', 'top', 'for', \"'m\", 'with', 'either', 'because', 'two', 'well', 'when', 'those', 'under', 'thin', 'amount', 'upon', \n",
    "                  'kg', 'the', \"that'll\", 'ca', 'even', 'very', 'into', 'by', '‘m', 'keep', 'although', 'done', 'bottom', 'detail', 'whatever', \n",
    "                  'from', 'formerly', 'these', 'enough', 'twelve', 'of', 'too', 'already', 'move', 'something', 'few', 'nothing', 'they', 'does',\n",
    "                  'us', 'next', 'cry', 'but', 'eight', '‘s', 'however', 'four', \"'ll\", 'has', 'over', 'someone', 'afterwards', 'myself', 'have',\n",
    "                  'would', 'anywhere', 'hereupon', 'using', 'everything', 'his', 'put', 'many', 'more', 'within', 'which', 'describe', 'thereby',\n",
    "                  'nine', 'elsewhere', 'other', 'he', 'if', 'per', 'your', 's', 'be', 'than', 'now', 'sometime', 'herein', 'why', '‘d', 'whereas',\n",
    "                  'behind', 'couldnt', 'de', \"'re\", 'least', 'latter', 'whereafter', 'part', 'after', 'front', 'interest', \"you'd\", 'whose', 'fire',\n",
    "                  'sincere', 'down', 'to', 'whence', 'ours', \"'s\", 'all', 'noone', 'just', 'anyhow', 'ie', 'having', 'her', 'been', 'get', 'former', \n",
    "                  'throughout', 'above', '’d', 'cannot', 'almost', 'do', 'quite', 'seem', 'give', 'first', 'several', 'also', 'seems', 'became', '’m',\n",
    "                  'sixty', 'anyway', '‘re', 'on', \"you're\", 'onto', 'co', 'third', 'fifty', 'had', 'seemed', '’s', 'yourselves', 'until', 'an', 'mine',\n",
    "                  'across', 'sometimes', 'hereby', 'eleven', 'might', 'mostly', 'un', 'i', \"'d\", 'itself', 'most', 'beforehand', 'five', 'beyond',\n",
    "                  'herself', \"you've\", 'unless', 'regarding', 'there', 'doesn', 'while', 'whoever', \"should've\", 'whereupon', 'name', 'further', 'o', \n",
    "                  'nobody', 'whereby', 'others', 'between', 'thus', 'any', \"you'll\", 'found', 'amongst', 'hers', 'wherever', 'ltd', 'still', 'somehow',\n",
    "                  'often', 'km', 'becoming', 'six', 'can', \"'ve\", 'make', 'hence', 'around', 'both', 'our', 'along', 'latterly', 'please', 'via', 'whole',\n",
    "                  'system', 've', 'd', 'you', 'themselves', 'here', 'used', 'in', 'forty', 'each', 'find', 'during', 'ain', 'ten', 'him', 'nevertheless',\n",
    "                  \"she's\", 'me', 'them', 'ma', 'meanwhile', 'and', 'y', 'did', 'fifteen', 'serious', '’re', \"it's\", '’ll', 'that', 'alone', 'together', \n",
    "                  'where', 'hereafter', 'once', 'himself', 'could', 'made', 'among', 'whom', 'cant', 'doing', 'again', 'therefore', 'beside', 'hundred',\n",
    "                  'three', 'etc', 'moreover', 'various', 'may', 'since', 'always', 'seeming', 'toward', 'are', 'll', 'everywhere', 'a', 'empty', 'yours',\n",
    "                  'theirs', 'back', 'else', 'own', 'as', 'somewhere', 'bill', '‘ll', 're', 'through', 'last', 'nowhere', 'what', 'take', 'computer',\n",
    "                  'yourself', 'eg', 'perhaps', 'thereupon', 'ourselves', 'against', 'inc', 'she', 'whether', 'their', 'm', 'such', 'thick', 'anything',\n",
    "                  '’ve', 'neither', 'none', 'amoungst', 'one', 'were', 'thru', 'am', 'about', 'without', 'up', 'otherwise', 'except', 'who', 'due',\n",
    "                  'thereafter', 'ever', 'much', 'out', 'how', 'whenever', 'before', 'it', 'some', 'being', 'mill', 'or', 'its', 'will', 'become',\n",
    "                  'besides', 'say', 'therein', 'another', 'see', 'anyone', 'becomes', 'never', 'towards', 'everyone', 'below', 'full', 'my', 'only', \n",
    "                  'fill', 'we', 'should', 'thence', 'indeed', 'this', 'was', 'less', 'so', 't', 'at', 'must', 'whither', 'off','whose','whom','who','do','did','does'\n",
    "]"
   ]
  },
  {
   "cell_type": "code",
   "execution_count": 8,
   "id": "2f7e745d",
   "metadata": {
    "execution": {
     "iopub.execute_input": "2024-11-24T18:28:32.987141Z",
     "iopub.status.busy": "2024-11-24T18:28:32.986655Z",
     "iopub.status.idle": "2024-11-24T18:28:32.991900Z",
     "shell.execute_reply": "2024-11-24T18:28:32.990974Z"
    },
    "id": "9fSKPUSpBtrd",
    "outputId": "523fcf5d-94b3-490f-f6ea-8eb1c55d7dc7",
    "papermill": {
     "duration": 0.02035,
     "end_time": "2024-11-24T18:28:32.993934",
     "exception": false,
     "start_time": "2024-11-24T18:28:32.973584",
     "status": "completed"
    },
    "tags": []
   },
   "outputs": [
    {
     "name": "stdout",
     "output_type": "stream",
     "text": [
      "CPU times: user 4 µs, sys: 1 µs, total: 5 µs\n",
      "Wall time: 8.34 µs\n"
     ]
    }
   ],
   "source": [
    "%%time\n",
    "def remove_stopwords(text):\n",
    "  token = word_tokenize(text)\n",
    "  token_without_stopwords = []\n",
    "  for words in token:\n",
    "    if words not in stopwords_list:\n",
    "      token_without_stopwords.append(words)\n",
    "  \n",
    "  text = \" \".join(token_without_stopwords)\n",
    "  return text"
   ]
  },
  {
   "cell_type": "code",
   "execution_count": 9,
   "id": "3321b9d2",
   "metadata": {
    "execution": {
     "iopub.execute_input": "2024-11-24T18:28:33.019856Z",
     "iopub.status.busy": "2024-11-24T18:28:33.019312Z",
     "iopub.status.idle": "2024-11-24T18:31:04.210677Z",
     "shell.execute_reply": "2024-11-24T18:31:04.209619Z"
    },
    "id": "wTsV6itKBthA",
    "outputId": "482e002d-f3e5-4214-fcea-15ce05f6b1ce",
    "papermill": {
     "duration": 151.21901,
     "end_time": "2024-11-24T18:31:04.225268",
     "exception": false,
     "start_time": "2024-11-24T18:28:33.006258",
     "status": "completed"
    },
    "tags": []
   },
   "outputs": [
    {
     "data": {
      "text/html": [
       "<div>\n",
       "<style scoped>\n",
       "    .dataframe tbody tr th:only-of-type {\n",
       "        vertical-align: middle;\n",
       "    }\n",
       "\n",
       "    .dataframe tbody tr th {\n",
       "        vertical-align: top;\n",
       "    }\n",
       "\n",
       "    .dataframe thead th {\n",
       "        text-align: right;\n",
       "    }\n",
       "</style>\n",
       "<table border=\"1\" class=\"dataframe\">\n",
       "  <thead>\n",
       "    <tr style=\"text-align: right;\">\n",
       "      <th></th>\n",
       "      <th>Unnamed: 0</th>\n",
       "      <th>text</th>\n",
       "      <th>class</th>\n",
       "    </tr>\n",
       "  </thead>\n",
       "  <tbody>\n",
       "    <tr>\n",
       "      <th>0</th>\n",
       "      <td>2</td>\n",
       "      <td>Ex Wife Threatening SuicideRecently left wife ...</td>\n",
       "      <td>suicide</td>\n",
       "    </tr>\n",
       "    <tr>\n",
       "      <th>3</th>\n",
       "      <td>8</td>\n",
       "      <td>need helpjust help im crying hard</td>\n",
       "      <td>suicide</td>\n",
       "    </tr>\n",
       "    <tr>\n",
       "      <th>4</th>\n",
       "      <td>9</td>\n",
       "      <td>’ lostHello , Adam ( 16 ) ’ struggling years ’...</td>\n",
       "      <td>suicide</td>\n",
       "    </tr>\n",
       "    <tr>\n",
       "      <th>5</th>\n",
       "      <td>11</td>\n",
       "      <td>Honetly idkI dont know im . feel like . All fe...</td>\n",
       "      <td>suicide</td>\n",
       "    </tr>\n",
       "    <tr>\n",
       "      <th>6</th>\n",
       "      <td>12</td>\n",
       "      <td>[ Trigger warning ] Excuse self inflicted burn...</td>\n",
       "      <td>suicide</td>\n",
       "    </tr>\n",
       "  </tbody>\n",
       "</table>\n",
       "</div>"
      ],
      "text/plain": [
       "   Unnamed: 0                                               text    class\n",
       "0           2  Ex Wife Threatening SuicideRecently left wife ...  suicide\n",
       "3           8                  need helpjust help im crying hard  suicide\n",
       "4           9  ’ lostHello , Adam ( 16 ) ’ struggling years ’...  suicide\n",
       "5          11  Honetly idkI dont know im . feel like . All fe...  suicide\n",
       "6          12  [ Trigger warning ] Excuse self inflicted burn...  suicide"
      ]
     },
     "execution_count": 9,
     "metadata": {},
     "output_type": "execute_result"
    }
   ],
   "source": [
    "dataframe['text'] = dataframe['text'].apply(remove_stopwords)\n",
    "dataframe.head()"
   ]
  },
  {
   "cell_type": "code",
   "execution_count": 10,
   "id": "d41cd9f6",
   "metadata": {
    "execution": {
     "iopub.execute_input": "2024-11-24T18:31:04.252198Z",
     "iopub.status.busy": "2024-11-24T18:31:04.251384Z",
     "iopub.status.idle": "2024-11-24T18:31:04.258668Z",
     "shell.execute_reply": "2024-11-24T18:31:04.257568Z"
    },
    "id": "G0-F2LTlQ4zb",
    "outputId": "442166c9-3815-4576-a0d1-593210341125",
    "papermill": {
     "duration": 0.022689,
     "end_time": "2024-11-24T18:31:04.260495",
     "exception": false,
     "start_time": "2024-11-24T18:31:04.237806",
     "status": "completed"
    },
    "tags": []
   },
   "outputs": [
    {
     "name": "stdout",
     "output_type": "stream",
     "text": [
      "CPU times: user 570 µs, sys: 0 ns, total: 570 µs\n",
      "Wall time: 540 µs\n"
     ]
    }
   ],
   "source": [
    "%%time\n",
    "from tqdm._tqdm_notebook import tqdm_notebook\n",
    "tqdm_notebook.pandas()\n",
    "def text_preprocessing(df,col_name):\n",
    "    column = col_name\n",
    "    df[column] = df[column].progress_apply(lambda x:str(x).lower())\n",
    "    df[column] = df[column].progress_apply(lambda x: th.remove_emails(x))\n",
    "    df[column] = df[column].progress_apply(lambda x: th.remove_html_tags(x))\n",
    "    df[column] = df[column].progress_apply(lambda x: th.remove_special_chars(x))\n",
    "    df[column] = df[column].progress_apply(lambda x: th.remove_accented_chars(x))\n",
    "    return(df)"
   ]
  },
  {
   "cell_type": "code",
   "execution_count": 11,
   "id": "28209ba1",
   "metadata": {
    "execution": {
     "iopub.execute_input": "2024-11-24T18:31:04.287440Z",
     "iopub.status.busy": "2024-11-24T18:31:04.286867Z",
     "iopub.status.idle": "2024-11-24T18:31:28.397972Z",
     "shell.execute_reply": "2024-11-24T18:31:28.397063Z"
    },
    "id": "-Eb5RjJQRYJS",
    "outputId": "38df7815-6953-449d-92cf-aa3786b9a4d7",
    "papermill": {
     "duration": 24.128517,
     "end_time": "2024-11-24T18:31:28.401761",
     "exception": false,
     "start_time": "2024-11-24T18:31:04.273244",
     "status": "completed"
    },
    "tags": []
   },
   "outputs": [
    {
     "data": {
      "application/vnd.jupyter.widget-view+json": {
       "model_id": "76f8ae51635d4c8585c5861376bd7f23",
       "version_major": 2,
       "version_minor": 0
      },
      "text/plain": [
       "  0%|          | 0/100000 [00:00<?, ?it/s]"
      ]
     },
     "metadata": {},
     "output_type": "display_data"
    },
    {
     "data": {
      "application/vnd.jupyter.widget-view+json": {
       "model_id": "b81ac540b3c5443497f9618832808a3d",
       "version_major": 2,
       "version_minor": 0
      },
      "text/plain": [
       "  0%|          | 0/100000 [00:00<?, ?it/s]"
      ]
     },
     "metadata": {},
     "output_type": "display_data"
    },
    {
     "data": {
      "application/vnd.jupyter.widget-view+json": {
       "model_id": "3d95886f0c214172a31892adf19fac6c",
       "version_major": 2,
       "version_minor": 0
      },
      "text/plain": [
       "  0%|          | 0/100000 [00:00<?, ?it/s]"
      ]
     },
     "metadata": {},
     "output_type": "display_data"
    },
    {
     "data": {
      "application/vnd.jupyter.widget-view+json": {
       "model_id": "8a233c584d2f461281050092997ba9de",
       "version_major": 2,
       "version_minor": 0
      },
      "text/plain": [
       "  0%|          | 0/100000 [00:00<?, ?it/s]"
      ]
     },
     "metadata": {},
     "output_type": "display_data"
    },
    {
     "data": {
      "application/vnd.jupyter.widget-view+json": {
       "model_id": "227beafc105c43ebb6be0156c68ecd62",
       "version_major": 2,
       "version_minor": 0
      },
      "text/plain": [
       "  0%|          | 0/100000 [00:00<?, ?it/s]"
      ]
     },
     "metadata": {},
     "output_type": "display_data"
    }
   ],
   "source": [
    "dataframe = text_preprocessing(dataframe, 'text')"
   ]
  },
  {
   "cell_type": "markdown",
   "id": "e930acef",
   "metadata": {
    "id": "QE41VfheTtxX",
    "papermill": {
     "duration": 0.013041,
     "end_time": "2024-11-24T18:31:28.428965",
     "exception": false,
     "start_time": "2024-11-24T18:31:28.415924",
     "status": "completed"
    },
    "tags": []
   },
   "source": [
    "# tokenized"
   ]
  },
  {
   "cell_type": "code",
   "execution_count": 12,
   "id": "7b4ca180",
   "metadata": {
    "execution": {
     "iopub.execute_input": "2024-11-24T18:31:28.456772Z",
     "iopub.status.busy": "2024-11-24T18:31:28.456212Z",
     "iopub.status.idle": "2024-11-24T18:31:28.460586Z",
     "shell.execute_reply": "2024-11-24T18:31:28.459655Z"
    },
    "id": "TeegpbJ4bX7p",
    "papermill": {
     "duration": 0.020308,
     "end_time": "2024-11-24T18:31:28.462359",
     "exception": false,
     "start_time": "2024-11-24T18:31:28.442051",
     "status": "completed"
    },
    "tags": []
   },
   "outputs": [],
   "source": [
    "X = dataframe['text']\n",
    "y = dataframe['class']"
   ]
  },
  {
   "cell_type": "code",
   "execution_count": 13,
   "id": "d3850a5f",
   "metadata": {
    "execution": {
     "iopub.execute_input": "2024-11-24T18:31:28.489850Z",
     "iopub.status.busy": "2024-11-24T18:31:28.489218Z",
     "iopub.status.idle": "2024-11-24T18:31:32.605568Z",
     "shell.execute_reply": "2024-11-24T18:31:32.604463Z"
    },
    "id": "dLr87cqraH5h",
    "papermill": {
     "duration": 4.132454,
     "end_time": "2024-11-24T18:31:32.607922",
     "exception": false,
     "start_time": "2024-11-24T18:31:28.475468",
     "status": "completed"
    },
    "tags": []
   },
   "outputs": [],
   "source": [
    "from keras.preprocessing.text import Tokenizer\n",
    " # this means 10000 unique words can be taken \n",
    "tokenizer=Tokenizer(num_words= 10000,lower=True)\n",
    "tokenizer.fit_on_texts(X)"
   ]
  },
  {
   "cell_type": "code",
   "execution_count": 14,
   "id": "4a96b0d7",
   "metadata": {
    "execution": {
     "iopub.execute_input": "2024-11-24T18:31:32.635972Z",
     "iopub.status.busy": "2024-11-24T18:31:32.635677Z",
     "iopub.status.idle": "2024-11-24T18:31:36.072840Z",
     "shell.execute_reply": "2024-11-24T18:31:36.071861Z"
    },
    "id": "dG8O-wNJawRC",
    "outputId": "c811c335-7a93-4d90-a8d3-a039b157008f",
    "papermill": {
     "duration": 3.453216,
     "end_time": "2024-11-24T18:31:36.074672",
     "exception": false,
     "start_time": "2024-11-24T18:31:32.621456",
     "status": "completed"
    },
    "tags": []
   },
   "outputs": [
    {
     "data": {
      "text/plain": [
       "array([ 395,  570, 2359,  104,  570,   27, 1157,  831, 1188,  256, 1536,\n",
       "        353,   95,   90,  873, 2359,   42,  399,   95,  141,  541,  210,\n",
       "        196,  116,    5,   75,    9, 3427,  871,   29,  438,   88,  336,\n",
       "        432,  151,  764,   38,  570,    3,  240,   61, 1157,  254,   68,\n",
       "       1945,  600,  101,   16,  114,    1,  255,    0,    0,    0,    0,\n",
       "          0,    0,    0,    0,    0,    0,    0,    0,    0,    0,    0,\n",
       "          0,    0,    0,    0,    0,    0,    0,    0,    0,    0,    0,\n",
       "          0,    0,    0,    0,    0,    0,    0,    0,    0,    0,    0,\n",
       "          0,    0,    0,    0,    0,    0,    0,    0,    0,    0,    0,\n",
       "          0,    0,    0,    0,    0,    0,    0,    0,    0,    0,    0,\n",
       "          0,    0,    0,    0,    0,    0,    0,    0,    0,    0,    0,\n",
       "          0,    0,    0,    0,    0,    0,    0,    0,    0,    0,    0,\n",
       "          0,    0,    0,    0,    0,    0,    0,    0,    0,    0,    0,\n",
       "          0,    0,    0,    0,    0,    0,    0,    0,    0,    0,    0,\n",
       "          0,    0,    0,    0,    0,    0,    0,    0,    0,    0,    0,\n",
       "          0,    0,    0,    0,    0,    0,    0,    0,    0,    0,    0,\n",
       "          0,    0,    0,    0,    0,    0,    0,    0,    0,    0,    0,\n",
       "          0,    0,    0,    0,    0,    0,    0,    0,    0,    0,    0,\n",
       "          0,    0], dtype=int32)"
      ]
     },
     "execution_count": 14,
     "metadata": {},
     "output_type": "execute_result"
    }
   ],
   "source": [
    "from tensorflow.keras.preprocessing.sequence import pad_sequences\n",
    "X = tokenizer.texts_to_sequences(X) # this converts texts into some numeric sequences \n",
    "X = pad_sequences(X,maxlen=200,padding='post') # this makes the length of all numeric sequences equal \n",
    "X[0]"
   ]
  },
  {
   "cell_type": "code",
   "execution_count": 15,
   "id": "c08ecb48",
   "metadata": {
    "execution": {
     "iopub.execute_input": "2024-11-24T18:31:36.103155Z",
     "iopub.status.busy": "2024-11-24T18:31:36.102654Z",
     "iopub.status.idle": "2024-11-24T18:31:36.107886Z",
     "shell.execute_reply": "2024-11-24T18:31:36.107062Z"
    },
    "id": "mUyFAXNXb7AE",
    "outputId": "77b6a6ef-c400-497a-eba1-de33256623c7",
    "papermill": {
     "duration": 0.021186,
     "end_time": "2024-11-24T18:31:36.109757",
     "exception": false,
     "start_time": "2024-11-24T18:31:36.088571",
     "status": "completed"
    },
    "tags": []
   },
   "outputs": [
    {
     "data": {
      "text/plain": [
       "(100000, 200)"
      ]
     },
     "execution_count": 15,
     "metadata": {},
     "output_type": "execute_result"
    }
   ],
   "source": [
    "X.shape"
   ]
  },
  {
   "cell_type": "code",
   "execution_count": 16,
   "id": "0ddcbf19",
   "metadata": {
    "execution": {
     "iopub.execute_input": "2024-11-24T18:31:36.139533Z",
     "iopub.status.busy": "2024-11-24T18:31:36.138957Z",
     "iopub.status.idle": "2024-11-24T18:31:36.250536Z",
     "shell.execute_reply": "2024-11-24T18:31:36.249768Z"
    },
    "papermill": {
     "duration": 0.127765,
     "end_time": "2024-11-24T18:31:36.252451",
     "exception": false,
     "start_time": "2024-11-24T18:31:36.124686",
     "status": "completed"
    },
    "tags": []
   },
   "outputs": [],
   "source": [
    "import pickle\n",
    "\n",
    "# Simpan tokenizer ke file\n",
    "with open('/kaggle/working/tokenizer.pkl', 'wb') as f:\n",
    "    pickle.dump(tokenizer, f)\n"
   ]
  },
  {
   "cell_type": "markdown",
   "id": "ae86bba5",
   "metadata": {
    "id": "vn4lBP2kcSO8",
    "papermill": {
     "duration": 0.013053,
     "end_time": "2024-11-24T18:31:36.279272",
     "exception": false,
     "start_time": "2024-11-24T18:31:36.266219",
     "status": "completed"
    },
    "tags": []
   },
   "source": [
    "# word2vec"
   ]
  },
  {
   "cell_type": "code",
   "execution_count": 17,
   "id": "83d08cb0",
   "metadata": {
    "execution": {
     "iopub.execute_input": "2024-11-24T18:31:36.307313Z",
     "iopub.status.busy": "2024-11-24T18:31:36.306716Z",
     "iopub.status.idle": "2024-11-24T18:32:18.843357Z",
     "shell.execute_reply": "2024-11-24T18:32:18.842337Z"
    },
    "id": "MzAGBj5lcNSC",
    "outputId": "6184b456-a9e8-4092-c9cf-de29f61b43bc",
    "papermill": {
     "duration": 42.553348,
     "end_time": "2024-11-24T18:32:18.845794",
     "exception": false,
     "start_time": "2024-11-24T18:31:36.292446",
     "status": "completed"
    },
    "tags": []
   },
   "outputs": [
    {
     "name": "stdout",
     "output_type": "stream",
     "text": [
      "[==================================================] 100.0% 128.1/128.1MB downloaded\n"
     ]
    }
   ],
   "source": [
    "# pip install gensim\n",
    "import gensim.downloader as api\n",
    "glove_gensim  = api.load('glove-wiki-gigaword-100') #100 dimension"
   ]
  },
  {
   "cell_type": "code",
   "execution_count": 18,
   "id": "a52f8ca3",
   "metadata": {
    "execution": {
     "iopub.execute_input": "2024-11-24T18:32:20.356051Z",
     "iopub.status.busy": "2024-11-24T18:32:20.355679Z",
     "iopub.status.idle": "2024-11-24T18:32:35.130250Z",
     "shell.execute_reply": "2024-11-24T18:32:35.129121Z"
    },
    "id": "9pfXo2Focemn",
    "papermill": {
     "duration": 15.524699,
     "end_time": "2024-11-24T18:32:35.132660",
     "exception": false,
     "start_time": "2024-11-24T18:32:19.607961",
     "status": "completed"
    },
    "tags": []
   },
   "outputs": [],
   "source": [
    "import numpy as np\n",
    "from gensim.models import KeyedVectors\n",
    "vector_size = 100\n",
    "num_words = 20000\n",
    "gensim_weight_matrix = np.zeros((num_words ,vector_size))\n",
    "gensim_weight_matrix.shape\n",
    "for word, index in tokenizer.word_index.items():\n",
    "    if index < num_words: # since index starts with zero \n",
    "        if word in glove_gensim.index_to_key:\n",
    "            gensim_weight_matrix[index] = glove_gensim[word]\n",
    "        else:\n",
    "            gensim_weight_matrix[index] = np.zeros(100)"
   ]
  },
  {
   "cell_type": "markdown",
   "id": "e27af95c",
   "metadata": {
    "id": "t-aXQOGmh6MG",
    "papermill": {
     "duration": 0.693538,
     "end_time": "2024-11-24T18:32:36.569447",
     "exception": false,
     "start_time": "2024-11-24T18:32:35.875909",
     "status": "completed"
    },
    "tags": []
   },
   "source": [
    "# Suicidal Content dection Model building"
   ]
  },
  {
   "cell_type": "code",
   "execution_count": 19,
   "id": "bff03201",
   "metadata": {
    "execution": {
     "iopub.execute_input": "2024-11-24T18:32:38.054239Z",
     "iopub.status.busy": "2024-11-24T18:32:38.053195Z",
     "iopub.status.idle": "2024-11-24T18:32:42.235923Z",
     "shell.execute_reply": "2024-11-24T18:32:42.235135Z"
    },
    "id": "cERQHKuPdCzQ",
    "papermill": {
     "duration": 4.927536,
     "end_time": "2024-11-24T18:32:42.238146",
     "exception": false,
     "start_time": "2024-11-24T18:32:37.310610",
     "status": "completed"
    },
    "tags": []
   },
   "outputs": [],
   "source": [
    "import numpy as np\n",
    "# from gensim.models import KeyedVectors\n",
    "vector_size = 100\n",
    "num_words = 10000\n",
    "gensim_weight_matrix = np.zeros((num_words ,vector_size))\n",
    "gensim_weight_matrix.shape\n",
    "for word, index in tokenizer.word_index.items():\n",
    "    if index < num_words: # since index starts with zero \n",
    "        if word in glove_gensim.index_to_key:\n",
    "            gensim_weight_matrix[index] = glove_gensim[word]\n",
    "        else:\n",
    "            gensim_weight_matrix[index] = np.zeros(100)"
   ]
  },
  {
   "cell_type": "code",
   "execution_count": 20,
   "id": "744f7363",
   "metadata": {
    "execution": {
     "iopub.execute_input": "2024-11-24T18:32:43.660944Z",
     "iopub.status.busy": "2024-11-24T18:32:43.659966Z",
     "iopub.status.idle": "2024-11-24T18:32:43.708188Z",
     "shell.execute_reply": "2024-11-24T18:32:43.707124Z"
    },
    "id": "0cVtsmiajKt-",
    "papermill": {
     "duration": 0.786934,
     "end_time": "2024-11-24T18:32:43.710507",
     "exception": false,
     "start_time": "2024-11-24T18:32:42.923573",
     "status": "completed"
    },
    "tags": []
   },
   "outputs": [],
   "source": [
    "from sklearn.model_selection import train_test_split\n",
    "y=pd.get_dummies(dataframe['class'])\n",
    "X_train, X_test, y_train, y_test = train_test_split(X,y, test_size = 0.3, random_state = 42)"
   ]
  },
  {
   "cell_type": "code",
   "execution_count": 21,
   "id": "c48aba45",
   "metadata": {
    "execution": {
     "iopub.execute_input": "2024-11-24T18:32:45.132317Z",
     "iopub.status.busy": "2024-11-24T18:32:45.131696Z",
     "iopub.status.idle": "2024-11-24T18:32:45.140962Z",
     "shell.execute_reply": "2024-11-24T18:32:45.140131Z"
    },
    "papermill": {
     "duration": 0.693355,
     "end_time": "2024-11-24T18:32:45.142780",
     "exception": false,
     "start_time": "2024-11-24T18:32:44.449425",
     "status": "completed"
    },
    "tags": []
   },
   "outputs": [
    {
     "data": {
      "text/html": [
       "<div>\n",
       "<style scoped>\n",
       "    .dataframe tbody tr th:only-of-type {\n",
       "        vertical-align: middle;\n",
       "    }\n",
       "\n",
       "    .dataframe tbody tr th {\n",
       "        vertical-align: top;\n",
       "    }\n",
       "\n",
       "    .dataframe thead th {\n",
       "        text-align: right;\n",
       "    }\n",
       "</style>\n",
       "<table border=\"1\" class=\"dataframe\">\n",
       "  <thead>\n",
       "    <tr style=\"text-align: right;\">\n",
       "      <th></th>\n",
       "      <th>Unnamed: 0</th>\n",
       "      <th>text</th>\n",
       "      <th>class</th>\n",
       "    </tr>\n",
       "  </thead>\n",
       "  <tbody>\n",
       "    <tr>\n",
       "      <th>0</th>\n",
       "      <td>2</td>\n",
       "      <td>ex wife threatening suiciderecently left wife ...</td>\n",
       "      <td>suicide</td>\n",
       "    </tr>\n",
       "    <tr>\n",
       "      <th>3</th>\n",
       "      <td>8</td>\n",
       "      <td>need helpjust help im crying hard</td>\n",
       "      <td>suicide</td>\n",
       "    </tr>\n",
       "    <tr>\n",
       "      <th>4</th>\n",
       "      <td>9</td>\n",
       "      <td>losthello adam 16 struggling years afraid thro...</td>\n",
       "      <td>suicide</td>\n",
       "    </tr>\n",
       "    <tr>\n",
       "      <th>5</th>\n",
       "      <td>11</td>\n",
       "      <td>honetly idki dont know im feel like all feel u...</td>\n",
       "      <td>suicide</td>\n",
       "    </tr>\n",
       "    <tr>\n",
       "      <th>6</th>\n",
       "      <td>12</td>\n",
       "      <td>trigger warning excuse self inflicted burnsi k...</td>\n",
       "      <td>suicide</td>\n",
       "    </tr>\n",
       "  </tbody>\n",
       "</table>\n",
       "</div>"
      ],
      "text/plain": [
       "   Unnamed: 0                                               text    class\n",
       "0           2  ex wife threatening suiciderecently left wife ...  suicide\n",
       "3           8                  need helpjust help im crying hard  suicide\n",
       "4           9  losthello adam 16 struggling years afraid thro...  suicide\n",
       "5          11  honetly idki dont know im feel like all feel u...  suicide\n",
       "6          12  trigger warning excuse self inflicted burnsi k...  suicide"
      ]
     },
     "execution_count": 21,
     "metadata": {},
     "output_type": "execute_result"
    }
   ],
   "source": [
    "dataframe.head()"
   ]
  },
  {
   "cell_type": "code",
   "execution_count": 22,
   "id": "92655126",
   "metadata": {
    "execution": {
     "iopub.execute_input": "2024-11-24T18:32:46.610185Z",
     "iopub.status.busy": "2024-11-24T18:32:46.609582Z",
     "iopub.status.idle": "2024-11-24T18:32:49.908966Z",
     "shell.execute_reply": "2024-11-24T18:32:49.908039Z"
    },
    "id": "gIk8AVbFiEUW",
    "outputId": "5039c8fd-c9a9-4c1e-9e30-79e7dc1fb297",
    "papermill": {
     "duration": 4.039711,
     "end_time": "2024-11-24T18:32:49.913283",
     "exception": false,
     "start_time": "2024-11-24T18:32:45.873572",
     "status": "completed"
    },
    "tags": []
   },
   "outputs": [
    {
     "name": "stdout",
     "output_type": "stream",
     "text": [
      "Model: \"sequential\"\n",
      "_________________________________________________________________\n",
      " Layer (type)                Output Shape              Param #   \n",
      "=================================================================\n",
      " embedding (Embedding)       (None, 200, 100)          1000000   \n",
      "                                                                 \n",
      " dropout (Dropout)           (None, 200, 100)          0         \n",
      "                                                                 \n",
      " gru (GRU)                   (None, 200, 100)          60600     \n",
      "                                                                 \n",
      " dropout_1 (Dropout)         (None, 200, 100)          0         \n",
      "                                                                 \n",
      " gru_1 (GRU)                 (None, 100)               60600     \n",
      "                                                                 \n",
      " dense (Dense)               (None, 2)                 202       \n",
      "                                                                 \n",
      "=================================================================\n",
      "Total params: 1,121,402\n",
      "Trainable params: 121,402\n",
      "Non-trainable params: 1,000,000\n",
      "_________________________________________________________________\n"
     ]
    }
   ],
   "source": [
    "from tensorflow.keras.preprocessing.text import Tokenizer\n",
    "from tensorflow.keras.preprocessing.sequence import pad_sequences\n",
    "import gensim.downloader as api\n",
    "import numpy as np\n",
    "from sklearn.model_selection import train_test_split\n",
    "from keras.models import Sequential\n",
    "from keras.layers import Embedding, Dropout, Dense\n",
    "from keras.layers import GRU\n",
    "from keras.callbacks import EarlyStopping, ModelCheckpoint\n",
    "EMBEDDING_DIM = 100\n",
    "model = Sequential()\n",
    "model.add(Embedding(input_dim = num_words,\n",
    " output_dim = EMBEDDING_DIM,\n",
    " input_length= X.shape[1],\n",
    " weights = [gensim_weight_matrix],trainable = False))\n",
    "model.add(Dropout(0.2))\n",
    "model.add(GRU(100,return_sequences=True))\n",
    "model.add(Dropout(0.2))\n",
    "model.add(GRU(100,return_sequences=False))\n",
    "model.add(Dense(2, activation = 'softmax'))\n",
    "model.compile(loss = 'categorical_crossentropy', optimizer = 'adam',metrics = 'accuracy')\n",
    "model.summary()"
   ]
  },
  {
   "cell_type": "code",
   "execution_count": 23,
   "id": "0f190ea9",
   "metadata": {
    "execution": {
     "iopub.execute_input": "2024-11-24T18:32:51.326163Z",
     "iopub.status.busy": "2024-11-24T18:32:51.325073Z",
     "iopub.status.idle": "2024-11-24T18:32:51.330690Z",
     "shell.execute_reply": "2024-11-24T18:32:51.329873Z"
    },
    "id": "ftEXCzcLjaCs",
    "papermill": {
     "duration": 0.735903,
     "end_time": "2024-11-24T18:32:51.332435",
     "exception": false,
     "start_time": "2024-11-24T18:32:50.596532",
     "status": "completed"
    },
    "tags": []
   },
   "outputs": [],
   "source": [
    "#EarlyStopping and ModelCheckpoint\n",
    "from keras.callbacks import EarlyStopping, ModelCheckpoint\n",
    "es = EarlyStopping(monitor = 'val_loss', mode = 'min', verbose = 1, patience = 5)\n",
    "mc = ModelCheckpoint('./model.h5', monitor = 'val_accuracy', mode = 'max', verbose = 1, save_best_only = True)"
   ]
  },
  {
   "cell_type": "code",
   "execution_count": 24,
   "id": "36ad74da",
   "metadata": {
    "execution": {
     "iopub.execute_input": "2024-11-24T18:32:52.743976Z",
     "iopub.status.busy": "2024-11-24T18:32:52.743359Z",
     "iopub.status.idle": "2024-11-24T18:35:36.401550Z",
     "shell.execute_reply": "2024-11-24T18:35:36.400491Z"
    },
    "id": "u1OfZycMjy0r",
    "outputId": "89fbcf54-31c8-4c6c-8b7f-87502767238e",
    "papermill": {
     "duration": 164.342982,
     "end_time": "2024-11-24T18:35:36.403724",
     "exception": false,
     "start_time": "2024-11-24T18:32:52.060742",
     "status": "completed"
    },
    "tags": []
   },
   "outputs": [
    {
     "name": "stdout",
     "output_type": "stream",
     "text": [
      "Epoch 1/25\n",
      "546/547 [============================>.] - ETA: 0s - loss: 0.4867 - accuracy: 0.7341\n",
      "Epoch 1: val_accuracy improved from -inf to 0.88543, saving model to ./model.h5\n",
      "547/547 [==============================] - 23s 26ms/step - loss: 0.4865 - accuracy: 0.7342 - val_loss: 0.2840 - val_accuracy: 0.8854\n",
      "Epoch 2/25\n",
      "547/547 [==============================] - ETA: 0s - loss: 0.2501 - accuracy: 0.9007\n",
      "Epoch 2: val_accuracy improved from 0.88543 to 0.90807, saving model to ./model.h5\n",
      "547/547 [==============================] - 13s 25ms/step - loss: 0.2501 - accuracy: 0.9007 - val_loss: 0.2362 - val_accuracy: 0.9081\n",
      "Epoch 3/25\n",
      "547/547 [==============================] - ETA: 0s - loss: 0.2221 - accuracy: 0.9131\n",
      "Epoch 3: val_accuracy improved from 0.90807 to 0.90967, saving model to ./model.h5\n",
      "547/547 [==============================] - 14s 25ms/step - loss: 0.2221 - accuracy: 0.9131 - val_loss: 0.2374 - val_accuracy: 0.9097\n",
      "Epoch 4/25\n",
      "547/547 [==============================] - ETA: 0s - loss: 0.2063 - accuracy: 0.9193\n",
      "Epoch 4: val_accuracy improved from 0.90967 to 0.92163, saving model to ./model.h5\n",
      "547/547 [==============================] - 14s 25ms/step - loss: 0.2063 - accuracy: 0.9193 - val_loss: 0.2033 - val_accuracy: 0.9216\n",
      "Epoch 5/25\n",
      "546/547 [============================>.] - ETA: 0s - loss: 0.1958 - accuracy: 0.9237\n",
      "Epoch 5: val_accuracy improved from 0.92163 to 0.92403, saving model to ./model.h5\n",
      "547/547 [==============================] - 14s 26ms/step - loss: 0.1959 - accuracy: 0.9237 - val_loss: 0.1975 - val_accuracy: 0.9240\n",
      "Epoch 6/25\n",
      "547/547 [==============================] - ETA: 0s - loss: 0.1867 - accuracy: 0.9275\n",
      "Epoch 6: val_accuracy improved from 0.92403 to 0.92560, saving model to ./model.h5\n",
      "547/547 [==============================] - 14s 26ms/step - loss: 0.1867 - accuracy: 0.9275 - val_loss: 0.1908 - val_accuracy: 0.9256\n",
      "Epoch 7/25\n",
      "547/547 [==============================] - ETA: 0s - loss: 0.1789 - accuracy: 0.9311\n",
      "Epoch 7: val_accuracy improved from 0.92560 to 0.92647, saving model to ./model.h5\n",
      "547/547 [==============================] - 14s 27ms/step - loss: 0.1789 - accuracy: 0.9311 - val_loss: 0.1924 - val_accuracy: 0.9265\n",
      "Epoch 8/25\n",
      "547/547 [==============================] - ETA: 0s - loss: 0.1727 - accuracy: 0.9327\n",
      "Epoch 8: val_accuracy did not improve from 0.92647\n",
      "547/547 [==============================] - 14s 26ms/step - loss: 0.1727 - accuracy: 0.9327 - val_loss: 0.1912 - val_accuracy: 0.9253\n",
      "Epoch 9/25\n",
      "545/547 [============================>.] - ETA: 0s - loss: 0.1663 - accuracy: 0.9355\n",
      "Epoch 9: val_accuracy did not improve from 0.92647\n",
      "547/547 [==============================] - 14s 26ms/step - loss: 0.1662 - accuracy: 0.9356 - val_loss: 0.1933 - val_accuracy: 0.9246\n",
      "Epoch 10/25\n",
      "547/547 [==============================] - ETA: 0s - loss: 0.1613 - accuracy: 0.9383\n",
      "Epoch 10: val_accuracy did not improve from 0.92647\n",
      "547/547 [==============================] - 14s 26ms/step - loss: 0.1613 - accuracy: 0.9383 - val_loss: 0.2083 - val_accuracy: 0.9183\n",
      "Epoch 11/25\n",
      "547/547 [==============================] - ETA: 0s - loss: 0.1567 - accuracy: 0.9400\n",
      "Epoch 11: val_accuracy improved from 0.92647 to 0.92703, saving model to ./model.h5\n",
      "547/547 [==============================] - 14s 26ms/step - loss: 0.1567 - accuracy: 0.9400 - val_loss: 0.1909 - val_accuracy: 0.9270\n",
      "Epoch 11: early stopping\n"
     ]
    }
   ],
   "source": [
    "history_embedding = model.fit(X_train, y_train, \n",
    "                                epochs = 25, batch_size = 128, \n",
    "                                validation_data=(X_test, y_test),\n",
    "                                verbose = 1, callbacks= [es, mc]  )"
   ]
  },
  {
   "cell_type": "code",
   "execution_count": 25,
   "id": "e002d0f3",
   "metadata": {
    "execution": {
     "iopub.execute_input": "2024-11-24T18:35:38.019674Z",
     "iopub.status.busy": "2024-11-24T18:35:38.019308Z",
     "iopub.status.idle": "2024-11-24T18:35:38.396210Z",
     "shell.execute_reply": "2024-11-24T18:35:38.395164Z"
    },
    "id": "WuKHZqHBkMok",
    "outputId": "9e93abf1-e8f4-4e4a-fc78-80421a6703c6",
    "papermill": {
     "duration": 1.152325,
     "end_time": "2024-11-24T18:35:38.398136",
     "exception": false,
     "start_time": "2024-11-24T18:35:37.245811",
     "status": "completed"
    },
    "tags": []
   },
   "outputs": [
    {
     "data": {
      "image/png": "[encoded data removed]",
      "text/plain": [
       "<Figure size 640x480 with 1 Axes>"
      ]
     },
     "metadata": {},
     "output_type": "display_data"
    }
   ],
   "source": [
    "import matplotlib.pyplot as plt\n",
    "import seaborn as sns\n",
    "plt.plot(history_embedding.history['accuracy'],c='b',label='train accuracy')\n",
    "plt.plot(history_embedding.history['val_accuracy'],c='r',label='validation accuracy')\n",
    "plt.legend(loc='lower right')\n",
    "plt.show()"
   ]
  },
  {
   "cell_type": "code",
   "execution_count": 26,
   "id": "cadcbf0d",
   "metadata": {
    "execution": {
     "iopub.execute_input": "2024-11-24T18:35:40.071138Z",
     "iopub.status.busy": "2024-11-24T18:35:40.070068Z",
     "iopub.status.idle": "2024-11-24T18:35:40.559977Z",
     "shell.execute_reply": "2024-11-24T18:35:40.559036Z"
    },
    "id": "iHi9wj8sStvQ",
    "outputId": "c074a850-45ed-4062-d954-7f7f3cc04a4d",
    "papermill": {
     "duration": 1.310733,
     "end_time": "2024-11-24T18:35:40.562179",
     "exception": false,
     "start_time": "2024-11-24T18:35:39.251446",
     "status": "completed"
    },
    "tags": []
   },
   "outputs": [
    {
     "data": {
      "image/png": "[encoded data removed]",
      "text/plain": [
       "<Figure size 640x480 with 1 Axes>"
      ]
     },
     "metadata": {},
     "output_type": "display_data"
    }
   ],
   "source": [
    "import matplotlib.pyplot as plt\n",
    "import seaborn as sns\n",
    "plt.plot(history_embedding.history['loss'],c='b',label='train loss')\n",
    "plt.plot(history_embedding.history['val_loss'],c='r',label='validation loss')\n",
    "plt.legend(loc='upper right')\n",
    "plt.show()"
   ]
  },
  {
   "cell_type": "code",
   "execution_count": 27,
   "id": "85abcb77",
   "metadata": {
    "execution": {
     "iopub.execute_input": "2024-11-24T18:35:42.210233Z",
     "iopub.status.busy": "2024-11-24T18:35:42.209548Z",
     "iopub.status.idle": "2024-11-24T18:35:49.331492Z",
     "shell.execute_reply": "2024-11-24T18:35:49.330256Z"
    },
    "id": "TaP7W8Vrk8zk",
    "papermill": {
     "duration": 7.945278,
     "end_time": "2024-11-24T18:35:49.333631",
     "exception": false,
     "start_time": "2024-11-24T18:35:41.388353",
     "status": "completed"
    },
    "tags": []
   },
   "outputs": [
    {
     "name": "stdout",
     "output_type": "stream",
     "text": [
      "938/938 [==============================] - 7s 6ms/step\n",
      "              precision    recall  f1-score   support\n",
      "\n",
      "           0       0.94      0.91      0.93     14945\n",
      "           1       0.91      0.95      0.93     15055\n",
      "\n",
      "    accuracy                           0.93     30000\n",
      "   macro avg       0.93      0.93      0.93     30000\n",
      "weighted avg       0.93      0.93      0.93     30000\n",
      "\n"
     ]
    }
   ],
   "source": [
    "from sklearn.metrics import classification_report, confusion_matrix\n",
    "y_pred=model.predict(X_test)\n",
    "y_pred.shape\n",
    "import numpy as np\n",
    "y_pred=np.argmax(y_pred,axis=1)\n",
    "y_pred\n",
    "y_test = y_test.to_numpy()\n",
    "y_test=np.argmax(y_test,axis = 1)\n",
    "print(classification_report(y_test, y_pred))"
   ]
  },
  {
   "cell_type": "code",
   "execution_count": 28,
   "id": "eea21b96",
   "metadata": {
    "execution": {
     "iopub.execute_input": "2024-11-24T18:35:50.945735Z",
     "iopub.status.busy": "2024-11-24T18:35:50.945389Z",
     "iopub.status.idle": "2024-11-24T18:35:50.951416Z",
     "shell.execute_reply": "2024-11-24T18:35:50.950473Z"
    },
    "papermill": {
     "duration": 0.838479,
     "end_time": "2024-11-24T18:35:50.953740",
     "exception": false,
     "start_time": "2024-11-24T18:35:50.115261",
     "status": "completed"
    },
    "tags": []
   },
   "outputs": [
    {
     "name": "stdout",
     "output_type": "stream",
     "text": [
      "[[629 616 203 840 184 119 383   0   0   0   0   0   0   0   0   0   0   0\n",
      "    0   0   0   0   0   0   0   0   0   0   0   0   0   0   0   0   0   0\n",
      "    0   0   0   0   0   0   0   0   0   0   0   0   0   0   0   0   0   0\n",
      "    0   0   0   0   0   0   0   0   0   0   0   0   0   0   0   0   0   0\n",
      "    0   0   0   0   0   0   0   0   0   0   0   0   0   0   0   0   0   0\n",
      "    0   0   0   0   0   0   0   0   0   0   0   0   0   0   0   0   0   0\n",
      "    0   0   0   0   0   0   0   0   0   0   0   0   0   0   0   0   0   0\n",
      "    0   0   0   0   0   0   0   0   0   0   0   0   0   0   0   0   0   0\n",
      "    0   0   0   0   0   0   0   0   0   0   0   0   0   0   0   0   0   0\n",
      "    0   0   0   0   0   0   0   0   0   0   0   0   0   0   0   0   0   0\n",
      "    0   0   0   0   0   0   0   0   0   0   0   0   0   0   0   0   0   0\n",
      "    0   0]]\n"
     ]
    }
   ],
   "source": [
    "# Teks baru untuk prediksi\n",
    "new_data = [\"i am killing someone in a game \"]\n",
    "# Tokenisasi dan konversi teks ke dalam bentuk indeks kata\n",
    "new_data_tokenized = tokenizer.texts_to_sequences(new_data)\n",
    "\n",
    "# Padding untuk memastikan panjangnya sesuai dengan model\n",
    "new_data_padded = pad_sequences(new_data_tokenized, maxlen=200, padding='post')\n",
    "\n",
    "# Cek apakah padding dan tokenisasi bekerja dengan baik\n",
    "print(new_data_padded)\n"
   ]
  },
  {
   "cell_type": "code",
   "execution_count": 29,
   "id": "cbb396c9",
   "metadata": {
    "execution": {
     "iopub.execute_input": "2024-11-24T18:35:52.546623Z",
     "iopub.status.busy": "2024-11-24T18:35:52.545855Z",
     "iopub.status.idle": "2024-11-24T18:35:52.618772Z",
     "shell.execute_reply": "2024-11-24T18:35:52.617855Z"
    },
    "papermill": {
     "duration": 0.847796,
     "end_time": "2024-11-24T18:35:52.620640",
     "exception": false,
     "start_time": "2024-11-24T18:35:51.772844",
     "status": "completed"
    },
    "tags": []
   },
   "outputs": [
    {
     "name": "stdout",
     "output_type": "stream",
     "text": [
      "1/1 [==============================] - 0s 28ms/step\n",
      "Predicted class: Not Suicidal\n",
      "Prediction probability: 87.36%\n"
     ]
    }
   ],
   "source": [
    "# Prediksi dengan model yang sudah dilatih\n",
    "prediction = model.predict(new_data_padded)\n",
    "\n",
    "# Menentukan kelas prediksi\n",
    "predicted_class = np.argmax(prediction, axis=1)\n",
    "\n",
    "# Mengambil probabilitas untuk kelas prediksi\n",
    "predicted_prob = prediction[0][predicted_class[0]] * 100\n",
    "\n",
    "# Output prediksi dan persentase\n",
    "class_names = ['Not Suicidal', 'Suicidal']\n",
    "print(f\"Predicted class: {class_names[predicted_class[0]]}\")\n",
    "print(f\"Prediction probability: {predicted_prob:.2f}%\")\n"
   ]
  },
  {
   "cell_type": "code",
   "execution_count": null,
   "id": "0577a5e6",
   "metadata": {
    "papermill": {
     "duration": 0.824271,
     "end_time": "2024-11-24T18:35:54.274054",
     "exception": false,
     "start_time": "2024-11-24T18:35:53.449783",
     "status": "completed"
    },
    "tags": []
   },
   "outputs": [],
   "source": []
  }
 ],
 "metadata": {
  "accelerator": "GPU",
  "colab": {
   "collapsed_sections": [
    "ExcDIWLKN0b2",
    "9iFYk83sQuee",
    "QE41VfheTtxX",
    "vn4lBP2kcSO8"
   ],
   "provenance": []
  },
  "gpuClass": "standard",
  "kaggle": {
   "accelerator": "nvidiaTeslaT4",
   "dataSources": [
    {
     "datasetId": 1075326,
     "sourceId": 2250642,
     "sourceType": "datasetVersion"
    }
   ],
   "dockerImageVersionId": 30461,
   "isGpuEnabled": true,
   "isInternetEnabled": true,
   "language": "python",
   "sourceType": "notebook"
  },
  "kernelspec": {
   "display_name": "Python 3",
   "language": "python",
   "name": "python3"
  },
  "language_info": {
   "codemirror_mode": {
    "name": "ipython",
    "version": 3
   },
   "file_extension": ".py",
   "mimetype": "text/x-python",
   "name": "python",
   "nbconvert_exporter": "python",
   "pygments_lexer": "ipython3",
   "version": "3.7.12"
  },
  "papermill": {
   "default_parameters": {},
   "duration": 495.612368,
   "end_time": "2024-11-24T18:35:58.895385",
   "environment_variables": {},
   "exception": null,
   "input_path": "__notebook__.ipynb",
   "output_path": "__notebook__.ipynb",
   "parameters": {},
   "start_time": "2024-11-24T18:27:43.283017",
   "version": "2.4.0"
  },
  "widgets": {
   "application/vnd.jupyter.widget-state+json": {
    "state": {
     "01d6f145fb4644ca9f6d39d4a9a970a1": {
      "model_module": "@jupyter-widgets/base",
      "model_module_version": "1.2.0",
      "model_name": "LayoutModel",
      "state": {
       "_model_module": "@jupyter-widgets/base",
       "_model_module_version": "1.2.0",
       "_model_name": "LayoutModel",
       "_view_count": null,
       "_view_module": "@jupyter-widgets/base",
       "_view_module_version": "1.2.0",
       "_view_name": "LayoutView",
       "align_content": null,
       "align_items": null,
       "align_self": null,
       "border": null,
       "bottom": null,
       "display": null,
       "flex": null,
       "flex_flow": null,
       "grid_area": null,
       "grid_auto_columns": null,
       "grid_auto_flow": null,
       "grid_auto_rows": null,
       "grid_column": null,
       "grid_gap": null,
       "grid_row": null,
       "grid_template_areas": null,
       "grid_template_columns": null,
       "grid_template_rows": null,
       "height": null,
       "justify_content": null,
       "justify_items": null,
       "left": null,
       "margin": null,
       "max_height": null,
       "max_width": null,
       "min_height": null,
       "min_width": null,
       "object_fit": null,
       "object_position": null,
       "order": null,
       "overflow": null,
       "overflow_x": null,
       "overflow_y": null,
       "padding": null,
       "right": null,
       "top": null,
       "visibility": null,
       "width": null
      }
     },
     "0214b9e8bac44c148a85392731e8e92f": {
      "model_module": "@jupyter-widgets/base",
      "model_module_version": "1.2.0",
      "model_name": "LayoutModel",
      "state": {
       "_model_module": "@jupyter-widgets/base",
       "_model_module_version": "1.2.0",
       "_model_name": "LayoutModel",
       "_view_count": null,
       "_view_module": "@jupyter-widgets/base",
       "_view_module_version": "1.2.0",
       "_view_name": "LayoutView",
       "align_content": null,
       "align_items": null,
       "align_self": null,
       "border": null,
       "bottom": null,
       "display": null,
       "flex": null,
       "flex_flow": null,
       "grid_area": null,
       "grid_auto_columns": null,
       "grid_auto_flow": null,
       "grid_auto_rows": null,
       "grid_column": null,
       "grid_gap": null,
       "grid_row": null,
       "grid_template_areas": null,
       "grid_template_columns": null,
       "grid_template_rows": null,
       "height": null,
       "justify_content": null,
       "justify_items": null,
       "left": null,
       "margin": null,
       "max_height": null,
       "max_width": null,
       "min_height": null,
       "min_width": null,
       "object_fit": null,
       "object_position": null,
       "order": null,
       "overflow": null,
       "overflow_x": null,
       "overflow_y": null,
       "padding": null,
       "right": null,
       "top": null,
       "visibility": null,
       "width": null
      }
     },
     "073cb584fdda4f6da0100b8aa6c211b3": {
      "model_module": "@jupyter-widgets/controls",
      "model_module_version": "1.5.0",
      "model_name": "FloatProgressModel",
      "state": {
       "_dom_classes": [],
       "_model_module": "@jupyter-widgets/controls",
       "_model_module_version": "1.5.0",
       "_model_name": "FloatProgressModel",
       "_view_count": null,
       "_view_module": "@jupyter-widgets/controls",
       "_view_module_version": "1.5.0",
       "_view_name": "ProgressView",
       "bar_style": "success",
       "description": "",
       "description_tooltip": null,
       "layout": "IPY_MODEL_2c5ed902a77a4e56a236a1221f0fd8fe",
       "max": 100000.0,
       "min": 0.0,
       "orientation": "horizontal",
       "style": "IPY_MODEL_5268a8066f364198bc4d2ea4bc7011b0",
       "value": 100000.0
      }
     },
     "0a3f1788f86a4ce8b46f0dbfe5a1d6f1": {
      "model_module": "@jupyter-widgets/controls",
      "model_module_version": "1.5.0",
      "model_name": "DescriptionStyleModel",
      "state": {
       "_model_module": "@jupyter-widgets/controls",
       "_model_module_version": "1.5.0",
       "_model_name": "DescriptionStyleModel",
       "_view_count": null,
       "_view_module": "@jupyter-widgets/base",
       "_view_module_version": "1.2.0",
       "_view_name": "StyleView",
       "description_width": ""
      }
     },
     "0a9a10b5370a410bae4b282ad7fd60f7": {
      "model_module": "@jupyter-widgets/controls",
      "model_module_version": "1.5.0",
      "model_name": "HTMLModel",
      "state": {
       "_dom_classes": [],
       "_model_module": "@jupyter-widgets/controls",
       "_model_module_version": "1.5.0",
       "_model_name": "HTMLModel",
       "_view_count": null,
       "_view_module": "@jupyter-widgets/controls",
       "_view_module_version": "1.5.0",
       "_view_name": "HTMLView",
       "description": "",
       "description_tooltip": null,
       "layout": "IPY_MODEL_3b39891b90d44e8aab0223359d98c682",
       "placeholder": "​",
       "style": "IPY_MODEL_91ffbe3084bb4bad87b79c58c94a4d16",
       "value": "100%"
      }
     },
     "0cc10a6a223e4c3785746a608e7778dc": {
      "model_module": "@jupyter-widgets/controls",
      "model_module_version": "1.5.0",
      "model_name": "FloatProgressModel",
      "state": {
       "_dom_classes": [],
       "_model_module": "@jupyter-widgets/controls",
       "_model_module_version": "1.5.0",
       "_model_name": "FloatProgressModel",
       "_view_count": null,
       "_view_module": "@jupyter-widgets/controls",
       "_view_module_version": "1.5.0",
       "_view_name": "ProgressView",
       "bar_style": "success",
       "description": "",
       "description_tooltip": null,
       "layout": "IPY_MODEL_f8798202cf2c4ec28a5c16b0c9158aa0",
       "max": 100000.0,
       "min": 0.0,
       "orientation": "horizontal",
       "style": "IPY_MODEL_1653cb3af1294b97b4a3d78a21fbc7ef",
       "value": 100000.0
      }
     },
     "12eafdfd83194dcbaeaa0dc54f762dbe": {
      "model_module": "@jupyter-widgets/controls",
      "model_module_version": "1.5.0",
      "model_name": "ProgressStyleModel",
      "state": {
       "_model_module": "@jupyter-widgets/controls",
       "_model_module_version": "1.5.0",
       "_model_name": "ProgressStyleModel",
       "_view_count": null,
       "_view_module": "@jupyter-widgets/base",
       "_view_module_version": "1.2.0",
       "_view_name": "StyleView",
       "bar_color": null,
       "description_width": ""
      }
     },
     "1653cb3af1294b97b4a3d78a21fbc7ef": {
      "model_module": "@jupyter-widgets/controls",
      "model_module_version": "1.5.0",
      "model_name": "ProgressStyleModel",
      "state": {
       "_model_module": "@jupyter-widgets/controls",
       "_model_module_version": "1.5.0",
       "_model_name": "ProgressStyleModel",
       "_view_count": null,
       "_view_module": "@jupyter-widgets/base",
       "_view_module_version": "1.2.0",
       "_view_name": "StyleView",
       "bar_color": null,
       "description_width": ""
      }
     },
     "21f8fbf903424ccd8047dc49fb8ed3ea": {
      "model_module": "@jupyter-widgets/controls",
      "model_module_version": "1.5.0",
      "model_name": "HTMLModel",
      "state": {
       "_dom_classes": [],
       "_model_module": "@jupyter-widgets/controls",
       "_model_module_version": "1.5.0",
       "_model_name": "HTMLModel",
       "_view_count": null,
       "_view_module": "@jupyter-widgets/controls",
       "_view_module_version": "1.5.0",
       "_view_name": "HTMLView",
       "description": "",
       "description_tooltip": null,
       "layout": "IPY_MODEL_596490ac0a224b71b0087dee94828f4c",
       "placeholder": "​",
       "style": "IPY_MODEL_81892a2cb76e4918a46c1d255bf33103",
       "value": "100%"
      }
     },
     "227beafc105c43ebb6be0156c68ecd62": {
      "model_module": "@jupyter-widgets/controls",
      "model_module_version": "1.5.0",
      "model_name": "HBoxModel",
      "state": {
       "_dom_classes": [],
       "_model_module": "@jupyter-widgets/controls",
       "_model_module_version": "1.5.0",
       "_model_name": "HBoxModel",
       "_view_count": null,
       "_view_module": "@jupyter-widgets/controls",
       "_view_module_version": "1.5.0",
       "_view_name": "HBoxView",
       "box_style": "",
       "children": [
        "IPY_MODEL_0a9a10b5370a410bae4b282ad7fd60f7",
        "IPY_MODEL_e74ae466508d4fc9841dec6d8cc11eb3",
        "IPY_MODEL_691ec849d73e46ccb2b9c8b523ff2e55"
       ],
       "layout": "IPY_MODEL_9bda54b90eea47b9b41c6f6b79c57da6"
      }
     },
     "22d5cce35b6848f69e7dcba2e07fddbf": {
      "model_module": "@jupyter-widgets/base",
      "model_module_version": "1.2.0",
      "model_name": "LayoutModel",
      "state": {
       "_model_module": "@jupyter-widgets/base",
       "_model_module_version": "1.2.0",
       "_model_name": "LayoutModel",
       "_view_count": null,
       "_view_module": "@jupyter-widgets/base",
       "_view_module_version": "1.2.0",
       "_view_name": "LayoutView",
       "align_content": null,
       "align_items": null,
       "align_self": null,
       "border": null,
       "bottom": null,
       "display": null,
       "flex": null,
       "flex_flow": null,
       "grid_area": null,
       "grid_auto_columns": null,
       "grid_auto_flow": null,
       "grid_auto_rows": null,
       "grid_column": null,
       "grid_gap": null,
       "grid_row": null,
       "grid_template_areas": null,
       "grid_template_columns": null,
       "grid_template_rows": null,
       "height": null,
       "justify_content": null,
       "justify_items": null,
       "left": null,
       "margin": null,
       "max_height": null,
       "max_width": null,
       "min_height": null,
       "min_width": null,
       "object_fit": null,
       "object_position": null,
       "order": null,
       "overflow": null,
       "overflow_x": null,
       "overflow_y": null,
       "padding": null,
       "right": null,
       "top": null,
       "visibility": null,
       "width": null
      }
     },
     "2c5ed902a77a4e56a236a1221f0fd8fe": {
      "model_module": "@jupyter-widgets/base",
      "model_module_version": "1.2.0",
      "model_name": "LayoutModel",
      "state": {
       "_model_module": "@jupyter-widgets/base",
       "_model_module_version": "1.2.0",
       "_model_name": "LayoutModel",
       "_view_count": null,
       "_view_module": "@jupyter-widgets/base",
       "_view_module_version": "1.2.0",
       "_view_name": "LayoutView",
       "align_content": null,
       "align_items": null,
       "align_self": null,
       "border": null,
       "bottom": null,
       "display": null,
       "flex": null,
       "flex_flow": null,
       "grid_area": null,
       "grid_auto_columns": null,
       "grid_auto_flow": null,
       "grid_auto_rows": null,
       "grid_column": null,
       "grid_gap": null,
       "grid_row": null,
       "grid_template_areas": null,
       "grid_template_columns": null,
       "grid_template_rows": null,
       "height": null,
       "justify_content": null,
       "justify_items": null,
       "left": null,
       "margin": null,
       "max_height": null,
       "max_width": null,
       "min_height": null,
       "min_width": null,
       "object_fit": null,
       "object_position": null,
       "order": null,
       "overflow": null,
       "overflow_x": null,
       "overflow_y": null,
       "padding": null,
       "right": null,
       "top": null,
       "visibility": null,
       "width": null
      }
     },
     "34c6b4deea354a1fa5f81b3f7ce3e80d": {
      "model_module": "@jupyter-widgets/base",
      "model_module_version": "1.2.0",
      "model_name": "LayoutModel",
      "state": {
       "_model_module": "@jupyter-widgets/base",
       "_model_module_version": "1.2.0",
       "_model_name": "LayoutModel",
       "_view_count": null,
       "_view_module": "@jupyter-widgets/base",
       "_view_module_version": "1.2.0",
       "_view_name": "LayoutView",
       "align_content": null,
       "align_items": null,
       "align_self": null,
       "border": null,
       "bottom": null,
       "display": null,
       "flex": null,
       "flex_flow": null,
       "grid_area": null,
       "grid_auto_columns": null,
       "grid_auto_flow": null,
       "grid_auto_rows": null,
       "grid_column": null,
       "grid_gap": null,
       "grid_row": null,
       "grid_template_areas": null,
       "grid_template_columns": null,
       "grid_template_rows": null,
       "height": null,
       "justify_content": null,
       "justify_items": null,
       "left": null,
       "margin": null,
       "max_height": null,
       "max_width": null,
       "min_height": null,
       "min_width": null,
       "object_fit": null,
       "object_position": null,
       "order": null,
       "overflow": null,
       "overflow_x": null,
       "overflow_y": null,
       "padding": null,
       "right": null,
       "top": null,
       "visibility": null,
       "width": null
      }
     },
     "36a096f119594fdba62c4d6a32afd44f": {
      "model_module": "@jupyter-widgets/base",
      "model_module_version": "1.2.0",
      "model_name": "LayoutModel",
      "state": {
       "_model_module": "@jupyter-widgets/base",
       "_model_module_version": "1.2.0",
       "_model_name": "LayoutModel",
       "_view_count": null,
       "_view_module": "@jupyter-widgets/base",
       "_view_module_version": "1.2.0",
       "_view_name": "LayoutView",
       "align_content": null,
       "align_items": null,
       "align_self": null,
       "border": null,
       "bottom": null,
       "display": null,
       "flex": null,
       "flex_flow": null,
       "grid_area": null,
       "grid_auto_columns": null,
       "grid_auto_flow": null,
       "grid_auto_rows": null,
       "grid_column": null,
       "grid_gap": null,
       "grid_row": null,
       "grid_template_areas": null,
       "grid_template_columns": null,
       "grid_template_rows": null,
       "height": null,
       "justify_content": null,
       "justify_items": null,
       "left": null,
       "margin": null,
       "max_height": null,
       "max_width": null,
       "min_height": null,
       "min_width": null,
       "object_fit": null,
       "object_position": null,
       "order": null,
       "overflow": null,
       "overflow_x": null,
       "overflow_y": null,
       "padding": null,
       "right": null,
       "top": null,
       "visibility": null,
       "width": null
      }
     },
     "3b39891b90d44e8aab0223359d98c682": {
      "model_module": "@jupyter-widgets/base",
      "model_module_version": "1.2.0",
      "model_name": "LayoutModel",
      "state": {
       "_model_module": "@jupyter-widgets/base",
       "_model_module_version": "1.2.0",
       "_model_name": "LayoutModel",
       "_view_count": null,
       "_view_module": "@jupyter-widgets/base",
       "_view_module_version": "1.2.0",
       "_view_name": "LayoutView",
       "align_content": null,
       "align_items": null,
       "align_self": null,
       "border": null,
       "bottom": null,
       "display": null,
       "flex": null,
       "flex_flow": null,
       "grid_area": null,
       "grid_auto_columns": null,
       "grid_auto_flow": null,
       "grid_auto_rows": null,
       "grid_column": null,
       "grid_gap": null,
       "grid_row": null,
       "grid_template_areas": null,
       "grid_template_columns": null,
       "grid_template_rows": null,
       "height": null,
       "justify_content": null,
       "justify_items": null,
       "left": null,
       "margin": null,
       "max_height": null,
       "max_width": null,
       "min_height": null,
       "min_width": null,
       "object_fit": null,
       "object_position": null,
       "order": null,
       "overflow": null,
       "overflow_x": null,
       "overflow_y": null,
       "padding": null,
       "right": null,
       "top": null,
       "visibility": null,
       "width": null
      }
     },
     "3d95886f0c214172a31892adf19fac6c": {
      "model_module": "@jupyter-widgets/controls",
      "model_module_version": "1.5.0",
      "model_name": "HBoxModel",
      "state": {
       "_dom_classes": [],
       "_model_module": "@jupyter-widgets/controls",
       "_model_module_version": "1.5.0",
       "_model_name": "HBoxModel",
       "_view_count": null,
       "_view_module": "@jupyter-widgets/controls",
       "_view_module_version": "1.5.0",
       "_view_name": "HBoxView",
       "box_style": "",
       "children": [
        "IPY_MODEL_21f8fbf903424ccd8047dc49fb8ed3ea",
        "IPY_MODEL_6864a49145a9432bbad968832b9800f4",
        "IPY_MODEL_669229db633447019508084076ab64bc"
       ],
       "layout": "IPY_MODEL_8a3ac60398ac42e2804865e32b38f69d"
      }
     },
     "470e05762dbb4742a5cd149c0e043580": {
      "model_module": "@jupyter-widgets/controls",
      "model_module_version": "1.5.0",
      "model_name": "DescriptionStyleModel",
      "state": {
       "_model_module": "@jupyter-widgets/controls",
       "_model_module_version": "1.5.0",
       "_model_name": "DescriptionStyleModel",
       "_view_count": null,
       "_view_module": "@jupyter-widgets/base",
       "_view_module_version": "1.2.0",
       "_view_name": "StyleView",
       "description_width": ""
      }
     },
     "4a0cad26aff34916b47f61f7f89daf16": {
      "model_module": "@jupyter-widgets/base",
      "model_module_version": "1.2.0",
      "model_name": "LayoutModel",
      "state": {
       "_model_module": "@jupyter-widgets/base",
       "_model_module_version": "1.2.0",
       "_model_name": "LayoutModel",
       "_view_count": null,
       "_view_module": "@jupyter-widgets/base",
       "_view_module_version": "1.2.0",
       "_view_name": "LayoutView",
       "align_content": null,
       "align_items": null,
       "align_self": null,
       "border": null,
       "bottom": null,
       "display": null,
       "flex": null,
       "flex_flow": null,
       "grid_area": null,
       "grid_auto_columns": null,
       "grid_auto_flow": null,
       "grid_auto_rows": null,
       "grid_column": null,
       "grid_gap": null,
       "grid_row": null,
       "grid_template_areas": null,
       "grid_template_columns": null,
       "grid_template_rows": null,
       "height": null,
       "justify_content": null,
       "justify_items": null,
       "left": null,
       "margin": null,
       "max_height": null,
       "max_width": null,
       "min_height": null,
       "min_width": null,
       "object_fit": null,
       "object_position": null,
       "order": null,
       "overflow": null,
       "overflow_x": null,
       "overflow_y": null,
       "padding": null,
       "right": null,
       "top": null,
       "visibility": null,
       "width": null
      }
     },
     "4b30283f25064a6b9b3c0bda4f5ad1e7": {
      "model_module": "@jupyter-widgets/base",
      "model_module_version": "1.2.0",
      "model_name": "LayoutModel",
      "state": {
       "_model_module": "@jupyter-widgets/base",
       "_model_module_version": "1.2.0",
       "_model_name": "LayoutModel",
       "_view_count": null,
       "_view_module": "@jupyter-widgets/base",
       "_view_module_version": "1.2.0",
       "_view_name": "LayoutView",
       "align_content": null,
       "align_items": null,
       "align_self": null,
       "border": null,
       "bottom": null,
       "display": null,
       "flex": null,
       "flex_flow": null,
       "grid_area": null,
       "grid_auto_columns": null,
       "grid_auto_flow": null,
       "grid_auto_rows": null,
       "grid_column": null,
       "grid_gap": null,
       "grid_row": null,
       "grid_template_areas": null,
       "grid_template_columns": null,
       "grid_template_rows": null,
       "height": null,
       "justify_content": null,
       "justify_items": null,
       "left": null,
       "margin": null,
       "max_height": null,
       "max_width": null,
       "min_height": null,
       "min_width": null,
       "object_fit": null,
       "object_position": null,
       "order": null,
       "overflow": null,
       "overflow_x": null,
       "overflow_y": null,
       "padding": null,
       "right": null,
       "top": null,
       "visibility": null,
       "width": null
      }
     },
     "5265188cc98a45d8b566547f3d45ec4f": {
      "model_module": "@jupyter-widgets/controls",
      "model_module_version": "1.5.0",
      "model_name": "DescriptionStyleModel",
      "state": {
       "_model_module": "@jupyter-widgets/controls",
       "_model_module_version": "1.5.0",
       "_model_name": "DescriptionStyleModel",
       "_view_count": null,
       "_view_module": "@jupyter-widgets/base",
       "_view_module_version": "1.2.0",
       "_view_name": "StyleView",
       "description_width": ""
      }
     },
     "5268a8066f364198bc4d2ea4bc7011b0": {
      "model_module": "@jupyter-widgets/controls",
      "model_module_version": "1.5.0",
      "model_name": "ProgressStyleModel",
      "state": {
       "_model_module": "@jupyter-widgets/controls",
       "_model_module_version": "1.5.0",
       "_model_name": "ProgressStyleModel",
       "_view_count": null,
       "_view_module": "@jupyter-widgets/base",
       "_view_module_version": "1.2.0",
       "_view_name": "StyleView",
       "bar_color": null,
       "description_width": ""
      }
     },
     "596490ac0a224b71b0087dee94828f4c": {
      "model_module": "@jupyter-widgets/base",
      "model_module_version": "1.2.0",
      "model_name": "LayoutModel",
      "state": {
       "_model_module": "@jupyter-widgets/base",
       "_model_module_version": "1.2.0",
       "_model_name": "LayoutModel",
       "_view_count": null,
       "_view_module": "@jupyter-widgets/base",
       "_view_module_version": "1.2.0",
       "_view_name": "LayoutView",
       "align_content": null,
       "align_items": null,
       "align_self": null,
       "border": null,
       "bottom": null,
       "display": null,
       "flex": null,
       "flex_flow": null,
       "grid_area": null,
       "grid_auto_columns": null,
       "grid_auto_flow": null,
       "grid_auto_rows": null,
       "grid_column": null,
       "grid_gap": null,
       "grid_row": null,
       "grid_template_areas": null,
       "grid_template_columns": null,
       "grid_template_rows": null,
       "height": null,
       "justify_content": null,
       "justify_items": null,
       "left": null,
       "margin": null,
       "max_height": null,
       "max_width": null,
       "min_height": null,
       "min_width": null,
       "object_fit": null,
       "object_position": null,
       "order": null,
       "overflow": null,
       "overflow_x": null,
       "overflow_y": null,
       "padding": null,
       "right": null,
       "top": null,
       "visibility": null,
       "width": null
      }
     },
     "608b01e317f448439a520f60d9108118": {
      "model_module": "@jupyter-widgets/base",
      "model_module_version": "1.2.0",
      "model_name": "LayoutModel",
      "state": {
       "_model_module": "@jupyter-widgets/base",
       "_model_module_version": "1.2.0",
       "_model_name": "LayoutModel",
       "_view_count": null,
       "_view_module": "@jupyter-widgets/base",
       "_view_module_version": "1.2.0",
       "_view_name": "LayoutView",
       "align_content": null,
       "align_items": null,
       "align_self": null,
       "border": null,
       "bottom": null,
       "display": null,
       "flex": null,
       "flex_flow": null,
       "grid_area": null,
       "grid_auto_columns": null,
       "grid_auto_flow": null,
       "grid_auto_rows": null,
       "grid_column": null,
       "grid_gap": null,
       "grid_row": null,
       "grid_template_areas": null,
       "grid_template_columns": null,
       "grid_template_rows": null,
       "height": null,
       "justify_content": null,
       "justify_items": null,
       "left": null,
       "margin": null,
       "max_height": null,
       "max_width": null,
       "min_height": null,
       "min_width": null,
       "object_fit": null,
       "object_position": null,
       "order": null,
       "overflow": null,
       "overflow_x": null,
       "overflow_y": null,
       "padding": null,
       "right": null,
       "top": null,
       "visibility": null,
       "width": null
      }
     },
     "63be4c49ce1649e9a242e5ea46ac1d69": {
      "model_module": "@jupyter-widgets/controls",
      "model_module_version": "1.5.0",
      "model_name": "HTMLModel",
      "state": {
       "_dom_classes": [],
       "_model_module": "@jupyter-widgets/controls",
       "_model_module_version": "1.5.0",
       "_model_name": "HTMLModel",
       "_view_count": null,
       "_view_module": "@jupyter-widgets/controls",
       "_view_module_version": "1.5.0",
       "_view_name": "HTMLView",
       "description": "",
       "description_tooltip": null,
       "layout": "IPY_MODEL_608b01e317f448439a520f60d9108118",
       "placeholder": "​",
       "style": "IPY_MODEL_cf007f156b9b4e21a479e3b7e8eb91b0",
       "value": "100%"
      }
     },
     "669229db633447019508084076ab64bc": {
      "model_module": "@jupyter-widgets/controls",
      "model_module_version": "1.5.0",
      "model_name": "HTMLModel",
      "state": {
       "_dom_classes": [],
       "_model_module": "@jupyter-widgets/controls",
       "_model_module_version": "1.5.0",
       "_model_name": "HTMLModel",
       "_view_count": null,
       "_view_module": "@jupyter-widgets/controls",
       "_view_module_version": "1.5.0",
       "_view_name": "HTMLView",
       "description": "",
       "description_tooltip": null,
       "layout": "IPY_MODEL_22d5cce35b6848f69e7dcba2e07fddbf",
       "placeholder": "​",
       "style": "IPY_MODEL_d7691ce51c0240878fe758ee46cc703a",
       "value": " 100000/100000 [00:17&lt;00:00, 5843.04it/s]"
      }
     },
     "6864a49145a9432bbad968832b9800f4": {
      "model_module": "@jupyter-widgets/controls",
      "model_module_version": "1.5.0",
      "model_name": "FloatProgressModel",
      "state": {
       "_dom_classes": [],
       "_model_module": "@jupyter-widgets/controls",
       "_model_module_version": "1.5.0",
       "_model_name": "FloatProgressModel",
       "_view_count": null,
       "_view_module": "@jupyter-widgets/controls",
       "_view_module_version": "1.5.0",
       "_view_name": "ProgressView",
       "bar_style": "success",
       "description": "",
       "description_tooltip": null,
       "layout": "IPY_MODEL_f48db6e35a534221be143da402d95cf9",
       "max": 100000.0,
       "min": 0.0,
       "orientation": "horizontal",
       "style": "IPY_MODEL_cdcd938a371d4489b1d0b410792e99d2",
       "value": 100000.0
      }
     },
     "691ec849d73e46ccb2b9c8b523ff2e55": {
      "model_module": "@jupyter-widgets/controls",
      "model_module_version": "1.5.0",
      "model_name": "HTMLModel",
      "state": {
       "_dom_classes": [],
       "_model_module": "@jupyter-widgets/controls",
       "_model_module_version": "1.5.0",
       "_model_name": "HTMLModel",
       "_view_count": null,
       "_view_module": "@jupyter-widgets/controls",
       "_view_module_version": "1.5.0",
       "_view_name": "HTMLView",
       "description": "",
       "description_tooltip": null,
       "layout": "IPY_MODEL_01d6f145fb4644ca9f6d39d4a9a970a1",
       "placeholder": "​",
       "style": "IPY_MODEL_0a3f1788f86a4ce8b46f0dbfe5a1d6f1",
       "value": " 100000/100000 [00:00&lt;00:00, 336525.16it/s]"
      }
     },
     "6eaa2f821853490a9cc0f83565bfc0b9": {
      "model_module": "@jupyter-widgets/base",
      "model_module_version": "1.2.0",
      "model_name": "LayoutModel",
      "state": {
       "_model_module": "@jupyter-widgets/base",
       "_model_module_version": "1.2.0",
       "_model_name": "LayoutModel",
       "_view_count": null,
       "_view_module": "@jupyter-widgets/base",
       "_view_module_version": "1.2.0",
       "_view_name": "LayoutView",
       "align_content": null,
       "align_items": null,
       "align_self": null,
       "border": null,
       "bottom": null,
       "display": null,
       "flex": null,
       "flex_flow": null,
       "grid_area": null,
       "grid_auto_columns": null,
       "grid_auto_flow": null,
       "grid_auto_rows": null,
       "grid_column": null,
       "grid_gap": null,
       "grid_row": null,
       "grid_template_areas": null,
       "grid_template_columns": null,
       "grid_template_rows": null,
       "height": null,
       "justify_content": null,
       "justify_items": null,
       "left": null,
       "margin": null,
       "max_height": null,
       "max_width": null,
       "min_height": null,
       "min_width": null,
       "object_fit": null,
       "object_position": null,
       "order": null,
       "overflow": null,
       "overflow_x": null,
       "overflow_y": null,
       "padding": null,
       "right": null,
       "top": null,
       "visibility": null,
       "width": null
      }
     },
     "76f8ae51635d4c8585c5861376bd7f23": {
      "model_module": "@jupyter-widgets/controls",
      "model_module_version": "1.5.0",
      "model_name": "HBoxModel",
      "state": {
       "_dom_classes": [],
       "_model_module": "@jupyter-widgets/controls",
       "_model_module_version": "1.5.0",
       "_model_name": "HBoxModel",
       "_view_count": null,
       "_view_module": "@jupyter-widgets/controls",
       "_view_module_version": "1.5.0",
       "_view_name": "HBoxView",
       "box_style": "",
       "children": [
        "IPY_MODEL_d6ddab97c0ca45eba81ed800b5bd0e61",
        "IPY_MODEL_e30d92042fb84b65b82d28d2c47bebb3",
        "IPY_MODEL_b2c43231727143cab22ef34303b35558"
       ],
       "layout": "IPY_MODEL_c5459cf78830472c998e118e3c810aca"
      }
     },
     "81892a2cb76e4918a46c1d255bf33103": {
      "model_module": "@jupyter-widgets/controls",
      "model_module_version": "1.5.0",
      "model_name": "DescriptionStyleModel",
      "state": {
       "_model_module": "@jupyter-widgets/controls",
       "_model_module_version": "1.5.0",
       "_model_name": "DescriptionStyleModel",
       "_view_count": null,
       "_view_module": "@jupyter-widgets/base",
       "_view_module_version": "1.2.0",
       "_view_name": "StyleView",
       "description_width": ""
      }
     },
     "8263e90bf1ad4d638bc19508fad6faec": {
      "model_module": "@jupyter-widgets/base",
      "model_module_version": "1.2.0",
      "model_name": "LayoutModel",
      "state": {
       "_model_module": "@jupyter-widgets/base",
       "_model_module_version": "1.2.0",
       "_model_name": "LayoutModel",
       "_view_count": null,
       "_view_module": "@jupyter-widgets/base",
       "_view_module_version": "1.2.0",
       "_view_name": "LayoutView",
       "align_content": null,
       "align_items": null,
       "align_self": null,
       "border": null,
       "bottom": null,
       "display": null,
       "flex": null,
       "flex_flow": null,
       "grid_area": null,
       "grid_auto_columns": null,
       "grid_auto_flow": null,
       "grid_auto_rows": null,
       "grid_column": null,
       "grid_gap": null,
       "grid_row": null,
       "grid_template_areas": null,
       "grid_template_columns": null,
       "grid_template_rows": null,
       "height": null,
       "justify_content": null,
       "justify_items": null,
       "left": null,
       "margin": null,
       "max_height": null,
       "max_width": null,
       "min_height": null,
       "min_width": null,
       "object_fit": null,
       "object_position": null,
       "order": null,
       "overflow": null,
       "overflow_x": null,
       "overflow_y": null,
       "padding": null,
       "right": null,
       "top": null,
       "visibility": null,
       "width": null
      }
     },
     "8a233c584d2f461281050092997ba9de": {
      "model_module": "@jupyter-widgets/controls",
      "model_module_version": "1.5.0",
      "model_name": "HBoxModel",
      "state": {
       "_dom_classes": [],
       "_model_module": "@jupyter-widgets/controls",
       "_model_module_version": "1.5.0",
       "_model_name": "HBoxModel",
       "_view_count": null,
       "_view_module": "@jupyter-widgets/controls",
       "_view_module_version": "1.5.0",
       "_view_name": "HBoxView",
       "box_style": "",
       "children": [
        "IPY_MODEL_8c55a11c094747daaca3c2030692ae32",
        "IPY_MODEL_0cc10a6a223e4c3785746a608e7778dc",
        "IPY_MODEL_ae5d770b3c5e425aada1b1f78c889275"
       ],
       "layout": "IPY_MODEL_4a0cad26aff34916b47f61f7f89daf16"
      }
     },
     "8a3ac60398ac42e2804865e32b38f69d": {
      "model_module": "@jupyter-widgets/base",
      "model_module_version": "1.2.0",
      "model_name": "LayoutModel",
      "state": {
       "_model_module": "@jupyter-widgets/base",
       "_model_module_version": "1.2.0",
       "_model_name": "LayoutModel",
       "_view_count": null,
       "_view_module": "@jupyter-widgets/base",
       "_view_module_version": "1.2.0",
       "_view_name": "LayoutView",
       "align_content": null,
       "align_items": null,
       "align_self": null,
       "border": null,
       "bottom": null,
       "display": null,
       "flex": null,
       "flex_flow": null,
       "grid_area": null,
       "grid_auto_columns": null,
       "grid_auto_flow": null,
       "grid_auto_rows": null,
       "grid_column": null,
       "grid_gap": null,
       "grid_row": null,
       "grid_template_areas": null,
       "grid_template_columns": null,
       "grid_template_rows": null,
       "height": null,
       "justify_content": null,
       "justify_items": null,
       "left": null,
       "margin": null,
       "max_height": null,
       "max_width": null,
       "min_height": null,
       "min_width": null,
       "object_fit": null,
       "object_position": null,
       "order": null,
       "overflow": null,
       "overflow_x": null,
       "overflow_y": null,
       "padding": null,
       "right": null,
       "top": null,
       "visibility": null,
       "width": null
      }
     },
     "8c55a11c094747daaca3c2030692ae32": {
      "model_module": "@jupyter-widgets/controls",
      "model_module_version": "1.5.0",
      "model_name": "HTMLModel",
      "state": {
       "_dom_classes": [],
       "_model_module": "@jupyter-widgets/controls",
       "_model_module_version": "1.5.0",
       "_model_name": "HTMLModel",
       "_view_count": null,
       "_view_module": "@jupyter-widgets/controls",
       "_view_module_version": "1.5.0",
       "_view_name": "HTMLView",
       "description": "",
       "description_tooltip": null,
       "layout": "IPY_MODEL_f00c8f223ca84c9497ff20768095af9c",
       "placeholder": "​",
       "style": "IPY_MODEL_f45699b8c90044b38299927c2eee4dba",
       "value": "100%"
      }
     },
     "91ffbe3084bb4bad87b79c58c94a4d16": {
      "model_module": "@jupyter-widgets/controls",
      "model_module_version": "1.5.0",
      "model_name": "DescriptionStyleModel",
      "state": {
       "_model_module": "@jupyter-widgets/controls",
       "_model_module_version": "1.5.0",
       "_model_name": "DescriptionStyleModel",
       "_view_count": null,
       "_view_module": "@jupyter-widgets/base",
       "_view_module_version": "1.2.0",
       "_view_name": "StyleView",
       "description_width": ""
      }
     },
     "9bda54b90eea47b9b41c6f6b79c57da6": {
      "model_module": "@jupyter-widgets/base",
      "model_module_version": "1.2.0",
      "model_name": "LayoutModel",
      "state": {
       "_model_module": "@jupyter-widgets/base",
       "_model_module_version": "1.2.0",
       "_model_name": "LayoutModel",
       "_view_count": null,
       "_view_module": "@jupyter-widgets/base",
       "_view_module_version": "1.2.0",
       "_view_name": "LayoutView",
       "align_content": null,
       "align_items": null,
       "align_self": null,
       "border": null,
       "bottom": null,
       "display": null,
       "flex": null,
       "flex_flow": null,
       "grid_area": null,
       "grid_auto_columns": null,
       "grid_auto_flow": null,
       "grid_auto_rows": null,
       "grid_column": null,
       "grid_gap": null,
       "grid_row": null,
       "grid_template_areas": null,
       "grid_template_columns": null,
       "grid_template_rows": null,
       "height": null,
       "justify_content": null,
       "justify_items": null,
       "left": null,
       "margin": null,
       "max_height": null,
       "max_width": null,
       "min_height": null,
       "min_width": null,
       "object_fit": null,
       "object_position": null,
       "order": null,
       "overflow": null,
       "overflow_x": null,
       "overflow_y": null,
       "padding": null,
       "right": null,
       "top": null,
       "visibility": null,
       "width": null
      }
     },
     "ae5d770b3c5e425aada1b1f78c889275": {
      "model_module": "@jupyter-widgets/controls",
      "model_module_version": "1.5.0",
      "model_name": "HTMLModel",
      "state": {
       "_dom_classes": [],
       "_model_module": "@jupyter-widgets/controls",
       "_model_module_version": "1.5.0",
       "_model_name": "HTMLModel",
       "_view_count": null,
       "_view_module": "@jupyter-widgets/controls",
       "_view_module_version": "1.5.0",
       "_view_name": "HTMLView",
       "description": "",
       "description_tooltip": null,
       "layout": "IPY_MODEL_8263e90bf1ad4d638bc19508fad6faec",
       "placeholder": "​",
       "style": "IPY_MODEL_470e05762dbb4742a5cd149c0e043580",
       "value": " 100000/100000 [00:02&lt;00:00, 75119.03it/s]"
      }
     },
     "b2c43231727143cab22ef34303b35558": {
      "model_module": "@jupyter-widgets/controls",
      "model_module_version": "1.5.0",
      "model_name": "HTMLModel",
      "state": {
       "_dom_classes": [],
       "_model_module": "@jupyter-widgets/controls",
       "_model_module_version": "1.5.0",
       "_model_name": "HTMLModel",
       "_view_count": null,
       "_view_module": "@jupyter-widgets/controls",
       "_view_module_version": "1.5.0",
       "_view_name": "HTMLView",
       "description": "",
       "description_tooltip": null,
       "layout": "IPY_MODEL_0214b9e8bac44c148a85392731e8e92f",
       "placeholder": "​",
       "style": "IPY_MODEL_c508ddcd4e5a46ea84b093dc8f141401",
       "value": " 100000/100000 [00:00&lt;00:00, 376207.33it/s]"
      }
     },
     "b81ac540b3c5443497f9618832808a3d": {
      "model_module": "@jupyter-widgets/controls",
      "model_module_version": "1.5.0",
      "model_name": "HBoxModel",
      "state": {
       "_dom_classes": [],
       "_model_module": "@jupyter-widgets/controls",
       "_model_module_version": "1.5.0",
       "_model_name": "HBoxModel",
       "_view_count": null,
       "_view_module": "@jupyter-widgets/controls",
       "_view_module_version": "1.5.0",
       "_view_name": "HBoxView",
       "box_style": "",
       "children": [
        "IPY_MODEL_63be4c49ce1649e9a242e5ea46ac1d69",
        "IPY_MODEL_073cb584fdda4f6da0100b8aa6c211b3",
        "IPY_MODEL_f08f1fb433a340cab09b1dc22d8cf010"
       ],
       "layout": "IPY_MODEL_6eaa2f821853490a9cc0f83565bfc0b9"
      }
     },
     "c508ddcd4e5a46ea84b093dc8f141401": {
      "model_module": "@jupyter-widgets/controls",
      "model_module_version": "1.5.0",
      "model_name": "DescriptionStyleModel",
      "state": {
       "_model_module": "@jupyter-widgets/controls",
       "_model_module_version": "1.5.0",
       "_model_name": "DescriptionStyleModel",
       "_view_count": null,
       "_view_module": "@jupyter-widgets/base",
       "_view_module_version": "1.2.0",
       "_view_name": "StyleView",
       "description_width": ""
      }
     },
     "c5459cf78830472c998e118e3c810aca": {
      "model_module": "@jupyter-widgets/base",
      "model_module_version": "1.2.0",
      "model_name": "LayoutModel",
      "state": {
       "_model_module": "@jupyter-widgets/base",
       "_model_module_version": "1.2.0",
       "_model_name": "LayoutModel",
       "_view_count": null,
       "_view_module": "@jupyter-widgets/base",
       "_view_module_version": "1.2.0",
       "_view_name": "LayoutView",
       "align_content": null,
       "align_items": null,
       "align_self": null,
       "border": null,
       "bottom": null,
       "display": null,
       "flex": null,
       "flex_flow": null,
       "grid_area": null,
       "grid_auto_columns": null,
       "grid_auto_flow": null,
       "grid_auto_rows": null,
       "grid_column": null,
       "grid_gap": null,
       "grid_row": null,
       "grid_template_areas": null,
       "grid_template_columns": null,
       "grid_template_rows": null,
       "height": null,
       "justify_content": null,
       "justify_items": null,
       "left": null,
       "margin": null,
       "max_height": null,
       "max_width": null,
       "min_height": null,
       "min_width": null,
       "object_fit": null,
       "object_position": null,
       "order": null,
       "overflow": null,
       "overflow_x": null,
       "overflow_y": null,
       "padding": null,
       "right": null,
       "top": null,
       "visibility": null,
       "width": null
      }
     },
     "cdcd938a371d4489b1d0b410792e99d2": {
      "model_module": "@jupyter-widgets/controls",
      "model_module_version": "1.5.0",
      "model_name": "ProgressStyleModel",
      "state": {
       "_model_module": "@jupyter-widgets/controls",
       "_model_module_version": "1.5.0",
       "_model_name": "ProgressStyleModel",
       "_view_count": null,
       "_view_module": "@jupyter-widgets/base",
       "_view_module_version": "1.2.0",
       "_view_name": "StyleView",
       "bar_color": null,
       "description_width": ""
      }
     },
     "cf007f156b9b4e21a479e3b7e8eb91b0": {
      "model_module": "@jupyter-widgets/controls",
      "model_module_version": "1.5.0",
      "model_name": "DescriptionStyleModel",
      "state": {
       "_model_module": "@jupyter-widgets/controls",
       "_model_module_version": "1.5.0",
       "_model_name": "DescriptionStyleModel",
       "_view_count": null,
       "_view_module": "@jupyter-widgets/base",
       "_view_module_version": "1.2.0",
       "_view_name": "StyleView",
       "description_width": ""
      }
     },
     "d6ddab97c0ca45eba81ed800b5bd0e61": {
      "model_module": "@jupyter-widgets/controls",
      "model_module_version": "1.5.0",
      "model_name": "HTMLModel",
      "state": {
       "_dom_classes": [],
       "_model_module": "@jupyter-widgets/controls",
       "_model_module_version": "1.5.0",
       "_model_name": "HTMLModel",
       "_view_count": null,
       "_view_module": "@jupyter-widgets/controls",
       "_view_module_version": "1.5.0",
       "_view_name": "HTMLView",
       "description": "",
       "description_tooltip": null,
       "layout": "IPY_MODEL_36a096f119594fdba62c4d6a32afd44f",
       "placeholder": "​",
       "style": "IPY_MODEL_eed09f9386474f87bf46fd3e475b6c64",
       "value": "100%"
      }
     },
     "d7691ce51c0240878fe758ee46cc703a": {
      "model_module": "@jupyter-widgets/controls",
      "model_module_version": "1.5.0",
      "model_name": "DescriptionStyleModel",
      "state": {
       "_model_module": "@jupyter-widgets/controls",
       "_model_module_version": "1.5.0",
       "_model_name": "DescriptionStyleModel",
       "_view_count": null,
       "_view_module": "@jupyter-widgets/base",
       "_view_module_version": "1.2.0",
       "_view_name": "StyleView",
       "description_width": ""
      }
     },
     "e30d92042fb84b65b82d28d2c47bebb3": {
      "model_module": "@jupyter-widgets/controls",
      "model_module_version": "1.5.0",
      "model_name": "FloatProgressModel",
      "state": {
       "_dom_classes": [],
       "_model_module": "@jupyter-widgets/controls",
       "_model_module_version": "1.5.0",
       "_model_name": "FloatProgressModel",
       "_view_count": null,
       "_view_module": "@jupyter-widgets/controls",
       "_view_module_version": "1.5.0",
       "_view_name": "ProgressView",
       "bar_style": "success",
       "description": "",
       "description_tooltip": null,
       "layout": "IPY_MODEL_34c6b4deea354a1fa5f81b3f7ce3e80d",
       "max": 100000.0,
       "min": 0.0,
       "orientation": "horizontal",
       "style": "IPY_MODEL_12eafdfd83194dcbaeaa0dc54f762dbe",
       "value": 100000.0
      }
     },
     "e74ae466508d4fc9841dec6d8cc11eb3": {
      "model_module": "@jupyter-widgets/controls",
      "model_module_version": "1.5.0",
      "model_name": "FloatProgressModel",
      "state": {
       "_dom_classes": [],
       "_model_module": "@jupyter-widgets/controls",
       "_model_module_version": "1.5.0",
       "_model_name": "FloatProgressModel",
       "_view_count": null,
       "_view_module": "@jupyter-widgets/controls",
       "_view_module_version": "1.5.0",
       "_view_name": "ProgressView",
       "bar_style": "success",
       "description": "",
       "description_tooltip": null,
       "layout": "IPY_MODEL_4b30283f25064a6b9b3c0bda4f5ad1e7",
       "max": 100000.0,
       "min": 0.0,
       "orientation": "horizontal",
       "style": "IPY_MODEL_e839be9fb2a4422197b96b65758e17cc",
       "value": 100000.0
      }
     },
     "e839be9fb2a4422197b96b65758e17cc": {
      "model_module": "@jupyter-widgets/controls",
      "model_module_version": "1.5.0",
      "model_name": "ProgressStyleModel",
      "state": {
       "_model_module": "@jupyter-widgets/controls",
       "_model_module_version": "1.5.0",
       "_model_name": "ProgressStyleModel",
       "_view_count": null,
       "_view_module": "@jupyter-widgets/base",
       "_view_module_version": "1.2.0",
       "_view_name": "StyleView",
       "bar_color": null,
       "description_width": ""
      }
     },
     "eed09f9386474f87bf46fd3e475b6c64": {
      "model_module": "@jupyter-widgets/controls",
      "model_module_version": "1.5.0",
      "model_name": "DescriptionStyleModel",
      "state": {
       "_model_module": "@jupyter-widgets/controls",
       "_model_module_version": "1.5.0",
       "_model_name": "DescriptionStyleModel",
       "_view_count": null,
       "_view_module": "@jupyter-widgets/base",
       "_view_module_version": "1.2.0",
       "_view_name": "StyleView",
       "description_width": ""
      }
     },
     "f00c8f223ca84c9497ff20768095af9c": {
      "model_module": "@jupyter-widgets/base",
      "model_module_version": "1.2.0",
      "model_name": "LayoutModel",
      "state": {
       "_model_module": "@jupyter-widgets/base",
       "_model_module_version": "1.2.0",
       "_model_name": "LayoutModel",
       "_view_count": null,
       "_view_module": "@jupyter-widgets/base",
       "_view_module_version": "1.2.0",
       "_view_name": "LayoutView",
       "align_content": null,
       "align_items": null,
       "align_self": null,
       "border": null,
       "bottom": null,
       "display": null,
       "flex": null,
       "flex_flow": null,
       "grid_area": null,
       "grid_auto_columns": null,
       "grid_auto_flow": null,
       "grid_auto_rows": null,
       "grid_column": null,
       "grid_gap": null,
       "grid_row": null,
       "grid_template_areas": null,
       "grid_template_columns": null,
       "grid_template_rows": null,
       "height": null,
       "justify_content": null,
       "justify_items": null,
       "left": null,
       "margin": null,
       "max_height": null,
       "max_width": null,
       "min_height": null,
       "min_width": null,
       "object_fit": null,
       "object_position": null,
       "order": null,
       "overflow": null,
       "overflow_x": null,
       "overflow_y": null,
       "padding": null,
       "right": null,
       "top": null,
       "visibility": null,
       "width": null
      }
     },
     "f08f1fb433a340cab09b1dc22d8cf010": {
      "model_module": "@jupyter-widgets/controls",
      "model_module_version": "1.5.0",
      "model_name": "HTMLModel",
      "state": {
       "_dom_classes": [],
       "_model_module": "@jupyter-widgets/controls",
       "_model_module_version": "1.5.0",
       "_model_name": "HTMLModel",
       "_view_count": null,
       "_view_module": "@jupyter-widgets/controls",
       "_view_module_version": "1.5.0",
       "_view_name": "HTMLView",
       "description": "",
       "description_tooltip": null,
       "layout": "IPY_MODEL_f6373f0a8890450fb534a91725892106",
       "placeholder": "​",
       "style": "IPY_MODEL_5265188cc98a45d8b566547f3d45ec4f",
       "value": " 100000/100000 [00:03&lt;00:00, 20847.41it/s]"
      }
     },
     "f45699b8c90044b38299927c2eee4dba": {
      "model_module": "@jupyter-widgets/controls",
      "model_module_version": "1.5.0",
      "model_name": "DescriptionStyleModel",
      "state": {
       "_model_module": "@jupyter-widgets/controls",
       "_model_module_version": "1.5.0",
       "_model_name": "DescriptionStyleModel",
       "_view_count": null,
       "_view_module": "@jupyter-widgets/base",
       "_view_module_version": "1.2.0",
       "_view_name": "StyleView",
       "description_width": ""
      }
     },
     "f48db6e35a534221be143da402d95cf9": {
      "model_module": "@jupyter-widgets/base",
      "model_module_version": "1.2.0",
      "model_name": "LayoutModel",
      "state": {
       "_model_module": "@jupyter-widgets/base",
       "_model_module_version": "1.2.0",
       "_model_name": "LayoutModel",
       "_view_count": null,
       "_view_module": "@jupyter-widgets/base",
       "_view_module_version": "1.2.0",
       "_view_name": "LayoutView",
       "align_content": null,
       "align_items": null,
       "align_self": null,
       "border": null,
       "bottom": null,
       "display": null,
       "flex": null,
       "flex_flow": null,
       "grid_area": null,
       "grid_auto_columns": null,
       "grid_auto_flow": null,
       "grid_auto_rows": null,
       "grid_column": null,
       "grid_gap": null,
       "grid_row": null,
       "grid_template_areas": null,
       "grid_template_columns": null,
       "grid_template_rows": null,
       "height": null,
       "justify_content": null,
       "justify_items": null,
       "left": null,
       "margin": null,
       "max_height": null,
       "max_width": null,
       "min_height": null,
       "min_width": null,
       "object_fit": null,
       "object_position": null,
       "order": null,
       "overflow": null,
       "overflow_x": null,
       "overflow_y": null,
       "padding": null,
       "right": null,
       "top": null,
       "visibility": null,
       "width": null
      }
     },
     "f6373f0a8890450fb534a91725892106": {
      "model_module": "@jupyter-widgets/base",
      "model_module_version": "1.2.0",
      "model_name": "LayoutModel",
      "state": {
       "_model_module": "@jupyter-widgets/base",
       "_model_module_version": "1.2.0",
       "_model_name": "LayoutModel",
       "_view_count": null,
       "_view_module": "@jupyter-widgets/base",
       "_view_module_version": "1.2.0",
       "_view_name": "LayoutView",
       "align_content": null,
       "align_items": null,
       "align_self": null,
       "border": null,
       "bottom": null,
       "display": null,
       "flex": null,
       "flex_flow": null,
       "grid_area": null,
       "grid_auto_columns": null,
       "grid_auto_flow": null,
       "grid_auto_rows": null,
       "grid_column": null,
       "grid_gap": null,
       "grid_row": null,
       "grid_template_areas": null,
       "grid_template_columns": null,
       "grid_template_rows": null,
       "height": null,
       "justify_content": null,
       "justify_items": null,
       "left": null,
       "margin": null,
       "max_height": null,
       "max_width": null,
       "min_height": null,
       "min_width": null,
       "object_fit": null,
       "object_position": null,
       "order": null,
       "overflow": null,
       "overflow_x": null,
       "overflow_y": null,
       "padding": null,
       "right": null,
       "top": null,
       "visibility": null,
       "width": null
      }
     },
     "f8798202cf2c4ec28a5c16b0c9158aa0": {
      "model_module": "@jupyter-widgets/base",
      "model_module_version": "1.2.0",
      "model_name": "LayoutModel",
      "state": {
       "_model_module": "@jupyter-widgets/base",
       "_model_module_version": "1.2.0",
       "_model_name": "LayoutModel",
       "_view_count": null,
       "_view_module": "@jupyter-widgets/base",
       "_view_module_version": "1.2.0",
       "_view_name": "LayoutView",
       "align_content": null,
       "align_items": null,
       "align_self": null,
       "border": null,
       "bottom": null,
       "display": null,
       "flex": null,
       "flex_flow": null,
       "grid_area": null,
       "grid_auto_columns": null,
       "grid_auto_flow": null,
       "grid_auto_rows": null,
       "grid_column": null,
       "grid_gap": null,
       "grid_row": null,
       "grid_template_areas": null,
       "grid_template_columns": null,
       "grid_template_rows": null,
       "height": null,
       "justify_content": null,
       "justify_items": null,
       "left": null,
       "margin": null,
       "max_height": null,
       "max_width": null,
       "min_height": null,
       "min_width": null,
       "object_fit": null,
       "object_position": null,
       "order": null,
       "overflow": null,
       "overflow_x": null,
       "overflow_y": null,
       "padding": null,
       "right": null,
       "top": null,
       "visibility": null,
       "width": null
      }
     }
    },
    "version_major": 2,
    "version_minor": 0
   }
  }
 },
 "nbformat": 4,
 "nbformat_minor": 5
}
