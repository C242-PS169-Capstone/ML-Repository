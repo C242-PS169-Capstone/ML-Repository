{
 "cells": [
  {
   "cell_type": "markdown",
   "id": "c1573a3d",
   "metadata": {
    "papermill": {
     "duration": 0.005161,
     "end_time": "2024-12-06T06:52:07.257980",
     "exception": false,
     "start_time": "2024-12-06T06:52:07.252819",
     "status": "completed"
    },
    "tags": []
   },
   "source": [
    "### Read Data"
   ]
  },
  {
   "cell_type": "code",
   "execution_count": 1,
   "id": "a105e56f",
   "metadata": {
    "execution": {
     "iopub.execute_input": "2024-12-06T06:52:07.268020Z",
     "iopub.status.busy": "2024-12-06T06:52:07.267710Z",
     "iopub.status.idle": "2024-12-06T06:52:25.545408Z",
     "shell.execute_reply": "2024-12-06T06:52:25.544744Z"
    },
    "papermill": {
     "duration": 18.284921,
     "end_time": "2024-12-06T06:52:25.547357",
     "exception": false,
     "start_time": "2024-12-06T06:52:07.262436",
     "status": "completed"
    },
    "tags": []
   },
   "outputs": [],
   "source": [
    "# Import Libraries\n",
    "import pandas as pd\n",
    "import ast\n",
    "from sklearn.preprocessing import LabelEncoder\n",
    "from transformers import BertTokenizer, TFBertModel\n",
    "from sklearn.model_selection import train_test_split\n",
    "from tensorflow.keras.models import Model\n",
    "from tensorflow.keras.layers import Input, GRU, Dense, Dropout, BatchNormalization\n",
    "from tensorflow.keras.callbacks import EarlyStopping, ModelCheckpoint\n",
    "import tensorflow as tf"
   ]
  },
  {
   "cell_type": "code",
   "execution_count": 2,
   "id": "d99715fe",
   "metadata": {
    "execution": {
     "iopub.execute_input": "2024-12-06T06:52:25.558614Z",
     "iopub.status.busy": "2024-12-06T06:52:25.558089Z",
     "iopub.status.idle": "2024-12-06T06:52:25.860830Z",
     "shell.execute_reply": "2024-12-06T06:52:25.859876Z"
    },
    "papermill": {
     "duration": 0.311057,
     "end_time": "2024-12-06T06:52:25.863040",
     "exception": false,
     "start_time": "2024-12-06T06:52:25.551983",
     "status": "completed"
    },
    "tags": []
   },
   "outputs": [],
   "source": [
    "\n",
    "\n",
    "# Read data from CSV\n",
    "file_path = '/kaggle/input/data-model2/data_model2.csv'\n",
    "df = pd.read_csv(file_path)"
   ]
  },
  {
   "cell_type": "code",
   "execution_count": 3,
   "id": "c7fa69c1",
   "metadata": {
    "execution": {
     "iopub.execute_input": "2024-12-06T06:52:25.873395Z",
     "iopub.status.busy": "2024-12-06T06:52:25.873138Z",
     "iopub.status.idle": "2024-12-06T06:52:29.001031Z",
     "shell.execute_reply": "2024-12-06T06:52:29.000335Z"
    },
    "papermill": {
     "duration": 3.135088,
     "end_time": "2024-12-06T06:52:29.002980",
     "exception": false,
     "start_time": "2024-12-06T06:52:25.867892",
     "status": "completed"
    },
    "tags": []
   },
   "outputs": [],
   "source": [
    "# Convert string literals to Python lists\n",
    "df['statement'] = df['statement'].apply(lambda x: ast.literal_eval(x) if isinstance(x, str) else x)\n",
    "\n",
    "# Join lists into sentences\n",
    "df['statement'] = df['statement'].apply(lambda x: ' '.join(x) if isinstance(x, list) else x)\n"
   ]
  },
  {
   "cell_type": "code",
   "execution_count": 4,
   "id": "5abff9ae",
   "metadata": {
    "execution": {
     "iopub.execute_input": "2024-12-06T06:52:29.013234Z",
     "iopub.status.busy": "2024-12-06T06:52:29.012966Z",
     "iopub.status.idle": "2024-12-06T06:52:29.024480Z",
     "shell.execute_reply": "2024-12-06T06:52:29.023705Z"
    },
    "papermill": {
     "duration": 0.018612,
     "end_time": "2024-12-06T06:52:29.026273",
     "exception": false,
     "start_time": "2024-12-06T06:52:29.007661",
     "status": "completed"
    },
    "tags": []
   },
   "outputs": [
    {
     "data": {
      "text/html": [
       "<div>\n",
       "<style scoped>\n",
       "    .dataframe tbody tr th:only-of-type {\n",
       "        vertical-align: middle;\n",
       "    }\n",
       "\n",
       "    .dataframe tbody tr th {\n",
       "        vertical-align: top;\n",
       "    }\n",
       "\n",
       "    .dataframe thead th {\n",
       "        text-align: right;\n",
       "    }\n",
       "</style>\n",
       "<table border=\"1\" class=\"dataframe\">\n",
       "  <thead>\n",
       "    <tr style=\"text-align: right;\">\n",
       "      <th></th>\n",
       "      <th>Unnamed: 0</th>\n",
       "      <th>statement</th>\n",
       "      <th>status</th>\n",
       "    </tr>\n",
       "  </thead>\n",
       "  <tbody>\n",
       "    <tr>\n",
       "      <th>0</th>\n",
       "      <td>0</td>\n",
       "      <td>oh gosh</td>\n",
       "      <td>2</td>\n",
       "    </tr>\n",
       "    <tr>\n",
       "      <th>1</th>\n",
       "      <td>1</td>\n",
       "      <td>trouble sleep confused mind restless heart tune</td>\n",
       "      <td>2</td>\n",
       "    </tr>\n",
       "    <tr>\n",
       "      <th>2</th>\n",
       "      <td>2</td>\n",
       "      <td>wrong back dear forward doubt stay restless re...</td>\n",
       "      <td>2</td>\n",
       "    </tr>\n",
       "    <tr>\n",
       "      <th>3</th>\n",
       "      <td>3</td>\n",
       "      <td>shift focus something else still worry</td>\n",
       "      <td>2</td>\n",
       "    </tr>\n",
       "    <tr>\n",
       "      <th>4</th>\n",
       "      <td>4</td>\n",
       "      <td>restless restless month boy mean</td>\n",
       "      <td>2</td>\n",
       "    </tr>\n",
       "  </tbody>\n",
       "</table>\n",
       "</div>"
      ],
      "text/plain": [
       "   Unnamed: 0                                          statement  status\n",
       "0           0                                            oh gosh       2\n",
       "1           1    trouble sleep confused mind restless heart tune       2\n",
       "2           2  wrong back dear forward doubt stay restless re...       2\n",
       "3           3             shift focus something else still worry       2\n",
       "4           4                   restless restless month boy mean       2"
      ]
     },
     "execution_count": 4,
     "metadata": {},
     "output_type": "execute_result"
    }
   ],
   "source": [
    "df.head()"
   ]
  },
  {
   "cell_type": "markdown",
   "id": "ddb08aec",
   "metadata": {
    "papermill": {
     "duration": 0.004722,
     "end_time": "2024-12-06T06:52:29.036053",
     "exception": false,
     "start_time": "2024-12-06T06:52:29.031331",
     "status": "completed"
    },
    "tags": []
   },
   "source": [
    "### Resampling for more balance data"
   ]
  },
  {
   "cell_type": "code",
   "execution_count": 5,
   "id": "94750a72",
   "metadata": {
    "execution": {
     "iopub.execute_input": "2024-12-06T06:52:29.046297Z",
     "iopub.status.busy": "2024-12-06T06:52:29.045691Z",
     "iopub.status.idle": "2024-12-06T06:52:29.060663Z",
     "shell.execute_reply": "2024-12-06T06:52:29.060050Z"
    },
    "papermill": {
     "duration": 0.021794,
     "end_time": "2024-12-06T06:52:29.062221",
     "exception": false,
     "start_time": "2024-12-06T06:52:29.040427",
     "status": "completed"
    },
    "tags": []
   },
   "outputs": [],
   "source": [
    "from sklearn.utils import resample\n",
    "df_sample = df.sample(n=20000,random_state=2024)\n",
    "majority_size = len(df_sample[df_sample['status']==0])\n",
    "\n",
    "def resampling(df):\n",
    "  minority_resample = resample(df,replace=True, n_samples=majority_size,random_state=22)\n",
    "  return minority_resample"
   ]
  },
  {
   "cell_type": "code",
   "execution_count": 6,
   "id": "c4a138b3",
   "metadata": {
    "execution": {
     "iopub.execute_input": "2024-12-06T06:52:29.072133Z",
     "iopub.status.busy": "2024-12-06T06:52:29.071877Z",
     "iopub.status.idle": "2024-12-06T06:52:29.094613Z",
     "shell.execute_reply": "2024-12-06T06:52:29.093796Z"
    },
    "papermill": {
     "duration": 0.029703,
     "end_time": "2024-12-06T06:52:29.096330",
     "exception": false,
     "start_time": "2024-12-06T06:52:29.066627",
     "status": "completed"
    },
    "tags": []
   },
   "outputs": [
    {
     "data": {
      "text/plain": [
       "status\n",
       "0    7710\n",
       "1    7710\n",
       "2    7710\n",
       "3    7710\n",
       "4    7710\n",
       "5    7710\n",
       "Name: count, dtype: int64"
      ]
     },
     "execution_count": 6,
     "metadata": {},
     "output_type": "execute_result"
    }
   ],
   "source": [
    "df_sample_1 = resampling(df_sample[df_sample['status']==1])\n",
    "df_sample_2 = resampling(df_sample[df_sample['status']==2])\n",
    "df_sample_3 = resampling(df_sample[df_sample['status']==3])\n",
    "df_sample_4 = resampling(df_sample[df_sample['status']==4])\n",
    "df_sample_5 = resampling(df_sample[df_sample['status']==5])\n",
    "\n",
    "df_new =pd.concat([df_sample[df_sample['status']==0],df_sample_1,df_sample_2,df_sample_3,df_sample_4,df_sample_5], axis=0).reset_index(drop=True)\n",
    "df_new['status'].value_counts()"
   ]
  },
  {
   "cell_type": "code",
   "execution_count": 7,
   "id": "9b216005",
   "metadata": {
    "execution": {
     "iopub.execute_input": "2024-12-06T06:52:29.106499Z",
     "iopub.status.busy": "2024-12-06T06:52:29.106242Z",
     "iopub.status.idle": "2024-12-06T06:52:29.113886Z",
     "shell.execute_reply": "2024-12-06T06:52:29.113050Z"
    },
    "papermill": {
     "duration": 0.014794,
     "end_time": "2024-12-06T06:52:29.115806",
     "exception": false,
     "start_time": "2024-12-06T06:52:29.101012",
     "status": "completed"
    },
    "tags": []
   },
   "outputs": [
    {
     "data": {
      "text/html": [
       "<div>\n",
       "<style scoped>\n",
       "    .dataframe tbody tr th:only-of-type {\n",
       "        vertical-align: middle;\n",
       "    }\n",
       "\n",
       "    .dataframe tbody tr th {\n",
       "        vertical-align: top;\n",
       "    }\n",
       "\n",
       "    .dataframe thead th {\n",
       "        text-align: right;\n",
       "    }\n",
       "</style>\n",
       "<table border=\"1\" class=\"dataframe\">\n",
       "  <thead>\n",
       "    <tr style=\"text-align: right;\">\n",
       "      <th></th>\n",
       "      <th>Unnamed: 0</th>\n",
       "      <th>statement</th>\n",
       "      <th>status</th>\n",
       "    </tr>\n",
       "  </thead>\n",
       "  <tbody>\n",
       "    <tr>\n",
       "      <th>0</th>\n",
       "      <td>42422</td>\n",
       "      <td>real n twitter hate u</td>\n",
       "      <td>0</td>\n",
       "    </tr>\n",
       "    <tr>\n",
       "      <th>1</th>\n",
       "      <td>4204</td>\n",
       "      <td>two</td>\n",
       "      <td>0</td>\n",
       "    </tr>\n",
       "    <tr>\n",
       "      <th>2</th>\n",
       "      <td>2180</td>\n",
       "      <td>love matter far near determine mine love death...</td>\n",
       "      <td>0</td>\n",
       "    </tr>\n",
       "    <tr>\n",
       "      <th>3</th>\n",
       "      <td>6269</td>\n",
       "      <td>father s obligation feed clothe mother good way</td>\n",
       "      <td>0</td>\n",
       "    </tr>\n",
       "    <tr>\n",
       "      <th>4</th>\n",
       "      <td>5093</td>\n",
       "      <td>mutual let we</td>\n",
       "      <td>0</td>\n",
       "    </tr>\n",
       "  </tbody>\n",
       "</table>\n",
       "</div>"
      ],
      "text/plain": [
       "   Unnamed: 0                                          statement  status\n",
       "0       42422                              real n twitter hate u       0\n",
       "1        4204                                                two       0\n",
       "2        2180  love matter far near determine mine love death...       0\n",
       "3        6269    father s obligation feed clothe mother good way       0\n",
       "4        5093                                      mutual let we       0"
      ]
     },
     "execution_count": 7,
     "metadata": {},
     "output_type": "execute_result"
    }
   ],
   "source": [
    "df_new.head()"
   ]
  },
  {
   "cell_type": "code",
   "execution_count": null,
   "id": "e592582a",
   "metadata": {
    "papermill": {
     "duration": 0.004503,
     "end_time": "2024-12-06T06:52:29.125056",
     "exception": false,
     "start_time": "2024-12-06T06:52:29.120553",
     "status": "completed"
    },
    "tags": []
   },
   "outputs": [],
   "source": []
  },
  {
   "cell_type": "markdown",
   "id": "060adffe",
   "metadata": {
    "papermill": {
     "duration": 0.0045,
     "end_time": "2024-12-06T06:52:29.134159",
     "exception": false,
     "start_time": "2024-12-06T06:52:29.129659",
     "status": "completed"
    },
    "tags": []
   },
   "source": [
    "## Modelling"
   ]
  },
  {
   "cell_type": "code",
   "execution_count": 8,
   "id": "0a2bc75c",
   "metadata": {
    "execution": {
     "iopub.execute_input": "2024-12-06T06:52:29.144546Z",
     "iopub.status.busy": "2024-12-06T06:52:29.144105Z",
     "iopub.status.idle": "2024-12-06T06:52:31.513399Z",
     "shell.execute_reply": "2024-12-06T06:52:31.512349Z"
    },
    "papermill": {
     "duration": 2.376776,
     "end_time": "2024-12-06T06:52:31.515508",
     "exception": false,
     "start_time": "2024-12-06T06:52:29.138732",
     "status": "completed"
    },
    "tags": []
   },
   "outputs": [
    {
     "name": "stderr",
     "output_type": "stream",
     "text": [
      "/opt/conda/lib/python3.10/pty.py:89: RuntimeWarning: os.fork() was called. os.fork() is incompatible with multithreaded code, and JAX is multithreaded, so this will likely lead to a deadlock.\n",
      "  pid, fd = os.forkpty()\n"
     ]
    },
    {
     "name": "stdout",
     "output_type": "stream",
     "text": [
      "Requirement already satisfied: gensim in /opt/conda/lib/python3.10/site-packages (4.3.3)\r\n",
      "Note: you may need to restart the kernel to use updated packages.\n"
     ]
    }
   ],
   "source": [
    "pip install gensim --no-deps\n"
   ]
  },
  {
   "cell_type": "code",
   "execution_count": 9,
   "id": "6c06babc",
   "metadata": {
    "execution": {
     "iopub.execute_input": "2024-12-06T06:52:31.528065Z",
     "iopub.status.busy": "2024-12-06T06:52:31.527272Z",
     "iopub.status.idle": "2024-12-06T06:52:44.712424Z",
     "shell.execute_reply": "2024-12-06T06:52:44.711760Z"
    },
    "papermill": {
     "duration": 13.193694,
     "end_time": "2024-12-06T06:52:44.714500",
     "exception": false,
     "start_time": "2024-12-06T06:52:31.520806",
     "status": "completed"
    },
    "tags": []
   },
   "outputs": [],
   "source": [
    "from tensorflow.keras.preprocessing.text import Tokenizer\n",
    "from tensorflow.keras.preprocessing.sequence import pad_sequences\n",
    "import gensim.downloader as api\n",
    "import numpy as np\n",
    "from sklearn.model_selection import train_test_split\n",
    "from keras.models import Sequential\n",
    "from keras.layers import Embedding, Dropout, Dense\n",
    "from keras.layers import GRU\n",
    "from keras.callbacks import EarlyStopping, ModelCheckpoint\n",
    "\n"
   ]
  },
  {
   "cell_type": "markdown",
   "id": "1b80ae1b",
   "metadata": {
    "papermill": {
     "duration": 0.004862,
     "end_time": "2024-12-06T06:52:44.724710",
     "exception": false,
     "start_time": "2024-12-06T06:52:44.719848",
     "status": "completed"
    },
    "tags": []
   },
   "source": [
    "### Tokenization with keras"
   ]
  },
  {
   "cell_type": "code",
   "execution_count": 10,
   "id": "827e1777",
   "metadata": {
    "execution": {
     "iopub.execute_input": "2024-12-06T06:52:44.735964Z",
     "iopub.status.busy": "2024-12-06T06:52:44.735286Z",
     "iopub.status.idle": "2024-12-06T06:52:47.777743Z",
     "shell.execute_reply": "2024-12-06T06:52:47.776763Z"
    },
    "papermill": {
     "duration": 3.050307,
     "end_time": "2024-12-06T06:52:47.779846",
     "exception": false,
     "start_time": "2024-12-06T06:52:44.729539",
     "status": "completed"
    },
    "tags": []
   },
   "outputs": [],
   "source": [
    "# Configuration\n",
    "EMBEDDING_DIM = 100  # Dimension of word embeddings\n",
    "MAX_NUM_WORDS = 10000  # Maximum number of unique words\n",
    "MAX_SEQUENCE_LENGTH = 200  # Fixed sequence length for all input data\n",
    "\n",
    "\n",
    "\n",
    "# Tokenizer: Train and convert text to sequences\n",
    "tokenizer = Tokenizer(num_words=MAX_NUM_WORDS, lower=True)  # Limit vocabulary size and convert to lowercase\n",
    "tokenizer.fit_on_texts(df_new['statement'])  # Learn the vocabulary from the text data\n",
    "X = tokenizer.texts_to_sequences(df_new['statement'])  # Convert text to numerical sequences\n",
    "\n",
    "# Pad sequences to ensure uniform length\n",
    "X = pad_sequences(X, maxlen=MAX_SEQUENCE_LENGTH, padding='post')  # Add padding at the end of sequences\n"
   ]
  },
  {
   "cell_type": "code",
   "execution_count": 11,
   "id": "6ec7d71b",
   "metadata": {
    "execution": {
     "iopub.execute_input": "2024-12-06T06:52:47.791173Z",
     "iopub.status.busy": "2024-12-06T06:52:47.790879Z",
     "iopub.status.idle": "2024-12-06T06:52:47.803601Z",
     "shell.execute_reply": "2024-12-06T06:52:47.802808Z"
    },
    "papermill": {
     "duration": 0.019962,
     "end_time": "2024-12-06T06:52:47.805086",
     "exception": false,
     "start_time": "2024-12-06T06:52:47.785124",
     "status": "completed"
    },
    "tags": []
   },
   "outputs": [
    {
     "name": "stdout",
     "output_type": "stream",
     "text": [
      "Tokenizer has been saved to tokenizer.pkl\n"
     ]
    }
   ],
   "source": [
    "import pickle\n",
    "\n",
    "# Save the tokenizer to a .pkl file\n",
    "with open('tokenizer.pkl', 'wb') as file:\n",
    "    pickle.dump(tokenizer, file)\n",
    "print(\"Tokenizer has been saved to tokenizer.pkl\")\n"
   ]
  },
  {
   "cell_type": "code",
   "execution_count": 12,
   "id": "3783d87d",
   "metadata": {
    "execution": {
     "iopub.execute_input": "2024-12-06T06:52:47.815996Z",
     "iopub.status.busy": "2024-12-06T06:52:47.815731Z",
     "iopub.status.idle": "2024-12-06T06:52:47.824766Z",
     "shell.execute_reply": "2024-12-06T06:52:47.823892Z"
    },
    "papermill": {
     "duration": 0.016453,
     "end_time": "2024-12-06T06:52:47.826474",
     "exception": false,
     "start_time": "2024-12-06T06:52:47.810021",
     "status": "completed"
    },
    "tags": []
   },
   "outputs": [
    {
     "data": {
      "text/html": [
       "<div>\n",
       "<style scoped>\n",
       "    .dataframe tbody tr th:only-of-type {\n",
       "        vertical-align: middle;\n",
       "    }\n",
       "\n",
       "    .dataframe tbody tr th {\n",
       "        vertical-align: top;\n",
       "    }\n",
       "\n",
       "    .dataframe thead th {\n",
       "        text-align: right;\n",
       "    }\n",
       "</style>\n",
       "<table border=\"1\" class=\"dataframe\">\n",
       "  <thead>\n",
       "    <tr style=\"text-align: right;\">\n",
       "      <th></th>\n",
       "      <th>Unnamed: 0</th>\n",
       "      <th>statement</th>\n",
       "      <th>status</th>\n",
       "    </tr>\n",
       "  </thead>\n",
       "  <tbody>\n",
       "    <tr>\n",
       "      <th>0</th>\n",
       "      <td>42422</td>\n",
       "      <td>real n twitter hate u</td>\n",
       "      <td>0</td>\n",
       "    </tr>\n",
       "    <tr>\n",
       "      <th>1</th>\n",
       "      <td>4204</td>\n",
       "      <td>two</td>\n",
       "      <td>0</td>\n",
       "    </tr>\n",
       "    <tr>\n",
       "      <th>2</th>\n",
       "      <td>2180</td>\n",
       "      <td>love matter far near determine mine love death...</td>\n",
       "      <td>0</td>\n",
       "    </tr>\n",
       "    <tr>\n",
       "      <th>3</th>\n",
       "      <td>6269</td>\n",
       "      <td>father s obligation feed clothe mother good way</td>\n",
       "      <td>0</td>\n",
       "    </tr>\n",
       "    <tr>\n",
       "      <th>4</th>\n",
       "      <td>5093</td>\n",
       "      <td>mutual let we</td>\n",
       "      <td>0</td>\n",
       "    </tr>\n",
       "    <tr>\n",
       "      <th>5</th>\n",
       "      <td>5456</td>\n",
       "      <td>come want check k file turn u</td>\n",
       "      <td>0</td>\n",
       "    </tr>\n",
       "    <tr>\n",
       "      <th>6</th>\n",
       "      <td>4154</td>\n",
       "      <td>al ham h oh god touch</td>\n",
       "      <td>0</td>\n",
       "    </tr>\n",
       "    <tr>\n",
       "      <th>7</th>\n",
       "      <td>33037</td>\n",
       "      <td>yes land reporter army band</td>\n",
       "      <td>0</td>\n",
       "    </tr>\n",
       "    <tr>\n",
       "      <th>8</th>\n",
       "      <td>42350</td>\n",
       "      <td>earthquake ha make sad saw pic news terrible</td>\n",
       "      <td>0</td>\n",
       "    </tr>\n",
       "    <tr>\n",
       "      <th>9</th>\n",
       "      <td>42535</td>\n",
       "      <td>yeah application run every minute add conflict ti</td>\n",
       "      <td>0</td>\n",
       "    </tr>\n",
       "    <tr>\n",
       "      <th>10</th>\n",
       "      <td>33241</td>\n",
       "      <td>get free food</td>\n",
       "      <td>0</td>\n",
       "    </tr>\n",
       "    <tr>\n",
       "      <th>11</th>\n",
       "      <td>42385</td>\n",
       "      <td>er sorry hear dog</td>\n",
       "      <td>0</td>\n",
       "    </tr>\n",
       "    <tr>\n",
       "      <th>12</th>\n",
       "      <td>5345</td>\n",
       "      <td>bus set lot bat</td>\n",
       "      <td>0</td>\n",
       "    </tr>\n",
       "    <tr>\n",
       "      <th>13</th>\n",
       "      <td>44088</td>\n",
       "      <td>kind sad find</td>\n",
       "      <td>0</td>\n",
       "    </tr>\n",
       "    <tr>\n",
       "      <th>14</th>\n",
       "      <td>4044</td>\n",
       "      <td>keep think positive even though positive think</td>\n",
       "      <td>0</td>\n",
       "    </tr>\n",
       "    <tr>\n",
       "      <th>15</th>\n",
       "      <td>41845</td>\n",
       "      <td>wish tag tag thing nonsense tire</td>\n",
       "      <td>0</td>\n",
       "    </tr>\n",
       "    <tr>\n",
       "      <th>16</th>\n",
       "      <td>4477</td>\n",
       "      <td>ho date</td>\n",
       "      <td>0</td>\n",
       "    </tr>\n",
       "    <tr>\n",
       "      <th>17</th>\n",
       "      <td>37332</td>\n",
       "      <td>weird pizza place stand room around dinner ti ...</td>\n",
       "      <td>0</td>\n",
       "    </tr>\n",
       "    <tr>\n",
       "      <th>18</th>\n",
       "      <td>37021</td>\n",
       "      <td>love cap jo ross happy birthday live sh</td>\n",
       "      <td>0</td>\n",
       "    </tr>\n",
       "    <tr>\n",
       "      <th>19</th>\n",
       "      <td>6327</td>\n",
       "      <td>file file control</td>\n",
       "      <td>0</td>\n",
       "    </tr>\n",
       "  </tbody>\n",
       "</table>\n",
       "</div>"
      ],
      "text/plain": [
       "    Unnamed: 0                                          statement  status\n",
       "0        42422                              real n twitter hate u       0\n",
       "1         4204                                                two       0\n",
       "2         2180  love matter far near determine mine love death...       0\n",
       "3         6269    father s obligation feed clothe mother good way       0\n",
       "4         5093                                      mutual let we       0\n",
       "5         5456                      come want check k file turn u       0\n",
       "6         4154                              al ham h oh god touch       0\n",
       "7        33037                        yes land reporter army band       0\n",
       "8        42350       earthquake ha make sad saw pic news terrible       0\n",
       "9        42535  yeah application run every minute add conflict ti       0\n",
       "10       33241                                      get free food       0\n",
       "11       42385                                  er sorry hear dog       0\n",
       "12        5345                                    bus set lot bat       0\n",
       "13       44088                                      kind sad find       0\n",
       "14        4044     keep think positive even though positive think       0\n",
       "15       41845                   wish tag tag thing nonsense tire       0\n",
       "16        4477                                            ho date       0\n",
       "17       37332  weird pizza place stand room around dinner ti ...       0\n",
       "18       37021            love cap jo ross happy birthday live sh       0\n",
       "19        6327                                  file file control       0"
      ]
     },
     "execution_count": 12,
     "metadata": {},
     "output_type": "execute_result"
    }
   ],
   "source": [
    "df_new.head(20)"
   ]
  },
  {
   "cell_type": "markdown",
   "id": "32cc8b7a",
   "metadata": {
    "papermill": {
     "duration": 0.005004,
     "end_time": "2024-12-06T06:52:47.836458",
     "exception": false,
     "start_time": "2024-12-06T06:52:47.831454",
     "status": "completed"
    },
    "tags": []
   },
   "source": [
    "### Convert label to one-hot encoding"
   ]
  },
  {
   "cell_type": "code",
   "execution_count": 13,
   "id": "c7a82879",
   "metadata": {
    "execution": {
     "iopub.execute_input": "2024-12-06T06:52:47.848130Z",
     "iopub.status.busy": "2024-12-06T06:52:47.847858Z",
     "iopub.status.idle": "2024-12-06T06:52:47.873957Z",
     "shell.execute_reply": "2024-12-06T06:52:47.872989Z"
    },
    "papermill": {
     "duration": 0.034308,
     "end_time": "2024-12-06T06:52:47.875954",
     "exception": false,
     "start_time": "2024-12-06T06:52:47.841646",
     "status": "completed"
    },
    "tags": []
   },
   "outputs": [],
   "source": [
    "# Convert labels to one-hot encoding\n",
    "y = pd.get_dummies(df_new['status']).values  # Transform class labels into a binary matrix\n",
    "\n",
    "# Split data into training and testing sets\n",
    "X_train, X_test, y_train, y_test = train_test_split(X, y, test_size=0.3, random_state=42)\n",
    "# `test_size=0.3` allocates 30% of the data for testing, 70% for training\n",
    "# `random_state=42` ensures reproducibility of the split\n",
    "\n"
   ]
  },
  {
   "cell_type": "markdown",
   "id": "5d3d5869",
   "metadata": {
    "papermill": {
     "duration": 0.00502,
     "end_time": "2024-12-06T06:52:47.886340",
     "exception": false,
     "start_time": "2024-12-06T06:52:47.881320",
     "status": "completed"
    },
    "tags": []
   },
   "source": [
    "### Word Embedding"
   ]
  },
  {
   "cell_type": "code",
   "execution_count": 14,
   "id": "7dc6100c",
   "metadata": {
    "execution": {
     "iopub.execute_input": "2024-12-06T06:52:47.897631Z",
     "iopub.status.busy": "2024-12-06T06:52:47.897290Z",
     "iopub.status.idle": "2024-12-06T06:53:31.047977Z",
     "shell.execute_reply": "2024-12-06T06:53:31.047014Z"
    },
    "papermill": {
     "duration": 43.158838,
     "end_time": "2024-12-06T06:53:31.050199",
     "exception": false,
     "start_time": "2024-12-06T06:52:47.891361",
     "status": "completed"
    },
    "tags": []
   },
   "outputs": [
    {
     "name": "stdout",
     "output_type": "stream",
     "text": [
      "[==================================================] 100.0% 128.1/128.1MB downloaded\n"
     ]
    }
   ],
   "source": [
    "# Download and load pre-trained GloVe embeddings (100 dimensions)\n",
    "glove_gensim = api.load('glove-wiki-gigaword-100')\n",
    "\n",
    "# Create a weight matrix for the embedding layer\n",
    "gensim_weight_matrix = np.zeros((MAX_NUM_WORDS, EMBEDDING_DIM))  # Initialize with zeros\n",
    "\n",
    "# Populate the weight matrix with GloVe vectors for words in the tokenizer's vocabulary\n",
    "for word, index in tokenizer.word_index.items():\n",
    "    if index < MAX_NUM_WORDS:  # Ensure the index is within the specified maximum word limit\n",
    "        if word in glove_gensim.index_to_key:  # Check if the word exists in the GloVe vocabulary\n",
    "            gensim_weight_matrix[index] = glove_gensim[word]  # Assign the GloVe vector\n",
    "        else:\n",
    "            gensim_weight_matrix[index] = np.zeros(EMBEDDING_DIM)  # Assign a zero vector if the word is not found\n"
   ]
  },
  {
   "cell_type": "markdown",
   "id": "89f93fd5",
   "metadata": {
    "papermill": {
     "duration": 0.79298,
     "end_time": "2024-12-06T06:53:32.617590",
     "exception": false,
     "start_time": "2024-12-06T06:53:31.824610",
     "status": "completed"
    },
    "tags": []
   },
   "source": [
    "### Build the Model"
   ]
  },
  {
   "cell_type": "code",
   "execution_count": 15,
   "id": "79820f3d",
   "metadata": {
    "execution": {
     "iopub.execute_input": "2024-12-06T06:53:34.103794Z",
     "iopub.status.busy": "2024-12-06T06:53:34.103293Z",
     "iopub.status.idle": "2024-12-06T06:53:35.586869Z",
     "shell.execute_reply": "2024-12-06T06:53:35.586028Z"
    },
    "papermill": {
     "duration": 2.202792,
     "end_time": "2024-12-06T06:53:35.588385",
     "exception": false,
     "start_time": "2024-12-06T06:53:33.385593",
     "status": "completed"
    },
    "tags": []
   },
   "outputs": [
    {
     "data": {
      "text/html": [
       "<pre style=\"white-space:pre;overflow-x:auto;line-height:normal;font-family:Menlo,'DejaVu Sans Mono',consolas,'Courier New',monospace\"><span style=\"font-weight: bold\">Model: \"sequential\"</span>\n",
       "</pre>\n"
      ],
      "text/plain": [
       "\u001b[1mModel: \"sequential\"\u001b[0m\n"
      ]
     },
     "metadata": {},
     "output_type": "display_data"
    },
    {
     "data": {
      "text/html": [
       "<pre style=\"white-space:pre;overflow-x:auto;line-height:normal;font-family:Menlo,'DejaVu Sans Mono',consolas,'Courier New',monospace\">┏━━━━━━━━━━━━━━━━━━━━━━━━━━━━━━━━━┳━━━━━━━━━━━━━━━━━━━━━━━━┳━━━━━━━━━━━━━━━┓\n",
       "┃<span style=\"font-weight: bold\"> Layer (type)                    </span>┃<span style=\"font-weight: bold\"> Output Shape           </span>┃<span style=\"font-weight: bold\">       Param # </span>┃\n",
       "┡━━━━━━━━━━━━━━━━━━━━━━━━━━━━━━━━━╇━━━━━━━━━━━━━━━━━━━━━━━━╇━━━━━━━━━━━━━━━┩\n",
       "│ embedding (<span style=\"color: #0087ff; text-decoration-color: #0087ff\">Embedding</span>)           │ (<span style=\"color: #00d7ff; text-decoration-color: #00d7ff\">None</span>, <span style=\"color: #00af00; text-decoration-color: #00af00\">200</span>, <span style=\"color: #00af00; text-decoration-color: #00af00\">100</span>)       │     <span style=\"color: #00af00; text-decoration-color: #00af00\">1,000,000</span> │\n",
       "├─────────────────────────────────┼────────────────────────┼───────────────┤\n",
       "│ bidirectional (<span style=\"color: #0087ff; text-decoration-color: #0087ff\">Bidirectional</span>)   │ (<span style=\"color: #00d7ff; text-decoration-color: #00d7ff\">None</span>, <span style=\"color: #00af00; text-decoration-color: #00af00\">200</span>, <span style=\"color: #00af00; text-decoration-color: #00af00\">200</span>)       │       <span style=\"color: #00af00; text-decoration-color: #00af00\">121,200</span> │\n",
       "├─────────────────────────────────┼────────────────────────┼───────────────┤\n",
       "│ dropout (<span style=\"color: #0087ff; text-decoration-color: #0087ff\">Dropout</span>)               │ (<span style=\"color: #00d7ff; text-decoration-color: #00d7ff\">None</span>, <span style=\"color: #00af00; text-decoration-color: #00af00\">200</span>, <span style=\"color: #00af00; text-decoration-color: #00af00\">200</span>)       │             <span style=\"color: #00af00; text-decoration-color: #00af00\">0</span> │\n",
       "├─────────────────────────────────┼────────────────────────┼───────────────┤\n",
       "│ bidirectional_1 (<span style=\"color: #0087ff; text-decoration-color: #0087ff\">Bidirectional</span>) │ (<span style=\"color: #00d7ff; text-decoration-color: #00d7ff\">None</span>, <span style=\"color: #00af00; text-decoration-color: #00af00\">200</span>, <span style=\"color: #00af00; text-decoration-color: #00af00\">200</span>)       │       <span style=\"color: #00af00; text-decoration-color: #00af00\">181,200</span> │\n",
       "├─────────────────────────────────┼────────────────────────┼───────────────┤\n",
       "│ dropout_1 (<span style=\"color: #0087ff; text-decoration-color: #0087ff\">Dropout</span>)             │ (<span style=\"color: #00d7ff; text-decoration-color: #00d7ff\">None</span>, <span style=\"color: #00af00; text-decoration-color: #00af00\">200</span>, <span style=\"color: #00af00; text-decoration-color: #00af00\">200</span>)       │             <span style=\"color: #00af00; text-decoration-color: #00af00\">0</span> │\n",
       "├─────────────────────────────────┼────────────────────────┼───────────────┤\n",
       "│ bidirectional_2 (<span style=\"color: #0087ff; text-decoration-color: #0087ff\">Bidirectional</span>) │ (<span style=\"color: #00d7ff; text-decoration-color: #00d7ff\">None</span>, <span style=\"color: #00af00; text-decoration-color: #00af00\">200</span>, <span style=\"color: #00af00; text-decoration-color: #00af00\">200</span>)       │       <span style=\"color: #00af00; text-decoration-color: #00af00\">181,200</span> │\n",
       "├─────────────────────────────────┼────────────────────────┼───────────────┤\n",
       "│ dropout_2 (<span style=\"color: #0087ff; text-decoration-color: #0087ff\">Dropout</span>)             │ (<span style=\"color: #00d7ff; text-decoration-color: #00d7ff\">None</span>, <span style=\"color: #00af00; text-decoration-color: #00af00\">200</span>, <span style=\"color: #00af00; text-decoration-color: #00af00\">200</span>)       │             <span style=\"color: #00af00; text-decoration-color: #00af00\">0</span> │\n",
       "├─────────────────────────────────┼────────────────────────┼───────────────┤\n",
       "│ bidirectional_3 (<span style=\"color: #0087ff; text-decoration-color: #0087ff\">Bidirectional</span>) │ (<span style=\"color: #00d7ff; text-decoration-color: #00d7ff\">None</span>, <span style=\"color: #00af00; text-decoration-color: #00af00\">200</span>)            │       <span style=\"color: #00af00; text-decoration-color: #00af00\">181,200</span> │\n",
       "├─────────────────────────────────┼────────────────────────┼───────────────┤\n",
       "│ dropout_3 (<span style=\"color: #0087ff; text-decoration-color: #0087ff\">Dropout</span>)             │ (<span style=\"color: #00d7ff; text-decoration-color: #00d7ff\">None</span>, <span style=\"color: #00af00; text-decoration-color: #00af00\">200</span>)            │             <span style=\"color: #00af00; text-decoration-color: #00af00\">0</span> │\n",
       "├─────────────────────────────────┼────────────────────────┼───────────────┤\n",
       "│ dense (<span style=\"color: #0087ff; text-decoration-color: #0087ff\">Dense</span>)                   │ (<span style=\"color: #00d7ff; text-decoration-color: #00d7ff\">None</span>, <span style=\"color: #00af00; text-decoration-color: #00af00\">64</span>)             │        <span style=\"color: #00af00; text-decoration-color: #00af00\">12,864</span> │\n",
       "├─────────────────────────────────┼────────────────────────┼───────────────┤\n",
       "│ dropout_4 (<span style=\"color: #0087ff; text-decoration-color: #0087ff\">Dropout</span>)             │ (<span style=\"color: #00d7ff; text-decoration-color: #00d7ff\">None</span>, <span style=\"color: #00af00; text-decoration-color: #00af00\">64</span>)             │             <span style=\"color: #00af00; text-decoration-color: #00af00\">0</span> │\n",
       "├─────────────────────────────────┼────────────────────────┼───────────────┤\n",
       "│ dense_1 (<span style=\"color: #0087ff; text-decoration-color: #0087ff\">Dense</span>)                 │ (<span style=\"color: #00d7ff; text-decoration-color: #00d7ff\">None</span>, <span style=\"color: #00af00; text-decoration-color: #00af00\">6</span>)              │           <span style=\"color: #00af00; text-decoration-color: #00af00\">390</span> │\n",
       "└─────────────────────────────────┴────────────────────────┴───────────────┘\n",
       "</pre>\n"
      ],
      "text/plain": [
       "┏━━━━━━━━━━━━━━━━━━━━━━━━━━━━━━━━━┳━━━━━━━━━━━━━━━━━━━━━━━━┳━━━━━━━━━━━━━━━┓\n",
       "┃\u001b[1m \u001b[0m\u001b[1mLayer (type)                   \u001b[0m\u001b[1m \u001b[0m┃\u001b[1m \u001b[0m\u001b[1mOutput Shape          \u001b[0m\u001b[1m \u001b[0m┃\u001b[1m \u001b[0m\u001b[1m      Param #\u001b[0m\u001b[1m \u001b[0m┃\n",
       "┡━━━━━━━━━━━━━━━━━━━━━━━━━━━━━━━━━╇━━━━━━━━━━━━━━━━━━━━━━━━╇━━━━━━━━━━━━━━━┩\n",
       "│ embedding (\u001b[38;5;33mEmbedding\u001b[0m)           │ (\u001b[38;5;45mNone\u001b[0m, \u001b[38;5;34m200\u001b[0m, \u001b[38;5;34m100\u001b[0m)       │     \u001b[38;5;34m1,000,000\u001b[0m │\n",
       "├─────────────────────────────────┼────────────────────────┼───────────────┤\n",
       "│ bidirectional (\u001b[38;5;33mBidirectional\u001b[0m)   │ (\u001b[38;5;45mNone\u001b[0m, \u001b[38;5;34m200\u001b[0m, \u001b[38;5;34m200\u001b[0m)       │       \u001b[38;5;34m121,200\u001b[0m │\n",
       "├─────────────────────────────────┼────────────────────────┼───────────────┤\n",
       "│ dropout (\u001b[38;5;33mDropout\u001b[0m)               │ (\u001b[38;5;45mNone\u001b[0m, \u001b[38;5;34m200\u001b[0m, \u001b[38;5;34m200\u001b[0m)       │             \u001b[38;5;34m0\u001b[0m │\n",
       "├─────────────────────────────────┼────────────────────────┼───────────────┤\n",
       "│ bidirectional_1 (\u001b[38;5;33mBidirectional\u001b[0m) │ (\u001b[38;5;45mNone\u001b[0m, \u001b[38;5;34m200\u001b[0m, \u001b[38;5;34m200\u001b[0m)       │       \u001b[38;5;34m181,200\u001b[0m │\n",
       "├─────────────────────────────────┼────────────────────────┼───────────────┤\n",
       "│ dropout_1 (\u001b[38;5;33mDropout\u001b[0m)             │ (\u001b[38;5;45mNone\u001b[0m, \u001b[38;5;34m200\u001b[0m, \u001b[38;5;34m200\u001b[0m)       │             \u001b[38;5;34m0\u001b[0m │\n",
       "├─────────────────────────────────┼────────────────────────┼───────────────┤\n",
       "│ bidirectional_2 (\u001b[38;5;33mBidirectional\u001b[0m) │ (\u001b[38;5;45mNone\u001b[0m, \u001b[38;5;34m200\u001b[0m, \u001b[38;5;34m200\u001b[0m)       │       \u001b[38;5;34m181,200\u001b[0m │\n",
       "├─────────────────────────────────┼────────────────────────┼───────────────┤\n",
       "│ dropout_2 (\u001b[38;5;33mDropout\u001b[0m)             │ (\u001b[38;5;45mNone\u001b[0m, \u001b[38;5;34m200\u001b[0m, \u001b[38;5;34m200\u001b[0m)       │             \u001b[38;5;34m0\u001b[0m │\n",
       "├─────────────────────────────────┼────────────────────────┼───────────────┤\n",
       "│ bidirectional_3 (\u001b[38;5;33mBidirectional\u001b[0m) │ (\u001b[38;5;45mNone\u001b[0m, \u001b[38;5;34m200\u001b[0m)            │       \u001b[38;5;34m181,200\u001b[0m │\n",
       "├─────────────────────────────────┼────────────────────────┼───────────────┤\n",
       "│ dropout_3 (\u001b[38;5;33mDropout\u001b[0m)             │ (\u001b[38;5;45mNone\u001b[0m, \u001b[38;5;34m200\u001b[0m)            │             \u001b[38;5;34m0\u001b[0m │\n",
       "├─────────────────────────────────┼────────────────────────┼───────────────┤\n",
       "│ dense (\u001b[38;5;33mDense\u001b[0m)                   │ (\u001b[38;5;45mNone\u001b[0m, \u001b[38;5;34m64\u001b[0m)             │        \u001b[38;5;34m12,864\u001b[0m │\n",
       "├─────────────────────────────────┼────────────────────────┼───────────────┤\n",
       "│ dropout_4 (\u001b[38;5;33mDropout\u001b[0m)             │ (\u001b[38;5;45mNone\u001b[0m, \u001b[38;5;34m64\u001b[0m)             │             \u001b[38;5;34m0\u001b[0m │\n",
       "├─────────────────────────────────┼────────────────────────┼───────────────┤\n",
       "│ dense_1 (\u001b[38;5;33mDense\u001b[0m)                 │ (\u001b[38;5;45mNone\u001b[0m, \u001b[38;5;34m6\u001b[0m)              │           \u001b[38;5;34m390\u001b[0m │\n",
       "└─────────────────────────────────┴────────────────────────┴───────────────┘\n"
      ]
     },
     "metadata": {},
     "output_type": "display_data"
    },
    {
     "data": {
      "text/html": [
       "<pre style=\"white-space:pre;overflow-x:auto;line-height:normal;font-family:Menlo,'DejaVu Sans Mono',consolas,'Courier New',monospace\"><span style=\"font-weight: bold\"> Total params: </span><span style=\"color: #00af00; text-decoration-color: #00af00\">1,678,054</span> (6.40 MB)\n",
       "</pre>\n"
      ],
      "text/plain": [
       "\u001b[1m Total params: \u001b[0m\u001b[38;5;34m1,678,054\u001b[0m (6.40 MB)\n"
      ]
     },
     "metadata": {},
     "output_type": "display_data"
    },
    {
     "data": {
      "text/html": [
       "<pre style=\"white-space:pre;overflow-x:auto;line-height:normal;font-family:Menlo,'DejaVu Sans Mono',consolas,'Courier New',monospace\"><span style=\"font-weight: bold\"> Trainable params: </span><span style=\"color: #00af00; text-decoration-color: #00af00\">678,054</span> (2.59 MB)\n",
       "</pre>\n"
      ],
      "text/plain": [
       "\u001b[1m Trainable params: \u001b[0m\u001b[38;5;34m678,054\u001b[0m (2.59 MB)\n"
      ]
     },
     "metadata": {},
     "output_type": "display_data"
    },
    {
     "data": {
      "text/html": [
       "<pre style=\"white-space:pre;overflow-x:auto;line-height:normal;font-family:Menlo,'DejaVu Sans Mono',consolas,'Courier New',monospace\"><span style=\"font-weight: bold\"> Non-trainable params: </span><span style=\"color: #00af00; text-decoration-color: #00af00\">1,000,000</span> (3.81 MB)\n",
       "</pre>\n"
      ],
      "text/plain": [
       "\u001b[1m Non-trainable params: \u001b[0m\u001b[38;5;34m1,000,000\u001b[0m (3.81 MB)\n"
      ]
     },
     "metadata": {},
     "output_type": "display_data"
    }
   ],
   "source": [
    "from tensorflow.keras.models import Sequential\n",
    "from tensorflow.keras.layers import Embedding, GRU, Dense, Dropout, Input, Bidirectional\n",
    "\n",
    "# Build the model\n",
    "model = Sequential()\n",
    "\n",
    "# Add Input layer\n",
    "model.add(Input(shape=(X.shape[1],)))  # Sequence length: 200\n",
    "\n",
    "# Embedding Layer\n",
    "model.add(Embedding(input_dim=MAX_NUM_WORDS,       # Number of words in the tokenizer\n",
    "                    output_dim=EMBEDDING_DIM,     # Embedding dimensions (e.g., 100)\n",
    "                    weights=[gensim_weight_matrix],  # Pre-trained GloVe embedding matrix\n",
    "                    trainable=False))             # Fine-tuning allowed (weights can be updated)\n",
    "\n",
    "# Bidirectional GRU Layer 1\n",
    "model.add(Bidirectional(GRU(100, return_sequences=True)))  # First Bidirectional GRU layer\n",
    "model.add(Dropout(0.2))  # Dropout to prevent overfitting\n",
    "\n",
    "# Bidirectional GRU Layer 2\n",
    "model.add(Bidirectional(GRU(100, return_sequences=True))) \n",
    "model.add(Dropout(0.2))  \n",
    "\n",
    "# Bidirectional GRU Layer 3\n",
    "model.add(Bidirectional(GRU(100, return_sequences=True)))  \n",
    "model.add(Dropout(0.2))  \n",
    "\n",
    "# Bidirectional GRU Layer 4\n",
    "model.add(Bidirectional(GRU(100, return_sequences=False)))  # Fourth Bidirectional GRU layer, not returning sequences\n",
    "model.add(Dropout(0.2))  #\n",
    "\n",
    "# Fully Connected Output Layer\n",
    "model.add(Dense(64, activation='relu'))  \n",
    "model.add(Dropout(0.2))  # Dropout to prevent overfitting\n",
    "\n",
    "# Output Layer\n",
    "model.add(Dense(y.shape[1], activation='softmax'))  # Output layer with softmax activation for multi-class classification\n",
    "\n",
    "# Compile the model\n",
    "model.compile(loss='categorical_crossentropy', optimizer='adam', metrics=['accuracy'])\n",
    "\n",
    "# Display model summary\n",
    "model.summary()\n"
   ]
  },
  {
   "cell_type": "code",
   "execution_count": 16,
   "id": "8c04e4f9",
   "metadata": {
    "execution": {
     "iopub.execute_input": "2024-12-06T06:53:37.136539Z",
     "iopub.status.busy": "2024-12-06T06:53:37.135628Z",
     "iopub.status.idle": "2024-12-06T07:08:54.458285Z",
     "shell.execute_reply": "2024-12-06T07:08:54.457307Z"
    },
    "papermill": {
     "duration": 918.100352,
     "end_time": "2024-12-06T07:08:54.460061",
     "exception": false,
     "start_time": "2024-12-06T06:53:36.359709",
     "status": "completed"
    },
    "tags": []
   },
   "outputs": [
    {
     "name": "stdout",
     "output_type": "stream",
     "text": [
      "Epoch 1/50\n",
      "\u001b[1m506/506\u001b[0m \u001b[32m━━━━━━━━━━━━━━━━━━━━\u001b[0m\u001b[37m\u001b[0m \u001b[1m0s\u001b[0m 72ms/step - accuracy: 0.5195 - loss: 1.2242\n",
      "Epoch 1: val_accuracy improved from -inf to 0.75414, saving model to best_model.weights.h5\n",
      "\u001b[1m506/506\u001b[0m \u001b[32m━━━━━━━━━━━━━━━━━━━━\u001b[0m\u001b[37m\u001b[0m \u001b[1m50s\u001b[0m 84ms/step - accuracy: 0.5197 - loss: 1.2237 - val_accuracy: 0.7541 - val_loss: 0.7241\n",
      "Epoch 2/50\n",
      "\u001b[1m506/506\u001b[0m \u001b[32m━━━━━━━━━━━━━━━━━━━━\u001b[0m\u001b[37m\u001b[0m \u001b[1m0s\u001b[0m 73ms/step - accuracy: 0.7840 - loss: 0.6544\n",
      "Epoch 2: val_accuracy improved from 0.75414 to 0.80869, saving model to best_model.weights.h5\n",
      "\u001b[1m506/506\u001b[0m \u001b[32m━━━━━━━━━━━━━━━━━━━━\u001b[0m\u001b[37m\u001b[0m \u001b[1m43s\u001b[0m 85ms/step - accuracy: 0.7841 - loss: 0.6543 - val_accuracy: 0.8087 - val_loss: 0.5686\n",
      "Epoch 3/50\n",
      "\u001b[1m506/506\u001b[0m \u001b[32m━━━━━━━━━━━━━━━━━━━━\u001b[0m\u001b[37m\u001b[0m \u001b[1m0s\u001b[0m 75ms/step - accuracy: 0.8584 - loss: 0.4330\n",
      "Epoch 3: val_accuracy improved from 0.80869 to 0.89083, saving model to best_model.weights.h5\n",
      "\u001b[1m506/506\u001b[0m \u001b[32m━━━━━━━━━━━━━━━━━━━━\u001b[0m\u001b[37m\u001b[0m \u001b[1m44s\u001b[0m 86ms/step - accuracy: 0.8584 - loss: 0.4330 - val_accuracy: 0.8908 - val_loss: 0.3353\n",
      "Epoch 4/50\n",
      "\u001b[1m506/506\u001b[0m \u001b[32m━━━━━━━━━━━━━━━━━━━━\u001b[0m\u001b[37m\u001b[0m \u001b[1m0s\u001b[0m 74ms/step - accuracy: 0.9047 - loss: 0.3107\n",
      "Epoch 4: val_accuracy improved from 0.89083 to 0.90676, saving model to best_model.weights.h5\n",
      "\u001b[1m506/506\u001b[0m \u001b[32m━━━━━━━━━━━━━━━━━━━━\u001b[0m\u001b[37m\u001b[0m \u001b[1m43s\u001b[0m 86ms/step - accuracy: 0.9047 - loss: 0.3106 - val_accuracy: 0.9068 - val_loss: 0.2917\n",
      "Epoch 5/50\n",
      "\u001b[1m506/506\u001b[0m \u001b[32m━━━━━━━━━━━━━━━━━━━━\u001b[0m\u001b[37m\u001b[0m \u001b[1m0s\u001b[0m 74ms/step - accuracy: 0.9283 - loss: 0.2337\n",
      "Epoch 5: val_accuracy improved from 0.90676 to 0.93003, saving model to best_model.weights.h5\n",
      "\u001b[1m506/506\u001b[0m \u001b[32m━━━━━━━━━━━━━━━━━━━━\u001b[0m\u001b[37m\u001b[0m \u001b[1m43s\u001b[0m 86ms/step - accuracy: 0.9283 - loss: 0.2337 - val_accuracy: 0.9300 - val_loss: 0.2269\n",
      "Epoch 6/50\n",
      "\u001b[1m506/506\u001b[0m \u001b[32m━━━━━━━━━━━━━━━━━━━━\u001b[0m\u001b[37m\u001b[0m \u001b[1m0s\u001b[0m 74ms/step - accuracy: 0.9501 - loss: 0.1695\n",
      "Epoch 6: val_accuracy improved from 0.93003 to 0.94156, saving model to best_model.weights.h5\n",
      "\u001b[1m506/506\u001b[0m \u001b[32m━━━━━━━━━━━━━━━━━━━━\u001b[0m\u001b[37m\u001b[0m \u001b[1m43s\u001b[0m 86ms/step - accuracy: 0.9501 - loss: 0.1695 - val_accuracy: 0.9416 - val_loss: 0.2116\n",
      "Epoch 7/50\n",
      "\u001b[1m506/506\u001b[0m \u001b[32m━━━━━━━━━━━━━━━━━━━━\u001b[0m\u001b[37m\u001b[0m \u001b[1m0s\u001b[0m 74ms/step - accuracy: 0.9600 - loss: 0.1332\n",
      "Epoch 7: val_accuracy improved from 0.94156 to 0.94884, saving model to best_model.weights.h5\n",
      "\u001b[1m506/506\u001b[0m \u001b[32m━━━━━━━━━━━━━━━━━━━━\u001b[0m\u001b[37m\u001b[0m \u001b[1m43s\u001b[0m 86ms/step - accuracy: 0.9600 - loss: 0.1332 - val_accuracy: 0.9488 - val_loss: 0.1893\n",
      "Epoch 8/50\n",
      "\u001b[1m506/506\u001b[0m \u001b[32m━━━━━━━━━━━━━━━━━━━━\u001b[0m\u001b[37m\u001b[0m \u001b[1m0s\u001b[0m 74ms/step - accuracy: 0.9629 - loss: 0.1209\n",
      "Epoch 8: val_accuracy improved from 0.94884 to 0.95360, saving model to best_model.weights.h5\n",
      "\u001b[1m506/506\u001b[0m \u001b[32m━━━━━━━━━━━━━━━━━━━━\u001b[0m\u001b[37m\u001b[0m \u001b[1m43s\u001b[0m 86ms/step - accuracy: 0.9629 - loss: 0.1209 - val_accuracy: 0.9536 - val_loss: 0.1795\n",
      "Epoch 9/50\n",
      "\u001b[1m506/506\u001b[0m \u001b[32m━━━━━━━━━━━━━━━━━━━━\u001b[0m\u001b[37m\u001b[0m \u001b[1m0s\u001b[0m 74ms/step - accuracy: 0.9746 - loss: 0.0853\n",
      "Epoch 9: val_accuracy did not improve from 0.95360\n",
      "\u001b[1m506/506\u001b[0m \u001b[32m━━━━━━━━━━━━━━━━━━━━\u001b[0m\u001b[37m\u001b[0m \u001b[1m43s\u001b[0m 85ms/step - accuracy: 0.9746 - loss: 0.0853 - val_accuracy: 0.9513 - val_loss: 0.2082\n",
      "Epoch 10/50\n",
      "\u001b[1m506/506\u001b[0m \u001b[32m━━━━━━━━━━━━━━━━━━━━\u001b[0m\u001b[37m\u001b[0m \u001b[1m0s\u001b[0m 74ms/step - accuracy: 0.9740 - loss: 0.0863\n",
      "Epoch 10: val_accuracy improved from 0.95360 to 0.95540, saving model to best_model.weights.h5\n",
      "\u001b[1m506/506\u001b[0m \u001b[32m━━━━━━━━━━━━━━━━━━━━\u001b[0m\u001b[37m\u001b[0m \u001b[1m43s\u001b[0m 86ms/step - accuracy: 0.9741 - loss: 0.0863 - val_accuracy: 0.9554 - val_loss: 0.1882\n",
      "Epoch 11/50\n",
      "\u001b[1m506/506\u001b[0m \u001b[32m━━━━━━━━━━━━━━━━━━━━\u001b[0m\u001b[37m\u001b[0m \u001b[1m0s\u001b[0m 74ms/step - accuracy: 0.9768 - loss: 0.0737\n",
      "Epoch 11: val_accuracy improved from 0.95540 to 0.95684, saving model to best_model.weights.h5\n",
      "\u001b[1m506/506\u001b[0m \u001b[32m━━━━━━━━━━━━━━━━━━━━\u001b[0m\u001b[37m\u001b[0m \u001b[1m43s\u001b[0m 86ms/step - accuracy: 0.9768 - loss: 0.0737 - val_accuracy: 0.9568 - val_loss: 0.1710\n",
      "Epoch 12/50\n",
      "\u001b[1m506/506\u001b[0m \u001b[32m━━━━━━━━━━━━━━━━━━━━\u001b[0m\u001b[37m\u001b[0m \u001b[1m0s\u001b[0m 74ms/step - accuracy: 0.9797 - loss: 0.0641\n",
      "Epoch 12: val_accuracy improved from 0.95684 to 0.95986, saving model to best_model.weights.h5\n",
      "\u001b[1m506/506\u001b[0m \u001b[32m━━━━━━━━━━━━━━━━━━━━\u001b[0m\u001b[37m\u001b[0m \u001b[1m43s\u001b[0m 86ms/step - accuracy: 0.9797 - loss: 0.0641 - val_accuracy: 0.9599 - val_loss: 0.1723\n",
      "Epoch 13/50\n",
      "\u001b[1m506/506\u001b[0m \u001b[32m━━━━━━━━━━━━━━━━━━━━\u001b[0m\u001b[37m\u001b[0m \u001b[1m0s\u001b[0m 74ms/step - accuracy: 0.9852 - loss: 0.0497\n",
      "Epoch 13: val_accuracy improved from 0.95986 to 0.96159, saving model to best_model.weights.h5\n",
      "\u001b[1m506/506\u001b[0m \u001b[32m━━━━━━━━━━━━━━━━━━━━\u001b[0m\u001b[37m\u001b[0m \u001b[1m43s\u001b[0m 86ms/step - accuracy: 0.9852 - loss: 0.0497 - val_accuracy: 0.9616 - val_loss: 0.1755\n",
      "Epoch 14/50\n",
      "\u001b[1m506/506\u001b[0m \u001b[32m━━━━━━━━━━━━━━━━━━━━\u001b[0m\u001b[37m\u001b[0m \u001b[1m0s\u001b[0m 74ms/step - accuracy: 0.9852 - loss: 0.0495\n",
      "Epoch 14: val_accuracy improved from 0.96159 to 0.96412, saving model to best_model.weights.h5\n",
      "\u001b[1m506/506\u001b[0m \u001b[32m━━━━━━━━━━━━━━━━━━━━\u001b[0m\u001b[37m\u001b[0m \u001b[1m43s\u001b[0m 86ms/step - accuracy: 0.9852 - loss: 0.0495 - val_accuracy: 0.9641 - val_loss: 0.1781\n",
      "Epoch 15/50\n",
      "\u001b[1m506/506\u001b[0m \u001b[32m━━━━━━━━━━━━━━━━━━━━\u001b[0m\u001b[37m\u001b[0m \u001b[1m0s\u001b[0m 74ms/step - accuracy: 0.9854 - loss: 0.0467\n",
      "Epoch 15: val_accuracy did not improve from 0.96412\n",
      "\u001b[1m506/506\u001b[0m \u001b[32m━━━━━━━━━━━━━━━━━━━━\u001b[0m\u001b[37m\u001b[0m \u001b[1m43s\u001b[0m 86ms/step - accuracy: 0.9854 - loss: 0.0467 - val_accuracy: 0.9607 - val_loss: 0.1891\n",
      "Epoch 16/50\n",
      "\u001b[1m506/506\u001b[0m \u001b[32m━━━━━━━━━━━━━━━━━━━━\u001b[0m\u001b[37m\u001b[0m \u001b[1m0s\u001b[0m 74ms/step - accuracy: 0.9885 - loss: 0.0407\n",
      "Epoch 16: val_accuracy did not improve from 0.96412\n",
      "\u001b[1m506/506\u001b[0m \u001b[32m━━━━━━━━━━━━━━━━━━━━\u001b[0m\u001b[37m\u001b[0m \u001b[1m43s\u001b[0m 86ms/step - accuracy: 0.9885 - loss: 0.0407 - val_accuracy: 0.9601 - val_loss: 0.2118\n",
      "Epoch 17/50\n",
      "\u001b[1m506/506\u001b[0m \u001b[32m━━━━━━━━━━━━━━━━━━━━\u001b[0m\u001b[37m\u001b[0m \u001b[1m0s\u001b[0m 74ms/step - accuracy: 0.9874 - loss: 0.0431\n",
      "Epoch 17: val_accuracy improved from 0.96412 to 0.96635, saving model to best_model.weights.h5\n",
      "\u001b[1m506/506\u001b[0m \u001b[32m━━━━━━━━━━━━━━━━━━━━\u001b[0m\u001b[37m\u001b[0m \u001b[1m43s\u001b[0m 86ms/step - accuracy: 0.9874 - loss: 0.0431 - val_accuracy: 0.9663 - val_loss: 0.1730\n",
      "Epoch 18/50\n",
      "\u001b[1m506/506\u001b[0m \u001b[32m━━━━━━━━━━━━━━━━━━━━\u001b[0m\u001b[37m\u001b[0m \u001b[1m0s\u001b[0m 74ms/step - accuracy: 0.9887 - loss: 0.0365\n",
      "Epoch 18: val_accuracy did not improve from 0.96635\n",
      "\u001b[1m506/506\u001b[0m \u001b[32m━━━━━━━━━━━━━━━━━━━━\u001b[0m\u001b[37m\u001b[0m \u001b[1m43s\u001b[0m 86ms/step - accuracy: 0.9887 - loss: 0.0365 - val_accuracy: 0.9661 - val_loss: 0.1958\n",
      "Epoch 19/50\n",
      "\u001b[1m506/506\u001b[0m \u001b[32m━━━━━━━━━━━━━━━━━━━━\u001b[0m\u001b[37m\u001b[0m \u001b[1m0s\u001b[0m 74ms/step - accuracy: 0.9919 - loss: 0.0269\n",
      "Epoch 19: val_accuracy did not improve from 0.96635\n",
      "\u001b[1m506/506\u001b[0m \u001b[32m━━━━━━━━━━━━━━━━━━━━\u001b[0m\u001b[37m\u001b[0m \u001b[1m43s\u001b[0m 86ms/step - accuracy: 0.9919 - loss: 0.0270 - val_accuracy: 0.9646 - val_loss: 0.2014\n",
      "Epoch 20/50\n",
      "\u001b[1m506/506\u001b[0m \u001b[32m━━━━━━━━━━━━━━━━━━━━\u001b[0m\u001b[37m\u001b[0m \u001b[1m0s\u001b[0m 74ms/step - accuracy: 0.9902 - loss: 0.0311\n",
      "Epoch 20: val_accuracy did not improve from 0.96635\n",
      "\u001b[1m506/506\u001b[0m \u001b[32m━━━━━━━━━━━━━━━━━━━━\u001b[0m\u001b[37m\u001b[0m \u001b[1m43s\u001b[0m 86ms/step - accuracy: 0.9902 - loss: 0.0311 - val_accuracy: 0.9636 - val_loss: 0.2009\n",
      "Epoch 21/50\n",
      "\u001b[1m506/506\u001b[0m \u001b[32m━━━━━━━━━━━━━━━━━━━━\u001b[0m\u001b[37m\u001b[0m \u001b[1m0s\u001b[0m 74ms/step - accuracy: 0.9899 - loss: 0.0349\n",
      "Epoch 21: val_accuracy did not improve from 0.96635\n",
      "\u001b[1m506/506\u001b[0m \u001b[32m━━━━━━━━━━━━━━━━━━━━\u001b[0m\u001b[37m\u001b[0m \u001b[1m43s\u001b[0m 86ms/step - accuracy: 0.9899 - loss: 0.0349 - val_accuracy: 0.9661 - val_loss: 0.1930\n",
      "Epoch 21: early stopping\n",
      "Best weights loaded from best_model.weights.h5\n",
      "Full model saved as best_model.keras\n",
      "Full model saved as best_model.h5\n"
     ]
    }
   ],
   "source": [
    "from tensorflow.keras.models import load_model\n",
    "\n",
    "# EarlyStopping and ModelCheckpoint for saving weights\n",
    "es = EarlyStopping(monitor='val_loss', mode='min', verbose=1, patience=10)\n",
    "mc = ModelCheckpoint('best_model.weights.h5', monitor='val_accuracy', mode='max', verbose=1, save_best_only=True, save_weights_only=True)\n",
    "\n",
    "# Train the model\n",
    "history = model.fit(\n",
    "    X_train,\n",
    "    y_train,\n",
    "    validation_data=(X_test, y_test),\n",
    "    epochs=50,\n",
    "    batch_size=64,\n",
    "    callbacks=[es, mc]\n",
    ")\n",
    "\n",
    "# After training, load the best weights\n",
    "model.load_weights('best_model.weights.h5')\n",
    "print(\"Best weights loaded from best_model.weights.h5\")\n",
    "\n",
    "# Save the full model to .keras format\n",
    "model.save('best_model.keras')\n",
    "print(\"Full model saved as best_model.keras\")\n",
    "\n",
    "# Convert the .keras file to .h5\n",
    "model.save('best_model.h5', save_format='h5')\n",
    "print(\"Full model saved as best_model.h5\")\n"
   ]
  },
  {
   "cell_type": "markdown",
   "id": "b1ec8c1e",
   "metadata": {
    "papermill": {
     "duration": 1.355082,
     "end_time": "2024-12-06T07:08:57.049223",
     "exception": false,
     "start_time": "2024-12-06T07:08:55.694141",
     "status": "completed"
    },
    "tags": []
   },
   "source": [
    "### Train the Model"
   ]
  },
  {
   "cell_type": "code",
   "execution_count": 17,
   "id": "80c61f41",
   "metadata": {
    "execution": {
     "iopub.execute_input": "2024-12-06T07:08:59.593918Z",
     "iopub.status.busy": "2024-12-06T07:08:59.593545Z",
     "iopub.status.idle": "2024-12-06T07:12:15.749660Z",
     "shell.execute_reply": "2024-12-06T07:12:15.748785Z"
    },
    "papermill": {
     "duration": 198.584775,
     "end_time": "2024-12-06T07:12:16.915061",
     "exception": false,
     "start_time": "2024-12-06T07:08:58.330286",
     "status": "completed"
    },
    "tags": []
   },
   "outputs": [
    {
     "name": "stdout",
     "output_type": "stream",
     "text": [
      "Epoch 1/100\n",
      "\u001b[1m253/253\u001b[0m \u001b[32m━━━━━━━━━━━━━━━━━━━━\u001b[0m\u001b[37m\u001b[0m \u001b[1m0s\u001b[0m 112ms/step - accuracy: 0.9936 - loss: 0.0213\n",
      "Epoch 1: val_accuracy improved from -inf to 0.96779, saving model to best_model.weights.h5\n",
      "\u001b[1m253/253\u001b[0m \u001b[32m━━━━━━━━━━━━━━━━━━━━\u001b[0m\u001b[37m\u001b[0m \u001b[1m33s\u001b[0m 129ms/step - accuracy: 0.9936 - loss: 0.0213 - val_accuracy: 0.9678 - val_loss: 0.1907\n",
      "Epoch 2/100\n",
      "\u001b[1m253/253\u001b[0m \u001b[32m━━━━━━━━━━━━━━━━━━━━\u001b[0m\u001b[37m\u001b[0m \u001b[1m0s\u001b[0m 112ms/step - accuracy: 0.9955 - loss: 0.0137\n",
      "Epoch 2: val_accuracy did not improve from 0.96779\n",
      "\u001b[1m253/253\u001b[0m \u001b[32m━━━━━━━━━━━━━━━━━━━━\u001b[0m\u001b[37m\u001b[0m \u001b[1m33s\u001b[0m 129ms/step - accuracy: 0.9955 - loss: 0.0137 - val_accuracy: 0.9638 - val_loss: 0.2225\n",
      "Epoch 3/100\n",
      "\u001b[1m253/253\u001b[0m \u001b[32m━━━━━━━━━━━━━━━━━━━━\u001b[0m\u001b[37m\u001b[0m \u001b[1m0s\u001b[0m 112ms/step - accuracy: 0.9965 - loss: 0.0116\n",
      "Epoch 3: val_accuracy did not improve from 0.96779\n",
      "\u001b[1m253/253\u001b[0m \u001b[32m━━━━━━━━━━━━━━━━━━━━\u001b[0m\u001b[37m\u001b[0m \u001b[1m32s\u001b[0m 128ms/step - accuracy: 0.9965 - loss: 0.0116 - val_accuracy: 0.9654 - val_loss: 0.2208\n",
      "Epoch 4/100\n",
      "\u001b[1m253/253\u001b[0m \u001b[32m━━━━━━━━━━━━━━━━━━━━\u001b[0m\u001b[37m\u001b[0m \u001b[1m0s\u001b[0m 112ms/step - accuracy: 0.9960 - loss: 0.0123\n",
      "Epoch 4: val_accuracy improved from 0.96779 to 0.96966, saving model to best_model.weights.h5\n",
      "\u001b[1m253/253\u001b[0m \u001b[32m━━━━━━━━━━━━━━━━━━━━\u001b[0m\u001b[37m\u001b[0m \u001b[1m33s\u001b[0m 129ms/step - accuracy: 0.9960 - loss: 0.0123 - val_accuracy: 0.9697 - val_loss: 0.1951\n",
      "Epoch 5/100\n",
      "\u001b[1m253/253\u001b[0m \u001b[32m━━━━━━━━━━━━━━━━━━━━\u001b[0m\u001b[37m\u001b[0m \u001b[1m0s\u001b[0m 112ms/step - accuracy: 0.9956 - loss: 0.0121\n",
      "Epoch 5: val_accuracy did not improve from 0.96966\n",
      "\u001b[1m253/253\u001b[0m \u001b[32m━━━━━━━━━━━━━━━━━━━━\u001b[0m\u001b[37m\u001b[0m \u001b[1m33s\u001b[0m 129ms/step - accuracy: 0.9956 - loss: 0.0121 - val_accuracy: 0.9650 - val_loss: 0.2122\n",
      "Epoch 6/100\n",
      "\u001b[1m253/253\u001b[0m \u001b[32m━━━━━━━━━━━━━━━━━━━━\u001b[0m\u001b[37m\u001b[0m \u001b[1m0s\u001b[0m 112ms/step - accuracy: 0.9946 - loss: 0.0177\n",
      "Epoch 6: val_accuracy did not improve from 0.96966\n",
      "\u001b[1m253/253\u001b[0m \u001b[32m━━━━━━━━━━━━━━━━━━━━\u001b[0m\u001b[37m\u001b[0m \u001b[1m33s\u001b[0m 129ms/step - accuracy: 0.9946 - loss: 0.0177 - val_accuracy: 0.9636 - val_loss: 0.2342\n",
      "Epoch 6: early stopping\n",
      "Best weights loaded from best_model.weights.h5\n",
      "Full model saved as best_model.keras\n",
      "Full model saved as best_model.h5\n"
     ]
    }
   ],
   "source": [
    "from tensorflow.keras.models import load_model\n",
    "\n",
    "# EarlyStopping and ModelCheckpoint for saving weights\n",
    "es = EarlyStopping(monitor='val_loss', mode='min', verbose=1, patience=5)\n",
    "mc = ModelCheckpoint('best_model.weights.h5', monitor='val_accuracy', mode='max', verbose=1, save_best_only=True, save_weights_only=True)\n",
    "\n",
    "# Train the model\n",
    "history = model.fit(\n",
    "    X_train,\n",
    "    y_train,\n",
    "    validation_data=(X_test, y_test),\n",
    "    epochs=100,\n",
    "    batch_size=128,\n",
    "    callbacks=[es, mc]\n",
    ")\n",
    "\n",
    "# After training, load the best weights\n",
    "model.load_weights('best_model.weights.h5')\n",
    "print(\"Best weights loaded from best_model.weights.h5\")\n",
    "\n",
    "# Save the full model to .keras format\n",
    "model.save('best_model.keras')\n",
    "print(\"Full model saved as best_model.keras\")\n",
    "\n",
    "# Convert the .keras file to .h5\n",
    "model.save('best_model.h5', save_format='h5')\n",
    "print(\"Full model saved as best_model.h5\")\n"
   ]
  },
  {
   "cell_type": "code",
   "execution_count": 18,
   "id": "8ba04aef",
   "metadata": {
    "execution": {
     "iopub.execute_input": "2024-12-06T07:12:19.706470Z",
     "iopub.status.busy": "2024-12-06T07:12:19.706013Z",
     "iopub.status.idle": "2024-12-06T07:12:20.270181Z",
     "shell.execute_reply": "2024-12-06T07:12:20.269326Z"
    },
    "papermill": {
     "duration": 1.992419,
     "end_time": "2024-12-06T07:12:20.273028",
     "exception": false,
     "start_time": "2024-12-06T07:12:18.280609",
     "status": "completed"
    },
    "tags": []
   },
   "outputs": [
    {
     "data": {
      "image/png": "[encoded data removed]",
      "text/plain": [
       "<Figure size 1200x500 with 2 Axes>"
      ]
     },
     "metadata": {},
     "output_type": "display_data"
    }
   ],
   "source": [
    "import matplotlib.pyplot as plt\n",
    "\n",
    "# Plot for accuracy\n",
    "plt.figure(figsize=(12, 5))\n",
    "\n",
    "# Subplot for accuracy\n",
    "plt.subplot(1, 2, 1)\n",
    "plt.plot(history.history['accuracy'], label='Train Accuracy')  # Training accuracy\n",
    "plt.plot(history.history['val_accuracy'], label='Validation Accuracy')  # Validation accuracy\n",
    "plt.title('Accuracy per Epoch')  # Title of the plot\n",
    "plt.xlabel('Epochs')  # X-axis label\n",
    "plt.ylabel('Accuracy')  # Y-axis label\n",
    "plt.legend()  # Display legend\n",
    "\n",
    "# Subplot for loss\n",
    "plt.subplot(1, 2, 2)\n",
    "plt.plot(history.history['loss'], label='Train Loss')  # Training loss\n",
    "plt.plot(history.history['val_loss'], label='Validation Loss')  # Validation loss\n",
    "plt.title('Loss per Epoch')  # Title of the plot\n",
    "plt.xlabel('Epochs')  # X-axis label\n",
    "plt.ylabel('Loss')  # Y-axis label\n",
    "plt.legend()  # Display legend\n",
    "\n",
    "# Display the plot\n",
    "plt.tight_layout()  # Adjust layout for better fit\n",
    "plt.show()  # Show the plots"
   ]
  },
  {
   "cell_type": "code",
   "execution_count": 19,
   "id": "586e64f1",
   "metadata": {
    "execution": {
     "iopub.execute_input": "2024-12-06T07:12:23.067709Z",
     "iopub.status.busy": "2024-12-06T07:12:23.067154Z",
     "iopub.status.idle": "2024-12-06T07:12:23.072445Z",
     "shell.execute_reply": "2024-12-06T07:12:23.071447Z"
    },
    "papermill": {
     "duration": 1.406715,
     "end_time": "2024-12-06T07:12:23.074326",
     "exception": false,
     "start_time": "2024-12-06T07:12:21.667611",
     "status": "completed"
    },
    "tags": []
   },
   "outputs": [],
   "source": [
    "# from sklearn.metrics import classification_report\n",
    "\n",
    "# # Get model predictions\n",
    "# y_pred = model.predict(X_test)\n",
    "\n",
    "# # Convert predictions and labels from one-hot encoding to integer labels\n",
    "# y_pred_labels = np.argmax(y_pred, axis=1)\n",
    "# y_test_labels = np.argmax(y_test, axis=1)\n",
    "\n",
    "# # Generate the classification report\n",
    "# report = classification_report(y_test_labels, y_pred_labels, target_names=df['status'].unique())\n",
    "\n",
    "# # Print the classification report\n",
    "# print(report)"
   ]
  },
  {
   "cell_type": "code",
   "execution_count": 20,
   "id": "f43702db",
   "metadata": {
    "execution": {
     "iopub.execute_input": "2024-12-06T07:12:25.861464Z",
     "iopub.status.busy": "2024-12-06T07:12:25.860913Z",
     "iopub.status.idle": "2024-12-06T07:12:35.720798Z",
     "shell.execute_reply": "2024-12-06T07:12:35.719795Z"
    },
    "papermill": {
     "duration": 11.275072,
     "end_time": "2024-12-06T07:12:35.722478",
     "exception": false,
     "start_time": "2024-12-06T07:12:24.447406",
     "status": "completed"
    },
    "tags": []
   },
   "outputs": [
    {
     "name": "stdout",
     "output_type": "stream",
     "text": [
      "\u001b[1m434/434\u001b[0m \u001b[32m━━━━━━━━━━━━━━━━━━━━\u001b[0m\u001b[37m\u001b[0m \u001b[1m10s\u001b[0m 23ms/step - accuracy: 0.9698 - loss: 0.1947\n",
      "Test Loss: 0.19505417346954346\n",
      "Test Accuracy: 0.9696642160415649\n"
     ]
    }
   ],
   "source": [
    "\n",
    "loss, accuracy = model.evaluate(X_test, y_test, verbose=1)\n",
    "print(f\"Test Loss: {loss}\")\n",
    "print(f\"Test Accuracy: {accuracy}\")"
   ]
  },
  {
   "cell_type": "markdown",
   "id": "4de24258",
   "metadata": {
    "papermill": {
     "duration": 1.367151,
     "end_time": "2024-12-06T07:12:38.477624",
     "exception": false,
     "start_time": "2024-12-06T07:12:37.110473",
     "status": "completed"
    },
    "tags": []
   },
   "source": [
    "### Model Evaluation"
   ]
  },
  {
   "cell_type": "code",
   "execution_count": null,
   "id": "39802336",
   "metadata": {
    "papermill": {
     "duration": 1.351351,
     "end_time": "2024-12-06T07:12:41.197824",
     "exception": false,
     "start_time": "2024-12-06T07:12:39.846473",
     "status": "completed"
    },
    "tags": []
   },
   "outputs": [],
   "source": []
  },
  {
   "cell_type": "code",
   "execution_count": null,
   "id": "0e0c6876",
   "metadata": {
    "papermill": {
     "duration": 1.362453,
     "end_time": "2024-12-06T07:12:43.949099",
     "exception": false,
     "start_time": "2024-12-06T07:12:42.586646",
     "status": "completed"
    },
    "tags": []
   },
   "outputs": [],
   "source": []
  }
 ],
 "metadata": {
  "kaggle": {
   "accelerator": "nvidiaTeslaT4",
   "dataSources": [
    {
     "datasetId": 5338273,
     "sourceId": 8870083,
     "sourceType": "datasetVersion"
    },
    {
     "datasetId": 6241587,
     "sourceId": 10116235,
     "sourceType": "datasetVersion"
    }
   ],
   "dockerImageVersionId": 30787,
   "isGpuEnabled": true,
   "isInternetEnabled": true,
   "language": "python",
   "sourceType": "notebook"
  },
  "kernelspec": {
   "display_name": "Python 3",
   "language": "python",
   "name": "python3"
  },
  "language_info": {
   "codemirror_mode": {
    "name": "ipython",
    "version": 3
   },
   "file_extension": ".py",
   "mimetype": "text/x-python",
   "name": "python",
   "nbconvert_exporter": "python",
   "pygments_lexer": "ipython3",
   "version": "3.10.14"
  },
  "papermill": {
   "default_parameters": {},
   "duration": 1244.140948,
   "end_time": "2024-12-06T07:12:48.952275",
   "environment_variables": {},
   "exception": null,
   "input_path": "__notebook__.ipynb",
   "output_path": "__notebook__.ipynb",
   "parameters": {},
   "start_time": "2024-12-06T06:52:04.811327",
   "version": "2.6.0"
  }
 },
 "nbformat": 4,
 "nbformat_minor": 5
}
