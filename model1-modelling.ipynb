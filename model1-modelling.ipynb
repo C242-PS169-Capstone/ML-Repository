{
 "cells": [
  {
   "cell_type": "markdown",
   "id": "b3b6bdd5",
   "metadata": {
    "papermill": {
     "duration": 0.003621,
     "end_time": "2024-12-05T22:08:48.859198",
     "exception": false,
     "start_time": "2024-12-05T22:08:48.855577",
     "status": "completed"
    },
    "tags": []
   },
   "source": [
    "### Read the Data"
   ]
  },
  {
   "cell_type": "code",
   "execution_count": 1,
   "id": "d3556bc2",
   "metadata": {
    "execution": {
     "iopub.execute_input": "2024-12-05T22:08:48.866511Z",
     "iopub.status.busy": "2024-12-05T22:08:48.866170Z",
     "iopub.status.idle": "2024-12-05T22:09:06.859369Z",
     "shell.execute_reply": "2024-12-05T22:09:06.858628Z"
    },
    "papermill": {
     "duration": 17.998884,
     "end_time": "2024-12-05T22:09:06.861257",
     "exception": false,
     "start_time": "2024-12-05T22:08:48.862373",
     "status": "completed"
    },
    "tags": []
   },
   "outputs": [],
   "source": [
    "# Import Libraries\n",
    "import pandas as pd\n",
    "from sklearn.preprocessing import LabelEncoder\n",
    "from transformers import BertTokenizer, TFBertModel\n",
    "from sklearn.model_selection import train_test_split\n",
    "from tensorflow.keras.models import Model\n",
    "from tensorflow.keras.layers import Input, GRU, Dense, Dropout, BatchNormalization\n",
    "from tensorflow.keras.callbacks import EarlyStopping, ModelCheckpoint\n",
    "import tensorflow as tf"
   ]
  },
  {
   "cell_type": "code",
   "execution_count": 2,
   "id": "02252dda",
   "metadata": {
    "execution": {
     "iopub.execute_input": "2024-12-05T22:09:06.868604Z",
     "iopub.status.busy": "2024-12-05T22:09:06.868065Z",
     "iopub.status.idle": "2024-12-05T22:09:32.773599Z",
     "shell.execute_reply": "2024-12-05T22:09:32.772836Z"
    },
    "papermill": {
     "duration": 25.911324,
     "end_time": "2024-12-05T22:09:32.775722",
     "exception": false,
     "start_time": "2024-12-05T22:09:06.864398",
     "status": "completed"
    },
    "tags": []
   },
   "outputs": [],
   "source": [
    "import pandas as pd\n",
    "import ast\n",
    "\n",
    "# Read data from CSV\n",
    "file_path = '/kaggle/input/suicidal-dataset/clean_dataset.csv'\n",
    "df = pd.read_csv(file_path)\n",
    "\n",
    "# Convert string literals to Python lists\n",
    "df['text'] = df['text'].apply(lambda x: ast.literal_eval(x) if isinstance(x, str) else x)\n",
    "\n",
    "# Join lists into sentences\n",
    "df['text'] = df['text'].apply(lambda x: ' '.join(x) if isinstance(x, list) else x)\n",
    "\n",
    "\n"
   ]
  },
  {
   "cell_type": "code",
   "execution_count": 3,
   "id": "5ddc5dca",
   "metadata": {
    "execution": {
     "iopub.execute_input": "2024-12-05T22:09:32.782887Z",
     "iopub.status.busy": "2024-12-05T22:09:32.782605Z",
     "iopub.status.idle": "2024-12-05T22:09:32.794415Z",
     "shell.execute_reply": "2024-12-05T22:09:32.793623Z"
    },
    "papermill": {
     "duration": 0.017238,
     "end_time": "2024-12-05T22:09:32.796133",
     "exception": false,
     "start_time": "2024-12-05T22:09:32.778895",
     "status": "completed"
    },
    "tags": []
   },
   "outputs": [
    {
     "data": {
      "text/html": [
       "<div>\n",
       "<style scoped>\n",
       "    .dataframe tbody tr th:only-of-type {\n",
       "        vertical-align: middle;\n",
       "    }\n",
       "\n",
       "    .dataframe tbody tr th {\n",
       "        vertical-align: top;\n",
       "    }\n",
       "\n",
       "    .dataframe thead th {\n",
       "        text-align: right;\n",
       "    }\n",
       "</style>\n",
       "<table border=\"1\" class=\"dataframe\">\n",
       "  <thead>\n",
       "    <tr style=\"text-align: right;\">\n",
       "      <th></th>\n",
       "      <th>Unnamed: 0</th>\n",
       "      <th>text</th>\n",
       "      <th>class</th>\n",
       "    </tr>\n",
       "  </thead>\n",
       "  <tbody>\n",
       "    <tr>\n",
       "      <th>0</th>\n",
       "      <td>2</td>\n",
       "      <td>ex wife threaten suicide recently leave wife g...</td>\n",
       "      <td>suicide</td>\n",
       "    </tr>\n",
       "    <tr>\n",
       "      <th>1</th>\n",
       "      <td>3</td>\n",
       "      <td>weird get affect li come someone know feel rea...</td>\n",
       "      <td>non-suicide</td>\n",
       "    </tr>\n",
       "    <tr>\n",
       "      <th>2</th>\n",
       "      <td>4</td>\n",
       "      <td>finally almost never hear bad year ever swear ...</td>\n",
       "      <td>non-suicide</td>\n",
       "    </tr>\n",
       "    <tr>\n",
       "      <th>3</th>\n",
       "      <td>8</td>\n",
       "      <td>need help help cry hard</td>\n",
       "      <td>suicide</td>\n",
       "    </tr>\n",
       "    <tr>\n",
       "      <th>4</th>\n",
       "      <td>9</td>\n",
       "      <td>lose hello name struggle year afraid past year...</td>\n",
       "      <td>suicide</td>\n",
       "    </tr>\n",
       "  </tbody>\n",
       "</table>\n",
       "</div>"
      ],
      "text/plain": [
       "   Unnamed: 0                                               text        class\n",
       "0           2  ex wife threaten suicide recently leave wife g...      suicide\n",
       "1           3  weird get affect li come someone know feel rea...  non-suicide\n",
       "2           4  finally almost never hear bad year ever swear ...  non-suicide\n",
       "3           8                            need help help cry hard      suicide\n",
       "4           9  lose hello name struggle year afraid past year...      suicide"
      ]
     },
     "execution_count": 3,
     "metadata": {},
     "output_type": "execute_result"
    }
   ],
   "source": [
    "df.head()"
   ]
  },
  {
   "cell_type": "code",
   "execution_count": null,
   "id": "d7d88ae6",
   "metadata": {
    "papermill": {
     "duration": 0.002836,
     "end_time": "2024-12-05T22:09:32.803079",
     "exception": false,
     "start_time": "2024-12-05T22:09:32.800243",
     "status": "completed"
    },
    "tags": []
   },
   "outputs": [],
   "source": []
  },
  {
   "cell_type": "markdown",
   "id": "fbeca9b4",
   "metadata": {
    "papermill": {
     "duration": 0.002937,
     "end_time": "2024-12-05T22:09:32.808998",
     "exception": false,
     "start_time": "2024-12-05T22:09:32.806061",
     "status": "completed"
    },
    "tags": []
   },
   "source": [
    "## Modelling"
   ]
  },
  {
   "cell_type": "markdown",
   "id": "3f15581d",
   "metadata": {
    "papermill": {
     "duration": 0.002804,
     "end_time": "2024-12-05T22:09:32.814793",
     "exception": false,
     "start_time": "2024-12-05T22:09:32.811989",
     "status": "completed"
    },
    "tags": []
   },
   "source": [
    "### Tokenization"
   ]
  },
  {
   "cell_type": "code",
   "execution_count": 4,
   "id": "73a67c98",
   "metadata": {
    "execution": {
     "iopub.execute_input": "2024-12-05T22:09:32.821985Z",
     "iopub.status.busy": "2024-12-05T22:09:32.821492Z",
     "iopub.status.idle": "2024-12-05T22:10:00.584829Z",
     "shell.execute_reply": "2024-12-05T22:10:00.584040Z"
    },
    "papermill": {
     "duration": 27.769198,
     "end_time": "2024-12-05T22:10:00.586963",
     "exception": false,
     "start_time": "2024-12-05T22:09:32.817765",
     "status": "completed"
    },
    "tags": []
   },
   "outputs": [],
   "source": [
    "from tensorflow.keras.preprocessing.text import Tokenizer\n",
    "from tensorflow.keras.preprocessing.sequence import pad_sequences\n",
    "import gensim.downloader as api\n",
    "import numpy as np\n",
    "from sklearn.model_selection import train_test_split\n",
    "from keras.models import Sequential\n",
    "from keras.layers import Embedding, Dropout, Dense\n",
    "from keras.layers import GRU\n",
    "from keras.callbacks import EarlyStopping, ModelCheckpoint\n",
    "from tensorflow.keras.models import Sequential\n",
    "from tensorflow.keras.layers import Embedding, GRU, Dense, Dropout, Bidirectional, Input\n",
    "\n",
    "# Configuration\n",
    "EMBEDDING_DIM = 100  # Dimension of word embeddings\n",
    "MAX_NUM_WORDS = 10000  # Maximum number of unique words\n",
    "MAX_SEQUENCE_LENGTH = 200  # Fixed sequence length for all input data\n",
    "\n",
    "\n",
    "\n",
    "# Tokenizer: Train and convert text to sequences\n",
    "tokenizer = Tokenizer(num_words=MAX_NUM_WORDS, lower=True)  # Limit vocabulary size and convert to lowercase\n",
    "tokenizer.fit_on_texts(df['text'])  # Learn the vocabulary from the text data\n",
    "X = tokenizer.texts_to_sequences(df['text'])  # Convert text to numerical sequences\n",
    "\n",
    "# Pad sequences to ensure uniform length\n",
    "X = pad_sequences(X, maxlen=MAX_SEQUENCE_LENGTH, padding='post')  # Add padding at the end of sequences\n"
   ]
  },
  {
   "cell_type": "code",
   "execution_count": 5,
   "id": "7849969c",
   "metadata": {
    "execution": {
     "iopub.execute_input": "2024-12-05T22:10:00.594574Z",
     "iopub.status.busy": "2024-12-05T22:10:00.594298Z",
     "iopub.status.idle": "2024-12-05T22:10:00.618187Z",
     "shell.execute_reply": "2024-12-05T22:10:00.617253Z"
    },
    "papermill": {
     "duration": 0.029391,
     "end_time": "2024-12-05T22:10:00.619823",
     "exception": false,
     "start_time": "2024-12-05T22:10:00.590432",
     "status": "completed"
    },
    "tags": []
   },
   "outputs": [
    {
     "name": "stdout",
     "output_type": "stream",
     "text": [
      "Tokenizer has been saved to tokenizer.pkl\n"
     ]
    }
   ],
   "source": [
    "import pickle\n",
    "\n",
    "# Save the tokenizer to a .pkl file\n",
    "with open('tokenizer.pkl', 'wb') as file:\n",
    "    pickle.dump(tokenizer, file)\n",
    "print(\"Tokenizer has been saved to tokenizer.pkl\")\n"
   ]
  },
  {
   "cell_type": "code",
   "execution_count": 6,
   "id": "d68d4d9d",
   "metadata": {
    "execution": {
     "iopub.execute_input": "2024-12-05T22:10:00.627151Z",
     "iopub.status.busy": "2024-12-05T22:10:00.626915Z",
     "iopub.status.idle": "2024-12-05T22:10:00.738129Z",
     "shell.execute_reply": "2024-12-05T22:10:00.737154Z"
    },
    "papermill": {
     "duration": 0.117367,
     "end_time": "2024-12-05T22:10:00.740368",
     "exception": false,
     "start_time": "2024-12-05T22:10:00.623001",
     "status": "completed"
    },
    "tags": []
   },
   "outputs": [],
   "source": [
    "# Convert labels to one-hot encoding\n",
    "y = pd.get_dummies(df['class']).values  # Transform class labels into a binary matrix\n",
    "\n",
    "# Split data into training and testing sets\n",
    "X_train, X_test, y_train, y_test = train_test_split(X, y, test_size=0.3, random_state=42)\n",
    "# `test_size=0.3` allocates 30% of the data for testing, 70% for training\n",
    "# `random_state=42` ensures reproducibility of the split"
   ]
  },
  {
   "cell_type": "markdown",
   "id": "f4a37f0e",
   "metadata": {
    "papermill": {
     "duration": 0.002966,
     "end_time": "2024-12-05T22:10:00.746890",
     "exception": false,
     "start_time": "2024-12-05T22:10:00.743924",
     "status": "completed"
    },
    "tags": []
   },
   "source": [
    "### Word Embedding"
   ]
  },
  {
   "cell_type": "code",
   "execution_count": 7,
   "id": "e4b524ce",
   "metadata": {
    "execution": {
     "iopub.execute_input": "2024-12-05T22:10:00.755781Z",
     "iopub.status.busy": "2024-12-05T22:10:00.755189Z",
     "iopub.status.idle": "2024-12-05T22:10:44.855048Z",
     "shell.execute_reply": "2024-12-05T22:10:44.854329Z"
    },
    "papermill": {
     "duration": 44.107155,
     "end_time": "2024-12-05T22:10:44.857069",
     "exception": false,
     "start_time": "2024-12-05T22:10:00.749914",
     "status": "completed"
    },
    "tags": []
   },
   "outputs": [
    {
     "name": "stdout",
     "output_type": "stream",
     "text": [
      "[==================================================] 100.0% 128.1/128.1MB downloaded\n"
     ]
    }
   ],
   "source": [
    "# Download and load pre-trained GloVe embeddings (100 dimensions)\n",
    "glove_gensim = api.load('glove-wiki-gigaword-100')\n",
    "\n",
    "# Create a weight matrix for the embedding layer\n",
    "gensim_weight_matrix = np.zeros((MAX_NUM_WORDS, EMBEDDING_DIM))  # Initialize with zeros\n",
    "\n",
    "# Populate the weight matrix with GloVe vectors for words in the tokenizer's vocabulary\n",
    "for word, index in tokenizer.word_index.items():\n",
    "    if index < MAX_NUM_WORDS:  # Ensure the index is within the specified maximum word limit\n",
    "        if word in glove_gensim.index_to_key:  # Check if the word exists in the GloVe vocabulary\n",
    "            gensim_weight_matrix[index] = glove_gensim[word]  # Assign the GloVe vector\n",
    "        else:\n",
    "            gensim_weight_matrix[index] = np.zeros(EMBEDDING_DIM)  # Assign a zero vector if the word is not found"
   ]
  },
  {
   "cell_type": "markdown",
   "id": "ac3af9fd",
   "metadata": {
    "papermill": {
     "duration": 0.767335,
     "end_time": "2024-12-05T22:10:46.396565",
     "exception": false,
     "start_time": "2024-12-05T22:10:45.629230",
     "status": "completed"
    },
    "tags": []
   },
   "source": [
    "### Model Building"
   ]
  },
  {
   "cell_type": "markdown",
   "id": "785c126b",
   "metadata": {
    "papermill": {
     "duration": 0.720129,
     "end_time": "2024-12-05T22:10:47.883906",
     "exception": false,
     "start_time": "2024-12-05T22:10:47.163777",
     "status": "completed"
    },
    "tags": []
   },
   "source": [
    "### Train the Model"
   ]
  },
  {
   "cell_type": "code",
   "execution_count": 8,
   "id": "217b365c",
   "metadata": {
    "execution": {
     "iopub.execute_input": "2024-12-05T22:10:49.411861Z",
     "iopub.status.busy": "2024-12-05T22:10:49.411513Z",
     "iopub.status.idle": "2024-12-05T22:10:50.699985Z",
     "shell.execute_reply": "2024-12-05T22:10:50.699108Z"
    },
    "papermill": {
     "duration": 2.058718,
     "end_time": "2024-12-05T22:10:50.701632",
     "exception": false,
     "start_time": "2024-12-05T22:10:48.642914",
     "status": "completed"
    },
    "tags": []
   },
   "outputs": [
    {
     "data": {
      "text/html": [
       "<pre style=\"white-space:pre;overflow-x:auto;line-height:normal;font-family:Menlo,'DejaVu Sans Mono',consolas,'Courier New',monospace\"><span style=\"font-weight: bold\">Model: \"Enhanced_BiGRU_Model\"</span>\n",
       "</pre>\n"
      ],
      "text/plain": [
       "\u001b[1mModel: \"Enhanced_BiGRU_Model\"\u001b[0m\n"
      ]
     },
     "metadata": {},
     "output_type": "display_data"
    },
    {
     "data": {
      "text/html": [
       "<pre style=\"white-space:pre;overflow-x:auto;line-height:normal;font-family:Menlo,'DejaVu Sans Mono',consolas,'Courier New',monospace\">┏━━━━━━━━━━━━━━━━━━━━━┳━━━━━━━━━━━━━━━━━━━┳━━━━━━━━━━━━┳━━━━━━━━━━━━━━━━━━━┓\n",
       "┃<span style=\"font-weight: bold\"> Layer (type)        </span>┃<span style=\"font-weight: bold\"> Output Shape      </span>┃<span style=\"font-weight: bold\">    Param # </span>┃<span style=\"font-weight: bold\"> Connected to      </span>┃\n",
       "┡━━━━━━━━━━━━━━━━━━━━━╇━━━━━━━━━━━━━━━━━━━╇━━━━━━━━━━━━╇━━━━━━━━━━━━━━━━━━━┩\n",
       "│ Input_Layer         │ (<span style=\"color: #00d7ff; text-decoration-color: #00d7ff\">None</span>, <span style=\"color: #00af00; text-decoration-color: #00af00\">200</span>)       │          <span style=\"color: #00af00; text-decoration-color: #00af00\">0</span> │ -                 │\n",
       "│ (<span style=\"color: #0087ff; text-decoration-color: #0087ff\">InputLayer</span>)        │                   │            │                   │\n",
       "├─────────────────────┼───────────────────┼────────────┼───────────────────┤\n",
       "│ Embedding_Layer     │ (<span style=\"color: #00d7ff; text-decoration-color: #00d7ff\">None</span>, <span style=\"color: #00af00; text-decoration-color: #00af00\">200</span>, <span style=\"color: #00af00; text-decoration-color: #00af00\">100</span>)  │  <span style=\"color: #00af00; text-decoration-color: #00af00\">1,000,000</span> │ Input_Layer[<span style=\"color: #00af00; text-decoration-color: #00af00\">0</span>][<span style=\"color: #00af00; text-decoration-color: #00af00\">0</span>] │\n",
       "│ (<span style=\"color: #0087ff; text-decoration-color: #0087ff\">Embedding</span>)         │                   │            │                   │\n",
       "├─────────────────────┼───────────────────┼────────────┼───────────────────┤\n",
       "│ Embedding_Projecti… │ (<span style=\"color: #00d7ff; text-decoration-color: #00d7ff\">None</span>, <span style=\"color: #00af00; text-decoration-color: #00af00\">200</span>, <span style=\"color: #00af00; text-decoration-color: #00af00\">256</span>)  │     <span style=\"color: #00af00; text-decoration-color: #00af00\">25,856</span> │ Embedding_Layer[<span style=\"color: #00af00; text-decoration-color: #00af00\">…</span> │\n",
       "│ (<span style=\"color: #0087ff; text-decoration-color: #0087ff\">Dense</span>)             │                   │            │                   │\n",
       "├─────────────────────┼───────────────────┼────────────┼───────────────────┤\n",
       "│ Embedding_Dropout   │ (<span style=\"color: #00d7ff; text-decoration-color: #00d7ff\">None</span>, <span style=\"color: #00af00; text-decoration-color: #00af00\">200</span>, <span style=\"color: #00af00; text-decoration-color: #00af00\">256</span>)  │          <span style=\"color: #00af00; text-decoration-color: #00af00\">0</span> │ Embedding_Projec… │\n",
       "│ (<span style=\"color: #0087ff; text-decoration-color: #0087ff\">Dropout</span>)           │                   │            │                   │\n",
       "├─────────────────────┼───────────────────┼────────────┼───────────────────┤\n",
       "│ BiGRU_1             │ (<span style=\"color: #00d7ff; text-decoration-color: #00d7ff\">None</span>, <span style=\"color: #00af00; text-decoration-color: #00af00\">200</span>, <span style=\"color: #00af00; text-decoration-color: #00af00\">256</span>)  │    <span style=\"color: #00af00; text-decoration-color: #00af00\">296,448</span> │ Embedding_Dropou… │\n",
       "│ (<span style=\"color: #0087ff; text-decoration-color: #0087ff\">Bidirectional</span>)     │                   │            │                   │\n",
       "├─────────────────────┼───────────────────┼────────────┼───────────────────┤\n",
       "│ LayerNorm_GRU1      │ (<span style=\"color: #00d7ff; text-decoration-color: #00d7ff\">None</span>, <span style=\"color: #00af00; text-decoration-color: #00af00\">200</span>, <span style=\"color: #00af00; text-decoration-color: #00af00\">256</span>)  │        <span style=\"color: #00af00; text-decoration-color: #00af00\">512</span> │ BiGRU_1[<span style=\"color: #00af00; text-decoration-color: #00af00\">0</span>][<span style=\"color: #00af00; text-decoration-color: #00af00\">0</span>]     │\n",
       "│ (<span style=\"color: #0087ff; text-decoration-color: #0087ff\">LayerNormalizatio…</span> │                   │            │                   │\n",
       "├─────────────────────┼───────────────────┼────────────┼───────────────────┤\n",
       "│ Residual_Connectio… │ (<span style=\"color: #00d7ff; text-decoration-color: #00d7ff\">None</span>, <span style=\"color: #00af00; text-decoration-color: #00af00\">200</span>, <span style=\"color: #00af00; text-decoration-color: #00af00\">256</span>)  │          <span style=\"color: #00af00; text-decoration-color: #00af00\">0</span> │ Embedding_Projec… │\n",
       "│ (<span style=\"color: #0087ff; text-decoration-color: #0087ff\">Add</span>)               │                   │            │ LayerNorm_GRU1[<span style=\"color: #00af00; text-decoration-color: #00af00\">0</span>… │\n",
       "├─────────────────────┼───────────────────┼────────────┼───────────────────┤\n",
       "│ Dropout_1 (<span style=\"color: #0087ff; text-decoration-color: #0087ff\">Dropout</span>) │ (<span style=\"color: #00d7ff; text-decoration-color: #00d7ff\">None</span>, <span style=\"color: #00af00; text-decoration-color: #00af00\">200</span>, <span style=\"color: #00af00; text-decoration-color: #00af00\">256</span>)  │          <span style=\"color: #00af00; text-decoration-color: #00af00\">0</span> │ Residual_Connect… │\n",
       "├─────────────────────┼───────────────────┼────────────┼───────────────────┤\n",
       "│ BiGRU_2             │ (<span style=\"color: #00d7ff; text-decoration-color: #00d7ff\">None</span>, <span style=\"color: #00af00; text-decoration-color: #00af00\">200</span>, <span style=\"color: #00af00; text-decoration-color: #00af00\">256</span>)  │    <span style=\"color: #00af00; text-decoration-color: #00af00\">296,448</span> │ Dropout_1[<span style=\"color: #00af00; text-decoration-color: #00af00\">0</span>][<span style=\"color: #00af00; text-decoration-color: #00af00\">0</span>]   │\n",
       "│ (<span style=\"color: #0087ff; text-decoration-color: #0087ff\">Bidirectional</span>)     │                   │            │                   │\n",
       "├─────────────────────┼───────────────────┼────────────┼───────────────────┤\n",
       "│ LayerNorm_GRU2      │ (<span style=\"color: #00d7ff; text-decoration-color: #00d7ff\">None</span>, <span style=\"color: #00af00; text-decoration-color: #00af00\">200</span>, <span style=\"color: #00af00; text-decoration-color: #00af00\">256</span>)  │        <span style=\"color: #00af00; text-decoration-color: #00af00\">512</span> │ BiGRU_2[<span style=\"color: #00af00; text-decoration-color: #00af00\">0</span>][<span style=\"color: #00af00; text-decoration-color: #00af00\">0</span>]     │\n",
       "│ (<span style=\"color: #0087ff; text-decoration-color: #0087ff\">LayerNormalizatio…</span> │                   │            │                   │\n",
       "├─────────────────────┼───────────────────┼────────────┼───────────────────┤\n",
       "│ Residual_Connectio… │ (<span style=\"color: #00d7ff; text-decoration-color: #00d7ff\">None</span>, <span style=\"color: #00af00; text-decoration-color: #00af00\">200</span>, <span style=\"color: #00af00; text-decoration-color: #00af00\">256</span>)  │          <span style=\"color: #00af00; text-decoration-color: #00af00\">0</span> │ Dropout_1[<span style=\"color: #00af00; text-decoration-color: #00af00\">0</span>][<span style=\"color: #00af00; text-decoration-color: #00af00\">0</span>],  │\n",
       "│ (<span style=\"color: #0087ff; text-decoration-color: #0087ff\">Add</span>)               │                   │            │ LayerNorm_GRU2[<span style=\"color: #00af00; text-decoration-color: #00af00\">0</span>… │\n",
       "├─────────────────────┼───────────────────┼────────────┼───────────────────┤\n",
       "│ Dropout_2 (<span style=\"color: #0087ff; text-decoration-color: #0087ff\">Dropout</span>) │ (<span style=\"color: #00d7ff; text-decoration-color: #00d7ff\">None</span>, <span style=\"color: #00af00; text-decoration-color: #00af00\">200</span>, <span style=\"color: #00af00; text-decoration-color: #00af00\">256</span>)  │          <span style=\"color: #00af00; text-decoration-color: #00af00\">0</span> │ Residual_Connect… │\n",
       "├─────────────────────┼───────────────────┼────────────┼───────────────────┤\n",
       "│ Global_Avg_Pooling  │ (<span style=\"color: #00d7ff; text-decoration-color: #00d7ff\">None</span>, <span style=\"color: #00af00; text-decoration-color: #00af00\">256</span>)       │          <span style=\"color: #00af00; text-decoration-color: #00af00\">0</span> │ Dropout_2[<span style=\"color: #00af00; text-decoration-color: #00af00\">0</span>][<span style=\"color: #00af00; text-decoration-color: #00af00\">0</span>]   │\n",
       "│ (<span style=\"color: #0087ff; text-decoration-color: #0087ff\">GlobalAveragePool…</span> │                   │            │                   │\n",
       "├─────────────────────┼───────────────────┼────────────┼───────────────────┤\n",
       "│ Dense_Layer_1       │ (<span style=\"color: #00d7ff; text-decoration-color: #00d7ff\">None</span>, <span style=\"color: #00af00; text-decoration-color: #00af00\">64</span>)        │     <span style=\"color: #00af00; text-decoration-color: #00af00\">16,448</span> │ Global_Avg_Pooli… │\n",
       "│ (<span style=\"color: #0087ff; text-decoration-color: #0087ff\">Dense</span>)             │                   │            │                   │\n",
       "├─────────────────────┼───────────────────┼────────────┼───────────────────┤\n",
       "│ Dense_Dropout_1     │ (<span style=\"color: #00d7ff; text-decoration-color: #00d7ff\">None</span>, <span style=\"color: #00af00; text-decoration-color: #00af00\">64</span>)        │          <span style=\"color: #00af00; text-decoration-color: #00af00\">0</span> │ Dense_Layer_1[<span style=\"color: #00af00; text-decoration-color: #00af00\">0</span>]… │\n",
       "│ (<span style=\"color: #0087ff; text-decoration-color: #0087ff\">Dropout</span>)           │                   │            │                   │\n",
       "├─────────────────────┼───────────────────┼────────────┼───────────────────┤\n",
       "│ Dense_Layer_2       │ (<span style=\"color: #00d7ff; text-decoration-color: #00d7ff\">None</span>, <span style=\"color: #00af00; text-decoration-color: #00af00\">32</span>)        │      <span style=\"color: #00af00; text-decoration-color: #00af00\">2,080</span> │ Dense_Dropout_1[<span style=\"color: #00af00; text-decoration-color: #00af00\">…</span> │\n",
       "│ (<span style=\"color: #0087ff; text-decoration-color: #0087ff\">Dense</span>)             │                   │            │                   │\n",
       "├─────────────────────┼───────────────────┼────────────┼───────────────────┤\n",
       "│ Dense_Dropout_2     │ (<span style=\"color: #00d7ff; text-decoration-color: #00d7ff\">None</span>, <span style=\"color: #00af00; text-decoration-color: #00af00\">32</span>)        │          <span style=\"color: #00af00; text-decoration-color: #00af00\">0</span> │ Dense_Layer_2[<span style=\"color: #00af00; text-decoration-color: #00af00\">0</span>]… │\n",
       "│ (<span style=\"color: #0087ff; text-decoration-color: #0087ff\">Dropout</span>)           │                   │            │                   │\n",
       "├─────────────────────┼───────────────────┼────────────┼───────────────────┤\n",
       "│ Output_Layer        │ (<span style=\"color: #00d7ff; text-decoration-color: #00d7ff\">None</span>, <span style=\"color: #00af00; text-decoration-color: #00af00\">2</span>)         │         <span style=\"color: #00af00; text-decoration-color: #00af00\">66</span> │ Dense_Dropout_2[<span style=\"color: #00af00; text-decoration-color: #00af00\">…</span> │\n",
       "│ (<span style=\"color: #0087ff; text-decoration-color: #0087ff\">Dense</span>)             │                   │            │                   │\n",
       "└─────────────────────┴───────────────────┴────────────┴───────────────────┘\n",
       "</pre>\n"
      ],
      "text/plain": [
       "┏━━━━━━━━━━━━━━━━━━━━━┳━━━━━━━━━━━━━━━━━━━┳━━━━━━━━━━━━┳━━━━━━━━━━━━━━━━━━━┓\n",
       "┃\u001b[1m \u001b[0m\u001b[1mLayer (type)       \u001b[0m\u001b[1m \u001b[0m┃\u001b[1m \u001b[0m\u001b[1mOutput Shape     \u001b[0m\u001b[1m \u001b[0m┃\u001b[1m \u001b[0m\u001b[1m   Param #\u001b[0m\u001b[1m \u001b[0m┃\u001b[1m \u001b[0m\u001b[1mConnected to     \u001b[0m\u001b[1m \u001b[0m┃\n",
       "┡━━━━━━━━━━━━━━━━━━━━━╇━━━━━━━━━━━━━━━━━━━╇━━━━━━━━━━━━╇━━━━━━━━━━━━━━━━━━━┩\n",
       "│ Input_Layer         │ (\u001b[38;5;45mNone\u001b[0m, \u001b[38;5;34m200\u001b[0m)       │          \u001b[38;5;34m0\u001b[0m │ -                 │\n",
       "│ (\u001b[38;5;33mInputLayer\u001b[0m)        │                   │            │                   │\n",
       "├─────────────────────┼───────────────────┼────────────┼───────────────────┤\n",
       "│ Embedding_Layer     │ (\u001b[38;5;45mNone\u001b[0m, \u001b[38;5;34m200\u001b[0m, \u001b[38;5;34m100\u001b[0m)  │  \u001b[38;5;34m1,000,000\u001b[0m │ Input_Layer[\u001b[38;5;34m0\u001b[0m][\u001b[38;5;34m0\u001b[0m] │\n",
       "│ (\u001b[38;5;33mEmbedding\u001b[0m)         │                   │            │                   │\n",
       "├─────────────────────┼───────────────────┼────────────┼───────────────────┤\n",
       "│ Embedding_Projecti… │ (\u001b[38;5;45mNone\u001b[0m, \u001b[38;5;34m200\u001b[0m, \u001b[38;5;34m256\u001b[0m)  │     \u001b[38;5;34m25,856\u001b[0m │ Embedding_Layer[\u001b[38;5;34m…\u001b[0m │\n",
       "│ (\u001b[38;5;33mDense\u001b[0m)             │                   │            │                   │\n",
       "├─────────────────────┼───────────────────┼────────────┼───────────────────┤\n",
       "│ Embedding_Dropout   │ (\u001b[38;5;45mNone\u001b[0m, \u001b[38;5;34m200\u001b[0m, \u001b[38;5;34m256\u001b[0m)  │          \u001b[38;5;34m0\u001b[0m │ Embedding_Projec… │\n",
       "│ (\u001b[38;5;33mDropout\u001b[0m)           │                   │            │                   │\n",
       "├─────────────────────┼───────────────────┼────────────┼───────────────────┤\n",
       "│ BiGRU_1             │ (\u001b[38;5;45mNone\u001b[0m, \u001b[38;5;34m200\u001b[0m, \u001b[38;5;34m256\u001b[0m)  │    \u001b[38;5;34m296,448\u001b[0m │ Embedding_Dropou… │\n",
       "│ (\u001b[38;5;33mBidirectional\u001b[0m)     │                   │            │                   │\n",
       "├─────────────────────┼───────────────────┼────────────┼───────────────────┤\n",
       "│ LayerNorm_GRU1      │ (\u001b[38;5;45mNone\u001b[0m, \u001b[38;5;34m200\u001b[0m, \u001b[38;5;34m256\u001b[0m)  │        \u001b[38;5;34m512\u001b[0m │ BiGRU_1[\u001b[38;5;34m0\u001b[0m][\u001b[38;5;34m0\u001b[0m]     │\n",
       "│ (\u001b[38;5;33mLayerNormalizatio…\u001b[0m │                   │            │                   │\n",
       "├─────────────────────┼───────────────────┼────────────┼───────────────────┤\n",
       "│ Residual_Connectio… │ (\u001b[38;5;45mNone\u001b[0m, \u001b[38;5;34m200\u001b[0m, \u001b[38;5;34m256\u001b[0m)  │          \u001b[38;5;34m0\u001b[0m │ Embedding_Projec… │\n",
       "│ (\u001b[38;5;33mAdd\u001b[0m)               │                   │            │ LayerNorm_GRU1[\u001b[38;5;34m0\u001b[0m… │\n",
       "├─────────────────────┼───────────────────┼────────────┼───────────────────┤\n",
       "│ Dropout_1 (\u001b[38;5;33mDropout\u001b[0m) │ (\u001b[38;5;45mNone\u001b[0m, \u001b[38;5;34m200\u001b[0m, \u001b[38;5;34m256\u001b[0m)  │          \u001b[38;5;34m0\u001b[0m │ Residual_Connect… │\n",
       "├─────────────────────┼───────────────────┼────────────┼───────────────────┤\n",
       "│ BiGRU_2             │ (\u001b[38;5;45mNone\u001b[0m, \u001b[38;5;34m200\u001b[0m, \u001b[38;5;34m256\u001b[0m)  │    \u001b[38;5;34m296,448\u001b[0m │ Dropout_1[\u001b[38;5;34m0\u001b[0m][\u001b[38;5;34m0\u001b[0m]   │\n",
       "│ (\u001b[38;5;33mBidirectional\u001b[0m)     │                   │            │                   │\n",
       "├─────────────────────┼───────────────────┼────────────┼───────────────────┤\n",
       "│ LayerNorm_GRU2      │ (\u001b[38;5;45mNone\u001b[0m, \u001b[38;5;34m200\u001b[0m, \u001b[38;5;34m256\u001b[0m)  │        \u001b[38;5;34m512\u001b[0m │ BiGRU_2[\u001b[38;5;34m0\u001b[0m][\u001b[38;5;34m0\u001b[0m]     │\n",
       "│ (\u001b[38;5;33mLayerNormalizatio…\u001b[0m │                   │            │                   │\n",
       "├─────────────────────┼───────────────────┼────────────┼───────────────────┤\n",
       "│ Residual_Connectio… │ (\u001b[38;5;45mNone\u001b[0m, \u001b[38;5;34m200\u001b[0m, \u001b[38;5;34m256\u001b[0m)  │          \u001b[38;5;34m0\u001b[0m │ Dropout_1[\u001b[38;5;34m0\u001b[0m][\u001b[38;5;34m0\u001b[0m],  │\n",
       "│ (\u001b[38;5;33mAdd\u001b[0m)               │                   │            │ LayerNorm_GRU2[\u001b[38;5;34m0\u001b[0m… │\n",
       "├─────────────────────┼───────────────────┼────────────┼───────────────────┤\n",
       "│ Dropout_2 (\u001b[38;5;33mDropout\u001b[0m) │ (\u001b[38;5;45mNone\u001b[0m, \u001b[38;5;34m200\u001b[0m, \u001b[38;5;34m256\u001b[0m)  │          \u001b[38;5;34m0\u001b[0m │ Residual_Connect… │\n",
       "├─────────────────────┼───────────────────┼────────────┼───────────────────┤\n",
       "│ Global_Avg_Pooling  │ (\u001b[38;5;45mNone\u001b[0m, \u001b[38;5;34m256\u001b[0m)       │          \u001b[38;5;34m0\u001b[0m │ Dropout_2[\u001b[38;5;34m0\u001b[0m][\u001b[38;5;34m0\u001b[0m]   │\n",
       "│ (\u001b[38;5;33mGlobalAveragePool…\u001b[0m │                   │            │                   │\n",
       "├─────────────────────┼───────────────────┼────────────┼───────────────────┤\n",
       "│ Dense_Layer_1       │ (\u001b[38;5;45mNone\u001b[0m, \u001b[38;5;34m64\u001b[0m)        │     \u001b[38;5;34m16,448\u001b[0m │ Global_Avg_Pooli… │\n",
       "│ (\u001b[38;5;33mDense\u001b[0m)             │                   │            │                   │\n",
       "├─────────────────────┼───────────────────┼────────────┼───────────────────┤\n",
       "│ Dense_Dropout_1     │ (\u001b[38;5;45mNone\u001b[0m, \u001b[38;5;34m64\u001b[0m)        │          \u001b[38;5;34m0\u001b[0m │ Dense_Layer_1[\u001b[38;5;34m0\u001b[0m]… │\n",
       "│ (\u001b[38;5;33mDropout\u001b[0m)           │                   │            │                   │\n",
       "├─────────────────────┼───────────────────┼────────────┼───────────────────┤\n",
       "│ Dense_Layer_2       │ (\u001b[38;5;45mNone\u001b[0m, \u001b[38;5;34m32\u001b[0m)        │      \u001b[38;5;34m2,080\u001b[0m │ Dense_Dropout_1[\u001b[38;5;34m…\u001b[0m │\n",
       "│ (\u001b[38;5;33mDense\u001b[0m)             │                   │            │                   │\n",
       "├─────────────────────┼───────────────────┼────────────┼───────────────────┤\n",
       "│ Dense_Dropout_2     │ (\u001b[38;5;45mNone\u001b[0m, \u001b[38;5;34m32\u001b[0m)        │          \u001b[38;5;34m0\u001b[0m │ Dense_Layer_2[\u001b[38;5;34m0\u001b[0m]… │\n",
       "│ (\u001b[38;5;33mDropout\u001b[0m)           │                   │            │                   │\n",
       "├─────────────────────┼───────────────────┼────────────┼───────────────────┤\n",
       "│ Output_Layer        │ (\u001b[38;5;45mNone\u001b[0m, \u001b[38;5;34m2\u001b[0m)         │         \u001b[38;5;34m66\u001b[0m │ Dense_Dropout_2[\u001b[38;5;34m…\u001b[0m │\n",
       "│ (\u001b[38;5;33mDense\u001b[0m)             │                   │            │                   │\n",
       "└─────────────────────┴───────────────────┴────────────┴───────────────────┘\n"
      ]
     },
     "metadata": {},
     "output_type": "display_data"
    },
    {
     "data": {
      "text/html": [
       "<pre style=\"white-space:pre;overflow-x:auto;line-height:normal;font-family:Menlo,'DejaVu Sans Mono',consolas,'Courier New',monospace\"><span style=\"font-weight: bold\"> Total params: </span><span style=\"color: #00af00; text-decoration-color: #00af00\">1,638,370</span> (6.25 MB)\n",
       "</pre>\n"
      ],
      "text/plain": [
       "\u001b[1m Total params: \u001b[0m\u001b[38;5;34m1,638,370\u001b[0m (6.25 MB)\n"
      ]
     },
     "metadata": {},
     "output_type": "display_data"
    },
    {
     "data": {
      "text/html": [
       "<pre style=\"white-space:pre;overflow-x:auto;line-height:normal;font-family:Menlo,'DejaVu Sans Mono',consolas,'Courier New',monospace\"><span style=\"font-weight: bold\"> Trainable params: </span><span style=\"color: #00af00; text-decoration-color: #00af00\">638,370</span> (2.44 MB)\n",
       "</pre>\n"
      ],
      "text/plain": [
       "\u001b[1m Trainable params: \u001b[0m\u001b[38;5;34m638,370\u001b[0m (2.44 MB)\n"
      ]
     },
     "metadata": {},
     "output_type": "display_data"
    },
    {
     "data": {
      "text/html": [
       "<pre style=\"white-space:pre;overflow-x:auto;line-height:normal;font-family:Menlo,'DejaVu Sans Mono',consolas,'Courier New',monospace\"><span style=\"font-weight: bold\"> Non-trainable params: </span><span style=\"color: #00af00; text-decoration-color: #00af00\">1,000,000</span> (3.81 MB)\n",
       "</pre>\n"
      ],
      "text/plain": [
       "\u001b[1m Non-trainable params: \u001b[0m\u001b[38;5;34m1,000,000\u001b[0m (3.81 MB)\n"
      ]
     },
     "metadata": {},
     "output_type": "display_data"
    }
   ],
   "source": [
    "from tensorflow.keras.models import Model\n",
    "from tensorflow.keras.layers import Input, Embedding, Bidirectional, GRU, Dense, Dropout, LayerNormalization, Add\n",
    "from tensorflow.keras.optimizers import RMSprop\n",
    "\n",
    "# Input layer\n",
    "input_layer = Input(shape=(X.shape[1],), name=\"Input_Layer\")\n",
    "\n",
    "# Embedding layer with pre-trained GloVe weights\n",
    "embedding_layer = Embedding(\n",
    "    input_dim=MAX_NUM_WORDS,\n",
    "    output_dim=EMBEDDING_DIM,\n",
    "    weights=[gensim_weight_matrix],\n",
    "    trainable=False,\n",
    "    name=\"Embedding_Layer\"\n",
    ")(input_layer)\n",
    "\n",
    "# Project embedding output to match GRU output dimensions\n",
    "embedding_projection = Dense(256, name=\"Embedding_Projection\")(embedding_layer)\n",
    "embedding_dropout = Dropout(0.2, name=\"Embedding_Dropout\")(embedding_projection)\n",
    "\n",
    "# Bidirectional GRU Layer 1 with residual connection\n",
    "gru_1 = Bidirectional(GRU(128, return_sequences=True), name=\"BiGRU_1\")(embedding_dropout)\n",
    "gru_1_norm = LayerNormalization(name=\"LayerNorm_GRU1\")(gru_1)\n",
    "residual_1 = Add(name=\"Residual_Connection_1\")([embedding_projection, gru_1_norm])  # Residual connection\n",
    "dropout_1 = Dropout(0.3, name=\"Dropout_1\")(residual_1)\n",
    "\n",
    "# Bidirectional GRU Layer 2 with residual connection\n",
    "gru_2 = Bidirectional(GRU(128, return_sequences=True), name=\"BiGRU_2\")(dropout_1)\n",
    "gru_2_norm = LayerNormalization(name=\"LayerNorm_GRU2\")(gru_2)\n",
    "residual_2 = Add(name=\"Residual_Connection_2\")([dropout_1, gru_2_norm])  # Residual connection\n",
    "dropout_2 = Dropout(0.3, name=\"Dropout_2\")(residual_2)\n",
    "\n",
    "# Global Average Pooling to reduce sequence dimension\n",
    "gap = tf.keras.layers.GlobalAveragePooling1D(name=\"Global_Avg_Pooling\")(dropout_2)\n",
    "\n",
    "# Fully Connected Layers\n",
    "dense_1 = Dense(64, activation='relu', name=\"Dense_Layer_1\")(gap)\n",
    "dense_dropout_1 = Dropout(0.3, name=\"Dense_Dropout_1\")(dense_1)\n",
    "dense_2 = Dense(32, activation='relu', name=\"Dense_Layer_2\")(dense_dropout_1)\n",
    "dense_dropout_2 = Dropout(0.3, name=\"Dense_Dropout_2\")(dense_2)\n",
    "\n",
    "# Output Layer\n",
    "output_layer = Dense(y.shape[1], activation='sigmoid', name=\"Output_Layer\")(dense_dropout_2)\n",
    "\n",
    "# Build the Model\n",
    "model = Model(inputs=input_layer, outputs=output_layer, name=\"Enhanced_BiGRU_Model\")\n",
    "\n",
    "# Compile the Model\n",
    "model.compile(\n",
    "    optimizer=RMSprop(learning_rate=0.001),\n",
    "    loss='binary_crossentropy',\n",
    "    metrics=['accuracy']\n",
    ")\n",
    "\n",
    "# Display Model Summary\n",
    "model.summary()"
   ]
  },
  {
   "cell_type": "code",
   "execution_count": 9,
   "id": "a36cb465",
   "metadata": {
    "execution": {
     "iopub.execute_input": "2024-12-05T22:10:52.188754Z",
     "iopub.status.busy": "2024-12-05T22:10:52.187784Z",
     "iopub.status.idle": "2024-12-05T22:49:13.345048Z",
     "shell.execute_reply": "2024-12-05T22:49:13.344168Z"
    },
    "papermill": {
     "duration": 2304.139527,
     "end_time": "2024-12-05T22:49:15.563406",
     "exception": false,
     "start_time": "2024-12-05T22:10:51.423879",
     "status": "completed"
    },
    "tags": []
   },
   "outputs": [
    {
     "name": "stdout",
     "output_type": "stream",
     "text": [
      "Epoch 1/50\n",
      "\u001b[1m2538/2539\u001b[0m \u001b[32m━━━━━━━━━━━━━━━━━━━\u001b[0m\u001b[37m━\u001b[0m \u001b[1m0s\u001b[0m 59ms/step - accuracy: 0.8356 - loss: 0.3941\n",
      "Epoch 1: val_accuracy improved from -inf to 0.90956, saving model to best_model.weights.h5\n",
      "\u001b[1m2539/2539\u001b[0m \u001b[32m━━━━━━━━━━━━━━━━━━━━\u001b[0m\u001b[37m\u001b[0m \u001b[1m183s\u001b[0m 70ms/step - accuracy: 0.8356 - loss: 0.3940 - val_accuracy: 0.9096 - val_loss: 0.2423\n",
      "Epoch 2/50\n",
      "\u001b[1m2538/2539\u001b[0m \u001b[32m━━━━━━━━━━━━━━━━━━━\u001b[0m\u001b[37m━\u001b[0m \u001b[1m0s\u001b[0m 59ms/step - accuracy: 0.9116 - loss: 0.2397\n",
      "Epoch 2: val_accuracy did not improve from 0.90956\n",
      "\u001b[1m2539/2539\u001b[0m \u001b[32m━━━━━━━━━━━━━━━━━━━━\u001b[0m\u001b[37m\u001b[0m \u001b[1m176s\u001b[0m 69ms/step - accuracy: 0.9116 - loss: 0.2397 - val_accuracy: 0.8902 - val_loss: 0.2881\n",
      "Epoch 3/50\n",
      "\u001b[1m2538/2539\u001b[0m \u001b[32m━━━━━━━━━━━━━━━━━━━\u001b[0m\u001b[37m━\u001b[0m \u001b[1m0s\u001b[0m 59ms/step - accuracy: 0.9218 - loss: 0.2119\n",
      "Epoch 3: val_accuracy improved from 0.90956 to 0.92270, saving model to best_model.weights.h5\n",
      "\u001b[1m2539/2539\u001b[0m \u001b[32m━━━━━━━━━━━━━━━━━━━━\u001b[0m\u001b[37m\u001b[0m \u001b[1m176s\u001b[0m 69ms/step - accuracy: 0.9218 - loss: 0.2119 - val_accuracy: 0.9227 - val_loss: 0.2085\n",
      "Epoch 4/50\n",
      "\u001b[1m2538/2539\u001b[0m \u001b[32m━━━━━━━━━━━━━━━━━━━\u001b[0m\u001b[37m━\u001b[0m \u001b[1m0s\u001b[0m 59ms/step - accuracy: 0.9289 - loss: 0.1952\n",
      "Epoch 4: val_accuracy improved from 0.92270 to 0.92471, saving model to best_model.weights.h5\n",
      "\u001b[1m2539/2539\u001b[0m \u001b[32m━━━━━━━━━━━━━━━━━━━━\u001b[0m\u001b[37m\u001b[0m \u001b[1m177s\u001b[0m 70ms/step - accuracy: 0.9289 - loss: 0.1953 - val_accuracy: 0.9247 - val_loss: 0.2040\n",
      "Epoch 5/50\n",
      "\u001b[1m2538/2539\u001b[0m \u001b[32m━━━━━━━━━━━━━━━━━━━\u001b[0m\u001b[37m━\u001b[0m \u001b[1m0s\u001b[0m 59ms/step - accuracy: 0.9328 - loss: 0.1860\n",
      "Epoch 5: val_accuracy improved from 0.92471 to 0.92893, saving model to best_model.weights.h5\n",
      "\u001b[1m2539/2539\u001b[0m \u001b[32m━━━━━━━━━━━━━━━━━━━━\u001b[0m\u001b[37m\u001b[0m \u001b[1m176s\u001b[0m 69ms/step - accuracy: 0.9328 - loss: 0.1860 - val_accuracy: 0.9289 - val_loss: 0.1929\n",
      "Epoch 6/50\n",
      "\u001b[1m2538/2539\u001b[0m \u001b[32m━━━━━━━━━━━━━━━━━━━\u001b[0m\u001b[37m━\u001b[0m \u001b[1m0s\u001b[0m 59ms/step - accuracy: 0.9357 - loss: 0.1768\n",
      "Epoch 6: val_accuracy did not improve from 0.92893\n",
      "\u001b[1m2539/2539\u001b[0m \u001b[32m━━━━━━━━━━━━━━━━━━━━\u001b[0m\u001b[37m\u001b[0m \u001b[1m176s\u001b[0m 69ms/step - accuracy: 0.9357 - loss: 0.1768 - val_accuracy: 0.9284 - val_loss: 0.1928\n",
      "Epoch 7/50\n",
      "\u001b[1m2538/2539\u001b[0m \u001b[32m━━━━━━━━━━━━━━━━━━━\u001b[0m\u001b[37m━\u001b[0m \u001b[1m0s\u001b[0m 59ms/step - accuracy: 0.9377 - loss: 0.1720\n",
      "Epoch 7: val_accuracy improved from 0.92893 to 0.92971, saving model to best_model.weights.h5\n",
      "\u001b[1m2539/2539\u001b[0m \u001b[32m━━━━━━━━━━━━━━━━━━━━\u001b[0m\u001b[37m\u001b[0m \u001b[1m176s\u001b[0m 69ms/step - accuracy: 0.9377 - loss: 0.1720 - val_accuracy: 0.9297 - val_loss: 0.1894\n",
      "Epoch 8/50\n",
      "\u001b[1m2538/2539\u001b[0m \u001b[32m━━━━━━━━━━━━━━━━━━━\u001b[0m\u001b[37m━\u001b[0m \u001b[1m0s\u001b[0m 59ms/step - accuracy: 0.9401 - loss: 0.1669\n",
      "Epoch 8: val_accuracy did not improve from 0.92971\n",
      "\u001b[1m2539/2539\u001b[0m \u001b[32m━━━━━━━━━━━━━━━━━━━━\u001b[0m\u001b[37m\u001b[0m \u001b[1m177s\u001b[0m 70ms/step - accuracy: 0.9401 - loss: 0.1669 - val_accuracy: 0.9276 - val_loss: 0.1891\n",
      "Epoch 9/50\n",
      "\u001b[1m2538/2539\u001b[0m \u001b[32m━━━━━━━━━━━━━━━━━━━\u001b[0m\u001b[37m━\u001b[0m \u001b[1m0s\u001b[0m 59ms/step - accuracy: 0.9418 - loss: 0.1612\n",
      "Epoch 9: val_accuracy improved from 0.92971 to 0.93110, saving model to best_model.weights.h5\n",
      "\u001b[1m2539/2539\u001b[0m \u001b[32m━━━━━━━━━━━━━━━━━━━━\u001b[0m\u001b[37m\u001b[0m \u001b[1m177s\u001b[0m 70ms/step - accuracy: 0.9418 - loss: 0.1612 - val_accuracy: 0.9311 - val_loss: 0.1895\n",
      "Epoch 10/50\n",
      "\u001b[1m2538/2539\u001b[0m \u001b[32m━━━━━━━━━━━━━━━━━━━\u001b[0m\u001b[37m━\u001b[0m \u001b[1m0s\u001b[0m 59ms/step - accuracy: 0.9428 - loss: 0.1571\n",
      "Epoch 10: val_accuracy did not improve from 0.93110\n",
      "\u001b[1m2539/2539\u001b[0m \u001b[32m━━━━━━━━━━━━━━━━━━━━\u001b[0m\u001b[37m\u001b[0m \u001b[1m176s\u001b[0m 69ms/step - accuracy: 0.9428 - loss: 0.1571 - val_accuracy: 0.9292 - val_loss: 0.1929\n",
      "Epoch 11/50\n",
      "\u001b[1m2538/2539\u001b[0m \u001b[32m━━━━━━━━━━━━━━━━━━━\u001b[0m\u001b[37m━\u001b[0m \u001b[1m0s\u001b[0m 59ms/step - accuracy: 0.9437 - loss: 0.1534\n",
      "Epoch 11: val_accuracy did not improve from 0.93110\n",
      "\u001b[1m2539/2539\u001b[0m \u001b[32m━━━━━━━━━━━━━━━━━━━━\u001b[0m\u001b[37m\u001b[0m \u001b[1m176s\u001b[0m 69ms/step - accuracy: 0.9437 - loss: 0.1534 - val_accuracy: 0.9307 - val_loss: 0.1962\n",
      "Epoch 12/50\n",
      "\u001b[1m2538/2539\u001b[0m \u001b[32m━━━━━━━━━━━━━━━━━━━\u001b[0m\u001b[37m━\u001b[0m \u001b[1m0s\u001b[0m 59ms/step - accuracy: 0.9451 - loss: 0.1508\n",
      "Epoch 12: val_accuracy did not improve from 0.93110\n",
      "\u001b[1m2539/2539\u001b[0m \u001b[32m━━━━━━━━━━━━━━━━━━━━\u001b[0m\u001b[37m\u001b[0m \u001b[1m177s\u001b[0m 70ms/step - accuracy: 0.9451 - loss: 0.1508 - val_accuracy: 0.9278 - val_loss: 0.1892\n",
      "Epoch 13/50\n",
      "\u001b[1m2538/2539\u001b[0m \u001b[32m━━━━━━━━━━━━━━━━━━━\u001b[0m\u001b[37m━\u001b[0m \u001b[1m0s\u001b[0m 59ms/step - accuracy: 0.9458 - loss: 0.1480\n",
      "Epoch 13: val_accuracy did not improve from 0.93110\n",
      "\u001b[1m2539/2539\u001b[0m \u001b[32m━━━━━━━━━━━━━━━━━━━━\u001b[0m\u001b[37m\u001b[0m \u001b[1m176s\u001b[0m 69ms/step - accuracy: 0.9458 - loss: 0.1480 - val_accuracy: 0.9291 - val_loss: 0.2047\n",
      "Epoch 13: early stopping\n",
      "Best weights loaded from best_model.weights.h5\n",
      "Full model saved as best_model.keras\n",
      "Full model saved as best_model.h5\n"
     ]
    }
   ],
   "source": [
    "from tensorflow.keras.models import load_model\n",
    "\n",
    "# EarlyStopping and ModelCheckpoint for saving weights\n",
    "es = EarlyStopping(monitor='val_loss', mode='min', verbose=1, patience=5)\n",
    "mc = ModelCheckpoint('best_model.weights.h5', monitor='val_accuracy', mode='max', verbose=1, save_best_only=True, save_weights_only=True)\n",
    "\n",
    "# Train the model\n",
    "history = model.fit(\n",
    "    X_train,\n",
    "    y_train,\n",
    "    validation_data=(X_test, y_test),\n",
    "    epochs=50,\n",
    "    batch_size=64,\n",
    "    callbacks=[es, mc]\n",
    ")\n",
    "\n",
    "# After training, load the best weights\n",
    "model.load_weights('best_model.weights.h5')\n",
    "print(\"Best weights loaded from best_model.weights.h5\")\n",
    "\n",
    "# Save the full model to .keras format\n",
    "model.save('best_model.keras')\n",
    "print(\"Full model saved as best_model.keras\")\n",
    "\n",
    "# Convert the .keras file to .h5\n",
    "model.save('best_model.h5', save_format='h5')\n",
    "print(\"Full model saved as best_model.h5\")\n"
   ]
  },
  {
   "cell_type": "markdown",
   "id": "544fdeeb",
   "metadata": {
    "papermill": {
     "duration": 2.371315,
     "end_time": "2024-12-05T22:49:20.391372",
     "exception": false,
     "start_time": "2024-12-05T22:49:18.020057",
     "status": "completed"
    },
    "tags": []
   },
   "source": [
    "### Model Evaluation"
   ]
  },
  {
   "cell_type": "code",
   "execution_count": 10,
   "id": "a78978db",
   "metadata": {
    "execution": {
     "iopub.execute_input": "2024-12-05T22:49:25.234117Z",
     "iopub.status.busy": "2024-12-05T22:49:25.233767Z",
     "iopub.status.idle": "2024-12-05T22:49:25.784477Z",
     "shell.execute_reply": "2024-12-05T22:49:25.783624Z"
    },
    "papermill": {
     "duration": 3.006974,
     "end_time": "2024-12-05T22:49:25.786427",
     "exception": false,
     "start_time": "2024-12-05T22:49:22.779453",
     "status": "completed"
    },
    "tags": []
   },
   "outputs": [
    {
     "data": {
      "image/png": "[encoded data removed]",
      "text/plain": [
       "<Figure size 1200x500 with 2 Axes>"
      ]
     },
     "metadata": {},
     "output_type": "display_data"
    }
   ],
   "source": [
    "import matplotlib.pyplot as plt\n",
    "\n",
    "# Plot for accuracy\n",
    "plt.figure(figsize=(12, 5))\n",
    "\n",
    "# Subplot for accuracy\n",
    "plt.subplot(1, 2, 1)\n",
    "plt.plot(history.history['accuracy'], label='Train Accuracy')  # Training accuracy\n",
    "plt.plot(history.history['val_accuracy'], label='Validation Accuracy')  # Validation accuracy\n",
    "plt.title('Accuracy per Epoch')  # Title of the plot\n",
    "plt.xlabel('Epochs')  # X-axis label\n",
    "plt.ylabel('Accuracy')  # Y-axis label\n",
    "plt.legend()  # Display legend\n",
    "\n",
    "# Subplot for loss\n",
    "plt.subplot(1, 2, 2)\n",
    "plt.plot(history.history['loss'], label='Train Loss')  # Training loss\n",
    "plt.plot(history.history['val_loss'], label='Validation Loss')  # Validation loss\n",
    "plt.title('Loss per Epoch')  # Title of the plot\n",
    "plt.xlabel('Epochs')  # X-axis label\n",
    "plt.ylabel('Loss')  # Y-axis label\n",
    "plt.legend()  # Display legend\n",
    "\n",
    "# Display the plot\n",
    "plt.tight_layout()  # Adjust layout for better fit\n",
    "plt.show()  # Show the plots"
   ]
  },
  {
   "cell_type": "code",
   "execution_count": 11,
   "id": "45506051",
   "metadata": {
    "execution": {
     "iopub.execute_input": "2024-12-05T22:49:30.561046Z",
     "iopub.status.busy": "2024-12-05T22:49:30.560175Z",
     "iopub.status.idle": "2024-12-05T22:50:17.400443Z",
     "shell.execute_reply": "2024-12-05T22:50:17.399563Z"
    },
    "papermill": {
     "duration": 49.193213,
     "end_time": "2024-12-05T22:50:17.402314",
     "exception": false,
     "start_time": "2024-12-05T22:49:28.209101",
     "status": "completed"
    },
    "tags": []
   },
   "outputs": [
    {
     "name": "stdout",
     "output_type": "stream",
     "text": [
      "\u001b[1m2176/2176\u001b[0m \u001b[32m━━━━━━━━━━━━━━━━━━━━\u001b[0m\u001b[37m\u001b[0m \u001b[1m46s\u001b[0m 21ms/step\n",
      "              precision    recall  f1-score   support\n",
      "\n",
      "     suicide       0.94      0.93      0.93     34824\n",
      " non-suicide       0.93      0.94      0.93     34799\n",
      "\n",
      "    accuracy                           0.93     69623\n",
      "   macro avg       0.93      0.93      0.93     69623\n",
      "weighted avg       0.93      0.93      0.93     69623\n",
      "\n"
     ]
    }
   ],
   "source": [
    "from sklearn.metrics import classification_report\n",
    "\n",
    "# Get model predictions\n",
    "y_pred = model.predict(X_test)\n",
    "\n",
    "# Convert predictions and labels from one-hot encoding to integer labels\n",
    "y_pred_labels = np.argmax(y_pred, axis=1)\n",
    "y_test_labels = np.argmax(y_test, axis=1)\n",
    "\n",
    "# Generate the classification report\n",
    "report = classification_report(y_test_labels, y_pred_labels, target_names=df['class'].unique())\n",
    "\n",
    "# Print the classification report\n",
    "print(report)"
   ]
  }
 ],
 "metadata": {
  "kaggle": {
   "accelerator": "gpu",
   "dataSources": [
    {
     "datasetId": 1075326,
     "sourceId": 2250642,
     "sourceType": "datasetVersion"
    },
    {
     "datasetId": 6205385,
     "sourceId": 10068293,
     "sourceType": "datasetVersion"
    }
   ],
   "dockerImageVersionId": 30787,
   "isGpuEnabled": true,
   "isInternetEnabled": true,
   "language": "python",
   "sourceType": "notebook"
  },
  "kernelspec": {
   "display_name": "Python 3",
   "language": "python",
   "name": "python3"
  },
  "language_info": {
   "codemirror_mode": {
    "name": "ipython",
    "version": 3
   },
   "file_extension": ".py",
   "mimetype": "text/x-python",
   "name": "python",
   "nbconvert_exporter": "python",
   "pygments_lexer": "ipython3",
   "version": "3.10.14"
  },
  "papermill": {
   "default_parameters": {},
   "duration": 2496.865334,
   "end_time": "2024-12-05T22:50:23.268199",
   "environment_variables": {},
   "exception": null,
   "input_path": "__notebook__.ipynb",
   "output_path": "__notebook__.ipynb",
   "parameters": {},
   "start_time": "2024-12-05T22:08:46.402865",
   "version": "2.6.0"
  }
 },
 "nbformat": 4,
 "nbformat_minor": 5
}
