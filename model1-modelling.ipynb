{
 "cells": [
  {
   "cell_type": "markdown",
   "id": "5ef6e51f",
   "metadata": {
    "papermill": {
     "duration": 0.003811,
     "end_time": "2024-12-05T17:32:29.794472",
     "exception": false,
     "start_time": "2024-12-05T17:32:29.790661",
     "status": "completed"
    },
    "tags": []
   },
   "source": [
    "### Read the Data"
   ]
  },
  {
   "cell_type": "code",
   "execution_count": 1,
   "id": "6e451f53",
   "metadata": {
    "execution": {
     "iopub.execute_input": "2024-12-05T17:32:29.802309Z",
     "iopub.status.busy": "2024-12-05T17:32:29.801957Z",
     "iopub.status.idle": "2024-12-05T17:32:47.680171Z",
     "shell.execute_reply": "2024-12-05T17:32:47.679292Z"
    },
    "papermill": {
     "duration": 17.884943,
     "end_time": "2024-12-05T17:32:47.682705",
     "exception": false,
     "start_time": "2024-12-05T17:32:29.797762",
     "status": "completed"
    },
    "tags": []
   },
   "outputs": [],
   "source": [
    "# Import Libraries\n",
    "import pandas as pd\n",
    "from sklearn.preprocessing import LabelEncoder\n",
    "from transformers import BertTokenizer, TFBertModel\n",
    "from sklearn.model_selection import train_test_split\n",
    "from tensorflow.keras.models import Model\n",
    "from tensorflow.keras.layers import Input, GRU, Dense, Dropout, BatchNormalization\n",
    "from tensorflow.keras.callbacks import EarlyStopping, ModelCheckpoint\n",
    "import tensorflow as tf"
   ]
  },
  {
   "cell_type": "code",
   "execution_count": 2,
   "id": "5159a0fc",
   "metadata": {
    "execution": {
     "iopub.execute_input": "2024-12-05T17:32:47.695352Z",
     "iopub.status.busy": "2024-12-05T17:32:47.694813Z",
     "iopub.status.idle": "2024-12-05T17:33:12.888110Z",
     "shell.execute_reply": "2024-12-05T17:33:12.887383Z"
    },
    "papermill": {
     "duration": 25.201688,
     "end_time": "2024-12-05T17:33:12.890264",
     "exception": false,
     "start_time": "2024-12-05T17:32:47.688576",
     "status": "completed"
    },
    "tags": []
   },
   "outputs": [],
   "source": [
    "import pandas as pd\n",
    "import ast\n",
    "\n",
    "# Read data from CSV\n",
    "file_path = '/kaggle/input/suicidal-dataset/clean_dataset.csv'\n",
    "df = pd.read_csv(file_path)\n",
    "\n",
    "# Convert string literals to Python lists\n",
    "df['text'] = df['text'].apply(lambda x: ast.literal_eval(x) if isinstance(x, str) else x)\n",
    "\n",
    "# Join lists into sentences\n",
    "df['text'] = df['text'].apply(lambda x: ' '.join(x) if isinstance(x, list) else x)\n",
    "\n",
    "\n"
   ]
  },
  {
   "cell_type": "code",
   "execution_count": 3,
   "id": "ac5b9bdf",
   "metadata": {
    "execution": {
     "iopub.execute_input": "2024-12-05T17:33:12.897764Z",
     "iopub.status.busy": "2024-12-05T17:33:12.897480Z",
     "iopub.status.idle": "2024-12-05T17:33:12.909035Z",
     "shell.execute_reply": "2024-12-05T17:33:12.908198Z"
    },
    "papermill": {
     "duration": 0.016854,
     "end_time": "2024-12-05T17:33:12.910495",
     "exception": false,
     "start_time": "2024-12-05T17:33:12.893641",
     "status": "completed"
    },
    "tags": []
   },
   "outputs": [
    {
     "data": {
      "text/html": [
       "<div>\n",
       "<style scoped>\n",
       "    .dataframe tbody tr th:only-of-type {\n",
       "        vertical-align: middle;\n",
       "    }\n",
       "\n",
       "    .dataframe tbody tr th {\n",
       "        vertical-align: top;\n",
       "    }\n",
       "\n",
       "    .dataframe thead th {\n",
       "        text-align: right;\n",
       "    }\n",
       "</style>\n",
       "<table border=\"1\" class=\"dataframe\">\n",
       "  <thead>\n",
       "    <tr style=\"text-align: right;\">\n",
       "      <th></th>\n",
       "      <th>Unnamed: 0</th>\n",
       "      <th>text</th>\n",
       "      <th>class</th>\n",
       "    </tr>\n",
       "  </thead>\n",
       "  <tbody>\n",
       "    <tr>\n",
       "      <th>0</th>\n",
       "      <td>2</td>\n",
       "      <td>ex wife threaten suicide recently leave wife g...</td>\n",
       "      <td>suicide</td>\n",
       "    </tr>\n",
       "    <tr>\n",
       "      <th>1</th>\n",
       "      <td>3</td>\n",
       "      <td>weird get affect li come someone know feel rea...</td>\n",
       "      <td>non-suicide</td>\n",
       "    </tr>\n",
       "    <tr>\n",
       "      <th>2</th>\n",
       "      <td>4</td>\n",
       "      <td>finally almost never hear bad year ever swear ...</td>\n",
       "      <td>non-suicide</td>\n",
       "    </tr>\n",
       "    <tr>\n",
       "      <th>3</th>\n",
       "      <td>8</td>\n",
       "      <td>need help help cry hard</td>\n",
       "      <td>suicide</td>\n",
       "    </tr>\n",
       "    <tr>\n",
       "      <th>4</th>\n",
       "      <td>9</td>\n",
       "      <td>lose hello name struggle year afraid past year...</td>\n",
       "      <td>suicide</td>\n",
       "    </tr>\n",
       "  </tbody>\n",
       "</table>\n",
       "</div>"
      ],
      "text/plain": [
       "   Unnamed: 0                                               text        class\n",
       "0           2  ex wife threaten suicide recently leave wife g...      suicide\n",
       "1           3  weird get affect li come someone know feel rea...  non-suicide\n",
       "2           4  finally almost never hear bad year ever swear ...  non-suicide\n",
       "3           8                            need help help cry hard      suicide\n",
       "4           9  lose hello name struggle year afraid past year...      suicide"
      ]
     },
     "execution_count": 3,
     "metadata": {},
     "output_type": "execute_result"
    }
   ],
   "source": [
    "df.head()"
   ]
  },
  {
   "cell_type": "code",
   "execution_count": null,
   "id": "50a7e616",
   "metadata": {
    "papermill": {
     "duration": 0.002963,
     "end_time": "2024-12-05T17:33:12.917783",
     "exception": false,
     "start_time": "2024-12-05T17:33:12.914820",
     "status": "completed"
    },
    "tags": []
   },
   "outputs": [],
   "source": []
  },
  {
   "cell_type": "markdown",
   "id": "165e88b4",
   "metadata": {
    "papermill": {
     "duration": 0.002906,
     "end_time": "2024-12-05T17:33:12.923723",
     "exception": false,
     "start_time": "2024-12-05T17:33:12.920817",
     "status": "completed"
    },
    "tags": []
   },
   "source": [
    "## Modelling"
   ]
  },
  {
   "cell_type": "markdown",
   "id": "471bd0c5",
   "metadata": {
    "papermill": {
     "duration": 0.002895,
     "end_time": "2024-12-05T17:33:12.929715",
     "exception": false,
     "start_time": "2024-12-05T17:33:12.926820",
     "status": "completed"
    },
    "tags": []
   },
   "source": [
    "### Tokenization"
   ]
  },
  {
   "cell_type": "code",
   "execution_count": 4,
   "id": "35f1cd46",
   "metadata": {
    "execution": {
     "iopub.execute_input": "2024-12-05T17:33:12.937115Z",
     "iopub.status.busy": "2024-12-05T17:33:12.936619Z",
     "iopub.status.idle": "2024-12-05T17:34:04.048871Z",
     "shell.execute_reply": "2024-12-05T17:34:04.047932Z"
    },
    "papermill": {
     "duration": 51.118244,
     "end_time": "2024-12-05T17:34:04.050975",
     "exception": false,
     "start_time": "2024-12-05T17:33:12.932731",
     "status": "completed"
    },
    "tags": []
   },
   "outputs": [],
   "source": [
    "from tensorflow.keras.preprocessing.text import Tokenizer\n",
    "from tensorflow.keras.preprocessing.sequence import pad_sequences\n",
    "import gensim.downloader as api\n",
    "import numpy as np\n",
    "from sklearn.model_selection import train_test_split\n",
    "from keras.models import Sequential\n",
    "from keras.layers import Embedding, Dropout, Dense\n",
    "from keras.layers import GRU\n",
    "from keras.callbacks import EarlyStopping, ModelCheckpoint\n",
    "from tensorflow.keras.models import Sequential\n",
    "from tensorflow.keras.layers import Embedding, GRU, Dense, Dropout, Bidirectional, Input\n",
    "\n",
    "# Configuration\n",
    "EMBEDDING_DIM = 100  # Dimension of word embeddings\n",
    "MAX_NUM_WORDS = 20000  # Maximum number of unique words\n",
    "MAX_SEQUENCE_LENGTH = 200  # Fixed sequence length for all input data\n",
    "\n",
    "# Combine tokens back into a string to process with the Tokenizer\n",
    "df['text'] = df['text'].apply(lambda tokens: \" \".join(tokens))\n",
    "\n",
    "# Tokenizer: Train and convert text to sequences\n",
    "tokenizer = Tokenizer(num_words=MAX_NUM_WORDS, lower=True)  # Limit vocabulary size and convert to lowercase\n",
    "tokenizer.fit_on_texts(df['text'])  # Learn the vocabulary from the text data\n",
    "X = tokenizer.texts_to_sequences(df['text'])  # Convert text to numerical sequences\n",
    "\n",
    "# Pad sequences to ensure uniform length\n",
    "X = pad_sequences(X, maxlen=MAX_SEQUENCE_LENGTH, padding='post')  # Add padding at the end of sequences\n"
   ]
  },
  {
   "cell_type": "code",
   "execution_count": 5,
   "id": "13010e6b",
   "metadata": {
    "execution": {
     "iopub.execute_input": "2024-12-05T17:34:04.059053Z",
     "iopub.status.busy": "2024-12-05T17:34:04.058746Z",
     "iopub.status.idle": "2024-12-05T17:34:04.064170Z",
     "shell.execute_reply": "2024-12-05T17:34:04.063340Z"
    },
    "papermill": {
     "duration": 0.011129,
     "end_time": "2024-12-05T17:34:04.065756",
     "exception": false,
     "start_time": "2024-12-05T17:34:04.054627",
     "status": "completed"
    },
    "tags": []
   },
   "outputs": [
    {
     "name": "stdout",
     "output_type": "stream",
     "text": [
      "Tokenizer has been saved to tokenizer.pkl\n"
     ]
    }
   ],
   "source": [
    "import pickle\n",
    "\n",
    "# Save the tokenizer to a .pkl file\n",
    "with open('tokenizer.pkl', 'wb') as file:\n",
    "    pickle.dump(tokenizer, file)\n",
    "print(\"Tokenizer has been saved to tokenizer.pkl\")\n"
   ]
  },
  {
   "cell_type": "code",
   "execution_count": 6,
   "id": "bc25d6bb",
   "metadata": {
    "execution": {
     "iopub.execute_input": "2024-12-05T17:34:04.073467Z",
     "iopub.status.busy": "2024-12-05T17:34:04.072925Z",
     "iopub.status.idle": "2024-12-05T17:34:04.158610Z",
     "shell.execute_reply": "2024-12-05T17:34:04.157904Z"
    },
    "papermill": {
     "duration": 0.091552,
     "end_time": "2024-12-05T17:34:04.160548",
     "exception": false,
     "start_time": "2024-12-05T17:34:04.068996",
     "status": "completed"
    },
    "tags": []
   },
   "outputs": [],
   "source": [
    "# Convert labels to one-hot encoding\n",
    "y = pd.get_dummies(df['class']).values  # Transform class labels into a binary matrix\n",
    "\n",
    "# Split data into training and testing sets\n",
    "X_train, X_test, y_train, y_test = train_test_split(X, y, test_size=0.3, random_state=42)\n",
    "# `test_size=0.3` allocates 30% of the data for testing, 70% for training\n",
    "# `random_state=42` ensures reproducibility of the split"
   ]
  },
  {
   "cell_type": "markdown",
   "id": "3a76b02f",
   "metadata": {
    "papermill": {
     "duration": 0.00318,
     "end_time": "2024-12-05T17:34:04.167407",
     "exception": false,
     "start_time": "2024-12-05T17:34:04.164227",
     "status": "completed"
    },
    "tags": []
   },
   "source": [
    "### Word Embedding"
   ]
  },
  {
   "cell_type": "code",
   "execution_count": 7,
   "id": "c0085843",
   "metadata": {
    "execution": {
     "iopub.execute_input": "2024-12-05T17:34:04.175942Z",
     "iopub.status.busy": "2024-12-05T17:34:04.175271Z",
     "iopub.status.idle": "2024-12-05T17:34:44.328091Z",
     "shell.execute_reply": "2024-12-05T17:34:44.327389Z"
    },
    "papermill": {
     "duration": 40.159816,
     "end_time": "2024-12-05T17:34:44.330434",
     "exception": false,
     "start_time": "2024-12-05T17:34:04.170618",
     "status": "completed"
    },
    "tags": []
   },
   "outputs": [
    {
     "name": "stdout",
     "output_type": "stream",
     "text": [
      "[==================================================] 100.0% 128.1/128.1MB downloaded\n"
     ]
    }
   ],
   "source": [
    "# Download and load pre-trained GloVe embeddings (100 dimensions)\n",
    "glove_gensim = api.load('glove-wiki-gigaword-100')\n",
    "\n",
    "# Create a weight matrix for the embedding layer\n",
    "gensim_weight_matrix = np.zeros((MAX_NUM_WORDS, EMBEDDING_DIM))  # Initialize with zeros\n",
    "\n",
    "# Populate the weight matrix with GloVe vectors for words in the tokenizer's vocabulary\n",
    "for word, index in tokenizer.word_index.items():\n",
    "    if index < MAX_NUM_WORDS:  # Ensure the index is within the specified maximum word limit\n",
    "        if word in glove_gensim.index_to_key:  # Check if the word exists in the GloVe vocabulary\n",
    "            gensim_weight_matrix[index] = glove_gensim[word]  # Assign the GloVe vector\n",
    "        else:\n",
    "            gensim_weight_matrix[index] = np.zeros(EMBEDDING_DIM)  # Assign a zero vector if the word is not found"
   ]
  },
  {
   "cell_type": "markdown",
   "id": "e4d38523",
   "metadata": {
    "papermill": {
     "duration": 0.790128,
     "end_time": "2024-12-05T17:34:45.932763",
     "exception": false,
     "start_time": "2024-12-05T17:34:45.142635",
     "status": "completed"
    },
    "tags": []
   },
   "source": [
    "### Model Building"
   ]
  },
  {
   "cell_type": "code",
   "execution_count": 8,
   "id": "5ba089ad",
   "metadata": {
    "execution": {
     "iopub.execute_input": "2024-12-05T17:34:47.416429Z",
     "iopub.status.busy": "2024-12-05T17:34:47.416083Z",
     "iopub.status.idle": "2024-12-05T17:34:48.713770Z",
     "shell.execute_reply": "2024-12-05T17:34:48.712972Z"
    },
    "papermill": {
     "duration": 2.013164,
     "end_time": "2024-12-05T17:34:48.715427",
     "exception": false,
     "start_time": "2024-12-05T17:34:46.702263",
     "status": "completed"
    },
    "tags": []
   },
   "outputs": [
    {
     "data": {
      "text/html": [
       "<pre style=\"white-space:pre;overflow-x:auto;line-height:normal;font-family:Menlo,'DejaVu Sans Mono',consolas,'Courier New',monospace\"><span style=\"font-weight: bold\">Model: \"Enhanced_BiGRU_Model\"</span>\n",
       "</pre>\n"
      ],
      "text/plain": [
       "\u001b[1mModel: \"Enhanced_BiGRU_Model\"\u001b[0m\n"
      ]
     },
     "metadata": {},
     "output_type": "display_data"
    },
    {
     "data": {
      "text/html": [
       "<pre style=\"white-space:pre;overflow-x:auto;line-height:normal;font-family:Menlo,'DejaVu Sans Mono',consolas,'Courier New',monospace\">┏━━━━━━━━━━━━━━━━━━━━━┳━━━━━━━━━━━━━━━━━━━┳━━━━━━━━━━━━┳━━━━━━━━━━━━━━━━━━━┓\n",
       "┃<span style=\"font-weight: bold\"> Layer (type)        </span>┃<span style=\"font-weight: bold\"> Output Shape      </span>┃<span style=\"font-weight: bold\">    Param # </span>┃<span style=\"font-weight: bold\"> Connected to      </span>┃\n",
       "┡━━━━━━━━━━━━━━━━━━━━━╇━━━━━━━━━━━━━━━━━━━╇━━━━━━━━━━━━╇━━━━━━━━━━━━━━━━━━━┩\n",
       "│ Input_Layer         │ (<span style=\"color: #00d7ff; text-decoration-color: #00d7ff\">None</span>, <span style=\"color: #00af00; text-decoration-color: #00af00\">200</span>)       │          <span style=\"color: #00af00; text-decoration-color: #00af00\">0</span> │ -                 │\n",
       "│ (<span style=\"color: #0087ff; text-decoration-color: #0087ff\">InputLayer</span>)        │                   │            │                   │\n",
       "├─────────────────────┼───────────────────┼────────────┼───────────────────┤\n",
       "│ Embedding_Layer     │ (<span style=\"color: #00d7ff; text-decoration-color: #00d7ff\">None</span>, <span style=\"color: #00af00; text-decoration-color: #00af00\">200</span>, <span style=\"color: #00af00; text-decoration-color: #00af00\">100</span>)  │  <span style=\"color: #00af00; text-decoration-color: #00af00\">2,000,000</span> │ Input_Layer[<span style=\"color: #00af00; text-decoration-color: #00af00\">0</span>][<span style=\"color: #00af00; text-decoration-color: #00af00\">0</span>] │\n",
       "│ (<span style=\"color: #0087ff; text-decoration-color: #0087ff\">Embedding</span>)         │                   │            │                   │\n",
       "├─────────────────────┼───────────────────┼────────────┼───────────────────┤\n",
       "│ Embedding_Projecti… │ (<span style=\"color: #00d7ff; text-decoration-color: #00d7ff\">None</span>, <span style=\"color: #00af00; text-decoration-color: #00af00\">200</span>, <span style=\"color: #00af00; text-decoration-color: #00af00\">256</span>)  │     <span style=\"color: #00af00; text-decoration-color: #00af00\">25,856</span> │ Embedding_Layer[<span style=\"color: #00af00; text-decoration-color: #00af00\">…</span> │\n",
       "│ (<span style=\"color: #0087ff; text-decoration-color: #0087ff\">Dense</span>)             │                   │            │                   │\n",
       "├─────────────────────┼───────────────────┼────────────┼───────────────────┤\n",
       "│ Embedding_Dropout   │ (<span style=\"color: #00d7ff; text-decoration-color: #00d7ff\">None</span>, <span style=\"color: #00af00; text-decoration-color: #00af00\">200</span>, <span style=\"color: #00af00; text-decoration-color: #00af00\">256</span>)  │          <span style=\"color: #00af00; text-decoration-color: #00af00\">0</span> │ Embedding_Projec… │\n",
       "│ (<span style=\"color: #0087ff; text-decoration-color: #0087ff\">Dropout</span>)           │                   │            │                   │\n",
       "├─────────────────────┼───────────────────┼────────────┼───────────────────┤\n",
       "│ BiGRU_1             │ (<span style=\"color: #00d7ff; text-decoration-color: #00d7ff\">None</span>, <span style=\"color: #00af00; text-decoration-color: #00af00\">200</span>, <span style=\"color: #00af00; text-decoration-color: #00af00\">256</span>)  │    <span style=\"color: #00af00; text-decoration-color: #00af00\">296,448</span> │ Embedding_Dropou… │\n",
       "│ (<span style=\"color: #0087ff; text-decoration-color: #0087ff\">Bidirectional</span>)     │                   │            │                   │\n",
       "├─────────────────────┼───────────────────┼────────────┼───────────────────┤\n",
       "│ LayerNorm_GRU1      │ (<span style=\"color: #00d7ff; text-decoration-color: #00d7ff\">None</span>, <span style=\"color: #00af00; text-decoration-color: #00af00\">200</span>, <span style=\"color: #00af00; text-decoration-color: #00af00\">256</span>)  │        <span style=\"color: #00af00; text-decoration-color: #00af00\">512</span> │ BiGRU_1[<span style=\"color: #00af00; text-decoration-color: #00af00\">0</span>][<span style=\"color: #00af00; text-decoration-color: #00af00\">0</span>]     │\n",
       "│ (<span style=\"color: #0087ff; text-decoration-color: #0087ff\">LayerNormalizatio…</span> │                   │            │                   │\n",
       "├─────────────────────┼───────────────────┼────────────┼───────────────────┤\n",
       "│ Residual_Connectio… │ (<span style=\"color: #00d7ff; text-decoration-color: #00d7ff\">None</span>, <span style=\"color: #00af00; text-decoration-color: #00af00\">200</span>, <span style=\"color: #00af00; text-decoration-color: #00af00\">256</span>)  │          <span style=\"color: #00af00; text-decoration-color: #00af00\">0</span> │ Embedding_Projec… │\n",
       "│ (<span style=\"color: #0087ff; text-decoration-color: #0087ff\">Add</span>)               │                   │            │ LayerNorm_GRU1[<span style=\"color: #00af00; text-decoration-color: #00af00\">0</span>… │\n",
       "├─────────────────────┼───────────────────┼────────────┼───────────────────┤\n",
       "│ Dropout_1 (<span style=\"color: #0087ff; text-decoration-color: #0087ff\">Dropout</span>) │ (<span style=\"color: #00d7ff; text-decoration-color: #00d7ff\">None</span>, <span style=\"color: #00af00; text-decoration-color: #00af00\">200</span>, <span style=\"color: #00af00; text-decoration-color: #00af00\">256</span>)  │          <span style=\"color: #00af00; text-decoration-color: #00af00\">0</span> │ Residual_Connect… │\n",
       "├─────────────────────┼───────────────────┼────────────┼───────────────────┤\n",
       "│ BiGRU_2             │ (<span style=\"color: #00d7ff; text-decoration-color: #00d7ff\">None</span>, <span style=\"color: #00af00; text-decoration-color: #00af00\">200</span>, <span style=\"color: #00af00; text-decoration-color: #00af00\">256</span>)  │    <span style=\"color: #00af00; text-decoration-color: #00af00\">296,448</span> │ Dropout_1[<span style=\"color: #00af00; text-decoration-color: #00af00\">0</span>][<span style=\"color: #00af00; text-decoration-color: #00af00\">0</span>]   │\n",
       "│ (<span style=\"color: #0087ff; text-decoration-color: #0087ff\">Bidirectional</span>)     │                   │            │                   │\n",
       "├─────────────────────┼───────────────────┼────────────┼───────────────────┤\n",
       "│ LayerNorm_GRU2      │ (<span style=\"color: #00d7ff; text-decoration-color: #00d7ff\">None</span>, <span style=\"color: #00af00; text-decoration-color: #00af00\">200</span>, <span style=\"color: #00af00; text-decoration-color: #00af00\">256</span>)  │        <span style=\"color: #00af00; text-decoration-color: #00af00\">512</span> │ BiGRU_2[<span style=\"color: #00af00; text-decoration-color: #00af00\">0</span>][<span style=\"color: #00af00; text-decoration-color: #00af00\">0</span>]     │\n",
       "│ (<span style=\"color: #0087ff; text-decoration-color: #0087ff\">LayerNormalizatio…</span> │                   │            │                   │\n",
       "├─────────────────────┼───────────────────┼────────────┼───────────────────┤\n",
       "│ Residual_Connectio… │ (<span style=\"color: #00d7ff; text-decoration-color: #00d7ff\">None</span>, <span style=\"color: #00af00; text-decoration-color: #00af00\">200</span>, <span style=\"color: #00af00; text-decoration-color: #00af00\">256</span>)  │          <span style=\"color: #00af00; text-decoration-color: #00af00\">0</span> │ Dropout_1[<span style=\"color: #00af00; text-decoration-color: #00af00\">0</span>][<span style=\"color: #00af00; text-decoration-color: #00af00\">0</span>],  │\n",
       "│ (<span style=\"color: #0087ff; text-decoration-color: #0087ff\">Add</span>)               │                   │            │ LayerNorm_GRU2[<span style=\"color: #00af00; text-decoration-color: #00af00\">0</span>… │\n",
       "├─────────────────────┼───────────────────┼────────────┼───────────────────┤\n",
       "│ Dropout_2 (<span style=\"color: #0087ff; text-decoration-color: #0087ff\">Dropout</span>) │ (<span style=\"color: #00d7ff; text-decoration-color: #00d7ff\">None</span>, <span style=\"color: #00af00; text-decoration-color: #00af00\">200</span>, <span style=\"color: #00af00; text-decoration-color: #00af00\">256</span>)  │          <span style=\"color: #00af00; text-decoration-color: #00af00\">0</span> │ Residual_Connect… │\n",
       "├─────────────────────┼───────────────────┼────────────┼───────────────────┤\n",
       "│ Global_Avg_Pooling  │ (<span style=\"color: #00d7ff; text-decoration-color: #00d7ff\">None</span>, <span style=\"color: #00af00; text-decoration-color: #00af00\">256</span>)       │          <span style=\"color: #00af00; text-decoration-color: #00af00\">0</span> │ Dropout_2[<span style=\"color: #00af00; text-decoration-color: #00af00\">0</span>][<span style=\"color: #00af00; text-decoration-color: #00af00\">0</span>]   │\n",
       "│ (<span style=\"color: #0087ff; text-decoration-color: #0087ff\">GlobalAveragePool…</span> │                   │            │                   │\n",
       "├─────────────────────┼───────────────────┼────────────┼───────────────────┤\n",
       "│ Dense_Layer_1       │ (<span style=\"color: #00d7ff; text-decoration-color: #00d7ff\">None</span>, <span style=\"color: #00af00; text-decoration-color: #00af00\">64</span>)        │     <span style=\"color: #00af00; text-decoration-color: #00af00\">16,448</span> │ Global_Avg_Pooli… │\n",
       "│ (<span style=\"color: #0087ff; text-decoration-color: #0087ff\">Dense</span>)             │                   │            │                   │\n",
       "├─────────────────────┼───────────────────┼────────────┼───────────────────┤\n",
       "│ Dense_Dropout_1     │ (<span style=\"color: #00d7ff; text-decoration-color: #00d7ff\">None</span>, <span style=\"color: #00af00; text-decoration-color: #00af00\">64</span>)        │          <span style=\"color: #00af00; text-decoration-color: #00af00\">0</span> │ Dense_Layer_1[<span style=\"color: #00af00; text-decoration-color: #00af00\">0</span>]… │\n",
       "│ (<span style=\"color: #0087ff; text-decoration-color: #0087ff\">Dropout</span>)           │                   │            │                   │\n",
       "├─────────────────────┼───────────────────┼────────────┼───────────────────┤\n",
       "│ Dense_Layer_2       │ (<span style=\"color: #00d7ff; text-decoration-color: #00d7ff\">None</span>, <span style=\"color: #00af00; text-decoration-color: #00af00\">32</span>)        │      <span style=\"color: #00af00; text-decoration-color: #00af00\">2,080</span> │ Dense_Dropout_1[<span style=\"color: #00af00; text-decoration-color: #00af00\">…</span> │\n",
       "│ (<span style=\"color: #0087ff; text-decoration-color: #0087ff\">Dense</span>)             │                   │            │                   │\n",
       "├─────────────────────┼───────────────────┼────────────┼───────────────────┤\n",
       "│ Dense_Dropout_2     │ (<span style=\"color: #00d7ff; text-decoration-color: #00d7ff\">None</span>, <span style=\"color: #00af00; text-decoration-color: #00af00\">32</span>)        │          <span style=\"color: #00af00; text-decoration-color: #00af00\">0</span> │ Dense_Layer_2[<span style=\"color: #00af00; text-decoration-color: #00af00\">0</span>]… │\n",
       "│ (<span style=\"color: #0087ff; text-decoration-color: #0087ff\">Dropout</span>)           │                   │            │                   │\n",
       "├─────────────────────┼───────────────────┼────────────┼───────────────────┤\n",
       "│ Output_Layer        │ (<span style=\"color: #00d7ff; text-decoration-color: #00d7ff\">None</span>, <span style=\"color: #00af00; text-decoration-color: #00af00\">2</span>)         │         <span style=\"color: #00af00; text-decoration-color: #00af00\">66</span> │ Dense_Dropout_2[<span style=\"color: #00af00; text-decoration-color: #00af00\">…</span> │\n",
       "│ (<span style=\"color: #0087ff; text-decoration-color: #0087ff\">Dense</span>)             │                   │            │                   │\n",
       "└─────────────────────┴───────────────────┴────────────┴───────────────────┘\n",
       "</pre>\n"
      ],
      "text/plain": [
       "┏━━━━━━━━━━━━━━━━━━━━━┳━━━━━━━━━━━━━━━━━━━┳━━━━━━━━━━━━┳━━━━━━━━━━━━━━━━━━━┓\n",
       "┃\u001b[1m \u001b[0m\u001b[1mLayer (type)       \u001b[0m\u001b[1m \u001b[0m┃\u001b[1m \u001b[0m\u001b[1mOutput Shape     \u001b[0m\u001b[1m \u001b[0m┃\u001b[1m \u001b[0m\u001b[1m   Param #\u001b[0m\u001b[1m \u001b[0m┃\u001b[1m \u001b[0m\u001b[1mConnected to     \u001b[0m\u001b[1m \u001b[0m┃\n",
       "┡━━━━━━━━━━━━━━━━━━━━━╇━━━━━━━━━━━━━━━━━━━╇━━━━━━━━━━━━╇━━━━━━━━━━━━━━━━━━━┩\n",
       "│ Input_Layer         │ (\u001b[38;5;45mNone\u001b[0m, \u001b[38;5;34m200\u001b[0m)       │          \u001b[38;5;34m0\u001b[0m │ -                 │\n",
       "│ (\u001b[38;5;33mInputLayer\u001b[0m)        │                   │            │                   │\n",
       "├─────────────────────┼───────────────────┼────────────┼───────────────────┤\n",
       "│ Embedding_Layer     │ (\u001b[38;5;45mNone\u001b[0m, \u001b[38;5;34m200\u001b[0m, \u001b[38;5;34m100\u001b[0m)  │  \u001b[38;5;34m2,000,000\u001b[0m │ Input_Layer[\u001b[38;5;34m0\u001b[0m][\u001b[38;5;34m0\u001b[0m] │\n",
       "│ (\u001b[38;5;33mEmbedding\u001b[0m)         │                   │            │                   │\n",
       "├─────────────────────┼───────────────────┼────────────┼───────────────────┤\n",
       "│ Embedding_Projecti… │ (\u001b[38;5;45mNone\u001b[0m, \u001b[38;5;34m200\u001b[0m, \u001b[38;5;34m256\u001b[0m)  │     \u001b[38;5;34m25,856\u001b[0m │ Embedding_Layer[\u001b[38;5;34m…\u001b[0m │\n",
       "│ (\u001b[38;5;33mDense\u001b[0m)             │                   │            │                   │\n",
       "├─────────────────────┼───────────────────┼────────────┼───────────────────┤\n",
       "│ Embedding_Dropout   │ (\u001b[38;5;45mNone\u001b[0m, \u001b[38;5;34m200\u001b[0m, \u001b[38;5;34m256\u001b[0m)  │          \u001b[38;5;34m0\u001b[0m │ Embedding_Projec… │\n",
       "│ (\u001b[38;5;33mDropout\u001b[0m)           │                   │            │                   │\n",
       "├─────────────────────┼───────────────────┼────────────┼───────────────────┤\n",
       "│ BiGRU_1             │ (\u001b[38;5;45mNone\u001b[0m, \u001b[38;5;34m200\u001b[0m, \u001b[38;5;34m256\u001b[0m)  │    \u001b[38;5;34m296,448\u001b[0m │ Embedding_Dropou… │\n",
       "│ (\u001b[38;5;33mBidirectional\u001b[0m)     │                   │            │                   │\n",
       "├─────────────────────┼───────────────────┼────────────┼───────────────────┤\n",
       "│ LayerNorm_GRU1      │ (\u001b[38;5;45mNone\u001b[0m, \u001b[38;5;34m200\u001b[0m, \u001b[38;5;34m256\u001b[0m)  │        \u001b[38;5;34m512\u001b[0m │ BiGRU_1[\u001b[38;5;34m0\u001b[0m][\u001b[38;5;34m0\u001b[0m]     │\n",
       "│ (\u001b[38;5;33mLayerNormalizatio…\u001b[0m │                   │            │                   │\n",
       "├─────────────────────┼───────────────────┼────────────┼───────────────────┤\n",
       "│ Residual_Connectio… │ (\u001b[38;5;45mNone\u001b[0m, \u001b[38;5;34m200\u001b[0m, \u001b[38;5;34m256\u001b[0m)  │          \u001b[38;5;34m0\u001b[0m │ Embedding_Projec… │\n",
       "│ (\u001b[38;5;33mAdd\u001b[0m)               │                   │            │ LayerNorm_GRU1[\u001b[38;5;34m0\u001b[0m… │\n",
       "├─────────────────────┼───────────────────┼────────────┼───────────────────┤\n",
       "│ Dropout_1 (\u001b[38;5;33mDropout\u001b[0m) │ (\u001b[38;5;45mNone\u001b[0m, \u001b[38;5;34m200\u001b[0m, \u001b[38;5;34m256\u001b[0m)  │          \u001b[38;5;34m0\u001b[0m │ Residual_Connect… │\n",
       "├─────────────────────┼───────────────────┼────────────┼───────────────────┤\n",
       "│ BiGRU_2             │ (\u001b[38;5;45mNone\u001b[0m, \u001b[38;5;34m200\u001b[0m, \u001b[38;5;34m256\u001b[0m)  │    \u001b[38;5;34m296,448\u001b[0m │ Dropout_1[\u001b[38;5;34m0\u001b[0m][\u001b[38;5;34m0\u001b[0m]   │\n",
       "│ (\u001b[38;5;33mBidirectional\u001b[0m)     │                   │            │                   │\n",
       "├─────────────────────┼───────────────────┼────────────┼───────────────────┤\n",
       "│ LayerNorm_GRU2      │ (\u001b[38;5;45mNone\u001b[0m, \u001b[38;5;34m200\u001b[0m, \u001b[38;5;34m256\u001b[0m)  │        \u001b[38;5;34m512\u001b[0m │ BiGRU_2[\u001b[38;5;34m0\u001b[0m][\u001b[38;5;34m0\u001b[0m]     │\n",
       "│ (\u001b[38;5;33mLayerNormalizatio…\u001b[0m │                   │            │                   │\n",
       "├─────────────────────┼───────────────────┼────────────┼───────────────────┤\n",
       "│ Residual_Connectio… │ (\u001b[38;5;45mNone\u001b[0m, \u001b[38;5;34m200\u001b[0m, \u001b[38;5;34m256\u001b[0m)  │          \u001b[38;5;34m0\u001b[0m │ Dropout_1[\u001b[38;5;34m0\u001b[0m][\u001b[38;5;34m0\u001b[0m],  │\n",
       "│ (\u001b[38;5;33mAdd\u001b[0m)               │                   │            │ LayerNorm_GRU2[\u001b[38;5;34m0\u001b[0m… │\n",
       "├─────────────────────┼───────────────────┼────────────┼───────────────────┤\n",
       "│ Dropout_2 (\u001b[38;5;33mDropout\u001b[0m) │ (\u001b[38;5;45mNone\u001b[0m, \u001b[38;5;34m200\u001b[0m, \u001b[38;5;34m256\u001b[0m)  │          \u001b[38;5;34m0\u001b[0m │ Residual_Connect… │\n",
       "├─────────────────────┼───────────────────┼────────────┼───────────────────┤\n",
       "│ Global_Avg_Pooling  │ (\u001b[38;5;45mNone\u001b[0m, \u001b[38;5;34m256\u001b[0m)       │          \u001b[38;5;34m0\u001b[0m │ Dropout_2[\u001b[38;5;34m0\u001b[0m][\u001b[38;5;34m0\u001b[0m]   │\n",
       "│ (\u001b[38;5;33mGlobalAveragePool…\u001b[0m │                   │            │                   │\n",
       "├─────────────────────┼───────────────────┼────────────┼───────────────────┤\n",
       "│ Dense_Layer_1       │ (\u001b[38;5;45mNone\u001b[0m, \u001b[38;5;34m64\u001b[0m)        │     \u001b[38;5;34m16,448\u001b[0m │ Global_Avg_Pooli… │\n",
       "│ (\u001b[38;5;33mDense\u001b[0m)             │                   │            │                   │\n",
       "├─────────────────────┼───────────────────┼────────────┼───────────────────┤\n",
       "│ Dense_Dropout_1     │ (\u001b[38;5;45mNone\u001b[0m, \u001b[38;5;34m64\u001b[0m)        │          \u001b[38;5;34m0\u001b[0m │ Dense_Layer_1[\u001b[38;5;34m0\u001b[0m]… │\n",
       "│ (\u001b[38;5;33mDropout\u001b[0m)           │                   │            │                   │\n",
       "├─────────────────────┼───────────────────┼────────────┼───────────────────┤\n",
       "│ Dense_Layer_2       │ (\u001b[38;5;45mNone\u001b[0m, \u001b[38;5;34m32\u001b[0m)        │      \u001b[38;5;34m2,080\u001b[0m │ Dense_Dropout_1[\u001b[38;5;34m…\u001b[0m │\n",
       "│ (\u001b[38;5;33mDense\u001b[0m)             │                   │            │                   │\n",
       "├─────────────────────┼───────────────────┼────────────┼───────────────────┤\n",
       "│ Dense_Dropout_2     │ (\u001b[38;5;45mNone\u001b[0m, \u001b[38;5;34m32\u001b[0m)        │          \u001b[38;5;34m0\u001b[0m │ Dense_Layer_2[\u001b[38;5;34m0\u001b[0m]… │\n",
       "│ (\u001b[38;5;33mDropout\u001b[0m)           │                   │            │                   │\n",
       "├─────────────────────┼───────────────────┼────────────┼───────────────────┤\n",
       "│ Output_Layer        │ (\u001b[38;5;45mNone\u001b[0m, \u001b[38;5;34m2\u001b[0m)         │         \u001b[38;5;34m66\u001b[0m │ Dense_Dropout_2[\u001b[38;5;34m…\u001b[0m │\n",
       "│ (\u001b[38;5;33mDense\u001b[0m)             │                   │            │                   │\n",
       "└─────────────────────┴───────────────────┴────────────┴───────────────────┘\n"
      ]
     },
     "metadata": {},
     "output_type": "display_data"
    },
    {
     "data": {
      "text/html": [
       "<pre style=\"white-space:pre;overflow-x:auto;line-height:normal;font-family:Menlo,'DejaVu Sans Mono',consolas,'Courier New',monospace\"><span style=\"font-weight: bold\"> Total params: </span><span style=\"color: #00af00; text-decoration-color: #00af00\">2,638,370</span> (10.06 MB)\n",
       "</pre>\n"
      ],
      "text/plain": [
       "\u001b[1m Total params: \u001b[0m\u001b[38;5;34m2,638,370\u001b[0m (10.06 MB)\n"
      ]
     },
     "metadata": {},
     "output_type": "display_data"
    },
    {
     "data": {
      "text/html": [
       "<pre style=\"white-space:pre;overflow-x:auto;line-height:normal;font-family:Menlo,'DejaVu Sans Mono',consolas,'Courier New',monospace\"><span style=\"font-weight: bold\"> Trainable params: </span><span style=\"color: #00af00; text-decoration-color: #00af00\">638,370</span> (2.44 MB)\n",
       "</pre>\n"
      ],
      "text/plain": [
       "\u001b[1m Trainable params: \u001b[0m\u001b[38;5;34m638,370\u001b[0m (2.44 MB)\n"
      ]
     },
     "metadata": {},
     "output_type": "display_data"
    },
    {
     "data": {
      "text/html": [
       "<pre style=\"white-space:pre;overflow-x:auto;line-height:normal;font-family:Menlo,'DejaVu Sans Mono',consolas,'Courier New',monospace\"><span style=\"font-weight: bold\"> Non-trainable params: </span><span style=\"color: #00af00; text-decoration-color: #00af00\">2,000,000</span> (7.63 MB)\n",
       "</pre>\n"
      ],
      "text/plain": [
       "\u001b[1m Non-trainable params: \u001b[0m\u001b[38;5;34m2,000,000\u001b[0m (7.63 MB)\n"
      ]
     },
     "metadata": {},
     "output_type": "display_data"
    }
   ],
   "source": [
    "from tensorflow.keras.models import Model\n",
    "from tensorflow.keras.layers import Input, Embedding, Bidirectional, GRU, Dense, Dropout, LayerNormalization, Add\n",
    "from tensorflow.keras.optimizers import RMSprop\n",
    "\n",
    "# Input layer\n",
    "input_layer = Input(shape=(X.shape[1],), name=\"Input_Layer\")\n",
    "\n",
    "# Embedding layer with pre-trained GloVe weights\n",
    "embedding_layer = Embedding(\n",
    "    input_dim=MAX_NUM_WORDS,\n",
    "    output_dim=EMBEDDING_DIM,\n",
    "    weights=[gensim_weight_matrix],\n",
    "    trainable=False,\n",
    "    name=\"Embedding_Layer\"\n",
    ")(input_layer)\n",
    "\n",
    "# Project embedding output to match GRU output dimensions\n",
    "embedding_projection = Dense(256, name=\"Embedding_Projection\")(embedding_layer)\n",
    "embedding_dropout = Dropout(0.2, name=\"Embedding_Dropout\")(embedding_projection)\n",
    "\n",
    "# Bidirectional GRU Layer 1 with residual connection\n",
    "gru_1 = Bidirectional(GRU(128, return_sequences=True), name=\"BiGRU_1\")(embedding_dropout)\n",
    "gru_1_norm = LayerNormalization(name=\"LayerNorm_GRU1\")(gru_1)\n",
    "residual_1 = Add(name=\"Residual_Connection_1\")([embedding_projection, gru_1_norm])  # Residual connection\n",
    "dropout_1 = Dropout(0.3, name=\"Dropout_1\")(residual_1)\n",
    "\n",
    "# Bidirectional GRU Layer 2 with residual connection\n",
    "gru_2 = Bidirectional(GRU(128, return_sequences=True), name=\"BiGRU_2\")(dropout_1)\n",
    "gru_2_norm = LayerNormalization(name=\"LayerNorm_GRU2\")(gru_2)\n",
    "residual_2 = Add(name=\"Residual_Connection_2\")([dropout_1, gru_2_norm])  # Residual connection\n",
    "dropout_2 = Dropout(0.3, name=\"Dropout_2\")(residual_2)\n",
    "\n",
    "# Global Average Pooling to reduce sequence dimension\n",
    "gap = tf.keras.layers.GlobalAveragePooling1D(name=\"Global_Avg_Pooling\")(dropout_2)\n",
    "\n",
    "# Fully Connected Layers\n",
    "dense_1 = Dense(64, activation='relu', name=\"Dense_Layer_1\")(gap)\n",
    "dense_dropout_1 = Dropout(0.3, name=\"Dense_Dropout_1\")(dense_1)\n",
    "dense_2 = Dense(32, activation='relu', name=\"Dense_Layer_2\")(dense_dropout_1)\n",
    "dense_dropout_2 = Dropout(0.3, name=\"Dense_Dropout_2\")(dense_2)\n",
    "\n",
    "# Output Layer\n",
    "output_layer = Dense(y.shape[1], activation='sigmoid', name=\"Output_Layer\")(dense_dropout_2)\n",
    "\n",
    "# Build the Model\n",
    "model = Model(inputs=input_layer, outputs=output_layer, name=\"Enhanced_BiGRU_Model\")\n",
    "\n",
    "# Compile the Model\n",
    "model.compile(\n",
    "    optimizer=RMSprop(learning_rate=0.001),\n",
    "    loss='binary_crossentropy',\n",
    "    metrics=['accuracy']\n",
    ")\n",
    "\n",
    "# Display Model Summary\n",
    "model.summary()"
   ]
  },
  {
   "cell_type": "markdown",
   "id": "ea16e7c7",
   "metadata": {
    "papermill": {
     "duration": 0.772798,
     "end_time": "2024-12-05T17:34:50.266647",
     "exception": false,
     "start_time": "2024-12-05T17:34:49.493849",
     "status": "completed"
    },
    "tags": []
   },
   "source": [
    "### Train the Model"
   ]
  },
  {
   "cell_type": "code",
   "execution_count": 9,
   "id": "17c6d3eb",
   "metadata": {
    "execution": {
     "iopub.execute_input": "2024-12-05T17:34:51.739115Z",
     "iopub.status.busy": "2024-12-05T17:34:51.738745Z",
     "iopub.status.idle": "2024-12-05T18:42:49.056814Z",
     "shell.execute_reply": "2024-12-05T18:42:49.056002Z"
    },
    "papermill": {
     "duration": 4081.541245,
     "end_time": "2024-12-05T18:42:52.521071",
     "exception": false,
     "start_time": "2024-12-05T17:34:50.979826",
     "status": "completed"
    },
    "tags": []
   },
   "outputs": [
    {
     "name": "stdout",
     "output_type": "stream",
     "text": [
      "Epoch 1/50\n",
      "\u001b[1m2538/2539\u001b[0m \u001b[32m━━━━━━━━━━━━━━━━━━━\u001b[0m\u001b[37m━\u001b[0m \u001b[1m0s\u001b[0m 60ms/step - accuracy: 0.7442 - loss: 0.5602\n",
      "Epoch 1: val_accuracy improved from -inf to 0.84132, saving model to best_model.weights.h5\n",
      "\u001b[1m2539/2539\u001b[0m \u001b[32m━━━━━━━━━━━━━━━━━━━━\u001b[0m\u001b[37m\u001b[0m \u001b[1m184s\u001b[0m 70ms/step - accuracy: 0.7442 - loss: 0.5602 - val_accuracy: 0.8413 - val_loss: 0.3827\n",
      "Epoch 2/50\n",
      "\u001b[1m2538/2539\u001b[0m \u001b[32m━━━━━━━━━━━━━━━━━━━\u001b[0m\u001b[37m━\u001b[0m \u001b[1m0s\u001b[0m 59ms/step - accuracy: 0.8479 - loss: 0.3691\n",
      "Epoch 2: val_accuracy improved from 0.84132 to 0.85737, saving model to best_model.weights.h5\n",
      "\u001b[1m2539/2539\u001b[0m \u001b[32m━━━━━━━━━━━━━━━━━━━━\u001b[0m\u001b[37m\u001b[0m \u001b[1m177s\u001b[0m 70ms/step - accuracy: 0.8479 - loss: 0.3691 - val_accuracy: 0.8574 - val_loss: 0.3341\n",
      "Epoch 3/50\n",
      "\u001b[1m2538/2539\u001b[0m \u001b[32m━━━━━━━━━━━━━━━━━━━\u001b[0m\u001b[37m━\u001b[0m \u001b[1m0s\u001b[0m 59ms/step - accuracy: 0.8738 - loss: 0.3148\n",
      "Epoch 3: val_accuracy improved from 0.85737 to 0.88747, saving model to best_model.weights.h5\n",
      "\u001b[1m2539/2539\u001b[0m \u001b[32m━━━━━━━━━━━━━━━━━━━━\u001b[0m\u001b[37m\u001b[0m \u001b[1m177s\u001b[0m 70ms/step - accuracy: 0.8738 - loss: 0.3148 - val_accuracy: 0.8875 - val_loss: 0.2890\n",
      "Epoch 4/50\n",
      "\u001b[1m2538/2539\u001b[0m \u001b[32m━━━━━━━━━━━━━━━━━━━\u001b[0m\u001b[37m━\u001b[0m \u001b[1m0s\u001b[0m 59ms/step - accuracy: 0.8902 - loss: 0.2832\n",
      "Epoch 4: val_accuracy improved from 0.88747 to 0.89300, saving model to best_model.weights.h5\n",
      "\u001b[1m2539/2539\u001b[0m \u001b[32m━━━━━━━━━━━━━━━━━━━━\u001b[0m\u001b[37m\u001b[0m \u001b[1m177s\u001b[0m 70ms/step - accuracy: 0.8902 - loss: 0.2832 - val_accuracy: 0.8930 - val_loss: 0.2736\n",
      "Epoch 5/50\n",
      "\u001b[1m2538/2539\u001b[0m \u001b[32m━━━━━━━━━━━━━━━━━━━\u001b[0m\u001b[37m━\u001b[0m \u001b[1m0s\u001b[0m 59ms/step - accuracy: 0.8952 - loss: 0.2703\n",
      "Epoch 5: val_accuracy did not improve from 0.89300\n",
      "\u001b[1m2539/2539\u001b[0m \u001b[32m━━━━━━━━━━━━━━━━━━━━\u001b[0m\u001b[37m\u001b[0m \u001b[1m176s\u001b[0m 69ms/step - accuracy: 0.8952 - loss: 0.2703 - val_accuracy: 0.8922 - val_loss: 0.2797\n",
      "Epoch 6/50\n",
      "\u001b[1m2538/2539\u001b[0m \u001b[32m━━━━━━━━━━━━━━━━━━━\u001b[0m\u001b[37m━\u001b[0m \u001b[1m0s\u001b[0m 59ms/step - accuracy: 0.9010 - loss: 0.2560\n",
      "Epoch 6: val_accuracy did not improve from 0.89300\n",
      "\u001b[1m2539/2539\u001b[0m \u001b[32m━━━━━━━━━━━━━━━━━━━━\u001b[0m\u001b[37m\u001b[0m \u001b[1m177s\u001b[0m 70ms/step - accuracy: 0.9010 - loss: 0.2560 - val_accuracy: 0.8888 - val_loss: 0.2981\n",
      "Epoch 7/50\n",
      "\u001b[1m2538/2539\u001b[0m \u001b[32m━━━━━━━━━━━━━━━━━━━\u001b[0m\u001b[37m━\u001b[0m \u001b[1m0s\u001b[0m 59ms/step - accuracy: 0.9030 - loss: 0.2525\n",
      "Epoch 7: val_accuracy improved from 0.89300 to 0.90436, saving model to best_model.weights.h5\n",
      "\u001b[1m2539/2539\u001b[0m \u001b[32m━━━━━━━━━━━━━━━━━━━━\u001b[0m\u001b[37m\u001b[0m \u001b[1m177s\u001b[0m 70ms/step - accuracy: 0.9030 - loss: 0.2525 - val_accuracy: 0.9044 - val_loss: 0.2455\n",
      "Epoch 8/50\n",
      "\u001b[1m2538/2539\u001b[0m \u001b[32m━━━━━━━━━━━━━━━━━━━\u001b[0m\u001b[37m━\u001b[0m \u001b[1m0s\u001b[0m 59ms/step - accuracy: 0.9061 - loss: 0.2455\n",
      "Epoch 8: val_accuracy did not improve from 0.90436\n",
      "\u001b[1m2539/2539\u001b[0m \u001b[32m━━━━━━━━━━━━━━━━━━━━\u001b[0m\u001b[37m\u001b[0m \u001b[1m177s\u001b[0m 70ms/step - accuracy: 0.9061 - loss: 0.2455 - val_accuracy: 0.9038 - val_loss: 0.2448\n",
      "Epoch 9/50\n",
      "\u001b[1m2538/2539\u001b[0m \u001b[32m━━━━━━━━━━━━━━━━━━━\u001b[0m\u001b[37m━\u001b[0m \u001b[1m0s\u001b[0m 59ms/step - accuracy: 0.9076 - loss: 0.2416\n",
      "Epoch 9: val_accuracy did not improve from 0.90436\n",
      "\u001b[1m2539/2539\u001b[0m \u001b[32m━━━━━━━━━━━━━━━━━━━━\u001b[0m\u001b[37m\u001b[0m \u001b[1m177s\u001b[0m 70ms/step - accuracy: 0.9076 - loss: 0.2416 - val_accuracy: 0.8969 - val_loss: 0.2701\n",
      "Epoch 10/50\n",
      "\u001b[1m2538/2539\u001b[0m \u001b[32m━━━━━━━━━━━━━━━━━━━\u001b[0m\u001b[37m━\u001b[0m \u001b[1m0s\u001b[0m 59ms/step - accuracy: 0.9100 - loss: 0.2353\n",
      "Epoch 10: val_accuracy did not improve from 0.90436\n",
      "\u001b[1m2539/2539\u001b[0m \u001b[32m━━━━━━━━━━━━━━━━━━━━\u001b[0m\u001b[37m\u001b[0m \u001b[1m177s\u001b[0m 70ms/step - accuracy: 0.9100 - loss: 0.2353 - val_accuracy: 0.8995 - val_loss: 0.2615\n",
      "Epoch 11/50\n",
      "\u001b[1m2538/2539\u001b[0m \u001b[32m━━━━━━━━━━━━━━━━━━━\u001b[0m\u001b[37m━\u001b[0m \u001b[1m0s\u001b[0m 59ms/step - accuracy: 0.9133 - loss: 0.2312\n",
      "Epoch 11: val_accuracy did not improve from 0.90436\n",
      "\u001b[1m2539/2539\u001b[0m \u001b[32m━━━━━━━━━━━━━━━━━━━━\u001b[0m\u001b[37m\u001b[0m \u001b[1m177s\u001b[0m 70ms/step - accuracy: 0.9133 - loss: 0.2312 - val_accuracy: 0.8924 - val_loss: 0.2782\n",
      "Epoch 12/50\n",
      "\u001b[1m2538/2539\u001b[0m \u001b[32m━━━━━━━━━━━━━━━━━━━\u001b[0m\u001b[37m━\u001b[0m \u001b[1m0s\u001b[0m 59ms/step - accuracy: 0.9145 - loss: 0.2266\n",
      "Epoch 12: val_accuracy did not improve from 0.90436\n",
      "\u001b[1m2539/2539\u001b[0m \u001b[32m━━━━━━━━━━━━━━━━━━━━\u001b[0m\u001b[37m\u001b[0m \u001b[1m177s\u001b[0m 70ms/step - accuracy: 0.9145 - loss: 0.2266 - val_accuracy: 0.9020 - val_loss: 0.2613\n",
      "Epoch 13/50\n",
      "\u001b[1m2538/2539\u001b[0m \u001b[32m━━━━━━━━━━━━━━━━━━━\u001b[0m\u001b[37m━\u001b[0m \u001b[1m0s\u001b[0m 59ms/step - accuracy: 0.9141 - loss: 0.2247\n",
      "Epoch 13: val_accuracy improved from 0.90436 to 0.90519, saving model to best_model.weights.h5\n",
      "\u001b[1m2539/2539\u001b[0m \u001b[32m━━━━━━━━━━━━━━━━━━━━\u001b[0m\u001b[37m\u001b[0m \u001b[1m177s\u001b[0m 70ms/step - accuracy: 0.9141 - loss: 0.2248 - val_accuracy: 0.9052 - val_loss: 0.2429\n",
      "Epoch 14/50\n",
      "\u001b[1m2538/2539\u001b[0m \u001b[32m━━━━━━━━━━━━━━━━━━━\u001b[0m\u001b[37m━\u001b[0m \u001b[1m0s\u001b[0m 59ms/step - accuracy: 0.9147 - loss: 0.2262\n",
      "Epoch 14: val_accuracy did not improve from 0.90519\n",
      "\u001b[1m2539/2539\u001b[0m \u001b[32m━━━━━━━━━━━━━━━━━━━━\u001b[0m\u001b[37m\u001b[0m \u001b[1m177s\u001b[0m 70ms/step - accuracy: 0.9147 - loss: 0.2262 - val_accuracy: 0.8837 - val_loss: 0.2864\n",
      "Epoch 15/50\n",
      "\u001b[1m2538/2539\u001b[0m \u001b[32m━━━━━━━━━━━━━━━━━━━\u001b[0m\u001b[37m━\u001b[0m \u001b[1m0s\u001b[0m 59ms/step - accuracy: 0.9150 - loss: 0.2240\n",
      "Epoch 15: val_accuracy improved from 0.90519 to 0.90706, saving model to best_model.weights.h5\n",
      "\u001b[1m2539/2539\u001b[0m \u001b[32m━━━━━━━━━━━━━━━━━━━━\u001b[0m\u001b[37m\u001b[0m \u001b[1m177s\u001b[0m 70ms/step - accuracy: 0.9150 - loss: 0.2240 - val_accuracy: 0.9071 - val_loss: 0.2486\n",
      "Epoch 16/50\n",
      "\u001b[1m2538/2539\u001b[0m \u001b[32m━━━━━━━━━━━━━━━━━━━\u001b[0m\u001b[37m━\u001b[0m \u001b[1m0s\u001b[0m 59ms/step - accuracy: 0.9172 - loss: 0.2207\n",
      "Epoch 16: val_accuracy improved from 0.90706 to 0.90904, saving model to best_model.weights.h5\n",
      "\u001b[1m2539/2539\u001b[0m \u001b[32m━━━━━━━━━━━━━━━━━━━━\u001b[0m\u001b[37m\u001b[0m \u001b[1m177s\u001b[0m 70ms/step - accuracy: 0.9172 - loss: 0.2207 - val_accuracy: 0.9090 - val_loss: 0.2407\n",
      "Epoch 17/50\n",
      "\u001b[1m2538/2539\u001b[0m \u001b[32m━━━━━━━━━━━━━━━━━━━\u001b[0m\u001b[37m━\u001b[0m \u001b[1m0s\u001b[0m 59ms/step - accuracy: 0.9167 - loss: 0.2198\n",
      "Epoch 17: val_accuracy did not improve from 0.90904\n",
      "\u001b[1m2539/2539\u001b[0m \u001b[32m━━━━━━━━━━━━━━━━━━━━\u001b[0m\u001b[37m\u001b[0m \u001b[1m177s\u001b[0m 70ms/step - accuracy: 0.9167 - loss: 0.2198 - val_accuracy: 0.9051 - val_loss: 0.2648\n",
      "Epoch 18/50\n",
      "\u001b[1m2538/2539\u001b[0m \u001b[32m━━━━━━━━━━━━━━━━━━━\u001b[0m\u001b[37m━\u001b[0m \u001b[1m0s\u001b[0m 59ms/step - accuracy: 0.9188 - loss: 0.2194\n",
      "Epoch 18: val_accuracy did not improve from 0.90904\n",
      "\u001b[1m2539/2539\u001b[0m \u001b[32m━━━━━━━━━━━━━━━━━━━━\u001b[0m\u001b[37m\u001b[0m \u001b[1m177s\u001b[0m 70ms/step - accuracy: 0.9188 - loss: 0.2194 - val_accuracy: 0.9084 - val_loss: 0.2378\n",
      "Epoch 19/50\n",
      "\u001b[1m2538/2539\u001b[0m \u001b[32m━━━━━━━━━━━━━━━━━━━\u001b[0m\u001b[37m━\u001b[0m \u001b[1m0s\u001b[0m 59ms/step - accuracy: 0.9184 - loss: 0.2178\n",
      "Epoch 19: val_accuracy did not improve from 0.90904\n",
      "\u001b[1m2539/2539\u001b[0m \u001b[32m━━━━━━━━━━━━━━━━━━━━\u001b[0m\u001b[37m\u001b[0m \u001b[1m177s\u001b[0m 70ms/step - accuracy: 0.9184 - loss: 0.2178 - val_accuracy: 0.8978 - val_loss: 0.2591\n",
      "Epoch 20/50\n",
      "\u001b[1m2538/2539\u001b[0m \u001b[32m━━━━━━━━━━━━━━━━━━━\u001b[0m\u001b[37m━\u001b[0m \u001b[1m0s\u001b[0m 59ms/step - accuracy: 0.9189 - loss: 0.2158\n",
      "Epoch 20: val_accuracy did not improve from 0.90904\n",
      "\u001b[1m2539/2539\u001b[0m \u001b[32m━━━━━━━━━━━━━━━━━━━━\u001b[0m\u001b[37m\u001b[0m \u001b[1m177s\u001b[0m 70ms/step - accuracy: 0.9189 - loss: 0.2158 - val_accuracy: 0.9048 - val_loss: 0.2450\n",
      "Epoch 21/50\n",
      "\u001b[1m2538/2539\u001b[0m \u001b[32m━━━━━━━━━━━━━━━━━━━\u001b[0m\u001b[37m━\u001b[0m \u001b[1m0s\u001b[0m 59ms/step - accuracy: 0.9188 - loss: 0.2148\n",
      "Epoch 21: val_accuracy did not improve from 0.90904\n",
      "\u001b[1m2539/2539\u001b[0m \u001b[32m━━━━━━━━━━━━━━━━━━━━\u001b[0m\u001b[37m\u001b[0m \u001b[1m176s\u001b[0m 69ms/step - accuracy: 0.9188 - loss: 0.2148 - val_accuracy: 0.9048 - val_loss: 0.2637\n",
      "Epoch 22/50\n",
      "\u001b[1m2538/2539\u001b[0m \u001b[32m━━━━━━━━━━━━━━━━━━━\u001b[0m\u001b[37m━\u001b[0m \u001b[1m0s\u001b[0m 59ms/step - accuracy: 0.9196 - loss: 0.2150\n",
      "Epoch 22: val_accuracy did not improve from 0.90904\n",
      "\u001b[1m2539/2539\u001b[0m \u001b[32m━━━━━━━━━━━━━━━━━━━━\u001b[0m\u001b[37m\u001b[0m \u001b[1m177s\u001b[0m 70ms/step - accuracy: 0.9196 - loss: 0.2150 - val_accuracy: 0.9069 - val_loss: 0.2525\n",
      "Epoch 23/50\n",
      "\u001b[1m2538/2539\u001b[0m \u001b[32m━━━━━━━━━━━━━━━━━━━\u001b[0m\u001b[37m━\u001b[0m \u001b[1m0s\u001b[0m 59ms/step - accuracy: 0.9169 - loss: 0.2188\n",
      "Epoch 23: val_accuracy did not improve from 0.90904\n",
      "\u001b[1m2539/2539\u001b[0m \u001b[32m━━━━━━━━━━━━━━━━━━━━\u001b[0m\u001b[37m\u001b[0m \u001b[1m177s\u001b[0m 70ms/step - accuracy: 0.9169 - loss: 0.2188 - val_accuracy: 0.9065 - val_loss: 0.2413\n",
      "Epoch 23: early stopping\n",
      "Best weights loaded from best_model.weights.h5\n",
      "Full model saved as best_model.keras\n",
      "Full model saved as best_model.h5\n"
     ]
    }
   ],
   "source": [
    "from tensorflow.keras.models import load_model\n",
    "\n",
    "# EarlyStopping and ModelCheckpoint for saving weights\n",
    "es = EarlyStopping(monitor='val_loss', mode='min', verbose=1, patience=5)\n",
    "mc = ModelCheckpoint('best_model.weights.h5', monitor='val_accuracy', mode='max', verbose=1, save_best_only=True, save_weights_only=True)\n",
    "\n",
    "# Train the model\n",
    "history = model.fit(\n",
    "    X_train,\n",
    "    y_train,\n",
    "    validation_data=(X_test, y_test),\n",
    "    epochs=50,\n",
    "    batch_size=64,\n",
    "    callbacks=[es, mc]\n",
    ")\n",
    "\n",
    "# After training, load the best weights\n",
    "model.load_weights('best_model.weights.h5')\n",
    "print(\"Best weights loaded from best_model.weights.h5\")\n",
    "\n",
    "# Save the full model to .keras format\n",
    "model.save('best_model.keras')\n",
    "print(\"Full model saved as best_model.keras\")\n",
    "\n",
    "# Convert the .keras file to .h5\n",
    "model.save('best_model.h5', save_format='h5')\n",
    "print(\"Full model saved as best_model.h5\")\n"
   ]
  },
  {
   "cell_type": "markdown",
   "id": "96b7b75a",
   "metadata": {
    "papermill": {
     "duration": 3.767099,
     "end_time": "2024-12-05T18:43:00.083351",
     "exception": false,
     "start_time": "2024-12-05T18:42:56.316252",
     "status": "completed"
    },
    "tags": []
   },
   "source": [
    "### Model Evaluation"
   ]
  },
  {
   "cell_type": "code",
   "execution_count": 10,
   "id": "df63d3b0",
   "metadata": {
    "execution": {
     "iopub.execute_input": "2024-12-05T18:43:07.447485Z",
     "iopub.status.busy": "2024-12-05T18:43:07.447124Z",
     "iopub.status.idle": "2024-12-05T18:43:07.848280Z",
     "shell.execute_reply": "2024-12-05T18:43:07.847491Z"
    },
    "papermill": {
     "duration": 4.156335,
     "end_time": "2024-12-05T18:43:07.850524",
     "exception": false,
     "start_time": "2024-12-05T18:43:03.694189",
     "status": "completed"
    },
    "tags": []
   },
   "outputs": [
    {
     "data": {
      "image/png": "[encoded data removed]",
      "text/plain": [
       "<Figure size 1200x500 with 2 Axes>"
      ]
     },
     "metadata": {},
     "output_type": "display_data"
    }
   ],
   "source": [
    "import matplotlib.pyplot as plt\n",
    "\n",
    "# Plot for accuracy\n",
    "plt.figure(figsize=(12, 5))\n",
    "\n",
    "# Subplot for accuracy\n",
    "plt.subplot(1, 2, 1)\n",
    "plt.plot(history.history['accuracy'], label='Train Accuracy')  # Training accuracy\n",
    "plt.plot(history.history['val_accuracy'], label='Validation Accuracy')  # Validation accuracy\n",
    "plt.title('Accuracy per Epoch')  # Title of the plot\n",
    "plt.xlabel('Epochs')  # X-axis label\n",
    "plt.ylabel('Accuracy')  # Y-axis label\n",
    "plt.legend()  # Display legend\n",
    "\n",
    "# Subplot for loss\n",
    "plt.subplot(1, 2, 2)\n",
    "plt.plot(history.history['loss'], label='Train Loss')  # Training loss\n",
    "plt.plot(history.history['val_loss'], label='Validation Loss')  # Validation loss\n",
    "plt.title('Loss per Epoch')  # Title of the plot\n",
    "plt.xlabel('Epochs')  # X-axis label\n",
    "plt.ylabel('Loss')  # Y-axis label\n",
    "plt.legend()  # Display legend\n",
    "\n",
    "# Display the plot\n",
    "plt.tight_layout()  # Adjust layout for better fit\n",
    "plt.show()  # Show the plots"
   ]
  },
  {
   "cell_type": "code",
   "execution_count": 11,
   "id": "7ed45d44",
   "metadata": {
    "execution": {
     "iopub.execute_input": "2024-12-05T18:43:15.241548Z",
     "iopub.status.busy": "2024-12-05T18:43:15.241202Z",
     "iopub.status.idle": "2024-12-05T18:44:01.604677Z",
     "shell.execute_reply": "2024-12-05T18:44:01.603680Z"
    },
    "papermill": {
     "duration": 50.069202,
     "end_time": "2024-12-05T18:44:01.607220",
     "exception": false,
     "start_time": "2024-12-05T18:43:11.538018",
     "status": "completed"
    },
    "tags": []
   },
   "outputs": [
    {
     "name": "stdout",
     "output_type": "stream",
     "text": [
      "\u001b[1m2176/2176\u001b[0m \u001b[32m━━━━━━━━━━━━━━━━━━━━\u001b[0m\u001b[37m\u001b[0m \u001b[1m45s\u001b[0m 21ms/step\n",
      "              precision    recall  f1-score   support\n",
      "\n",
      "     suicide       0.91      0.90      0.91     34824\n",
      " non-suicide       0.90      0.92      0.91     34799\n",
      "\n",
      "    accuracy                           0.91     69623\n",
      "   macro avg       0.91      0.91      0.91     69623\n",
      "weighted avg       0.91      0.91      0.91     69623\n",
      "\n"
     ]
    }
   ],
   "source": [
    "from sklearn.metrics import classification_report\n",
    "\n",
    "# Get model predictions\n",
    "y_pred = model.predict(X_test)\n",
    "\n",
    "# Convert predictions and labels from one-hot encoding to integer labels\n",
    "y_pred_labels = np.argmax(y_pred, axis=1)\n",
    "y_test_labels = np.argmax(y_test, axis=1)\n",
    "\n",
    "# Generate the classification report\n",
    "report = classification_report(y_test_labels, y_pred_labels, target_names=df['class'].unique())\n",
    "\n",
    "# Print the classification report\n",
    "print(report)"
   ]
  }
 ],
 "metadata": {
  "kaggle": {
   "accelerator": "gpu",
   "dataSources": [
    {
     "datasetId": 1075326,
     "sourceId": 2250642,
     "sourceType": "datasetVersion"
    },
    {
     "datasetId": 6205385,
     "sourceId": 10068293,
     "sourceType": "datasetVersion"
    }
   ],
   "dockerImageVersionId": 30787,
   "isGpuEnabled": true,
   "isInternetEnabled": true,
   "language": "python",
   "sourceType": "notebook"
  },
  "kernelspec": {
   "display_name": "Python 3",
   "language": "python",
   "name": "python3"
  },
  "language_info": {
   "codemirror_mode": {
    "name": "ipython",
    "version": 3
   },
   "file_extension": ".py",
   "mimetype": "text/x-python",
   "name": "python",
   "nbconvert_exporter": "python",
   "pygments_lexer": "ipython3",
   "version": "3.10.14"
  },
  "papermill": {
   "default_parameters": {},
   "duration": 4301.692244,
   "end_time": "2024-12-05T18:44:09.010409",
   "environment_variables": {},
   "exception": null,
   "input_path": "__notebook__.ipynb",
   "output_path": "__notebook__.ipynb",
   "parameters": {},
   "start_time": "2024-12-05T17:32:27.318165",
   "version": "2.6.0"
  }
 },
 "nbformat": 4,
 "nbformat_minor": 5
}
