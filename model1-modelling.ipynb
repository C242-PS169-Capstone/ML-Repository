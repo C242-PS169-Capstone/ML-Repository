{
 "cells": [
  {
   "cell_type": "markdown",
   "id": "85ce4e40",
   "metadata": {
    "papermill": {
     "duration": 0.003461,
     "end_time": "2024-12-05T21:46:08.374653",
     "exception": false,
     "start_time": "2024-12-05T21:46:08.371192",
     "status": "completed"
    },
    "tags": []
   },
   "source": [
    "### Read the Data"
   ]
  },
  {
   "cell_type": "code",
   "execution_count": 1,
   "id": "ff6f9a83",
   "metadata": {
    "execution": {
     "iopub.execute_input": "2024-12-05T21:46:08.381141Z",
     "iopub.status.busy": "2024-12-05T21:46:08.380870Z",
     "iopub.status.idle": "2024-12-05T21:46:26.326354Z",
     "shell.execute_reply": "2024-12-05T21:46:26.325664Z"
    },
    "papermill": {
     "duration": 17.950862,
     "end_time": "2024-12-05T21:46:26.328358",
     "exception": false,
     "start_time": "2024-12-05T21:46:08.377496",
     "status": "completed"
    },
    "tags": []
   },
   "outputs": [],
   "source": [
    "# Import Libraries\n",
    "import pandas as pd\n",
    "from sklearn.preprocessing import LabelEncoder\n",
    "from transformers import BertTokenizer, TFBertModel\n",
    "from sklearn.model_selection import train_test_split\n",
    "from tensorflow.keras.models import Model\n",
    "from tensorflow.keras.layers import Input, GRU, Dense, Dropout, BatchNormalization\n",
    "from tensorflow.keras.callbacks import EarlyStopping, ModelCheckpoint\n",
    "import tensorflow as tf"
   ]
  },
  {
   "cell_type": "code",
   "execution_count": 2,
   "id": "c15470fc",
   "metadata": {
    "execution": {
     "iopub.execute_input": "2024-12-05T21:46:26.335618Z",
     "iopub.status.busy": "2024-12-05T21:46:26.335157Z",
     "iopub.status.idle": "2024-12-05T21:46:51.479112Z",
     "shell.execute_reply": "2024-12-05T21:46:51.478247Z"
    },
    "papermill": {
     "duration": 25.150021,
     "end_time": "2024-12-05T21:46:51.481509",
     "exception": false,
     "start_time": "2024-12-05T21:46:26.331488",
     "status": "completed"
    },
    "tags": []
   },
   "outputs": [],
   "source": [
    "import pandas as pd\n",
    "import ast\n",
    "\n",
    "# Read data from CSV\n",
    "file_path = '/kaggle/input/suicidal-dataset/clean_dataset.csv'\n",
    "df = pd.read_csv(file_path)\n",
    "\n",
    "# Convert string literals to Python lists\n",
    "df['text'] = df['text'].apply(lambda x: ast.literal_eval(x) if isinstance(x, str) else x)\n",
    "\n",
    "# Join lists into sentences\n",
    "df['text'] = df['text'].apply(lambda x: ' '.join(x) if isinstance(x, list) else x)\n",
    "\n",
    "\n"
   ]
  },
  {
   "cell_type": "code",
   "execution_count": 3,
   "id": "d9cc0b45",
   "metadata": {
    "execution": {
     "iopub.execute_input": "2024-12-05T21:46:51.489307Z",
     "iopub.status.busy": "2024-12-05T21:46:51.489027Z",
     "iopub.status.idle": "2024-12-05T21:46:51.500634Z",
     "shell.execute_reply": "2024-12-05T21:46:51.499876Z"
    },
    "papermill": {
     "duration": 0.017151,
     "end_time": "2024-12-05T21:46:51.502246",
     "exception": false,
     "start_time": "2024-12-05T21:46:51.485095",
     "status": "completed"
    },
    "tags": []
   },
   "outputs": [
    {
     "data": {
      "text/html": [
       "<div>\n",
       "<style scoped>\n",
       "    .dataframe tbody tr th:only-of-type {\n",
       "        vertical-align: middle;\n",
       "    }\n",
       "\n",
       "    .dataframe tbody tr th {\n",
       "        vertical-align: top;\n",
       "    }\n",
       "\n",
       "    .dataframe thead th {\n",
       "        text-align: right;\n",
       "    }\n",
       "</style>\n",
       "<table border=\"1\" class=\"dataframe\">\n",
       "  <thead>\n",
       "    <tr style=\"text-align: right;\">\n",
       "      <th></th>\n",
       "      <th>Unnamed: 0</th>\n",
       "      <th>text</th>\n",
       "      <th>class</th>\n",
       "    </tr>\n",
       "  </thead>\n",
       "  <tbody>\n",
       "    <tr>\n",
       "      <th>0</th>\n",
       "      <td>2</td>\n",
       "      <td>ex wife threaten suicide recently leave wife g...</td>\n",
       "      <td>suicide</td>\n",
       "    </tr>\n",
       "    <tr>\n",
       "      <th>1</th>\n",
       "      <td>3</td>\n",
       "      <td>weird get affect li come someone know feel rea...</td>\n",
       "      <td>non-suicide</td>\n",
       "    </tr>\n",
       "    <tr>\n",
       "      <th>2</th>\n",
       "      <td>4</td>\n",
       "      <td>finally almost never hear bad year ever swear ...</td>\n",
       "      <td>non-suicide</td>\n",
       "    </tr>\n",
       "    <tr>\n",
       "      <th>3</th>\n",
       "      <td>8</td>\n",
       "      <td>need help help cry hard</td>\n",
       "      <td>suicide</td>\n",
       "    </tr>\n",
       "    <tr>\n",
       "      <th>4</th>\n",
       "      <td>9</td>\n",
       "      <td>lose hello name struggle year afraid past year...</td>\n",
       "      <td>suicide</td>\n",
       "    </tr>\n",
       "  </tbody>\n",
       "</table>\n",
       "</div>"
      ],
      "text/plain": [
       "   Unnamed: 0                                               text        class\n",
       "0           2  ex wife threaten suicide recently leave wife g...      suicide\n",
       "1           3  weird get affect li come someone know feel rea...  non-suicide\n",
       "2           4  finally almost never hear bad year ever swear ...  non-suicide\n",
       "3           8                            need help help cry hard      suicide\n",
       "4           9  lose hello name struggle year afraid past year...      suicide"
      ]
     },
     "execution_count": 3,
     "metadata": {},
     "output_type": "execute_result"
    }
   ],
   "source": [
    "df.head()"
   ]
  },
  {
   "cell_type": "code",
   "execution_count": null,
   "id": "1bc1bfa5",
   "metadata": {
    "papermill": {
     "duration": 0.002731,
     "end_time": "2024-12-05T21:46:51.509077",
     "exception": false,
     "start_time": "2024-12-05T21:46:51.506346",
     "status": "completed"
    },
    "tags": []
   },
   "outputs": [],
   "source": []
  },
  {
   "cell_type": "markdown",
   "id": "d79d2577",
   "metadata": {
    "papermill": {
     "duration": 0.002687,
     "end_time": "2024-12-05T21:46:51.514609",
     "exception": false,
     "start_time": "2024-12-05T21:46:51.511922",
     "status": "completed"
    },
    "tags": []
   },
   "source": [
    "## Modelling"
   ]
  },
  {
   "cell_type": "markdown",
   "id": "506ec040",
   "metadata": {
    "papermill": {
     "duration": 0.002692,
     "end_time": "2024-12-05T21:46:51.520257",
     "exception": false,
     "start_time": "2024-12-05T21:46:51.517565",
     "status": "completed"
    },
    "tags": []
   },
   "source": [
    "### Tokenization"
   ]
  },
  {
   "cell_type": "code",
   "execution_count": 4,
   "id": "5f7df9c1",
   "metadata": {
    "execution": {
     "iopub.execute_input": "2024-12-05T21:46:51.526900Z",
     "iopub.status.busy": "2024-12-05T21:46:51.526643Z",
     "iopub.status.idle": "2024-12-05T21:47:19.290524Z",
     "shell.execute_reply": "2024-12-05T21:47:19.289799Z"
    },
    "papermill": {
     "duration": 27.769419,
     "end_time": "2024-12-05T21:47:19.292515",
     "exception": false,
     "start_time": "2024-12-05T21:46:51.523096",
     "status": "completed"
    },
    "tags": []
   },
   "outputs": [],
   "source": [
    "from tensorflow.keras.preprocessing.text import Tokenizer\n",
    "from tensorflow.keras.preprocessing.sequence import pad_sequences\n",
    "import gensim.downloader as api\n",
    "import numpy as np\n",
    "from sklearn.model_selection import train_test_split\n",
    "from keras.models import Sequential\n",
    "from keras.layers import Embedding, Dropout, Dense\n",
    "from keras.layers import GRU\n",
    "from keras.callbacks import EarlyStopping, ModelCheckpoint\n",
    "from tensorflow.keras.models import Sequential\n",
    "from tensorflow.keras.layers import Embedding, GRU, Dense, Dropout, Bidirectional, Input\n",
    "\n",
    "# Configuration\n",
    "EMBEDDING_DIM = 100  # Dimension of word embeddings\n",
    "MAX_NUM_WORDS = 10000  # Maximum number of unique words\n",
    "MAX_SEQUENCE_LENGTH = 200  # Fixed sequence length for all input data\n",
    "\n",
    "\n",
    "\n",
    "# Tokenizer: Train and convert text to sequences\n",
    "tokenizer = Tokenizer(num_words=MAX_NUM_WORDS, lower=True)  # Limit vocabulary size and convert to lowercase\n",
    "tokenizer.fit_on_texts(df['text'])  # Learn the vocabulary from the text data\n",
    "X = tokenizer.texts_to_sequences(df['text'])  # Convert text to numerical sequences\n",
    "\n",
    "# Pad sequences to ensure uniform length\n",
    "X = pad_sequences(X, maxlen=MAX_SEQUENCE_LENGTH, padding='post')  # Add padding at the end of sequences\n"
   ]
  },
  {
   "cell_type": "code",
   "execution_count": 5,
   "id": "09134fe8",
   "metadata": {
    "execution": {
     "iopub.execute_input": "2024-12-05T21:47:19.300555Z",
     "iopub.status.busy": "2024-12-05T21:47:19.300287Z",
     "iopub.status.idle": "2024-12-05T21:47:19.323484Z",
     "shell.execute_reply": "2024-12-05T21:47:19.322546Z"
    },
    "papermill": {
     "duration": 0.029149,
     "end_time": "2024-12-05T21:47:19.325122",
     "exception": false,
     "start_time": "2024-12-05T21:47:19.295973",
     "status": "completed"
    },
    "tags": []
   },
   "outputs": [
    {
     "name": "stdout",
     "output_type": "stream",
     "text": [
      "Tokenizer has been saved to tokenizer.pkl\n"
     ]
    }
   ],
   "source": [
    "import pickle\n",
    "\n",
    "# Save the tokenizer to a .pkl file\n",
    "with open('tokenizer.pkl', 'wb') as file:\n",
    "    pickle.dump(tokenizer, file)\n",
    "print(\"Tokenizer has been saved to tokenizer.pkl\")\n"
   ]
  },
  {
   "cell_type": "code",
   "execution_count": 6,
   "id": "4bd3f5f1",
   "metadata": {
    "execution": {
     "iopub.execute_input": "2024-12-05T21:47:19.332487Z",
     "iopub.status.busy": "2024-12-05T21:47:19.332229Z",
     "iopub.status.idle": "2024-12-05T21:47:19.444499Z",
     "shell.execute_reply": "2024-12-05T21:47:19.443520Z"
    },
    "papermill": {
     "duration": 0.118274,
     "end_time": "2024-12-05T21:47:19.446651",
     "exception": false,
     "start_time": "2024-12-05T21:47:19.328377",
     "status": "completed"
    },
    "tags": []
   },
   "outputs": [],
   "source": [
    "# Convert labels to one-hot encoding\n",
    "y = pd.get_dummies(df['class']).values  # Transform class labels into a binary matrix\n",
    "\n",
    "# Split data into training and testing sets\n",
    "X_train, X_test, y_train, y_test = train_test_split(X, y, test_size=0.3, random_state=42)\n",
    "# `test_size=0.3` allocates 30% of the data for testing, 70% for training\n",
    "# `random_state=42` ensures reproducibility of the split"
   ]
  },
  {
   "cell_type": "markdown",
   "id": "f8037eb5",
   "metadata": {
    "papermill": {
     "duration": 0.002961,
     "end_time": "2024-12-05T21:47:19.453153",
     "exception": false,
     "start_time": "2024-12-05T21:47:19.450192",
     "status": "completed"
    },
    "tags": []
   },
   "source": [
    "### Word Embedding"
   ]
  },
  {
   "cell_type": "code",
   "execution_count": 7,
   "id": "8ba91dba",
   "metadata": {
    "execution": {
     "iopub.execute_input": "2024-12-05T21:47:19.460307Z",
     "iopub.status.busy": "2024-12-05T21:47:19.460018Z",
     "iopub.status.idle": "2024-12-05T21:48:08.559232Z",
     "shell.execute_reply": "2024-12-05T21:48:08.558488Z"
    },
    "papermill": {
     "duration": 49.105042,
     "end_time": "2024-12-05T21:48:08.561183",
     "exception": false,
     "start_time": "2024-12-05T21:47:19.456141",
     "status": "completed"
    },
    "tags": []
   },
   "outputs": [
    {
     "name": "stdout",
     "output_type": "stream",
     "text": [
      "[==================================================] 100.0% 128.1/128.1MB downloaded\n"
     ]
    }
   ],
   "source": [
    "# Download and load pre-trained GloVe embeddings (100 dimensions)\n",
    "glove_gensim = api.load('glove-wiki-gigaword-100')\n",
    "\n",
    "# Create a weight matrix for the embedding layer\n",
    "gensim_weight_matrix = np.zeros((MAX_NUM_WORDS, EMBEDDING_DIM))  # Initialize with zeros\n",
    "\n",
    "# Populate the weight matrix with GloVe vectors for words in the tokenizer's vocabulary\n",
    "for word, index in tokenizer.word_index.items():\n",
    "    if index < MAX_NUM_WORDS:  # Ensure the index is within the specified maximum word limit\n",
    "        if word in glove_gensim.index_to_key:  # Check if the word exists in the GloVe vocabulary\n",
    "            gensim_weight_matrix[index] = glove_gensim[word]  # Assign the GloVe vector\n",
    "        else:\n",
    "            gensim_weight_matrix[index] = np.zeros(EMBEDDING_DIM)  # Assign a zero vector if the word is not found"
   ]
  },
  {
   "cell_type": "markdown",
   "id": "77f1c16e",
   "metadata": {
    "papermill": {
     "duration": 0.745267,
     "end_time": "2024-12-05T21:48:10.061492",
     "exception": false,
     "start_time": "2024-12-05T21:48:09.316225",
     "status": "completed"
    },
    "tags": []
   },
   "source": [
    "### Model Building"
   ]
  },
  {
   "cell_type": "markdown",
   "id": "4d8eb804",
   "metadata": {
    "papermill": {
     "duration": 0.71965,
     "end_time": "2024-12-05T21:48:11.530409",
     "exception": false,
     "start_time": "2024-12-05T21:48:10.810759",
     "status": "completed"
    },
    "tags": []
   },
   "source": [
    "### Train the Model"
   ]
  },
  {
   "cell_type": "code",
   "execution_count": 8,
   "id": "1c6d080a",
   "metadata": {
    "execution": {
     "iopub.execute_input": "2024-12-05T21:48:13.084410Z",
     "iopub.status.busy": "2024-12-05T21:48:13.084067Z",
     "iopub.status.idle": "2024-12-05T21:48:14.378766Z",
     "shell.execute_reply": "2024-12-05T21:48:14.377781Z"
    },
    "papermill": {
     "duration": 2.049821,
     "end_time": "2024-12-05T21:48:14.380887",
     "exception": false,
     "start_time": "2024-12-05T21:48:12.331066",
     "status": "completed"
    },
    "tags": []
   },
   "outputs": [
    {
     "data": {
      "text/html": [
       "<pre style=\"white-space:pre;overflow-x:auto;line-height:normal;font-family:Menlo,'DejaVu Sans Mono',consolas,'Courier New',monospace\"><span style=\"font-weight: bold\">Model: \"sequential\"</span>\n",
       "</pre>\n"
      ],
      "text/plain": [
       "\u001b[1mModel: \"sequential\"\u001b[0m\n"
      ]
     },
     "metadata": {},
     "output_type": "display_data"
    },
    {
     "data": {
      "text/html": [
       "<pre style=\"white-space:pre;overflow-x:auto;line-height:normal;font-family:Menlo,'DejaVu Sans Mono',consolas,'Courier New',monospace\">┏━━━━━━━━━━━━━━━━━━━━━━━━━━━━━━━━━┳━━━━━━━━━━━━━━━━━━━━━━━━┳━━━━━━━━━━━━━━━┓\n",
       "┃<span style=\"font-weight: bold\"> Layer (type)                    </span>┃<span style=\"font-weight: bold\"> Output Shape           </span>┃<span style=\"font-weight: bold\">       Param # </span>┃\n",
       "┡━━━━━━━━━━━━━━━━━━━━━━━━━━━━━━━━━╇━━━━━━━━━━━━━━━━━━━━━━━━╇━━━━━━━━━━━━━━━┩\n",
       "│ embedding (<span style=\"color: #0087ff; text-decoration-color: #0087ff\">Embedding</span>)           │ (<span style=\"color: #00d7ff; text-decoration-color: #00d7ff\">None</span>, <span style=\"color: #00af00; text-decoration-color: #00af00\">200</span>, <span style=\"color: #00af00; text-decoration-color: #00af00\">100</span>)       │     <span style=\"color: #00af00; text-decoration-color: #00af00\">1,000,000</span> │\n",
       "├─────────────────────────────────┼────────────────────────┼───────────────┤\n",
       "│ dropout (<span style=\"color: #0087ff; text-decoration-color: #0087ff\">Dropout</span>)               │ (<span style=\"color: #00d7ff; text-decoration-color: #00d7ff\">None</span>, <span style=\"color: #00af00; text-decoration-color: #00af00\">200</span>, <span style=\"color: #00af00; text-decoration-color: #00af00\">100</span>)       │             <span style=\"color: #00af00; text-decoration-color: #00af00\">0</span> │\n",
       "├─────────────────────────────────┼────────────────────────┼───────────────┤\n",
       "│ gru (<span style=\"color: #0087ff; text-decoration-color: #0087ff\">GRU</span>)                       │ (<span style=\"color: #00d7ff; text-decoration-color: #00d7ff\">None</span>, <span style=\"color: #00af00; text-decoration-color: #00af00\">200</span>, <span style=\"color: #00af00; text-decoration-color: #00af00\">100</span>)       │        <span style=\"color: #00af00; text-decoration-color: #00af00\">60,600</span> │\n",
       "├─────────────────────────────────┼────────────────────────┼───────────────┤\n",
       "│ dropout_1 (<span style=\"color: #0087ff; text-decoration-color: #0087ff\">Dropout</span>)             │ (<span style=\"color: #00d7ff; text-decoration-color: #00d7ff\">None</span>, <span style=\"color: #00af00; text-decoration-color: #00af00\">200</span>, <span style=\"color: #00af00; text-decoration-color: #00af00\">100</span>)       │             <span style=\"color: #00af00; text-decoration-color: #00af00\">0</span> │\n",
       "├─────────────────────────────────┼────────────────────────┼───────────────┤\n",
       "│ gru_1 (<span style=\"color: #0087ff; text-decoration-color: #0087ff\">GRU</span>)                     │ (<span style=\"color: #00d7ff; text-decoration-color: #00d7ff\">None</span>, <span style=\"color: #00af00; text-decoration-color: #00af00\">200</span>, <span style=\"color: #00af00; text-decoration-color: #00af00\">100</span>)       │        <span style=\"color: #00af00; text-decoration-color: #00af00\">60,600</span> │\n",
       "├─────────────────────────────────┼────────────────────────┼───────────────┤\n",
       "│ dropout_2 (<span style=\"color: #0087ff; text-decoration-color: #0087ff\">Dropout</span>)             │ (<span style=\"color: #00d7ff; text-decoration-color: #00d7ff\">None</span>, <span style=\"color: #00af00; text-decoration-color: #00af00\">200</span>, <span style=\"color: #00af00; text-decoration-color: #00af00\">100</span>)       │             <span style=\"color: #00af00; text-decoration-color: #00af00\">0</span> │\n",
       "├─────────────────────────────────┼────────────────────────┼───────────────┤\n",
       "│ gru_2 (<span style=\"color: #0087ff; text-decoration-color: #0087ff\">GRU</span>)                     │ (<span style=\"color: #00d7ff; text-decoration-color: #00d7ff\">None</span>, <span style=\"color: #00af00; text-decoration-color: #00af00\">100</span>)            │        <span style=\"color: #00af00; text-decoration-color: #00af00\">60,600</span> │\n",
       "├─────────────────────────────────┼────────────────────────┼───────────────┤\n",
       "│ batch_normalization             │ (<span style=\"color: #00d7ff; text-decoration-color: #00d7ff\">None</span>, <span style=\"color: #00af00; text-decoration-color: #00af00\">100</span>)            │           <span style=\"color: #00af00; text-decoration-color: #00af00\">400</span> │\n",
       "│ (<span style=\"color: #0087ff; text-decoration-color: #0087ff\">BatchNormalization</span>)            │                        │               │\n",
       "├─────────────────────────────────┼────────────────────────┼───────────────┤\n",
       "│ dropout_3 (<span style=\"color: #0087ff; text-decoration-color: #0087ff\">Dropout</span>)             │ (<span style=\"color: #00d7ff; text-decoration-color: #00d7ff\">None</span>, <span style=\"color: #00af00; text-decoration-color: #00af00\">100</span>)            │             <span style=\"color: #00af00; text-decoration-color: #00af00\">0</span> │\n",
       "├─────────────────────────────────┼────────────────────────┼───────────────┤\n",
       "│ dense (<span style=\"color: #0087ff; text-decoration-color: #0087ff\">Dense</span>)                   │ (<span style=\"color: #00d7ff; text-decoration-color: #00d7ff\">None</span>, <span style=\"color: #00af00; text-decoration-color: #00af00\">64</span>)             │         <span style=\"color: #00af00; text-decoration-color: #00af00\">6,464</span> │\n",
       "├─────────────────────────────────┼────────────────────────┼───────────────┤\n",
       "│ dropout_4 (<span style=\"color: #0087ff; text-decoration-color: #0087ff\">Dropout</span>)             │ (<span style=\"color: #00d7ff; text-decoration-color: #00d7ff\">None</span>, <span style=\"color: #00af00; text-decoration-color: #00af00\">64</span>)             │             <span style=\"color: #00af00; text-decoration-color: #00af00\">0</span> │\n",
       "├─────────────────────────────────┼────────────────────────┼───────────────┤\n",
       "│ dense_1 (<span style=\"color: #0087ff; text-decoration-color: #0087ff\">Dense</span>)                 │ (<span style=\"color: #00d7ff; text-decoration-color: #00d7ff\">None</span>, <span style=\"color: #00af00; text-decoration-color: #00af00\">2</span>)              │           <span style=\"color: #00af00; text-decoration-color: #00af00\">130</span> │\n",
       "└─────────────────────────────────┴────────────────────────┴───────────────┘\n",
       "</pre>\n"
      ],
      "text/plain": [
       "┏━━━━━━━━━━━━━━━━━━━━━━━━━━━━━━━━━┳━━━━━━━━━━━━━━━━━━━━━━━━┳━━━━━━━━━━━━━━━┓\n",
       "┃\u001b[1m \u001b[0m\u001b[1mLayer (type)                   \u001b[0m\u001b[1m \u001b[0m┃\u001b[1m \u001b[0m\u001b[1mOutput Shape          \u001b[0m\u001b[1m \u001b[0m┃\u001b[1m \u001b[0m\u001b[1m      Param #\u001b[0m\u001b[1m \u001b[0m┃\n",
       "┡━━━━━━━━━━━━━━━━━━━━━━━━━━━━━━━━━╇━━━━━━━━━━━━━━━━━━━━━━━━╇━━━━━━━━━━━━━━━┩\n",
       "│ embedding (\u001b[38;5;33mEmbedding\u001b[0m)           │ (\u001b[38;5;45mNone\u001b[0m, \u001b[38;5;34m200\u001b[0m, \u001b[38;5;34m100\u001b[0m)       │     \u001b[38;5;34m1,000,000\u001b[0m │\n",
       "├─────────────────────────────────┼────────────────────────┼───────────────┤\n",
       "│ dropout (\u001b[38;5;33mDropout\u001b[0m)               │ (\u001b[38;5;45mNone\u001b[0m, \u001b[38;5;34m200\u001b[0m, \u001b[38;5;34m100\u001b[0m)       │             \u001b[38;5;34m0\u001b[0m │\n",
       "├─────────────────────────────────┼────────────────────────┼───────────────┤\n",
       "│ gru (\u001b[38;5;33mGRU\u001b[0m)                       │ (\u001b[38;5;45mNone\u001b[0m, \u001b[38;5;34m200\u001b[0m, \u001b[38;5;34m100\u001b[0m)       │        \u001b[38;5;34m60,600\u001b[0m │\n",
       "├─────────────────────────────────┼────────────────────────┼───────────────┤\n",
       "│ dropout_1 (\u001b[38;5;33mDropout\u001b[0m)             │ (\u001b[38;5;45mNone\u001b[0m, \u001b[38;5;34m200\u001b[0m, \u001b[38;5;34m100\u001b[0m)       │             \u001b[38;5;34m0\u001b[0m │\n",
       "├─────────────────────────────────┼────────────────────────┼───────────────┤\n",
       "│ gru_1 (\u001b[38;5;33mGRU\u001b[0m)                     │ (\u001b[38;5;45mNone\u001b[0m, \u001b[38;5;34m200\u001b[0m, \u001b[38;5;34m100\u001b[0m)       │        \u001b[38;5;34m60,600\u001b[0m │\n",
       "├─────────────────────────────────┼────────────────────────┼───────────────┤\n",
       "│ dropout_2 (\u001b[38;5;33mDropout\u001b[0m)             │ (\u001b[38;5;45mNone\u001b[0m, \u001b[38;5;34m200\u001b[0m, \u001b[38;5;34m100\u001b[0m)       │             \u001b[38;5;34m0\u001b[0m │\n",
       "├─────────────────────────────────┼────────────────────────┼───────────────┤\n",
       "│ gru_2 (\u001b[38;5;33mGRU\u001b[0m)                     │ (\u001b[38;5;45mNone\u001b[0m, \u001b[38;5;34m100\u001b[0m)            │        \u001b[38;5;34m60,600\u001b[0m │\n",
       "├─────────────────────────────────┼────────────────────────┼───────────────┤\n",
       "│ batch_normalization             │ (\u001b[38;5;45mNone\u001b[0m, \u001b[38;5;34m100\u001b[0m)            │           \u001b[38;5;34m400\u001b[0m │\n",
       "│ (\u001b[38;5;33mBatchNormalization\u001b[0m)            │                        │               │\n",
       "├─────────────────────────────────┼────────────────────────┼───────────────┤\n",
       "│ dropout_3 (\u001b[38;5;33mDropout\u001b[0m)             │ (\u001b[38;5;45mNone\u001b[0m, \u001b[38;5;34m100\u001b[0m)            │             \u001b[38;5;34m0\u001b[0m │\n",
       "├─────────────────────────────────┼────────────────────────┼───────────────┤\n",
       "│ dense (\u001b[38;5;33mDense\u001b[0m)                   │ (\u001b[38;5;45mNone\u001b[0m, \u001b[38;5;34m64\u001b[0m)             │         \u001b[38;5;34m6,464\u001b[0m │\n",
       "├─────────────────────────────────┼────────────────────────┼───────────────┤\n",
       "│ dropout_4 (\u001b[38;5;33mDropout\u001b[0m)             │ (\u001b[38;5;45mNone\u001b[0m, \u001b[38;5;34m64\u001b[0m)             │             \u001b[38;5;34m0\u001b[0m │\n",
       "├─────────────────────────────────┼────────────────────────┼───────────────┤\n",
       "│ dense_1 (\u001b[38;5;33mDense\u001b[0m)                 │ (\u001b[38;5;45mNone\u001b[0m, \u001b[38;5;34m2\u001b[0m)              │           \u001b[38;5;34m130\u001b[0m │\n",
       "└─────────────────────────────────┴────────────────────────┴───────────────┘\n"
      ]
     },
     "metadata": {},
     "output_type": "display_data"
    },
    {
     "data": {
      "text/html": [
       "<pre style=\"white-space:pre;overflow-x:auto;line-height:normal;font-family:Menlo,'DejaVu Sans Mono',consolas,'Courier New',monospace\"><span style=\"font-weight: bold\"> Total params: </span><span style=\"color: #00af00; text-decoration-color: #00af00\">1,188,794</span> (4.53 MB)\n",
       "</pre>\n"
      ],
      "text/plain": [
       "\u001b[1m Total params: \u001b[0m\u001b[38;5;34m1,188,794\u001b[0m (4.53 MB)\n"
      ]
     },
     "metadata": {},
     "output_type": "display_data"
    },
    {
     "data": {
      "text/html": [
       "<pre style=\"white-space:pre;overflow-x:auto;line-height:normal;font-family:Menlo,'DejaVu Sans Mono',consolas,'Courier New',monospace\"><span style=\"font-weight: bold\"> Trainable params: </span><span style=\"color: #00af00; text-decoration-color: #00af00\">188,594</span> (736.70 KB)\n",
       "</pre>\n"
      ],
      "text/plain": [
       "\u001b[1m Trainable params: \u001b[0m\u001b[38;5;34m188,594\u001b[0m (736.70 KB)\n"
      ]
     },
     "metadata": {},
     "output_type": "display_data"
    },
    {
     "data": {
      "text/html": [
       "<pre style=\"white-space:pre;overflow-x:auto;line-height:normal;font-family:Menlo,'DejaVu Sans Mono',consolas,'Courier New',monospace\"><span style=\"font-weight: bold\"> Non-trainable params: </span><span style=\"color: #00af00; text-decoration-color: #00af00\">1,000,200</span> (3.82 MB)\n",
       "</pre>\n"
      ],
      "text/plain": [
       "\u001b[1m Non-trainable params: \u001b[0m\u001b[38;5;34m1,000,200\u001b[0m (3.82 MB)\n"
      ]
     },
     "metadata": {},
     "output_type": "display_data"
    }
   ],
   "source": [
    "from tensorflow.keras.models import Sequential\n",
    "from tensorflow.keras.layers import Embedding, GRU, Dense, Dropout, Input, BatchNormalization\n",
    "\n",
    "# Build the model\n",
    "model = Sequential()\n",
    "\n",
    "# Input layer\n",
    "model.add(Input(shape=(X.shape[1],)))\n",
    "\n",
    "# Embedding layer with pre-trained GloVe embeddings\n",
    "model.add(Embedding(input_dim=MAX_NUM_WORDS,\n",
    "                    output_dim=EMBEDDING_DIM,\n",
    "                    weights=[gensim_weight_matrix],\n",
    "                    trainable=False)) \n",
    "\n",
    "# Dropout layer\n",
    "model.add(Dropout(0.2))\n",
    "\n",
    "# GRU layer 1\n",
    "model.add(GRU(100, return_sequences=True))\n",
    "\n",
    "# Dropout layer\n",
    "model.add(Dropout(0.2))\n",
    "\n",
    "# GRU layer 2\n",
    "model.add(GRU(100, return_sequences=True))\n",
    "\n",
    "# Dropout layer\n",
    "model.add(Dropout(0.2))\n",
    "\n",
    "# GRU layer 3\n",
    "model.add(GRU(100, return_sequences=False))\n",
    "\n",
    "# BatchNormalization layer\n",
    "model.add(BatchNormalization())\n",
    "\n",
    "# Dropout layer\n",
    "model.add(Dropout(0.3))\n",
    "\n",
    "# Dense layer\n",
    "model.add(Dense(64, activation='relu'))\n",
    "\n",
    "# Dropout layer\n",
    "model.add(Dropout(0.3))\n",
    "\n",
    "# Output layer\n",
    "model.add(Dense(y.shape[1], activation='sigmoid'))\n",
    "\n",
    "# Compile the model\n",
    "model.compile(loss='binary_crossentropy',\n",
    "              optimizer='rmsprop',\n",
    "              metrics=['accuracy'])\n",
    "\n",
    "\n",
    "# Display model summary\n",
    "model.summary()"
   ]
  },
  {
   "cell_type": "code",
   "execution_count": 9,
   "id": "6bc6c88b",
   "metadata": {
    "execution": {
     "iopub.execute_input": "2024-12-05T21:48:15.859113Z",
     "iopub.status.busy": "2024-12-05T21:48:15.858765Z",
     "iopub.status.idle": "2024-12-05T22:11:19.985844Z",
     "shell.execute_reply": "2024-12-05T22:11:19.984978Z"
    },
    "papermill": {
     "duration": 1386.290687,
     "end_time": "2024-12-05T22:11:21.398237",
     "exception": false,
     "start_time": "2024-12-05T21:48:15.107550",
     "status": "completed"
    },
    "tags": []
   },
   "outputs": [
    {
     "name": "stdout",
     "output_type": "stream",
     "text": [
      "Epoch 1/50\n",
      "\u001b[1m2539/2539\u001b[0m \u001b[32m━━━━━━━━━━━━━━━━━━━━\u001b[0m\u001b[37m\u001b[0m \u001b[1m0s\u001b[0m 35ms/step - accuracy: 0.6974 - loss: 0.5251\n",
      "Epoch 1: val_accuracy improved from -inf to 0.89414, saving model to best_model.weights.h5\n",
      "\u001b[1m2539/2539\u001b[0m \u001b[32m━━━━━━━━━━━━━━━━━━━━\u001b[0m\u001b[37m\u001b[0m \u001b[1m111s\u001b[0m 42ms/step - accuracy: 0.6974 - loss: 0.5251 - val_accuracy: 0.8941 - val_loss: 0.2605\n",
      "Epoch 2/50\n",
      "\u001b[1m2539/2539\u001b[0m \u001b[32m━━━━━━━━━━━━━━━━━━━━\u001b[0m\u001b[37m\u001b[0m \u001b[1m0s\u001b[0m 35ms/step - accuracy: 0.9095 - loss: 0.2401\n",
      "Epoch 2: val_accuracy improved from 0.89414 to 0.92375, saving model to best_model.weights.h5\n",
      "\u001b[1m2539/2539\u001b[0m \u001b[32m━━━━━━━━━━━━━━━━━━━━\u001b[0m\u001b[37m\u001b[0m \u001b[1m106s\u001b[0m 42ms/step - accuracy: 0.9095 - loss: 0.2401 - val_accuracy: 0.9237 - val_loss: 0.2011\n",
      "Epoch 3/50\n",
      "\u001b[1m2539/2539\u001b[0m \u001b[32m━━━━━━━━━━━━━━━━━━━━\u001b[0m\u001b[37m\u001b[0m \u001b[1m0s\u001b[0m 35ms/step - accuracy: 0.9202 - loss: 0.2149\n",
      "Epoch 3: val_accuracy did not improve from 0.92375\n",
      "\u001b[1m2539/2539\u001b[0m \u001b[32m━━━━━━━━━━━━━━━━━━━━\u001b[0m\u001b[37m\u001b[0m \u001b[1m106s\u001b[0m 42ms/step - accuracy: 0.9202 - loss: 0.2149 - val_accuracy: 0.9114 - val_loss: 0.2323\n",
      "Epoch 4/50\n",
      "\u001b[1m2539/2539\u001b[0m \u001b[32m━━━━━━━━━━━━━━━━━━━━\u001b[0m\u001b[37m\u001b[0m \u001b[1m0s\u001b[0m 35ms/step - accuracy: 0.9230 - loss: 0.2049\n",
      "Epoch 4: val_accuracy did not improve from 0.92375\n",
      "\u001b[1m2539/2539\u001b[0m \u001b[32m━━━━━━━━━━━━━━━━━━━━\u001b[0m\u001b[37m\u001b[0m \u001b[1m106s\u001b[0m 42ms/step - accuracy: 0.9230 - loss: 0.2049 - val_accuracy: 0.9109 - val_loss: 0.2438\n",
      "Epoch 5/50\n",
      "\u001b[1m2539/2539\u001b[0m \u001b[32m━━━━━━━━━━━━━━━━━━━━\u001b[0m\u001b[37m\u001b[0m \u001b[1m0s\u001b[0m 35ms/step - accuracy: 0.9260 - loss: 0.1965\n",
      "Epoch 5: val_accuracy improved from 0.92375 to 0.92505, saving model to best_model.weights.h5\n",
      "\u001b[1m2539/2539\u001b[0m \u001b[32m━━━━━━━━━━━━━━━━━━━━\u001b[0m\u001b[37m\u001b[0m \u001b[1m106s\u001b[0m 42ms/step - accuracy: 0.9260 - loss: 0.1965 - val_accuracy: 0.9251 - val_loss: 0.2016\n",
      "Epoch 6/50\n",
      "\u001b[1m2539/2539\u001b[0m \u001b[32m━━━━━━━━━━━━━━━━━━━━\u001b[0m\u001b[37m\u001b[0m \u001b[1m0s\u001b[0m 35ms/step - accuracy: 0.9293 - loss: 0.1899\n",
      "Epoch 6: val_accuracy improved from 0.92505 to 0.92544, saving model to best_model.weights.h5\n",
      "\u001b[1m2539/2539\u001b[0m \u001b[32m━━━━━━━━━━━━━━━━━━━━\u001b[0m\u001b[37m\u001b[0m \u001b[1m106s\u001b[0m 42ms/step - accuracy: 0.9293 - loss: 0.1899 - val_accuracy: 0.9254 - val_loss: 0.2114\n",
      "Epoch 7/50\n",
      "\u001b[1m2539/2539\u001b[0m \u001b[32m━━━━━━━━━━━━━━━━━━━━\u001b[0m\u001b[37m\u001b[0m \u001b[1m0s\u001b[0m 36ms/step - accuracy: 0.9318 - loss: 0.1850\n",
      "Epoch 7: val_accuracy improved from 0.92544 to 0.93011, saving model to best_model.weights.h5\n",
      "\u001b[1m2539/2539\u001b[0m \u001b[32m━━━━━━━━━━━━━━━━━━━━\u001b[0m\u001b[37m\u001b[0m \u001b[1m106s\u001b[0m 42ms/step - accuracy: 0.9318 - loss: 0.1850 - val_accuracy: 0.9301 - val_loss: 0.1874\n",
      "Epoch 8/50\n",
      "\u001b[1m2539/2539\u001b[0m \u001b[32m━━━━━━━━━━━━━━━━━━━━\u001b[0m\u001b[37m\u001b[0m \u001b[1m0s\u001b[0m 36ms/step - accuracy: 0.9336 - loss: 0.1777\n",
      "Epoch 8: val_accuracy improved from 0.93011 to 0.93066, saving model to best_model.weights.h5\n",
      "\u001b[1m2539/2539\u001b[0m \u001b[32m━━━━━━━━━━━━━━━━━━━━\u001b[0m\u001b[37m\u001b[0m \u001b[1m106s\u001b[0m 42ms/step - accuracy: 0.9336 - loss: 0.1777 - val_accuracy: 0.9307 - val_loss: 0.1820\n",
      "Epoch 9/50\n",
      "\u001b[1m2539/2539\u001b[0m \u001b[32m━━━━━━━━━━━━━━━━━━━━\u001b[0m\u001b[37m\u001b[0m \u001b[1m0s\u001b[0m 36ms/step - accuracy: 0.9351 - loss: 0.1750\n",
      "Epoch 9: val_accuracy did not improve from 0.93066\n",
      "\u001b[1m2539/2539\u001b[0m \u001b[32m━━━━━━━━━━━━━━━━━━━━\u001b[0m\u001b[37m\u001b[0m \u001b[1m106s\u001b[0m 42ms/step - accuracy: 0.9351 - loss: 0.1750 - val_accuracy: 0.9144 - val_loss: 0.2149\n",
      "Epoch 10/50\n",
      "\u001b[1m2539/2539\u001b[0m \u001b[32m━━━━━━━━━━━━━━━━━━━━\u001b[0m\u001b[37m\u001b[0m \u001b[1m0s\u001b[0m 36ms/step - accuracy: 0.9377 - loss: 0.1704\n",
      "Epoch 10: val_accuracy did not improve from 0.93066\n",
      "\u001b[1m2539/2539\u001b[0m \u001b[32m━━━━━━━━━━━━━━━━━━━━\u001b[0m\u001b[37m\u001b[0m \u001b[1m106s\u001b[0m 42ms/step - accuracy: 0.9377 - loss: 0.1704 - val_accuracy: 0.9255 - val_loss: 0.2237\n",
      "Epoch 11/50\n",
      "\u001b[1m2539/2539\u001b[0m \u001b[32m━━━━━━━━━━━━━━━━━━━━\u001b[0m\u001b[37m\u001b[0m \u001b[1m0s\u001b[0m 36ms/step - accuracy: 0.9393 - loss: 0.1643\n",
      "Epoch 11: val_accuracy did not improve from 0.93066\n",
      "\u001b[1m2539/2539\u001b[0m \u001b[32m━━━━━━━━━━━━━━━━━━━━\u001b[0m\u001b[37m\u001b[0m \u001b[1m106s\u001b[0m 42ms/step - accuracy: 0.9393 - loss: 0.1643 - val_accuracy: 0.9294 - val_loss: 0.1847\n",
      "Epoch 12/50\n",
      "\u001b[1m2539/2539\u001b[0m \u001b[32m━━━━━━━━━━━━━━━━━━━━\u001b[0m\u001b[37m\u001b[0m \u001b[1m0s\u001b[0m 35ms/step - accuracy: 0.9388 - loss: 0.1645\n",
      "Epoch 12: val_accuracy did not improve from 0.93066\n",
      "\u001b[1m2539/2539\u001b[0m \u001b[32m━━━━━━━━━━━━━━━━━━━━\u001b[0m\u001b[37m\u001b[0m \u001b[1m106s\u001b[0m 42ms/step - accuracy: 0.9388 - loss: 0.1645 - val_accuracy: 0.9277 - val_loss: 0.2194\n",
      "Epoch 13/50\n",
      "\u001b[1m2539/2539\u001b[0m \u001b[32m━━━━━━━━━━━━━━━━━━━━\u001b[0m\u001b[37m\u001b[0m \u001b[1m0s\u001b[0m 36ms/step - accuracy: 0.9413 - loss: 0.1591\n",
      "Epoch 13: val_accuracy did not improve from 0.93066\n",
      "\u001b[1m2539/2539\u001b[0m \u001b[32m━━━━━━━━━━━━━━━━━━━━\u001b[0m\u001b[37m\u001b[0m \u001b[1m106s\u001b[0m 42ms/step - accuracy: 0.9413 - loss: 0.1591 - val_accuracy: 0.9256 - val_loss: 0.2028\n",
      "Epoch 13: early stopping\n",
      "Best weights loaded from best_model.weights.h5\n",
      "Full model saved as best_model.keras\n",
      "Full model saved as best_model.h5\n"
     ]
    }
   ],
   "source": [
    "from tensorflow.keras.models import load_model\n",
    "\n",
    "# EarlyStopping and ModelCheckpoint for saving weights\n",
    "es = EarlyStopping(monitor='val_loss', mode='min', verbose=1, patience=5)\n",
    "mc = ModelCheckpoint('best_model.weights.h5', monitor='val_accuracy', mode='max', verbose=1, save_best_only=True, save_weights_only=True)\n",
    "\n",
    "# Train the model\n",
    "history = model.fit(\n",
    "    X_train,\n",
    "    y_train,\n",
    "    validation_data=(X_test, y_test),\n",
    "    epochs=50,\n",
    "    batch_size=64,\n",
    "    callbacks=[es, mc]\n",
    ")\n",
    "\n",
    "# After training, load the best weights\n",
    "model.load_weights('best_model.weights.h5')\n",
    "print(\"Best weights loaded from best_model.weights.h5\")\n",
    "\n",
    "# Save the full model to .keras format\n",
    "model.save('best_model.keras')\n",
    "print(\"Full model saved as best_model.keras\")\n",
    "\n",
    "# Convert the .keras file to .h5\n",
    "model.save('best_model.h5', save_format='h5')\n",
    "print(\"Full model saved as best_model.h5\")\n"
   ]
  },
  {
   "cell_type": "markdown",
   "id": "71d97a30",
   "metadata": {
    "papermill": {
     "duration": 1.545571,
     "end_time": "2024-12-05T22:11:24.478480",
     "exception": false,
     "start_time": "2024-12-05T22:11:22.932909",
     "status": "completed"
    },
    "tags": []
   },
   "source": [
    "### Model Evaluation"
   ]
  },
  {
   "cell_type": "code",
   "execution_count": 10,
   "id": "c1958856",
   "metadata": {
    "execution": {
     "iopub.execute_input": "2024-12-05T22:11:27.587652Z",
     "iopub.status.busy": "2024-12-05T22:11:27.587331Z",
     "iopub.status.idle": "2024-12-05T22:11:28.105786Z",
     "shell.execute_reply": "2024-12-05T22:11:28.104926Z"
    },
    "papermill": {
     "duration": 2.05619,
     "end_time": "2024-12-05T22:11:28.107517",
     "exception": false,
     "start_time": "2024-12-05T22:11:26.051327",
     "status": "completed"
    },
    "tags": []
   },
   "outputs": [
    {
     "data": {
      "image/png": "[encoded data removed]",
      "text/plain": [
       "<Figure size 1200x500 with 2 Axes>"
      ]
     },
     "metadata": {},
     "output_type": "display_data"
    }
   ],
   "source": [
    "import matplotlib.pyplot as plt\n",
    "\n",
    "# Plot for accuracy\n",
    "plt.figure(figsize=(12, 5))\n",
    "\n",
    "# Subplot for accuracy\n",
    "plt.subplot(1, 2, 1)\n",
    "plt.plot(history.history['accuracy'], label='Train Accuracy')  # Training accuracy\n",
    "plt.plot(history.history['val_accuracy'], label='Validation Accuracy')  # Validation accuracy\n",
    "plt.title('Accuracy per Epoch')  # Title of the plot\n",
    "plt.xlabel('Epochs')  # X-axis label\n",
    "plt.ylabel('Accuracy')  # Y-axis label\n",
    "plt.legend()  # Display legend\n",
    "\n",
    "# Subplot for loss\n",
    "plt.subplot(1, 2, 2)\n",
    "plt.plot(history.history['loss'], label='Train Loss')  # Training loss\n",
    "plt.plot(history.history['val_loss'], label='Validation Loss')  # Validation loss\n",
    "plt.title('Loss per Epoch')  # Title of the plot\n",
    "plt.xlabel('Epochs')  # X-axis label\n",
    "plt.ylabel('Loss')  # Y-axis label\n",
    "plt.legend()  # Display legend\n",
    "\n",
    "# Display the plot\n",
    "plt.tight_layout()  # Adjust layout for better fit\n",
    "plt.show()  # Show the plots"
   ]
  },
  {
   "cell_type": "code",
   "execution_count": 11,
   "id": "e621d5a5",
   "metadata": {
    "execution": {
     "iopub.execute_input": "2024-12-05T22:11:31.214397Z",
     "iopub.status.busy": "2024-12-05T22:11:31.214091Z",
     "iopub.status.idle": "2024-12-05T22:11:59.304008Z",
     "shell.execute_reply": "2024-12-05T22:11:59.303184Z"
    },
    "papermill": {
     "duration": 29.66464,
     "end_time": "2024-12-05T22:11:59.306040",
     "exception": false,
     "start_time": "2024-12-05T22:11:29.641400",
     "status": "completed"
    },
    "tags": []
   },
   "outputs": [
    {
     "name": "stdout",
     "output_type": "stream",
     "text": [
      "\u001b[1m2176/2176\u001b[0m \u001b[32m━━━━━━━━━━━━━━━━━━━━\u001b[0m\u001b[37m\u001b[0m \u001b[1m27s\u001b[0m 12ms/step\n",
      "              precision    recall  f1-score   support\n",
      "\n",
      "     suicide       0.92      0.95      0.93     34824\n",
      " non-suicide       0.95      0.91      0.93     34799\n",
      "\n",
      "    accuracy                           0.93     69623\n",
      "   macro avg       0.93      0.93      0.93     69623\n",
      "weighted avg       0.93      0.93      0.93     69623\n",
      "\n"
     ]
    }
   ],
   "source": [
    "from sklearn.metrics import classification_report\n",
    "\n",
    "# Get model predictions\n",
    "y_pred = model.predict(X_test)\n",
    "\n",
    "# Convert predictions and labels from one-hot encoding to integer labels\n",
    "y_pred_labels = np.argmax(y_pred, axis=1)\n",
    "y_test_labels = np.argmax(y_test, axis=1)\n",
    "\n",
    "# Generate the classification report\n",
    "report = classification_report(y_test_labels, y_pred_labels, target_names=df['class'].unique())\n",
    "\n",
    "# Print the classification report\n",
    "print(report)"
   ]
  }
 ],
 "metadata": {
  "kaggle": {
   "accelerator": "gpu",
   "dataSources": [
    {
     "datasetId": 1075326,
     "sourceId": 2250642,
     "sourceType": "datasetVersion"
    },
    {
     "datasetId": 6205385,
     "sourceId": 10068293,
     "sourceType": "datasetVersion"
    }
   ],
   "dockerImageVersionId": 30787,
   "isGpuEnabled": true,
   "isInternetEnabled": true,
   "language": "python",
   "sourceType": "notebook"
  },
  "kernelspec": {
   "display_name": "Python 3",
   "language": "python",
   "name": "python3"
  },
  "language_info": {
   "codemirror_mode": {
    "name": "ipython",
    "version": 3
   },
   "file_extension": ".py",
   "mimetype": "text/x-python",
   "name": "python",
   "nbconvert_exporter": "python",
   "pygments_lexer": "ipython3",
   "version": "3.10.14"
  },
  "papermill": {
   "default_parameters": {},
   "duration": 1558.258853,
   "end_time": "2024-12-05T22:12:04.226105",
   "environment_variables": {},
   "exception": null,
   "input_path": "__notebook__.ipynb",
   "output_path": "__notebook__.ipynb",
   "parameters": {},
   "start_time": "2024-12-05T21:46:05.967252",
   "version": "2.6.0"
  }
 },
 "nbformat": 4,
 "nbformat_minor": 5
}
