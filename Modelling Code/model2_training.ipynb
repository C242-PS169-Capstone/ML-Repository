{
 "cells": [
  {
   "cell_type": "code",
   "execution_count": 1,
   "metadata": {
    "id": "oHbt74QFexiV"
   },
   "outputs": [],
   "source": [
    "import pickle\n",
    "import pandas as pd\n",
    "import numpy as np\n",
    "import tensorflow as tf\n",
    "import matplotlib.pyplot as plt\n",
    "from sklearn.utils import resample\n",
    "import seaborn as sns\n",
    "import spacy\n",
    "import nltk\n",
    "import re\n",
    "import string\n",
    "from langdetect import detect\n",
    "from collections import Counter\n",
    "from nltk.corpus import stopwords, wordnet\n",
    "from nltk.tokenize import word_tokenize\n",
    "from nltk.stem import WordNetLemmatizer\n",
    "from nltk.corpus import words"
   ]
  },
  {
   "cell_type": "code",
   "execution_count": 2,
   "metadata": {
    "colab": {
     "base_uri": "https://localhost:8080/"
    },
    "id": "CiIRjza-e5vO",
    "outputId": "cd0cf50c-c9b3-4d7a-80ca-533b8bdcd7bb"
   },
   "outputs": [],
   "source": [
    "# file\n",
    "file_path = '../Combined Data.csv'"
   ]
  },
  {
   "cell_type": "code",
   "execution_count": 3,
   "metadata": {
    "colab": {
     "base_uri": "https://localhost:8080/",
     "height": 206
    },
    "id": "8szW05zAgo2q",
    "outputId": "457b5a8f-4e23-48e8-d191-2ce31904c0ce"
   },
   "outputs": [
    {
     "data": {
      "text/html": [
       "<div>\n",
       "<style scoped>\n",
       "    .dataframe tbody tr th:only-of-type {\n",
       "        vertical-align: middle;\n",
       "    }\n",
       "\n",
       "    .dataframe tbody tr th {\n",
       "        vertical-align: top;\n",
       "    }\n",
       "\n",
       "    .dataframe thead th {\n",
       "        text-align: right;\n",
       "    }\n",
       "</style>\n",
       "<table border=\"1\" class=\"dataframe\">\n",
       "  <thead>\n",
       "    <tr style=\"text-align: right;\">\n",
       "      <th></th>\n",
       "      <th>Unnamed: 0</th>\n",
       "      <th>statement</th>\n",
       "      <th>status</th>\n",
       "    </tr>\n",
       "  </thead>\n",
       "  <tbody>\n",
       "    <tr>\n",
       "      <th>0</th>\n",
       "      <td>0</td>\n",
       "      <td>oh my gosh</td>\n",
       "      <td>Anxiety</td>\n",
       "    </tr>\n",
       "    <tr>\n",
       "      <th>1</th>\n",
       "      <td>1</td>\n",
       "      <td>trouble sleeping, confused mind, restless hear...</td>\n",
       "      <td>Anxiety</td>\n",
       "    </tr>\n",
       "    <tr>\n",
       "      <th>2</th>\n",
       "      <td>2</td>\n",
       "      <td>All wrong, back off dear, forward doubt. Stay ...</td>\n",
       "      <td>Anxiety</td>\n",
       "    </tr>\n",
       "    <tr>\n",
       "      <th>3</th>\n",
       "      <td>3</td>\n",
       "      <td>I've shifted my focus to something else but I'...</td>\n",
       "      <td>Anxiety</td>\n",
       "    </tr>\n",
       "    <tr>\n",
       "      <th>4</th>\n",
       "      <td>4</td>\n",
       "      <td>I'm restless and restless, it's been a month n...</td>\n",
       "      <td>Anxiety</td>\n",
       "    </tr>\n",
       "  </tbody>\n",
       "</table>\n",
       "</div>"
      ],
      "text/plain": [
       "   Unnamed: 0                                          statement   status\n",
       "0           0                                         oh my gosh  Anxiety\n",
       "1           1  trouble sleeping, confused mind, restless hear...  Anxiety\n",
       "2           2  All wrong, back off dear, forward doubt. Stay ...  Anxiety\n",
       "3           3  I've shifted my focus to something else but I'...  Anxiety\n",
       "4           4  I'm restless and restless, it's been a month n...  Anxiety"
      ]
     },
     "execution_count": 3,
     "metadata": {},
     "output_type": "execute_result"
    }
   ],
   "source": [
    "# check the data\n",
    "df = pd.read_csv(file_path)\n",
    "df.head()"
   ]
  },
  {
   "cell_type": "code",
   "execution_count": 4,
   "metadata": {
    "colab": {
     "base_uri": "https://localhost:8080/"
    },
    "id": "Tyk4BDy1gqNe",
    "outputId": "759c9c42-c08b-4522-bb10-24c49b927c97"
   },
   "outputs": [
    {
     "name": "stdout",
     "output_type": "stream",
     "text": [
      "<class 'pandas.core.frame.DataFrame'>\n",
      "Index: 42390 entries, 0 to 53042\n",
      "Data columns (total 3 columns):\n",
      " #   Column      Non-Null Count  Dtype \n",
      "---  ------      --------------  ----- \n",
      " 0   Unnamed: 0  42390 non-null  int64 \n",
      " 1   statement   42029 non-null  object\n",
      " 2   status      42390 non-null  object\n",
      "dtypes: int64(1), object(2)\n",
      "memory usage: 1.3+ MB\n"
     ]
    }
   ],
   "source": [
    "# drop rows with suicidal status\n",
    "df = df[df['status'] != 'Suicidal']\n",
    "\n",
    "df.info()"
   ]
  },
  {
   "cell_type": "code",
   "execution_count": 5,
   "metadata": {
    "colab": {
     "base_uri": "https://localhost:8080/"
    },
    "id": "iM5blDVSgsNu",
    "outputId": "d0d7abb7-760d-46f9-ac75-7bff9905cd20"
   },
   "outputs": [
    {
     "name": "stdout",
     "output_type": "stream",
     "text": [
      "<class 'pandas.core.frame.DataFrame'>\n",
      "Index: 42029 entries, 0 to 53042\n",
      "Data columns (total 3 columns):\n",
      " #   Column      Non-Null Count  Dtype \n",
      "---  ------      --------------  ----- \n",
      " 0   Unnamed: 0  42029 non-null  int64 \n",
      " 1   statement   42029 non-null  object\n",
      " 2   status      42029 non-null  object\n",
      "dtypes: int64(1), object(2)\n",
      "memory usage: 1.3+ MB\n"
     ]
    }
   ],
   "source": [
    "# drop rows with null columns\n",
    "df_cleaned = df.dropna()\n",
    "df_cleaned.info()"
   ]
  },
  {
   "cell_type": "code",
   "execution_count": 6,
   "metadata": {},
   "outputs": [
    {
     "name": "stdout",
     "output_type": "stream",
     "text": [
      "Number of duplicate rows: 0\n"
     ]
    }
   ],
   "source": [
    "duplicate_count = df.duplicated().sum()\n",
    "print(f\"Number of duplicate rows: {duplicate_count}\")"
   ]
  },
  {
   "cell_type": "code",
   "execution_count": 7,
   "metadata": {},
   "outputs": [
    {
     "name": "stdout",
     "output_type": "stream",
     "text": [
      "<class 'pandas.core.frame.DataFrame'>\n",
      "Index: 16343 entries, 733 to 45393\n",
      "Data columns (total 3 columns):\n",
      " #   Column      Non-Null Count  Dtype \n",
      "---  ------      --------------  ----- \n",
      " 0   Unnamed: 0  16343 non-null  int64 \n",
      " 1   statement   16343 non-null  object\n",
      " 2   status      16343 non-null  object\n",
      "dtypes: int64(1), object(2)\n",
      "memory usage: 510.7+ KB\n",
      "<class 'pandas.core.frame.DataFrame'>\n",
      "Index: 2777 entries, 45394 to 50653\n",
      "Data columns (total 3 columns):\n",
      " #   Column      Non-Null Count  Dtype \n",
      "---  ------      --------------  ----- \n",
      " 0   Unnamed: 0  2777 non-null   int64 \n",
      " 1   statement   2777 non-null   object\n",
      " 2   status      2777 non-null   object\n",
      "dtypes: int64(1), object(2)\n",
      "memory usage: 86.8+ KB\n",
      "<class 'pandas.core.frame.DataFrame'>\n",
      "Index: 2587 entries, 27346 to 49468\n",
      "Data columns (total 3 columns):\n",
      " #   Column      Non-Null Count  Dtype \n",
      "---  ------      --------------  ----- \n",
      " 0   Unnamed: 0  2587 non-null   int64 \n",
      " 1   statement   2587 non-null   object\n",
      " 2   status      2587 non-null   object\n",
      "dtypes: int64(1), object(2)\n",
      "memory usage: 80.8+ KB\n",
      "<class 'pandas.core.frame.DataFrame'>\n",
      "Index: 15404 entries, 6982 to 48287\n",
      "Data columns (total 3 columns):\n",
      " #   Column      Non-Null Count  Dtype \n",
      "---  ------      --------------  ----- \n",
      " 0   Unnamed: 0  15404 non-null  int64 \n",
      " 1   statement   15404 non-null  object\n",
      " 2   status      15404 non-null  object\n",
      "dtypes: int64(1), object(2)\n",
      "memory usage: 481.4+ KB\n",
      "<class 'pandas.core.frame.DataFrame'>\n",
      "Index: 3841 entries, 0 to 53042\n",
      "Data columns (total 3 columns):\n",
      " #   Column      Non-Null Count  Dtype \n",
      "---  ------      --------------  ----- \n",
      " 0   Unnamed: 0  3841 non-null   int64 \n",
      " 1   statement   3841 non-null   object\n",
      " 2   status      3841 non-null   object\n",
      "dtypes: int64(1), object(2)\n",
      "memory usage: 120.0+ KB\n",
      "<class 'pandas.core.frame.DataFrame'>\n",
      "Index: 1077 entries, 50654 to 51854\n",
      "Data columns (total 3 columns):\n",
      " #   Column      Non-Null Count  Dtype \n",
      "---  ------      --------------  ----- \n",
      " 0   Unnamed: 0  1077 non-null   int64 \n",
      " 1   statement   1077 non-null   object\n",
      " 2   status      1077 non-null   object\n",
      "dtypes: int64(1), object(2)\n",
      "memory usage: 33.7+ KB\n"
     ]
    }
   ],
   "source": [
    "# separate the data into multiple dfs based on their label\n",
    "df_normal = df_cleaned[df_cleaned['status'] == 'Normal']\n",
    "df_bipolar = df_cleaned[df_cleaned['status'] == 'Bipolar']\n",
    "df_stress = df_cleaned[df_cleaned['status'] == 'Stress']\n",
    "df_depression = df_cleaned[df_cleaned['status'] == 'Depression']\n",
    "df_anxiety = df_cleaned[df_cleaned['status'] == 'Anxiety']\n",
    "df_personalitydis= df_cleaned[df_cleaned['status'] == 'Personality disorder']\n",
    "\n",
    "dataframes = [df_normal, df_bipolar, df_stress, df_depression, df_anxiety, df_personalitydis]\n",
    "\n",
    "for df in dataframes:\n",
    "    df.info()"
   ]
  },
  {
   "cell_type": "code",
   "execution_count": 8,
   "metadata": {},
   "outputs": [],
   "source": [
    "# initiate list for training data dfs, validation data dfs, and test data dfs\n",
    "train_list = []\n",
    "val_list = []\n",
    "test_list = []"
   ]
  },
  {
   "cell_type": "code",
   "execution_count": 9,
   "metadata": {},
   "outputs": [],
   "source": [
    "# split each df in dataframes for training and validation\n",
    "for df in dataframes:\n",
    "    # shuffle\n",
    "    df = df.sample(frac=1, random_state=42).reset_index(drop=True)\n",
    "\n",
    "    # split\n",
    "    split_training_index = int(0.75 * len(df))\n",
    "    split_val_index = int(0.9 * len(df))\n",
    "\n",
    "    train_df = df[:split_training_index]  # first 75%\n",
    "    val_df = df[split_training_index:split_val_index] # 15% after\n",
    "    test_df = df[split_val_index:] # remaining 10%\n",
    "\n",
    "    # add to list\n",
    "    train_list.append(train_df)\n",
    "    val_list.append(val_df)\n",
    "    test_list.append(test_df)"
   ]
  },
  {
   "cell_type": "code",
   "execution_count": 10,
   "metadata": {},
   "outputs": [
    {
     "name": "stdout",
     "output_type": "stream",
     "text": [
      "31519 6304 4206\n"
     ]
    }
   ],
   "source": [
    "# concatenate all the dfs in each list\n",
    "train_set = pd.concat(train_list).reset_index(drop=True)\n",
    "val_set = pd.concat(val_list).reset_index(drop=True)\n",
    "test_set = pd.concat(test_list).reset_index(drop=True)\n",
    "\n",
    "print(len(train_set), len(val_set), len(test_set))"
   ]
  },
  {
   "cell_type": "code",
   "execution_count": 11,
   "metadata": {
    "colab": {
     "base_uri": "https://localhost:8080/"
    },
    "id": "269pNtHqgudW",
    "outputId": "06ff85b7-bef2-4df2-85d9-3cce2cff5130"
   },
   "outputs": [],
   "source": [
    "def custom_resampling(df):\n",
    "    # status on the 3rd quantile\n",
    "    percentile_class_size = df['status'].value_counts().quantile(0.75)\n",
    "\n",
    "    # resampling\n",
    "    balanced_dfs = [\n",
    "        resample(\n",
    "        df_cleaned[df_cleaned['status'] == label],\n",
    "        replace=True if len(df_cleaned[df_cleaned['status'] == label]) < percentile_class_size else False,\n",
    "        n_samples=int(percentile_class_size),\n",
    "        random_state=42\n",
    "        )\n",
    "        for label in df['status'].unique()\n",
    "    ]\n",
    "\n",
    "    return pd.concat(balanced_dfs).sample(frac=1, random_state=42)"
   ]
  },
  {
   "cell_type": "code",
   "execution_count": 12,
   "metadata": {},
   "outputs": [],
   "source": [
    "train_set = custom_resampling(train_set)\n",
    "val_set = custom_resampling(val_set)\n",
    "test_set = custom_resampling(test_set)"
   ]
  },
  {
   "cell_type": "code",
   "execution_count": 13,
   "metadata": {},
   "outputs": [
    {
     "name": "stdout",
     "output_type": "stream",
     "text": [
      "56304 11256 7512\n"
     ]
    }
   ],
   "source": [
    "print(len(train_set), len(val_set), len(test_set))"
   ]
  },
  {
   "cell_type": "code",
   "execution_count": 14,
   "metadata": {},
   "outputs": [
    {
     "name": "stdout",
     "output_type": "stream",
     "text": [
      "status\n",
      "Stress                  9384\n",
      "Normal                  9384\n",
      "Depression              9384\n",
      "Anxiety                 9384\n",
      "Personality disorder    9384\n",
      "Bipolar                 9384\n",
      "Name: count, dtype: int64\n"
     ]
    }
   ],
   "source": [
    "# Check the distribution of labels in the 'status' column\n",
    "label_distribution = train_set['status'].value_counts()\n",
    "\n",
    "print(label_distribution)"
   ]
  },
  {
   "cell_type": "code",
   "execution_count": 15,
   "metadata": {},
   "outputs": [
    {
     "name": "stdout",
     "output_type": "stream",
     "text": [
      "status\n",
      "Bipolar                 1876\n",
      "Personality disorder    1876\n",
      "Normal                  1876\n",
      "Anxiety                 1876\n",
      "Stress                  1876\n",
      "Depression              1876\n",
      "Name: count, dtype: int64\n"
     ]
    }
   ],
   "source": [
    "# Check the distribution of labels in the 'status' column\n",
    "label_distribution = val_set['status'].value_counts()\n",
    "\n",
    "print(label_distribution)"
   ]
  },
  {
   "cell_type": "code",
   "execution_count": 16,
   "metadata": {},
   "outputs": [
    {
     "name": "stdout",
     "output_type": "stream",
     "text": [
      "status\n",
      "Depression              1252\n",
      "Anxiety                 1252\n",
      "Normal                  1252\n",
      "Stress                  1252\n",
      "Personality disorder    1252\n",
      "Bipolar                 1252\n",
      "Name: count, dtype: int64\n"
     ]
    }
   ],
   "source": [
    "# Check the distribution of labels in the 'status' column\n",
    "label_distribution = test_set['status'].value_counts()\n",
    "\n",
    "print(label_distribution)"
   ]
  },
  {
   "cell_type": "code",
   "execution_count": 17,
   "metadata": {},
   "outputs": [
    {
     "data": {
      "text/html": [
       "<div>\n",
       "<style scoped>\n",
       "    .dataframe tbody tr th:only-of-type {\n",
       "        vertical-align: middle;\n",
       "    }\n",
       "\n",
       "    .dataframe tbody tr th {\n",
       "        vertical-align: top;\n",
       "    }\n",
       "\n",
       "    .dataframe thead th {\n",
       "        text-align: right;\n",
       "    }\n",
       "</style>\n",
       "<table border=\"1\" class=\"dataframe\">\n",
       "  <thead>\n",
       "    <tr style=\"text-align: right;\">\n",
       "      <th></th>\n",
       "      <th>Unnamed: 0</th>\n",
       "      <th>statement</th>\n",
       "      <th>status</th>\n",
       "    </tr>\n",
       "  </thead>\n",
       "  <tbody>\n",
       "    <tr>\n",
       "      <th>48410</th>\n",
       "      <td>48410</td>\n",
       "      <td>looking for participants to use a mobile app d...</td>\n",
       "      <td>Stress</td>\n",
       "    </tr>\n",
       "    <tr>\n",
       "      <th>5761</th>\n",
       "      <td>5761</td>\n",
       "      <td>mejiko</td>\n",
       "      <td>Normal</td>\n",
       "    </tr>\n",
       "    <tr>\n",
       "      <th>28487</th>\n",
       "      <td>28487</td>\n",
       "      <td>he goes in the bedroom and we only have one ca...</td>\n",
       "      <td>Stress</td>\n",
       "    </tr>\n",
       "    <tr>\n",
       "      <th>24112</th>\n",
       "      <td>24112</td>\n",
       "      <td>it feels like no one will ever choose to spend...</td>\n",
       "      <td>Depression</td>\n",
       "    </tr>\n",
       "    <tr>\n",
       "      <th>421</th>\n",
       "      <td>421</td>\n",
       "      <td>mentally down because social media is not that...</td>\n",
       "      <td>Anxiety</td>\n",
       "    </tr>\n",
       "    <tr>\n",
       "      <th>10073</th>\n",
       "      <td>10073</td>\n",
       "      <td>sometimes somebody tells me something and i ge...</td>\n",
       "      <td>Depression</td>\n",
       "    </tr>\n",
       "    <tr>\n",
       "      <th>30165</th>\n",
       "      <td>30165</td>\n",
       "      <td>this sucks, we're booking plane tickets next w...</td>\n",
       "      <td>Stress</td>\n",
       "    </tr>\n",
       "    <tr>\n",
       "      <th>50969</th>\n",
       "      <td>50969</td>\n",
       "      <td>apathy is a defense mechanism for those who fe...</td>\n",
       "      <td>Personality disorder</td>\n",
       "    </tr>\n",
       "    <tr>\n",
       "      <th>52935</th>\n",
       "      <td>52935</td>\n",
       "      <td>scared to start lexapro i have a crippling anx...</td>\n",
       "      <td>Anxiety</td>\n",
       "    </tr>\n",
       "    <tr>\n",
       "      <th>35418</th>\n",
       "      <td>35418</td>\n",
       "      <td>shaft ring too tight...worried used a rubber r...</td>\n",
       "      <td>Anxiety</td>\n",
       "    </tr>\n",
       "    <tr>\n",
       "      <th>29237</th>\n",
       "      <td>29237</td>\n",
       "      <td>this was literally the first meal i've had wit...</td>\n",
       "      <td>Normal</td>\n",
       "    </tr>\n",
       "    <tr>\n",
       "      <th>28260</th>\n",
       "      <td>28260</td>\n",
       "      <td>i am a failure as a mother. i cannot even give...</td>\n",
       "      <td>Stress</td>\n",
       "    </tr>\n",
       "    <tr>\n",
       "      <th>46152</th>\n",
       "      <td>46152</td>\n",
       "      <td>new art subreddit hi everyone! this morning i ...</td>\n",
       "      <td>Bipolar</td>\n",
       "    </tr>\n",
       "    <tr>\n",
       "      <th>45688</th>\n",
       "      <td>45688</td>\n",
       "      <td>body of an 80 year old ( joint pains why?) so ...</td>\n",
       "      <td>Bipolar</td>\n",
       "    </tr>\n",
       "    <tr>\n",
       "      <th>51822</th>\n",
       "      <td>51822</td>\n",
       "      <td>did not even want to say hi to me i have an on...</td>\n",
       "      <td>Personality disorder</td>\n",
       "    </tr>\n",
       "    <tr>\n",
       "      <th>35061</th>\n",
       "      <td>35061</td>\n",
       "      <td>i cut shallots yesterday afternoon, and one of...</td>\n",
       "      <td>Anxiety</td>\n",
       "    </tr>\n",
       "    <tr>\n",
       "      <th>51673</th>\n",
       "      <td>51673</td>\n",
       "      <td>i’ve been thinking about dxxth a lot recently....</td>\n",
       "      <td>Personality disorder</td>\n",
       "    </tr>\n",
       "    <tr>\n",
       "      <th>48503</th>\n",
       "      <td>48503</td>\n",
       "      <td>being a perfectionist i dislike the word perfe...</td>\n",
       "      <td>Stress</td>\n",
       "    </tr>\n",
       "    <tr>\n",
       "      <th>39139</th>\n",
       "      <td>39139</td>\n",
       "      <td>i called my doctor and told them buspirone was...</td>\n",
       "      <td>Depression</td>\n",
       "    </tr>\n",
       "    <tr>\n",
       "      <th>45483</th>\n",
       "      <td>45483</td>\n",
       "      <td>an unquiet mind “there is a particular kind of...</td>\n",
       "      <td>Bipolar</td>\n",
       "    </tr>\n",
       "  </tbody>\n",
       "</table>\n",
       "</div>"
      ],
      "text/plain": [
       "       Unnamed: 0                                          statement  \\\n",
       "48410       48410  looking for participants to use a mobile app d...   \n",
       "5761         5761                                             mejiko   \n",
       "28487       28487  he goes in the bedroom and we only have one ca...   \n",
       "24112       24112  it feels like no one will ever choose to spend...   \n",
       "421           421  mentally down because social media is not that...   \n",
       "10073       10073  sometimes somebody tells me something and i ge...   \n",
       "30165       30165  this sucks, we're booking plane tickets next w...   \n",
       "50969       50969  apathy is a defense mechanism for those who fe...   \n",
       "52935       52935  scared to start lexapro i have a crippling anx...   \n",
       "35418       35418  shaft ring too tight...worried used a rubber r...   \n",
       "29237       29237  this was literally the first meal i've had wit...   \n",
       "28260       28260  i am a failure as a mother. i cannot even give...   \n",
       "46152       46152  new art subreddit hi everyone! this morning i ...   \n",
       "45688       45688  body of an 80 year old ( joint pains why?) so ...   \n",
       "51822       51822  did not even want to say hi to me i have an on...   \n",
       "35061       35061  i cut shallots yesterday afternoon, and one of...   \n",
       "51673       51673  i’ve been thinking about dxxth a lot recently....   \n",
       "48503       48503  being a perfectionist i dislike the word perfe...   \n",
       "39139       39139  i called my doctor and told them buspirone was...   \n",
       "45483       45483  an unquiet mind “there is a particular kind of...   \n",
       "\n",
       "                     status  \n",
       "48410                Stress  \n",
       "5761                 Normal  \n",
       "28487                Stress  \n",
       "24112            Depression  \n",
       "421                 Anxiety  \n",
       "10073            Depression  \n",
       "30165                Stress  \n",
       "50969  Personality disorder  \n",
       "52935               Anxiety  \n",
       "35418               Anxiety  \n",
       "29237                Normal  \n",
       "28260                Stress  \n",
       "46152               Bipolar  \n",
       "45688               Bipolar  \n",
       "51822  Personality disorder  \n",
       "35061               Anxiety  \n",
       "51673  Personality disorder  \n",
       "48503                Stress  \n",
       "39139            Depression  \n",
       "45483               Bipolar  "
      ]
     },
     "execution_count": 17,
     "metadata": {},
     "output_type": "execute_result"
    }
   ],
   "source": [
    "train_set['statement'] = train_set['statement'].str.lower()\n",
    "val_set['statement'] = val_set['statement'].str.lower()\n",
    "train_set.head(20)"
   ]
  },
  {
   "cell_type": "code",
   "execution_count": 18,
   "metadata": {},
   "outputs": [],
   "source": [
    "train_set['statement'] = train_set['statement'].str.replace(\"’\", \"'\")\n",
    "val_set['statement'] = val_set['statement'].str.replace(\"’\", \"'\")"
   ]
  },
  {
   "cell_type": "code",
   "execution_count": 19,
   "metadata": {},
   "outputs": [],
   "source": [
    "abb = {\n",
    "  \"ain't\": \"am not\",\n",
    "  \"aren't\": \"are not\",\n",
    "  \"can't\": \"cannot\",\n",
    "  \"can't've\": \"cannot have\",\n",
    "  \"'cause\": \"because\",\n",
    "  \"could've\": \"could have\",\n",
    "  \"couldn't\": \"could not\",\n",
    "  \"couldn't've\": \"could not have\",\n",
    "  \"didn't\": \"did not\",\n",
    "  \"doesn't\": \"does not\",\n",
    "  \"don't\": \"do not\",\n",
    "  \"dont\": \"do not\",\n",
    "  \"hadn't\": \"had not\",\n",
    "  \"hadn't've\": \"had not have\",\n",
    "  \"hasn't\": \"has not\",\n",
    "  \"haven't\": \"have not\",\n",
    "  \"he'd\": \"he would\",\n",
    "  \"idk\": \"i do not know\",\n",
    "  \"he'd've\": \"he would have\",\n",
    "  \"he'll\": \"he will\",  \"he'll've\": \"he will have\",\n",
    "  \"he's\": \"he is\",\n",
    "  \"how'd\": \"how did\",\n",
    "  \"how'd'y\": \"how do you\",\n",
    "  \"how'll\": \"how will\",\n",
    "  \"how's\": \"how is\",\n",
    "  \"i'd\": \"i would\",\n",
    "  \"i'd've\": \"i would have\",\n",
    "  \"i'll\": \"i will\",\n",
    "  \"i'll've\": \"i will have\",\n",
    "  \"i'm\": \"i am\",\n",
    "  \"im\": \"i am\",\n",
    "  \"i've\": \"i have\",\n",
    "  \"isn't\": \"is not\",\n",
    "  \"it'd\": \"it had\",\n",
    "  \"it'd've\": \"it would have\",\n",
    "  \"it'll\": \"it will\",\n",
    "  \"it'll've\": \"it will have\",\n",
    "  \"it's\": \"it is\", \"let's\": \"let us\",\n",
    "  \"ma'am\": \"madam\",\n",
    "  \"mayn't\": \"may not\",\n",
    "  \"might've\": \"might have\",\n",
    "  \"mightn't\": \"might not\",\n",
    "  \"mightn't've\": \"might not have\",\n",
    "  \"must've\": \"must have\",\n",
    "  \"mustn't\": \"must not\",\n",
    "  \"mustn't've\": \"must not have\",\n",
    "  \"needn't\": \"need not\",\n",
    "  \"needn't've\": \"need not have\",\n",
    "  \"o'clock\": \"of the clock\",\n",
    "  \"oughtn't\": \"ought not\",\n",
    "  \"oughtn't've\": \"ought not have\",\n",
    "  \"shan't\": \"shall not\",\n",
    "  \"sha'n't\": \"shall not\",\n",
    "  \"shan't've\": \"shall not have\",\n",
    "  \"she'd\": \"she would\",\n",
    "  \"she'd've\": \"she would have\", \"she'll\": \"she will\",\n",
    "  \"she'll've\": \"she will have\",\n",
    "  \"she's\": \"she is\",\n",
    "  \"should've\": \"should have\",\n",
    "  \"shouldn't\": \"should not\",\n",
    "  \"shouldn't've\": \"should not have\",\n",
    "  \"so've\": \"so have\",\n",
    "  \"so's\": \"so is\",\n",
    "  \"that'd\": \"that would\",\n",
    "  \"that'd've\": \"that would have\",\n",
    "  \"that's\": \"that is\",\n",
    "  \"there'd\": \"there had\",\n",
    "  \"there'd've\": \"there would have\",\n",
    "  \"there's\": \"there is\",\n",
    "  \"they'd\": \"they would\",\n",
    "  \"they'd've\": \"they would have\",\n",
    "  \"they'll\": \"they will\",\n",
    "  \"they'll've\": \"they will have\",\n",
    "  \"they're\": \"they are\",\n",
    "  \"they've\": \"they have\",      \"to've\": \"to have\",\n",
    "  \"wasn't\": \"was not\",\n",
    "  \"we'd\": \"we had\",\n",
    "  \"we'd've\": \"we would have\",\n",
    "  \"we'll\": \"we will\",\n",
    "  \"we'll've\": \"we will have\",\n",
    "  \"we're\": \"we are\",\n",
    "  \"we've\": \"we have\",\n",
    "  \"weren't\": \"were not\",\n",
    "  \"what'll\": \"what will\",\n",
    "  \"what'll've\": \"what will have\",\n",
    "  \"what're\": \"what are\",\n",
    "  \"what's\": \"what is\",\n",
    "  \"what've\": \"what have\",\n",
    "  \"when's\": \"when is\",\n",
    "  \"when've\": \"when have\",\n",
    "  \"where'd\": \"where did\",\n",
    "  \"where's\": \"where is\",\n",
    "  \"where've\": \"where have\", \"who'll\": \"who will\",\n",
    "  \"who'll've\": \"who will have\",\n",
    "  \"who's\": \"who is\",\n",
    "  \"who've\": \"who have\",\n",
    "  \"why's\": \"why is\",\n",
    "  \"why've\": \"why have\",\n",
    "  \"will've\": \"will have\",\n",
    "  \"won't\": \"will not\",\n",
    "  \"won't've\": \"will not have\",\n",
    "  \"would've\": \"would have\",\n",
    "  \"wouldn't\": \"would not\",\n",
    "  \"wouldn't've\": \"would not have\",\n",
    "  \"y'all\": \"you all\",\n",
    "  \"y'alls\": \"you alls\",\n",
    "  \"y'all'd\": \"you all would\",\n",
    "  \"y'all'd've\": \"you all would have\",\n",
    "  \"y'all're\": \"you all are\",\n",
    "  \"y'all've\": \"you all have\",\n",
    "  \"you'd\": \"you had\",\n",
    "  \"you'd've\": \"you would have\", \"you'll\": \"you you will\",\n",
    "  \"you'll've\": \"you you will have\",\n",
    "  \"you're\": \"you are\",\n",
    "  \"you've\": \"you have\"\n",
    "}"
   ]
  },
  {
   "cell_type": "code",
   "execution_count": 20,
   "metadata": {},
   "outputs": [],
   "source": [
    "abb_re = re.compile('(%s)' % '|'.join(abb.keys()))\n",
    "\n",
    "def expandContractions(text, abb_re=abb_re):\n",
    "    def replace(match):\n",
    "        return abb[match.group(0)]\n",
    "    return abb_re.sub(replace, text)\n",
    "\n",
    "train_set['statement'] = train_set['statement'].apply(expandContractions)\n",
    "val_set['statement'] = val_set['statement'].apply(expandContractions)"
   ]
  },
  {
   "cell_type": "code",
   "execution_count": 21,
   "metadata": {},
   "outputs": [
    {
     "name": "stderr",
     "output_type": "stream",
     "text": [
      "[nltk_data] Downloading package punkt_tab to\n",
      "[nltk_data]     C:\\Users\\ACER\\AppData\\Roaming\\nltk_data...\n",
      "[nltk_data]   Package punkt_tab is already up-to-date!\n"
     ]
    },
    {
     "data": {
      "text/plain": [
       "True"
      ]
     },
     "execution_count": 21,
     "metadata": {},
     "output_type": "execute_result"
    }
   ],
   "source": [
    "nltk.download('punkt_tab')"
   ]
  },
  {
   "cell_type": "code",
   "execution_count": 22,
   "metadata": {},
   "outputs": [
    {
     "name": "stderr",
     "output_type": "stream",
     "text": [
      "[nltk_data] Downloading package punkt to\n",
      "[nltk_data]     C:\\Users\\ACER\\AppData\\Roaming\\nltk_data...\n",
      "[nltk_data]   Package punkt is already up-to-date!\n"
     ]
    },
    {
     "data": {
      "text/html": [
       "<div>\n",
       "<style scoped>\n",
       "    .dataframe tbody tr th:only-of-type {\n",
       "        vertical-align: middle;\n",
       "    }\n",
       "\n",
       "    .dataframe tbody tr th {\n",
       "        vertical-align: top;\n",
       "    }\n",
       "\n",
       "    .dataframe thead th {\n",
       "        text-align: right;\n",
       "    }\n",
       "</style>\n",
       "<table border=\"1\" class=\"dataframe\">\n",
       "  <thead>\n",
       "    <tr style=\"text-align: right;\">\n",
       "      <th></th>\n",
       "      <th>Unnamed: 0</th>\n",
       "      <th>statement</th>\n",
       "      <th>status</th>\n",
       "    </tr>\n",
       "  </thead>\n",
       "  <tbody>\n",
       "    <tr>\n",
       "      <th>48410</th>\n",
       "      <td>48410</td>\n",
       "      <td>[looking, for, participants, to, use, a, mobil...</td>\n",
       "      <td>Stress</td>\n",
       "    </tr>\n",
       "    <tr>\n",
       "      <th>5761</th>\n",
       "      <td>5761</td>\n",
       "      <td>[mejiko]</td>\n",
       "      <td>Normal</td>\n",
       "    </tr>\n",
       "    <tr>\n",
       "      <th>28487</th>\n",
       "      <td>28487</td>\n",
       "      <td>[he, goes, in, the, bedroom, and, we, only, ha...</td>\n",
       "      <td>Stress</td>\n",
       "    </tr>\n",
       "    <tr>\n",
       "      <th>24112</th>\n",
       "      <td>24112</td>\n",
       "      <td>[it, feels, like, no, one, will, ever, choose,...</td>\n",
       "      <td>Depression</td>\n",
       "    </tr>\n",
       "    <tr>\n",
       "      <th>421</th>\n",
       "      <td>421</td>\n",
       "      <td>[mentally, down, because, social, media, is, n...</td>\n",
       "      <td>Anxiety</td>\n",
       "    </tr>\n",
       "  </tbody>\n",
       "</table>\n",
       "</div>"
      ],
      "text/plain": [
       "       Unnamed: 0                                          statement  \\\n",
       "48410       48410  [looking, for, participants, to, use, a, mobil...   \n",
       "5761         5761                                           [mejiko]   \n",
       "28487       28487  [he, goes, in, the, bedroom, and, we, only, ha...   \n",
       "24112       24112  [it, feels, like, no, one, will, ever, choose,...   \n",
       "421           421  [mentally, down, because, social, media, is, n...   \n",
       "\n",
       "           status  \n",
       "48410      Stress  \n",
       "5761       Normal  \n",
       "28487      Stress  \n",
       "24112  Depression  \n",
       "421       Anxiety  "
      ]
     },
     "execution_count": 22,
     "metadata": {},
     "output_type": "execute_result"
    }
   ],
   "source": [
    "nltk.download('punkt')\n",
    "\n",
    "# tokenize text\n",
    "def tokenize_text(text):\n",
    "    tokens = word_tokenize(text)\n",
    "    return tokens\n",
    "\n",
    "train_set['statement'] = train_set['statement'].apply(tokenize_text)\n",
    "val_set['statement'] = val_set['statement'].apply(tokenize_text)\n",
    "train_set.head()"
   ]
  },
  {
   "cell_type": "code",
   "execution_count": 23,
   "metadata": {},
   "outputs": [],
   "source": [
    "import wordninja\n",
    "\n",
    "# word segmentation\n",
    "train_set['statement'] = train_set['statement'].apply(lambda tokens: wordninja.split(\" \".join(tokens)))\n",
    "val_set['statement'] = val_set['statement'].apply(lambda tokens: wordninja.split(\" \".join(tokens)))"
   ]
  },
  {
   "cell_type": "code",
   "execution_count": 24,
   "metadata": {},
   "outputs": [
    {
     "name": "stderr",
     "output_type": "stream",
     "text": [
      "[nltk_data] Downloading package stopwords to\n",
      "[nltk_data]     C:\\Users\\ACER\\AppData\\Roaming\\nltk_data...\n",
      "[nltk_data]   Package stopwords is already up-to-date!\n"
     ]
    }
   ],
   "source": [
    "from nltk.corpus import stopwords\n",
    "\n",
    "# Download the list of English stopwords\n",
    "nltk.download('stopwords')\n",
    "\n",
    "# Retrieve the English stopwords\n",
    "stop_words = set(stopwords.words('english'))\n",
    "\n",
    "# Function to remove stopwords from a list of tokens\n",
    "def remove_stopwords(tokens):\n",
    "    return [word for word in tokens if word.lower() not in stop_words]\n",
    "\n",
    "# Apply the stopword removal function to the 'text' column\n",
    "train_set['statement'] = train_set['statement'].apply(remove_stopwords)\n",
    "val_set['statement'] = val_set['statement'].apply(remove_stopwords)"
   ]
  },
  {
   "cell_type": "code",
   "execution_count": 25,
   "metadata": {},
   "outputs": [
    {
     "name": "stdout",
     "output_type": "stream",
     "text": [
      "48410    [looking, participants, use, mobile, app, desi...\n",
      "5761                                              [ji, ko]\n",
      "28487    [goes, bedroom, one, car, take, work, sitting,...\n",
      "24112    [feels, like, one, ever, choose, spend, ti, fa...\n",
      "421      [mentally, social, media, good, worried, anyth...\n",
      "Name: statement, dtype: object\n"
     ]
    }
   ],
   "source": [
    "import string\n",
    "\n",
    "# Function to remove punctuation and digits\n",
    "def remove_punctuation(tokens):\n",
    "    return [word for word in tokens if word not in string.punctuation and not word.isdigit()]\n",
    "\n",
    "# Apply the function to remove punctuation and digits from the 'text' column\n",
    "train_set['statement'] = train_set['statement'].apply(remove_punctuation)\n",
    "val_set['statement'] = val_set['statement'].apply(remove_punctuation)\n",
    "\n",
    "# Display the first few rows of the 'text' column after removal\n",
    "print(train_set['statement'].head())\n"
   ]
  },
  {
   "cell_type": "code",
   "execution_count": 26,
   "metadata": {},
   "outputs": [],
   "source": [
    "def remove_special_characters(tokens):\n",
    "    # Remove special characters from each token using a regular expression\n",
    "    return [re.sub(r'[^a-zA-Z0-9\\s]', '', word) for word in tokens]\n",
    "\n",
    "# Apply the function to remove special characters\n",
    "train_set['statement'] = train_set['statement'].apply(remove_special_characters)\n",
    "val_set['statement'] = val_set['statement'].apply(remove_special_characters)"
   ]
  },
  {
   "cell_type": "code",
   "execution_count": 27,
   "metadata": {},
   "outputs": [],
   "source": [
    "# Function to remove extra whitespaces\n",
    "def remove_extra_whitespaces(tokens):\n",
    "    # Strip leading and trailing whitespaces and filter out empty strings\n",
    "    return [word.strip() for word in tokens if word.strip() != '']\n",
    "\n",
    "train_set['statement'] = train_set['statement'].apply(remove_extra_whitespaces)\n",
    "val_set['statement'] = val_set['statement'].apply(remove_extra_whitespaces)"
   ]
  },
  {
   "cell_type": "code",
   "execution_count": 28,
   "metadata": {},
   "outputs": [],
   "source": [
    "import re\n",
    "\n",
    "# Function to remove URLs \n",
    "def remove_url(tokens):\n",
    "    cleaned_tokens = [re.sub(r'http\\S+', '', token) for token in tokens]\n",
    "    return cleaned_tokens\n",
    "\n",
    "# Function to remove email addresses \n",
    "def remove_mail(tokens):\n",
    "    cleaned_tokens = [re.sub(r'\\S+@\\S+', '', token) for token in tokens]\n",
    "    return cleaned_tokens\n",
    "\n",
    "# Function to remove emojis \n",
    "def remove_emoji(tokens):\n",
    "    cleaned_tokens = [re.sub(r'[\\U0001F600-\\U0001F64F\\U0001F300-\\U0001F5FF\\U0001F680-\\U0001F6FF\\U0001F700-\\U0001F77F\\U0001F780-\\U0001F7FF\\U0001F800-\\U0001F8FF\\U0001F900-\\U0001F9FF\\U0001FA00-\\U0001FA6F\\U0001FA70-\\U0001FAFF\\U0001FB00-\\U0001FBFF\\U0001FE00-\\U0001FE0F\\U0001F004]+', '', token) for token in tokens]\n",
    "    return cleaned_tokens\n",
    "\n",
    "train_set['statement'] = train_set['statement'].apply(remove_url)\n",
    "train_set['statement'] = train_set['statement'].apply(remove_mail)\n",
    "train_set['statement'] = train_set['statement'].apply(remove_emoji)\n",
    "\n",
    "val_set['statement'] = val_set['statement'].apply(remove_url)\n",
    "val_set['statement'] = val_set['statement'].apply(remove_mail)\n",
    "val_set['statement'] = val_set['statement'].apply(remove_emoji)"
   ]
  },
  {
   "cell_type": "code",
   "execution_count": 29,
   "metadata": {},
   "outputs": [],
   "source": [
    "# Load the spaCy English model\n",
    "import spacy\n",
    "nlp = spacy.load('en_core_web_sm')\n",
    "\n",
    "def lemmatize_tokens(tokens):\n",
    "    # Join the tokens back into a sentence\n",
    "    text = ' '.join(tokens)\n",
    "    # Process the text using spaCy\n",
    "    doc = nlp(text)\n",
    "    # Lemmatize each token and return the lemmatized tokens\n",
    "    lemmatized_tokens = [token.lemma_ for token in doc]\n",
    "    return lemmatized_tokens\n",
    "\n",
    "# Apply lemmatization t\n",
    "train_set['statement'] = train_set['statement'].apply(lemmatize_tokens)\n",
    "val_set['statement'] = val_set['statement'].apply(lemmatize_tokens)"
   ]
  },
  {
   "cell_type": "code",
   "execution_count": 30,
   "metadata": {},
   "outputs": [
    {
     "name": "stderr",
     "output_type": "stream",
     "text": [
      "[nltk_data] Downloading package words to\n",
      "[nltk_data]     C:\\Users\\ACER\\AppData\\Roaming\\nltk_data...\n",
      "[nltk_data]   Package words is already up-to-date!\n"
     ]
    }
   ],
   "source": [
    "from nltk.corpus import words\n",
    "import nltk\n",
    "\n",
    "# Download the list of English words (if not already downloaded)\n",
    "nltk.download('words')\n",
    "\n",
    "# Load the set of English words\n",
    "english_words = set(words.words())\n",
    "\n",
    "# List of words to exclude from removal\n",
    "words_to_exclude =  {\n",
    "    'fuck','suicidal', 'depressed', 'anxiety', 'selfharm', 'overdose', 'hopeless',\n",
    "    'cutting', 'lifeless', 'worthless', 'painful', 'enditall', 'sadness',\n",
    "    'goodbye', 'helpme', 'hurtmyself', 'numb', 'alone', 'darkness', 'dying',\n",
    "    'unloved', 'lost', 'killmyself', 'hanging', 'drugs', 'triggered',\n",
    "    'relapse', 'cut', 'sh', 'kms', 'plshelp', 'wanttodie', 'tiredoflife'\n",
    "}\n",
    "\n",
    "# Function to remove non-English words from a list of tokens\n",
    "def remove_non_english(tokens):\n",
    "    english_tokens = [\n",
    "        token if (token in english_words or token in words_to_exclude) else ''\n",
    "        for token in tokens]\n",
    "    return [token for token in english_tokens if token != '']\n",
    "\n",
    "# Apply the function to the 'text' column in the DataFrame\n",
    "train_set['statement'] = train_set['statement'].apply(remove_non_english)\n",
    "val_set['statement'] = val_set['statement'].apply(remove_non_english)"
   ]
  },
  {
   "cell_type": "code",
   "execution_count": null,
   "metadata": {},
   "outputs": [],
   "source": [
    "# Combine tokens back into a string to process with the Tokenizer\n",
    "train_set['statement'] = train_set['statement'].apply(lambda tokens: \" \".join(tokens))\n",
    "val_set['statement'] = val_set['statement'].apply(lambda tokens: \" \".join(tokens))"
   ]
  },
  {
   "cell_type": "code",
   "execution_count": 32,
   "metadata": {},
   "outputs": [
    {
     "name": "stdout",
     "output_type": "stream",
     "text": [
      "look participant use mobile design student hi dear student group design mobile base research help focus priority instead short term distraction motivational way try free never regret need help use evaluate week participation highly survey dal ca read follow recruitment notice study title evaluation persuasive mobile application prompt ti management behaviour student part ti full ti enrol degree program high education institution year old able access device invite evaluate effectiveness persuasive am persuade student organize towards task study space first ask give consent study respond survey question take min consist demographic question question preference organization toward task study space level perceive ability control ti stress level answer survey question provide address see link link able device second use daily add daily task organize base port urgency mark complete engage social community feature four week send notification emphasize benefit adhere organizational act encourage physical clutter order create well organize study space end study ask respond post survey question take min survey question include experience perceive persuasiveness towards interview optional question ask want interview choose yes researcher communicate interview take min interview audio record participation highly completely voluntary datum treat confidential research purpose ask personal information connect survey post survey usage compensation participant enter prize draw win c gift card winner face difficulty please contact mona al ani mona al ani dal can know people may interested take part study please send link research study conduct researcher university mona al ani lead researcher rita supervisor participate study please click link survey dal ca\n"
     ]
    }
   ],
   "source": [
    "print(train_set['statement'].iloc[0])"
   ]
  },
  {
   "cell_type": "code",
   "execution_count": 33,
   "metadata": {},
   "outputs": [
    {
     "data": {
      "text/html": [
       "<div>\n",
       "<style scoped>\n",
       "    .dataframe tbody tr th:only-of-type {\n",
       "        vertical-align: middle;\n",
       "    }\n",
       "\n",
       "    .dataframe tbody tr th {\n",
       "        vertical-align: top;\n",
       "    }\n",
       "\n",
       "    .dataframe thead th {\n",
       "        text-align: right;\n",
       "    }\n",
       "</style>\n",
       "<table border=\"1\" class=\"dataframe\">\n",
       "  <thead>\n",
       "    <tr style=\"text-align: right;\">\n",
       "      <th></th>\n",
       "      <th>Unnamed: 0</th>\n",
       "      <th>statement</th>\n",
       "      <th>status</th>\n",
       "    </tr>\n",
       "  </thead>\n",
       "  <tbody>\n",
       "    <tr>\n",
       "      <th>48410</th>\n",
       "      <td>48410</td>\n",
       "      <td>look participant use mobile design student hi ...</td>\n",
       "      <td>Stress</td>\n",
       "    </tr>\n",
       "    <tr>\n",
       "      <th>5761</th>\n",
       "      <td>5761</td>\n",
       "      <td>ko</td>\n",
       "      <td>Normal</td>\n",
       "    </tr>\n",
       "    <tr>\n",
       "      <th>28487</th>\n",
       "      <td>28487</td>\n",
       "      <td>go bedroom one car take work sit bed work lite...</td>\n",
       "      <td>Stress</td>\n",
       "    </tr>\n",
       "    <tr>\n",
       "      <th>24112</th>\n",
       "      <td>24112</td>\n",
       "      <td>feel like one ever choose spend ti family want...</td>\n",
       "      <td>Depression</td>\n",
       "    </tr>\n",
       "    <tr>\n",
       "      <th>421</th>\n",
       "      <td>421</td>\n",
       "      <td>mentally social medium good worry anything</td>\n",
       "      <td>Anxiety</td>\n",
       "    </tr>\n",
       "    <tr>\n",
       "      <th>10073</th>\n",
       "      <td>10073</td>\n",
       "      <td>ti ame somebody tell something get sad sadness...</td>\n",
       "      <td>Depression</td>\n",
       "    </tr>\n",
       "    <tr>\n",
       "      <th>30165</th>\n",
       "      <td>30165</td>\n",
       "      <td>suck book plane ticket next half ecstatic anxi...</td>\n",
       "      <td>Stress</td>\n",
       "    </tr>\n",
       "    <tr>\n",
       "      <th>50969</th>\n",
       "      <td>50969</td>\n",
       "      <td>apathy defense mechanism feel may feel apathet...</td>\n",
       "      <td>Personality disorder</td>\n",
       "    </tr>\n",
       "    <tr>\n",
       "      <th>52935</th>\n",
       "      <td>52935</td>\n",
       "      <td>start pro cripple anxiety disorder prescribe p...</td>\n",
       "      <td>Anxiety</td>\n",
       "    </tr>\n",
       "    <tr>\n",
       "      <th>35418</th>\n",
       "      <td>35418</td>\n",
       "      <td>shaft ring tight worried used rubber ring kind...</td>\n",
       "      <td>Anxiety</td>\n",
       "    </tr>\n",
       "    <tr>\n",
       "      <th>29237</th>\n",
       "      <td>29237</td>\n",
       "      <td>literally first meal people nearly year couple...</td>\n",
       "      <td>Normal</td>\n",
       "    </tr>\n",
       "    <tr>\n",
       "      <th>28260</th>\n",
       "      <td>28260</td>\n",
       "      <td>failure mother even give child safe place slee...</td>\n",
       "      <td>Stress</td>\n",
       "    </tr>\n",
       "    <tr>\n",
       "      <th>46152</th>\n",
       "      <td>46152</td>\n",
       "      <td>new art sub hi everyone morning create sub r m...</td>\n",
       "      <td>Bipolar</td>\n",
       "    </tr>\n",
       "    <tr>\n",
       "      <th>45688</th>\n",
       "      <td>45688</td>\n",
       "      <td>body year old joint pain cocktail keep stable ...</td>\n",
       "      <td>Bipolar</td>\n",
       "    </tr>\n",
       "    <tr>\n",
       "      <th>51822</th>\n",
       "      <td>51822</td>\n",
       "      <td>even want say hi friend really want meet frien...</td>\n",
       "      <td>Personality disorder</td>\n",
       "    </tr>\n",
       "  </tbody>\n",
       "</table>\n",
       "</div>"
      ],
      "text/plain": [
       "       Unnamed: 0                                          statement  \\\n",
       "48410       48410  look participant use mobile design student hi ...   \n",
       "5761         5761                                                 ko   \n",
       "28487       28487  go bedroom one car take work sit bed work lite...   \n",
       "24112       24112  feel like one ever choose spend ti family want...   \n",
       "421           421         mentally social medium good worry anything   \n",
       "10073       10073  ti ame somebody tell something get sad sadness...   \n",
       "30165       30165  suck book plane ticket next half ecstatic anxi...   \n",
       "50969       50969  apathy defense mechanism feel may feel apathet...   \n",
       "52935       52935  start pro cripple anxiety disorder prescribe p...   \n",
       "35418       35418  shaft ring tight worried used rubber ring kind...   \n",
       "29237       29237  literally first meal people nearly year couple...   \n",
       "28260       28260  failure mother even give child safe place slee...   \n",
       "46152       46152  new art sub hi everyone morning create sub r m...   \n",
       "45688       45688  body year old joint pain cocktail keep stable ...   \n",
       "51822       51822  even want say hi friend really want meet frien...   \n",
       "\n",
       "                     status  \n",
       "48410                Stress  \n",
       "5761                 Normal  \n",
       "28487                Stress  \n",
       "24112            Depression  \n",
       "421                 Anxiety  \n",
       "10073            Depression  \n",
       "30165                Stress  \n",
       "50969  Personality disorder  \n",
       "52935               Anxiety  \n",
       "35418               Anxiety  \n",
       "29237                Normal  \n",
       "28260                Stress  \n",
       "46152               Bipolar  \n",
       "45688               Bipolar  \n",
       "51822  Personality disorder  "
      ]
     },
     "execution_count": 33,
     "metadata": {},
     "output_type": "execute_result"
    }
   ],
   "source": [
    "train_set.head(15)"
   ]
  },
  {
   "cell_type": "code",
   "execution_count": 34,
   "metadata": {},
   "outputs": [
    {
     "data": {
      "text/html": [
       "<div>\n",
       "<style scoped>\n",
       "    .dataframe tbody tr th:only-of-type {\n",
       "        vertical-align: middle;\n",
       "    }\n",
       "\n",
       "    .dataframe tbody tr th {\n",
       "        vertical-align: top;\n",
       "    }\n",
       "\n",
       "    .dataframe thead th {\n",
       "        text-align: right;\n",
       "    }\n",
       "</style>\n",
       "<table border=\"1\" class=\"dataframe\">\n",
       "  <thead>\n",
       "    <tr style=\"text-align: right;\">\n",
       "      <th></th>\n",
       "      <th>Unnamed: 0</th>\n",
       "      <th>statement</th>\n",
       "      <th>status</th>\n",
       "    </tr>\n",
       "  </thead>\n",
       "  <tbody>\n",
       "    <tr>\n",
       "      <th>46438</th>\n",
       "      <td>46438</td>\n",
       "      <td>lose job know bipolar part say fast enough get...</td>\n",
       "      <td>Bipolar</td>\n",
       "    </tr>\n",
       "    <tr>\n",
       "      <th>51231</th>\n",
       "      <td>51231</td>\n",
       "      <td>childhood find group recently get thinking fee...</td>\n",
       "      <td>Personality disorder</td>\n",
       "    </tr>\n",
       "    <tr>\n",
       "      <th>1469</th>\n",
       "      <td>1469</td>\n",
       "      <td>hi mentally today</td>\n",
       "      <td>Normal</td>\n",
       "    </tr>\n",
       "    <tr>\n",
       "      <th>41984</th>\n",
       "      <td>41984</td>\n",
       "      <td>world</td>\n",
       "      <td>Normal</td>\n",
       "    </tr>\n",
       "    <tr>\n",
       "      <th>33435</th>\n",
       "      <td>33435</td>\n",
       "      <td>get one rubber suction cup bottom</td>\n",
       "      <td>Normal</td>\n",
       "    </tr>\n",
       "    <tr>\n",
       "      <th>51303</th>\n",
       "      <td>51303</td>\n",
       "      <td>hi hi start saying diagnose year ago around en...</td>\n",
       "      <td>Personality disorder</td>\n",
       "    </tr>\n",
       "    <tr>\n",
       "      <th>34430</th>\n",
       "      <td>34430</td>\n",
       "      <td>swollen lymph node year drive wall ugh hello f...</td>\n",
       "      <td>Anxiety</td>\n",
       "    </tr>\n",
       "    <tr>\n",
       "      <th>28998</th>\n",
       "      <td>28998</td>\n",
       "      <td>apologize wrong sub topic wit end homeless sin...</td>\n",
       "      <td>Stress</td>\n",
       "    </tr>\n",
       "    <tr>\n",
       "      <th>51710</th>\n",
       "      <td>51710</td>\n",
       "      <td>feel lately birthday day bit depress spend hou...</td>\n",
       "      <td>Personality disorder</td>\n",
       "    </tr>\n",
       "    <tr>\n",
       "      <th>51311</th>\n",
       "      <td>51311</td>\n",
       "      <td>anyone else sensitive tone voice swear would g...</td>\n",
       "      <td>Personality disorder</td>\n",
       "    </tr>\n",
       "    <tr>\n",
       "      <th>52818</th>\n",
       "      <td>52818</td>\n",
       "      <td>every strange thing happen last hour please re...</td>\n",
       "      <td>Anxiety</td>\n",
       "    </tr>\n",
       "    <tr>\n",
       "      <th>51450</th>\n",
       "      <td>51450</td>\n",
       "      <td>constantly draw blank brain fog honestly feel ...</td>\n",
       "      <td>Personality disorder</td>\n",
       "    </tr>\n",
       "    <tr>\n",
       "      <th>39742</th>\n",
       "      <td>39742</td>\n",
       "      <td>say tell get well ti heavy thing come hold har...</td>\n",
       "      <td>Depression</td>\n",
       "    </tr>\n",
       "    <tr>\n",
       "      <th>4538</th>\n",
       "      <td>4538</td>\n",
       "      <td>q j</td>\n",
       "      <td>Normal</td>\n",
       "    </tr>\n",
       "    <tr>\n",
       "      <th>48473</th>\n",
       "      <td>48473</td>\n",
       "      <td>stress stress present everyone s life unavoida...</td>\n",
       "      <td>Stress</td>\n",
       "    </tr>\n",
       "  </tbody>\n",
       "</table>\n",
       "</div>"
      ],
      "text/plain": [
       "       Unnamed: 0                                          statement  \\\n",
       "46438       46438  lose job know bipolar part say fast enough get...   \n",
       "51231       51231  childhood find group recently get thinking fee...   \n",
       "1469         1469                                  hi mentally today   \n",
       "41984       41984                                              world   \n",
       "33435       33435                  get one rubber suction cup bottom   \n",
       "51303       51303  hi hi start saying diagnose year ago around en...   \n",
       "34430       34430  swollen lymph node year drive wall ugh hello f...   \n",
       "28998       28998  apologize wrong sub topic wit end homeless sin...   \n",
       "51710       51710  feel lately birthday day bit depress spend hou...   \n",
       "51311       51311  anyone else sensitive tone voice swear would g...   \n",
       "52818       52818  every strange thing happen last hour please re...   \n",
       "51450       51450  constantly draw blank brain fog honestly feel ...   \n",
       "39742       39742  say tell get well ti heavy thing come hold har...   \n",
       "4538         4538                                                q j   \n",
       "48473       48473  stress stress present everyone s life unavoida...   \n",
       "\n",
       "                     status  \n",
       "46438               Bipolar  \n",
       "51231  Personality disorder  \n",
       "1469                 Normal  \n",
       "41984                Normal  \n",
       "33435                Normal  \n",
       "51303  Personality disorder  \n",
       "34430               Anxiety  \n",
       "28998                Stress  \n",
       "51710  Personality disorder  \n",
       "51311  Personality disorder  \n",
       "52818               Anxiety  \n",
       "51450  Personality disorder  \n",
       "39742            Depression  \n",
       "4538                 Normal  \n",
       "48473                Stress  "
      ]
     },
     "execution_count": 34,
     "metadata": {},
     "output_type": "execute_result"
    }
   ],
   "source": [
    "val_set.head(15)"
   ]
  },
  {
   "cell_type": "code",
   "execution_count": 35,
   "metadata": {},
   "outputs": [],
   "source": [
    "# extract text and labels\n",
    "train_text = train_set['statement'].to_numpy()\n",
    "train_labels = train_set['status'].to_numpy()\n",
    "\n",
    "val_text = val_set['statement'].to_numpy()\n",
    "val_labels = val_set['status'].to_numpy()"
   ]
  },
  {
   "cell_type": "code",
   "execution_count": 36,
   "metadata": {
    "id": "n3I8PRJmr9yJ"
   },
   "outputs": [],
   "source": [
    " # map to number\n",
    "label_mapping = {'Normal': 0, 'Bipolar': 1, 'Stress': 2, 'Anxiety': 3, 'Depression': 4, 'Personality disorder': 5}\n",
    "\n",
    "# convert labels\n",
    "numeric_train_labels = [label_mapping[label] for label in train_labels]  \n",
    "numeric_val_labels = [label_mapping[label] for label in val_labels]\n",
    "\n",
    "# one-hot encode\n",
    "train_labels_one_hot = tf.keras.utils.to_categorical(numeric_train_labels, num_classes=6)\n",
    "val_labels_one_hot = tf.keras.utils.to_categorical(numeric_val_labels, num_classes=6)"
   ]
  },
  {
   "cell_type": "code",
   "execution_count": 37,
   "metadata": {},
   "outputs": [
    {
     "name": "stdout",
     "output_type": "stream",
     "text": [
      "Text: b'look participant use mobile design student hi dear student group design mobile base research help focus priority instead short term distraction motivational way try free never regret need help use evaluate week participation highly survey dal ca read follow recruitment notice study title evaluation persuasive mobile application prompt ti management behaviour student part ti full ti enrol degree program high education institution year old able access device invite evaluate effectiveness persuasive am persuade student organize towards task study space first ask give consent study respond survey question take min consist demographic question question preference organization toward task study space level perceive ability control ti stress level answer survey question provide address see link link able device second use daily add daily task organize base port urgency mark complete engage social community feature four week send notification emphasize benefit adhere organizational act encourage physical clutter order create well organize study space end study ask respond post survey question take min survey question include experience perceive persuasiveness towards interview optional question ask want interview choose yes researcher communicate interview take min interview audio record participation highly completely voluntary datum treat confidential research purpose ask personal information connect survey post survey usage compensation participant enter prize draw win c gift card winner face difficulty please contact mona al ani mona al ani dal can know people may interested take part study please send link research study conduct researcher university mona al ani lead researcher rita supervisor participate study please click link survey dal ca' \n",
      "Label: [0. 0. 1. 0. 0. 0.]\n",
      "Text: b'ko' \n",
      "Label: [1. 0. 0. 0. 0. 0.]\n",
      "Text: b'go bedroom one car take work sit bed work literally minute live close work say come going make late say well find car key start look find honestly go yell tune say even remember' \n",
      "Label: [0. 0. 1. 0. 0. 0.]\n",
      "Text: b'feel like one ever choose spend ti family want someone life talk also know feel ill feel bad annoying feel like nothing go change wait happy life never happen wait do sick lonely' \n",
      "Label: [0. 0. 0. 0. 1. 0.]\n",
      "Text: b'mentally social medium good worry anything' \n",
      "Label: [0. 0. 0. 1. 0. 0.]\n",
      "Text: b'ti ame somebody tell something get sad sadness overcome strong know get rid matter hard try want live normal life meet honest loyal people happy sadness overcome stick stick physically stuck feeling handle ti ame' \n",
      "Label: [0. 0. 0. 0. 1. 0.]\n",
      "Text: b'suck book plane ticket next half ecstatic anxious half dread need figure calm anticipatory anxiety let enjoy relationship excitement lead trip even trip although feel like fine anxiety stop let stop anybody experience tip strategy give help overcome anxious upcoming trip afraid trap away comfort home point affect part life get anticipatory anxiety enjoy' \n",
      "Label: [0. 0. 1. 0. 0. 0.]\n",
      "Text: b'apathy defense mechanism feel may feel apathetic towards socialize possible apathy starting point someone come reaction protection' \n",
      "Label: [0. 0. 0. 0. 0. 1.]\n",
      "Text: b'start pro cripple anxiety disorder prescribe pro gad notice anxiety always around health especially heart get bad barely leave house afraid exert depressing use gym rat exercise use help cope anxiety something mind really intensify past year deal multiple panic attack land er get bunch physical symptom constantly help worry many test do doctor reassure healthy doc believe pro help seem find courage take terrify would really appreciate encouragement start high key hate live like' \n",
      "Label: [0. 0. 0. 1. 0. 0.]\n",
      "Text: b'shaft ring tight worried used rubber ring kind go around penis shaft purchase erection quality problem also cause anxiety way tight painful take quickly possible could intense squeeze like minute cause permanent damage noticeable bruise pain doctor see anything wrong still worry thought would appreciate' \n",
      "Label: [0. 0. 0. 1. 0. 0.]\n"
     ]
    }
   ],
   "source": [
    "# make tf dataset\n",
    "train_dataset = tf.data.Dataset.from_tensor_slices((train_text, train_labels_one_hot))\n",
    "val_dataset = tf.data.Dataset.from_tensor_slices((val_text, val_labels_one_hot))\n",
    "\n",
    "# check\n",
    "for text, label in train_dataset.take(10):\n",
    "    print(f\"Text: {text.numpy()} \\nLabel: {label.numpy()}\")"
   ]
  },
  {
   "cell_type": "code",
   "execution_count": 38,
   "metadata": {
    "id": "NwuzCUmagz_a"
   },
   "outputs": [],
   "source": [
    "# set values\n",
    "EMBEDDING_DIM = 100\n",
    "MAX_NUM_WORDS = 10000\n",
    "MAX_LENGTH = 200\n",
    "NUM_BATCHES = 64\n",
    "SHUFFLE_BUFFER_SIZE = 1000\n",
    "PREFETCH_BUFFER_SIZE = tf.data.AUTOTUNE\n",
    "SHUFFLE_BUFFER_SIZE = 1000"
   ]
  },
  {
   "cell_type": "code",
   "execution_count": 39,
   "metadata": {
    "colab": {
     "base_uri": "https://localhost:8080/"
    },
    "id": "DgMXy2Bdg3eb",
    "outputId": "b3dd5821-4564-41e7-d9c3-8e6ae6c1d852"
   },
   "outputs": [
    {
     "name": "stdout",
     "output_type": "stream",
     "text": [
      "There are 880 batches for a total of 56320 elements for training.\n",
      "\n",
      "There are 176 batches for a total of 11264 elements for validation.\n",
      "\n",
      "Total elements in dataset: 67584\n"
     ]
    }
   ],
   "source": [
    "# batch, prefetch, and shuffle\n",
    "train_dataset = train_dataset.cache().shuffle(SHUFFLE_BUFFER_SIZE).prefetch(PREFETCH_BUFFER_SIZE).batch(NUM_BATCHES)\n",
    "val_dataset = val_dataset.cache().shuffle(SHUFFLE_BUFFER_SIZE).prefetch(PREFETCH_BUFFER_SIZE).batch(NUM_BATCHES)\n",
    "\n",
    "print(f\"There are {len(train_dataset)} batches for a total of {NUM_BATCHES*len(train_dataset)} elements for training.\\n\")\n",
    "print(f\"There are {len(val_dataset)} batches for a total of {NUM_BATCHES*len(val_dataset)} elements for validation.\\n\")\n",
    "\n",
    "print(f\"Total elements in dataset: {(NUM_BATCHES*len(train_dataset)) + (NUM_BATCHES*len(val_dataset))}\")"
   ]
  },
  {
   "cell_type": "code",
   "execution_count": 40,
   "metadata": {
    "id": "n_aMIufxh97f"
   },
   "outputs": [],
   "source": [
    "def fit_vectorizer(dataset):\n",
    "    vectorizer = tf.keras.layers.TextVectorization(\n",
    "        standardize='lower_and_strip_punctuation',\n",
    "        output_sequence_length=MAX_LENGTH\n",
    "    )\n",
    "\n",
    "    vectorizer.adapt(dataset)\n",
    "\n",
    "    return vectorizer"
   ]
  },
  {
   "cell_type": "code",
   "execution_count": 41,
   "metadata": {
    "colab": {
     "base_uri": "https://localhost:8080/"
    },
    "id": "9JWsYNTNh_JS",
    "outputId": "f9a0f1cc-1575-4ae2-ec64-ea38b3a4019f"
   },
   "outputs": [
    {
     "name": "stdout",
     "output_type": "stream",
     "text": [
      "Vocabulary contains 15078 words\n",
      "\n"
     ]
    }
   ],
   "source": [
    "text_only_dataset = train_dataset.map(lambda text, label: text)\n",
    "\n",
    "vectorizer = fit_vectorizer(text_only_dataset)\n",
    "\n",
    "vocab_size = vectorizer.vocabulary_size()\n",
    "\n",
    "print(f\"Vocabulary contains {vocab_size} words\\n\")"
   ]
  },
  {
   "cell_type": "code",
   "execution_count": 42,
   "metadata": {
    "colab": {
     "base_uri": "https://localhost:8080/"
    },
    "id": "5C6BkSohiARj",
    "outputId": "aff827ad-d642-4d1a-ff09-581f9d5762ff"
   },
   "outputs": [
    {
     "name": "stdout",
     "output_type": "stream",
     "text": [
      "(TensorSpec(shape=(None, None), dtype=tf.int64, name=None), TensorSpec(shape=(None, 6), dtype=tf.float64, name=None))\n",
      "Text batch shape: (64, 200)\n",
      "Label batch shape: (64, 6)\n"
     ]
    }
   ],
   "source": [
    "# apply vectorization to train and val datasets\n",
    "train_dataset_vectorized = train_dataset.map(lambda x,y: (vectorizer(x), y))\n",
    "val_dataset_vectorized = val_dataset.map(lambda x,y: (vectorizer(x), y))\n",
    "\n",
    "print(train_dataset_vectorized.element_spec)\n",
    "for text_batch, label_batch in train_dataset_vectorized.take(1):\n",
    "    print(f\"Text batch shape: {text_batch.shape}\")\n",
    "    print(f\"Label batch shape: {label_batch.shape}\")"
   ]
  },
  {
   "cell_type": "code",
   "execution_count": 43,
   "metadata": {
    "id": "IoZ97rr1iC6L"
   },
   "outputs": [],
   "source": [
    "def create_model(vocab_size):\n",
    "\n",
    "    model = tf.keras.Sequential([\n",
    "        tf.keras.Input(shape=(MAX_LENGTH,)),\n",
    "        tf.keras.layers.Embedding(input_dim=vocab_size, output_dim=EMBEDDING_DIM),\n",
    "        tf.keras.layers.Bidirectional(tf.keras.layers.GRU(64, return_sequences=True, kernel_regularizer=tf.keras.regularizers.l2(0.01))),\n",
    "        tf.keras.layers.Bidirectional(tf.keras.layers.GRU(64, kernel_regularizer=tf.keras.regularizers.l2(0.01))),\n",
    "        tf.keras.layers.Dropout(0.2),\n",
    "        tf.keras.layers.Dense(64, activation='relu'),\n",
    "        tf.keras.layers.Dense(6, activation='softmax')\n",
    "        ])\n",
    "\n",
    "    model.compile(\n",
    "        loss='categorical_crossentropy',\n",
    "        optimizer=tf.keras.optimizers.Adam(clipnorm=1.0),\n",
    "        metrics=['accuracy']\n",
    "    )\n",
    "\n",
    "    return model"
   ]
  },
  {
   "cell_type": "code",
   "execution_count": 44,
   "metadata": {
    "colab": {
     "base_uri": "https://localhost:8080/"
    },
    "id": "EIVX2gcLiI3g",
    "outputId": "57c06be5-f6d5-48a6-9504-fcbb0bfbadb9"
   },
   "outputs": [
    {
     "name": "stdout",
     "output_type": "stream",
     "text": [
      "(TensorSpec(shape=(None, None), dtype=tf.int64, name=None), TensorSpec(shape=(None, 6), dtype=tf.float64, name=None))\n",
      "predictions have shape: (64, 6)\n"
     ]
    }
   ],
   "source": [
    "# Create your untrained model\n",
    "model = create_model(vocab_size)\n",
    "\n",
    "# Take an example batch of data\n",
    "example_batch = train_dataset_vectorized.take(1)\n",
    "print(example_batch.element_spec)\n",
    "try:\n",
    "\tmodel.evaluate(example_batch, verbose=False)\n",
    "except:\n",
    "\tprint(\"Your model is not compatible with the dataset you defined earlier. Check that the loss function and last layer are compatible with one another.\")\n",
    "else:\n",
    "\tpredictions = model.predict(example_batch, verbose=False)\n",
    "\tprint(f\"predictions have shape: {predictions.shape}\")"
   ]
  },
  {
   "cell_type": "code",
   "execution_count": 45,
   "metadata": {
    "id": "LuVe2b-YiLdE"
   },
   "outputs": [],
   "source": [
    "class EarlyStoppingCallback(tf.keras.callbacks.Callback):\n",
    "\n",
    "    # Define the correct function signature for on_epoch_end method\n",
    "    def on_epoch_end(self, epoch, logs=None):\n",
    "\n",
    "        # Check if the accuracy is greater or equal to 0.95\n",
    "        if  logs['val_accuracy']>= 0.95:\n",
    "\n",
    "            # Stop training once the above condition is met\n",
    "            self.model.stop_training = True\n",
    "\n",
    "            print(\"\\nReached 95% accuracy so cancelling training!\")"
   ]
  },
  {
   "cell_type": "code",
   "execution_count": 46,
   "metadata": {
    "colab": {
     "base_uri": "https://localhost:8080/",
     "height": 495
    },
    "collapsed": true,
    "id": "M289nxb6iMm8",
    "outputId": "415a5026-87dc-428c-fff6-64be3196b43b"
   },
   "outputs": [
    {
     "name": "stdout",
     "output_type": "stream",
     "text": [
      "Epoch 1/50\n",
      "\u001b[1m880/880\u001b[0m \u001b[32m━━━━━━━━━━━━━━━━━━━━\u001b[0m\u001b[37m\u001b[0m \u001b[1m455s\u001b[0m 502ms/step - accuracy: 0.4580 - loss: 2.3398 - val_accuracy: 0.7270 - val_loss: 0.8152\n",
      "Epoch 2/50\n",
      "\u001b[1m880/880\u001b[0m \u001b[32m━━━━━━━━━━━━━━━━━━━━\u001b[0m\u001b[37m\u001b[0m \u001b[1m457s\u001b[0m 519ms/step - accuracy: 0.7708 - loss: 0.7178 - val_accuracy: 0.8242 - val_loss: 0.5777\n",
      "Epoch 3/50\n",
      "\u001b[1m880/880\u001b[0m \u001b[32m━━━━━━━━━━━━━━━━━━━━\u001b[0m\u001b[37m\u001b[0m \u001b[1m1275s\u001b[0m 1s/step - accuracy: 0.8334 - loss: 0.5548 - val_accuracy: 0.8494 - val_loss: 0.5151\n",
      "Epoch 4/50\n",
      "\u001b[1m880/880\u001b[0m \u001b[32m━━━━━━━━━━━━━━━━━━━━\u001b[0m\u001b[37m\u001b[0m \u001b[1m746s\u001b[0m 845ms/step - accuracy: 0.8608 - loss: 0.4814 - val_accuracy: 0.8586 - val_loss: 0.4935\n",
      "Epoch 5/50\n",
      "\u001b[1m880/880\u001b[0m \u001b[32m━━━━━━━━━━━━━━━━━━━━\u001b[0m\u001b[37m\u001b[0m \u001b[1m306s\u001b[0m 348ms/step - accuracy: 0.8805 - loss: 0.4345 - val_accuracy: 0.8818 - val_loss: 0.4334\n",
      "Epoch 6/50\n",
      "\u001b[1m880/880\u001b[0m \u001b[32m━━━━━━━━━━━━━━━━━━━━\u001b[0m\u001b[37m\u001b[0m \u001b[1m317s\u001b[0m 361ms/step - accuracy: 0.8958 - loss: 0.3891 - val_accuracy: 0.8700 - val_loss: 0.4786\n",
      "Epoch 7/50\n",
      "\u001b[1m880/880\u001b[0m \u001b[32m━━━━━━━━━━━━━━━━━━━━\u001b[0m\u001b[37m\u001b[0m \u001b[1m324s\u001b[0m 368ms/step - accuracy: 0.9094 - loss: 0.3491 - val_accuracy: 0.9023 - val_loss: 0.3819\n",
      "Epoch 8/50\n",
      "\u001b[1m880/880\u001b[0m \u001b[32m━━━━━━━━━━━━━━━━━━━━\u001b[0m\u001b[37m\u001b[0m \u001b[1m314s\u001b[0m 357ms/step - accuracy: 0.9179 - loss: 0.3188 - val_accuracy: 0.8981 - val_loss: 0.3930\n",
      "Epoch 9/50\n",
      "\u001b[1m880/880\u001b[0m \u001b[32m━━━━━━━━━━━━━━━━━━━━\u001b[0m\u001b[37m\u001b[0m \u001b[1m325s\u001b[0m 370ms/step - accuracy: 0.9237 - loss: 0.2991 - val_accuracy: 0.9065 - val_loss: 0.3643\n",
      "Epoch 10/50\n",
      "\u001b[1m880/880\u001b[0m \u001b[32m━━━━━━━━━━━━━━━━━━━━\u001b[0m\u001b[37m\u001b[0m \u001b[1m329s\u001b[0m 374ms/step - accuracy: 0.9313 - loss: 0.2754 - val_accuracy: 0.8926 - val_loss: 0.4192\n",
      "Epoch 11/50\n",
      "\u001b[1m880/880\u001b[0m \u001b[32m━━━━━━━━━━━━━━━━━━━━\u001b[0m\u001b[37m\u001b[0m \u001b[1m330s\u001b[0m 375ms/step - accuracy: 0.9339 - loss: 0.2693 - val_accuracy: 0.9122 - val_loss: 0.3535\n",
      "Epoch 12/50\n",
      "\u001b[1m880/880\u001b[0m \u001b[32m━━━━━━━━━━━━━━━━━━━━\u001b[0m\u001b[37m\u001b[0m \u001b[1m338s\u001b[0m 384ms/step - accuracy: 0.9422 - loss: 0.2446 - val_accuracy: 0.9136 - val_loss: 0.3495\n",
      "Epoch 13/50\n",
      "\u001b[1m880/880\u001b[0m \u001b[32m━━━━━━━━━━━━━━━━━━━━\u001b[0m\u001b[37m\u001b[0m \u001b[1m334s\u001b[0m 379ms/step - accuracy: 0.9450 - loss: 0.2318 - val_accuracy: 0.9154 - val_loss: 0.3443\n",
      "Epoch 14/50\n",
      "\u001b[1m880/880\u001b[0m \u001b[32m━━━━━━━━━━━━━━━━━━━━\u001b[0m\u001b[37m\u001b[0m \u001b[1m334s\u001b[0m 379ms/step - accuracy: 0.9475 - loss: 0.2224 - val_accuracy: 0.9043 - val_loss: 0.3867\n",
      "Epoch 15/50\n",
      "\u001b[1m880/880\u001b[0m \u001b[32m━━━━━━━━━━━━━━━━━━━━\u001b[0m\u001b[37m\u001b[0m \u001b[1m340s\u001b[0m 386ms/step - accuracy: 0.9500 - loss: 0.2152 - val_accuracy: 0.9235 - val_loss: 0.3202\n",
      "Epoch 16/50\n",
      "\u001b[1m880/880\u001b[0m \u001b[32m━━━━━━━━━━━━━━━━━━━━\u001b[0m\u001b[37m\u001b[0m \u001b[1m458s\u001b[0m 521ms/step - accuracy: 0.9553 - loss: 0.1955 - val_accuracy: 0.9184 - val_loss: 0.3347\n",
      "Epoch 17/50\n",
      "\u001b[1m880/880\u001b[0m \u001b[32m━━━━━━━━━━━━━━━━━━━━\u001b[0m\u001b[37m\u001b[0m \u001b[1m343s\u001b[0m 389ms/step - accuracy: 0.9567 - loss: 0.1911 - val_accuracy: 0.9138 - val_loss: 0.3580\n",
      "Epoch 18/50\n",
      "\u001b[1m880/880\u001b[0m \u001b[32m━━━━━━━━━━━━━━━━━━━━\u001b[0m\u001b[37m\u001b[0m \u001b[1m334s\u001b[0m 380ms/step - accuracy: 0.9604 - loss: 0.1776 - val_accuracy: 0.9220 - val_loss: 0.3264\n",
      "Epoch 19/50\n",
      "\u001b[1m880/880\u001b[0m \u001b[32m━━━━━━━━━━━━━━━━━━━━\u001b[0m\u001b[37m\u001b[0m \u001b[1m358s\u001b[0m 406ms/step - accuracy: 0.9613 - loss: 0.1712 - val_accuracy: 0.9211 - val_loss: 0.3245\n",
      "Epoch 20/50\n",
      "\u001b[1m880/880\u001b[0m \u001b[32m━━━━━━━━━━━━━━━━━━━━\u001b[0m\u001b[37m\u001b[0m \u001b[1m358s\u001b[0m 407ms/step - accuracy: 0.9616 - loss: 0.1648 - val_accuracy: 0.9256 - val_loss: 0.3119\n",
      "Epoch 21/50\n",
      "\u001b[1m880/880\u001b[0m \u001b[32m━━━━━━━━━━━━━━━━━━━━\u001b[0m\u001b[37m\u001b[0m \u001b[1m359s\u001b[0m 408ms/step - accuracy: 0.9667 - loss: 0.1487 - val_accuracy: 0.9323 - val_loss: 0.3003\n",
      "Epoch 22/50\n",
      "\u001b[1m880/880\u001b[0m \u001b[32m━━━━━━━━━━━━━━━━━━━━\u001b[0m\u001b[37m\u001b[0m \u001b[1m378s\u001b[0m 429ms/step - accuracy: 0.9670 - loss: 0.1468 - val_accuracy: 0.9209 - val_loss: 0.3516\n",
      "Epoch 23/50\n",
      "\u001b[1m880/880\u001b[0m \u001b[32m━━━━━━━━━━━━━━━━━━━━\u001b[0m\u001b[37m\u001b[0m \u001b[1m373s\u001b[0m 424ms/step - accuracy: 0.9679 - loss: 0.1461 - val_accuracy: 0.9285 - val_loss: 0.3185\n",
      "Epoch 24/50\n",
      "\u001b[1m880/880\u001b[0m \u001b[32m━━━━━━━━━━━━━━━━━━━━\u001b[0m\u001b[37m\u001b[0m \u001b[1m388s\u001b[0m 441ms/step - accuracy: 0.9694 - loss: 0.1405 - val_accuracy: 0.9407 - val_loss: 0.2735\n",
      "Epoch 25/50\n",
      "\u001b[1m880/880\u001b[0m \u001b[32m━━━━━━━━━━━━━━━━━━━━\u001b[0m\u001b[37m\u001b[0m \u001b[1m397s\u001b[0m 452ms/step - accuracy: 0.9719 - loss: 0.1307 - val_accuracy: 0.9280 - val_loss: 0.3177\n",
      "Epoch 26/50\n",
      "\u001b[1m880/880\u001b[0m \u001b[32m━━━━━━━━━━━━━━━━━━━━\u001b[0m\u001b[37m\u001b[0m \u001b[1m358s\u001b[0m 407ms/step - accuracy: 0.9718 - loss: 0.1314 - val_accuracy: 0.9402 - val_loss: 0.2801\n",
      "Epoch 27/50\n",
      "\u001b[1m880/880\u001b[0m \u001b[32m━━━━━━━━━━━━━━━━━━━━\u001b[0m\u001b[37m\u001b[0m \u001b[1m365s\u001b[0m 414ms/step - accuracy: 0.9737 - loss: 0.1253 - val_accuracy: 0.9232 - val_loss: 0.3302\n",
      "Epoch 28/50\n",
      "\u001b[1m880/880\u001b[0m \u001b[32m━━━━━━━━━━━━━━━━━━━━\u001b[0m\u001b[37m\u001b[0m \u001b[1m481s\u001b[0m 547ms/step - accuracy: 0.9733 - loss: 0.1260 - val_accuracy: 0.9334 - val_loss: 0.3127\n",
      "Epoch 29/50\n",
      "\u001b[1m880/880\u001b[0m \u001b[32m━━━━━━━━━━━━━━━━━━━━\u001b[0m\u001b[37m\u001b[0m \u001b[1m499s\u001b[0m 567ms/step - accuracy: 0.9735 - loss: 0.1260 - val_accuracy: 0.9353 - val_loss: 0.2984\n",
      "Epoch 30/50\n",
      "\u001b[1m880/880\u001b[0m \u001b[32m━━━━━━━━━━━━━━━━━━━━\u001b[0m\u001b[37m\u001b[0m \u001b[1m483s\u001b[0m 549ms/step - accuracy: 0.9761 - loss: 0.1154 - val_accuracy: 0.9414 - val_loss: 0.2758\n",
      "Epoch 31/50\n",
      "\u001b[1m880/880\u001b[0m \u001b[32m━━━━━━━━━━━━━━━━━━━━\u001b[0m\u001b[37m\u001b[0m \u001b[1m466s\u001b[0m 529ms/step - accuracy: 0.9745 - loss: 0.1174 - val_accuracy: 0.9457 - val_loss: 0.2548\n",
      "Epoch 32/50\n",
      "\u001b[1m880/880\u001b[0m \u001b[32m━━━━━━━━━━━━━━━━━━━━\u001b[0m\u001b[37m\u001b[0m \u001b[1m472s\u001b[0m 536ms/step - accuracy: 0.9762 - loss: 0.1146 - val_accuracy: 0.9462 - val_loss: 0.2609\n",
      "Epoch 33/50\n",
      "\u001b[1m880/880\u001b[0m \u001b[32m━━━━━━━━━━━━━━━━━━━━\u001b[0m\u001b[37m\u001b[0m \u001b[1m455s\u001b[0m 517ms/step - accuracy: 0.9794 - loss: 0.1023 - val_accuracy: 0.9313 - val_loss: 0.3091\n",
      "Epoch 34/50\n",
      "\u001b[1m880/880\u001b[0m \u001b[32m━━━━━━━━━━━━━━━━━━━━\u001b[0m\u001b[37m\u001b[0m \u001b[1m468s\u001b[0m 532ms/step - accuracy: 0.9773 - loss: 0.1078 - val_accuracy: 0.9400 - val_loss: 0.2877\n",
      "Epoch 35/50\n",
      "\u001b[1m880/880\u001b[0m \u001b[32m━━━━━━━━━━━━━━━━━━━━\u001b[0m\u001b[37m\u001b[0m \u001b[1m471s\u001b[0m 535ms/step - accuracy: 0.9780 - loss: 0.1039 - val_accuracy: 0.9470 - val_loss: 0.2608\n",
      "Epoch 36/50\n",
      "\u001b[1m880/880\u001b[0m \u001b[32m━━━━━━━━━━━━━━━━━━━━\u001b[0m\u001b[37m\u001b[0m \u001b[1m465s\u001b[0m 528ms/step - accuracy: 0.9807 - loss: 0.0973 - val_accuracy: 0.9487 - val_loss: 0.2617\n",
      "Epoch 37/50\n",
      "\u001b[1m880/880\u001b[0m \u001b[32m━━━━━━━━━━━━━━━━━━━━\u001b[0m\u001b[37m\u001b[0m \u001b[1m467s\u001b[0m 530ms/step - accuracy: 0.9804 - loss: 0.0976 - val_accuracy: 0.9426 - val_loss: 0.2786\n",
      "Epoch 38/50\n",
      "\u001b[1m880/880\u001b[0m \u001b[32m━━━━━━━━━━━━━━━━━━━━\u001b[0m\u001b[37m\u001b[0m \u001b[1m470s\u001b[0m 534ms/step - accuracy: 0.9803 - loss: 0.0954 - val_accuracy: 0.9461 - val_loss: 0.2685\n",
      "Epoch 39/50\n",
      "\u001b[1m880/880\u001b[0m \u001b[32m━━━━━━━━━━━━━━━━━━━━\u001b[0m\u001b[37m\u001b[0m \u001b[1m468s\u001b[0m 532ms/step - accuracy: 0.9797 - loss: 0.1002 - val_accuracy: 0.9479 - val_loss: 0.2690\n",
      "Epoch 40/50\n",
      "\u001b[1m880/880\u001b[0m \u001b[32m━━━━━━━━━━━━━━━━━━━━\u001b[0m\u001b[37m\u001b[0m \u001b[1m470s\u001b[0m 534ms/step - accuracy: 0.9805 - loss: 0.0957 - val_accuracy: 0.9474 - val_loss: 0.2606\n",
      "Epoch 41/50\n",
      "\u001b[1m880/880\u001b[0m \u001b[32m━━━━━━━━━━━━━━━━━━━━\u001b[0m\u001b[37m\u001b[0m \u001b[1m0s\u001b[0m 526ms/step - accuracy: 0.9832 - loss: 0.0887\n",
      "Reached 95% accuracy so cancelling training!\n",
      "\u001b[1m880/880\u001b[0m \u001b[32m━━━━━━━━━━━━━━━━━━━━\u001b[0m\u001b[37m\u001b[0m \u001b[1m482s\u001b[0m 548ms/step - accuracy: 0.9832 - loss: 0.0887 - val_accuracy: 0.9509 - val_loss: 0.2486\n"
     ]
    }
   ],
   "source": [
    "# Train the model and save the training history\n",
    "history = model.fit(\n",
    "\ttrain_dataset_vectorized,\n",
    "\tepochs=50,\n",
    "\tvalidation_data=val_dataset_vectorized,\n",
    "\tcallbacks=[EarlyStoppingCallback()],\n",
    "    verbose=1\n",
    ")"
   ]
  },
  {
   "cell_type": "code",
   "execution_count": 47,
   "metadata": {},
   "outputs": [
    {
     "data": {
      "image/png": "[encoded data removed]",
      "text/plain": [
       "<Figure size 640x480 with 1 Axes>"
      ]
     },
     "metadata": {},
     "output_type": "display_data"
    },
    {
     "data": {
      "image/png": "[encoded data removed]",
      "text/plain": [
       "<Figure size 640x480 with 1 Axes>"
      ]
     },
     "metadata": {},
     "output_type": "display_data"
    }
   ],
   "source": [
    "def plot_graphs(history, metric):\n",
    "    plt.plot(history.history[metric])\n",
    "    plt.plot(history.history[f'val_{metric}'])\n",
    "    plt.xlabel(\"Epochs\")\n",
    "    plt.ylabel(metric)\n",
    "    plt.legend([metric, f'val_{metric}'])\n",
    "    plt.show()\n",
    "    \n",
    "plot_graphs(history, \"accuracy\")\n",
    "plot_graphs(history, \"loss\")"
   ]
  },
  {
   "cell_type": "code",
   "execution_count": 48,
   "metadata": {},
   "outputs": [
    {
     "name": "stderr",
     "output_type": "stream",
     "text": [
      "WARNING:absl:You are saving your model as an HDF5 file via `model.save()` or `keras.saving.save_model(model)`. This file format is considered legacy. We recommend using instead the native Keras format, e.g. `model.save('my_model.keras')` or `keras.saving.save_model(model, 'my_model.keras')`. \n"
     ]
    },
    {
     "name": "stdout",
     "output_type": "stream",
     "text": [
      "INFO:tensorflow:Assets written to: model2\\assets\n"
     ]
    },
    {
     "name": "stderr",
     "output_type": "stream",
     "text": [
      "INFO:tensorflow:Assets written to: model2\\assets\n"
     ]
    },
    {
     "name": "stdout",
     "output_type": "stream",
     "text": [
      "Saved artifact at 'model2'. The following endpoints are available:\n",
      "\n",
      "* Endpoint 'serve'\n",
      "  args_0 (POSITIONAL_ONLY): TensorSpec(shape=(None, 200), dtype=tf.float32, name='keras_tensor')\n",
      "Output Type:\n",
      "  TensorSpec(shape=(None, 6), dtype=tf.float32, name=None)\n",
      "Captures:\n",
      "  2055269204432: TensorSpec(shape=(), dtype=tf.resource, name=None)\n",
      "  2053535156176: TensorSpec(shape=(), dtype=tf.resource, name=None)\n",
      "  2053535154256: TensorSpec(shape=(), dtype=tf.resource, name=None)\n",
      "  2053535156752: TensorSpec(shape=(), dtype=tf.resource, name=None)\n",
      "  2053332044880: TensorSpec(shape=(), dtype=tf.resource, name=None)\n",
      "  2053535155984: TensorSpec(shape=(), dtype=tf.resource, name=None)\n",
      "  2053332046224: TensorSpec(shape=(), dtype=tf.resource, name=None)\n",
      "  2053332046608: TensorSpec(shape=(), dtype=tf.resource, name=None)\n",
      "  2053332045456: TensorSpec(shape=(), dtype=tf.resource, name=None)\n",
      "  2053332045264: TensorSpec(shape=(), dtype=tf.resource, name=None)\n",
      "  2053332047184: TensorSpec(shape=(), dtype=tf.resource, name=None)\n",
      "  2053332047952: TensorSpec(shape=(), dtype=tf.resource, name=None)\n",
      "  2053332046032: TensorSpec(shape=(), dtype=tf.resource, name=None)\n",
      "  2053332048528: TensorSpec(shape=(), dtype=tf.resource, name=None)\n",
      "  2053332048336: TensorSpec(shape=(), dtype=tf.resource, name=None)\n",
      "  2053332048720: TensorSpec(shape=(), dtype=tf.resource, name=None)\n",
      "  2053332050256: TensorSpec(shape=(), dtype=tf.resource, name=None)\n"
     ]
    }
   ],
   "source": [
    "model.save('model2.h5')\n",
    "model.save('model2.keras')\n",
    "model.export('model2')"
   ]
  },
  {
   "cell_type": "code",
   "execution_count": 49,
   "metadata": {},
   "outputs": [],
   "source": [
    "pickle.dump({'config': vectorizer.get_config(),\n",
    "             'weights': vectorizer.get_weights(),\n",
    "             'vocabulary': vectorizer.get_vocabulary()}\n",
    "            , open(\"vectorizer2.pkl\", \"wb\"))"
   ]
  },
  {
   "cell_type": "code",
   "execution_count": 50,
   "metadata": {},
   "outputs": [
    {
     "name": "stdout",
     "output_type": "stream",
     "text": [
      "Restored vocabulary size: 15078\n"
     ]
    }
   ],
   "source": [
    "from_disk = pickle.load(open(\"vectorizer2.pkl\", \"rb\"))\n",
    "new_v = tf.keras.layers.TextVectorization.from_config(from_disk['config'])\n",
    "new_v.set_weights(from_disk['weights'])\n",
    "new_v.set_vocabulary(from_disk['vocabulary'])\n",
    "\n",
    "print(f\"Restored vocabulary size: {len(new_v.get_vocabulary())}\")"
   ]
  },
  {
   "cell_type": "code",
   "execution_count": 69,
   "metadata": {},
   "outputs": [],
   "source": [
    "test_set = pd.concat(test_list).reset_index(drop=True)"
   ]
  },
  {
   "cell_type": "code",
   "execution_count": 70,
   "metadata": {},
   "outputs": [
    {
     "data": {
      "text/html": [
       "<div>\n",
       "<style scoped>\n",
       "    .dataframe tbody tr th:only-of-type {\n",
       "        vertical-align: middle;\n",
       "    }\n",
       "\n",
       "    .dataframe tbody tr th {\n",
       "        vertical-align: top;\n",
       "    }\n",
       "\n",
       "    .dataframe thead th {\n",
       "        text-align: right;\n",
       "    }\n",
       "</style>\n",
       "<table border=\"1\" class=\"dataframe\">\n",
       "  <thead>\n",
       "    <tr style=\"text-align: right;\">\n",
       "      <th></th>\n",
       "      <th>Unnamed: 0</th>\n",
       "      <th>statement</th>\n",
       "      <th>status</th>\n",
       "    </tr>\n",
       "  </thead>\n",
       "  <tbody>\n",
       "    <tr>\n",
       "      <th>11635</th>\n",
       "      <td>11635</td>\n",
       "      <td>Hello.I think I am in bit of dark place in my ...</td>\n",
       "      <td>Depression</td>\n",
       "    </tr>\n",
       "    <tr>\n",
       "      <th>52581</th>\n",
       "      <td>52581</td>\n",
       "      <td>First psychiatrists appointment. Meds?! So I m...</td>\n",
       "      <td>Anxiety</td>\n",
       "    </tr>\n",
       "    <tr>\n",
       "      <th>39008</th>\n",
       "      <td>39008</td>\n",
       "      <td>tw terrorism death amp x 00b i f australia hav...</td>\n",
       "      <td>Depression</td>\n",
       "    </tr>\n",
       "    <tr>\n",
       "      <th>44762</th>\n",
       "      <td>44762</td>\n",
       "      <td>last day at home today catching the train at 0...</td>\n",
       "      <td>Normal</td>\n",
       "    </tr>\n",
       "    <tr>\n",
       "      <th>39753</th>\n",
       "      <td>39753</td>\n",
       "      <td>sorry to ask again i m just not doing great at...</td>\n",
       "      <td>Depression</td>\n",
       "    </tr>\n",
       "    <tr>\n",
       "      <th>4182</th>\n",
       "      <td>4182</td>\n",
       "      <td>como q jyp ripeo</td>\n",
       "      <td>Normal</td>\n",
       "    </tr>\n",
       "    <tr>\n",
       "      <th>49277</th>\n",
       "      <td>49277</td>\n",
       "      <td>just realised my sickness is stress related I ...</td>\n",
       "      <td>Stress</td>\n",
       "    </tr>\n",
       "    <tr>\n",
       "      <th>4092</th>\n",
       "      <td>4092</td>\n",
       "      <td>I'm so bored of the tv in the office, just set...</td>\n",
       "      <td>Normal</td>\n",
       "    </tr>\n",
       "    <tr>\n",
       "      <th>28174</th>\n",
       "      <td>28174</td>\n",
       "      <td>Hi everybody, I'm a 22 year old male who has h...</td>\n",
       "      <td>Stress</td>\n",
       "    </tr>\n",
       "    <tr>\n",
       "      <th>32644</th>\n",
       "      <td>32644</td>\n",
       "      <td>i think golfers have a mental problem.</td>\n",
       "      <td>Normal</td>\n",
       "    </tr>\n",
       "    <tr>\n",
       "      <th>7948</th>\n",
       "      <td>7948</td>\n",
       "      <td>I never understand why people go out of their ...</td>\n",
       "      <td>Depression</td>\n",
       "    </tr>\n",
       "    <tr>\n",
       "      <th>51445</th>\n",
       "      <td>51445</td>\n",
       "      <td>I want to be there for others But I feel so bl...</td>\n",
       "      <td>Personality disorder</td>\n",
       "    </tr>\n",
       "    <tr>\n",
       "      <th>45700</th>\n",
       "      <td>45700</td>\n",
       "      <td>bought a new phone when I didn’t need one don’...</td>\n",
       "      <td>Bipolar</td>\n",
       "    </tr>\n",
       "    <tr>\n",
       "      <th>22444</th>\n",
       "      <td>22444</td>\n",
       "      <td>I want to fall in love again. Looking into tha...</td>\n",
       "      <td>Depression</td>\n",
       "    </tr>\n",
       "    <tr>\n",
       "      <th>49793</th>\n",
       "      <td>49793</td>\n",
       "      <td>Vraylar/Reagila.. restlessness, any tips? I st...</td>\n",
       "      <td>Bipolar</td>\n",
       "    </tr>\n",
       "  </tbody>\n",
       "</table>\n",
       "</div>"
      ],
      "text/plain": [
       "       Unnamed: 0                                          statement  \\\n",
       "11635       11635  Hello.I think I am in bit of dark place in my ...   \n",
       "52581       52581  First psychiatrists appointment. Meds?! So I m...   \n",
       "39008       39008  tw terrorism death amp x 00b i f australia hav...   \n",
       "44762       44762  last day at home today catching the train at 0...   \n",
       "39753       39753  sorry to ask again i m just not doing great at...   \n",
       "4182         4182                                   como q jyp ripeo   \n",
       "49277       49277  just realised my sickness is stress related I ...   \n",
       "4092         4092  I'm so bored of the tv in the office, just set...   \n",
       "28174       28174  Hi everybody, I'm a 22 year old male who has h...   \n",
       "32644       32644             i think golfers have a mental problem.   \n",
       "7948         7948  I never understand why people go out of their ...   \n",
       "51445       51445  I want to be there for others But I feel so bl...   \n",
       "45700       45700  bought a new phone when I didn’t need one don’...   \n",
       "22444       22444  I want to fall in love again. Looking into tha...   \n",
       "49793       49793  Vraylar/Reagila.. restlessness, any tips? I st...   \n",
       "\n",
       "                     status  \n",
       "11635            Depression  \n",
       "52581               Anxiety  \n",
       "39008            Depression  \n",
       "44762                Normal  \n",
       "39753            Depression  \n",
       "4182                 Normal  \n",
       "49277                Stress  \n",
       "4092                 Normal  \n",
       "28174                Stress  \n",
       "32644                Normal  \n",
       "7948             Depression  \n",
       "51445  Personality disorder  \n",
       "45700               Bipolar  \n",
       "22444            Depression  \n",
       "49793               Bipolar  "
      ]
     },
     "execution_count": 70,
     "metadata": {},
     "output_type": "execute_result"
    }
   ],
   "source": [
    "test_set = custom_resampling(test_set)\n",
    "test_set.head(15)"
   ]
  },
  {
   "cell_type": "code",
   "execution_count": 71,
   "metadata": {},
   "outputs": [
    {
     "name": "stdout",
     "output_type": "stream",
     "text": [
      "56304 11256 7512\n"
     ]
    }
   ],
   "source": [
    "print(len(train_set), len(val_set), len(test_set))"
   ]
  },
  {
   "cell_type": "code",
   "execution_count": 72,
   "metadata": {},
   "outputs": [
    {
     "data": {
      "text/html": [
       "<div>\n",
       "<style scoped>\n",
       "    .dataframe tbody tr th:only-of-type {\n",
       "        vertical-align: middle;\n",
       "    }\n",
       "\n",
       "    .dataframe tbody tr th {\n",
       "        vertical-align: top;\n",
       "    }\n",
       "\n",
       "    .dataframe thead th {\n",
       "        text-align: right;\n",
       "    }\n",
       "</style>\n",
       "<table border=\"1\" class=\"dataframe\">\n",
       "  <thead>\n",
       "    <tr style=\"text-align: right;\">\n",
       "      <th></th>\n",
       "      <th>Unnamed: 0</th>\n",
       "      <th>statement</th>\n",
       "      <th>status</th>\n",
       "    </tr>\n",
       "  </thead>\n",
       "  <tbody>\n",
       "    <tr>\n",
       "      <th>11635</th>\n",
       "      <td>11635</td>\n",
       "      <td>hello think bit dark place life think work peo...</td>\n",
       "      <td>Depression</td>\n",
       "    </tr>\n",
       "    <tr>\n",
       "      <th>52581</th>\n",
       "      <td>52581</td>\n",
       "      <td>first appointment made appointment anxious cal...</td>\n",
       "      <td>Anxiety</td>\n",
       "    </tr>\n",
       "    <tr>\n",
       "      <th>39008</th>\n",
       "      <td>39008</td>\n",
       "      <td>terrorism death x b f crippling anxiety surrou...</td>\n",
       "      <td>Depression</td>\n",
       "    </tr>\n",
       "    <tr>\n",
       "      <th>44762</th>\n",
       "      <td>44762</td>\n",
       "      <td>last day home today catching train tomorrow ha...</td>\n",
       "      <td>Normal</td>\n",
       "    </tr>\n",
       "    <tr>\n",
       "      <th>39753</th>\n",
       "      <td>39753</td>\n",
       "      <td>sorry ask great moment hypothetically end life...</td>\n",
       "      <td>Depression</td>\n",
       "    </tr>\n",
       "    <tr>\n",
       "      <th>4182</th>\n",
       "      <td>4182</td>\n",
       "      <td>q ripe</td>\n",
       "      <td>Normal</td>\n",
       "    </tr>\n",
       "    <tr>\n",
       "      <th>49277</th>\n",
       "      <td>49277</td>\n",
       "      <td>sickness stress related barely move nausea who...</td>\n",
       "      <td>Stress</td>\n",
       "    </tr>\n",
       "    <tr>\n",
       "      <th>4092</th>\n",
       "      <td>4092</td>\n",
       "      <td>office set meter first</td>\n",
       "      <td>Normal</td>\n",
       "    </tr>\n",
       "    <tr>\n",
       "      <th>28174</th>\n",
       "      <td>28174</td>\n",
       "      <td>hi everybody year old male extreme depression ...</td>\n",
       "      <td>Stress</td>\n",
       "    </tr>\n",
       "    <tr>\n",
       "      <th>32644</th>\n",
       "      <td>32644</td>\n",
       "      <td>think mental problem</td>\n",
       "      <td>Normal</td>\n",
       "    </tr>\n",
       "    <tr>\n",
       "      <th>7948</th>\n",
       "      <td>7948</td>\n",
       "      <td>never understand people go way put pedestal pe...</td>\n",
       "      <td>Depression</td>\n",
       "    </tr>\n",
       "    <tr>\n",
       "      <th>51445</th>\n",
       "      <td>51445</td>\n",
       "      <td>want feel blocked funny complain people unavai...</td>\n",
       "      <td>Personality disorder</td>\n",
       "    </tr>\n",
       "    <tr>\n",
       "      <th>45700</th>\n",
       "      <td>45700</td>\n",
       "      <td>bought new phone need one know thinking going ...</td>\n",
       "      <td>Bipolar</td>\n",
       "    </tr>\n",
       "    <tr>\n",
       "      <th>22444</th>\n",
       "      <td>22444</td>\n",
       "      <td>want fall love looking person think much grate...</td>\n",
       "      <td>Depression</td>\n",
       "    </tr>\n",
       "    <tr>\n",
       "      <th>49793</th>\n",
       "      <td>49793</td>\n",
       "      <td>v ray lar restlessness month ago get rid restl...</td>\n",
       "      <td>Bipolar</td>\n",
       "    </tr>\n",
       "  </tbody>\n",
       "</table>\n",
       "</div>"
      ],
      "text/plain": [
       "       Unnamed: 0                                          statement  \\\n",
       "11635       11635  hello think bit dark place life think work peo...   \n",
       "52581       52581  first appointment made appointment anxious cal...   \n",
       "39008       39008  terrorism death x b f crippling anxiety surrou...   \n",
       "44762       44762  last day home today catching train tomorrow ha...   \n",
       "39753       39753  sorry ask great moment hypothetically end life...   \n",
       "4182         4182                                             q ripe   \n",
       "49277       49277  sickness stress related barely move nausea who...   \n",
       "4092         4092                             office set meter first   \n",
       "28174       28174  hi everybody year old male extreme depression ...   \n",
       "32644       32644                               think mental problem   \n",
       "7948         7948  never understand people go way put pedestal pe...   \n",
       "51445       51445  want feel blocked funny complain people unavai...   \n",
       "45700       45700  bought new phone need one know thinking going ...   \n",
       "22444       22444  want fall love looking person think much grate...   \n",
       "49793       49793  v ray lar restlessness month ago get rid restl...   \n",
       "\n",
       "                     status  \n",
       "11635            Depression  \n",
       "52581               Anxiety  \n",
       "39008            Depression  \n",
       "44762                Normal  \n",
       "39753            Depression  \n",
       "4182                 Normal  \n",
       "49277                Stress  \n",
       "4092                 Normal  \n",
       "28174                Stress  \n",
       "32644                Normal  \n",
       "7948             Depression  \n",
       "51445  Personality disorder  \n",
       "45700               Bipolar  \n",
       "22444            Depression  \n",
       "49793               Bipolar  "
      ]
     },
     "execution_count": 72,
     "metadata": {},
     "output_type": "execute_result"
    }
   ],
   "source": [
    "test_set['statement'] = test_set['statement'].str.lower()\n",
    "test_set['statement'] = test_set['statement'].apply(expandContractions)\n",
    "test_set['statement'] = test_set['statement'].apply(tokenize_text)\n",
    "test_set['statement'] = test_set['statement'].apply(lambda tokens: wordninja.split(\" \".join(tokens)))\n",
    "test_set['statement'] = test_set['statement'].apply(remove_stopwords)\n",
    "test_set['statement'] = test_set['statement'].apply(remove_non_english)\n",
    "test_set['statement'] = test_set['statement'].apply(lambda tokens: \" \".join(tokens))\n",
    "test_set.head(15)"
   ]
  },
  {
   "cell_type": "code",
   "execution_count": 73,
   "metadata": {},
   "outputs": [],
   "source": [
    "\n",
    "test_text = test_set['statement'].to_numpy()\n",
    "test_labels = test_set['status'].to_numpy()\n",
    "\n",
    "numeric_test_labels = [label_mapping[label] for label in test_labels]\n",
    "\n",
    "test_labels_one_hot = tf.keras.utils.to_categorical(numeric_test_labels, num_classes=6)\n",
    "\n",
    "test_dataset = tf.data.Dataset.from_tensor_slices((test_text, test_labels_one_hot))\n",
    "\n",
    "test_dataset = test_dataset.cache().shuffle(SHUFFLE_BUFFER_SIZE).prefetch(PREFETCH_BUFFER_SIZE).batch(NUM_BATCHES)\n",
    "\n",
    "test_dataset_vectorized = test_dataset.map(lambda x, y: (new_v(x), y))"
   ]
  },
  {
   "cell_type": "code",
   "execution_count": 74,
   "metadata": {},
   "outputs": [
    {
     "name": "stdout",
     "output_type": "stream",
     "text": [
      "(TensorSpec(shape=(None, None), dtype=tf.int64, name=None), TensorSpec(shape=(None, 6), dtype=tf.float64, name=None))\n",
      "Text batch shape: (64, 200)\n",
      "Label batch shape: (64, 6)\n"
     ]
    }
   ],
   "source": [
    "print(test_dataset_vectorized.element_spec)\n",
    "for text_batch, label_batch in test_dataset_vectorized.take(1):\n",
    "    print(f\"Text batch shape: {text_batch.shape}\")\n",
    "    print(f\"Label batch shape: {label_batch.shape}\")"
   ]
  },
  {
   "cell_type": "code",
   "execution_count": 75,
   "metadata": {},
   "outputs": [
    {
     "name": "stderr",
     "output_type": "stream",
     "text": [
      "WARNING:absl:Compiled the loaded model, but the compiled metrics have yet to be built. `model.compile_metrics` will be empty until you train or evaluate the model.\n"
     ]
    },
    {
     "name": "stdout",
     "output_type": "stream",
     "text": [
      "\u001b[1m118/118\u001b[0m \u001b[32m━━━━━━━━━━━━━━━━━━━━\u001b[0m\u001b[37m\u001b[0m \u001b[1m15s\u001b[0m 102ms/step - accuracy: 0.7508 - loss: 1.7241\n",
      "Test Loss: 1.6838750839233398\n",
      "Test Accuracy: 0.7513312101364136\n"
     ]
    }
   ],
   "source": [
    "from tensorflow.keras.models import load_model\n",
    "\n",
    "# load the saved model\n",
    "test_model = load_model('model2.h5')\n",
    "\n",
    "# evaluate the model on the test dataset\n",
    "loss, accuracy = test_model.evaluate(test_dataset_vectorized)\n",
    "print(f\"Test Loss: {loss}\")\n",
    "print(f\"Test Accuracy: {accuracy}\")"
   ]
  }
 ],
 "metadata": {
  "colab": {
   "provenance": []
  },
  "kernelspec": {
   "display_name": "Python 3",
   "name": "python3"
  },
  "language_info": {
   "codemirror_mode": {
    "name": "ipython",
    "version": 3
   },
   "file_extension": ".py",
   "mimetype": "text/x-python",
   "name": "python",
   "nbconvert_exporter": "python",
   "pygments_lexer": "ipython3",
   "version": "3.12.6"
  }
 },
 "nbformat": 4,
 "nbformat_minor": 0
}
