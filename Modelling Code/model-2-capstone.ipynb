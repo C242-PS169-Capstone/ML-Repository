{
 "cells": [
  {
   "cell_type": "code",
   "execution_count": 1,
   "id": "a29731b4",
   "metadata": {
    "_cell_guid": "b1076dfc-b9ad-4769-8c92-a6c4dae69d19",
    "_uuid": "8f2839f25d086af736a60e9eeb907d3b93b6e0e5",
    "execution": {
     "iopub.execute_input": "2024-12-06T03:55:18.619681Z",
     "iopub.status.busy": "2024-12-06T03:55:18.619339Z",
     "iopub.status.idle": "2024-12-06T03:55:23.869307Z",
     "shell.execute_reply": "2024-12-06T03:55:23.868383Z"
    },
    "papermill": {
     "duration": 5.265315,
     "end_time": "2024-12-06T03:55:23.871702",
     "exception": false,
     "start_time": "2024-12-06T03:55:18.606387",
     "status": "completed"
    },
    "tags": []
   },
   "outputs": [
    {
     "name": "stdout",
     "output_type": "stream",
     "text": [
      "Requirement already satisfied: spacy in /opt/conda/lib/python3.10/site-packages (3.7.6)\r\n",
      "Collecting langdetect\r\n",
      "  Downloading langdetect-1.0.9.tar.gz (981 kB)\r\n",
      "\u001b[2K     \u001b[90m━━━━━━━━━━━━━━━━━━━━━━━━━━━━━━━━━━━━━━\u001b[0m \u001b[32m981.5/981.5 kB\u001b[0m \u001b[31m14.8 MB/s\u001b[0m eta \u001b[36m0:00:00\u001b[0m\r\n",
      "\u001b[?25h  Preparing metadata (setup.py) ... \u001b[?25l-\b \bdone\r\n",
      "\u001b[?25hRequirement already satisfied: wordcloud in /opt/conda/lib/python3.10/site-packages (1.9.3)\r\n",
      "Building wheels for collected packages: langdetect\r\n",
      "  Building wheel for langdetect (setup.py) ... \u001b[?25l-\b \bdone\r\n",
      "\u001b[?25h  Created wheel for langdetect: filename=langdetect-1.0.9-py3-none-any.whl size=993227 sha256=a963732e391ff77017ecdaaa683e727e1b9e9babbf089f2cb5560413cbe0c23b\r\n",
      "  Stored in directory: /root/.cache/pip/wheels/95/03/7d/59ea870c70ce4e5a370638b5462a7711ab78fba2f655d05106\r\n",
      "Successfully built langdetect\r\n",
      "Installing collected packages: langdetect\r\n",
      "Successfully installed langdetect-1.0.9\r\n"
     ]
    }
   ],
   "source": [
    "!pip install spacy langdetect wordcloud --no-deps\n"
   ]
  },
  {
   "cell_type": "code",
   "execution_count": 2,
   "id": "aa49bd33",
   "metadata": {
    "execution": {
     "iopub.execute_input": "2024-12-06T03:55:23.895706Z",
     "iopub.status.busy": "2024-12-06T03:55:23.894901Z",
     "iopub.status.idle": "2024-12-06T03:55:34.183129Z",
     "shell.execute_reply": "2024-12-06T03:55:34.182350Z"
    },
    "papermill": {
     "duration": 10.302384,
     "end_time": "2024-12-06T03:55:34.185214",
     "exception": false,
     "start_time": "2024-12-06T03:55:23.882830",
     "status": "completed"
    },
    "tags": []
   },
   "outputs": [],
   "source": [
    "import pandas as pd\n",
    "import numpy as np\n",
    "import matplotlib.pyplot as plt\n",
    "import seaborn as sns\n",
    "import spacy\n",
    "import nltk\n",
    "import re\n",
    "import string\n",
    "import wordcloud\n",
    "from langdetect import detect\n",
    "from collections import Counter\n",
    "from nltk.corpus import stopwords, wordnet\n",
    "from nltk.tokenize import word_tokenize\n",
    "from nltk.stem import WordNetLemmatizer\n",
    "from wordcloud import WordCloud, STOPWORDS\n",
    "from nltk.corpus import words"
   ]
  },
  {
   "cell_type": "markdown",
   "id": "000006ef",
   "metadata": {
    "papermill": {
     "duration": 0.009453,
     "end_time": "2024-12-06T03:55:34.204781",
     "exception": false,
     "start_time": "2024-12-06T03:55:34.195328",
     "status": "completed"
    },
    "tags": []
   },
   "source": [
    "## EDA"
   ]
  },
  {
   "cell_type": "markdown",
   "id": "8bdeee78",
   "metadata": {
    "papermill": {
     "duration": 0.009234,
     "end_time": "2024-12-06T03:55:34.223504",
     "exception": false,
     "start_time": "2024-12-06T03:55:34.214270",
     "status": "completed"
    },
    "tags": []
   },
   "source": [
    "### Read the Data"
   ]
  },
  {
   "cell_type": "code",
   "execution_count": 3,
   "id": "1cefc2bc",
   "metadata": {
    "execution": {
     "iopub.execute_input": "2024-12-06T03:55:34.243788Z",
     "iopub.status.busy": "2024-12-06T03:55:34.243284Z",
     "iopub.status.idle": "2024-12-06T03:55:34.932304Z",
     "shell.execute_reply": "2024-12-06T03:55:34.931492Z"
    },
    "papermill": {
     "duration": 0.701357,
     "end_time": "2024-12-06T03:55:34.934404",
     "exception": false,
     "start_time": "2024-12-06T03:55:34.233047",
     "status": "completed"
    },
    "tags": []
   },
   "outputs": [],
   "source": [
    "data_path = '/kaggle/input/sentiment-analysis-for-mental-health/Combined Data.csv'\n",
    "df = pd.read_csv(data_path)"
   ]
  },
  {
   "cell_type": "code",
   "execution_count": 4,
   "id": "22d7197a",
   "metadata": {
    "execution": {
     "iopub.execute_input": "2024-12-06T03:55:34.958000Z",
     "iopub.status.busy": "2024-12-06T03:55:34.957725Z",
     "iopub.status.idle": "2024-12-06T03:55:34.976245Z",
     "shell.execute_reply": "2024-12-06T03:55:34.975139Z"
    },
    "papermill": {
     "duration": 0.033519,
     "end_time": "2024-12-06T03:55:34.978026",
     "exception": false,
     "start_time": "2024-12-06T03:55:34.944507",
     "status": "completed"
    },
    "tags": []
   },
   "outputs": [
    {
     "data": {
      "text/html": [
       "<div>\n",
       "<style scoped>\n",
       "    .dataframe tbody tr th:only-of-type {\n",
       "        vertical-align: middle;\n",
       "    }\n",
       "\n",
       "    .dataframe tbody tr th {\n",
       "        vertical-align: top;\n",
       "    }\n",
       "\n",
       "    .dataframe thead th {\n",
       "        text-align: right;\n",
       "    }\n",
       "</style>\n",
       "<table border=\"1\" class=\"dataframe\">\n",
       "  <thead>\n",
       "    <tr style=\"text-align: right;\">\n",
       "      <th></th>\n",
       "      <th>Unnamed: 0</th>\n",
       "      <th>statement</th>\n",
       "      <th>status</th>\n",
       "    </tr>\n",
       "  </thead>\n",
       "  <tbody>\n",
       "    <tr>\n",
       "      <th>0</th>\n",
       "      <td>0</td>\n",
       "      <td>oh my gosh</td>\n",
       "      <td>Anxiety</td>\n",
       "    </tr>\n",
       "    <tr>\n",
       "      <th>1</th>\n",
       "      <td>1</td>\n",
       "      <td>trouble sleeping, confused mind, restless hear...</td>\n",
       "      <td>Anxiety</td>\n",
       "    </tr>\n",
       "    <tr>\n",
       "      <th>2</th>\n",
       "      <td>2</td>\n",
       "      <td>All wrong, back off dear, forward doubt. Stay ...</td>\n",
       "      <td>Anxiety</td>\n",
       "    </tr>\n",
       "    <tr>\n",
       "      <th>3</th>\n",
       "      <td>3</td>\n",
       "      <td>I've shifted my focus to something else but I'...</td>\n",
       "      <td>Anxiety</td>\n",
       "    </tr>\n",
       "    <tr>\n",
       "      <th>4</th>\n",
       "      <td>4</td>\n",
       "      <td>I'm restless and restless, it's been a month n...</td>\n",
       "      <td>Anxiety</td>\n",
       "    </tr>\n",
       "    <tr>\n",
       "      <th>5</th>\n",
       "      <td>5</td>\n",
       "      <td>every break, you must be nervous, like somethi...</td>\n",
       "      <td>Anxiety</td>\n",
       "    </tr>\n",
       "    <tr>\n",
       "      <th>6</th>\n",
       "      <td>6</td>\n",
       "      <td>I feel scared, anxious, what can I do? And may...</td>\n",
       "      <td>Anxiety</td>\n",
       "    </tr>\n",
       "    <tr>\n",
       "      <th>7</th>\n",
       "      <td>7</td>\n",
       "      <td>Have you ever felt nervous but didn't know why?</td>\n",
       "      <td>Anxiety</td>\n",
       "    </tr>\n",
       "    <tr>\n",
       "      <th>8</th>\n",
       "      <td>8</td>\n",
       "      <td>I haven't slept well for 2 days, it's like I'm...</td>\n",
       "      <td>Anxiety</td>\n",
       "    </tr>\n",
       "    <tr>\n",
       "      <th>9</th>\n",
       "      <td>9</td>\n",
       "      <td>I'm really worried, I want to cry.</td>\n",
       "      <td>Anxiety</td>\n",
       "    </tr>\n",
       "    <tr>\n",
       "      <th>10</th>\n",
       "      <td>10</td>\n",
       "      <td>always restless every night, even though I don...</td>\n",
       "      <td>Anxiety</td>\n",
       "    </tr>\n",
       "    <tr>\n",
       "      <th>11</th>\n",
       "      <td>11</td>\n",
       "      <td>I'm confused, I'm not feeling good lately. Eve...</td>\n",
       "      <td>Anxiety</td>\n",
       "    </tr>\n",
       "    <tr>\n",
       "      <th>12</th>\n",
       "      <td>12</td>\n",
       "      <td>sometimes what is needed when there is a probl...</td>\n",
       "      <td>Anxiety</td>\n",
       "    </tr>\n",
       "    <tr>\n",
       "      <th>13</th>\n",
       "      <td>13</td>\n",
       "      <td>Because this worry is you.</td>\n",
       "      <td>Anxiety</td>\n",
       "    </tr>\n",
       "    <tr>\n",
       "      <th>14</th>\n",
       "      <td>14</td>\n",
       "      <td>Sometimes it's your own thoughts that make you...</td>\n",
       "      <td>Anxiety</td>\n",
       "    </tr>\n",
       "    <tr>\n",
       "      <th>15</th>\n",
       "      <td>15</td>\n",
       "      <td>Every time I wake up, I'm definitely nervous a...</td>\n",
       "      <td>Anxiety</td>\n",
       "    </tr>\n",
       "    <tr>\n",
       "      <th>16</th>\n",
       "      <td>16</td>\n",
       "      <td>I can only hope, even though I'm worried if it...</td>\n",
       "      <td>Anxiety</td>\n",
       "    </tr>\n",
       "    <tr>\n",
       "      <th>17</th>\n",
       "      <td>17</td>\n",
       "      <td>restive = restless, restless</td>\n",
       "      <td>Anxiety</td>\n",
       "    </tr>\n",
       "    <tr>\n",
       "      <th>18</th>\n",
       "      <td>18</td>\n",
       "      <td>\"No regrets or grudges/angry at things that ha...</td>\n",
       "      <td>Anxiety</td>\n",
       "    </tr>\n",
       "    <tr>\n",
       "      <th>19</th>\n",
       "      <td>19</td>\n",
       "      <td>If the guy is sick, the girl actually feels si...</td>\n",
       "      <td>Anxiety</td>\n",
       "    </tr>\n",
       "  </tbody>\n",
       "</table>\n",
       "</div>"
      ],
      "text/plain": [
       "    Unnamed: 0                                          statement   status\n",
       "0            0                                         oh my gosh  Anxiety\n",
       "1            1  trouble sleeping, confused mind, restless hear...  Anxiety\n",
       "2            2  All wrong, back off dear, forward doubt. Stay ...  Anxiety\n",
       "3            3  I've shifted my focus to something else but I'...  Anxiety\n",
       "4            4  I'm restless and restless, it's been a month n...  Anxiety\n",
       "5            5  every break, you must be nervous, like somethi...  Anxiety\n",
       "6            6  I feel scared, anxious, what can I do? And may...  Anxiety\n",
       "7            7    Have you ever felt nervous but didn't know why?  Anxiety\n",
       "8            8  I haven't slept well for 2 days, it's like I'm...  Anxiety\n",
       "9            9                 I'm really worried, I want to cry.  Anxiety\n",
       "10          10  always restless every night, even though I don...  Anxiety\n",
       "11          11  I'm confused, I'm not feeling good lately. Eve...  Anxiety\n",
       "12          12  sometimes what is needed when there is a probl...  Anxiety\n",
       "13          13                         Because this worry is you.  Anxiety\n",
       "14          14  Sometimes it's your own thoughts that make you...  Anxiety\n",
       "15          15  Every time I wake up, I'm definitely nervous a...  Anxiety\n",
       "16          16  I can only hope, even though I'm worried if it...  Anxiety\n",
       "17          17                       restive = restless, restless  Anxiety\n",
       "18          18  \"No regrets or grudges/angry at things that ha...  Anxiety\n",
       "19          19  If the guy is sick, the girl actually feels si...  Anxiety"
      ]
     },
     "execution_count": 4,
     "metadata": {},
     "output_type": "execute_result"
    }
   ],
   "source": [
    "df.head(20)"
   ]
  },
  {
   "cell_type": "markdown",
   "id": "ae3bb098",
   "metadata": {
    "papermill": {
     "duration": 0.009494,
     "end_time": "2024-12-06T03:55:34.997504",
     "exception": false,
     "start_time": "2024-12-06T03:55:34.988010",
     "status": "completed"
    },
    "tags": []
   },
   "source": [
    "### Data Summary"
   ]
  },
  {
   "cell_type": "code",
   "execution_count": 5,
   "id": "638fe527",
   "metadata": {
    "execution": {
     "iopub.execute_input": "2024-12-06T03:55:35.017344Z",
     "iopub.status.busy": "2024-12-06T03:55:35.017109Z",
     "iopub.status.idle": "2024-12-06T03:55:35.035538Z",
     "shell.execute_reply": "2024-12-06T03:55:35.034619Z"
    },
    "papermill": {
     "duration": 0.030737,
     "end_time": "2024-12-06T03:55:35.037620",
     "exception": false,
     "start_time": "2024-12-06T03:55:35.006883",
     "status": "completed"
    },
    "tags": []
   },
   "outputs": [
    {
     "name": "stdout",
     "output_type": "stream",
     "text": [
      "\n",
      "Summary Statistics:\n",
      "         Unnamed: 0\n",
      "count  53043.000000\n",
      "mean   26521.000000\n",
      "std    15312.339501\n",
      "min        0.000000\n",
      "25%    13260.500000\n",
      "50%    26521.000000\n",
      "75%    39781.500000\n",
      "max    53042.000000\n"
     ]
    }
   ],
   "source": [
    "print(\"\\nSummary Statistics:\")\n",
    "print(df.describe())"
   ]
  },
  {
   "cell_type": "markdown",
   "id": "d43490f9",
   "metadata": {
    "papermill": {
     "duration": 0.010033,
     "end_time": "2024-12-06T03:55:35.057554",
     "exception": false,
     "start_time": "2024-12-06T03:55:35.047521",
     "status": "completed"
    },
    "tags": []
   },
   "source": [
    "### Check for Missing Value"
   ]
  },
  {
   "cell_type": "code",
   "execution_count": 6,
   "id": "f9e4ee31",
   "metadata": {
    "execution": {
     "iopub.execute_input": "2024-12-06T03:55:35.079237Z",
     "iopub.status.busy": "2024-12-06T03:55:35.078938Z",
     "iopub.status.idle": "2024-12-06T03:55:35.092943Z",
     "shell.execute_reply": "2024-12-06T03:55:35.092127Z"
    },
    "papermill": {
     "duration": 0.027028,
     "end_time": "2024-12-06T03:55:35.094565",
     "exception": false,
     "start_time": "2024-12-06T03:55:35.067537",
     "status": "completed"
    },
    "tags": []
   },
   "outputs": [
    {
     "name": "stdout",
     "output_type": "stream",
     "text": [
      "\n",
      "Missing Values:\n",
      "Unnamed: 0      0\n",
      "statement     362\n",
      "status          0\n",
      "dtype: int64\n"
     ]
    }
   ],
   "source": [
    "print(\"\\nMissing Values:\")\n",
    "print(df.isnull().sum())"
   ]
  },
  {
   "cell_type": "code",
   "execution_count": 7,
   "id": "e492297a",
   "metadata": {
    "execution": {
     "iopub.execute_input": "2024-12-06T03:55:35.115905Z",
     "iopub.status.busy": "2024-12-06T03:55:35.115364Z",
     "iopub.status.idle": "2024-12-06T03:55:35.130933Z",
     "shell.execute_reply": "2024-12-06T03:55:35.129925Z"
    },
    "papermill": {
     "duration": 0.028171,
     "end_time": "2024-12-06T03:55:35.132551",
     "exception": false,
     "start_time": "2024-12-06T03:55:35.104380",
     "status": "completed"
    },
    "tags": []
   },
   "outputs": [
    {
     "name": "stdout",
     "output_type": "stream",
     "text": [
      "       Unnamed: 0 statement   status\n",
      "293           293       NaN  Anxiety\n",
      "572           572       NaN  Anxiety\n",
      "595           595       NaN  Anxiety\n",
      "1539         1539       NaN   Normal\n",
      "2448         2448       NaN   Normal\n",
      "...           ...       ...      ...\n",
      "52838       52838       NaN  Anxiety\n",
      "52870       52870       NaN  Anxiety\n",
      "52936       52936       NaN  Anxiety\n",
      "53010       53010       NaN  Anxiety\n",
      "53031       53031       NaN  Anxiety\n",
      "\n",
      "[362 rows x 3 columns]\n"
     ]
    }
   ],
   "source": [
    "# Display rows with missing values in the 'statement' column\n",
    "null_df = df[df['statement'].isnull()]\n",
    "print(null_df)\n"
   ]
  },
  {
   "cell_type": "markdown",
   "id": "cde52cd9",
   "metadata": {
    "papermill": {
     "duration": 0.010336,
     "end_time": "2024-12-06T03:55:35.152876",
     "exception": false,
     "start_time": "2024-12-06T03:55:35.142540",
     "status": "completed"
    },
    "tags": []
   },
   "source": [
    "### Label Distribution"
   ]
  },
  {
   "cell_type": "code",
   "execution_count": 8,
   "id": "92acb99f",
   "metadata": {
    "execution": {
     "iopub.execute_input": "2024-12-06T03:55:35.174508Z",
     "iopub.status.busy": "2024-12-06T03:55:35.174025Z",
     "iopub.status.idle": "2024-12-06T03:55:35.646155Z",
     "shell.execute_reply": "2024-12-06T03:55:35.645288Z"
    },
    "papermill": {
     "duration": 0.485202,
     "end_time": "2024-12-06T03:55:35.648241",
     "exception": false,
     "start_time": "2024-12-06T03:55:35.163039",
     "status": "completed"
    },
    "tags": []
   },
   "outputs": [
    {
     "data": {
      "image/png": "[encoded data removed]",
      "text/plain": [
       "<Figure size 1200x800 with 1 Axes>"
      ]
     },
     "metadata": {},
     "output_type": "display_data"
    }
   ],
   "source": [
    "plt.figure(figsize=(12,8))\n",
    "\n",
    "# get the unique status values and their counts\n",
    "status_counts = df['status'].value_counts()\n",
    "\n",
    "# create the bar plot\n",
    "ax = status_counts.plot(kind='bar')\n",
    "\n",
    "# add the count labels on top of each bar\n",
    "for i, v in enumerate(status_counts):\n",
    "    ax.text(i, v, str(v), ha='center', va='bottom')\n",
    "\n",
    "plt.title('Statement distribution by status')\n",
    "plt.xlabel('Status')\n",
    "plt.ylabel('Count')\n",
    "plt.tight_layout()\n",
    "plt.show() "
   ]
  },
  {
   "cell_type": "markdown",
   "id": "dba4714f",
   "metadata": {
    "papermill": {
     "duration": 0.010747,
     "end_time": "2024-12-06T03:55:35.670589",
     "exception": false,
     "start_time": "2024-12-06T03:55:35.659842",
     "status": "completed"
    },
    "tags": []
   },
   "source": [
    "### Check for Duplicate Data"
   ]
  },
  {
   "cell_type": "code",
   "execution_count": 9,
   "id": "2e274671",
   "metadata": {
    "execution": {
     "iopub.execute_input": "2024-12-06T03:55:35.693468Z",
     "iopub.status.busy": "2024-12-06T03:55:35.692664Z",
     "iopub.status.idle": "2024-12-06T03:55:35.736369Z",
     "shell.execute_reply": "2024-12-06T03:55:35.735290Z"
    },
    "papermill": {
     "duration": 0.056891,
     "end_time": "2024-12-06T03:55:35.738109",
     "exception": false,
     "start_time": "2024-12-06T03:55:35.681218",
     "status": "completed"
    },
    "tags": []
   },
   "outputs": [
    {
     "name": "stdout",
     "output_type": "stream",
     "text": [
      "Number of duplicate rows: 0\n"
     ]
    }
   ],
   "source": [
    "duplicate_count = df.duplicated().sum()\n",
    "print(f\"Number of duplicate rows: {duplicate_count}\")"
   ]
  },
  {
   "cell_type": "markdown",
   "id": "01be5dae",
   "metadata": {
    "papermill": {
     "duration": 0.010637,
     "end_time": "2024-12-06T03:55:35.759771",
     "exception": false,
     "start_time": "2024-12-06T03:55:35.749134",
     "status": "completed"
    },
    "tags": []
   },
   "source": [
    "### Display the word cloud for each Label"
   ]
  },
  {
   "cell_type": "code",
   "execution_count": 10,
   "id": "15490087",
   "metadata": {
    "execution": {
     "iopub.execute_input": "2024-12-06T03:55:35.783518Z",
     "iopub.status.busy": "2024-12-06T03:55:35.782963Z",
     "iopub.status.idle": "2024-12-06T03:55:35.786976Z",
     "shell.execute_reply": "2024-12-06T03:55:35.786143Z"
    },
    "papermill": {
     "duration": 0.017901,
     "end_time": "2024-12-06T03:55:35.788577",
     "exception": false,
     "start_time": "2024-12-06T03:55:35.770676",
     "status": "completed"
    },
    "tags": []
   },
   "outputs": [],
   "source": [
    "# categories = df['status'].value_counts().index\n",
    "\n",
    "# for cat in categories:\n",
    "#     statements = \" \".join(df[df['status']==cat]['statement'])\n",
    "    \n",
    "#     wordcloud = WordCloud(width=800, height=400).generate(statements)\n",
    "#     plt.figure(figsize=(10, 5))\n",
    "#     plt.imshow(wordcloud, interpolation='bilinear')\n",
    "#     plt.title(cat)\n",
    "#     plt.axis('off')\n",
    "#     plt.show()"
   ]
  },
  {
   "cell_type": "markdown",
   "id": "93c6307d",
   "metadata": {
    "papermill": {
     "duration": 0.010862,
     "end_time": "2024-12-06T03:55:35.810807",
     "exception": false,
     "start_time": "2024-12-06T03:55:35.799945",
     "status": "completed"
    },
    "tags": []
   },
   "source": [
    "## Data Preprocessing"
   ]
  },
  {
   "cell_type": "markdown",
   "id": "c6fe6161",
   "metadata": {
    "papermill": {
     "duration": 0.011126,
     "end_time": "2024-12-06T03:55:35.832716",
     "exception": false,
     "start_time": "2024-12-06T03:55:35.821590",
     "status": "completed"
    },
    "tags": []
   },
   "source": [
    "### Remove the Data with 'Suicidal' Label"
   ]
  },
  {
   "cell_type": "markdown",
   "id": "390de6e8",
   "metadata": {
    "papermill": {
     "duration": 0.010805,
     "end_time": "2024-12-06T03:55:35.854261",
     "exception": false,
     "start_time": "2024-12-06T03:55:35.843456",
     "status": "completed"
    },
    "tags": []
   },
   "source": [
    "Remove the data with Suicidal status, because we're gonna use the model to classify the detail about the suicidal tension of a text"
   ]
  },
  {
   "cell_type": "code",
   "execution_count": 11,
   "id": "9a9e0134",
   "metadata": {
    "execution": {
     "iopub.execute_input": "2024-12-06T03:55:35.877249Z",
     "iopub.status.busy": "2024-12-06T03:55:35.876747Z",
     "iopub.status.idle": "2024-12-06T03:55:35.886297Z",
     "shell.execute_reply": "2024-12-06T03:55:35.885650Z"
    },
    "papermill": {
     "duration": 0.022912,
     "end_time": "2024-12-06T03:55:35.887968",
     "exception": false,
     "start_time": "2024-12-06T03:55:35.865056",
     "status": "completed"
    },
    "tags": []
   },
   "outputs": [],
   "source": [
    "# Remove rows where 'status' is 'sucidal'\n",
    "df = df[df['status'] != 'Suicidal']\n",
    "\n"
   ]
  },
  {
   "cell_type": "code",
   "execution_count": 12,
   "id": "120b4333",
   "metadata": {
    "execution": {
     "iopub.execute_input": "2024-12-06T03:55:35.910694Z",
     "iopub.status.busy": "2024-12-06T03:55:35.910139Z",
     "iopub.status.idle": "2024-12-06T03:55:35.916593Z",
     "shell.execute_reply": "2024-12-06T03:55:35.915647Z"
    },
    "papermill": {
     "duration": 0.019503,
     "end_time": "2024-12-06T03:55:35.918231",
     "exception": false,
     "start_time": "2024-12-06T03:55:35.898728",
     "status": "completed"
    },
    "tags": []
   },
   "outputs": [
    {
     "name": "stdout",
     "output_type": "stream",
     "text": [
      "['Anxiety' 'Normal' 'Depression' 'Stress' 'Bipolar' 'Personality disorder']\n"
     ]
    }
   ],
   "source": [
    "# Display unique values in the 'status' column\n",
    "print(df['status'].unique())\n"
   ]
  },
  {
   "cell_type": "markdown",
   "id": "bc88ea3e",
   "metadata": {
    "papermill": {
     "duration": 0.01127,
     "end_time": "2024-12-06T03:55:35.940586",
     "exception": false,
     "start_time": "2024-12-06T03:55:35.929316",
     "status": "completed"
    },
    "tags": []
   },
   "source": [
    "### Drop the Data row with missing value"
   ]
  },
  {
   "cell_type": "code",
   "execution_count": 13,
   "id": "9ea70a62",
   "metadata": {
    "execution": {
     "iopub.execute_input": "2024-12-06T03:55:35.964870Z",
     "iopub.status.busy": "2024-12-06T03:55:35.964572Z",
     "iopub.status.idle": "2024-12-06T03:55:35.984343Z",
     "shell.execute_reply": "2024-12-06T03:55:35.983358Z"
    },
    "papermill": {
     "duration": 0.033356,
     "end_time": "2024-12-06T03:55:35.986068",
     "exception": false,
     "start_time": "2024-12-06T03:55:35.952712",
     "status": "completed"
    },
    "tags": []
   },
   "outputs": [
    {
     "name": "stdout",
     "output_type": "stream",
     "text": [
      "\n",
      "Updated Missing Values:\n",
      "Unnamed: 0    0\n",
      "statement     0\n",
      "status        0\n",
      "dtype: int64\n"
     ]
    }
   ],
   "source": [
    "# Drop rows with missing values in the 'statement' column\n",
    "df.dropna(subset=['statement'], inplace=True)\n",
    "\n",
    "# Verify if missing values are removed\n",
    "print(\"\\nUpdated Missing Values:\")\n",
    "print(df.isnull().sum())\n"
   ]
  },
  {
   "cell_type": "markdown",
   "id": "112db2f0",
   "metadata": {
    "papermill": {
     "duration": 0.010824,
     "end_time": "2024-12-06T03:55:36.008243",
     "exception": false,
     "start_time": "2024-12-06T03:55:35.997419",
     "status": "completed"
    },
    "tags": []
   },
   "source": [
    "### Lowercase the statement"
   ]
  },
  {
   "cell_type": "code",
   "execution_count": 14,
   "id": "077ade4f",
   "metadata": {
    "execution": {
     "iopub.execute_input": "2024-12-06T03:55:36.031416Z",
     "iopub.status.busy": "2024-12-06T03:55:36.031168Z",
     "iopub.status.idle": "2024-12-06T03:55:36.120324Z",
     "shell.execute_reply": "2024-12-06T03:55:36.119670Z"
    },
    "papermill": {
     "duration": 0.102846,
     "end_time": "2024-12-06T03:55:36.122170",
     "exception": false,
     "start_time": "2024-12-06T03:55:36.019324",
     "status": "completed"
    },
    "tags": []
   },
   "outputs": [],
   "source": [
    "df['statement'] = df['statement'].str.lower()"
   ]
  },
  {
   "cell_type": "code",
   "execution_count": 15,
   "id": "8543115f",
   "metadata": {
    "execution": {
     "iopub.execute_input": "2024-12-06T03:55:36.146964Z",
     "iopub.status.busy": "2024-12-06T03:55:36.146462Z",
     "iopub.status.idle": "2024-12-06T03:55:36.156221Z",
     "shell.execute_reply": "2024-12-06T03:55:36.154989Z"
    },
    "papermill": {
     "duration": 0.023474,
     "end_time": "2024-12-06T03:55:36.158046",
     "exception": false,
     "start_time": "2024-12-06T03:55:36.134572",
     "status": "completed"
    },
    "tags": []
   },
   "outputs": [
    {
     "data": {
      "text/html": [
       "<div>\n",
       "<style scoped>\n",
       "    .dataframe tbody tr th:only-of-type {\n",
       "        vertical-align: middle;\n",
       "    }\n",
       "\n",
       "    .dataframe tbody tr th {\n",
       "        vertical-align: top;\n",
       "    }\n",
       "\n",
       "    .dataframe thead th {\n",
       "        text-align: right;\n",
       "    }\n",
       "</style>\n",
       "<table border=\"1\" class=\"dataframe\">\n",
       "  <thead>\n",
       "    <tr style=\"text-align: right;\">\n",
       "      <th></th>\n",
       "      <th>Unnamed: 0</th>\n",
       "      <th>statement</th>\n",
       "      <th>status</th>\n",
       "    </tr>\n",
       "  </thead>\n",
       "  <tbody>\n",
       "    <tr>\n",
       "      <th>0</th>\n",
       "      <td>0</td>\n",
       "      <td>oh my gosh</td>\n",
       "      <td>Anxiety</td>\n",
       "    </tr>\n",
       "    <tr>\n",
       "      <th>1</th>\n",
       "      <td>1</td>\n",
       "      <td>trouble sleeping, confused mind, restless hear...</td>\n",
       "      <td>Anxiety</td>\n",
       "    </tr>\n",
       "    <tr>\n",
       "      <th>2</th>\n",
       "      <td>2</td>\n",
       "      <td>all wrong, back off dear, forward doubt. stay ...</td>\n",
       "      <td>Anxiety</td>\n",
       "    </tr>\n",
       "    <tr>\n",
       "      <th>3</th>\n",
       "      <td>3</td>\n",
       "      <td>i've shifted my focus to something else but i'...</td>\n",
       "      <td>Anxiety</td>\n",
       "    </tr>\n",
       "    <tr>\n",
       "      <th>4</th>\n",
       "      <td>4</td>\n",
       "      <td>i'm restless and restless, it's been a month n...</td>\n",
       "      <td>Anxiety</td>\n",
       "    </tr>\n",
       "    <tr>\n",
       "      <th>5</th>\n",
       "      <td>5</td>\n",
       "      <td>every break, you must be nervous, like somethi...</td>\n",
       "      <td>Anxiety</td>\n",
       "    </tr>\n",
       "    <tr>\n",
       "      <th>6</th>\n",
       "      <td>6</td>\n",
       "      <td>i feel scared, anxious, what can i do? and may...</td>\n",
       "      <td>Anxiety</td>\n",
       "    </tr>\n",
       "    <tr>\n",
       "      <th>7</th>\n",
       "      <td>7</td>\n",
       "      <td>have you ever felt nervous but didn't know why?</td>\n",
       "      <td>Anxiety</td>\n",
       "    </tr>\n",
       "    <tr>\n",
       "      <th>8</th>\n",
       "      <td>8</td>\n",
       "      <td>i haven't slept well for 2 days, it's like i'm...</td>\n",
       "      <td>Anxiety</td>\n",
       "    </tr>\n",
       "    <tr>\n",
       "      <th>9</th>\n",
       "      <td>9</td>\n",
       "      <td>i'm really worried, i want to cry.</td>\n",
       "      <td>Anxiety</td>\n",
       "    </tr>\n",
       "  </tbody>\n",
       "</table>\n",
       "</div>"
      ],
      "text/plain": [
       "   Unnamed: 0                                          statement   status\n",
       "0           0                                         oh my gosh  Anxiety\n",
       "1           1  trouble sleeping, confused mind, restless hear...  Anxiety\n",
       "2           2  all wrong, back off dear, forward doubt. stay ...  Anxiety\n",
       "3           3  i've shifted my focus to something else but i'...  Anxiety\n",
       "4           4  i'm restless and restless, it's been a month n...  Anxiety\n",
       "5           5  every break, you must be nervous, like somethi...  Anxiety\n",
       "6           6  i feel scared, anxious, what can i do? and may...  Anxiety\n",
       "7           7    have you ever felt nervous but didn't know why?  Anxiety\n",
       "8           8  i haven't slept well for 2 days, it's like i'm...  Anxiety\n",
       "9           9                 i'm really worried, i want to cry.  Anxiety"
      ]
     },
     "execution_count": 15,
     "metadata": {},
     "output_type": "execute_result"
    }
   ],
   "source": [
    "df.head(10)"
   ]
  },
  {
   "cell_type": "markdown",
   "id": "6ac736dc",
   "metadata": {
    "papermill": {
     "duration": 0.011343,
     "end_time": "2024-12-06T03:55:36.181387",
     "exception": false,
     "start_time": "2024-12-06T03:55:36.170044",
     "status": "completed"
    },
    "tags": []
   },
   "source": [
    "### Replace \"’\" with \"'\""
   ]
  },
  {
   "cell_type": "code",
   "execution_count": 16,
   "id": "f8db341c",
   "metadata": {
    "execution": {
     "iopub.execute_input": "2024-12-06T03:55:36.205894Z",
     "iopub.status.busy": "2024-12-06T03:55:36.205565Z",
     "iopub.status.idle": "2024-12-06T03:55:36.230718Z",
     "shell.execute_reply": "2024-12-06T03:55:36.230023Z"
    },
    "papermill": {
     "duration": 0.039139,
     "end_time": "2024-12-06T03:55:36.232454",
     "exception": false,
     "start_time": "2024-12-06T03:55:36.193315",
     "status": "completed"
    },
    "tags": []
   },
   "outputs": [],
   "source": [
    "df['statement'] = df['statement'].str.replace(\"’\", \"'\")"
   ]
  },
  {
   "cell_type": "code",
   "execution_count": 17,
   "id": "160945c8",
   "metadata": {
    "execution": {
     "iopub.execute_input": "2024-12-06T03:55:36.256935Z",
     "iopub.status.busy": "2024-12-06T03:55:36.256664Z",
     "iopub.status.idle": "2024-12-06T03:55:36.265963Z",
     "shell.execute_reply": "2024-12-06T03:55:36.265095Z"
    },
    "papermill": {
     "duration": 0.023943,
     "end_time": "2024-12-06T03:55:36.267988",
     "exception": false,
     "start_time": "2024-12-06T03:55:36.244045",
     "status": "completed"
    },
    "tags": []
   },
   "outputs": [
    {
     "data": {
      "text/html": [
       "<div>\n",
       "<style scoped>\n",
       "    .dataframe tbody tr th:only-of-type {\n",
       "        vertical-align: middle;\n",
       "    }\n",
       "\n",
       "    .dataframe tbody tr th {\n",
       "        vertical-align: top;\n",
       "    }\n",
       "\n",
       "    .dataframe thead th {\n",
       "        text-align: right;\n",
       "    }\n",
       "</style>\n",
       "<table border=\"1\" class=\"dataframe\">\n",
       "  <thead>\n",
       "    <tr style=\"text-align: right;\">\n",
       "      <th></th>\n",
       "      <th>Unnamed: 0</th>\n",
       "      <th>statement</th>\n",
       "      <th>status</th>\n",
       "    </tr>\n",
       "  </thead>\n",
       "  <tbody>\n",
       "    <tr>\n",
       "      <th>0</th>\n",
       "      <td>0</td>\n",
       "      <td>oh my gosh</td>\n",
       "      <td>Anxiety</td>\n",
       "    </tr>\n",
       "    <tr>\n",
       "      <th>1</th>\n",
       "      <td>1</td>\n",
       "      <td>trouble sleeping, confused mind, restless hear...</td>\n",
       "      <td>Anxiety</td>\n",
       "    </tr>\n",
       "    <tr>\n",
       "      <th>2</th>\n",
       "      <td>2</td>\n",
       "      <td>all wrong, back off dear, forward doubt. stay ...</td>\n",
       "      <td>Anxiety</td>\n",
       "    </tr>\n",
       "    <tr>\n",
       "      <th>3</th>\n",
       "      <td>3</td>\n",
       "      <td>i've shifted my focus to something else but i'...</td>\n",
       "      <td>Anxiety</td>\n",
       "    </tr>\n",
       "    <tr>\n",
       "      <th>4</th>\n",
       "      <td>4</td>\n",
       "      <td>i'm restless and restless, it's been a month n...</td>\n",
       "      <td>Anxiety</td>\n",
       "    </tr>\n",
       "    <tr>\n",
       "      <th>5</th>\n",
       "      <td>5</td>\n",
       "      <td>every break, you must be nervous, like somethi...</td>\n",
       "      <td>Anxiety</td>\n",
       "    </tr>\n",
       "    <tr>\n",
       "      <th>6</th>\n",
       "      <td>6</td>\n",
       "      <td>i feel scared, anxious, what can i do? and may...</td>\n",
       "      <td>Anxiety</td>\n",
       "    </tr>\n",
       "    <tr>\n",
       "      <th>7</th>\n",
       "      <td>7</td>\n",
       "      <td>have you ever felt nervous but didn't know why?</td>\n",
       "      <td>Anxiety</td>\n",
       "    </tr>\n",
       "    <tr>\n",
       "      <th>8</th>\n",
       "      <td>8</td>\n",
       "      <td>i haven't slept well for 2 days, it's like i'm...</td>\n",
       "      <td>Anxiety</td>\n",
       "    </tr>\n",
       "    <tr>\n",
       "      <th>9</th>\n",
       "      <td>9</td>\n",
       "      <td>i'm really worried, i want to cry.</td>\n",
       "      <td>Anxiety</td>\n",
       "    </tr>\n",
       "  </tbody>\n",
       "</table>\n",
       "</div>"
      ],
      "text/plain": [
       "   Unnamed: 0                                          statement   status\n",
       "0           0                                         oh my gosh  Anxiety\n",
       "1           1  trouble sleeping, confused mind, restless hear...  Anxiety\n",
       "2           2  all wrong, back off dear, forward doubt. stay ...  Anxiety\n",
       "3           3  i've shifted my focus to something else but i'...  Anxiety\n",
       "4           4  i'm restless and restless, it's been a month n...  Anxiety\n",
       "5           5  every break, you must be nervous, like somethi...  Anxiety\n",
       "6           6  i feel scared, anxious, what can i do? and may...  Anxiety\n",
       "7           7    have you ever felt nervous but didn't know why?  Anxiety\n",
       "8           8  i haven't slept well for 2 days, it's like i'm...  Anxiety\n",
       "9           9                 i'm really worried, i want to cry.  Anxiety"
      ]
     },
     "execution_count": 17,
     "metadata": {},
     "output_type": "execute_result"
    }
   ],
   "source": [
    "df.head(10)"
   ]
  },
  {
   "cell_type": "markdown",
   "id": "93500231",
   "metadata": {
    "papermill": {
     "duration": 0.011664,
     "end_time": "2024-12-06T03:55:36.292452",
     "exception": false,
     "start_time": "2024-12-06T03:55:36.280788",
     "status": "completed"
    },
    "tags": []
   },
   "source": [
    "### Replace the Abbreviations"
   ]
  },
  {
   "cell_type": "code",
   "execution_count": 18,
   "id": "423364e4",
   "metadata": {
    "execution": {
     "iopub.execute_input": "2024-12-06T03:55:36.317247Z",
     "iopub.status.busy": "2024-12-06T03:55:36.317016Z",
     "iopub.status.idle": "2024-12-06T03:55:36.326622Z",
     "shell.execute_reply": "2024-12-06T03:55:36.325661Z"
    },
    "papermill": {
     "duration": 0.02462,
     "end_time": "2024-12-06T03:55:36.328455",
     "exception": false,
     "start_time": "2024-12-06T03:55:36.303835",
     "status": "completed"
    },
    "tags": []
   },
   "outputs": [],
   "source": [
    "abb = {\n",
    "  \"ain't\": \"am not\",\n",
    "  \"aren't\": \"are not\",\n",
    "  \"can't\": \"cannot\",\n",
    "  \"can't've\": \"cannot have\",\n",
    "  \"'cause\": \"because\",\n",
    "  \"could've\": \"could have\",\n",
    "  \"couldn't\": \"could not\",\n",
    "  \"couldn't've\": \"could not have\",\n",
    "  \"didn't\": \"did not\",\n",
    "  \"doesn't\": \"does not\",\n",
    "  \"don't\": \"do not\",\n",
    "  \"dont\": \"do not\",\n",
    "  \"hadn't\": \"had not\",\n",
    "  \"hadn't've\": \"had not have\",\n",
    "  \"hasn't\": \"has not\",\n",
    "  \"haven't\": \"have not\",\n",
    "  \"he'd\": \"he would\",\n",
    "  \"idk\": \"i do not know\",\n",
    "  \"he'd've\": \"he would have\",\n",
    "  \"he'll\": \"he will\",  \"he'll've\": \"he will have\",\n",
    "  \"he's\": \"he is\",\n",
    "  \"how'd\": \"how did\",\n",
    "  \"how'd'y\": \"how do you\",\n",
    "  \"how'll\": \"how will\",\n",
    "  \"how's\": \"how is\",\n",
    "  \"i'd\": \"i would\",\n",
    "  \"i'd've\": \"i would have\",\n",
    "  \"i'll\": \"i will\",\n",
    "  \"i'll've\": \"i will have\",\n",
    "  \"i'm\": \"i am\",\n",
    "  \"im\": \"i am\",\n",
    "  \"i've\": \"i have\",\n",
    "  \"isn't\": \"is not\",\n",
    "  \"it'd\": \"it had\",\n",
    "  \"it'd've\": \"it would have\",\n",
    "  \"it'll\": \"it will\",\n",
    "  \"it'll've\": \"it will have\",\n",
    "  \"it's\": \"it is\", \"let's\": \"let us\",\n",
    "  \"ma'am\": \"madam\",\n",
    "  \"mayn't\": \"may not\",\n",
    "  \"might've\": \"might have\",\n",
    "  \"mightn't\": \"might not\",\n",
    "  \"mightn't've\": \"might not have\",\n",
    "  \"must've\": \"must have\",\n",
    "  \"mustn't\": \"must not\",\n",
    "  \"mustn't've\": \"must not have\",\n",
    "  \"needn't\": \"need not\",\n",
    "  \"needn't've\": \"need not have\",\n",
    "  \"o'clock\": \"of the clock\",\n",
    "  \"oughtn't\": \"ought not\",\n",
    "  \"oughtn't've\": \"ought not have\",\n",
    "  \"shan't\": \"shall not\",\n",
    "  \"sha'n't\": \"shall not\",\n",
    "  \"shan't've\": \"shall not have\",\n",
    "  \"she'd\": \"she would\",\n",
    "  \"she'd've\": \"she would have\", \"she'll\": \"she will\",\n",
    "  \"she'll've\": \"she will have\",\n",
    "  \"she's\": \"she is\",\n",
    "  \"should've\": \"should have\",\n",
    "  \"shouldn't\": \"should not\",\n",
    "  \"shouldn't've\": \"should not have\",\n",
    "  \"so've\": \"so have\",\n",
    "  \"so's\": \"so is\",\n",
    "  \"that'd\": \"that would\",\n",
    "  \"that'd've\": \"that would have\",\n",
    "  \"that's\": \"that is\",\n",
    "  \"there'd\": \"there had\",\n",
    "  \"there'd've\": \"there would have\",\n",
    "  \"there's\": \"there is\",\n",
    "  \"they'd\": \"they would\",\n",
    "  \"they'd've\": \"they would have\",\n",
    "  \"they'll\": \"they will\",\n",
    "  \"they'll've\": \"they will have\",\n",
    "  \"they're\": \"they are\",\n",
    "  \"they've\": \"they have\",      \"to've\": \"to have\",\n",
    "  \"wasn't\": \"was not\",\n",
    "  \"we'd\": \"we had\",\n",
    "  \"we'd've\": \"we would have\",\n",
    "  \"we'll\": \"we will\",\n",
    "  \"we'll've\": \"we will have\",\n",
    "  \"we're\": \"we are\",\n",
    "  \"we've\": \"we have\",\n",
    "  \"weren't\": \"were not\",\n",
    "  \"what'll\": \"what will\",\n",
    "  \"what'll've\": \"what will have\",\n",
    "  \"what're\": \"what are\",\n",
    "  \"what's\": \"what is\",\n",
    "  \"what've\": \"what have\",\n",
    "  \"when's\": \"when is\",\n",
    "  \"when've\": \"when have\",\n",
    "  \"where'd\": \"where did\",\n",
    "  \"where's\": \"where is\",\n",
    "  \"where've\": \"where have\", \"who'll\": \"who will\",\n",
    "  \"who'll've\": \"who will have\",\n",
    "  \"who's\": \"who is\",\n",
    "  \"who've\": \"who have\",\n",
    "  \"why's\": \"why is\",\n",
    "  \"why've\": \"why have\",\n",
    "  \"will've\": \"will have\",\n",
    "  \"won't\": \"will not\",\n",
    "  \"won't've\": \"will not have\",\n",
    "  \"would've\": \"would have\",\n",
    "  \"wouldn't\": \"would not\",\n",
    "  \"wouldn't've\": \"would not have\",\n",
    "  \"y'all\": \"you all\",\n",
    "  \"y'alls\": \"you alls\",\n",
    "  \"y'all'd\": \"you all would\",\n",
    "  \"y'all'd've\": \"you all would have\",\n",
    "  \"y'all're\": \"you all are\",\n",
    "  \"y'all've\": \"you all have\",\n",
    "  \"you'd\": \"you had\",\n",
    "  \"you'd've\": \"you would have\", \"you'll\": \"you you will\",\n",
    "  \"you'll've\": \"you you will have\",\n",
    "  \"you're\": \"you are\",\n",
    "  \"you've\": \"you have\"\n",
    "}\n",
    "\n"
   ]
  },
  {
   "cell_type": "code",
   "execution_count": 19,
   "id": "dab78aaf",
   "metadata": {
    "execution": {
     "iopub.execute_input": "2024-12-06T03:55:36.352794Z",
     "iopub.status.busy": "2024-12-06T03:55:36.352128Z",
     "iopub.status.idle": "2024-12-06T03:55:41.296409Z",
     "shell.execute_reply": "2024-12-06T03:55:41.295571Z"
    },
    "papermill": {
     "duration": 4.958447,
     "end_time": "2024-12-06T03:55:41.298438",
     "exception": false,
     "start_time": "2024-12-06T03:55:36.339991",
     "status": "completed"
    },
    "tags": []
   },
   "outputs": [],
   "source": [
    "abb_re = re.compile('(%s)' % '|'.join(abb.keys()))\n",
    "\n",
    "def expandContractions(text, abb_re=abb_re):\n",
    "    def replace(match):\n",
    "        return abb[match.group(0)]\n",
    "    return abb_re.sub(replace, text)\n",
    "\n",
    "df['statement'] = df['statement'].apply(expandContractions)"
   ]
  },
  {
   "cell_type": "code",
   "execution_count": 20,
   "id": "7971c70f",
   "metadata": {
    "execution": {
     "iopub.execute_input": "2024-12-06T03:55:41.323120Z",
     "iopub.status.busy": "2024-12-06T03:55:41.322805Z",
     "iopub.status.idle": "2024-12-06T03:55:41.332459Z",
     "shell.execute_reply": "2024-12-06T03:55:41.331682Z"
    },
    "papermill": {
     "duration": 0.024021,
     "end_time": "2024-12-06T03:55:41.334191",
     "exception": false,
     "start_time": "2024-12-06T03:55:41.310170",
     "status": "completed"
    },
    "tags": []
   },
   "outputs": [
    {
     "data": {
      "text/html": [
       "<div>\n",
       "<style scoped>\n",
       "    .dataframe tbody tr th:only-of-type {\n",
       "        vertical-align: middle;\n",
       "    }\n",
       "\n",
       "    .dataframe tbody tr th {\n",
       "        vertical-align: top;\n",
       "    }\n",
       "\n",
       "    .dataframe thead th {\n",
       "        text-align: right;\n",
       "    }\n",
       "</style>\n",
       "<table border=\"1\" class=\"dataframe\">\n",
       "  <thead>\n",
       "    <tr style=\"text-align: right;\">\n",
       "      <th></th>\n",
       "      <th>Unnamed: 0</th>\n",
       "      <th>statement</th>\n",
       "      <th>status</th>\n",
       "    </tr>\n",
       "  </thead>\n",
       "  <tbody>\n",
       "    <tr>\n",
       "      <th>0</th>\n",
       "      <td>0</td>\n",
       "      <td>oh my gosh</td>\n",
       "      <td>Anxiety</td>\n",
       "    </tr>\n",
       "    <tr>\n",
       "      <th>1</th>\n",
       "      <td>1</td>\n",
       "      <td>trouble sleeping, confused mind, restless hear...</td>\n",
       "      <td>Anxiety</td>\n",
       "    </tr>\n",
       "    <tr>\n",
       "      <th>2</th>\n",
       "      <td>2</td>\n",
       "      <td>all wrong, back off dear, forward doubt. stay ...</td>\n",
       "      <td>Anxiety</td>\n",
       "    </tr>\n",
       "    <tr>\n",
       "      <th>3</th>\n",
       "      <td>3</td>\n",
       "      <td>i have shifted my focus to something else but ...</td>\n",
       "      <td>Anxiety</td>\n",
       "    </tr>\n",
       "    <tr>\n",
       "      <th>4</th>\n",
       "      <td>4</td>\n",
       "      <td>i am restless and restless, it is been a month...</td>\n",
       "      <td>Anxiety</td>\n",
       "    </tr>\n",
       "    <tr>\n",
       "      <th>5</th>\n",
       "      <td>5</td>\n",
       "      <td>every break, you must be nervous, like somethi...</td>\n",
       "      <td>Anxiety</td>\n",
       "    </tr>\n",
       "    <tr>\n",
       "      <th>6</th>\n",
       "      <td>6</td>\n",
       "      <td>i feel scared, anxious, what can i do? and may...</td>\n",
       "      <td>Anxiety</td>\n",
       "    </tr>\n",
       "    <tr>\n",
       "      <th>7</th>\n",
       "      <td>7</td>\n",
       "      <td>have you ever felt nervous but did not know why?</td>\n",
       "      <td>Anxiety</td>\n",
       "    </tr>\n",
       "    <tr>\n",
       "      <th>8</th>\n",
       "      <td>8</td>\n",
       "      <td>i have not slept well for 2 days, it is like i...</td>\n",
       "      <td>Anxiety</td>\n",
       "    </tr>\n",
       "    <tr>\n",
       "      <th>9</th>\n",
       "      <td>9</td>\n",
       "      <td>i am really worried, i want to cry.</td>\n",
       "      <td>Anxiety</td>\n",
       "    </tr>\n",
       "  </tbody>\n",
       "</table>\n",
       "</div>"
      ],
      "text/plain": [
       "   Unnamed: 0                                          statement   status\n",
       "0           0                                         oh my gosh  Anxiety\n",
       "1           1  trouble sleeping, confused mind, restless hear...  Anxiety\n",
       "2           2  all wrong, back off dear, forward doubt. stay ...  Anxiety\n",
       "3           3  i have shifted my focus to something else but ...  Anxiety\n",
       "4           4  i am restless and restless, it is been a month...  Anxiety\n",
       "5           5  every break, you must be nervous, like somethi...  Anxiety\n",
       "6           6  i feel scared, anxious, what can i do? and may...  Anxiety\n",
       "7           7   have you ever felt nervous but did not know why?  Anxiety\n",
       "8           8  i have not slept well for 2 days, it is like i...  Anxiety\n",
       "9           9                i am really worried, i want to cry.  Anxiety"
      ]
     },
     "execution_count": 20,
     "metadata": {},
     "output_type": "execute_result"
    }
   ],
   "source": [
    "df.head(10)"
   ]
  },
  {
   "cell_type": "markdown",
   "id": "731451eb",
   "metadata": {
    "papermill": {
     "duration": 0.011589,
     "end_time": "2024-12-06T03:55:41.357462",
     "exception": false,
     "start_time": "2024-12-06T03:55:41.345873",
     "status": "completed"
    },
    "tags": []
   },
   "source": [
    "### Tokenization"
   ]
  },
  {
   "cell_type": "code",
   "execution_count": 21,
   "id": "36c89a49",
   "metadata": {
    "execution": {
     "iopub.execute_input": "2024-12-06T03:55:41.381781Z",
     "iopub.status.busy": "2024-12-06T03:55:41.381426Z",
     "iopub.status.idle": "2024-12-06T03:56:08.191144Z",
     "shell.execute_reply": "2024-12-06T03:56:08.189966Z"
    },
    "papermill": {
     "duration": 26.824513,
     "end_time": "2024-12-06T03:56:08.193448",
     "exception": false,
     "start_time": "2024-12-06T03:55:41.368935",
     "status": "completed"
    },
    "tags": []
   },
   "outputs": [
    {
     "name": "stdout",
     "output_type": "stream",
     "text": [
      "[nltk_data] Downloading package punkt to /usr/share/nltk_data...\n",
      "[nltk_data]   Package punkt is already up-to-date!\n"
     ]
    }
   ],
   "source": [
    "import pandas as pd\n",
    "import nltk\n",
    "from nltk.tokenize import word_tokenize\n",
    "nltk.download('punkt')\n",
    "\n",
    "# Function to tokenize text\n",
    "def tokenize_text(text):\n",
    "    tokens = word_tokenize(text)\n",
    "    return tokens\n",
    "\n",
    "df['statement'] = df['statement'].apply(tokenize_text)"
   ]
  },
  {
   "cell_type": "code",
   "execution_count": 22,
   "id": "97de9b54",
   "metadata": {
    "execution": {
     "iopub.execute_input": "2024-12-06T03:56:08.218764Z",
     "iopub.status.busy": "2024-12-06T03:56:08.218372Z",
     "iopub.status.idle": "2024-12-06T03:56:08.233284Z",
     "shell.execute_reply": "2024-12-06T03:56:08.232417Z"
    },
    "papermill": {
     "duration": 0.029305,
     "end_time": "2024-12-06T03:56:08.235030",
     "exception": false,
     "start_time": "2024-12-06T03:56:08.205725",
     "status": "completed"
    },
    "tags": []
   },
   "outputs": [
    {
     "data": {
      "text/html": [
       "<div>\n",
       "<style scoped>\n",
       "    .dataframe tbody tr th:only-of-type {\n",
       "        vertical-align: middle;\n",
       "    }\n",
       "\n",
       "    .dataframe tbody tr th {\n",
       "        vertical-align: top;\n",
       "    }\n",
       "\n",
       "    .dataframe thead th {\n",
       "        text-align: right;\n",
       "    }\n",
       "</style>\n",
       "<table border=\"1\" class=\"dataframe\">\n",
       "  <thead>\n",
       "    <tr style=\"text-align: right;\">\n",
       "      <th></th>\n",
       "      <th>Unnamed: 0</th>\n",
       "      <th>statement</th>\n",
       "      <th>status</th>\n",
       "    </tr>\n",
       "  </thead>\n",
       "  <tbody>\n",
       "    <tr>\n",
       "      <th>0</th>\n",
       "      <td>0</td>\n",
       "      <td>[oh, my, gosh]</td>\n",
       "      <td>Anxiety</td>\n",
       "    </tr>\n",
       "    <tr>\n",
       "      <th>1</th>\n",
       "      <td>1</td>\n",
       "      <td>[trouble, sleeping, ,, confused, mind, ,, rest...</td>\n",
       "      <td>Anxiety</td>\n",
       "    </tr>\n",
       "    <tr>\n",
       "      <th>2</th>\n",
       "      <td>2</td>\n",
       "      <td>[all, wrong, ,, back, off, dear, ,, forward, d...</td>\n",
       "      <td>Anxiety</td>\n",
       "    </tr>\n",
       "    <tr>\n",
       "      <th>3</th>\n",
       "      <td>3</td>\n",
       "      <td>[i, have, shifted, my, focus, to, something, e...</td>\n",
       "      <td>Anxiety</td>\n",
       "    </tr>\n",
       "    <tr>\n",
       "      <th>4</th>\n",
       "      <td>4</td>\n",
       "      <td>[i, am, restless, and, restless, ,, it, is, be...</td>\n",
       "      <td>Anxiety</td>\n",
       "    </tr>\n",
       "    <tr>\n",
       "      <th>5</th>\n",
       "      <td>5</td>\n",
       "      <td>[every, break, ,, you, must, be, nervous, ,, l...</td>\n",
       "      <td>Anxiety</td>\n",
       "    </tr>\n",
       "    <tr>\n",
       "      <th>6</th>\n",
       "      <td>6</td>\n",
       "      <td>[i, feel, scared, ,, anxious, ,, what, can, i,...</td>\n",
       "      <td>Anxiety</td>\n",
       "    </tr>\n",
       "    <tr>\n",
       "      <th>7</th>\n",
       "      <td>7</td>\n",
       "      <td>[have, you, ever, felt, nervous, but, did, not...</td>\n",
       "      <td>Anxiety</td>\n",
       "    </tr>\n",
       "    <tr>\n",
       "      <th>8</th>\n",
       "      <td>8</td>\n",
       "      <td>[i, have, not, slept, well, for, 2, days, ,, i...</td>\n",
       "      <td>Anxiety</td>\n",
       "    </tr>\n",
       "    <tr>\n",
       "      <th>9</th>\n",
       "      <td>9</td>\n",
       "      <td>[i, am, really, worried, ,, i, want, to, cry, .]</td>\n",
       "      <td>Anxiety</td>\n",
       "    </tr>\n",
       "    <tr>\n",
       "      <th>10</th>\n",
       "      <td>10</td>\n",
       "      <td>[always, restless, every, night, ,, even, thou...</td>\n",
       "      <td>Anxiety</td>\n",
       "    </tr>\n",
       "    <tr>\n",
       "      <th>11</th>\n",
       "      <td>11</td>\n",
       "      <td>[i, am, confused, ,, i, am, not, feeling, good...</td>\n",
       "      <td>Anxiety</td>\n",
       "    </tr>\n",
       "    <tr>\n",
       "      <th>12</th>\n",
       "      <td>12</td>\n",
       "      <td>[someti, ames, what, is, needed, when, there, ...</td>\n",
       "      <td>Anxiety</td>\n",
       "    </tr>\n",
       "    <tr>\n",
       "      <th>13</th>\n",
       "      <td>13</td>\n",
       "      <td>[because, this, worry, is, you, .]</td>\n",
       "      <td>Anxiety</td>\n",
       "    </tr>\n",
       "    <tr>\n",
       "      <th>14</th>\n",
       "      <td>14</td>\n",
       "      <td>[someti, ames, it, is, your, own, thoughts, th...</td>\n",
       "      <td>Anxiety</td>\n",
       "    </tr>\n",
       "    <tr>\n",
       "      <th>15</th>\n",
       "      <td>15</td>\n",
       "      <td>[every, ti, ame, i, wake, up, ,, i, am, defini...</td>\n",
       "      <td>Anxiety</td>\n",
       "    </tr>\n",
       "    <tr>\n",
       "      <th>16</th>\n",
       "      <td>16</td>\n",
       "      <td>[i, can, only, hope, ,, even, though, i, am, w...</td>\n",
       "      <td>Anxiety</td>\n",
       "    </tr>\n",
       "    <tr>\n",
       "      <th>17</th>\n",
       "      <td>17</td>\n",
       "      <td>[restive, =, restless, ,, restless]</td>\n",
       "      <td>Anxiety</td>\n",
       "    </tr>\n",
       "    <tr>\n",
       "      <th>18</th>\n",
       "      <td>18</td>\n",
       "      <td>[``, no, regrets, or, grudges/angry, at, thing...</td>\n",
       "      <td>Anxiety</td>\n",
       "    </tr>\n",
       "    <tr>\n",
       "      <th>19</th>\n",
       "      <td>19</td>\n",
       "      <td>[if, the, guy, is, sick, ,, the, girl, actuall...</td>\n",
       "      <td>Anxiety</td>\n",
       "    </tr>\n",
       "  </tbody>\n",
       "</table>\n",
       "</div>"
      ],
      "text/plain": [
       "    Unnamed: 0                                          statement   status\n",
       "0            0                                     [oh, my, gosh]  Anxiety\n",
       "1            1  [trouble, sleeping, ,, confused, mind, ,, rest...  Anxiety\n",
       "2            2  [all, wrong, ,, back, off, dear, ,, forward, d...  Anxiety\n",
       "3            3  [i, have, shifted, my, focus, to, something, e...  Anxiety\n",
       "4            4  [i, am, restless, and, restless, ,, it, is, be...  Anxiety\n",
       "5            5  [every, break, ,, you, must, be, nervous, ,, l...  Anxiety\n",
       "6            6  [i, feel, scared, ,, anxious, ,, what, can, i,...  Anxiety\n",
       "7            7  [have, you, ever, felt, nervous, but, did, not...  Anxiety\n",
       "8            8  [i, have, not, slept, well, for, 2, days, ,, i...  Anxiety\n",
       "9            9   [i, am, really, worried, ,, i, want, to, cry, .]  Anxiety\n",
       "10          10  [always, restless, every, night, ,, even, thou...  Anxiety\n",
       "11          11  [i, am, confused, ,, i, am, not, feeling, good...  Anxiety\n",
       "12          12  [someti, ames, what, is, needed, when, there, ...  Anxiety\n",
       "13          13                 [because, this, worry, is, you, .]  Anxiety\n",
       "14          14  [someti, ames, it, is, your, own, thoughts, th...  Anxiety\n",
       "15          15  [every, ti, ame, i, wake, up, ,, i, am, defini...  Anxiety\n",
       "16          16  [i, can, only, hope, ,, even, though, i, am, w...  Anxiety\n",
       "17          17                [restive, =, restless, ,, restless]  Anxiety\n",
       "18          18  [``, no, regrets, or, grudges/angry, at, thing...  Anxiety\n",
       "19          19  [if, the, guy, is, sick, ,, the, girl, actuall...  Anxiety"
      ]
     },
     "execution_count": 22,
     "metadata": {},
     "output_type": "execute_result"
    }
   ],
   "source": [
    "df.head(20)"
   ]
  },
  {
   "cell_type": "markdown",
   "id": "c121d714",
   "metadata": {
    "papermill": {
     "duration": 0.011671,
     "end_time": "2024-12-06T03:56:08.259909",
     "exception": false,
     "start_time": "2024-12-06T03:56:08.248238",
     "status": "completed"
    },
    "tags": []
   },
   "source": [
    "### Word Segementation"
   ]
  },
  {
   "cell_type": "code",
   "execution_count": 23,
   "id": "7f9a6601",
   "metadata": {
    "execution": {
     "iopub.execute_input": "2024-12-06T03:56:08.284670Z",
     "iopub.status.busy": "2024-12-06T03:56:08.284376Z",
     "iopub.status.idle": "2024-12-06T03:56:12.422320Z",
     "shell.execute_reply": "2024-12-06T03:56:12.421348Z"
    },
    "papermill": {
     "duration": 4.152676,
     "end_time": "2024-12-06T03:56:12.424323",
     "exception": false,
     "start_time": "2024-12-06T03:56:08.271647",
     "status": "completed"
    },
    "tags": []
   },
   "outputs": [
    {
     "name": "stdout",
     "output_type": "stream",
     "text": [
      "Collecting wordninja\r\n",
      "  Downloading wordninja-2.0.0.tar.gz (541 kB)\r\n",
      "\u001b[2K     \u001b[90m━━━━━━━━━━━━━━━━━━━━━━━━━━━━━━━━━━━━━━━\u001b[0m \u001b[32m541.6/541.6 kB\u001b[0m \u001b[31m9.6 MB/s\u001b[0m eta \u001b[36m0:00:00\u001b[0m\r\n",
      "\u001b[?25h  Preparing metadata (setup.py) ... \u001b[?25l-\b \bdone\r\n",
      "\u001b[?25hBuilding wheels for collected packages: wordninja\r\n",
      "  Building wheel for wordninja (setup.py) ... \u001b[?25l-\b \bdone\r\n",
      "\u001b[?25h  Created wheel for wordninja: filename=wordninja-2.0.0-py3-none-any.whl size=541530 sha256=492899134b36e9ae7a0446e029c2ba075045c569fa3338eee30bcf7f793cc970\r\n",
      "  Stored in directory: /root/.cache/pip/wheels/aa/44/3a/f2a5c1859b8b541ded969b4cd12d0a58897f12408f4f51e084\r\n",
      "Successfully built wordninja\r\n",
      "Installing collected packages: wordninja\r\n",
      "Successfully installed wordninja-2.0.0\r\n"
     ]
    }
   ],
   "source": [
    "!pip install wordninja --no-deps"
   ]
  },
  {
   "cell_type": "code",
   "execution_count": 24,
   "id": "b448f7d1",
   "metadata": {
    "execution": {
     "iopub.execute_input": "2024-12-06T03:56:12.451571Z",
     "iopub.status.busy": "2024-12-06T03:56:12.450790Z",
     "iopub.status.idle": "2024-12-06T03:57:12.569226Z",
     "shell.execute_reply": "2024-12-06T03:57:12.568370Z"
    },
    "papermill": {
     "duration": 60.134491,
     "end_time": "2024-12-06T03:57:12.571586",
     "exception": false,
     "start_time": "2024-12-06T03:56:12.437095",
     "status": "completed"
    },
    "tags": []
   },
   "outputs": [],
   "source": [
    "import pandas as pd\n",
    "import wordninja\n",
    "import re\n",
    "\n",
    "# Apply word segmentation\n",
    "df['statement'] = df['statement'].apply(lambda tokens: wordninja.split(\" \".join(tokens)))"
   ]
  },
  {
   "cell_type": "code",
   "execution_count": 25,
   "id": "4ee7125e",
   "metadata": {
    "execution": {
     "iopub.execute_input": "2024-12-06T03:57:12.599381Z",
     "iopub.status.busy": "2024-12-06T03:57:12.599064Z",
     "iopub.status.idle": "2024-12-06T03:57:12.611687Z",
     "shell.execute_reply": "2024-12-06T03:57:12.610799Z"
    },
    "papermill": {
     "duration": 0.028244,
     "end_time": "2024-12-06T03:57:12.613425",
     "exception": false,
     "start_time": "2024-12-06T03:57:12.585181",
     "status": "completed"
    },
    "tags": []
   },
   "outputs": [
    {
     "data": {
      "text/html": [
       "<div>\n",
       "<style scoped>\n",
       "    .dataframe tbody tr th:only-of-type {\n",
       "        vertical-align: middle;\n",
       "    }\n",
       "\n",
       "    .dataframe tbody tr th {\n",
       "        vertical-align: top;\n",
       "    }\n",
       "\n",
       "    .dataframe thead th {\n",
       "        text-align: right;\n",
       "    }\n",
       "</style>\n",
       "<table border=\"1\" class=\"dataframe\">\n",
       "  <thead>\n",
       "    <tr style=\"text-align: right;\">\n",
       "      <th></th>\n",
       "      <th>Unnamed: 0</th>\n",
       "      <th>statement</th>\n",
       "      <th>status</th>\n",
       "    </tr>\n",
       "  </thead>\n",
       "  <tbody>\n",
       "    <tr>\n",
       "      <th>0</th>\n",
       "      <td>0</td>\n",
       "      <td>[oh, my, gosh]</td>\n",
       "      <td>Anxiety</td>\n",
       "    </tr>\n",
       "    <tr>\n",
       "      <th>1</th>\n",
       "      <td>1</td>\n",
       "      <td>[trouble, sleeping, confused, mind, restless, ...</td>\n",
       "      <td>Anxiety</td>\n",
       "    </tr>\n",
       "    <tr>\n",
       "      <th>2</th>\n",
       "      <td>2</td>\n",
       "      <td>[all, wrong, back, off, dear, forward, doubt, ...</td>\n",
       "      <td>Anxiety</td>\n",
       "    </tr>\n",
       "    <tr>\n",
       "      <th>3</th>\n",
       "      <td>3</td>\n",
       "      <td>[i, have, shifted, my, focus, to, something, e...</td>\n",
       "      <td>Anxiety</td>\n",
       "    </tr>\n",
       "    <tr>\n",
       "      <th>4</th>\n",
       "      <td>4</td>\n",
       "      <td>[i, am, restless, and, restless, it, is, been,...</td>\n",
       "      <td>Anxiety</td>\n",
       "    </tr>\n",
       "    <tr>\n",
       "      <th>5</th>\n",
       "      <td>5</td>\n",
       "      <td>[every, break, you, must, be, nervous, like, s...</td>\n",
       "      <td>Anxiety</td>\n",
       "    </tr>\n",
       "    <tr>\n",
       "      <th>6</th>\n",
       "      <td>6</td>\n",
       "      <td>[i, feel, scared, anxious, what, can, i, do, a...</td>\n",
       "      <td>Anxiety</td>\n",
       "    </tr>\n",
       "    <tr>\n",
       "      <th>7</th>\n",
       "      <td>7</td>\n",
       "      <td>[have, you, ever, felt, nervous, but, did, not...</td>\n",
       "      <td>Anxiety</td>\n",
       "    </tr>\n",
       "    <tr>\n",
       "      <th>8</th>\n",
       "      <td>8</td>\n",
       "      <td>[i, have, not, slept, well, for, 2, days, it, ...</td>\n",
       "      <td>Anxiety</td>\n",
       "    </tr>\n",
       "    <tr>\n",
       "      <th>9</th>\n",
       "      <td>9</td>\n",
       "      <td>[i, am, really, worried, i, want, to, cry]</td>\n",
       "      <td>Anxiety</td>\n",
       "    </tr>\n",
       "  </tbody>\n",
       "</table>\n",
       "</div>"
      ],
      "text/plain": [
       "   Unnamed: 0                                          statement   status\n",
       "0           0                                     [oh, my, gosh]  Anxiety\n",
       "1           1  [trouble, sleeping, confused, mind, restless, ...  Anxiety\n",
       "2           2  [all, wrong, back, off, dear, forward, doubt, ...  Anxiety\n",
       "3           3  [i, have, shifted, my, focus, to, something, e...  Anxiety\n",
       "4           4  [i, am, restless, and, restless, it, is, been,...  Anxiety\n",
       "5           5  [every, break, you, must, be, nervous, like, s...  Anxiety\n",
       "6           6  [i, feel, scared, anxious, what, can, i, do, a...  Anxiety\n",
       "7           7  [have, you, ever, felt, nervous, but, did, not...  Anxiety\n",
       "8           8  [i, have, not, slept, well, for, 2, days, it, ...  Anxiety\n",
       "9           9         [i, am, really, worried, i, want, to, cry]  Anxiety"
      ]
     },
     "execution_count": 25,
     "metadata": {},
     "output_type": "execute_result"
    }
   ],
   "source": [
    "df.head(10)"
   ]
  },
  {
   "cell_type": "markdown",
   "id": "ebeca6dd",
   "metadata": {
    "papermill": {
     "duration": 0.012482,
     "end_time": "2024-12-06T03:57:12.638863",
     "exception": false,
     "start_time": "2024-12-06T03:57:12.626381",
     "status": "completed"
    },
    "tags": []
   },
   "source": [
    "### Stopwords Removal"
   ]
  },
  {
   "cell_type": "code",
   "execution_count": 26,
   "id": "936f9e09",
   "metadata": {
    "execution": {
     "iopub.execute_input": "2024-12-06T03:57:12.665519Z",
     "iopub.status.busy": "2024-12-06T03:57:12.664860Z",
     "iopub.status.idle": "2024-12-06T03:57:13.781284Z",
     "shell.execute_reply": "2024-12-06T03:57:13.780302Z"
    },
    "papermill": {
     "duration": 1.131985,
     "end_time": "2024-12-06T03:57:13.783419",
     "exception": false,
     "start_time": "2024-12-06T03:57:12.651434",
     "status": "completed"
    },
    "tags": []
   },
   "outputs": [
    {
     "name": "stdout",
     "output_type": "stream",
     "text": [
      "[nltk_data] Downloading package stopwords to /usr/share/nltk_data...\n",
      "[nltk_data]   Package stopwords is already up-to-date!\n"
     ]
    }
   ],
   "source": [
    "from nltk.corpus import stopwords\n",
    "\n",
    "# Download the list of English stopwords\n",
    "nltk.download('stopwords')\n",
    "\n",
    "# Retrieve the English stopwords\n",
    "stop_words = set(stopwords.words('english'))\n",
    "\n",
    "# Function to remove stopwords from a list of tokens\n",
    "def remove_stopwords(tokens):\n",
    "    return [word for word in tokens if word.lower() not in stop_words]\n",
    "\n",
    "# Apply the stopword removal function\n",
    "df['statement'] = df['statement'].apply(remove_stopwords)\n",
    "\n"
   ]
  },
  {
   "cell_type": "code",
   "execution_count": 27,
   "id": "0cecbe62",
   "metadata": {
    "execution": {
     "iopub.execute_input": "2024-12-06T03:57:13.810383Z",
     "iopub.status.busy": "2024-12-06T03:57:13.810101Z",
     "iopub.status.idle": "2024-12-06T03:57:13.821287Z",
     "shell.execute_reply": "2024-12-06T03:57:13.820387Z"
    },
    "papermill": {
     "duration": 0.026746,
     "end_time": "2024-12-06T03:57:13.823326",
     "exception": false,
     "start_time": "2024-12-06T03:57:13.796580",
     "status": "completed"
    },
    "tags": []
   },
   "outputs": [
    {
     "data": {
      "text/html": [
       "<div>\n",
       "<style scoped>\n",
       "    .dataframe tbody tr th:only-of-type {\n",
       "        vertical-align: middle;\n",
       "    }\n",
       "\n",
       "    .dataframe tbody tr th {\n",
       "        vertical-align: top;\n",
       "    }\n",
       "\n",
       "    .dataframe thead th {\n",
       "        text-align: right;\n",
       "    }\n",
       "</style>\n",
       "<table border=\"1\" class=\"dataframe\">\n",
       "  <thead>\n",
       "    <tr style=\"text-align: right;\">\n",
       "      <th></th>\n",
       "      <th>Unnamed: 0</th>\n",
       "      <th>statement</th>\n",
       "      <th>status</th>\n",
       "    </tr>\n",
       "  </thead>\n",
       "  <tbody>\n",
       "    <tr>\n",
       "      <th>0</th>\n",
       "      <td>0</td>\n",
       "      <td>[oh, gosh]</td>\n",
       "      <td>Anxiety</td>\n",
       "    </tr>\n",
       "    <tr>\n",
       "      <th>1</th>\n",
       "      <td>1</td>\n",
       "      <td>[trouble, sleeping, confused, mind, restless, ...</td>\n",
       "      <td>Anxiety</td>\n",
       "    </tr>\n",
       "    <tr>\n",
       "      <th>2</th>\n",
       "      <td>2</td>\n",
       "      <td>[wrong, back, dear, forward, doubt, stay, rest...</td>\n",
       "      <td>Anxiety</td>\n",
       "    </tr>\n",
       "    <tr>\n",
       "      <th>3</th>\n",
       "      <td>3</td>\n",
       "      <td>[shifted, focus, something, else, still, worried]</td>\n",
       "      <td>Anxiety</td>\n",
       "    </tr>\n",
       "    <tr>\n",
       "      <th>4</th>\n",
       "      <td>4</td>\n",
       "      <td>[restless, restless, month, boy, mean]</td>\n",
       "      <td>Anxiety</td>\n",
       "    </tr>\n",
       "    <tr>\n",
       "      <th>5</th>\n",
       "      <td>5</td>\n",
       "      <td>[every, break, must, nervous, like, something,...</td>\n",
       "      <td>Anxiety</td>\n",
       "    </tr>\n",
       "    <tr>\n",
       "      <th>6</th>\n",
       "      <td>6</td>\n",
       "      <td>[feel, scared, anxious, may, family, us, prote...</td>\n",
       "      <td>Anxiety</td>\n",
       "    </tr>\n",
       "    <tr>\n",
       "      <th>7</th>\n",
       "      <td>7</td>\n",
       "      <td>[ever, felt, nervous, know]</td>\n",
       "      <td>Anxiety</td>\n",
       "    </tr>\n",
       "    <tr>\n",
       "      <th>8</th>\n",
       "      <td>8</td>\n",
       "      <td>[slept, well, 2, days, like, restless, huh]</td>\n",
       "      <td>Anxiety</td>\n",
       "    </tr>\n",
       "    <tr>\n",
       "      <th>9</th>\n",
       "      <td>9</td>\n",
       "      <td>[really, worried, want, cry]</td>\n",
       "      <td>Anxiety</td>\n",
       "    </tr>\n",
       "  </tbody>\n",
       "</table>\n",
       "</div>"
      ],
      "text/plain": [
       "   Unnamed: 0                                          statement   status\n",
       "0           0                                         [oh, gosh]  Anxiety\n",
       "1           1  [trouble, sleeping, confused, mind, restless, ...  Anxiety\n",
       "2           2  [wrong, back, dear, forward, doubt, stay, rest...  Anxiety\n",
       "3           3  [shifted, focus, something, else, still, worried]  Anxiety\n",
       "4           4             [restless, restless, month, boy, mean]  Anxiety\n",
       "5           5  [every, break, must, nervous, like, something,...  Anxiety\n",
       "6           6  [feel, scared, anxious, may, family, us, prote...  Anxiety\n",
       "7           7                        [ever, felt, nervous, know]  Anxiety\n",
       "8           8        [slept, well, 2, days, like, restless, huh]  Anxiety\n",
       "9           9                       [really, worried, want, cry]  Anxiety"
      ]
     },
     "execution_count": 27,
     "metadata": {},
     "output_type": "execute_result"
    }
   ],
   "source": [
    "df.head(10)"
   ]
  },
  {
   "cell_type": "markdown",
   "id": "a23c7182",
   "metadata": {
    "papermill": {
     "duration": 0.012687,
     "end_time": "2024-12-06T03:57:13.850438",
     "exception": false,
     "start_time": "2024-12-06T03:57:13.837751",
     "status": "completed"
    },
    "tags": []
   },
   "source": [
    "### Punctuation and Digit Removal"
   ]
  },
  {
   "cell_type": "code",
   "execution_count": 28,
   "id": "f35a1af0",
   "metadata": {
    "execution": {
     "iopub.execute_input": "2024-12-06T03:57:13.877487Z",
     "iopub.status.busy": "2024-12-06T03:57:13.876822Z",
     "iopub.status.idle": "2024-12-06T03:57:14.309198Z",
     "shell.execute_reply": "2024-12-06T03:57:14.308319Z"
    },
    "papermill": {
     "duration": 0.448295,
     "end_time": "2024-12-06T03:57:14.311559",
     "exception": false,
     "start_time": "2024-12-06T03:57:13.863264",
     "status": "completed"
    },
    "tags": []
   },
   "outputs": [],
   "source": [
    "import string\n",
    "\n",
    "# Function to remove punctuation and digits\n",
    "def remove_punctuation(tokens):\n",
    "    return [word for word in tokens if word not in string.punctuation and not word.isdigit()]\n",
    "\n",
    "# Apply the function to remove punctuation and digits \n",
    "df['statement'] = df['statement'].apply(remove_punctuation)\n",
    "\n",
    "\n"
   ]
  },
  {
   "cell_type": "code",
   "execution_count": 29,
   "id": "bffbc47d",
   "metadata": {
    "execution": {
     "iopub.execute_input": "2024-12-06T03:57:14.340588Z",
     "iopub.status.busy": "2024-12-06T03:57:14.340322Z",
     "iopub.status.idle": "2024-12-06T03:57:14.354095Z",
     "shell.execute_reply": "2024-12-06T03:57:14.353135Z"
    },
    "papermill": {
     "duration": 0.030009,
     "end_time": "2024-12-06T03:57:14.355749",
     "exception": false,
     "start_time": "2024-12-06T03:57:14.325740",
     "status": "completed"
    },
    "tags": []
   },
   "outputs": [
    {
     "data": {
      "text/html": [
       "<div>\n",
       "<style scoped>\n",
       "    .dataframe tbody tr th:only-of-type {\n",
       "        vertical-align: middle;\n",
       "    }\n",
       "\n",
       "    .dataframe tbody tr th {\n",
       "        vertical-align: top;\n",
       "    }\n",
       "\n",
       "    .dataframe thead th {\n",
       "        text-align: right;\n",
       "    }\n",
       "</style>\n",
       "<table border=\"1\" class=\"dataframe\">\n",
       "  <thead>\n",
       "    <tr style=\"text-align: right;\">\n",
       "      <th></th>\n",
       "      <th>Unnamed: 0</th>\n",
       "      <th>statement</th>\n",
       "      <th>status</th>\n",
       "    </tr>\n",
       "  </thead>\n",
       "  <tbody>\n",
       "    <tr>\n",
       "      <th>0</th>\n",
       "      <td>0</td>\n",
       "      <td>[oh, gosh]</td>\n",
       "      <td>Anxiety</td>\n",
       "    </tr>\n",
       "    <tr>\n",
       "      <th>1</th>\n",
       "      <td>1</td>\n",
       "      <td>[trouble, sleeping, confused, mind, restless, ...</td>\n",
       "      <td>Anxiety</td>\n",
       "    </tr>\n",
       "    <tr>\n",
       "      <th>2</th>\n",
       "      <td>2</td>\n",
       "      <td>[wrong, back, dear, forward, doubt, stay, rest...</td>\n",
       "      <td>Anxiety</td>\n",
       "    </tr>\n",
       "    <tr>\n",
       "      <th>3</th>\n",
       "      <td>3</td>\n",
       "      <td>[shifted, focus, something, else, still, worried]</td>\n",
       "      <td>Anxiety</td>\n",
       "    </tr>\n",
       "    <tr>\n",
       "      <th>4</th>\n",
       "      <td>4</td>\n",
       "      <td>[restless, restless, month, boy, mean]</td>\n",
       "      <td>Anxiety</td>\n",
       "    </tr>\n",
       "    <tr>\n",
       "      <th>5</th>\n",
       "      <td>5</td>\n",
       "      <td>[every, break, must, nervous, like, something,...</td>\n",
       "      <td>Anxiety</td>\n",
       "    </tr>\n",
       "    <tr>\n",
       "      <th>6</th>\n",
       "      <td>6</td>\n",
       "      <td>[feel, scared, anxious, may, family, us, prote...</td>\n",
       "      <td>Anxiety</td>\n",
       "    </tr>\n",
       "    <tr>\n",
       "      <th>7</th>\n",
       "      <td>7</td>\n",
       "      <td>[ever, felt, nervous, know]</td>\n",
       "      <td>Anxiety</td>\n",
       "    </tr>\n",
       "    <tr>\n",
       "      <th>8</th>\n",
       "      <td>8</td>\n",
       "      <td>[slept, well, days, like, restless, huh]</td>\n",
       "      <td>Anxiety</td>\n",
       "    </tr>\n",
       "    <tr>\n",
       "      <th>9</th>\n",
       "      <td>9</td>\n",
       "      <td>[really, worried, want, cry]</td>\n",
       "      <td>Anxiety</td>\n",
       "    </tr>\n",
       "  </tbody>\n",
       "</table>\n",
       "</div>"
      ],
      "text/plain": [
       "   Unnamed: 0                                          statement   status\n",
       "0           0                                         [oh, gosh]  Anxiety\n",
       "1           1  [trouble, sleeping, confused, mind, restless, ...  Anxiety\n",
       "2           2  [wrong, back, dear, forward, doubt, stay, rest...  Anxiety\n",
       "3           3  [shifted, focus, something, else, still, worried]  Anxiety\n",
       "4           4             [restless, restless, month, boy, mean]  Anxiety\n",
       "5           5  [every, break, must, nervous, like, something,...  Anxiety\n",
       "6           6  [feel, scared, anxious, may, family, us, prote...  Anxiety\n",
       "7           7                        [ever, felt, nervous, know]  Anxiety\n",
       "8           8           [slept, well, days, like, restless, huh]  Anxiety\n",
       "9           9                       [really, worried, want, cry]  Anxiety"
      ]
     },
     "execution_count": 29,
     "metadata": {},
     "output_type": "execute_result"
    }
   ],
   "source": [
    "df.head(10)"
   ]
  },
  {
   "cell_type": "markdown",
   "id": "aae915fa",
   "metadata": {
    "papermill": {
     "duration": 0.012947,
     "end_time": "2024-12-06T03:57:14.382087",
     "exception": false,
     "start_time": "2024-12-06T03:57:14.369140",
     "status": "completed"
    },
    "tags": []
   },
   "source": [
    "### Special Characters Removal"
   ]
  },
  {
   "cell_type": "code",
   "execution_count": 30,
   "id": "531eb6f1",
   "metadata": {
    "execution": {
     "iopub.execute_input": "2024-12-06T03:57:14.409466Z",
     "iopub.status.busy": "2024-12-06T03:57:14.408981Z",
     "iopub.status.idle": "2024-12-06T03:57:15.882442Z",
     "shell.execute_reply": "2024-12-06T03:57:15.881713Z"
    },
    "papermill": {
     "duration": 1.489258,
     "end_time": "2024-12-06T03:57:15.884568",
     "exception": false,
     "start_time": "2024-12-06T03:57:14.395310",
     "status": "completed"
    },
    "tags": []
   },
   "outputs": [],
   "source": [
    "def remove_special_characters(tokens):\n",
    "    # Remove special characters from each token using a regular expression\n",
    "    return [re.sub(r'[^a-zA-Z0-9\\s]', '', word) for word in tokens]\n",
    "\n",
    "# Apply the function to remove special characters\n",
    "df['statement'] = df['statement'].apply(remove_special_characters)"
   ]
  },
  {
   "cell_type": "code",
   "execution_count": 31,
   "id": "63598b95",
   "metadata": {
    "execution": {
     "iopub.execute_input": "2024-12-06T03:57:15.912821Z",
     "iopub.status.busy": "2024-12-06T03:57:15.912069Z",
     "iopub.status.idle": "2024-12-06T03:57:15.923801Z",
     "shell.execute_reply": "2024-12-06T03:57:15.922841Z"
    },
    "papermill": {
     "duration": 0.027504,
     "end_time": "2024-12-06T03:57:15.925631",
     "exception": false,
     "start_time": "2024-12-06T03:57:15.898127",
     "status": "completed"
    },
    "tags": []
   },
   "outputs": [
    {
     "data": {
      "text/html": [
       "<div>\n",
       "<style scoped>\n",
       "    .dataframe tbody tr th:only-of-type {\n",
       "        vertical-align: middle;\n",
       "    }\n",
       "\n",
       "    .dataframe tbody tr th {\n",
       "        vertical-align: top;\n",
       "    }\n",
       "\n",
       "    .dataframe thead th {\n",
       "        text-align: right;\n",
       "    }\n",
       "</style>\n",
       "<table border=\"1\" class=\"dataframe\">\n",
       "  <thead>\n",
       "    <tr style=\"text-align: right;\">\n",
       "      <th></th>\n",
       "      <th>Unnamed: 0</th>\n",
       "      <th>statement</th>\n",
       "      <th>status</th>\n",
       "    </tr>\n",
       "  </thead>\n",
       "  <tbody>\n",
       "    <tr>\n",
       "      <th>0</th>\n",
       "      <td>0</td>\n",
       "      <td>[oh, gosh]</td>\n",
       "      <td>Anxiety</td>\n",
       "    </tr>\n",
       "    <tr>\n",
       "      <th>1</th>\n",
       "      <td>1</td>\n",
       "      <td>[trouble, sleeping, confused, mind, restless, ...</td>\n",
       "      <td>Anxiety</td>\n",
       "    </tr>\n",
       "    <tr>\n",
       "      <th>2</th>\n",
       "      <td>2</td>\n",
       "      <td>[wrong, back, dear, forward, doubt, stay, rest...</td>\n",
       "      <td>Anxiety</td>\n",
       "    </tr>\n",
       "    <tr>\n",
       "      <th>3</th>\n",
       "      <td>3</td>\n",
       "      <td>[shifted, focus, something, else, still, worried]</td>\n",
       "      <td>Anxiety</td>\n",
       "    </tr>\n",
       "    <tr>\n",
       "      <th>4</th>\n",
       "      <td>4</td>\n",
       "      <td>[restless, restless, month, boy, mean]</td>\n",
       "      <td>Anxiety</td>\n",
       "    </tr>\n",
       "    <tr>\n",
       "      <th>5</th>\n",
       "      <td>5</td>\n",
       "      <td>[every, break, must, nervous, like, something,...</td>\n",
       "      <td>Anxiety</td>\n",
       "    </tr>\n",
       "    <tr>\n",
       "      <th>6</th>\n",
       "      <td>6</td>\n",
       "      <td>[feel, scared, anxious, may, family, us, prote...</td>\n",
       "      <td>Anxiety</td>\n",
       "    </tr>\n",
       "    <tr>\n",
       "      <th>7</th>\n",
       "      <td>7</td>\n",
       "      <td>[ever, felt, nervous, know]</td>\n",
       "      <td>Anxiety</td>\n",
       "    </tr>\n",
       "    <tr>\n",
       "      <th>8</th>\n",
       "      <td>8</td>\n",
       "      <td>[slept, well, days, like, restless, huh]</td>\n",
       "      <td>Anxiety</td>\n",
       "    </tr>\n",
       "    <tr>\n",
       "      <th>9</th>\n",
       "      <td>9</td>\n",
       "      <td>[really, worried, want, cry]</td>\n",
       "      <td>Anxiety</td>\n",
       "    </tr>\n",
       "  </tbody>\n",
       "</table>\n",
       "</div>"
      ],
      "text/plain": [
       "   Unnamed: 0                                          statement   status\n",
       "0           0                                         [oh, gosh]  Anxiety\n",
       "1           1  [trouble, sleeping, confused, mind, restless, ...  Anxiety\n",
       "2           2  [wrong, back, dear, forward, doubt, stay, rest...  Anxiety\n",
       "3           3  [shifted, focus, something, else, still, worried]  Anxiety\n",
       "4           4             [restless, restless, month, boy, mean]  Anxiety\n",
       "5           5  [every, break, must, nervous, like, something,...  Anxiety\n",
       "6           6  [feel, scared, anxious, may, family, us, prote...  Anxiety\n",
       "7           7                        [ever, felt, nervous, know]  Anxiety\n",
       "8           8           [slept, well, days, like, restless, huh]  Anxiety\n",
       "9           9                       [really, worried, want, cry]  Anxiety"
      ]
     },
     "execution_count": 31,
     "metadata": {},
     "output_type": "execute_result"
    }
   ],
   "source": [
    "df.head(10)"
   ]
  },
  {
   "cell_type": "markdown",
   "id": "c75ecb5d",
   "metadata": {
    "papermill": {
     "duration": 0.013569,
     "end_time": "2024-12-06T03:57:15.953830",
     "exception": false,
     "start_time": "2024-12-06T03:57:15.940261",
     "status": "completed"
    },
    "tags": []
   },
   "source": [
    "### Extra white spaces Removal"
   ]
  },
  {
   "cell_type": "code",
   "execution_count": 32,
   "id": "4bec516f",
   "metadata": {
    "execution": {
     "iopub.execute_input": "2024-12-06T03:57:15.981386Z",
     "iopub.status.busy": "2024-12-06T03:57:15.980916Z",
     "iopub.status.idle": "2024-12-06T03:57:16.350291Z",
     "shell.execute_reply": "2024-12-06T03:57:16.349156Z"
    },
    "papermill": {
     "duration": 0.385589,
     "end_time": "2024-12-06T03:57:16.352572",
     "exception": false,
     "start_time": "2024-12-06T03:57:15.966983",
     "status": "completed"
    },
    "tags": []
   },
   "outputs": [],
   "source": [
    "# Function to remove extra whitespaces\n",
    "def remove_extra_whitespaces(tokens):\n",
    "    # Strip leading and trailing whitespaces and filter out empty strings\n",
    "    return [word.strip() for word in tokens if word.strip() != '']\n",
    "\n",
    "df['statement'] = df['statement'].apply(remove_extra_whitespaces)\n"
   ]
  },
  {
   "cell_type": "code",
   "execution_count": 33,
   "id": "ea544b36",
   "metadata": {
    "execution": {
     "iopub.execute_input": "2024-12-06T03:57:16.382594Z",
     "iopub.status.busy": "2024-12-06T03:57:16.382282Z",
     "iopub.status.idle": "2024-12-06T03:57:16.395040Z",
     "shell.execute_reply": "2024-12-06T03:57:16.394060Z"
    },
    "papermill": {
     "duration": 0.029598,
     "end_time": "2024-12-06T03:57:16.396715",
     "exception": false,
     "start_time": "2024-12-06T03:57:16.367117",
     "status": "completed"
    },
    "tags": []
   },
   "outputs": [
    {
     "data": {
      "text/html": [
       "<div>\n",
       "<style scoped>\n",
       "    .dataframe tbody tr th:only-of-type {\n",
       "        vertical-align: middle;\n",
       "    }\n",
       "\n",
       "    .dataframe tbody tr th {\n",
       "        vertical-align: top;\n",
       "    }\n",
       "\n",
       "    .dataframe thead th {\n",
       "        text-align: right;\n",
       "    }\n",
       "</style>\n",
       "<table border=\"1\" class=\"dataframe\">\n",
       "  <thead>\n",
       "    <tr style=\"text-align: right;\">\n",
       "      <th></th>\n",
       "      <th>Unnamed: 0</th>\n",
       "      <th>statement</th>\n",
       "      <th>status</th>\n",
       "    </tr>\n",
       "  </thead>\n",
       "  <tbody>\n",
       "    <tr>\n",
       "      <th>0</th>\n",
       "      <td>0</td>\n",
       "      <td>[oh, gosh]</td>\n",
       "      <td>Anxiety</td>\n",
       "    </tr>\n",
       "    <tr>\n",
       "      <th>1</th>\n",
       "      <td>1</td>\n",
       "      <td>[trouble, sleeping, confused, mind, restless, ...</td>\n",
       "      <td>Anxiety</td>\n",
       "    </tr>\n",
       "    <tr>\n",
       "      <th>2</th>\n",
       "      <td>2</td>\n",
       "      <td>[wrong, back, dear, forward, doubt, stay, rest...</td>\n",
       "      <td>Anxiety</td>\n",
       "    </tr>\n",
       "    <tr>\n",
       "      <th>3</th>\n",
       "      <td>3</td>\n",
       "      <td>[shifted, focus, something, else, still, worried]</td>\n",
       "      <td>Anxiety</td>\n",
       "    </tr>\n",
       "    <tr>\n",
       "      <th>4</th>\n",
       "      <td>4</td>\n",
       "      <td>[restless, restless, month, boy, mean]</td>\n",
       "      <td>Anxiety</td>\n",
       "    </tr>\n",
       "    <tr>\n",
       "      <th>5</th>\n",
       "      <td>5</td>\n",
       "      <td>[every, break, must, nervous, like, something,...</td>\n",
       "      <td>Anxiety</td>\n",
       "    </tr>\n",
       "    <tr>\n",
       "      <th>6</th>\n",
       "      <td>6</td>\n",
       "      <td>[feel, scared, anxious, may, family, us, prote...</td>\n",
       "      <td>Anxiety</td>\n",
       "    </tr>\n",
       "    <tr>\n",
       "      <th>7</th>\n",
       "      <td>7</td>\n",
       "      <td>[ever, felt, nervous, know]</td>\n",
       "      <td>Anxiety</td>\n",
       "    </tr>\n",
       "    <tr>\n",
       "      <th>8</th>\n",
       "      <td>8</td>\n",
       "      <td>[slept, well, days, like, restless, huh]</td>\n",
       "      <td>Anxiety</td>\n",
       "    </tr>\n",
       "    <tr>\n",
       "      <th>9</th>\n",
       "      <td>9</td>\n",
       "      <td>[really, worried, want, cry]</td>\n",
       "      <td>Anxiety</td>\n",
       "    </tr>\n",
       "  </tbody>\n",
       "</table>\n",
       "</div>"
      ],
      "text/plain": [
       "   Unnamed: 0                                          statement   status\n",
       "0           0                                         [oh, gosh]  Anxiety\n",
       "1           1  [trouble, sleeping, confused, mind, restless, ...  Anxiety\n",
       "2           2  [wrong, back, dear, forward, doubt, stay, rest...  Anxiety\n",
       "3           3  [shifted, focus, something, else, still, worried]  Anxiety\n",
       "4           4             [restless, restless, month, boy, mean]  Anxiety\n",
       "5           5  [every, break, must, nervous, like, something,...  Anxiety\n",
       "6           6  [feel, scared, anxious, may, family, us, prote...  Anxiety\n",
       "7           7                        [ever, felt, nervous, know]  Anxiety\n",
       "8           8           [slept, well, days, like, restless, huh]  Anxiety\n",
       "9           9                       [really, worried, want, cry]  Anxiety"
      ]
     },
     "execution_count": 33,
     "metadata": {},
     "output_type": "execute_result"
    }
   ],
   "source": [
    "df.head(10)"
   ]
  },
  {
   "cell_type": "markdown",
   "id": "e9ffbb01",
   "metadata": {
    "papermill": {
     "duration": 0.013799,
     "end_time": "2024-12-06T03:57:16.425021",
     "exception": false,
     "start_time": "2024-12-06T03:57:16.411222",
     "status": "completed"
    },
    "tags": []
   },
   "source": [
    "### Emoji, mail, and url Removal"
   ]
  },
  {
   "cell_type": "code",
   "execution_count": 34,
   "id": "f9b5fd3e",
   "metadata": {
    "execution": {
     "iopub.execute_input": "2024-12-06T03:57:16.452564Z",
     "iopub.status.busy": "2024-12-06T03:57:16.452305Z",
     "iopub.status.idle": "2024-12-06T03:57:22.510978Z",
     "shell.execute_reply": "2024-12-06T03:57:22.510062Z"
    },
    "papermill": {
     "duration": 6.074862,
     "end_time": "2024-12-06T03:57:22.513141",
     "exception": false,
     "start_time": "2024-12-06T03:57:16.438279",
     "status": "completed"
    },
    "tags": []
   },
   "outputs": [],
   "source": [
    "import re\n",
    "\n",
    "# Function to remove URLs \n",
    "def remove_url(tokens):\n",
    "    cleaned_tokens = [re.sub(r'http\\S+', '', token) for token in tokens]\n",
    "    return cleaned_tokens\n",
    "\n",
    "# Function to remove email addresses \n",
    "def remove_mail(tokens):\n",
    "    cleaned_tokens = [re.sub(r'\\S+@\\S+', '', token) for token in tokens]\n",
    "    return cleaned_tokens\n",
    "\n",
    "# Function to remove emojis \n",
    "def remove_emoji(tokens):\n",
    "    cleaned_tokens = [re.sub(r'[\\U0001F600-\\U0001F64F\\U0001F300-\\U0001F5FF\\U0001F680-\\U0001F6FF\\U0001F700-\\U0001F77F\\U0001F780-\\U0001F7FF\\U0001F800-\\U0001F8FF\\U0001F900-\\U0001F9FF\\U0001FA00-\\U0001FA6F\\U0001FA70-\\U0001FAFF\\U0001FB00-\\U0001FBFF\\U0001FE00-\\U0001FE0F\\U0001F004]+', '', token) for token in tokens]\n",
    "    return cleaned_tokens\n",
    "\n",
    "df['statement'] = df['statement'].apply(remove_url)\n",
    "df['statement'] = df['statement'].apply(remove_mail)\n",
    "df['statement'] = df['statement'].apply(remove_emoji)"
   ]
  },
  {
   "cell_type": "code",
   "execution_count": 35,
   "id": "e4e153a8",
   "metadata": {
    "execution": {
     "iopub.execute_input": "2024-12-06T03:57:22.542274Z",
     "iopub.status.busy": "2024-12-06T03:57:22.541678Z",
     "iopub.status.idle": "2024-12-06T03:57:22.553678Z",
     "shell.execute_reply": "2024-12-06T03:57:22.552679Z"
    },
    "papermill": {
     "duration": 0.028206,
     "end_time": "2024-12-06T03:57:22.555349",
     "exception": false,
     "start_time": "2024-12-06T03:57:22.527143",
     "status": "completed"
    },
    "tags": []
   },
   "outputs": [
    {
     "data": {
      "text/html": [
       "<div>\n",
       "<style scoped>\n",
       "    .dataframe tbody tr th:only-of-type {\n",
       "        vertical-align: middle;\n",
       "    }\n",
       "\n",
       "    .dataframe tbody tr th {\n",
       "        vertical-align: top;\n",
       "    }\n",
       "\n",
       "    .dataframe thead th {\n",
       "        text-align: right;\n",
       "    }\n",
       "</style>\n",
       "<table border=\"1\" class=\"dataframe\">\n",
       "  <thead>\n",
       "    <tr style=\"text-align: right;\">\n",
       "      <th></th>\n",
       "      <th>Unnamed: 0</th>\n",
       "      <th>statement</th>\n",
       "      <th>status</th>\n",
       "    </tr>\n",
       "  </thead>\n",
       "  <tbody>\n",
       "    <tr>\n",
       "      <th>0</th>\n",
       "      <td>0</td>\n",
       "      <td>[oh, gosh]</td>\n",
       "      <td>Anxiety</td>\n",
       "    </tr>\n",
       "    <tr>\n",
       "      <th>1</th>\n",
       "      <td>1</td>\n",
       "      <td>[trouble, sleeping, confused, mind, restless, ...</td>\n",
       "      <td>Anxiety</td>\n",
       "    </tr>\n",
       "    <tr>\n",
       "      <th>2</th>\n",
       "      <td>2</td>\n",
       "      <td>[wrong, back, dear, forward, doubt, stay, rest...</td>\n",
       "      <td>Anxiety</td>\n",
       "    </tr>\n",
       "    <tr>\n",
       "      <th>3</th>\n",
       "      <td>3</td>\n",
       "      <td>[shifted, focus, something, else, still, worried]</td>\n",
       "      <td>Anxiety</td>\n",
       "    </tr>\n",
       "    <tr>\n",
       "      <th>4</th>\n",
       "      <td>4</td>\n",
       "      <td>[restless, restless, month, boy, mean]</td>\n",
       "      <td>Anxiety</td>\n",
       "    </tr>\n",
       "    <tr>\n",
       "      <th>5</th>\n",
       "      <td>5</td>\n",
       "      <td>[every, break, must, nervous, like, something,...</td>\n",
       "      <td>Anxiety</td>\n",
       "    </tr>\n",
       "    <tr>\n",
       "      <th>6</th>\n",
       "      <td>6</td>\n",
       "      <td>[feel, scared, anxious, may, family, us, prote...</td>\n",
       "      <td>Anxiety</td>\n",
       "    </tr>\n",
       "    <tr>\n",
       "      <th>7</th>\n",
       "      <td>7</td>\n",
       "      <td>[ever, felt, nervous, know]</td>\n",
       "      <td>Anxiety</td>\n",
       "    </tr>\n",
       "    <tr>\n",
       "      <th>8</th>\n",
       "      <td>8</td>\n",
       "      <td>[slept, well, days, like, restless, huh]</td>\n",
       "      <td>Anxiety</td>\n",
       "    </tr>\n",
       "    <tr>\n",
       "      <th>9</th>\n",
       "      <td>9</td>\n",
       "      <td>[really, worried, want, cry]</td>\n",
       "      <td>Anxiety</td>\n",
       "    </tr>\n",
       "  </tbody>\n",
       "</table>\n",
       "</div>"
      ],
      "text/plain": [
       "   Unnamed: 0                                          statement   status\n",
       "0           0                                         [oh, gosh]  Anxiety\n",
       "1           1  [trouble, sleeping, confused, mind, restless, ...  Anxiety\n",
       "2           2  [wrong, back, dear, forward, doubt, stay, rest...  Anxiety\n",
       "3           3  [shifted, focus, something, else, still, worried]  Anxiety\n",
       "4           4             [restless, restless, month, boy, mean]  Anxiety\n",
       "5           5  [every, break, must, nervous, like, something,...  Anxiety\n",
       "6           6  [feel, scared, anxious, may, family, us, prote...  Anxiety\n",
       "7           7                        [ever, felt, nervous, know]  Anxiety\n",
       "8           8           [slept, well, days, like, restless, huh]  Anxiety\n",
       "9           9                       [really, worried, want, cry]  Anxiety"
      ]
     },
     "execution_count": 35,
     "metadata": {},
     "output_type": "execute_result"
    }
   ],
   "source": [
    "df.head(10)"
   ]
  },
  {
   "cell_type": "markdown",
   "id": "531cf29d",
   "metadata": {
    "papermill": {
     "duration": 0.013487,
     "end_time": "2024-12-06T03:57:22.582455",
     "exception": false,
     "start_time": "2024-12-06T03:57:22.568968",
     "status": "completed"
    },
    "tags": []
   },
   "source": [
    "### Text Lemmatization"
   ]
  },
  {
   "cell_type": "code",
   "execution_count": 36,
   "id": "e8e7f468",
   "metadata": {
    "execution": {
     "iopub.execute_input": "2024-12-06T03:57:22.612840Z",
     "iopub.status.busy": "2024-12-06T03:57:22.612062Z",
     "iopub.status.idle": "2024-12-06T04:04:11.940858Z",
     "shell.execute_reply": "2024-12-06T04:04:11.940016Z"
    },
    "papermill": {
     "duration": 409.346407,
     "end_time": "2024-12-06T04:04:11.943043",
     "exception": false,
     "start_time": "2024-12-06T03:57:22.596636",
     "status": "completed"
    },
    "tags": []
   },
   "outputs": [],
   "source": [
    "# Load the spaCy English model\n",
    "import spacy\n",
    "nlp = spacy.load('en_core_web_sm')\n",
    "\n",
    "def lemmatize_tokens(tokens):\n",
    "    # Join the tokens back into a sentence\n",
    "    text = ' '.join(tokens)\n",
    "    # Process the text using spaCy\n",
    "    doc = nlp(text)\n",
    "    # Lemmatize each token and return the lemmatized tokens\n",
    "    lemmatized_tokens = [token.lemma_ for token in doc]\n",
    "    return lemmatized_tokens\n",
    "\n",
    "# Apply lemmatization \n",
    "df['statement'] = df['statement'].apply(lemmatize_tokens)"
   ]
  },
  {
   "cell_type": "code",
   "execution_count": 37,
   "id": "c7b5b453",
   "metadata": {
    "execution": {
     "iopub.execute_input": "2024-12-06T04:04:11.972793Z",
     "iopub.status.busy": "2024-12-06T04:04:11.972463Z",
     "iopub.status.idle": "2024-12-06T04:04:11.983871Z",
     "shell.execute_reply": "2024-12-06T04:04:11.982970Z"
    },
    "papermill": {
     "duration": 0.027591,
     "end_time": "2024-12-06T04:04:11.985521",
     "exception": false,
     "start_time": "2024-12-06T04:04:11.957930",
     "status": "completed"
    },
    "tags": []
   },
   "outputs": [
    {
     "data": {
      "text/html": [
       "<div>\n",
       "<style scoped>\n",
       "    .dataframe tbody tr th:only-of-type {\n",
       "        vertical-align: middle;\n",
       "    }\n",
       "\n",
       "    .dataframe tbody tr th {\n",
       "        vertical-align: top;\n",
       "    }\n",
       "\n",
       "    .dataframe thead th {\n",
       "        text-align: right;\n",
       "    }\n",
       "</style>\n",
       "<table border=\"1\" class=\"dataframe\">\n",
       "  <thead>\n",
       "    <tr style=\"text-align: right;\">\n",
       "      <th></th>\n",
       "      <th>Unnamed: 0</th>\n",
       "      <th>statement</th>\n",
       "      <th>status</th>\n",
       "    </tr>\n",
       "  </thead>\n",
       "  <tbody>\n",
       "    <tr>\n",
       "      <th>0</th>\n",
       "      <td>0</td>\n",
       "      <td>[oh, gosh]</td>\n",
       "      <td>Anxiety</td>\n",
       "    </tr>\n",
       "    <tr>\n",
       "      <th>1</th>\n",
       "      <td>1</td>\n",
       "      <td>[trouble, sleep, confused, mind, restless, hea...</td>\n",
       "      <td>Anxiety</td>\n",
       "    </tr>\n",
       "    <tr>\n",
       "      <th>2</th>\n",
       "      <td>2</td>\n",
       "      <td>[wrong, back, dear, forward, doubt, stay, rest...</td>\n",
       "      <td>Anxiety</td>\n",
       "    </tr>\n",
       "    <tr>\n",
       "      <th>3</th>\n",
       "      <td>3</td>\n",
       "      <td>[shift, focus, something, else, still, worry]</td>\n",
       "      <td>Anxiety</td>\n",
       "    </tr>\n",
       "    <tr>\n",
       "      <th>4</th>\n",
       "      <td>4</td>\n",
       "      <td>[restless, restless, month, boy, mean]</td>\n",
       "      <td>Anxiety</td>\n",
       "    </tr>\n",
       "    <tr>\n",
       "      <th>5</th>\n",
       "      <td>5</td>\n",
       "      <td>[every, break, must, nervous, like, something,...</td>\n",
       "      <td>Anxiety</td>\n",
       "    </tr>\n",
       "    <tr>\n",
       "      <th>6</th>\n",
       "      <td>6</td>\n",
       "      <td>[feel, scared, anxious, may, family, we, protect]</td>\n",
       "      <td>Anxiety</td>\n",
       "    </tr>\n",
       "    <tr>\n",
       "      <th>7</th>\n",
       "      <td>7</td>\n",
       "      <td>[ever, feel, nervous, know]</td>\n",
       "      <td>Anxiety</td>\n",
       "    </tr>\n",
       "    <tr>\n",
       "      <th>8</th>\n",
       "      <td>8</td>\n",
       "      <td>[sleep, well, day, like, restless, huh]</td>\n",
       "      <td>Anxiety</td>\n",
       "    </tr>\n",
       "    <tr>\n",
       "      <th>9</th>\n",
       "      <td>9</td>\n",
       "      <td>[really, worried, want, cry]</td>\n",
       "      <td>Anxiety</td>\n",
       "    </tr>\n",
       "  </tbody>\n",
       "</table>\n",
       "</div>"
      ],
      "text/plain": [
       "   Unnamed: 0                                          statement   status\n",
       "0           0                                         [oh, gosh]  Anxiety\n",
       "1           1  [trouble, sleep, confused, mind, restless, hea...  Anxiety\n",
       "2           2  [wrong, back, dear, forward, doubt, stay, rest...  Anxiety\n",
       "3           3      [shift, focus, something, else, still, worry]  Anxiety\n",
       "4           4             [restless, restless, month, boy, mean]  Anxiety\n",
       "5           5  [every, break, must, nervous, like, something,...  Anxiety\n",
       "6           6  [feel, scared, anxious, may, family, we, protect]  Anxiety\n",
       "7           7                        [ever, feel, nervous, know]  Anxiety\n",
       "8           8            [sleep, well, day, like, restless, huh]  Anxiety\n",
       "9           9                       [really, worried, want, cry]  Anxiety"
      ]
     },
     "execution_count": 37,
     "metadata": {},
     "output_type": "execute_result"
    }
   ],
   "source": [
    "df.head(10)"
   ]
  },
  {
   "cell_type": "markdown",
   "id": "f89d3a42",
   "metadata": {
    "papermill": {
     "duration": 0.013696,
     "end_time": "2024-12-06T04:04:12.012961",
     "exception": false,
     "start_time": "2024-12-06T04:04:11.999265",
     "status": "completed"
    },
    "tags": []
   },
   "source": [
    "### Remove non-English Words"
   ]
  },
  {
   "cell_type": "markdown",
   "id": "19fd8340",
   "metadata": {
    "papermill": {
     "duration": 0.056201,
     "end_time": "2024-12-06T04:04:12.082915",
     "exception": false,
     "start_time": "2024-12-06T04:04:12.026714",
     "status": "completed"
    },
    "tags": []
   },
   "source": [
    "we keep some of the words that maybe not include in english word of nltk that we think important for the model features"
   ]
  },
  {
   "cell_type": "code",
   "execution_count": 38,
   "id": "6f725103",
   "metadata": {
    "execution": {
     "iopub.execute_input": "2024-12-06T04:04:12.123941Z",
     "iopub.status.busy": "2024-12-06T04:04:12.123326Z",
     "iopub.status.idle": "2024-12-06T04:04:12.703318Z",
     "shell.execute_reply": "2024-12-06T04:04:12.702335Z"
    },
    "papermill": {
     "duration": 0.599715,
     "end_time": "2024-12-06T04:04:12.705576",
     "exception": false,
     "start_time": "2024-12-06T04:04:12.105861",
     "status": "completed"
    },
    "tags": []
   },
   "outputs": [
    {
     "name": "stdout",
     "output_type": "stream",
     "text": [
      "[nltk_data] Downloading package words to /usr/share/nltk_data...\n",
      "[nltk_data]   Package words is already up-to-date!\n"
     ]
    }
   ],
   "source": [
    "from nltk.corpus import words\n",
    "import nltk\n",
    "\n",
    "# Download the list of English words (if not already downloaded)\n",
    "nltk.download('words')\n",
    "\n",
    "# Load the set of English words\n",
    "english_words = set(words.words())\n",
    "\n",
    "# List of words to exclude from removal\n",
    "words_to_exclude =  {\n",
    "    'fuck','suicidal', 'depressed', 'anxiety', 'selfharm', 'overdose', 'hopeless',\n",
    "    'cutting', 'lifeless', 'worthless', 'painful', 'enditall', 'sadness',\n",
    "    'goodbye', 'helpme', 'hurtmyself', 'numb', 'alone', 'darkness', 'dying',\n",
    "    'unloved', 'lost', 'killmyself', 'hanging', 'drugs', 'triggered',\n",
    "    'relapse', 'cut', 'sh', 'kms', 'plshelp', 'wanttodie', 'tiredoflife'\n",
    "}\n",
    "\n",
    "# Function to remove non-English words from a list of tokens\n",
    "def remove_non_english(tokens):\n",
    "    english_tokens = [\n",
    "        token if (token in english_words or token in words_to_exclude) else ''\n",
    "        for token in tokens]\n",
    "    return [token for token in english_tokens if token != '']\n",
    "\n",
    "# Apply the function \n",
    "df['statement'] = df['statement'].apply(remove_non_english)"
   ]
  },
  {
   "cell_type": "code",
   "execution_count": 39,
   "id": "8847a4e4",
   "metadata": {
    "execution": {
     "iopub.execute_input": "2024-12-06T04:04:12.735545Z",
     "iopub.status.busy": "2024-12-06T04:04:12.735238Z",
     "iopub.status.idle": "2024-12-06T04:04:12.746643Z",
     "shell.execute_reply": "2024-12-06T04:04:12.745687Z"
    },
    "papermill": {
     "duration": 0.028245,
     "end_time": "2024-12-06T04:04:12.748479",
     "exception": false,
     "start_time": "2024-12-06T04:04:12.720234",
     "status": "completed"
    },
    "tags": []
   },
   "outputs": [
    {
     "data": {
      "text/html": [
       "<div>\n",
       "<style scoped>\n",
       "    .dataframe tbody tr th:only-of-type {\n",
       "        vertical-align: middle;\n",
       "    }\n",
       "\n",
       "    .dataframe tbody tr th {\n",
       "        vertical-align: top;\n",
       "    }\n",
       "\n",
       "    .dataframe thead th {\n",
       "        text-align: right;\n",
       "    }\n",
       "</style>\n",
       "<table border=\"1\" class=\"dataframe\">\n",
       "  <thead>\n",
       "    <tr style=\"text-align: right;\">\n",
       "      <th></th>\n",
       "      <th>Unnamed: 0</th>\n",
       "      <th>statement</th>\n",
       "      <th>status</th>\n",
       "    </tr>\n",
       "  </thead>\n",
       "  <tbody>\n",
       "    <tr>\n",
       "      <th>0</th>\n",
       "      <td>0</td>\n",
       "      <td>[oh, gosh]</td>\n",
       "      <td>Anxiety</td>\n",
       "    </tr>\n",
       "    <tr>\n",
       "      <th>1</th>\n",
       "      <td>1</td>\n",
       "      <td>[trouble, sleep, confused, mind, restless, hea...</td>\n",
       "      <td>Anxiety</td>\n",
       "    </tr>\n",
       "    <tr>\n",
       "      <th>2</th>\n",
       "      <td>2</td>\n",
       "      <td>[wrong, back, dear, forward, doubt, stay, rest...</td>\n",
       "      <td>Anxiety</td>\n",
       "    </tr>\n",
       "    <tr>\n",
       "      <th>3</th>\n",
       "      <td>3</td>\n",
       "      <td>[shift, focus, something, else, still, worry]</td>\n",
       "      <td>Anxiety</td>\n",
       "    </tr>\n",
       "    <tr>\n",
       "      <th>4</th>\n",
       "      <td>4</td>\n",
       "      <td>[restless, restless, month, boy, mean]</td>\n",
       "      <td>Anxiety</td>\n",
       "    </tr>\n",
       "    <tr>\n",
       "      <th>5</th>\n",
       "      <td>5</td>\n",
       "      <td>[every, break, must, nervous, like, something,...</td>\n",
       "      <td>Anxiety</td>\n",
       "    </tr>\n",
       "    <tr>\n",
       "      <th>6</th>\n",
       "      <td>6</td>\n",
       "      <td>[feel, anxious, may, family, we, protect]</td>\n",
       "      <td>Anxiety</td>\n",
       "    </tr>\n",
       "    <tr>\n",
       "      <th>7</th>\n",
       "      <td>7</td>\n",
       "      <td>[ever, feel, nervous, know]</td>\n",
       "      <td>Anxiety</td>\n",
       "    </tr>\n",
       "    <tr>\n",
       "      <th>8</th>\n",
       "      <td>8</td>\n",
       "      <td>[sleep, well, day, like, restless, huh]</td>\n",
       "      <td>Anxiety</td>\n",
       "    </tr>\n",
       "    <tr>\n",
       "      <th>9</th>\n",
       "      <td>9</td>\n",
       "      <td>[really, worried, want, cry]</td>\n",
       "      <td>Anxiety</td>\n",
       "    </tr>\n",
       "  </tbody>\n",
       "</table>\n",
       "</div>"
      ],
      "text/plain": [
       "   Unnamed: 0                                          statement   status\n",
       "0           0                                         [oh, gosh]  Anxiety\n",
       "1           1  [trouble, sleep, confused, mind, restless, hea...  Anxiety\n",
       "2           2  [wrong, back, dear, forward, doubt, stay, rest...  Anxiety\n",
       "3           3      [shift, focus, something, else, still, worry]  Anxiety\n",
       "4           4             [restless, restless, month, boy, mean]  Anxiety\n",
       "5           5  [every, break, must, nervous, like, something,...  Anxiety\n",
       "6           6          [feel, anxious, may, family, we, protect]  Anxiety\n",
       "7           7                        [ever, feel, nervous, know]  Anxiety\n",
       "8           8            [sleep, well, day, like, restless, huh]  Anxiety\n",
       "9           9                       [really, worried, want, cry]  Anxiety"
      ]
     },
     "execution_count": 39,
     "metadata": {},
     "output_type": "execute_result"
    }
   ],
   "source": [
    "df.head(10)"
   ]
  },
  {
   "cell_type": "markdown",
   "id": "8c8e8e11",
   "metadata": {
    "papermill": {
     "duration": 0.01443,
     "end_time": "2024-12-06T04:04:12.778209",
     "exception": false,
     "start_time": "2024-12-06T04:04:12.763779",
     "status": "completed"
    },
    "tags": []
   },
   "source": [
    "### Convert labels to number"
   ]
  },
  {
   "cell_type": "code",
   "execution_count": 40,
   "id": "75e961a5",
   "metadata": {
    "execution": {
     "iopub.execute_input": "2024-12-06T04:04:12.809408Z",
     "iopub.status.busy": "2024-12-06T04:04:12.809125Z",
     "iopub.status.idle": "2024-12-06T04:04:12.824163Z",
     "shell.execute_reply": "2024-12-06T04:04:12.823277Z"
    },
    "papermill": {
     "duration": 0.032912,
     "end_time": "2024-12-06T04:04:12.825848",
     "exception": false,
     "start_time": "2024-12-06T04:04:12.792936",
     "status": "completed"
    },
    "tags": []
   },
   "outputs": [
    {
     "data": {
      "text/html": [
       "<div>\n",
       "<style scoped>\n",
       "    .dataframe tbody tr th:only-of-type {\n",
       "        vertical-align: middle;\n",
       "    }\n",
       "\n",
       "    .dataframe tbody tr th {\n",
       "        vertical-align: top;\n",
       "    }\n",
       "\n",
       "    .dataframe thead th {\n",
       "        text-align: right;\n",
       "    }\n",
       "</style>\n",
       "<table border=\"1\" class=\"dataframe\">\n",
       "  <thead>\n",
       "    <tr style=\"text-align: right;\">\n",
       "      <th></th>\n",
       "      <th>Unnamed: 0</th>\n",
       "      <th>statement</th>\n",
       "      <th>status</th>\n",
       "    </tr>\n",
       "  </thead>\n",
       "  <tbody>\n",
       "    <tr>\n",
       "      <th>0</th>\n",
       "      <td>0</td>\n",
       "      <td>[oh, gosh]</td>\n",
       "      <td>2</td>\n",
       "    </tr>\n",
       "    <tr>\n",
       "      <th>1</th>\n",
       "      <td>1</td>\n",
       "      <td>[trouble, sleep, confused, mind, restless, hea...</td>\n",
       "      <td>2</td>\n",
       "    </tr>\n",
       "    <tr>\n",
       "      <th>2</th>\n",
       "      <td>2</td>\n",
       "      <td>[wrong, back, dear, forward, doubt, stay, rest...</td>\n",
       "      <td>2</td>\n",
       "    </tr>\n",
       "    <tr>\n",
       "      <th>3</th>\n",
       "      <td>3</td>\n",
       "      <td>[shift, focus, something, else, still, worry]</td>\n",
       "      <td>2</td>\n",
       "    </tr>\n",
       "    <tr>\n",
       "      <th>4</th>\n",
       "      <td>4</td>\n",
       "      <td>[restless, restless, month, boy, mean]</td>\n",
       "      <td>2</td>\n",
       "    </tr>\n",
       "  </tbody>\n",
       "</table>\n",
       "</div>"
      ],
      "text/plain": [
       "   Unnamed: 0                                          statement  status\n",
       "0           0                                         [oh, gosh]       2\n",
       "1           1  [trouble, sleep, confused, mind, restless, hea...       2\n",
       "2           2  [wrong, back, dear, forward, doubt, stay, rest...       2\n",
       "3           3      [shift, focus, something, else, still, worry]       2\n",
       "4           4             [restless, restless, month, boy, mean]       2"
      ]
     },
     "execution_count": 40,
     "metadata": {},
     "output_type": "execute_result"
    }
   ],
   "source": [
    "#Converting Labels into numbers\n",
    "\n",
    "label_ordered = df['status'].value_counts().index\n",
    "\n",
    "label_ordered = {k:i for i,k in enumerate(label_ordered,0)}\n",
    "\n",
    "df['status'] = df['status'].map(label_ordered)\n",
    "df.head()"
   ]
  },
  {
   "cell_type": "code",
   "execution_count": 41,
   "id": "dc309aca",
   "metadata": {
    "execution": {
     "iopub.execute_input": "2024-12-06T04:04:12.856221Z",
     "iopub.status.busy": "2024-12-06T04:04:12.855949Z",
     "iopub.status.idle": "2024-12-06T04:04:13.524431Z",
     "shell.execute_reply": "2024-12-06T04:04:13.523648Z"
    },
    "papermill": {
     "duration": 0.686007,
     "end_time": "2024-12-06T04:04:13.526698",
     "exception": false,
     "start_time": "2024-12-06T04:04:12.840691",
     "status": "completed"
    },
    "tags": []
   },
   "outputs": [],
   "source": [
    "df.to_csv('data_model2.csv', index=False)"
   ]
  },
  {
   "cell_type": "markdown",
   "id": "eed7cced",
   "metadata": {
    "papermill": {
     "duration": 0.014852,
     "end_time": "2024-12-06T04:04:13.557006",
     "exception": false,
     "start_time": "2024-12-06T04:04:13.542154",
     "status": "completed"
    },
    "tags": []
   },
   "source": [
    "### Resampling for more balance data"
   ]
  },
  {
   "cell_type": "code",
   "execution_count": 42,
   "id": "3ba741af",
   "metadata": {
    "execution": {
     "iopub.execute_input": "2024-12-06T04:04:13.587488Z",
     "iopub.status.busy": "2024-12-06T04:04:13.587205Z",
     "iopub.status.idle": "2024-12-06T04:04:13.590854Z",
     "shell.execute_reply": "2024-12-06T04:04:13.589999Z"
    },
    "papermill": {
     "duration": 0.020809,
     "end_time": "2024-12-06T04:04:13.592556",
     "exception": false,
     "start_time": "2024-12-06T04:04:13.571747",
     "status": "completed"
    },
    "tags": []
   },
   "outputs": [],
   "source": [
    "# from sklearn.utils import resample\n",
    "# df_sample = df.sample(n=20000,random_state=2024)\n",
    "# majority_size = len(df_sample[df_sample['status']==0])\n",
    "\n",
    "# def resampling(df):\n",
    "#   minority_resample = resample(df,replace=True, n_samples=majority_size,random_state=22)\n",
    "#   return minority_resample"
   ]
  },
  {
   "cell_type": "code",
   "execution_count": 43,
   "id": "4a1bc9b7",
   "metadata": {
    "execution": {
     "iopub.execute_input": "2024-12-06T04:04:13.623799Z",
     "iopub.status.busy": "2024-12-06T04:04:13.623509Z",
     "iopub.status.idle": "2024-12-06T04:04:13.627319Z",
     "shell.execute_reply": "2024-12-06T04:04:13.626472Z"
    },
    "papermill": {
     "duration": 0.02121,
     "end_time": "2024-12-06T04:04:13.628983",
     "exception": false,
     "start_time": "2024-12-06T04:04:13.607773",
     "status": "completed"
    },
    "tags": []
   },
   "outputs": [],
   "source": [
    "# df_sample_1 = resampling(df_sample[df_sample['status']==1])\n",
    "# df_sample_2 = resampling(df_sample[df_sample['status']==2])\n",
    "# df_sample_3 = resampling(df_sample[df_sample['status']==3])\n",
    "# df_sample_4 = resampling(df_sample[df_sample['status']==4])\n",
    "# df_sample_5 = resampling(df_sample[df_sample['status']==5])\n",
    "\n",
    "# df_new =pd.concat([df_sample[df_sample['status']==0],df_sample_1,df_sample_2,df_sample_3,df_sample_4,df_sample_5], axis=0).reset_index(drop=True)\n",
    "# df_new['status'].value_counts()"
   ]
  },
  {
   "cell_type": "markdown",
   "id": "ad6ca096",
   "metadata": {
    "papermill": {
     "duration": 0.014455,
     "end_time": "2024-12-06T04:04:13.658104",
     "exception": false,
     "start_time": "2024-12-06T04:04:13.643649",
     "status": "completed"
    },
    "tags": []
   },
   "source": [
    "## Modelling"
   ]
  },
  {
   "cell_type": "code",
   "execution_count": 44,
   "id": "f8ba884a",
   "metadata": {
    "execution": {
     "iopub.execute_input": "2024-12-06T04:04:13.688783Z",
     "iopub.status.busy": "2024-12-06T04:04:13.688440Z",
     "iopub.status.idle": "2024-12-06T04:04:13.692341Z",
     "shell.execute_reply": "2024-12-06T04:04:13.691651Z"
    },
    "papermill": {
     "duration": 0.021096,
     "end_time": "2024-12-06T04:04:13.693986",
     "exception": false,
     "start_time": "2024-12-06T04:04:13.672890",
     "status": "completed"
    },
    "tags": []
   },
   "outputs": [],
   "source": [
    "# pip install gensim --no-deps\n"
   ]
  },
  {
   "cell_type": "code",
   "execution_count": 45,
   "id": "98952cae",
   "metadata": {
    "execution": {
     "iopub.execute_input": "2024-12-06T04:04:13.724063Z",
     "iopub.status.busy": "2024-12-06T04:04:13.723833Z",
     "iopub.status.idle": "2024-12-06T04:04:13.727355Z",
     "shell.execute_reply": "2024-12-06T04:04:13.726662Z"
    },
    "papermill": {
     "duration": 0.020422,
     "end_time": "2024-12-06T04:04:13.728933",
     "exception": false,
     "start_time": "2024-12-06T04:04:13.708511",
     "status": "completed"
    },
    "tags": []
   },
   "outputs": [],
   "source": [
    "# from tensorflow.keras.preprocessing.text import Tokenizer\n",
    "# from tensorflow.keras.preprocessing.sequence import pad_sequences\n",
    "# import gensim.downloader as api\n",
    "# import numpy as np\n",
    "# from sklearn.model_selection import train_test_split\n",
    "# from keras.models import Sequential\n",
    "# from keras.layers import Embedding, Dropout, Dense\n",
    "# from keras.layers import GRU\n",
    "# from keras.callbacks import EarlyStopping, ModelCheckpoint\n",
    "\n"
   ]
  },
  {
   "cell_type": "markdown",
   "id": "663694c4",
   "metadata": {
    "papermill": {
     "duration": 0.014448,
     "end_time": "2024-12-06T04:04:13.758470",
     "exception": false,
     "start_time": "2024-12-06T04:04:13.744022",
     "status": "completed"
    },
    "tags": []
   },
   "source": [
    "### Tokenization with keras"
   ]
  },
  {
   "cell_type": "code",
   "execution_count": 46,
   "id": "c2e61a91",
   "metadata": {
    "execution": {
     "iopub.execute_input": "2024-12-06T04:04:13.789777Z",
     "iopub.status.busy": "2024-12-06T04:04:13.789124Z",
     "iopub.status.idle": "2024-12-06T04:04:13.793031Z",
     "shell.execute_reply": "2024-12-06T04:04:13.792309Z"
    },
    "papermill": {
     "duration": 0.021077,
     "end_time": "2024-12-06T04:04:13.794531",
     "exception": false,
     "start_time": "2024-12-06T04:04:13.773454",
     "status": "completed"
    },
    "tags": []
   },
   "outputs": [],
   "source": [
    "# # Configuration\n",
    "# EMBEDDING_DIM = 100  # Dimension of word embeddings\n",
    "# MAX_NUM_WORDS = 10000  # Maximum number of unique words\n",
    "# MAX_SEQUENCE_LENGTH = 200  # Fixed sequence length for all input data\n",
    "\n",
    "# # Combine tokens back into a string to process with the Tokenizer\n",
    "# df['statement'] = df['statement'].apply(lambda tokens: \" \".join(tokens))\n",
    "\n",
    "# # Tokenizer: Train and convert text to sequences\n",
    "# tokenizer = Tokenizer(num_words=MAX_NUM_WORDS, lower=True)  # Limit vocabulary size and convert to lowercase\n",
    "# tokenizer.fit_on_texts(df['statement'])  # Learn the vocabulary from the text data\n",
    "# X = tokenizer.texts_to_sequences(df['statement'])  # Convert text to numerical sequences\n",
    "\n",
    "# # Pad sequences to ensure uniform length\n",
    "# X = pad_sequences(X, maxlen=MAX_SEQUENCE_LENGTH, padding='post')  # Add padding at the end of sequences\n"
   ]
  },
  {
   "cell_type": "code",
   "execution_count": 47,
   "id": "1e253172",
   "metadata": {
    "execution": {
     "iopub.execute_input": "2024-12-06T04:04:13.825220Z",
     "iopub.status.busy": "2024-12-06T04:04:13.824972Z",
     "iopub.status.idle": "2024-12-06T04:04:13.828391Z",
     "shell.execute_reply": "2024-12-06T04:04:13.827673Z"
    },
    "papermill": {
     "duration": 0.020403,
     "end_time": "2024-12-06T04:04:13.830111",
     "exception": false,
     "start_time": "2024-12-06T04:04:13.809708",
     "status": "completed"
    },
    "tags": []
   },
   "outputs": [],
   "source": [
    "# df.head(20)"
   ]
  },
  {
   "cell_type": "markdown",
   "id": "0bbda63a",
   "metadata": {
    "papermill": {
     "duration": 0.014818,
     "end_time": "2024-12-06T04:04:13.859957",
     "exception": false,
     "start_time": "2024-12-06T04:04:13.845139",
     "status": "completed"
    },
    "tags": []
   },
   "source": [
    "### Convert label to one-hot encoding"
   ]
  },
  {
   "cell_type": "code",
   "execution_count": 48,
   "id": "57d63673",
   "metadata": {
    "execution": {
     "iopub.execute_input": "2024-12-06T04:04:13.891532Z",
     "iopub.status.busy": "2024-12-06T04:04:13.891269Z",
     "iopub.status.idle": "2024-12-06T04:04:13.894715Z",
     "shell.execute_reply": "2024-12-06T04:04:13.893975Z"
    },
    "papermill": {
     "duration": 0.020985,
     "end_time": "2024-12-06T04:04:13.896336",
     "exception": false,
     "start_time": "2024-12-06T04:04:13.875351",
     "status": "completed"
    },
    "tags": []
   },
   "outputs": [],
   "source": [
    "# # Convert labels to one-hot encoding\n",
    "# y = pd.get_dummies(df['status']).values  # Transform class labels into a binary matrix\n",
    "\n",
    "# # Split data into training and testing sets\n",
    "# X_train, X_test, y_train, y_test = train_test_split(X, y, test_size=0.3, random_state=42)\n",
    "# # `test_size=0.3` allocates 30% of the data for testing, 70% for training\n",
    "# # `random_state=42` ensures reproducibility of the split\n",
    "\n"
   ]
  },
  {
   "cell_type": "markdown",
   "id": "8f2372fc",
   "metadata": {
    "papermill": {
     "duration": 0.014872,
     "end_time": "2024-12-06T04:04:13.925983",
     "exception": false,
     "start_time": "2024-12-06T04:04:13.911111",
     "status": "completed"
    },
    "tags": []
   },
   "source": [
    "### Word Embedding"
   ]
  },
  {
   "cell_type": "code",
   "execution_count": 49,
   "id": "7481cba3",
   "metadata": {
    "execution": {
     "iopub.execute_input": "2024-12-06T04:04:13.956827Z",
     "iopub.status.busy": "2024-12-06T04:04:13.956504Z",
     "iopub.status.idle": "2024-12-06T04:04:13.960207Z",
     "shell.execute_reply": "2024-12-06T04:04:13.959462Z"
    },
    "papermill": {
     "duration": 0.020748,
     "end_time": "2024-12-06T04:04:13.961741",
     "exception": false,
     "start_time": "2024-12-06T04:04:13.940993",
     "status": "completed"
    },
    "tags": []
   },
   "outputs": [],
   "source": [
    "# # Download and load pre-trained GloVe embeddings (100 dimensions)\n",
    "# glove_gensim = api.load('glove-wiki-gigaword-100')\n",
    "\n",
    "# # Create a weight matrix for the embedding layer\n",
    "# gensim_weight_matrix = np.zeros((MAX_NUM_WORDS, EMBEDDING_DIM))  # Initialize with zeros\n",
    "\n",
    "# # Populate the weight matrix with GloVe vectors for words in the tokenizer's vocabulary\n",
    "# for word, index in tokenizer.word_index.items():\n",
    "#     if index < MAX_NUM_WORDS:  # Ensure the index is within the specified maximum word limit\n",
    "#         if word in glove_gensim.index_to_key:  # Check if the word exists in the GloVe vocabulary\n",
    "#             gensim_weight_matrix[index] = glove_gensim[word]  # Assign the GloVe vector\n",
    "#         else:\n",
    "#             gensim_weight_matrix[index] = np.zeros(EMBEDDING_DIM)  # Assign a zero vector if the word is not found\n"
   ]
  },
  {
   "cell_type": "markdown",
   "id": "c8ab1c51",
   "metadata": {
    "papermill": {
     "duration": 0.014407,
     "end_time": "2024-12-06T04:04:13.990730",
     "exception": false,
     "start_time": "2024-12-06T04:04:13.976323",
     "status": "completed"
    },
    "tags": []
   },
   "source": [
    "### Build the Model"
   ]
  },
  {
   "cell_type": "code",
   "execution_count": 50,
   "id": "df9b3d9f",
   "metadata": {
    "execution": {
     "iopub.execute_input": "2024-12-06T04:04:14.021026Z",
     "iopub.status.busy": "2024-12-06T04:04:14.020776Z",
     "iopub.status.idle": "2024-12-06T04:04:14.024892Z",
     "shell.execute_reply": "2024-12-06T04:04:14.024219Z"
    },
    "papermill": {
     "duration": 0.021374,
     "end_time": "2024-12-06T04:04:14.026585",
     "exception": false,
     "start_time": "2024-12-06T04:04:14.005211",
     "status": "completed"
    },
    "tags": []
   },
   "outputs": [],
   "source": [
    "# from tensorflow.keras.models import Sequential\n",
    "# from tensorflow.keras.layers import Embedding, GRU, Dense, Dropout, Input\n",
    "\n",
    "# # Build the model\n",
    "# model = Sequential()\n",
    "\n",
    "# # Add Input layer\n",
    "# model.add(Input(shape=(X.shape[1],)))  # Sequence length: 200\n",
    "\n",
    "# # Embedding Layer\n",
    "# model.add(Embedding(input_dim=MAX_NUM_WORDS,       # Number of words in the tokenizer\n",
    "#                     output_dim=EMBEDDING_DIM,     # Embedding dimensions (e.g., 100)\n",
    "#                     weights=[gensim_weight_matrix],  # Pre-trained GloVe embedding matrix\n",
    "#                     trainable=True))             # Fine-tuning allowed (weights can be updated)\n",
    "\n",
    "# # GRU Layer 1\n",
    "# model.add(GRU(100, return_sequences=True))  # First GRU layer with 100 units, returning sequences for further layers\n",
    "# model.add(Dropout(0.2))  # Dropout to prevent overfitting\n",
    "\n",
    "# # GRU Layer 2\n",
    "# model.add(GRU(100, return_sequences=True)) \n",
    "# model.add(Dropout(0.2))  \n",
    "\n",
    "# # GRU Layer 3 (Adding one more GRU layer)\n",
    "# model.add(GRU(100, return_sequences=True))  \n",
    "# model.add(Dropout(0.2))  \n",
    "\n",
    "# # GRU Layer 4 (Adding one more GRU layer)\n",
    "# model.add(GRU(100, return_sequences=False))  # Fourth GRU layer, not returning sequences (final output)\n",
    "# model.add(Dropout(0.2))  #\n",
    "\n",
    "# # Fully Connected Output Layer\n",
    "# model.add(Dense(64, activation='relu'))  #\n",
    "# model.add(Dropout(0.2))  # Dropout to pre\n",
    "\n",
    "# # Output Layer\n",
    "# model.add(Dense(y.shape[1], activation='softmax'))  # Output layer with softmax activation for multi-class \n",
    "\n",
    "\n",
    "# # Compile the model\n",
    "# model.compile(loss='categorical_crossentropy', optimizer='adam', metrics=['accuracy'])\n",
    "\n",
    "# # Display model summary\n",
    "# model.summary()\n"
   ]
  },
  {
   "cell_type": "code",
   "execution_count": 51,
   "id": "774a9fa8",
   "metadata": {
    "execution": {
     "iopub.execute_input": "2024-12-06T04:04:14.057665Z",
     "iopub.status.busy": "2024-12-06T04:04:14.056977Z",
     "iopub.status.idle": "2024-12-06T04:04:14.060385Z",
     "shell.execute_reply": "2024-12-06T04:04:14.059674Z"
    },
    "papermill": {
     "duration": 0.02068,
     "end_time": "2024-12-06T04:04:14.061988",
     "exception": false,
     "start_time": "2024-12-06T04:04:14.041308",
     "status": "completed"
    },
    "tags": []
   },
   "outputs": [],
   "source": [
    "# es = EarlyStopping(monitor='val_loss', mode='min', verbose=1, patience=5)  # Stop training if validation loss doesn't improve for 5 epochs\n",
    "# mc = ModelCheckpoint('./best_model.keras', monitor='val_accuracy', mode='max', \n",
    "#                      verbose=1, save_best_only=True)  # Save the model with the best validation accuracy"
   ]
  },
  {
   "cell_type": "markdown",
   "id": "da3f9116",
   "metadata": {
    "papermill": {
     "duration": 0.015021,
     "end_time": "2024-12-06T04:04:14.092038",
     "exception": false,
     "start_time": "2024-12-06T04:04:14.077017",
     "status": "completed"
    },
    "tags": []
   },
   "source": [
    "### Train the Model"
   ]
  },
  {
   "cell_type": "code",
   "execution_count": 52,
   "id": "14d08f7c",
   "metadata": {
    "execution": {
     "iopub.execute_input": "2024-12-06T04:04:14.122746Z",
     "iopub.status.busy": "2024-12-06T04:04:14.122427Z",
     "iopub.status.idle": "2024-12-06T04:04:14.126144Z",
     "shell.execute_reply": "2024-12-06T04:04:14.125244Z"
    },
    "papermill": {
     "duration": 0.020944,
     "end_time": "2024-12-06T04:04:14.127856",
     "exception": false,
     "start_time": "2024-12-06T04:04:14.106912",
     "status": "completed"
    },
    "tags": []
   },
   "outputs": [],
   "source": [
    "# # Melatih model\n",
    "# history = model.fit(X_train, y_train,\n",
    "#                     validation_split=0.2,\n",
    "#                     epochs=20,\n",
    "#                     batch_size=128,\n",
    "#                     callbacks=[es, mc],\n",
    "#                     verbose=1)\n",
    "\n",
    "# # Evaluasi model\n",
    "# loss, accuracy = model.evaluate(X_test, y_test, verbose=1)\n",
    "# print(f\"Test Loss: {loss}\")\n",
    "# print(f\"Test Accuracy: {accuracy}\")"
   ]
  },
  {
   "cell_type": "markdown",
   "id": "ec376653",
   "metadata": {
    "papermill": {
     "duration": 0.014981,
     "end_time": "2024-12-06T04:04:14.157634",
     "exception": false,
     "start_time": "2024-12-06T04:04:14.142653",
     "status": "completed"
    },
    "tags": []
   },
   "source": [
    "### Model Evaluation"
   ]
  },
  {
   "cell_type": "code",
   "execution_count": null,
   "id": "fcbc3b35",
   "metadata": {
    "papermill": {
     "duration": 0.014533,
     "end_time": "2024-12-06T04:04:14.187108",
     "exception": false,
     "start_time": "2024-12-06T04:04:14.172575",
     "status": "completed"
    },
    "tags": []
   },
   "outputs": [],
   "source": []
  },
  {
   "cell_type": "code",
   "execution_count": null,
   "id": "1167cc11",
   "metadata": {
    "papermill": {
     "duration": 0.01439,
     "end_time": "2024-12-06T04:04:14.216165",
     "exception": false,
     "start_time": "2024-12-06T04:04:14.201775",
     "status": "completed"
    },
    "tags": []
   },
   "outputs": [],
   "source": []
  }
 ],
 "metadata": {
  "kaggle": {
   "accelerator": "nvidiaTeslaT4",
   "dataSources": [
    {
     "datasetId": 5338273,
     "sourceId": 8870083,
     "sourceType": "datasetVersion"
    }
   ],
   "dockerImageVersionId": 30787,
   "isGpuEnabled": true,
   "isInternetEnabled": true,
   "language": "python",
   "sourceType": "notebook"
  },
  "kernelspec": {
   "display_name": "Python 3",
   "language": "python",
   "name": "python3"
  },
  "language_info": {
   "codemirror_mode": {
    "name": "ipython",
    "version": 3
   },
   "file_extension": ".py",
   "mimetype": "text/x-python",
   "name": "python",
   "nbconvert_exporter": "python",
   "pygments_lexer": "ipython3",
   "version": "3.10.14"
  },
  "papermill": {
   "default_parameters": {},
   "duration": 541.977495,
   "end_time": "2024-12-06T04:04:17.811311",
   "environment_variables": {},
   "exception": null,
   "input_path": "__notebook__.ipynb",
   "output_path": "__notebook__.ipynb",
   "parameters": {},
   "start_time": "2024-12-06T03:55:15.833816",
   "version": "2.6.0"
  }
 },
 "nbformat": 4,
 "nbformat_minor": 5
}
