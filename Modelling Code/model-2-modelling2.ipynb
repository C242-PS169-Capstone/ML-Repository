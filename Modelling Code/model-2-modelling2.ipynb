{
 "cells": [
  {
   "cell_type": "markdown",
   "id": "81c8ad4f",
   "metadata": {
    "papermill": {
     "duration": 0.005183,
     "end_time": "2024-12-06T06:20:07.281599",
     "exception": false,
     "start_time": "2024-12-06T06:20:07.276416",
     "status": "completed"
    },
    "tags": []
   },
   "source": [
    "### Read Data"
   ]
  },
  {
   "cell_type": "code",
   "execution_count": 1,
   "id": "59478294",
   "metadata": {
    "execution": {
     "iopub.execute_input": "2024-12-06T06:20:07.292938Z",
     "iopub.status.busy": "2024-12-06T06:20:07.292520Z",
     "iopub.status.idle": "2024-12-06T06:20:37.151856Z",
     "shell.execute_reply": "2024-12-06T06:20:37.151062Z"
    },
    "papermill": {
     "duration": 29.867712,
     "end_time": "2024-12-06T06:20:37.154074",
     "exception": false,
     "start_time": "2024-12-06T06:20:07.286362",
     "status": "completed"
    },
    "tags": []
   },
   "outputs": [],
   "source": [
    "# Import Libraries\n",
    "import pandas as pd\n",
    "import ast\n",
    "from sklearn.preprocessing import LabelEncoder\n",
    "from transformers import BertTokenizer, TFBertModel\n",
    "from sklearn.model_selection import train_test_split\n",
    "from tensorflow.keras.models import Model\n",
    "from tensorflow.keras.layers import Input, GRU, Dense, Dropout, BatchNormalization\n",
    "from tensorflow.keras.callbacks import EarlyStopping, ModelCheckpoint\n",
    "import tensorflow as tf"
   ]
  },
  {
   "cell_type": "code",
   "execution_count": 2,
   "id": "3585e0be",
   "metadata": {
    "execution": {
     "iopub.execute_input": "2024-12-06T06:20:37.165345Z",
     "iopub.status.busy": "2024-12-06T06:20:37.164847Z",
     "iopub.status.idle": "2024-12-06T06:20:37.526986Z",
     "shell.execute_reply": "2024-12-06T06:20:37.526295Z"
    },
    "papermill": {
     "duration": 0.37033,
     "end_time": "2024-12-06T06:20:37.529047",
     "exception": false,
     "start_time": "2024-12-06T06:20:37.158717",
     "status": "completed"
    },
    "tags": []
   },
   "outputs": [],
   "source": [
    "\n",
    "\n",
    "# Read data from CSV\n",
    "file_path = '/kaggle/input/data-model2/data_model2.csv'\n",
    "df = pd.read_csv(file_path)"
   ]
  },
  {
   "cell_type": "code",
   "execution_count": 3,
   "id": "2b3518a2",
   "metadata": {
    "execution": {
     "iopub.execute_input": "2024-12-06T06:20:37.546381Z",
     "iopub.status.busy": "2024-12-06T06:20:37.546071Z",
     "iopub.status.idle": "2024-12-06T06:20:40.701299Z",
     "shell.execute_reply": "2024-12-06T06:20:40.700602Z"
    },
    "papermill": {
     "duration": 3.16313,
     "end_time": "2024-12-06T06:20:40.703424",
     "exception": false,
     "start_time": "2024-12-06T06:20:37.540294",
     "status": "completed"
    },
    "tags": []
   },
   "outputs": [],
   "source": [
    "# Convert string literals to Python lists\n",
    "df['statement'] = df['statement'].apply(lambda x: ast.literal_eval(x) if isinstance(x, str) else x)\n",
    "\n",
    "# Join lists into sentences\n",
    "df['statement'] = df['statement'].apply(lambda x: ' '.join(x) if isinstance(x, list) else x)\n"
   ]
  },
  {
   "cell_type": "code",
   "execution_count": 4,
   "id": "77b6d1cf",
   "metadata": {
    "execution": {
     "iopub.execute_input": "2024-12-06T06:20:40.713863Z",
     "iopub.status.busy": "2024-12-06T06:20:40.713383Z",
     "iopub.status.idle": "2024-12-06T06:20:40.727927Z",
     "shell.execute_reply": "2024-12-06T06:20:40.727156Z"
    },
    "papermill": {
     "duration": 0.021298,
     "end_time": "2024-12-06T06:20:40.729496",
     "exception": false,
     "start_time": "2024-12-06T06:20:40.708198",
     "status": "completed"
    },
    "tags": []
   },
   "outputs": [
    {
     "data": {
      "text/html": [
       "<div>\n",
       "<style scoped>\n",
       "    .dataframe tbody tr th:only-of-type {\n",
       "        vertical-align: middle;\n",
       "    }\n",
       "\n",
       "    .dataframe tbody tr th {\n",
       "        vertical-align: top;\n",
       "    }\n",
       "\n",
       "    .dataframe thead th {\n",
       "        text-align: right;\n",
       "    }\n",
       "</style>\n",
       "<table border=\"1\" class=\"dataframe\">\n",
       "  <thead>\n",
       "    <tr style=\"text-align: right;\">\n",
       "      <th></th>\n",
       "      <th>Unnamed: 0</th>\n",
       "      <th>statement</th>\n",
       "      <th>status</th>\n",
       "    </tr>\n",
       "  </thead>\n",
       "  <tbody>\n",
       "    <tr>\n",
       "      <th>0</th>\n",
       "      <td>0</td>\n",
       "      <td>oh gosh</td>\n",
       "      <td>2</td>\n",
       "    </tr>\n",
       "    <tr>\n",
       "      <th>1</th>\n",
       "      <td>1</td>\n",
       "      <td>trouble sleep confused mind restless heart tune</td>\n",
       "      <td>2</td>\n",
       "    </tr>\n",
       "    <tr>\n",
       "      <th>2</th>\n",
       "      <td>2</td>\n",
       "      <td>wrong back dear forward doubt stay restless re...</td>\n",
       "      <td>2</td>\n",
       "    </tr>\n",
       "    <tr>\n",
       "      <th>3</th>\n",
       "      <td>3</td>\n",
       "      <td>shift focus something else still worry</td>\n",
       "      <td>2</td>\n",
       "    </tr>\n",
       "    <tr>\n",
       "      <th>4</th>\n",
       "      <td>4</td>\n",
       "      <td>restless restless month boy mean</td>\n",
       "      <td>2</td>\n",
       "    </tr>\n",
       "  </tbody>\n",
       "</table>\n",
       "</div>"
      ],
      "text/plain": [
       "   Unnamed: 0                                          statement  status\n",
       "0           0                                            oh gosh       2\n",
       "1           1    trouble sleep confused mind restless heart tune       2\n",
       "2           2  wrong back dear forward doubt stay restless re...       2\n",
       "3           3             shift focus something else still worry       2\n",
       "4           4                   restless restless month boy mean       2"
      ]
     },
     "execution_count": 4,
     "metadata": {},
     "output_type": "execute_result"
    }
   ],
   "source": [
    "df.head()"
   ]
  },
  {
   "cell_type": "markdown",
   "id": "2c28442a",
   "metadata": {
    "papermill": {
     "duration": 0.004289,
     "end_time": "2024-12-06T06:20:40.738252",
     "exception": false,
     "start_time": "2024-12-06T06:20:40.733963",
     "status": "completed"
    },
    "tags": []
   },
   "source": [
    "### Resampling for more balance data"
   ]
  },
  {
   "cell_type": "code",
   "execution_count": 5,
   "id": "93f27658",
   "metadata": {
    "execution": {
     "iopub.execute_input": "2024-12-06T06:20:40.747914Z",
     "iopub.status.busy": "2024-12-06T06:20:40.747679Z",
     "iopub.status.idle": "2024-12-06T06:20:40.766366Z",
     "shell.execute_reply": "2024-12-06T06:20:40.765496Z"
    },
    "papermill": {
     "duration": 0.025331,
     "end_time": "2024-12-06T06:20:40.767890",
     "exception": false,
     "start_time": "2024-12-06T06:20:40.742559",
     "status": "completed"
    },
    "tags": []
   },
   "outputs": [],
   "source": [
    "from sklearn.utils import resample\n",
    "df_sample = df.sample(n=20000,random_state=2024)\n",
    "majority_size = len(df_sample[df_sample['status']==0])\n",
    "\n",
    "def resampling(df):\n",
    "  minority_resample = resample(df,replace=True, n_samples=majority_size,random_state=22)\n",
    "  return minority_resample"
   ]
  },
  {
   "cell_type": "code",
   "execution_count": 6,
   "id": "3e9f4ce1",
   "metadata": {
    "execution": {
     "iopub.execute_input": "2024-12-06T06:20:40.778266Z",
     "iopub.status.busy": "2024-12-06T06:20:40.777520Z",
     "iopub.status.idle": "2024-12-06T06:20:40.806841Z",
     "shell.execute_reply": "2024-12-06T06:20:40.806013Z"
    },
    "papermill": {
     "duration": 0.036149,
     "end_time": "2024-12-06T06:20:40.808446",
     "exception": false,
     "start_time": "2024-12-06T06:20:40.772297",
     "status": "completed"
    },
    "tags": []
   },
   "outputs": [
    {
     "data": {
      "text/plain": [
       "status\n",
       "0    7710\n",
       "1    7710\n",
       "2    7710\n",
       "3    7710\n",
       "4    7710\n",
       "5    7710\n",
       "Name: count, dtype: int64"
      ]
     },
     "execution_count": 6,
     "metadata": {},
     "output_type": "execute_result"
    }
   ],
   "source": [
    "df_sample_1 = resampling(df_sample[df_sample['status']==1])\n",
    "df_sample_2 = resampling(df_sample[df_sample['status']==2])\n",
    "df_sample_3 = resampling(df_sample[df_sample['status']==3])\n",
    "df_sample_4 = resampling(df_sample[df_sample['status']==4])\n",
    "df_sample_5 = resampling(df_sample[df_sample['status']==5])\n",
    "\n",
    "df_new =pd.concat([df_sample[df_sample['status']==0],df_sample_1,df_sample_2,df_sample_3,df_sample_4,df_sample_5], axis=0).reset_index(drop=True)\n",
    "df_new['status'].value_counts()"
   ]
  },
  {
   "cell_type": "code",
   "execution_count": 7,
   "id": "5dc2110b",
   "metadata": {
    "execution": {
     "iopub.execute_input": "2024-12-06T06:20:40.818862Z",
     "iopub.status.busy": "2024-12-06T06:20:40.818373Z",
     "iopub.status.idle": "2024-12-06T06:20:40.826410Z",
     "shell.execute_reply": "2024-12-06T06:20:40.825714Z"
    },
    "papermill": {
     "duration": 0.014934,
     "end_time": "2024-12-06T06:20:40.827948",
     "exception": false,
     "start_time": "2024-12-06T06:20:40.813014",
     "status": "completed"
    },
    "tags": []
   },
   "outputs": [
    {
     "data": {
      "text/html": [
       "<div>\n",
       "<style scoped>\n",
       "    .dataframe tbody tr th:only-of-type {\n",
       "        vertical-align: middle;\n",
       "    }\n",
       "\n",
       "    .dataframe tbody tr th {\n",
       "        vertical-align: top;\n",
       "    }\n",
       "\n",
       "    .dataframe thead th {\n",
       "        text-align: right;\n",
       "    }\n",
       "</style>\n",
       "<table border=\"1\" class=\"dataframe\">\n",
       "  <thead>\n",
       "    <tr style=\"text-align: right;\">\n",
       "      <th></th>\n",
       "      <th>Unnamed: 0</th>\n",
       "      <th>statement</th>\n",
       "      <th>status</th>\n",
       "    </tr>\n",
       "  </thead>\n",
       "  <tbody>\n",
       "    <tr>\n",
       "      <th>0</th>\n",
       "      <td>42422</td>\n",
       "      <td>real n twitter hate u</td>\n",
       "      <td>0</td>\n",
       "    </tr>\n",
       "    <tr>\n",
       "      <th>1</th>\n",
       "      <td>4204</td>\n",
       "      <td>two</td>\n",
       "      <td>0</td>\n",
       "    </tr>\n",
       "    <tr>\n",
       "      <th>2</th>\n",
       "      <td>2180</td>\n",
       "      <td>love matter far near determine mine love death...</td>\n",
       "      <td>0</td>\n",
       "    </tr>\n",
       "    <tr>\n",
       "      <th>3</th>\n",
       "      <td>6269</td>\n",
       "      <td>father s obligation feed clothe mother good way</td>\n",
       "      <td>0</td>\n",
       "    </tr>\n",
       "    <tr>\n",
       "      <th>4</th>\n",
       "      <td>5093</td>\n",
       "      <td>mutual let we</td>\n",
       "      <td>0</td>\n",
       "    </tr>\n",
       "  </tbody>\n",
       "</table>\n",
       "</div>"
      ],
      "text/plain": [
       "   Unnamed: 0                                          statement  status\n",
       "0       42422                              real n twitter hate u       0\n",
       "1        4204                                                two       0\n",
       "2        2180  love matter far near determine mine love death...       0\n",
       "3        6269    father s obligation feed clothe mother good way       0\n",
       "4        5093                                      mutual let we       0"
      ]
     },
     "execution_count": 7,
     "metadata": {},
     "output_type": "execute_result"
    }
   ],
   "source": [
    "df_new.head()"
   ]
  },
  {
   "cell_type": "code",
   "execution_count": null,
   "id": "cf02eeda",
   "metadata": {
    "papermill": {
     "duration": 0.004382,
     "end_time": "2024-12-06T06:20:40.836992",
     "exception": false,
     "start_time": "2024-12-06T06:20:40.832610",
     "status": "completed"
    },
    "tags": []
   },
   "outputs": [],
   "source": []
  },
  {
   "cell_type": "markdown",
   "id": "3c343223",
   "metadata": {
    "papermill": {
     "duration": 0.004381,
     "end_time": "2024-12-06T06:20:40.845944",
     "exception": false,
     "start_time": "2024-12-06T06:20:40.841563",
     "status": "completed"
    },
    "tags": []
   },
   "source": [
    "## Modelling"
   ]
  },
  {
   "cell_type": "code",
   "execution_count": 8,
   "id": "158bd922",
   "metadata": {
    "execution": {
     "iopub.execute_input": "2024-12-06T06:20:40.855787Z",
     "iopub.status.busy": "2024-12-06T06:20:40.855571Z",
     "iopub.status.idle": "2024-12-06T06:20:43.964356Z",
     "shell.execute_reply": "2024-12-06T06:20:43.963052Z"
    },
    "papermill": {
     "duration": 3.115664,
     "end_time": "2024-12-06T06:20:43.966100",
     "exception": false,
     "start_time": "2024-12-06T06:20:40.850436",
     "status": "completed"
    },
    "tags": []
   },
   "outputs": [
    {
     "name": "stderr",
     "output_type": "stream",
     "text": [
      "/opt/conda/lib/python3.10/pty.py:89: RuntimeWarning: os.fork() was called. os.fork() is incompatible with multithreaded code, and JAX is multithreaded, so this will likely lead to a deadlock.\n",
      "  pid, fd = os.forkpty()\n"
     ]
    },
    {
     "name": "stdout",
     "output_type": "stream",
     "text": [
      "Requirement already satisfied: gensim in /opt/conda/lib/python3.10/site-packages (4.3.3)\r\n",
      "Note: you may need to restart the kernel to use updated packages.\n"
     ]
    }
   ],
   "source": [
    "pip install gensim --no-deps\n"
   ]
  },
  {
   "cell_type": "code",
   "execution_count": 9,
   "id": "93374151",
   "metadata": {
    "execution": {
     "iopub.execute_input": "2024-12-06T06:20:43.977804Z",
     "iopub.status.busy": "2024-12-06T06:20:43.977457Z",
     "iopub.status.idle": "2024-12-06T06:20:58.755385Z",
     "shell.execute_reply": "2024-12-06T06:20:58.754490Z"
    },
    "papermill": {
     "duration": 14.78619,
     "end_time": "2024-12-06T06:20:58.757604",
     "exception": false,
     "start_time": "2024-12-06T06:20:43.971414",
     "status": "completed"
    },
    "tags": []
   },
   "outputs": [],
   "source": [
    "from tensorflow.keras.preprocessing.text import Tokenizer\n",
    "from tensorflow.keras.preprocessing.sequence import pad_sequences\n",
    "import gensim.downloader as api\n",
    "import numpy as np\n",
    "from sklearn.model_selection import train_test_split\n",
    "from keras.models import Sequential\n",
    "from keras.layers import Embedding, Dropout, Dense\n",
    "from keras.layers import GRU\n",
    "from keras.callbacks import EarlyStopping, ModelCheckpoint\n",
    "\n"
   ]
  },
  {
   "cell_type": "markdown",
   "id": "efcc60c9",
   "metadata": {
    "papermill": {
     "duration": 0.004805,
     "end_time": "2024-12-06T06:20:58.767730",
     "exception": false,
     "start_time": "2024-12-06T06:20:58.762925",
     "status": "completed"
    },
    "tags": []
   },
   "source": [
    "### Tokenization with keras"
   ]
  },
  {
   "cell_type": "code",
   "execution_count": 10,
   "id": "a5a7db45",
   "metadata": {
    "execution": {
     "iopub.execute_input": "2024-12-06T06:20:58.778760Z",
     "iopub.status.busy": "2024-12-06T06:20:58.778051Z",
     "iopub.status.idle": "2024-12-06T06:21:01.799049Z",
     "shell.execute_reply": "2024-12-06T06:21:01.798367Z"
    },
    "papermill": {
     "duration": 3.028484,
     "end_time": "2024-12-06T06:21:01.801001",
     "exception": false,
     "start_time": "2024-12-06T06:20:58.772517",
     "status": "completed"
    },
    "tags": []
   },
   "outputs": [],
   "source": [
    "# Configuration\n",
    "EMBEDDING_DIM = 100  # Dimension of word embeddings\n",
    "MAX_NUM_WORDS = 10000  # Maximum number of unique words\n",
    "MAX_SEQUENCE_LENGTH = 200  # Fixed sequence length for all input data\n",
    "\n",
    "\n",
    "\n",
    "# Tokenizer: Train and convert text to sequences\n",
    "tokenizer = Tokenizer(num_words=MAX_NUM_WORDS, lower=True)  # Limit vocabulary size and convert to lowercase\n",
    "tokenizer.fit_on_texts(df_new['statement'])  # Learn the vocabulary from the text data\n",
    "X = tokenizer.texts_to_sequences(df_new['statement'])  # Convert text to numerical sequences\n",
    "\n",
    "# Pad sequences to ensure uniform length\n",
    "X = pad_sequences(X, maxlen=MAX_SEQUENCE_LENGTH, padding='post')  # Add padding at the end of sequences\n"
   ]
  },
  {
   "cell_type": "code",
   "execution_count": 11,
   "id": "71da8500",
   "metadata": {
    "execution": {
     "iopub.execute_input": "2024-12-06T06:21:01.812063Z",
     "iopub.status.busy": "2024-12-06T06:21:01.811816Z",
     "iopub.status.idle": "2024-12-06T06:21:01.824399Z",
     "shell.execute_reply": "2024-12-06T06:21:01.823508Z"
    },
    "papermill": {
     "duration": 0.019735,
     "end_time": "2024-12-06T06:21:01.825962",
     "exception": false,
     "start_time": "2024-12-06T06:21:01.806227",
     "status": "completed"
    },
    "tags": []
   },
   "outputs": [
    {
     "name": "stdout",
     "output_type": "stream",
     "text": [
      "Tokenizer has been saved to tokenizer.pkl\n"
     ]
    }
   ],
   "source": [
    "import pickle\n",
    "\n",
    "# Save the tokenizer to a .pkl file\n",
    "with open('tokenizer.pkl', 'wb') as file:\n",
    "    pickle.dump(tokenizer, file)\n",
    "print(\"Tokenizer has been saved to tokenizer.pkl\")\n"
   ]
  },
  {
   "cell_type": "code",
   "execution_count": 12,
   "id": "2b9fd2ad",
   "metadata": {
    "execution": {
     "iopub.execute_input": "2024-12-06T06:21:01.837425Z",
     "iopub.status.busy": "2024-12-06T06:21:01.836656Z",
     "iopub.status.idle": "2024-12-06T06:21:01.845869Z",
     "shell.execute_reply": "2024-12-06T06:21:01.845003Z"
    },
    "papermill": {
     "duration": 0.01652,
     "end_time": "2024-12-06T06:21:01.847412",
     "exception": false,
     "start_time": "2024-12-06T06:21:01.830892",
     "status": "completed"
    },
    "tags": []
   },
   "outputs": [
    {
     "data": {
      "text/html": [
       "<div>\n",
       "<style scoped>\n",
       "    .dataframe tbody tr th:only-of-type {\n",
       "        vertical-align: middle;\n",
       "    }\n",
       "\n",
       "    .dataframe tbody tr th {\n",
       "        vertical-align: top;\n",
       "    }\n",
       "\n",
       "    .dataframe thead th {\n",
       "        text-align: right;\n",
       "    }\n",
       "</style>\n",
       "<table border=\"1\" class=\"dataframe\">\n",
       "  <thead>\n",
       "    <tr style=\"text-align: right;\">\n",
       "      <th></th>\n",
       "      <th>Unnamed: 0</th>\n",
       "      <th>statement</th>\n",
       "      <th>status</th>\n",
       "    </tr>\n",
       "  </thead>\n",
       "  <tbody>\n",
       "    <tr>\n",
       "      <th>0</th>\n",
       "      <td>42422</td>\n",
       "      <td>real n twitter hate u</td>\n",
       "      <td>0</td>\n",
       "    </tr>\n",
       "    <tr>\n",
       "      <th>1</th>\n",
       "      <td>4204</td>\n",
       "      <td>two</td>\n",
       "      <td>0</td>\n",
       "    </tr>\n",
       "    <tr>\n",
       "      <th>2</th>\n",
       "      <td>2180</td>\n",
       "      <td>love matter far near determine mine love death...</td>\n",
       "      <td>0</td>\n",
       "    </tr>\n",
       "    <tr>\n",
       "      <th>3</th>\n",
       "      <td>6269</td>\n",
       "      <td>father s obligation feed clothe mother good way</td>\n",
       "      <td>0</td>\n",
       "    </tr>\n",
       "    <tr>\n",
       "      <th>4</th>\n",
       "      <td>5093</td>\n",
       "      <td>mutual let we</td>\n",
       "      <td>0</td>\n",
       "    </tr>\n",
       "    <tr>\n",
       "      <th>5</th>\n",
       "      <td>5456</td>\n",
       "      <td>come want check k file turn u</td>\n",
       "      <td>0</td>\n",
       "    </tr>\n",
       "    <tr>\n",
       "      <th>6</th>\n",
       "      <td>4154</td>\n",
       "      <td>al ham h oh god touch</td>\n",
       "      <td>0</td>\n",
       "    </tr>\n",
       "    <tr>\n",
       "      <th>7</th>\n",
       "      <td>33037</td>\n",
       "      <td>yes land reporter army band</td>\n",
       "      <td>0</td>\n",
       "    </tr>\n",
       "    <tr>\n",
       "      <th>8</th>\n",
       "      <td>42350</td>\n",
       "      <td>earthquake ha make sad saw pic news terrible</td>\n",
       "      <td>0</td>\n",
       "    </tr>\n",
       "    <tr>\n",
       "      <th>9</th>\n",
       "      <td>42535</td>\n",
       "      <td>yeah application run every minute add conflict ti</td>\n",
       "      <td>0</td>\n",
       "    </tr>\n",
       "    <tr>\n",
       "      <th>10</th>\n",
       "      <td>33241</td>\n",
       "      <td>get free food</td>\n",
       "      <td>0</td>\n",
       "    </tr>\n",
       "    <tr>\n",
       "      <th>11</th>\n",
       "      <td>42385</td>\n",
       "      <td>er sorry hear dog</td>\n",
       "      <td>0</td>\n",
       "    </tr>\n",
       "    <tr>\n",
       "      <th>12</th>\n",
       "      <td>5345</td>\n",
       "      <td>bus set lot bat</td>\n",
       "      <td>0</td>\n",
       "    </tr>\n",
       "    <tr>\n",
       "      <th>13</th>\n",
       "      <td>44088</td>\n",
       "      <td>kind sad find</td>\n",
       "      <td>0</td>\n",
       "    </tr>\n",
       "    <tr>\n",
       "      <th>14</th>\n",
       "      <td>4044</td>\n",
       "      <td>keep think positive even though positive think</td>\n",
       "      <td>0</td>\n",
       "    </tr>\n",
       "    <tr>\n",
       "      <th>15</th>\n",
       "      <td>41845</td>\n",
       "      <td>wish tag tag thing nonsense tire</td>\n",
       "      <td>0</td>\n",
       "    </tr>\n",
       "    <tr>\n",
       "      <th>16</th>\n",
       "      <td>4477</td>\n",
       "      <td>ho date</td>\n",
       "      <td>0</td>\n",
       "    </tr>\n",
       "    <tr>\n",
       "      <th>17</th>\n",
       "      <td>37332</td>\n",
       "      <td>weird pizza place stand room around dinner ti ...</td>\n",
       "      <td>0</td>\n",
       "    </tr>\n",
       "    <tr>\n",
       "      <th>18</th>\n",
       "      <td>37021</td>\n",
       "      <td>love cap jo ross happy birthday live sh</td>\n",
       "      <td>0</td>\n",
       "    </tr>\n",
       "    <tr>\n",
       "      <th>19</th>\n",
       "      <td>6327</td>\n",
       "      <td>file file control</td>\n",
       "      <td>0</td>\n",
       "    </tr>\n",
       "  </tbody>\n",
       "</table>\n",
       "</div>"
      ],
      "text/plain": [
       "    Unnamed: 0                                          statement  status\n",
       "0        42422                              real n twitter hate u       0\n",
       "1         4204                                                two       0\n",
       "2         2180  love matter far near determine mine love death...       0\n",
       "3         6269    father s obligation feed clothe mother good way       0\n",
       "4         5093                                      mutual let we       0\n",
       "5         5456                      come want check k file turn u       0\n",
       "6         4154                              al ham h oh god touch       0\n",
       "7        33037                        yes land reporter army band       0\n",
       "8        42350       earthquake ha make sad saw pic news terrible       0\n",
       "9        42535  yeah application run every minute add conflict ti       0\n",
       "10       33241                                      get free food       0\n",
       "11       42385                                  er sorry hear dog       0\n",
       "12        5345                                    bus set lot bat       0\n",
       "13       44088                                      kind sad find       0\n",
       "14        4044     keep think positive even though positive think       0\n",
       "15       41845                   wish tag tag thing nonsense tire       0\n",
       "16        4477                                            ho date       0\n",
       "17       37332  weird pizza place stand room around dinner ti ...       0\n",
       "18       37021            love cap jo ross happy birthday live sh       0\n",
       "19        6327                                  file file control       0"
      ]
     },
     "execution_count": 12,
     "metadata": {},
     "output_type": "execute_result"
    }
   ],
   "source": [
    "df_new.head(20)"
   ]
  },
  {
   "cell_type": "markdown",
   "id": "9ef64239",
   "metadata": {
    "papermill": {
     "duration": 0.004959,
     "end_time": "2024-12-06T06:21:01.857443",
     "exception": false,
     "start_time": "2024-12-06T06:21:01.852484",
     "status": "completed"
    },
    "tags": []
   },
   "source": [
    "### Convert label to one-hot encoding"
   ]
  },
  {
   "cell_type": "code",
   "execution_count": 13,
   "id": "c3a827f7",
   "metadata": {
    "execution": {
     "iopub.execute_input": "2024-12-06T06:21:01.868531Z",
     "iopub.status.busy": "2024-12-06T06:21:01.868246Z",
     "iopub.status.idle": "2024-12-06T06:21:01.896127Z",
     "shell.execute_reply": "2024-12-06T06:21:01.895371Z"
    },
    "papermill": {
     "duration": 0.035643,
     "end_time": "2024-12-06T06:21:01.898174",
     "exception": false,
     "start_time": "2024-12-06T06:21:01.862531",
     "status": "completed"
    },
    "tags": []
   },
   "outputs": [],
   "source": [
    "# Convert labels to one-hot encoding\n",
    "y = pd.get_dummies(df_new['status']).values  # Transform class labels into a binary matrix\n",
    "\n",
    "# Split data into training and testing sets\n",
    "X_train, X_test, y_train, y_test = train_test_split(X, y, test_size=0.3, random_state=42)\n",
    "# `test_size=0.3` allocates 30% of the data for testing, 70% for training\n",
    "# `random_state=42` ensures reproducibility of the split\n",
    "\n"
   ]
  },
  {
   "cell_type": "markdown",
   "id": "418e7ef5",
   "metadata": {
    "papermill": {
     "duration": 0.005054,
     "end_time": "2024-12-06T06:21:01.908594",
     "exception": false,
     "start_time": "2024-12-06T06:21:01.903540",
     "status": "completed"
    },
    "tags": []
   },
   "source": [
    "### Word Embedding"
   ]
  },
  {
   "cell_type": "code",
   "execution_count": 14,
   "id": "ed50a27b",
   "metadata": {
    "execution": {
     "iopub.execute_input": "2024-12-06T06:21:01.919592Z",
     "iopub.status.busy": "2024-12-06T06:21:01.919308Z",
     "iopub.status.idle": "2024-12-06T06:21:47.372257Z",
     "shell.execute_reply": "2024-12-06T06:21:47.371356Z"
    },
    "papermill": {
     "duration": 45.461542,
     "end_time": "2024-12-06T06:21:47.375081",
     "exception": false,
     "start_time": "2024-12-06T06:21:01.913539",
     "status": "completed"
    },
    "tags": []
   },
   "outputs": [
    {
     "name": "stdout",
     "output_type": "stream",
     "text": [
      "[==================================================] 100.0% 128.1/128.1MB downloaded\n"
     ]
    }
   ],
   "source": [
    "# Download and load pre-trained GloVe embeddings (100 dimensions)\n",
    "glove_gensim = api.load('glove-wiki-gigaword-100')\n",
    "\n",
    "# Create a weight matrix for the embedding layer\n",
    "gensim_weight_matrix = np.zeros((MAX_NUM_WORDS, EMBEDDING_DIM))  # Initialize with zeros\n",
    "\n",
    "# Populate the weight matrix with GloVe vectors for words in the tokenizer's vocabulary\n",
    "for word, index in tokenizer.word_index.items():\n",
    "    if index < MAX_NUM_WORDS:  # Ensure the index is within the specified maximum word limit\n",
    "        if word in glove_gensim.index_to_key:  # Check if the word exists in the GloVe vocabulary\n",
    "            gensim_weight_matrix[index] = glove_gensim[word]  # Assign the GloVe vector\n",
    "        else:\n",
    "            gensim_weight_matrix[index] = np.zeros(EMBEDDING_DIM)  # Assign a zero vector if the word is not found\n"
   ]
  },
  {
   "cell_type": "markdown",
   "id": "24480e24",
   "metadata": {
    "papermill": {
     "duration": 0.755467,
     "end_time": "2024-12-06T06:21:48.898556",
     "exception": false,
     "start_time": "2024-12-06T06:21:48.143089",
     "status": "completed"
    },
    "tags": []
   },
   "source": [
    "### Build the Model"
   ]
  },
  {
   "cell_type": "code",
   "execution_count": 15,
   "id": "6421d8bc",
   "metadata": {
    "execution": {
     "iopub.execute_input": "2024-12-06T06:21:50.392967Z",
     "iopub.status.busy": "2024-12-06T06:21:50.392109Z",
     "iopub.status.idle": "2024-12-06T06:21:52.297313Z",
     "shell.execute_reply": "2024-12-06T06:21:52.296527Z"
    },
    "papermill": {
     "duration": 2.633902,
     "end_time": "2024-12-06T06:21:52.298965",
     "exception": false,
     "start_time": "2024-12-06T06:21:49.665063",
     "status": "completed"
    },
    "tags": []
   },
   "outputs": [
    {
     "data": {
      "text/html": [
       "<pre style=\"white-space:pre;overflow-x:auto;line-height:normal;font-family:Menlo,'DejaVu Sans Mono',consolas,'Courier New',monospace\"><span style=\"font-weight: bold\">Model: \"sequential\"</span>\n",
       "</pre>\n"
      ],
      "text/plain": [
       "\u001b[1mModel: \"sequential\"\u001b[0m\n"
      ]
     },
     "metadata": {},
     "output_type": "display_data"
    },
    {
     "data": {
      "text/html": [
       "<pre style=\"white-space:pre;overflow-x:auto;line-height:normal;font-family:Menlo,'DejaVu Sans Mono',consolas,'Courier New',monospace\">┏━━━━━━━━━━━━━━━━━━━━━━━━━━━━━━━━━┳━━━━━━━━━━━━━━━━━━━━━━━━┳━━━━━━━━━━━━━━━┓\n",
       "┃<span style=\"font-weight: bold\"> Layer (type)                    </span>┃<span style=\"font-weight: bold\"> Output Shape           </span>┃<span style=\"font-weight: bold\">       Param # </span>┃\n",
       "┡━━━━━━━━━━━━━━━━━━━━━━━━━━━━━━━━━╇━━━━━━━━━━━━━━━━━━━━━━━━╇━━━━━━━━━━━━━━━┩\n",
       "│ embedding (<span style=\"color: #0087ff; text-decoration-color: #0087ff\">Embedding</span>)           │ (<span style=\"color: #00d7ff; text-decoration-color: #00d7ff\">None</span>, <span style=\"color: #00af00; text-decoration-color: #00af00\">200</span>, <span style=\"color: #00af00; text-decoration-color: #00af00\">100</span>)       │     <span style=\"color: #00af00; text-decoration-color: #00af00\">1,000,000</span> │\n",
       "├─────────────────────────────────┼────────────────────────┼───────────────┤\n",
       "│ gru (<span style=\"color: #0087ff; text-decoration-color: #0087ff\">GRU</span>)                       │ (<span style=\"color: #00d7ff; text-decoration-color: #00d7ff\">None</span>, <span style=\"color: #00af00; text-decoration-color: #00af00\">200</span>, <span style=\"color: #00af00; text-decoration-color: #00af00\">100</span>)       │        <span style=\"color: #00af00; text-decoration-color: #00af00\">60,600</span> │\n",
       "├─────────────────────────────────┼────────────────────────┼───────────────┤\n",
       "│ dropout (<span style=\"color: #0087ff; text-decoration-color: #0087ff\">Dropout</span>)               │ (<span style=\"color: #00d7ff; text-decoration-color: #00d7ff\">None</span>, <span style=\"color: #00af00; text-decoration-color: #00af00\">200</span>, <span style=\"color: #00af00; text-decoration-color: #00af00\">100</span>)       │             <span style=\"color: #00af00; text-decoration-color: #00af00\">0</span> │\n",
       "├─────────────────────────────────┼────────────────────────┼───────────────┤\n",
       "│ gru_1 (<span style=\"color: #0087ff; text-decoration-color: #0087ff\">GRU</span>)                     │ (<span style=\"color: #00d7ff; text-decoration-color: #00d7ff\">None</span>, <span style=\"color: #00af00; text-decoration-color: #00af00\">200</span>, <span style=\"color: #00af00; text-decoration-color: #00af00\">100</span>)       │        <span style=\"color: #00af00; text-decoration-color: #00af00\">60,600</span> │\n",
       "├─────────────────────────────────┼────────────────────────┼───────────────┤\n",
       "│ dropout_1 (<span style=\"color: #0087ff; text-decoration-color: #0087ff\">Dropout</span>)             │ (<span style=\"color: #00d7ff; text-decoration-color: #00d7ff\">None</span>, <span style=\"color: #00af00; text-decoration-color: #00af00\">200</span>, <span style=\"color: #00af00; text-decoration-color: #00af00\">100</span>)       │             <span style=\"color: #00af00; text-decoration-color: #00af00\">0</span> │\n",
       "├─────────────────────────────────┼────────────────────────┼───────────────┤\n",
       "│ gru_2 (<span style=\"color: #0087ff; text-decoration-color: #0087ff\">GRU</span>)                     │ (<span style=\"color: #00d7ff; text-decoration-color: #00d7ff\">None</span>, <span style=\"color: #00af00; text-decoration-color: #00af00\">200</span>, <span style=\"color: #00af00; text-decoration-color: #00af00\">100</span>)       │        <span style=\"color: #00af00; text-decoration-color: #00af00\">60,600</span> │\n",
       "├─────────────────────────────────┼────────────────────────┼───────────────┤\n",
       "│ dropout_2 (<span style=\"color: #0087ff; text-decoration-color: #0087ff\">Dropout</span>)             │ (<span style=\"color: #00d7ff; text-decoration-color: #00d7ff\">None</span>, <span style=\"color: #00af00; text-decoration-color: #00af00\">200</span>, <span style=\"color: #00af00; text-decoration-color: #00af00\">100</span>)       │             <span style=\"color: #00af00; text-decoration-color: #00af00\">0</span> │\n",
       "├─────────────────────────────────┼────────────────────────┼───────────────┤\n",
       "│ gru_3 (<span style=\"color: #0087ff; text-decoration-color: #0087ff\">GRU</span>)                     │ (<span style=\"color: #00d7ff; text-decoration-color: #00d7ff\">None</span>, <span style=\"color: #00af00; text-decoration-color: #00af00\">100</span>)            │        <span style=\"color: #00af00; text-decoration-color: #00af00\">60,600</span> │\n",
       "├─────────────────────────────────┼────────────────────────┼───────────────┤\n",
       "│ dropout_3 (<span style=\"color: #0087ff; text-decoration-color: #0087ff\">Dropout</span>)             │ (<span style=\"color: #00d7ff; text-decoration-color: #00d7ff\">None</span>, <span style=\"color: #00af00; text-decoration-color: #00af00\">100</span>)            │             <span style=\"color: #00af00; text-decoration-color: #00af00\">0</span> │\n",
       "├─────────────────────────────────┼────────────────────────┼───────────────┤\n",
       "│ dense (<span style=\"color: #0087ff; text-decoration-color: #0087ff\">Dense</span>)                   │ (<span style=\"color: #00d7ff; text-decoration-color: #00d7ff\">None</span>, <span style=\"color: #00af00; text-decoration-color: #00af00\">64</span>)             │         <span style=\"color: #00af00; text-decoration-color: #00af00\">6,464</span> │\n",
       "├─────────────────────────────────┼────────────────────────┼───────────────┤\n",
       "│ dropout_4 (<span style=\"color: #0087ff; text-decoration-color: #0087ff\">Dropout</span>)             │ (<span style=\"color: #00d7ff; text-decoration-color: #00d7ff\">None</span>, <span style=\"color: #00af00; text-decoration-color: #00af00\">64</span>)             │             <span style=\"color: #00af00; text-decoration-color: #00af00\">0</span> │\n",
       "├─────────────────────────────────┼────────────────────────┼───────────────┤\n",
       "│ dense_1 (<span style=\"color: #0087ff; text-decoration-color: #0087ff\">Dense</span>)                 │ (<span style=\"color: #00d7ff; text-decoration-color: #00d7ff\">None</span>, <span style=\"color: #00af00; text-decoration-color: #00af00\">6</span>)              │           <span style=\"color: #00af00; text-decoration-color: #00af00\">390</span> │\n",
       "└─────────────────────────────────┴────────────────────────┴───────────────┘\n",
       "</pre>\n"
      ],
      "text/plain": [
       "┏━━━━━━━━━━━━━━━━━━━━━━━━━━━━━━━━━┳━━━━━━━━━━━━━━━━━━━━━━━━┳━━━━━━━━━━━━━━━┓\n",
       "┃\u001b[1m \u001b[0m\u001b[1mLayer (type)                   \u001b[0m\u001b[1m \u001b[0m┃\u001b[1m \u001b[0m\u001b[1mOutput Shape          \u001b[0m\u001b[1m \u001b[0m┃\u001b[1m \u001b[0m\u001b[1m      Param #\u001b[0m\u001b[1m \u001b[0m┃\n",
       "┡━━━━━━━━━━━━━━━━━━━━━━━━━━━━━━━━━╇━━━━━━━━━━━━━━━━━━━━━━━━╇━━━━━━━━━━━━━━━┩\n",
       "│ embedding (\u001b[38;5;33mEmbedding\u001b[0m)           │ (\u001b[38;5;45mNone\u001b[0m, \u001b[38;5;34m200\u001b[0m, \u001b[38;5;34m100\u001b[0m)       │     \u001b[38;5;34m1,000,000\u001b[0m │\n",
       "├─────────────────────────────────┼────────────────────────┼───────────────┤\n",
       "│ gru (\u001b[38;5;33mGRU\u001b[0m)                       │ (\u001b[38;5;45mNone\u001b[0m, \u001b[38;5;34m200\u001b[0m, \u001b[38;5;34m100\u001b[0m)       │        \u001b[38;5;34m60,600\u001b[0m │\n",
       "├─────────────────────────────────┼────────────────────────┼───────────────┤\n",
       "│ dropout (\u001b[38;5;33mDropout\u001b[0m)               │ (\u001b[38;5;45mNone\u001b[0m, \u001b[38;5;34m200\u001b[0m, \u001b[38;5;34m100\u001b[0m)       │             \u001b[38;5;34m0\u001b[0m │\n",
       "├─────────────────────────────────┼────────────────────────┼───────────────┤\n",
       "│ gru_1 (\u001b[38;5;33mGRU\u001b[0m)                     │ (\u001b[38;5;45mNone\u001b[0m, \u001b[38;5;34m200\u001b[0m, \u001b[38;5;34m100\u001b[0m)       │        \u001b[38;5;34m60,600\u001b[0m │\n",
       "├─────────────────────────────────┼────────────────────────┼───────────────┤\n",
       "│ dropout_1 (\u001b[38;5;33mDropout\u001b[0m)             │ (\u001b[38;5;45mNone\u001b[0m, \u001b[38;5;34m200\u001b[0m, \u001b[38;5;34m100\u001b[0m)       │             \u001b[38;5;34m0\u001b[0m │\n",
       "├─────────────────────────────────┼────────────────────────┼───────────────┤\n",
       "│ gru_2 (\u001b[38;5;33mGRU\u001b[0m)                     │ (\u001b[38;5;45mNone\u001b[0m, \u001b[38;5;34m200\u001b[0m, \u001b[38;5;34m100\u001b[0m)       │        \u001b[38;5;34m60,600\u001b[0m │\n",
       "├─────────────────────────────────┼────────────────────────┼───────────────┤\n",
       "│ dropout_2 (\u001b[38;5;33mDropout\u001b[0m)             │ (\u001b[38;5;45mNone\u001b[0m, \u001b[38;5;34m200\u001b[0m, \u001b[38;5;34m100\u001b[0m)       │             \u001b[38;5;34m0\u001b[0m │\n",
       "├─────────────────────────────────┼────────────────────────┼───────────────┤\n",
       "│ gru_3 (\u001b[38;5;33mGRU\u001b[0m)                     │ (\u001b[38;5;45mNone\u001b[0m, \u001b[38;5;34m100\u001b[0m)            │        \u001b[38;5;34m60,600\u001b[0m │\n",
       "├─────────────────────────────────┼────────────────────────┼───────────────┤\n",
       "│ dropout_3 (\u001b[38;5;33mDropout\u001b[0m)             │ (\u001b[38;5;45mNone\u001b[0m, \u001b[38;5;34m100\u001b[0m)            │             \u001b[38;5;34m0\u001b[0m │\n",
       "├─────────────────────────────────┼────────────────────────┼───────────────┤\n",
       "│ dense (\u001b[38;5;33mDense\u001b[0m)                   │ (\u001b[38;5;45mNone\u001b[0m, \u001b[38;5;34m64\u001b[0m)             │         \u001b[38;5;34m6,464\u001b[0m │\n",
       "├─────────────────────────────────┼────────────────────────┼───────────────┤\n",
       "│ dropout_4 (\u001b[38;5;33mDropout\u001b[0m)             │ (\u001b[38;5;45mNone\u001b[0m, \u001b[38;5;34m64\u001b[0m)             │             \u001b[38;5;34m0\u001b[0m │\n",
       "├─────────────────────────────────┼────────────────────────┼───────────────┤\n",
       "│ dense_1 (\u001b[38;5;33mDense\u001b[0m)                 │ (\u001b[38;5;45mNone\u001b[0m, \u001b[38;5;34m6\u001b[0m)              │           \u001b[38;5;34m390\u001b[0m │\n",
       "└─────────────────────────────────┴────────────────────────┴───────────────┘\n"
      ]
     },
     "metadata": {},
     "output_type": "display_data"
    },
    {
     "data": {
      "text/html": [
       "<pre style=\"white-space:pre;overflow-x:auto;line-height:normal;font-family:Menlo,'DejaVu Sans Mono',consolas,'Courier New',monospace\"><span style=\"font-weight: bold\"> Total params: </span><span style=\"color: #00af00; text-decoration-color: #00af00\">1,249,254</span> (4.77 MB)\n",
       "</pre>\n"
      ],
      "text/plain": [
       "\u001b[1m Total params: \u001b[0m\u001b[38;5;34m1,249,254\u001b[0m (4.77 MB)\n"
      ]
     },
     "metadata": {},
     "output_type": "display_data"
    },
    {
     "data": {
      "text/html": [
       "<pre style=\"white-space:pre;overflow-x:auto;line-height:normal;font-family:Menlo,'DejaVu Sans Mono',consolas,'Courier New',monospace\"><span style=\"font-weight: bold\"> Trainable params: </span><span style=\"color: #00af00; text-decoration-color: #00af00\">249,254</span> (973.65 KB)\n",
       "</pre>\n"
      ],
      "text/plain": [
       "\u001b[1m Trainable params: \u001b[0m\u001b[38;5;34m249,254\u001b[0m (973.65 KB)\n"
      ]
     },
     "metadata": {},
     "output_type": "display_data"
    },
    {
     "data": {
      "text/html": [
       "<pre style=\"white-space:pre;overflow-x:auto;line-height:normal;font-family:Menlo,'DejaVu Sans Mono',consolas,'Courier New',monospace\"><span style=\"font-weight: bold\"> Non-trainable params: </span><span style=\"color: #00af00; text-decoration-color: #00af00\">1,000,000</span> (3.81 MB)\n",
       "</pre>\n"
      ],
      "text/plain": [
       "\u001b[1m Non-trainable params: \u001b[0m\u001b[38;5;34m1,000,000\u001b[0m (3.81 MB)\n"
      ]
     },
     "metadata": {},
     "output_type": "display_data"
    }
   ],
   "source": [
    "from tensorflow.keras.models import Sequential\n",
    "from tensorflow.keras.layers import Embedding, GRU, Dense, Dropout, Input\n",
    "\n",
    "# Build the model\n",
    "model = Sequential()\n",
    "\n",
    "# Add Input layer\n",
    "model.add(Input(shape=(X.shape[1],)))  # Sequence length: 200\n",
    "\n",
    "# Embedding Layer\n",
    "model.add(Embedding(input_dim=MAX_NUM_WORDS,       # Number of words in the tokenizer\n",
    "                    output_dim=EMBEDDING_DIM,     # Embedding dimensions (e.g., 100)\n",
    "                    weights=[gensim_weight_matrix],  # Pre-trained GloVe embedding matrix\n",
    "                    trainable=False))             # Fine-tuning allowed (weights can be updated)\n",
    "\n",
    "# GRU Layer 1\n",
    "model.add(GRU(100, return_sequences=True))  # First GRU layer with 100 units, returning sequences for further layers\n",
    "model.add(Dropout(0.2))  # Dropout to prevent overfitting\n",
    "\n",
    "# GRU Layer 2\n",
    "model.add(GRU(100, return_sequences=True)) \n",
    "model.add(Dropout(0.2))  \n",
    "\n",
    "# GRU Layer 3 (Adding one more GRU layer)\n",
    "model.add(GRU(100, return_sequences=True))  \n",
    "model.add(Dropout(0.2))  \n",
    "\n",
    "# GRU Layer 4 (Adding one more GRU layer)\n",
    "model.add(GRU(100, return_sequences=False))  # Fourth GRU layer, not returning sequences (final output)\n",
    "model.add(Dropout(0.2))  #\n",
    "\n",
    "# Fully Connected Output Layer\n",
    "model.add(Dense(64, activation='relu'))  #\n",
    "model.add(Dropout(0.2))  # Dropout to pre\n",
    "\n",
    "# Output Layer\n",
    "model.add(Dense(y.shape[1], activation='softmax'))  # Output layer with softmax activation for multi-class \n",
    "\n",
    "\n",
    "# Compile the model\n",
    "model.compile(loss='categorical_crossentropy', optimizer='adam', metrics=['accuracy'])\n",
    "\n",
    "# Display model summary\n",
    "model.summary()\n"
   ]
  },
  {
   "cell_type": "code",
   "execution_count": 16,
   "id": "387334f7",
   "metadata": {
    "execution": {
     "iopub.execute_input": "2024-12-06T06:21:53.839961Z",
     "iopub.status.busy": "2024-12-06T06:21:53.839035Z",
     "iopub.status.idle": "2024-12-06T06:32:42.146547Z",
     "shell.execute_reply": "2024-12-06T06:32:42.145605Z"
    },
    "papermill": {
     "duration": 649.085558,
     "end_time": "2024-12-06T06:32:42.148244",
     "exception": false,
     "start_time": "2024-12-06T06:21:53.062686",
     "status": "completed"
    },
    "tags": []
   },
   "outputs": [
    {
     "name": "stdout",
     "output_type": "stream",
     "text": [
      "Epoch 1/50\n",
      "\u001b[1m505/506\u001b[0m \u001b[32m━━━━━━━━━━━━━━━━━━━\u001b[0m\u001b[37m━\u001b[0m \u001b[1m0s\u001b[0m 32ms/step - accuracy: 0.1762 - loss: 1.7845\n",
      "Epoch 1: val_accuracy improved from -inf to 0.18086, saving model to best_model.weights.h5\n",
      "\u001b[1m506/506\u001b[0m \u001b[32m━━━━━━━━━━━━━━━━━━━━\u001b[0m\u001b[37m\u001b[0m \u001b[1m24s\u001b[0m 37ms/step - accuracy: 0.1762 - loss: 1.7845 - val_accuracy: 0.1809 - val_loss: 1.7665\n",
      "Epoch 2/50\n",
      "\u001b[1m505/506\u001b[0m \u001b[32m━━━━━━━━━━━━━━━━━━━\u001b[0m\u001b[37m━\u001b[0m \u001b[1m0s\u001b[0m 31ms/step - accuracy: 0.1875 - loss: 1.7564\n",
      "Epoch 2: val_accuracy improved from 0.18086 to 0.21948, saving model to best_model.weights.h5\n",
      "\u001b[1m506/506\u001b[0m \u001b[32m━━━━━━━━━━━━━━━━━━━━\u001b[0m\u001b[37m\u001b[0m \u001b[1m18s\u001b[0m 37ms/step - accuracy: 0.1875 - loss: 1.7563 - val_accuracy: 0.2195 - val_loss: 1.7261\n",
      "Epoch 3/50\n",
      "\u001b[1m505/506\u001b[0m \u001b[32m━━━━━━━━━━━━━━━━━━━\u001b[0m\u001b[37m━\u001b[0m \u001b[1m0s\u001b[0m 31ms/step - accuracy: 0.2210 - loss: 1.7040\n",
      "Epoch 3: val_accuracy improved from 0.21948 to 0.56788, saving model to best_model.weights.h5\n",
      "\u001b[1m506/506\u001b[0m \u001b[32m━━━━━━━━━━━━━━━━━━━━\u001b[0m\u001b[37m\u001b[0m \u001b[1m18s\u001b[0m 36ms/step - accuracy: 0.2213 - loss: 1.7035 - val_accuracy: 0.5679 - val_loss: 1.1378\n",
      "Epoch 4/50\n",
      "\u001b[1m505/506\u001b[0m \u001b[32m━━━━━━━━━━━━━━━━━━━\u001b[0m\u001b[37m━\u001b[0m \u001b[1m0s\u001b[0m 32ms/step - accuracy: 0.6300 - loss: 1.0085\n",
      "Epoch 4: val_accuracy improved from 0.56788 to 0.77843, saving model to best_model.weights.h5\n",
      "\u001b[1m506/506\u001b[0m \u001b[32m━━━━━━━━━━━━━━━━━━━━\u001b[0m\u001b[37m\u001b[0m \u001b[1m19s\u001b[0m 37ms/step - accuracy: 0.6302 - loss: 1.0081 - val_accuracy: 0.7784 - val_loss: 0.6640\n",
      "Epoch 5/50\n",
      "\u001b[1m505/506\u001b[0m \u001b[32m━━━━━━━━━━━━━━━━━━━\u001b[0m\u001b[37m━\u001b[0m \u001b[1m0s\u001b[0m 32ms/step - accuracy: 0.7873 - loss: 0.6403\n",
      "Epoch 5: val_accuracy improved from 0.77843 to 0.84594, saving model to best_model.weights.h5\n",
      "\u001b[1m506/506\u001b[0m \u001b[32m━━━━━━━━━━━━━━━━━━━━\u001b[0m\u001b[37m\u001b[0m \u001b[1m19s\u001b[0m 37ms/step - accuracy: 0.7874 - loss: 0.6401 - val_accuracy: 0.8459 - val_loss: 0.4690\n",
      "Epoch 6/50\n",
      "\u001b[1m505/506\u001b[0m \u001b[32m━━━━━━━━━━━━━━━━━━━\u001b[0m\u001b[37m━\u001b[0m \u001b[1m0s\u001b[0m 32ms/step - accuracy: 0.8659 - loss: 0.4355\n",
      "Epoch 6: val_accuracy improved from 0.84594 to 0.88125, saving model to best_model.weights.h5\n",
      "\u001b[1m506/506\u001b[0m \u001b[32m━━━━━━━━━━━━━━━━━━━━\u001b[0m\u001b[37m\u001b[0m \u001b[1m19s\u001b[0m 37ms/step - accuracy: 0.8659 - loss: 0.4354 - val_accuracy: 0.8813 - val_loss: 0.3659\n",
      "Epoch 7/50\n",
      "\u001b[1m505/506\u001b[0m \u001b[32m━━━━━━━━━━━━━━━━━━━\u001b[0m\u001b[37m━\u001b[0m \u001b[1m0s\u001b[0m 33ms/step - accuracy: 0.9080 - loss: 0.3141\n",
      "Epoch 7: val_accuracy improved from 0.88125 to 0.90849, saving model to best_model.weights.h5\n",
      "\u001b[1m506/506\u001b[0m \u001b[32m━━━━━━━━━━━━━━━━━━━━\u001b[0m\u001b[37m\u001b[0m \u001b[1m19s\u001b[0m 38ms/step - accuracy: 0.9080 - loss: 0.3141 - val_accuracy: 0.9085 - val_loss: 0.3059\n",
      "Epoch 8/50\n",
      "\u001b[1m505/506\u001b[0m \u001b[32m━━━━━━━━━━━━━━━━━━━\u001b[0m\u001b[37m━\u001b[0m \u001b[1m0s\u001b[0m 32ms/step - accuracy: 0.9257 - loss: 0.2596\n",
      "Epoch 8: val_accuracy improved from 0.90849 to 0.90914, saving model to best_model.weights.h5\n",
      "\u001b[1m506/506\u001b[0m \u001b[32m━━━━━━━━━━━━━━━━━━━━\u001b[0m\u001b[37m\u001b[0m \u001b[1m19s\u001b[0m 38ms/step - accuracy: 0.9257 - loss: 0.2596 - val_accuracy: 0.9091 - val_loss: 0.3133\n",
      "Epoch 9/50\n",
      "\u001b[1m505/506\u001b[0m \u001b[32m━━━━━━━━━━━━━━━━━━━\u001b[0m\u001b[37m━\u001b[0m \u001b[1m0s\u001b[0m 32ms/step - accuracy: 0.9353 - loss: 0.2227\n",
      "Epoch 9: val_accuracy improved from 0.90914 to 0.93313, saving model to best_model.weights.h5\n",
      "\u001b[1m506/506\u001b[0m \u001b[32m━━━━━━━━━━━━━━━━━━━━\u001b[0m\u001b[37m\u001b[0m \u001b[1m19s\u001b[0m 37ms/step - accuracy: 0.9353 - loss: 0.2226 - val_accuracy: 0.9331 - val_loss: 0.2330\n",
      "Epoch 10/50\n",
      "\u001b[1m505/506\u001b[0m \u001b[32m━━━━━━━━━━━━━━━━━━━\u001b[0m\u001b[37m━\u001b[0m \u001b[1m0s\u001b[0m 32ms/step - accuracy: 0.9490 - loss: 0.1787\n",
      "Epoch 10: val_accuracy improved from 0.93313 to 0.93666, saving model to best_model.weights.h5\n",
      "\u001b[1m506/506\u001b[0m \u001b[32m━━━━━━━━━━━━━━━━━━━━\u001b[0m\u001b[37m\u001b[0m \u001b[1m19s\u001b[0m 37ms/step - accuracy: 0.9490 - loss: 0.1787 - val_accuracy: 0.9367 - val_loss: 0.2372\n",
      "Epoch 11/50\n",
      "\u001b[1m505/506\u001b[0m \u001b[32m━━━━━━━━━━━━━━━━━━━\u001b[0m\u001b[37m━\u001b[0m \u001b[1m0s\u001b[0m 32ms/step - accuracy: 0.9574 - loss: 0.1600\n",
      "Epoch 11: val_accuracy improved from 0.93666 to 0.94862, saving model to best_model.weights.h5\n",
      "\u001b[1m506/506\u001b[0m \u001b[32m━━━━━━━━━━━━━━━━━━━━\u001b[0m\u001b[37m\u001b[0m \u001b[1m19s\u001b[0m 37ms/step - accuracy: 0.9574 - loss: 0.1600 - val_accuracy: 0.9486 - val_loss: 0.2019\n",
      "Epoch 12/50\n",
      "\u001b[1m505/506\u001b[0m \u001b[32m━━━━━━━━━━━━━━━━━━━\u001b[0m\u001b[37m━\u001b[0m \u001b[1m0s\u001b[0m 32ms/step - accuracy: 0.9620 - loss: 0.1349\n",
      "Epoch 12: val_accuracy did not improve from 0.94862\n",
      "\u001b[1m506/506\u001b[0m \u001b[32m━━━━━━━━━━━━━━━━━━━━\u001b[0m\u001b[37m\u001b[0m \u001b[1m19s\u001b[0m 37ms/step - accuracy: 0.9620 - loss: 0.1349 - val_accuracy: 0.9373 - val_loss: 0.2337\n",
      "Epoch 13/50\n",
      "\u001b[1m505/506\u001b[0m \u001b[32m━━━━━━━━━━━━━━━━━━━\u001b[0m\u001b[37m━\u001b[0m \u001b[1m0s\u001b[0m 32ms/step - accuracy: 0.9663 - loss: 0.1253\n",
      "Epoch 13: val_accuracy did not improve from 0.94862\n",
      "\u001b[1m506/506\u001b[0m \u001b[32m━━━━━━━━━━━━━━━━━━━━\u001b[0m\u001b[37m\u001b[0m \u001b[1m19s\u001b[0m 37ms/step - accuracy: 0.9663 - loss: 0.1253 - val_accuracy: 0.9479 - val_loss: 0.1944\n",
      "Epoch 14/50\n",
      "\u001b[1m505/506\u001b[0m \u001b[32m━━━━━━━━━━━━━━━━━━━\u001b[0m\u001b[37m━\u001b[0m \u001b[1m0s\u001b[0m 32ms/step - accuracy: 0.9693 - loss: 0.1114\n",
      "Epoch 14: val_accuracy did not improve from 0.94862\n",
      "\u001b[1m506/506\u001b[0m \u001b[32m━━━━━━━━━━━━━━━━━━━━\u001b[0m\u001b[37m\u001b[0m \u001b[1m19s\u001b[0m 37ms/step - accuracy: 0.9693 - loss: 0.1114 - val_accuracy: 0.9477 - val_loss: 0.2126\n",
      "Epoch 15/50\n",
      "\u001b[1m505/506\u001b[0m \u001b[32m━━━━━━━━━━━━━━━━━━━\u001b[0m\u001b[37m━\u001b[0m \u001b[1m0s\u001b[0m 32ms/step - accuracy: 0.9712 - loss: 0.1086\n",
      "Epoch 15: val_accuracy did not improve from 0.94862\n",
      "\u001b[1m506/506\u001b[0m \u001b[32m━━━━━━━━━━━━━━━━━━━━\u001b[0m\u001b[37m\u001b[0m \u001b[1m19s\u001b[0m 37ms/step - accuracy: 0.9712 - loss: 0.1086 - val_accuracy: 0.9359 - val_loss: 0.2535\n",
      "Epoch 16/50\n",
      "\u001b[1m505/506\u001b[0m \u001b[32m━━━━━━━━━━━━━━━━━━━\u001b[0m\u001b[37m━\u001b[0m \u001b[1m0s\u001b[0m 32ms/step - accuracy: 0.9753 - loss: 0.0929\n",
      "Epoch 16: val_accuracy improved from 0.94862 to 0.95388, saving model to best_model.weights.h5\n",
      "\u001b[1m506/506\u001b[0m \u001b[32m━━━━━━━━━━━━━━━━━━━━\u001b[0m\u001b[37m\u001b[0m \u001b[1m19s\u001b[0m 37ms/step - accuracy: 0.9753 - loss: 0.0929 - val_accuracy: 0.9539 - val_loss: 0.1983\n",
      "Epoch 17/50\n",
      "\u001b[1m505/506\u001b[0m \u001b[32m━━━━━━━━━━━━━━━━━━━\u001b[0m\u001b[37m━\u001b[0m \u001b[1m0s\u001b[0m 32ms/step - accuracy: 0.9761 - loss: 0.0845\n",
      "Epoch 17: val_accuracy did not improve from 0.95388\n",
      "\u001b[1m506/506\u001b[0m \u001b[32m━━━━━━━━━━━━━━━━━━━━\u001b[0m\u001b[37m\u001b[0m \u001b[1m19s\u001b[0m 37ms/step - accuracy: 0.9760 - loss: 0.0845 - val_accuracy: 0.9500 - val_loss: 0.2004\n",
      "Epoch 18/50\n",
      "\u001b[1m505/506\u001b[0m \u001b[32m━━━━━━━━━━━━━━━━━━━\u001b[0m\u001b[37m━\u001b[0m \u001b[1m0s\u001b[0m 32ms/step - accuracy: 0.9788 - loss: 0.0795\n",
      "Epoch 18: val_accuracy did not improve from 0.95388\n",
      "\u001b[1m506/506\u001b[0m \u001b[32m━━━━━━━━━━━━━━━━━━━━\u001b[0m\u001b[37m\u001b[0m \u001b[1m19s\u001b[0m 37ms/step - accuracy: 0.9788 - loss: 0.0795 - val_accuracy: 0.9501 - val_loss: 0.2102\n",
      "Epoch 19/50\n",
      "\u001b[1m505/506\u001b[0m \u001b[32m━━━━━━━━━━━━━━━━━━━\u001b[0m\u001b[37m━\u001b[0m \u001b[1m0s\u001b[0m 32ms/step - accuracy: 0.9818 - loss: 0.0683\n",
      "Epoch 19: val_accuracy improved from 0.95388 to 0.95439, saving model to best_model.weights.h5\n",
      "\u001b[1m506/506\u001b[0m \u001b[32m━━━━━━━━━━━━━━━━━━━━\u001b[0m\u001b[37m\u001b[0m \u001b[1m19s\u001b[0m 37ms/step - accuracy: 0.9818 - loss: 0.0683 - val_accuracy: 0.9544 - val_loss: 0.1975\n",
      "Epoch 20/50\n",
      "\u001b[1m505/506\u001b[0m \u001b[32m━━━━━━━━━━━━━━━━━━━\u001b[0m\u001b[37m━\u001b[0m \u001b[1m0s\u001b[0m 32ms/step - accuracy: 0.9804 - loss: 0.0745\n",
      "Epoch 20: val_accuracy improved from 0.95439 to 0.95691, saving model to best_model.weights.h5\n",
      "\u001b[1m506/506\u001b[0m \u001b[32m━━━━━━━━━━━━━━━━━━━━\u001b[0m\u001b[37m\u001b[0m \u001b[1m19s\u001b[0m 38ms/step - accuracy: 0.9804 - loss: 0.0745 - val_accuracy: 0.9569 - val_loss: 0.1950\n",
      "Epoch 21/50\n",
      "\u001b[1m505/506\u001b[0m \u001b[32m━━━━━━━━━━━━━━━━━━━\u001b[0m\u001b[37m━\u001b[0m \u001b[1m0s\u001b[0m 32ms/step - accuracy: 0.9838 - loss: 0.0603\n",
      "Epoch 21: val_accuracy did not improve from 0.95691\n",
      "\u001b[1m506/506\u001b[0m \u001b[32m━━━━━━━━━━━━━━━━━━━━\u001b[0m\u001b[37m\u001b[0m \u001b[1m19s\u001b[0m 37ms/step - accuracy: 0.9838 - loss: 0.0603 - val_accuracy: 0.9512 - val_loss: 0.2002\n",
      "Epoch 22/50\n",
      "\u001b[1m505/506\u001b[0m \u001b[32m━━━━━━━━━━━━━━━━━━━\u001b[0m\u001b[37m━\u001b[0m \u001b[1m0s\u001b[0m 32ms/step - accuracy: 0.9872 - loss: 0.0526\n",
      "Epoch 22: val_accuracy did not improve from 0.95691\n",
      "\u001b[1m506/506\u001b[0m \u001b[32m━━━━━━━━━━━━━━━━━━━━\u001b[0m\u001b[37m\u001b[0m \u001b[1m19s\u001b[0m 37ms/step - accuracy: 0.9872 - loss: 0.0526 - val_accuracy: 0.9522 - val_loss: 0.2175\n",
      "Epoch 23/50\n",
      "\u001b[1m505/506\u001b[0m \u001b[32m━━━━━━━━━━━━━━━━━━━\u001b[0m\u001b[37m━\u001b[0m \u001b[1m0s\u001b[0m 32ms/step - accuracy: 0.9825 - loss: 0.0611\n",
      "Epoch 23: val_accuracy did not improve from 0.95691\n",
      "\u001b[1m506/506\u001b[0m \u001b[32m━━━━━━━━━━━━━━━━━━━━\u001b[0m\u001b[37m\u001b[0m \u001b[1m19s\u001b[0m 37ms/step - accuracy: 0.9825 - loss: 0.0611 - val_accuracy: 0.9566 - val_loss: 0.1857\n",
      "Epoch 24/50\n",
      "\u001b[1m505/506\u001b[0m \u001b[32m━━━━━━━━━━━━━━━━━━━\u001b[0m\u001b[37m━\u001b[0m \u001b[1m0s\u001b[0m 32ms/step - accuracy: 0.9869 - loss: 0.0506\n",
      "Epoch 24: val_accuracy improved from 0.95691 to 0.96066, saving model to best_model.weights.h5\n",
      "\u001b[1m506/506\u001b[0m \u001b[32m━━━━━━━━━━━━━━━━━━━━\u001b[0m\u001b[37m\u001b[0m \u001b[1m19s\u001b[0m 37ms/step - accuracy: 0.9869 - loss: 0.0506 - val_accuracy: 0.9607 - val_loss: 0.1721\n",
      "Epoch 25/50\n",
      "\u001b[1m505/506\u001b[0m \u001b[32m━━━━━━━━━━━━━━━━━━━\u001b[0m\u001b[37m━\u001b[0m \u001b[1m0s\u001b[0m 32ms/step - accuracy: 0.9880 - loss: 0.0478\n",
      "Epoch 25: val_accuracy did not improve from 0.96066\n",
      "\u001b[1m506/506\u001b[0m \u001b[32m━━━━━━━━━━━━━━━━━━━━\u001b[0m\u001b[37m\u001b[0m \u001b[1m19s\u001b[0m 37ms/step - accuracy: 0.9880 - loss: 0.0478 - val_accuracy: 0.9591 - val_loss: 0.1878\n",
      "Epoch 26/50\n",
      "\u001b[1m505/506\u001b[0m \u001b[32m━━━━━━━━━━━━━━━━━━━\u001b[0m\u001b[37m━\u001b[0m \u001b[1m0s\u001b[0m 32ms/step - accuracy: 0.9863 - loss: 0.0534\n",
      "Epoch 26: val_accuracy did not improve from 0.96066\n",
      "\u001b[1m506/506\u001b[0m \u001b[32m━━━━━━━━━━━━━━━━━━━━\u001b[0m\u001b[37m\u001b[0m \u001b[1m19s\u001b[0m 37ms/step - accuracy: 0.9863 - loss: 0.0534 - val_accuracy: 0.9602 - val_loss: 0.1880\n",
      "Epoch 27/50\n",
      "\u001b[1m505/506\u001b[0m \u001b[32m━━━━━━━━━━━━━━━━━━━\u001b[0m\u001b[37m━\u001b[0m \u001b[1m0s\u001b[0m 32ms/step - accuracy: 0.9868 - loss: 0.0486\n",
      "Epoch 27: val_accuracy did not improve from 0.96066\n",
      "\u001b[1m506/506\u001b[0m \u001b[32m━━━━━━━━━━━━━━━━━━━━\u001b[0m\u001b[37m\u001b[0m \u001b[1m19s\u001b[0m 37ms/step - accuracy: 0.9867 - loss: 0.0487 - val_accuracy: 0.9584 - val_loss: 0.2069\n",
      "Epoch 28/50\n",
      "\u001b[1m505/506\u001b[0m \u001b[32m━━━━━━━━━━━━━━━━━━━\u001b[0m\u001b[37m━\u001b[0m \u001b[1m0s\u001b[0m 32ms/step - accuracy: 0.9894 - loss: 0.0434\n",
      "Epoch 28: val_accuracy did not improve from 0.96066\n",
      "\u001b[1m506/506\u001b[0m \u001b[32m━━━━━━━━━━━━━━━━━━━━\u001b[0m\u001b[37m\u001b[0m \u001b[1m19s\u001b[0m 37ms/step - accuracy: 0.9894 - loss: 0.0434 - val_accuracy: 0.9571 - val_loss: 0.2291\n",
      "Epoch 29/50\n",
      "\u001b[1m505/506\u001b[0m \u001b[32m━━━━━━━━━━━━━━━━━━━\u001b[0m\u001b[37m━\u001b[0m \u001b[1m0s\u001b[0m 32ms/step - accuracy: 0.9905 - loss: 0.0354\n",
      "Epoch 29: val_accuracy did not improve from 0.96066\n",
      "\u001b[1m506/506\u001b[0m \u001b[32m━━━━━━━━━━━━━━━━━━━━\u001b[0m\u001b[37m\u001b[0m \u001b[1m19s\u001b[0m 37ms/step - accuracy: 0.9905 - loss: 0.0354 - val_accuracy: 0.9584 - val_loss: 0.2128\n",
      "Epoch 30/50\n",
      "\u001b[1m505/506\u001b[0m \u001b[32m━━━━━━━━━━━━━━━━━━━\u001b[0m\u001b[37m━\u001b[0m \u001b[1m0s\u001b[0m 32ms/step - accuracy: 0.9871 - loss: 0.0453\n",
      "Epoch 30: val_accuracy improved from 0.96066 to 0.96152, saving model to best_model.weights.h5\n",
      "\u001b[1m506/506\u001b[0m \u001b[32m━━━━━━━━━━━━━━━━━━━━\u001b[0m\u001b[37m\u001b[0m \u001b[1m19s\u001b[0m 37ms/step - accuracy: 0.9871 - loss: 0.0453 - val_accuracy: 0.9615 - val_loss: 0.2044\n",
      "Epoch 31/50\n",
      "\u001b[1m505/506\u001b[0m \u001b[32m━━━━━━━━━━━━━━━━━━━\u001b[0m\u001b[37m━\u001b[0m \u001b[1m0s\u001b[0m 32ms/step - accuracy: 0.9916 - loss: 0.0340\n",
      "Epoch 31: val_accuracy did not improve from 0.96152\n",
      "\u001b[1m506/506\u001b[0m \u001b[32m━━━━━━━━━━━━━━━━━━━━\u001b[0m\u001b[37m\u001b[0m \u001b[1m19s\u001b[0m 37ms/step - accuracy: 0.9916 - loss: 0.0340 - val_accuracy: 0.9553 - val_loss: 0.2317\n",
      "Epoch 32/50\n",
      "\u001b[1m505/506\u001b[0m \u001b[32m━━━━━━━━━━━━━━━━━━━\u001b[0m\u001b[37m━\u001b[0m \u001b[1m0s\u001b[0m 32ms/step - accuracy: 0.9922 - loss: 0.0315\n",
      "Epoch 32: val_accuracy did not improve from 0.96152\n",
      "\u001b[1m506/506\u001b[0m \u001b[32m━━━━━━━━━━━━━━━━━━━━\u001b[0m\u001b[37m\u001b[0m \u001b[1m19s\u001b[0m 37ms/step - accuracy: 0.9922 - loss: 0.0316 - val_accuracy: 0.9536 - val_loss: 0.2339\n",
      "Epoch 33/50\n",
      "\u001b[1m505/506\u001b[0m \u001b[32m━━━━━━━━━━━━━━━━━━━\u001b[0m\u001b[37m━\u001b[0m \u001b[1m0s\u001b[0m 32ms/step - accuracy: 0.9897 - loss: 0.0381\n",
      "Epoch 33: val_accuracy did not improve from 0.96152\n",
      "\u001b[1m506/506\u001b[0m \u001b[32m━━━━━━━━━━━━━━━━━━━━\u001b[0m\u001b[37m\u001b[0m \u001b[1m19s\u001b[0m 37ms/step - accuracy: 0.9897 - loss: 0.0381 - val_accuracy: 0.9586 - val_loss: 0.2353\n",
      "Epoch 34/50\n",
      "\u001b[1m505/506\u001b[0m \u001b[32m━━━━━━━━━━━━━━━━━━━\u001b[0m\u001b[37m━\u001b[0m \u001b[1m0s\u001b[0m 32ms/step - accuracy: 0.9907 - loss: 0.0356\n",
      "Epoch 34: val_accuracy did not improve from 0.96152\n",
      "\u001b[1m506/506\u001b[0m \u001b[32m━━━━━━━━━━━━━━━━━━━━\u001b[0m\u001b[37m\u001b[0m \u001b[1m19s\u001b[0m 37ms/step - accuracy: 0.9907 - loss: 0.0357 - val_accuracy: 0.9513 - val_loss: 0.2613\n",
      "Epoch 34: early stopping\n",
      "Best weights loaded from best_model.weights.h5\n",
      "Full model saved as best_model.keras\n",
      "Full model saved as best_model.h5\n"
     ]
    }
   ],
   "source": [
    "from tensorflow.keras.models import load_model\n",
    "\n",
    "# EarlyStopping and ModelCheckpoint for saving weights\n",
    "es = EarlyStopping(monitor='val_loss', mode='min', verbose=1, patience=10)\n",
    "mc = ModelCheckpoint('best_model.weights.h5', monitor='val_accuracy', mode='max', verbose=1, save_best_only=True, save_weights_only=True)\n",
    "\n",
    "# Train the model\n",
    "history = model.fit(\n",
    "    X_train,\n",
    "    y_train,\n",
    "    validation_data=(X_test, y_test),\n",
    "    epochs=50,\n",
    "    batch_size=64,\n",
    "    callbacks=[es, mc]\n",
    ")\n",
    "\n",
    "# After training, load the best weights\n",
    "model.load_weights('best_model.weights.h5')\n",
    "print(\"Best weights loaded from best_model.weights.h5\")\n",
    "\n",
    "# Save the full model to .keras format\n",
    "model.save('best_model.keras')\n",
    "print(\"Full model saved as best_model.keras\")\n",
    "\n",
    "# Convert the .keras file to .h5\n",
    "model.save('best_model.h5', save_format='h5')\n",
    "print(\"Full model saved as best_model.h5\")\n"
   ]
  },
  {
   "cell_type": "markdown",
   "id": "011dc501",
   "metadata": {
    "papermill": {
     "duration": 1.197839,
     "end_time": "2024-12-06T06:32:44.573951",
     "exception": false,
     "start_time": "2024-12-06T06:32:43.376112",
     "status": "completed"
    },
    "tags": []
   },
   "source": [
    "### Train the Model"
   ]
  },
  {
   "cell_type": "code",
   "execution_count": 17,
   "id": "f3f3e2f9",
   "metadata": {
    "execution": {
     "iopub.execute_input": "2024-12-06T06:32:46.922559Z",
     "iopub.status.busy": "2024-12-06T06:32:46.922214Z",
     "iopub.status.idle": "2024-12-06T06:34:09.245234Z",
     "shell.execute_reply": "2024-12-06T06:34:09.244353Z"
    },
    "papermill": {
     "duration": 83.552288,
     "end_time": "2024-12-06T06:34:09.246992",
     "exception": false,
     "start_time": "2024-12-06T06:32:45.694704",
     "status": "completed"
    },
    "tags": []
   },
   "outputs": [
    {
     "name": "stdout",
     "output_type": "stream",
     "text": [
      "Epoch 1/100\n",
      "\u001b[1m253/253\u001b[0m \u001b[32m━━━━━━━━━━━━━━━━━━━━\u001b[0m\u001b[37m\u001b[0m \u001b[1m0s\u001b[0m 47ms/step - accuracy: 0.9955 - loss: 0.0214\n",
      "Epoch 1: val_accuracy improved from -inf to 0.96642, saving model to best_model.weights.h5\n",
      "\u001b[1m253/253\u001b[0m \u001b[32m━━━━━━━━━━━━━━━━━━━━\u001b[0m\u001b[37m\u001b[0m \u001b[1m14s\u001b[0m 54ms/step - accuracy: 0.9955 - loss: 0.0214 - val_accuracy: 0.9664 - val_loss: 0.1977\n",
      "Epoch 2/100\n",
      "\u001b[1m253/253\u001b[0m \u001b[32m━━━━━━━━━━━━━━━━━━━━\u001b[0m\u001b[37m\u001b[0m \u001b[1m0s\u001b[0m 47ms/step - accuracy: 0.9970 - loss: 0.0178\n",
      "Epoch 2: val_accuracy did not improve from 0.96642\n",
      "\u001b[1m253/253\u001b[0m \u001b[32m━━━━━━━━━━━━━━━━━━━━\u001b[0m\u001b[37m\u001b[0m \u001b[1m14s\u001b[0m 54ms/step - accuracy: 0.9970 - loss: 0.0178 - val_accuracy: 0.9625 - val_loss: 0.2326\n",
      "Epoch 3/100\n",
      "\u001b[1m252/253\u001b[0m \u001b[32m━━━━━━━━━━━━━━━━━━━\u001b[0m\u001b[37m━\u001b[0m \u001b[1m0s\u001b[0m 47ms/step - accuracy: 0.9966 - loss: 0.0167\n",
      "Epoch 3: val_accuracy did not improve from 0.96642\n",
      "\u001b[1m253/253\u001b[0m \u001b[32m━━━━━━━━━━━━━━━━━━━━\u001b[0m\u001b[37m\u001b[0m \u001b[1m14s\u001b[0m 54ms/step - accuracy: 0.9966 - loss: 0.0167 - val_accuracy: 0.9636 - val_loss: 0.2363\n",
      "Epoch 4/100\n",
      "\u001b[1m253/253\u001b[0m \u001b[32m━━━━━━━━━━━━━━━━━━━━\u001b[0m\u001b[37m\u001b[0m \u001b[1m0s\u001b[0m 47ms/step - accuracy: 0.9963 - loss: 0.0163\n",
      "Epoch 4: val_accuracy did not improve from 0.96642\n",
      "\u001b[1m253/253\u001b[0m \u001b[32m━━━━━━━━━━━━━━━━━━━━\u001b[0m\u001b[37m\u001b[0m \u001b[1m14s\u001b[0m 54ms/step - accuracy: 0.9963 - loss: 0.0163 - val_accuracy: 0.9614 - val_loss: 0.2259\n",
      "Epoch 5/100\n",
      "\u001b[1m253/253\u001b[0m \u001b[32m━━━━━━━━━━━━━━━━━━━━\u001b[0m\u001b[37m\u001b[0m \u001b[1m0s\u001b[0m 47ms/step - accuracy: 0.9955 - loss: 0.0172\n",
      "Epoch 5: val_accuracy did not improve from 0.96642\n",
      "\u001b[1m253/253\u001b[0m \u001b[32m━━━━━━━━━━━━━━━━━━━━\u001b[0m\u001b[37m\u001b[0m \u001b[1m14s\u001b[0m 54ms/step - accuracy: 0.9955 - loss: 0.0172 - val_accuracy: 0.9657 - val_loss: 0.2154\n",
      "Epoch 6/100\n",
      "\u001b[1m253/253\u001b[0m \u001b[32m━━━━━━━━━━━━━━━━━━━━\u001b[0m\u001b[37m\u001b[0m \u001b[1m0s\u001b[0m 47ms/step - accuracy: 0.9954 - loss: 0.0211\n",
      "Epoch 6: val_accuracy did not improve from 0.96642\n",
      "\u001b[1m253/253\u001b[0m \u001b[32m━━━━━━━━━━━━━━━━━━━━\u001b[0m\u001b[37m\u001b[0m \u001b[1m14s\u001b[0m 54ms/step - accuracy: 0.9954 - loss: 0.0212 - val_accuracy: 0.9640 - val_loss: 0.2237\n",
      "Epoch 6: early stopping\n",
      "Best weights loaded from best_model.weights.h5\n",
      "Full model saved as best_model.keras\n",
      "Full model saved as best_model.h5\n"
     ]
    }
   ],
   "source": [
    "from tensorflow.keras.models import load_model\n",
    "\n",
    "# EarlyStopping and ModelCheckpoint for saving weights\n",
    "es = EarlyStopping(monitor='val_loss', mode='min', verbose=1, patience=5)\n",
    "mc = ModelCheckpoint('best_model.weights.h5', monitor='val_accuracy', mode='max', verbose=1, save_best_only=True, save_weights_only=True)\n",
    "\n",
    "# Train the model\n",
    "history = model.fit(\n",
    "    X_train,\n",
    "    y_train,\n",
    "    validation_data=(X_test, y_test),\n",
    "    epochs=100,\n",
    "    batch_size=128,\n",
    "    callbacks=[es, mc]\n",
    ")\n",
    "\n",
    "# After training, load the best weights\n",
    "model.load_weights('best_model.weights.h5')\n",
    "print(\"Best weights loaded from best_model.weights.h5\")\n",
    "\n",
    "# Save the full model to .keras format\n",
    "model.save('best_model.keras')\n",
    "print(\"Full model saved as best_model.keras\")\n",
    "\n",
    "# Convert the .keras file to .h5\n",
    "model.save('best_model.h5', save_format='h5')\n",
    "print(\"Full model saved as best_model.h5\")\n"
   ]
  },
  {
   "cell_type": "code",
   "execution_count": 18,
   "id": "b1743ad7",
   "metadata": {
    "execution": {
     "iopub.execute_input": "2024-12-06T06:34:11.722996Z",
     "iopub.status.busy": "2024-12-06T06:34:11.722180Z",
     "iopub.status.idle": "2024-12-06T06:34:12.665292Z",
     "shell.execute_reply": "2024-12-06T06:34:12.664384Z"
    },
    "papermill": {
     "duration": 2.15554,
     "end_time": "2024-12-06T06:34:12.667076",
     "exception": false,
     "start_time": "2024-12-06T06:34:10.511536",
     "status": "completed"
    },
    "tags": []
   },
   "outputs": [
    {
     "data": {
      "image/png": "[encoded data removed]",
      "text/plain": [
       "<Figure size 1200x500 with 2 Axes>"
      ]
     },
     "metadata": {},
     "output_type": "display_data"
    }
   ],
   "source": [
    "import matplotlib.pyplot as plt\n",
    "\n",
    "# Plot for accuracy\n",
    "plt.figure(figsize=(12, 5))\n",
    "\n",
    "# Subplot for accuracy\n",
    "plt.subplot(1, 2, 1)\n",
    "plt.plot(history.history['accuracy'], label='Train Accuracy')  # Training accuracy\n",
    "plt.plot(history.history['val_accuracy'], label='Validation Accuracy')  # Validation accuracy\n",
    "plt.title('Accuracy per Epoch')  # Title of the plot\n",
    "plt.xlabel('Epochs')  # X-axis label\n",
    "plt.ylabel('Accuracy')  # Y-axis label\n",
    "plt.legend()  # Display legend\n",
    "\n",
    "# Subplot for loss\n",
    "plt.subplot(1, 2, 2)\n",
    "plt.plot(history.history['loss'], label='Train Loss')  # Training loss\n",
    "plt.plot(history.history['val_loss'], label='Validation Loss')  # Validation loss\n",
    "plt.title('Loss per Epoch')  # Title of the plot\n",
    "plt.xlabel('Epochs')  # X-axis label\n",
    "plt.ylabel('Loss')  # Y-axis label\n",
    "plt.legend()  # Display legend\n",
    "\n",
    "# Display the plot\n",
    "plt.tight_layout()  # Adjust layout for better fit\n",
    "plt.show()  # Show the plots"
   ]
  },
  {
   "cell_type": "code",
   "execution_count": 19,
   "id": "7da59397",
   "metadata": {
    "execution": {
     "iopub.execute_input": "2024-12-06T06:34:15.085319Z",
     "iopub.status.busy": "2024-12-06T06:34:15.084955Z",
     "iopub.status.idle": "2024-12-06T06:34:15.088982Z",
     "shell.execute_reply": "2024-12-06T06:34:15.088192Z"
    },
    "papermill": {
     "duration": 1.167261,
     "end_time": "2024-12-06T06:34:15.090912",
     "exception": false,
     "start_time": "2024-12-06T06:34:13.923651",
     "status": "completed"
    },
    "tags": []
   },
   "outputs": [],
   "source": [
    "# from sklearn.metrics import classification_report\n",
    "\n",
    "# # Get model predictions\n",
    "# y_pred = model.predict(X_test)\n",
    "\n",
    "# # Convert predictions and labels from one-hot encoding to integer labels\n",
    "# y_pred_labels = np.argmax(y_pred, axis=1)\n",
    "# y_test_labels = np.argmax(y_test, axis=1)\n",
    "\n",
    "# # Generate the classification report\n",
    "# report = classification_report(y_test_labels, y_pred_labels, target_names=df['status'].unique())\n",
    "\n",
    "# # Print the classification report\n",
    "# print(report)"
   ]
  },
  {
   "cell_type": "code",
   "execution_count": 20,
   "id": "a709e682",
   "metadata": {
    "execution": {
     "iopub.execute_input": "2024-12-06T06:34:17.588022Z",
     "iopub.status.busy": "2024-12-06T06:34:17.587383Z",
     "iopub.status.idle": "2024-12-06T06:34:22.432601Z",
     "shell.execute_reply": "2024-12-06T06:34:22.431686Z"
    },
    "papermill": {
     "duration": 6.076682,
     "end_time": "2024-12-06T06:34:22.434426",
     "exception": false,
     "start_time": "2024-12-06T06:34:16.357744",
     "status": "completed"
    },
    "tags": []
   },
   "outputs": [
    {
     "name": "stdout",
     "output_type": "stream",
     "text": [
      "\u001b[1m434/434\u001b[0m \u001b[32m━━━━━━━━━━━━━━━━━━━━\u001b[0m\u001b[37m\u001b[0m \u001b[1m5s\u001b[0m 11ms/step - accuracy: 0.9656 - loss: 0.1974\n",
      "Test Loss: 0.1976792812347412\n",
      "Test Accuracy: 0.9664216637611389\n"
     ]
    }
   ],
   "source": [
    "\n",
    "loss, accuracy = model.evaluate(X_test, y_test, verbose=1)\n",
    "print(f\"Test Loss: {loss}\")\n",
    "print(f\"Test Accuracy: {accuracy}\")"
   ]
  },
  {
   "cell_type": "markdown",
   "id": "f806f040",
   "metadata": {
    "papermill": {
     "duration": 1.211492,
     "end_time": "2024-12-06T06:34:24.903684",
     "exception": false,
     "start_time": "2024-12-06T06:34:23.692192",
     "status": "completed"
    },
    "tags": []
   },
   "source": [
    "### Model Evaluation"
   ]
  },
  {
   "cell_type": "code",
   "execution_count": null,
   "id": "c8196ec8",
   "metadata": {
    "papermill": {
     "duration": 1.196713,
     "end_time": "2024-12-06T06:34:27.314621",
     "exception": false,
     "start_time": "2024-12-06T06:34:26.117908",
     "status": "completed"
    },
    "tags": []
   },
   "outputs": [],
   "source": []
  },
  {
   "cell_type": "code",
   "execution_count": null,
   "id": "b9907aaf",
   "metadata": {
    "papermill": {
     "duration": 1.217171,
     "end_time": "2024-12-06T06:34:29.800575",
     "exception": false,
     "start_time": "2024-12-06T06:34:28.583404",
     "status": "completed"
    },
    "tags": []
   },
   "outputs": [],
   "source": []
  }
 ],
 "metadata": {
  "kaggle": {
   "accelerator": "nvidiaTeslaT4",
   "dataSources": [
    {
     "datasetId": 5338273,
     "sourceId": 8870083,
     "sourceType": "datasetVersion"
    },
    {
     "datasetId": 6241587,
     "sourceId": 10116235,
     "sourceType": "datasetVersion"
    }
   ],
   "dockerImageVersionId": 30787,
   "isGpuEnabled": true,
   "isInternetEnabled": true,
   "language": "python",
   "sourceType": "notebook"
  },
  "kernelspec": {
   "display_name": "Python 3",
   "language": "python",
   "name": "python3"
  },
  "language_info": {
   "codemirror_mode": {
    "name": "ipython",
    "version": 3
   },
   "file_extension": ".py",
   "mimetype": "text/x-python",
   "name": "python",
   "nbconvert_exporter": "python",
   "pygments_lexer": "ipython3",
   "version": "3.10.14"
  },
  "papermill": {
   "default_parameters": {},
   "duration": 870.204995,
   "end_time": "2024-12-06T06:34:33.959500",
   "environment_variables": {},
   "exception": null,
   "input_path": "__notebook__.ipynb",
   "output_path": "__notebook__.ipynb",
   "parameters": {},
   "start_time": "2024-12-06T06:20:03.754505",
   "version": "2.6.0"
  }
 },
 "nbformat": 4,
 "nbformat_minor": 5
}
