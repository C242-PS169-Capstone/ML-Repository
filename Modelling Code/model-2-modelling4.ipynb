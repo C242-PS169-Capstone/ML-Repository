{
 "cells": [
  {
   "cell_type": "markdown",
   "id": "83cb6d46",
   "metadata": {
    "papermill": {
     "duration": 0.005258,
     "end_time": "2024-12-06T07:14:27.565672",
     "exception": false,
     "start_time": "2024-12-06T07:14:27.560414",
     "status": "completed"
    },
    "tags": []
   },
   "source": [
    "### Read Data"
   ]
  },
  {
   "cell_type": "code",
   "execution_count": 1,
   "id": "c6e47f30",
   "metadata": {
    "execution": {
     "iopub.execute_input": "2024-12-06T07:14:27.576400Z",
     "iopub.status.busy": "2024-12-06T07:14:27.575828Z",
     "iopub.status.idle": "2024-12-06T07:14:57.801121Z",
     "shell.execute_reply": "2024-12-06T07:14:57.800463Z"
    },
    "papermill": {
     "duration": 30.232514,
     "end_time": "2024-12-06T07:14:57.803072",
     "exception": false,
     "start_time": "2024-12-06T07:14:27.570558",
     "status": "completed"
    },
    "tags": []
   },
   "outputs": [],
   "source": [
    "# Import Libraries\n",
    "import pandas as pd\n",
    "import ast\n",
    "from sklearn.preprocessing import LabelEncoder\n",
    "from transformers import BertTokenizer, TFBertModel\n",
    "from sklearn.model_selection import train_test_split\n",
    "from tensorflow.keras.models import Model\n",
    "from tensorflow.keras.layers import Input, GRU, Dense, Dropout, BatchNormalization\n",
    "from tensorflow.keras.callbacks import EarlyStopping, ModelCheckpoint\n",
    "import tensorflow as tf"
   ]
  },
  {
   "cell_type": "code",
   "execution_count": 2,
   "id": "7dd92d12",
   "metadata": {
    "execution": {
     "iopub.execute_input": "2024-12-06T07:14:57.814383Z",
     "iopub.status.busy": "2024-12-06T07:14:57.813873Z",
     "iopub.status.idle": "2024-12-06T07:14:58.215889Z",
     "shell.execute_reply": "2024-12-06T07:14:58.214924Z"
    },
    "papermill": {
     "duration": 0.410208,
     "end_time": "2024-12-06T07:14:58.217919",
     "exception": false,
     "start_time": "2024-12-06T07:14:57.807711",
     "status": "completed"
    },
    "tags": []
   },
   "outputs": [],
   "source": [
    "\n",
    "\n",
    "# Read data from CSV\n",
    "file_path = '/kaggle/input/data-model2/data_model2.csv'\n",
    "df = pd.read_csv(file_path)"
   ]
  },
  {
   "cell_type": "code",
   "execution_count": 3,
   "id": "ce7392c9",
   "metadata": {
    "execution": {
     "iopub.execute_input": "2024-12-06T07:14:58.239092Z",
     "iopub.status.busy": "2024-12-06T07:14:58.238793Z",
     "iopub.status.idle": "2024-12-06T07:15:01.431475Z",
     "shell.execute_reply": "2024-12-06T07:15:01.430397Z"
    },
    "papermill": {
     "duration": 3.200546,
     "end_time": "2024-12-06T07:15:01.433721",
     "exception": false,
     "start_time": "2024-12-06T07:14:58.233175",
     "status": "completed"
    },
    "tags": []
   },
   "outputs": [],
   "source": [
    "# Convert string literals to Python lists\n",
    "df['statement'] = df['statement'].apply(lambda x: ast.literal_eval(x) if isinstance(x, str) else x)\n",
    "\n",
    "# Join lists into sentences\n",
    "df['statement'] = df['statement'].apply(lambda x: ' '.join(x) if isinstance(x, list) else x)\n"
   ]
  },
  {
   "cell_type": "code",
   "execution_count": 4,
   "id": "f5a2c6cc",
   "metadata": {
    "execution": {
     "iopub.execute_input": "2024-12-06T07:15:01.443679Z",
     "iopub.status.busy": "2024-12-06T07:15:01.443387Z",
     "iopub.status.idle": "2024-12-06T07:15:01.457670Z",
     "shell.execute_reply": "2024-12-06T07:15:01.456839Z"
    },
    "papermill": {
     "duration": 0.020961,
     "end_time": "2024-12-06T07:15:01.459264",
     "exception": false,
     "start_time": "2024-12-06T07:15:01.438303",
     "status": "completed"
    },
    "tags": []
   },
   "outputs": [
    {
     "data": {
      "text/html": [
       "<div>\n",
       "<style scoped>\n",
       "    .dataframe tbody tr th:only-of-type {\n",
       "        vertical-align: middle;\n",
       "    }\n",
       "\n",
       "    .dataframe tbody tr th {\n",
       "        vertical-align: top;\n",
       "    }\n",
       "\n",
       "    .dataframe thead th {\n",
       "        text-align: right;\n",
       "    }\n",
       "</style>\n",
       "<table border=\"1\" class=\"dataframe\">\n",
       "  <thead>\n",
       "    <tr style=\"text-align: right;\">\n",
       "      <th></th>\n",
       "      <th>Unnamed: 0</th>\n",
       "      <th>statement</th>\n",
       "      <th>status</th>\n",
       "    </tr>\n",
       "  </thead>\n",
       "  <tbody>\n",
       "    <tr>\n",
       "      <th>0</th>\n",
       "      <td>0</td>\n",
       "      <td>oh gosh</td>\n",
       "      <td>2</td>\n",
       "    </tr>\n",
       "    <tr>\n",
       "      <th>1</th>\n",
       "      <td>1</td>\n",
       "      <td>trouble sleep confused mind restless heart tune</td>\n",
       "      <td>2</td>\n",
       "    </tr>\n",
       "    <tr>\n",
       "      <th>2</th>\n",
       "      <td>2</td>\n",
       "      <td>wrong back dear forward doubt stay restless re...</td>\n",
       "      <td>2</td>\n",
       "    </tr>\n",
       "    <tr>\n",
       "      <th>3</th>\n",
       "      <td>3</td>\n",
       "      <td>shift focus something else still worry</td>\n",
       "      <td>2</td>\n",
       "    </tr>\n",
       "    <tr>\n",
       "      <th>4</th>\n",
       "      <td>4</td>\n",
       "      <td>restless restless month boy mean</td>\n",
       "      <td>2</td>\n",
       "    </tr>\n",
       "  </tbody>\n",
       "</table>\n",
       "</div>"
      ],
      "text/plain": [
       "   Unnamed: 0                                          statement  status\n",
       "0           0                                            oh gosh       2\n",
       "1           1    trouble sleep confused mind restless heart tune       2\n",
       "2           2  wrong back dear forward doubt stay restless re...       2\n",
       "3           3             shift focus something else still worry       2\n",
       "4           4                   restless restless month boy mean       2"
      ]
     },
     "execution_count": 4,
     "metadata": {},
     "output_type": "execute_result"
    }
   ],
   "source": [
    "df.head()"
   ]
  },
  {
   "cell_type": "markdown",
   "id": "d254b4b7",
   "metadata": {
    "papermill": {
     "duration": 0.004264,
     "end_time": "2024-12-06T07:15:01.467988",
     "exception": false,
     "start_time": "2024-12-06T07:15:01.463724",
     "status": "completed"
    },
    "tags": []
   },
   "source": [
    "### Resampling for more balance data"
   ]
  },
  {
   "cell_type": "code",
   "execution_count": 5,
   "id": "c886cea5",
   "metadata": {
    "execution": {
     "iopub.execute_input": "2024-12-06T07:15:01.477842Z",
     "iopub.status.busy": "2024-12-06T07:15:01.477598Z",
     "iopub.status.idle": "2024-12-06T07:15:01.495515Z",
     "shell.execute_reply": "2024-12-06T07:15:01.494644Z"
    },
    "papermill": {
     "duration": 0.024689,
     "end_time": "2024-12-06T07:15:01.497023",
     "exception": false,
     "start_time": "2024-12-06T07:15:01.472334",
     "status": "completed"
    },
    "tags": []
   },
   "outputs": [],
   "source": [
    "from sklearn.utils import resample\n",
    "df_sample = df.sample(n=20000,random_state=2024)\n",
    "majority_size = len(df_sample[df_sample['status']==0])\n",
    "\n",
    "def resampling(df):\n",
    "  minority_resample = resample(df,replace=True, n_samples=majority_size,random_state=22)\n",
    "  return minority_resample"
   ]
  },
  {
   "cell_type": "code",
   "execution_count": 6,
   "id": "9004ad2e",
   "metadata": {
    "execution": {
     "iopub.execute_input": "2024-12-06T07:15:01.506822Z",
     "iopub.status.busy": "2024-12-06T07:15:01.506575Z",
     "iopub.status.idle": "2024-12-06T07:15:01.533186Z",
     "shell.execute_reply": "2024-12-06T07:15:01.532478Z"
    },
    "papermill": {
     "duration": 0.03341,
     "end_time": "2024-12-06T07:15:01.534833",
     "exception": false,
     "start_time": "2024-12-06T07:15:01.501423",
     "status": "completed"
    },
    "tags": []
   },
   "outputs": [
    {
     "data": {
      "text/plain": [
       "status\n",
       "0    7710\n",
       "1    7710\n",
       "2    7710\n",
       "3    7710\n",
       "4    7710\n",
       "5    7710\n",
       "Name: count, dtype: int64"
      ]
     },
     "execution_count": 6,
     "metadata": {},
     "output_type": "execute_result"
    }
   ],
   "source": [
    "df_sample_1 = resampling(df_sample[df_sample['status']==1])\n",
    "df_sample_2 = resampling(df_sample[df_sample['status']==2])\n",
    "df_sample_3 = resampling(df_sample[df_sample['status']==3])\n",
    "df_sample_4 = resampling(df_sample[df_sample['status']==4])\n",
    "df_sample_5 = resampling(df_sample[df_sample['status']==5])\n",
    "\n",
    "df_new =pd.concat([df_sample[df_sample['status']==0],df_sample_1,df_sample_2,df_sample_3,df_sample_4,df_sample_5], axis=0).reset_index(drop=True)\n",
    "df_new['status'].value_counts()"
   ]
  },
  {
   "cell_type": "code",
   "execution_count": 7,
   "id": "040a7b66",
   "metadata": {
    "execution": {
     "iopub.execute_input": "2024-12-06T07:15:01.545165Z",
     "iopub.status.busy": "2024-12-06T07:15:01.544722Z",
     "iopub.status.idle": "2024-12-06T07:15:01.551996Z",
     "shell.execute_reply": "2024-12-06T07:15:01.551179Z"
    },
    "papermill": {
     "duration": 0.014048,
     "end_time": "2024-12-06T07:15:01.553501",
     "exception": false,
     "start_time": "2024-12-06T07:15:01.539453",
     "status": "completed"
    },
    "tags": []
   },
   "outputs": [
    {
     "data": {
      "text/html": [
       "<div>\n",
       "<style scoped>\n",
       "    .dataframe tbody tr th:only-of-type {\n",
       "        vertical-align: middle;\n",
       "    }\n",
       "\n",
       "    .dataframe tbody tr th {\n",
       "        vertical-align: top;\n",
       "    }\n",
       "\n",
       "    .dataframe thead th {\n",
       "        text-align: right;\n",
       "    }\n",
       "</style>\n",
       "<table border=\"1\" class=\"dataframe\">\n",
       "  <thead>\n",
       "    <tr style=\"text-align: right;\">\n",
       "      <th></th>\n",
       "      <th>Unnamed: 0</th>\n",
       "      <th>statement</th>\n",
       "      <th>status</th>\n",
       "    </tr>\n",
       "  </thead>\n",
       "  <tbody>\n",
       "    <tr>\n",
       "      <th>0</th>\n",
       "      <td>42422</td>\n",
       "      <td>real n twitter hate u</td>\n",
       "      <td>0</td>\n",
       "    </tr>\n",
       "    <tr>\n",
       "      <th>1</th>\n",
       "      <td>4204</td>\n",
       "      <td>two</td>\n",
       "      <td>0</td>\n",
       "    </tr>\n",
       "    <tr>\n",
       "      <th>2</th>\n",
       "      <td>2180</td>\n",
       "      <td>love matter far near determine mine love death...</td>\n",
       "      <td>0</td>\n",
       "    </tr>\n",
       "    <tr>\n",
       "      <th>3</th>\n",
       "      <td>6269</td>\n",
       "      <td>father s obligation feed clothe mother good way</td>\n",
       "      <td>0</td>\n",
       "    </tr>\n",
       "    <tr>\n",
       "      <th>4</th>\n",
       "      <td>5093</td>\n",
       "      <td>mutual let we</td>\n",
       "      <td>0</td>\n",
       "    </tr>\n",
       "  </tbody>\n",
       "</table>\n",
       "</div>"
      ],
      "text/plain": [
       "   Unnamed: 0                                          statement  status\n",
       "0       42422                              real n twitter hate u       0\n",
       "1        4204                                                two       0\n",
       "2        2180  love matter far near determine mine love death...       0\n",
       "3        6269    father s obligation feed clothe mother good way       0\n",
       "4        5093                                      mutual let we       0"
      ]
     },
     "execution_count": 7,
     "metadata": {},
     "output_type": "execute_result"
    }
   ],
   "source": [
    "df_new.head()"
   ]
  },
  {
   "cell_type": "code",
   "execution_count": null,
   "id": "736a9112",
   "metadata": {
    "papermill": {
     "duration": 0.004401,
     "end_time": "2024-12-06T07:15:01.562596",
     "exception": false,
     "start_time": "2024-12-06T07:15:01.558195",
     "status": "completed"
    },
    "tags": []
   },
   "outputs": [],
   "source": []
  },
  {
   "cell_type": "markdown",
   "id": "1727edfc",
   "metadata": {
    "papermill": {
     "duration": 0.004515,
     "end_time": "2024-12-06T07:15:01.571673",
     "exception": false,
     "start_time": "2024-12-06T07:15:01.567158",
     "status": "completed"
    },
    "tags": []
   },
   "source": [
    "## Modelling"
   ]
  },
  {
   "cell_type": "code",
   "execution_count": 8,
   "id": "bf5a627d",
   "metadata": {
    "execution": {
     "iopub.execute_input": "2024-12-06T07:15:01.582143Z",
     "iopub.status.busy": "2024-12-06T07:15:01.581640Z",
     "iopub.status.idle": "2024-12-06T07:15:04.699675Z",
     "shell.execute_reply": "2024-12-06T07:15:04.698644Z"
    },
    "papermill": {
     "duration": 3.125093,
     "end_time": "2024-12-06T07:15:04.701409",
     "exception": false,
     "start_time": "2024-12-06T07:15:01.576316",
     "status": "completed"
    },
    "tags": []
   },
   "outputs": [
    {
     "name": "stderr",
     "output_type": "stream",
     "text": [
      "/opt/conda/lib/python3.10/pty.py:89: RuntimeWarning: os.fork() was called. os.fork() is incompatible with multithreaded code, and JAX is multithreaded, so this will likely lead to a deadlock.\n",
      "  pid, fd = os.forkpty()\n"
     ]
    },
    {
     "name": "stdout",
     "output_type": "stream",
     "text": [
      "Requirement already satisfied: gensim in /opt/conda/lib/python3.10/site-packages (4.3.3)\r\n",
      "Note: you may need to restart the kernel to use updated packages.\n"
     ]
    }
   ],
   "source": [
    "pip install gensim --no-deps\n"
   ]
  },
  {
   "cell_type": "code",
   "execution_count": 9,
   "id": "11ecc5bc",
   "metadata": {
    "execution": {
     "iopub.execute_input": "2024-12-06T07:15:04.713316Z",
     "iopub.status.busy": "2024-12-06T07:15:04.712474Z",
     "iopub.status.idle": "2024-12-06T07:15:19.146054Z",
     "shell.execute_reply": "2024-12-06T07:15:19.145344Z"
    },
    "papermill": {
     "duration": 14.441615,
     "end_time": "2024-12-06T07:15:19.148158",
     "exception": false,
     "start_time": "2024-12-06T07:15:04.706543",
     "status": "completed"
    },
    "tags": []
   },
   "outputs": [],
   "source": [
    "from tensorflow.keras.preprocessing.text import Tokenizer\n",
    "from tensorflow.keras.preprocessing.sequence import pad_sequences\n",
    "import gensim.downloader as api\n",
    "import numpy as np\n",
    "from sklearn.model_selection import train_test_split\n",
    "from keras.models import Sequential\n",
    "from keras.layers import Embedding, Dropout, Dense\n",
    "from keras.layers import GRU\n",
    "from keras.callbacks import EarlyStopping, ModelCheckpoint\n",
    "\n"
   ]
  },
  {
   "cell_type": "markdown",
   "id": "bac6b30c",
   "metadata": {
    "papermill": {
     "duration": 0.00478,
     "end_time": "2024-12-06T07:15:19.158313",
     "exception": false,
     "start_time": "2024-12-06T07:15:19.153533",
     "status": "completed"
    },
    "tags": []
   },
   "source": [
    "### Tokenization with keras"
   ]
  },
  {
   "cell_type": "code",
   "execution_count": 10,
   "id": "35c2ac5a",
   "metadata": {
    "execution": {
     "iopub.execute_input": "2024-12-06T07:15:19.169027Z",
     "iopub.status.busy": "2024-12-06T07:15:19.168760Z",
     "iopub.status.idle": "2024-12-06T07:15:22.168650Z",
     "shell.execute_reply": "2024-12-06T07:15:22.167825Z"
    },
    "papermill": {
     "duration": 3.007558,
     "end_time": "2024-12-06T07:15:22.170631",
     "exception": false,
     "start_time": "2024-12-06T07:15:19.163073",
     "status": "completed"
    },
    "tags": []
   },
   "outputs": [],
   "source": [
    "# Configuration\n",
    "EMBEDDING_DIM = 100  # Dimension of word embeddings\n",
    "MAX_NUM_WORDS = 10000  # Maximum number of unique words\n",
    "MAX_SEQUENCE_LENGTH = 200  # Fixed sequence length for all input data\n",
    "\n",
    "\n",
    "\n",
    "# Tokenizer: Train and convert text to sequences\n",
    "tokenizer = Tokenizer(num_words=MAX_NUM_WORDS, lower=True)  # Limit vocabulary size and convert to lowercase\n",
    "tokenizer.fit_on_texts(df_new['statement'])  # Learn the vocabulary from the text data\n",
    "X = tokenizer.texts_to_sequences(df_new['statement'])  # Convert text to numerical sequences\n",
    "\n",
    "# Pad sequences to ensure uniform length\n",
    "X = pad_sequences(X, maxlen=MAX_SEQUENCE_LENGTH, padding='post')  # Add padding at the end of sequences\n"
   ]
  },
  {
   "cell_type": "code",
   "execution_count": 11,
   "id": "9846477c",
   "metadata": {
    "execution": {
     "iopub.execute_input": "2024-12-06T07:15:22.182165Z",
     "iopub.status.busy": "2024-12-06T07:15:22.181855Z",
     "iopub.status.idle": "2024-12-06T07:15:22.195124Z",
     "shell.execute_reply": "2024-12-06T07:15:22.194334Z"
    },
    "papermill": {
     "duration": 0.020722,
     "end_time": "2024-12-06T07:15:22.196764",
     "exception": false,
     "start_time": "2024-12-06T07:15:22.176042",
     "status": "completed"
    },
    "tags": []
   },
   "outputs": [
    {
     "name": "stdout",
     "output_type": "stream",
     "text": [
      "Tokenizer has been saved to tokenizer.pkl\n"
     ]
    }
   ],
   "source": [
    "import pickle\n",
    "\n",
    "# Save the tokenizer to a .pkl file\n",
    "with open('tokenizer.pkl', 'wb') as file:\n",
    "    pickle.dump(tokenizer, file)\n",
    "print(\"Tokenizer has been saved to tokenizer.pkl\")\n"
   ]
  },
  {
   "cell_type": "code",
   "execution_count": 12,
   "id": "e420fbc4",
   "metadata": {
    "execution": {
     "iopub.execute_input": "2024-12-06T07:15:22.207714Z",
     "iopub.status.busy": "2024-12-06T07:15:22.207438Z",
     "iopub.status.idle": "2024-12-06T07:15:22.216691Z",
     "shell.execute_reply": "2024-12-06T07:15:22.215943Z"
    },
    "papermill": {
     "duration": 0.016417,
     "end_time": "2024-12-06T07:15:22.218199",
     "exception": false,
     "start_time": "2024-12-06T07:15:22.201782",
     "status": "completed"
    },
    "tags": []
   },
   "outputs": [
    {
     "data": {
      "text/html": [
       "<div>\n",
       "<style scoped>\n",
       "    .dataframe tbody tr th:only-of-type {\n",
       "        vertical-align: middle;\n",
       "    }\n",
       "\n",
       "    .dataframe tbody tr th {\n",
       "        vertical-align: top;\n",
       "    }\n",
       "\n",
       "    .dataframe thead th {\n",
       "        text-align: right;\n",
       "    }\n",
       "</style>\n",
       "<table border=\"1\" class=\"dataframe\">\n",
       "  <thead>\n",
       "    <tr style=\"text-align: right;\">\n",
       "      <th></th>\n",
       "      <th>Unnamed: 0</th>\n",
       "      <th>statement</th>\n",
       "      <th>status</th>\n",
       "    </tr>\n",
       "  </thead>\n",
       "  <tbody>\n",
       "    <tr>\n",
       "      <th>0</th>\n",
       "      <td>42422</td>\n",
       "      <td>real n twitter hate u</td>\n",
       "      <td>0</td>\n",
       "    </tr>\n",
       "    <tr>\n",
       "      <th>1</th>\n",
       "      <td>4204</td>\n",
       "      <td>two</td>\n",
       "      <td>0</td>\n",
       "    </tr>\n",
       "    <tr>\n",
       "      <th>2</th>\n",
       "      <td>2180</td>\n",
       "      <td>love matter far near determine mine love death...</td>\n",
       "      <td>0</td>\n",
       "    </tr>\n",
       "    <tr>\n",
       "      <th>3</th>\n",
       "      <td>6269</td>\n",
       "      <td>father s obligation feed clothe mother good way</td>\n",
       "      <td>0</td>\n",
       "    </tr>\n",
       "    <tr>\n",
       "      <th>4</th>\n",
       "      <td>5093</td>\n",
       "      <td>mutual let we</td>\n",
       "      <td>0</td>\n",
       "    </tr>\n",
       "    <tr>\n",
       "      <th>5</th>\n",
       "      <td>5456</td>\n",
       "      <td>come want check k file turn u</td>\n",
       "      <td>0</td>\n",
       "    </tr>\n",
       "    <tr>\n",
       "      <th>6</th>\n",
       "      <td>4154</td>\n",
       "      <td>al ham h oh god touch</td>\n",
       "      <td>0</td>\n",
       "    </tr>\n",
       "    <tr>\n",
       "      <th>7</th>\n",
       "      <td>33037</td>\n",
       "      <td>yes land reporter army band</td>\n",
       "      <td>0</td>\n",
       "    </tr>\n",
       "    <tr>\n",
       "      <th>8</th>\n",
       "      <td>42350</td>\n",
       "      <td>earthquake ha make sad saw pic news terrible</td>\n",
       "      <td>0</td>\n",
       "    </tr>\n",
       "    <tr>\n",
       "      <th>9</th>\n",
       "      <td>42535</td>\n",
       "      <td>yeah application run every minute add conflict ti</td>\n",
       "      <td>0</td>\n",
       "    </tr>\n",
       "    <tr>\n",
       "      <th>10</th>\n",
       "      <td>33241</td>\n",
       "      <td>get free food</td>\n",
       "      <td>0</td>\n",
       "    </tr>\n",
       "    <tr>\n",
       "      <th>11</th>\n",
       "      <td>42385</td>\n",
       "      <td>er sorry hear dog</td>\n",
       "      <td>0</td>\n",
       "    </tr>\n",
       "    <tr>\n",
       "      <th>12</th>\n",
       "      <td>5345</td>\n",
       "      <td>bus set lot bat</td>\n",
       "      <td>0</td>\n",
       "    </tr>\n",
       "    <tr>\n",
       "      <th>13</th>\n",
       "      <td>44088</td>\n",
       "      <td>kind sad find</td>\n",
       "      <td>0</td>\n",
       "    </tr>\n",
       "    <tr>\n",
       "      <th>14</th>\n",
       "      <td>4044</td>\n",
       "      <td>keep think positive even though positive think</td>\n",
       "      <td>0</td>\n",
       "    </tr>\n",
       "    <tr>\n",
       "      <th>15</th>\n",
       "      <td>41845</td>\n",
       "      <td>wish tag tag thing nonsense tire</td>\n",
       "      <td>0</td>\n",
       "    </tr>\n",
       "    <tr>\n",
       "      <th>16</th>\n",
       "      <td>4477</td>\n",
       "      <td>ho date</td>\n",
       "      <td>0</td>\n",
       "    </tr>\n",
       "    <tr>\n",
       "      <th>17</th>\n",
       "      <td>37332</td>\n",
       "      <td>weird pizza place stand room around dinner ti ...</td>\n",
       "      <td>0</td>\n",
       "    </tr>\n",
       "    <tr>\n",
       "      <th>18</th>\n",
       "      <td>37021</td>\n",
       "      <td>love cap jo ross happy birthday live sh</td>\n",
       "      <td>0</td>\n",
       "    </tr>\n",
       "    <tr>\n",
       "      <th>19</th>\n",
       "      <td>6327</td>\n",
       "      <td>file file control</td>\n",
       "      <td>0</td>\n",
       "    </tr>\n",
       "  </tbody>\n",
       "</table>\n",
       "</div>"
      ],
      "text/plain": [
       "    Unnamed: 0                                          statement  status\n",
       "0        42422                              real n twitter hate u       0\n",
       "1         4204                                                two       0\n",
       "2         2180  love matter far near determine mine love death...       0\n",
       "3         6269    father s obligation feed clothe mother good way       0\n",
       "4         5093                                      mutual let we       0\n",
       "5         5456                      come want check k file turn u       0\n",
       "6         4154                              al ham h oh god touch       0\n",
       "7        33037                        yes land reporter army band       0\n",
       "8        42350       earthquake ha make sad saw pic news terrible       0\n",
       "9        42535  yeah application run every minute add conflict ti       0\n",
       "10       33241                                      get free food       0\n",
       "11       42385                                  er sorry hear dog       0\n",
       "12        5345                                    bus set lot bat       0\n",
       "13       44088                                      kind sad find       0\n",
       "14        4044     keep think positive even though positive think       0\n",
       "15       41845                   wish tag tag thing nonsense tire       0\n",
       "16        4477                                            ho date       0\n",
       "17       37332  weird pizza place stand room around dinner ti ...       0\n",
       "18       37021            love cap jo ross happy birthday live sh       0\n",
       "19        6327                                  file file control       0"
      ]
     },
     "execution_count": 12,
     "metadata": {},
     "output_type": "execute_result"
    }
   ],
   "source": [
    "df_new.head(20)"
   ]
  },
  {
   "cell_type": "markdown",
   "id": "7c544652",
   "metadata": {
    "papermill": {
     "duration": 0.004808,
     "end_time": "2024-12-06T07:15:22.228129",
     "exception": false,
     "start_time": "2024-12-06T07:15:22.223321",
     "status": "completed"
    },
    "tags": []
   },
   "source": [
    "### Convert label to one-hot encoding"
   ]
  },
  {
   "cell_type": "code",
   "execution_count": 13,
   "id": "525ec799",
   "metadata": {
    "execution": {
     "iopub.execute_input": "2024-12-06T07:15:22.239191Z",
     "iopub.status.busy": "2024-12-06T07:15:22.238943Z",
     "iopub.status.idle": "2024-12-06T07:15:22.266691Z",
     "shell.execute_reply": "2024-12-06T07:15:22.265939Z"
    },
    "papermill": {
     "duration": 0.035325,
     "end_time": "2024-12-06T07:15:22.268536",
     "exception": false,
     "start_time": "2024-12-06T07:15:22.233211",
     "status": "completed"
    },
    "tags": []
   },
   "outputs": [],
   "source": [
    "# Convert labels to one-hot encoding\n",
    "y = pd.get_dummies(df_new['status']).values  # Transform class labels into a binary matrix\n",
    "\n",
    "# Split data into training and testing sets\n",
    "X_train, X_test, y_train, y_test = train_test_split(X, y, test_size=0.3, random_state=42)\n",
    "# `test_size=0.3` allocates 30% of the data for testing, 70% for training\n",
    "# `random_state=42` ensures reproducibility of the split\n",
    "\n"
   ]
  },
  {
   "cell_type": "markdown",
   "id": "e12f25f3",
   "metadata": {
    "papermill": {
     "duration": 0.004906,
     "end_time": "2024-12-06T07:15:22.278751",
     "exception": false,
     "start_time": "2024-12-06T07:15:22.273845",
     "status": "completed"
    },
    "tags": []
   },
   "source": [
    "### Word Embedding"
   ]
  },
  {
   "cell_type": "code",
   "execution_count": 14,
   "id": "353611e6",
   "metadata": {
    "execution": {
     "iopub.execute_input": "2024-12-06T07:15:22.289692Z",
     "iopub.status.busy": "2024-12-06T07:15:22.289408Z",
     "iopub.status.idle": "2024-12-06T07:16:06.495447Z",
     "shell.execute_reply": "2024-12-06T07:16:06.494717Z"
    },
    "papermill": {
     "duration": 44.213787,
     "end_time": "2024-12-06T07:16:06.497429",
     "exception": false,
     "start_time": "2024-12-06T07:15:22.283642",
     "status": "completed"
    },
    "tags": []
   },
   "outputs": [
    {
     "name": "stdout",
     "output_type": "stream",
     "text": [
      "[==================================================] 100.0% 128.1/128.1MB downloaded\n"
     ]
    }
   ],
   "source": [
    "# Download and load pre-trained GloVe embeddings (100 dimensions)\n",
    "glove_gensim = api.load('glove-wiki-gigaword-100')\n",
    "\n",
    "# Create a weight matrix for the embedding layer\n",
    "gensim_weight_matrix = np.zeros((MAX_NUM_WORDS, EMBEDDING_DIM))  # Initialize with zeros\n",
    "\n",
    "# Populate the weight matrix with GloVe vectors for words in the tokenizer's vocabulary\n",
    "for word, index in tokenizer.word_index.items():\n",
    "    if index < MAX_NUM_WORDS:  # Ensure the index is within the specified maximum word limit\n",
    "        if word in glove_gensim.index_to_key:  # Check if the word exists in the GloVe vocabulary\n",
    "            gensim_weight_matrix[index] = glove_gensim[word]  # Assign the GloVe vector\n",
    "        else:\n",
    "            gensim_weight_matrix[index] = np.zeros(EMBEDDING_DIM)  # Assign a zero vector if the word is not found\n"
   ]
  },
  {
   "cell_type": "markdown",
   "id": "2fe4d08c",
   "metadata": {
    "papermill": {
     "duration": 0.781663,
     "end_time": "2024-12-06T07:16:08.060751",
     "exception": false,
     "start_time": "2024-12-06T07:16:07.279088",
     "status": "completed"
    },
    "tags": []
   },
   "source": [
    "### Build the Model"
   ]
  },
  {
   "cell_type": "code",
   "execution_count": 15,
   "id": "5787596f",
   "metadata": {
    "execution": {
     "iopub.execute_input": "2024-12-06T07:16:09.535344Z",
     "iopub.status.busy": "2024-12-06T07:16:09.534943Z",
     "iopub.status.idle": "2024-12-06T07:16:11.431591Z",
     "shell.execute_reply": "2024-12-06T07:16:11.430695Z"
    },
    "papermill": {
     "duration": 2.619412,
     "end_time": "2024-12-06T07:16:11.433202",
     "exception": false,
     "start_time": "2024-12-06T07:16:08.813790",
     "status": "completed"
    },
    "tags": []
   },
   "outputs": [
    {
     "data": {
      "text/html": [
       "<pre style=\"white-space:pre;overflow-x:auto;line-height:normal;font-family:Menlo,'DejaVu Sans Mono',consolas,'Courier New',monospace\"><span style=\"font-weight: bold\">Model: \"sequential\"</span>\n",
       "</pre>\n"
      ],
      "text/plain": [
       "\u001b[1mModel: \"sequential\"\u001b[0m\n"
      ]
     },
     "metadata": {},
     "output_type": "display_data"
    },
    {
     "data": {
      "text/html": [
       "<pre style=\"white-space:pre;overflow-x:auto;line-height:normal;font-family:Menlo,'DejaVu Sans Mono',consolas,'Courier New',monospace\">┏━━━━━━━━━━━━━━━━━━━━━━━━━━━━━━━━━┳━━━━━━━━━━━━━━━━━━━━━━━━┳━━━━━━━━━━━━━━━┓\n",
       "┃<span style=\"font-weight: bold\"> Layer (type)                    </span>┃<span style=\"font-weight: bold\"> Output Shape           </span>┃<span style=\"font-weight: bold\">       Param # </span>┃\n",
       "┡━━━━━━━━━━━━━━━━━━━━━━━━━━━━━━━━━╇━━━━━━━━━━━━━━━━━━━━━━━━╇━━━━━━━━━━━━━━━┩\n",
       "│ embedding (<span style=\"color: #0087ff; text-decoration-color: #0087ff\">Embedding</span>)           │ (<span style=\"color: #00d7ff; text-decoration-color: #00d7ff\">None</span>, <span style=\"color: #00af00; text-decoration-color: #00af00\">200</span>, <span style=\"color: #00af00; text-decoration-color: #00af00\">100</span>)       │     <span style=\"color: #00af00; text-decoration-color: #00af00\">1,000,000</span> │\n",
       "├─────────────────────────────────┼────────────────────────┼───────────────┤\n",
       "│ bidirectional (<span style=\"color: #0087ff; text-decoration-color: #0087ff\">Bidirectional</span>)   │ (<span style=\"color: #00d7ff; text-decoration-color: #00d7ff\">None</span>, <span style=\"color: #00af00; text-decoration-color: #00af00\">200</span>, <span style=\"color: #00af00; text-decoration-color: #00af00\">200</span>)       │       <span style=\"color: #00af00; text-decoration-color: #00af00\">121,200</span> │\n",
       "├─────────────────────────────────┼────────────────────────┼───────────────┤\n",
       "│ dropout (<span style=\"color: #0087ff; text-decoration-color: #0087ff\">Dropout</span>)               │ (<span style=\"color: #00d7ff; text-decoration-color: #00d7ff\">None</span>, <span style=\"color: #00af00; text-decoration-color: #00af00\">200</span>, <span style=\"color: #00af00; text-decoration-color: #00af00\">200</span>)       │             <span style=\"color: #00af00; text-decoration-color: #00af00\">0</span> │\n",
       "├─────────────────────────────────┼────────────────────────┼───────────────┤\n",
       "│ gru_1 (<span style=\"color: #0087ff; text-decoration-color: #0087ff\">GRU</span>)                     │ (<span style=\"color: #00d7ff; text-decoration-color: #00d7ff\">None</span>, <span style=\"color: #00af00; text-decoration-color: #00af00\">200</span>, <span style=\"color: #00af00; text-decoration-color: #00af00\">100</span>)       │        <span style=\"color: #00af00; text-decoration-color: #00af00\">90,600</span> │\n",
       "├─────────────────────────────────┼────────────────────────┼───────────────┤\n",
       "│ dropout_1 (<span style=\"color: #0087ff; text-decoration-color: #0087ff\">Dropout</span>)             │ (<span style=\"color: #00d7ff; text-decoration-color: #00d7ff\">None</span>, <span style=\"color: #00af00; text-decoration-color: #00af00\">200</span>, <span style=\"color: #00af00; text-decoration-color: #00af00\">100</span>)       │             <span style=\"color: #00af00; text-decoration-color: #00af00\">0</span> │\n",
       "├─────────────────────────────────┼────────────────────────┼───────────────┤\n",
       "│ bidirectional_1 (<span style=\"color: #0087ff; text-decoration-color: #0087ff\">Bidirectional</span>) │ (<span style=\"color: #00d7ff; text-decoration-color: #00d7ff\">None</span>, <span style=\"color: #00af00; text-decoration-color: #00af00\">200</span>, <span style=\"color: #00af00; text-decoration-color: #00af00\">200</span>)       │       <span style=\"color: #00af00; text-decoration-color: #00af00\">121,200</span> │\n",
       "├─────────────────────────────────┼────────────────────────┼───────────────┤\n",
       "│ dropout_2 (<span style=\"color: #0087ff; text-decoration-color: #0087ff\">Dropout</span>)             │ (<span style=\"color: #00d7ff; text-decoration-color: #00d7ff\">None</span>, <span style=\"color: #00af00; text-decoration-color: #00af00\">200</span>, <span style=\"color: #00af00; text-decoration-color: #00af00\">200</span>)       │             <span style=\"color: #00af00; text-decoration-color: #00af00\">0</span> │\n",
       "├─────────────────────────────────┼────────────────────────┼───────────────┤\n",
       "│ gru_3 (<span style=\"color: #0087ff; text-decoration-color: #0087ff\">GRU</span>)                     │ (<span style=\"color: #00d7ff; text-decoration-color: #00d7ff\">None</span>, <span style=\"color: #00af00; text-decoration-color: #00af00\">100</span>)            │        <span style=\"color: #00af00; text-decoration-color: #00af00\">90,600</span> │\n",
       "├─────────────────────────────────┼────────────────────────┼───────────────┤\n",
       "│ dropout_3 (<span style=\"color: #0087ff; text-decoration-color: #0087ff\">Dropout</span>)             │ (<span style=\"color: #00d7ff; text-decoration-color: #00d7ff\">None</span>, <span style=\"color: #00af00; text-decoration-color: #00af00\">100</span>)            │             <span style=\"color: #00af00; text-decoration-color: #00af00\">0</span> │\n",
       "├─────────────────────────────────┼────────────────────────┼───────────────┤\n",
       "│ dense (<span style=\"color: #0087ff; text-decoration-color: #0087ff\">Dense</span>)                   │ (<span style=\"color: #00d7ff; text-decoration-color: #00d7ff\">None</span>, <span style=\"color: #00af00; text-decoration-color: #00af00\">64</span>)             │         <span style=\"color: #00af00; text-decoration-color: #00af00\">6,464</span> │\n",
       "├─────────────────────────────────┼────────────────────────┼───────────────┤\n",
       "│ dropout_4 (<span style=\"color: #0087ff; text-decoration-color: #0087ff\">Dropout</span>)             │ (<span style=\"color: #00d7ff; text-decoration-color: #00d7ff\">None</span>, <span style=\"color: #00af00; text-decoration-color: #00af00\">64</span>)             │             <span style=\"color: #00af00; text-decoration-color: #00af00\">0</span> │\n",
       "├─────────────────────────────────┼────────────────────────┼───────────────┤\n",
       "│ dense_1 (<span style=\"color: #0087ff; text-decoration-color: #0087ff\">Dense</span>)                 │ (<span style=\"color: #00d7ff; text-decoration-color: #00d7ff\">None</span>, <span style=\"color: #00af00; text-decoration-color: #00af00\">6</span>)              │           <span style=\"color: #00af00; text-decoration-color: #00af00\">390</span> │\n",
       "└─────────────────────────────────┴────────────────────────┴───────────────┘\n",
       "</pre>\n"
      ],
      "text/plain": [
       "┏━━━━━━━━━━━━━━━━━━━━━━━━━━━━━━━━━┳━━━━━━━━━━━━━━━━━━━━━━━━┳━━━━━━━━━━━━━━━┓\n",
       "┃\u001b[1m \u001b[0m\u001b[1mLayer (type)                   \u001b[0m\u001b[1m \u001b[0m┃\u001b[1m \u001b[0m\u001b[1mOutput Shape          \u001b[0m\u001b[1m \u001b[0m┃\u001b[1m \u001b[0m\u001b[1m      Param #\u001b[0m\u001b[1m \u001b[0m┃\n",
       "┡━━━━━━━━━━━━━━━━━━━━━━━━━━━━━━━━━╇━━━━━━━━━━━━━━━━━━━━━━━━╇━━━━━━━━━━━━━━━┩\n",
       "│ embedding (\u001b[38;5;33mEmbedding\u001b[0m)           │ (\u001b[38;5;45mNone\u001b[0m, \u001b[38;5;34m200\u001b[0m, \u001b[38;5;34m100\u001b[0m)       │     \u001b[38;5;34m1,000,000\u001b[0m │\n",
       "├─────────────────────────────────┼────────────────────────┼───────────────┤\n",
       "│ bidirectional (\u001b[38;5;33mBidirectional\u001b[0m)   │ (\u001b[38;5;45mNone\u001b[0m, \u001b[38;5;34m200\u001b[0m, \u001b[38;5;34m200\u001b[0m)       │       \u001b[38;5;34m121,200\u001b[0m │\n",
       "├─────────────────────────────────┼────────────────────────┼───────────────┤\n",
       "│ dropout (\u001b[38;5;33mDropout\u001b[0m)               │ (\u001b[38;5;45mNone\u001b[0m, \u001b[38;5;34m200\u001b[0m, \u001b[38;5;34m200\u001b[0m)       │             \u001b[38;5;34m0\u001b[0m │\n",
       "├─────────────────────────────────┼────────────────────────┼───────────────┤\n",
       "│ gru_1 (\u001b[38;5;33mGRU\u001b[0m)                     │ (\u001b[38;5;45mNone\u001b[0m, \u001b[38;5;34m200\u001b[0m, \u001b[38;5;34m100\u001b[0m)       │        \u001b[38;5;34m90,600\u001b[0m │\n",
       "├─────────────────────────────────┼────────────────────────┼───────────────┤\n",
       "│ dropout_1 (\u001b[38;5;33mDropout\u001b[0m)             │ (\u001b[38;5;45mNone\u001b[0m, \u001b[38;5;34m200\u001b[0m, \u001b[38;5;34m100\u001b[0m)       │             \u001b[38;5;34m0\u001b[0m │\n",
       "├─────────────────────────────────┼────────────────────────┼───────────────┤\n",
       "│ bidirectional_1 (\u001b[38;5;33mBidirectional\u001b[0m) │ (\u001b[38;5;45mNone\u001b[0m, \u001b[38;5;34m200\u001b[0m, \u001b[38;5;34m200\u001b[0m)       │       \u001b[38;5;34m121,200\u001b[0m │\n",
       "├─────────────────────────────────┼────────────────────────┼───────────────┤\n",
       "│ dropout_2 (\u001b[38;5;33mDropout\u001b[0m)             │ (\u001b[38;5;45mNone\u001b[0m, \u001b[38;5;34m200\u001b[0m, \u001b[38;5;34m200\u001b[0m)       │             \u001b[38;5;34m0\u001b[0m │\n",
       "├─────────────────────────────────┼────────────────────────┼───────────────┤\n",
       "│ gru_3 (\u001b[38;5;33mGRU\u001b[0m)                     │ (\u001b[38;5;45mNone\u001b[0m, \u001b[38;5;34m100\u001b[0m)            │        \u001b[38;5;34m90,600\u001b[0m │\n",
       "├─────────────────────────────────┼────────────────────────┼───────────────┤\n",
       "│ dropout_3 (\u001b[38;5;33mDropout\u001b[0m)             │ (\u001b[38;5;45mNone\u001b[0m, \u001b[38;5;34m100\u001b[0m)            │             \u001b[38;5;34m0\u001b[0m │\n",
       "├─────────────────────────────────┼────────────────────────┼───────────────┤\n",
       "│ dense (\u001b[38;5;33mDense\u001b[0m)                   │ (\u001b[38;5;45mNone\u001b[0m, \u001b[38;5;34m64\u001b[0m)             │         \u001b[38;5;34m6,464\u001b[0m │\n",
       "├─────────────────────────────────┼────────────────────────┼───────────────┤\n",
       "│ dropout_4 (\u001b[38;5;33mDropout\u001b[0m)             │ (\u001b[38;5;45mNone\u001b[0m, \u001b[38;5;34m64\u001b[0m)             │             \u001b[38;5;34m0\u001b[0m │\n",
       "├─────────────────────────────────┼────────────────────────┼───────────────┤\n",
       "│ dense_1 (\u001b[38;5;33mDense\u001b[0m)                 │ (\u001b[38;5;45mNone\u001b[0m, \u001b[38;5;34m6\u001b[0m)              │           \u001b[38;5;34m390\u001b[0m │\n",
       "└─────────────────────────────────┴────────────────────────┴───────────────┘\n"
      ]
     },
     "metadata": {},
     "output_type": "display_data"
    },
    {
     "data": {
      "text/html": [
       "<pre style=\"white-space:pre;overflow-x:auto;line-height:normal;font-family:Menlo,'DejaVu Sans Mono',consolas,'Courier New',monospace\"><span style=\"font-weight: bold\"> Total params: </span><span style=\"color: #00af00; text-decoration-color: #00af00\">1,430,454</span> (5.46 MB)\n",
       "</pre>\n"
      ],
      "text/plain": [
       "\u001b[1m Total params: \u001b[0m\u001b[38;5;34m1,430,454\u001b[0m (5.46 MB)\n"
      ]
     },
     "metadata": {},
     "output_type": "display_data"
    },
    {
     "data": {
      "text/html": [
       "<pre style=\"white-space:pre;overflow-x:auto;line-height:normal;font-family:Menlo,'DejaVu Sans Mono',consolas,'Courier New',monospace\"><span style=\"font-weight: bold\"> Trainable params: </span><span style=\"color: #00af00; text-decoration-color: #00af00\">430,454</span> (1.64 MB)\n",
       "</pre>\n"
      ],
      "text/plain": [
       "\u001b[1m Trainable params: \u001b[0m\u001b[38;5;34m430,454\u001b[0m (1.64 MB)\n"
      ]
     },
     "metadata": {},
     "output_type": "display_data"
    },
    {
     "data": {
      "text/html": [
       "<pre style=\"white-space:pre;overflow-x:auto;line-height:normal;font-family:Menlo,'DejaVu Sans Mono',consolas,'Courier New',monospace\"><span style=\"font-weight: bold\"> Non-trainable params: </span><span style=\"color: #00af00; text-decoration-color: #00af00\">1,000,000</span> (3.81 MB)\n",
       "</pre>\n"
      ],
      "text/plain": [
       "\u001b[1m Non-trainable params: \u001b[0m\u001b[38;5;34m1,000,000\u001b[0m (3.81 MB)\n"
      ]
     },
     "metadata": {},
     "output_type": "display_data"
    }
   ],
   "source": [
    "from tensorflow.keras.models import Sequential\n",
    "from tensorflow.keras.layers import Embedding, GRU, Dense, Dropout, Input, Bidirectional\n",
    "\n",
    "# Build the model\n",
    "model = Sequential()\n",
    "\n",
    "# Add Input layer\n",
    "model.add(Input(shape=(X.shape[1],)))  # Sequence length: 200\n",
    "\n",
    "# Embedding Layer\n",
    "model.add(Embedding(input_dim=MAX_NUM_WORDS,       # Number of words in the tokenizer\n",
    "                    output_dim=EMBEDDING_DIM,     # Embedding dimensions (e.g., 100)\n",
    "                    weights=[gensim_weight_matrix],  # Pre-trained GloVe embedding matrix\n",
    "                    trainable=False))             # Fine-tuning allowed (weights can be updated)\n",
    "\n",
    "# Bidirectional GRU Layer 1\n",
    "model.add(Bidirectional(GRU(100, return_sequences=True)))  # First Bidirectional GRU layer\n",
    "model.add(Dropout(0.2))  # Dropout to prevent overfitting\n",
    "\n",
    "# GRU Layer 2 (normal GRU)\n",
    "model.add(GRU(100, return_sequences=True)) \n",
    "model.add(Dropout(0.2))  \n",
    "\n",
    "# Bidirectional GRU Layer 3\n",
    "model.add(Bidirectional(GRU(100, return_sequences=True)))  \n",
    "model.add(Dropout(0.2))  \n",
    "\n",
    "# GRU Layer 4 (normal GRU)\n",
    "model.add(GRU(100, return_sequences=False))  # Fourth GRU layer, not returning sequences\n",
    "model.add(Dropout(0.2))  #\n",
    "\n",
    "# Fully Connected Output Layer\n",
    "model.add(Dense(64, activation='relu'))  \n",
    "model.add(Dropout(0.2))  # Dropout to prevent overfitting\n",
    "\n",
    "# Output Layer\n",
    "model.add(Dense(y.shape[1], activation='softmax'))  # Output layer with softmax activation for multi-class classification\n",
    "\n",
    "# Compile the model\n",
    "model.compile(loss='categorical_crossentropy', optimizer='adam', metrics=['accuracy'])\n",
    "\n",
    "# Display model summary\n",
    "model.summary()\n"
   ]
  },
  {
   "cell_type": "code",
   "execution_count": 16,
   "id": "ea61dfd5",
   "metadata": {
    "execution": {
     "iopub.execute_input": "2024-12-06T07:16:12.956097Z",
     "iopub.status.busy": "2024-12-06T07:16:12.955751Z",
     "iopub.status.idle": "2024-12-06T07:30:02.780963Z",
     "shell.execute_reply": "2024-12-06T07:30:02.780087Z"
    },
    "papermill": {
     "duration": 830.597966,
     "end_time": "2024-12-06T07:30:02.782594",
     "exception": false,
     "start_time": "2024-12-06T07:16:12.184628",
     "status": "completed"
    },
    "tags": []
   },
   "outputs": [
    {
     "name": "stdout",
     "output_type": "stream",
     "text": [
      "Epoch 1/50\n",
      "\u001b[1m506/506\u001b[0m \u001b[32m━━━━━━━━━━━━━━━━━━━━\u001b[0m\u001b[37m\u001b[0m \u001b[1m0s\u001b[0m 51ms/step - accuracy: 0.1736 - loss: 1.7864\n",
      "Epoch 1: val_accuracy improved from -inf to 0.20147, saving model to best_model.weights.h5\n",
      "\u001b[1m506/506\u001b[0m \u001b[32m━━━━━━━━━━━━━━━━━━━━\u001b[0m\u001b[37m\u001b[0m \u001b[1m37s\u001b[0m 60ms/step - accuracy: 0.1736 - loss: 1.7864 - val_accuracy: 0.2015 - val_loss: 1.7611\n",
      "Epoch 2/50\n",
      "\u001b[1m506/506\u001b[0m \u001b[32m━━━━━━━━━━━━━━━━━━━━\u001b[0m\u001b[37m\u001b[0m \u001b[1m0s\u001b[0m 51ms/step - accuracy: 0.1869 - loss: 1.7583\n",
      "Epoch 2: val_accuracy improved from 0.20147 to 0.27540, saving model to best_model.weights.h5\n",
      "\u001b[1m506/506\u001b[0m \u001b[32m━━━━━━━━━━━━━━━━━━━━\u001b[0m\u001b[37m\u001b[0m \u001b[1m30s\u001b[0m 59ms/step - accuracy: 0.1870 - loss: 1.7583 - val_accuracy: 0.2754 - val_loss: 1.6434\n",
      "Epoch 3/50\n",
      "\u001b[1m506/506\u001b[0m \u001b[32m━━━━━━━━━━━━━━━━━━━━\u001b[0m\u001b[37m\u001b[0m \u001b[1m0s\u001b[0m 52ms/step - accuracy: 0.3436 - loss: 1.5155\n",
      "Epoch 3: val_accuracy improved from 0.27540 to 0.70565, saving model to best_model.weights.h5\n",
      "\u001b[1m506/506\u001b[0m \u001b[32m━━━━━━━━━━━━━━━━━━━━\u001b[0m\u001b[37m\u001b[0m \u001b[1m31s\u001b[0m 61ms/step - accuracy: 0.3439 - loss: 1.5151 - val_accuracy: 0.7056 - val_loss: 0.8290\n",
      "Epoch 4/50\n",
      "\u001b[1m506/506\u001b[0m \u001b[32m━━━━━━━━━━━━━━━━━━━━\u001b[0m\u001b[37m\u001b[0m \u001b[1m0s\u001b[0m 54ms/step - accuracy: 0.7247 - loss: 0.7993\n",
      "Epoch 4: val_accuracy improved from 0.70565 to 0.82915, saving model to best_model.weights.h5\n",
      "\u001b[1m506/506\u001b[0m \u001b[32m━━━━━━━━━━━━━━━━━━━━\u001b[0m\u001b[37m\u001b[0m \u001b[1m32s\u001b[0m 63ms/step - accuracy: 0.7248 - loss: 0.7991 - val_accuracy: 0.8292 - val_loss: 0.5163\n",
      "Epoch 5/50\n",
      "\u001b[1m506/506\u001b[0m \u001b[32m━━━━━━━━━━━━━━━━━━━━\u001b[0m\u001b[37m\u001b[0m \u001b[1m0s\u001b[0m 55ms/step - accuracy: 0.8452 - loss: 0.4925\n",
      "Epoch 5: val_accuracy improved from 0.82915 to 0.87830, saving model to best_model.weights.h5\n",
      "\u001b[1m506/506\u001b[0m \u001b[32m━━━━━━━━━━━━━━━━━━━━\u001b[0m\u001b[37m\u001b[0m \u001b[1m32s\u001b[0m 64ms/step - accuracy: 0.8452 - loss: 0.4924 - val_accuracy: 0.8783 - val_loss: 0.3854\n",
      "Epoch 6/50\n",
      "\u001b[1m506/506\u001b[0m \u001b[32m━━━━━━━━━━━━━━━━━━━━\u001b[0m\u001b[37m\u001b[0m \u001b[1m0s\u001b[0m 54ms/step - accuracy: 0.9072 - loss: 0.3183\n",
      "Epoch 6: val_accuracy improved from 0.87830 to 0.90647, saving model to best_model.weights.h5\n",
      "\u001b[1m506/506\u001b[0m \u001b[32m━━━━━━━━━━━━━━━━━━━━\u001b[0m\u001b[37m\u001b[0m \u001b[1m32s\u001b[0m 63ms/step - accuracy: 0.9072 - loss: 0.3183 - val_accuracy: 0.9065 - val_loss: 0.3103\n",
      "Epoch 7/50\n",
      "\u001b[1m506/506\u001b[0m \u001b[32m━━━━━━━━━━━━━━━━━━━━\u001b[0m\u001b[37m\u001b[0m \u001b[1m0s\u001b[0m 54ms/step - accuracy: 0.9304 - loss: 0.2425\n",
      "Epoch 7: val_accuracy improved from 0.90647 to 0.92643, saving model to best_model.weights.h5\n",
      "\u001b[1m506/506\u001b[0m \u001b[32m━━━━━━━━━━━━━━━━━━━━\u001b[0m\u001b[37m\u001b[0m \u001b[1m32s\u001b[0m 63ms/step - accuracy: 0.9304 - loss: 0.2424 - val_accuracy: 0.9264 - val_loss: 0.2658\n",
      "Epoch 8/50\n",
      "\u001b[1m506/506\u001b[0m \u001b[32m━━━━━━━━━━━━━━━━━━━━\u001b[0m\u001b[37m\u001b[0m \u001b[1m0s\u001b[0m 54ms/step - accuracy: 0.9489 - loss: 0.1815\n",
      "Epoch 8: val_accuracy improved from 0.92643 to 0.94322, saving model to best_model.weights.h5\n",
      "\u001b[1m506/506\u001b[0m \u001b[32m━━━━━━━━━━━━━━━━━━━━\u001b[0m\u001b[37m\u001b[0m \u001b[1m32s\u001b[0m 63ms/step - accuracy: 0.9489 - loss: 0.1815 - val_accuracy: 0.9432 - val_loss: 0.2064\n",
      "Epoch 9/50\n",
      "\u001b[1m506/506\u001b[0m \u001b[32m━━━━━━━━━━━━━━━━━━━━\u001b[0m\u001b[37m\u001b[0m \u001b[1m0s\u001b[0m 54ms/step - accuracy: 0.9597 - loss: 0.1412\n",
      "Epoch 9: val_accuracy did not improve from 0.94322\n",
      "\u001b[1m506/506\u001b[0m \u001b[32m━━━━━━━━━━━━━━━━━━━━\u001b[0m\u001b[37m\u001b[0m \u001b[1m32s\u001b[0m 63ms/step - accuracy: 0.9597 - loss: 0.1412 - val_accuracy: 0.9355 - val_loss: 0.2447\n",
      "Epoch 10/50\n",
      "\u001b[1m506/506\u001b[0m \u001b[32m━━━━━━━━━━━━━━━━━━━━\u001b[0m\u001b[37m\u001b[0m \u001b[1m0s\u001b[0m 54ms/step - accuracy: 0.9654 - loss: 0.1206\n",
      "Epoch 10: val_accuracy improved from 0.94322 to 0.94488, saving model to best_model.weights.h5\n",
      "\u001b[1m506/506\u001b[0m \u001b[32m━━━━━━━━━━━━━━━━━━━━\u001b[0m\u001b[37m\u001b[0m \u001b[1m32s\u001b[0m 63ms/step - accuracy: 0.9654 - loss: 0.1206 - val_accuracy: 0.9449 - val_loss: 0.2011\n",
      "Epoch 11/50\n",
      "\u001b[1m506/506\u001b[0m \u001b[32m━━━━━━━━━━━━━━━━━━━━\u001b[0m\u001b[37m\u001b[0m \u001b[1m0s\u001b[0m 54ms/step - accuracy: 0.9753 - loss: 0.0909\n",
      "Epoch 11: val_accuracy improved from 0.94488 to 0.95136, saving model to best_model.weights.h5\n",
      "\u001b[1m506/506\u001b[0m \u001b[32m━━━━━━━━━━━━━━━━━━━━\u001b[0m\u001b[37m\u001b[0m \u001b[1m32s\u001b[0m 63ms/step - accuracy: 0.9753 - loss: 0.0909 - val_accuracy: 0.9514 - val_loss: 0.1975\n",
      "Epoch 12/50\n",
      "\u001b[1m506/506\u001b[0m \u001b[32m━━━━━━━━━━━━━━━━━━━━\u001b[0m\u001b[37m\u001b[0m \u001b[1m0s\u001b[0m 54ms/step - accuracy: 0.9751 - loss: 0.0894\n",
      "Epoch 12: val_accuracy improved from 0.95136 to 0.95165, saving model to best_model.weights.h5\n",
      "\u001b[1m506/506\u001b[0m \u001b[32m━━━━━━━━━━━━━━━━━━━━\u001b[0m\u001b[37m\u001b[0m \u001b[1m32s\u001b[0m 63ms/step - accuracy: 0.9751 - loss: 0.0894 - val_accuracy: 0.9517 - val_loss: 0.2108\n",
      "Epoch 13/50\n",
      "\u001b[1m506/506\u001b[0m \u001b[32m━━━━━━━━━━━━━━━━━━━━\u001b[0m\u001b[37m\u001b[0m \u001b[1m0s\u001b[0m 54ms/step - accuracy: 0.9776 - loss: 0.0835\n",
      "Epoch 13: val_accuracy improved from 0.95165 to 0.95316, saving model to best_model.weights.h5\n",
      "\u001b[1m506/506\u001b[0m \u001b[32m━━━━━━━━━━━━━━━━━━━━\u001b[0m\u001b[37m\u001b[0m \u001b[1m32s\u001b[0m 63ms/step - accuracy: 0.9776 - loss: 0.0835 - val_accuracy: 0.9532 - val_loss: 0.2009\n",
      "Epoch 14/50\n",
      "\u001b[1m506/506\u001b[0m \u001b[32m━━━━━━━━━━━━━━━━━━━━\u001b[0m\u001b[37m\u001b[0m \u001b[1m0s\u001b[0m 54ms/step - accuracy: 0.9797 - loss: 0.0732\n",
      "Epoch 14: val_accuracy improved from 0.95316 to 0.95417, saving model to best_model.weights.h5\n",
      "\u001b[1m506/506\u001b[0m \u001b[32m━━━━━━━━━━━━━━━━━━━━\u001b[0m\u001b[37m\u001b[0m \u001b[1m32s\u001b[0m 63ms/step - accuracy: 0.9797 - loss: 0.0732 - val_accuracy: 0.9542 - val_loss: 0.1950\n",
      "Epoch 15/50\n",
      "\u001b[1m506/506\u001b[0m \u001b[32m━━━━━━━━━━━━━━━━━━━━\u001b[0m\u001b[37m\u001b[0m \u001b[1m0s\u001b[0m 54ms/step - accuracy: 0.9832 - loss: 0.0604\n",
      "Epoch 15: val_accuracy improved from 0.95417 to 0.95886, saving model to best_model.weights.h5\n",
      "\u001b[1m506/506\u001b[0m \u001b[32m━━━━━━━━━━━━━━━━━━━━\u001b[0m\u001b[37m\u001b[0m \u001b[1m32s\u001b[0m 63ms/step - accuracy: 0.9832 - loss: 0.0604 - val_accuracy: 0.9589 - val_loss: 0.1859\n",
      "Epoch 16/50\n",
      "\u001b[1m506/506\u001b[0m \u001b[32m━━━━━━━━━━━━━━━━━━━━\u001b[0m\u001b[37m\u001b[0m \u001b[1m0s\u001b[0m 54ms/step - accuracy: 0.9854 - loss: 0.0521\n",
      "Epoch 16: val_accuracy did not improve from 0.95886\n",
      "\u001b[1m506/506\u001b[0m \u001b[32m━━━━━━━━━━━━━━━━━━━━\u001b[0m\u001b[37m\u001b[0m \u001b[1m32s\u001b[0m 63ms/step - accuracy: 0.9854 - loss: 0.0521 - val_accuracy: 0.9558 - val_loss: 0.1809\n",
      "Epoch 17/50\n",
      "\u001b[1m506/506\u001b[0m \u001b[32m━━━━━━━━━━━━━━━━━━━━\u001b[0m\u001b[37m\u001b[0m \u001b[1m0s\u001b[0m 54ms/step - accuracy: 0.9845 - loss: 0.0546\n",
      "Epoch 17: val_accuracy did not improve from 0.95886\n",
      "\u001b[1m506/506\u001b[0m \u001b[32m━━━━━━━━━━━━━━━━━━━━\u001b[0m\u001b[37m\u001b[0m \u001b[1m32s\u001b[0m 63ms/step - accuracy: 0.9845 - loss: 0.0546 - val_accuracy: 0.9576 - val_loss: 0.1945\n",
      "Epoch 18/50\n",
      "\u001b[1m506/506\u001b[0m \u001b[32m━━━━━━━━━━━━━━━━━━━━\u001b[0m\u001b[37m\u001b[0m \u001b[1m0s\u001b[0m 54ms/step - accuracy: 0.9880 - loss: 0.0427\n",
      "Epoch 18: val_accuracy did not improve from 0.95886\n",
      "\u001b[1m506/506\u001b[0m \u001b[32m━━━━━━━━━━━━━━━━━━━━\u001b[0m\u001b[37m\u001b[0m \u001b[1m32s\u001b[0m 63ms/step - accuracy: 0.9880 - loss: 0.0427 - val_accuracy: 0.9545 - val_loss: 0.2006\n",
      "Epoch 19/50\n",
      "\u001b[1m506/506\u001b[0m \u001b[32m━━━━━━━━━━━━━━━━━━━━\u001b[0m\u001b[37m\u001b[0m \u001b[1m0s\u001b[0m 54ms/step - accuracy: 0.9882 - loss: 0.0445\n",
      "Epoch 19: val_accuracy improved from 0.95886 to 0.96051, saving model to best_model.weights.h5\n",
      "\u001b[1m506/506\u001b[0m \u001b[32m━━━━━━━━━━━━━━━━━━━━\u001b[0m\u001b[37m\u001b[0m \u001b[1m32s\u001b[0m 63ms/step - accuracy: 0.9882 - loss: 0.0445 - val_accuracy: 0.9605 - val_loss: 0.1811\n",
      "Epoch 20/50\n",
      "\u001b[1m506/506\u001b[0m \u001b[32m━━━━━━━━━━━━━━━━━━━━\u001b[0m\u001b[37m\u001b[0m \u001b[1m0s\u001b[0m 54ms/step - accuracy: 0.9879 - loss: 0.0427\n",
      "Epoch 20: val_accuracy did not improve from 0.96051\n",
      "\u001b[1m506/506\u001b[0m \u001b[32m━━━━━━━━━━━━━━━━━━━━\u001b[0m\u001b[37m\u001b[0m \u001b[1m32s\u001b[0m 63ms/step - accuracy: 0.9879 - loss: 0.0427 - val_accuracy: 0.9574 - val_loss: 0.2148\n",
      "Epoch 21/50\n",
      "\u001b[1m506/506\u001b[0m \u001b[32m━━━━━━━━━━━━━━━━━━━━\u001b[0m\u001b[37m\u001b[0m \u001b[1m0s\u001b[0m 54ms/step - accuracy: 0.9876 - loss: 0.0445\n",
      "Epoch 21: val_accuracy did not improve from 0.96051\n",
      "\u001b[1m506/506\u001b[0m \u001b[32m━━━━━━━━━━━━━━━━━━━━\u001b[0m\u001b[37m\u001b[0m \u001b[1m32s\u001b[0m 63ms/step - accuracy: 0.9876 - loss: 0.0445 - val_accuracy: 0.9526 - val_loss: 0.2325\n",
      "Epoch 22/50\n",
      "\u001b[1m506/506\u001b[0m \u001b[32m━━━━━━━━━━━━━━━━━━━━\u001b[0m\u001b[37m\u001b[0m \u001b[1m0s\u001b[0m 54ms/step - accuracy: 0.9892 - loss: 0.0362\n",
      "Epoch 22: val_accuracy did not improve from 0.96051\n",
      "\u001b[1m506/506\u001b[0m \u001b[32m━━━━━━━━━━━━━━━━━━━━\u001b[0m\u001b[37m\u001b[0m \u001b[1m32s\u001b[0m 63ms/step - accuracy: 0.9892 - loss: 0.0362 - val_accuracy: 0.9576 - val_loss: 0.2064\n",
      "Epoch 23/50\n",
      "\u001b[1m506/506\u001b[0m \u001b[32m━━━━━━━━━━━━━━━━━━━━\u001b[0m\u001b[37m\u001b[0m \u001b[1m0s\u001b[0m 54ms/step - accuracy: 0.9892 - loss: 0.0388\n",
      "Epoch 23: val_accuracy did not improve from 0.96051\n",
      "\u001b[1m506/506\u001b[0m \u001b[32m━━━━━━━━━━━━━━━━━━━━\u001b[0m\u001b[37m\u001b[0m \u001b[1m32s\u001b[0m 63ms/step - accuracy: 0.9892 - loss: 0.0388 - val_accuracy: 0.9550 - val_loss: 0.2120\n",
      "Epoch 24/50\n",
      "\u001b[1m506/506\u001b[0m \u001b[32m━━━━━━━━━━━━━━━━━━━━\u001b[0m\u001b[37m\u001b[0m \u001b[1m0s\u001b[0m 54ms/step - accuracy: 0.9883 - loss: 0.0399\n",
      "Epoch 24: val_accuracy improved from 0.96051 to 0.96231, saving model to best_model.weights.h5\n",
      "\u001b[1m506/506\u001b[0m \u001b[32m━━━━━━━━━━━━━━━━━━━━\u001b[0m\u001b[37m\u001b[0m \u001b[1m32s\u001b[0m 63ms/step - accuracy: 0.9883 - loss: 0.0399 - val_accuracy: 0.9623 - val_loss: 0.2063\n",
      "Epoch 25/50\n",
      "\u001b[1m506/506\u001b[0m \u001b[32m━━━━━━━━━━━━━━━━━━━━\u001b[0m\u001b[37m\u001b[0m \u001b[1m0s\u001b[0m 54ms/step - accuracy: 0.9910 - loss: 0.0320\n",
      "Epoch 25: val_accuracy did not improve from 0.96231\n",
      "\u001b[1m506/506\u001b[0m \u001b[32m━━━━━━━━━━━━━━━━━━━━\u001b[0m\u001b[37m\u001b[0m \u001b[1m32s\u001b[0m 63ms/step - accuracy: 0.9910 - loss: 0.0320 - val_accuracy: 0.9611 - val_loss: 0.1858\n",
      "Epoch 26/50\n",
      "\u001b[1m506/506\u001b[0m \u001b[32m━━━━━━━━━━━━━━━━━━━━\u001b[0m\u001b[37m\u001b[0m \u001b[1m0s\u001b[0m 54ms/step - accuracy: 0.9911 - loss: 0.0330\n",
      "Epoch 26: val_accuracy did not improve from 0.96231\n",
      "\u001b[1m506/506\u001b[0m \u001b[32m━━━━━━━━━━━━━━━━━━━━\u001b[0m\u001b[37m\u001b[0m \u001b[1m32s\u001b[0m 63ms/step - accuracy: 0.9911 - loss: 0.0330 - val_accuracy: 0.9604 - val_loss: 0.2096\n",
      "Epoch 26: early stopping\n",
      "Best weights loaded from best_model.weights.h5\n",
      "Full model saved as best_model.keras\n",
      "Full model saved as best_model.h5\n"
     ]
    }
   ],
   "source": [
    "from tensorflow.keras.models import load_model\n",
    "\n",
    "# EarlyStopping and ModelCheckpoint for saving weights\n",
    "es = EarlyStopping(monitor='val_loss', mode='min', verbose=1, patience=10)\n",
    "mc = ModelCheckpoint('best_model.weights.h5', monitor='val_accuracy', mode='max', verbose=1, save_best_only=True, save_weights_only=True)\n",
    "\n",
    "# Train the model\n",
    "history = model.fit(\n",
    "    X_train,\n",
    "    y_train,\n",
    "    validation_data=(X_test, y_test),\n",
    "    epochs=50,\n",
    "    batch_size=64,\n",
    "    callbacks=[es, mc]\n",
    ")\n",
    "\n",
    "# After training, load the best weights\n",
    "model.load_weights('best_model.weights.h5')\n",
    "print(\"Best weights loaded from best_model.weights.h5\")\n",
    "\n",
    "# Save the full model to .keras format\n",
    "model.save('best_model.keras')\n",
    "print(\"Full model saved as best_model.keras\")\n",
    "\n",
    "# Convert the .keras file to .h5\n",
    "model.save('best_model.h5', save_format='h5')\n",
    "print(\"Full model saved as best_model.h5\")\n"
   ]
  },
  {
   "cell_type": "markdown",
   "id": "004c7e89",
   "metadata": {
    "papermill": {
     "duration": 1.375546,
     "end_time": "2024-12-06T07:30:05.551097",
     "exception": false,
     "start_time": "2024-12-06T07:30:04.175551",
     "status": "completed"
    },
    "tags": []
   },
   "source": [
    "### Train the Model"
   ]
  },
  {
   "cell_type": "code",
   "execution_count": 17,
   "id": "9abdb11e",
   "metadata": {
    "execution": {
     "iopub.execute_input": "2024-12-06T07:30:08.366135Z",
     "iopub.status.busy": "2024-12-06T07:30:08.365790Z",
     "iopub.status.idle": "2024-12-06T07:32:31.850372Z",
     "shell.execute_reply": "2024-12-06T07:32:31.849449Z"
    },
    "papermill": {
     "duration": 144.901833,
     "end_time": "2024-12-06T07:32:31.852045",
     "exception": false,
     "start_time": "2024-12-06T07:30:06.950212",
     "status": "completed"
    },
    "tags": []
   },
   "outputs": [
    {
     "name": "stdout",
     "output_type": "stream",
     "text": [
      "Epoch 1/100\n",
      "\u001b[1m253/253\u001b[0m \u001b[32m━━━━━━━━━━━━━━━━━━━━\u001b[0m\u001b[37m\u001b[0m \u001b[1m0s\u001b[0m 82ms/step - accuracy: 0.9943 - loss: 0.0206\n",
      "Epoch 1: val_accuracy improved from -inf to 0.96433, saving model to best_model.weights.h5\n",
      "\u001b[1m253/253\u001b[0m \u001b[32m━━━━━━━━━━━━━━━━━━━━\u001b[0m\u001b[37m\u001b[0m \u001b[1m24s\u001b[0m 94ms/step - accuracy: 0.9943 - loss: 0.0206 - val_accuracy: 0.9643 - val_loss: 0.1995\n",
      "Epoch 2/100\n",
      "\u001b[1m253/253\u001b[0m \u001b[32m━━━━━━━━━━━━━━━━━━━━\u001b[0m\u001b[37m\u001b[0m \u001b[1m0s\u001b[0m 83ms/step - accuracy: 0.9967 - loss: 0.0134\n",
      "Epoch 2: val_accuracy did not improve from 0.96433\n",
      "\u001b[1m253/253\u001b[0m \u001b[32m━━━━━━━━━━━━━━━━━━━━\u001b[0m\u001b[37m\u001b[0m \u001b[1m24s\u001b[0m 95ms/step - accuracy: 0.9967 - loss: 0.0133 - val_accuracy: 0.9608 - val_loss: 0.2425\n",
      "Epoch 3/100\n",
      "\u001b[1m253/253\u001b[0m \u001b[32m━━━━━━━━━━━━━━━━━━━━\u001b[0m\u001b[37m\u001b[0m \u001b[1m0s\u001b[0m 81ms/step - accuracy: 0.9962 - loss: 0.0131\n",
      "Epoch 3: val_accuracy improved from 0.96433 to 0.96757, saving model to best_model.weights.h5\n",
      "\u001b[1m253/253\u001b[0m \u001b[32m━━━━━━━━━━━━━━━━━━━━\u001b[0m\u001b[37m\u001b[0m \u001b[1m24s\u001b[0m 94ms/step - accuracy: 0.9962 - loss: 0.0131 - val_accuracy: 0.9676 - val_loss: 0.1999\n",
      "Epoch 4/100\n",
      "\u001b[1m253/253\u001b[0m \u001b[32m━━━━━━━━━━━━━━━━━━━━\u001b[0m\u001b[37m\u001b[0m \u001b[1m0s\u001b[0m 81ms/step - accuracy: 0.9976 - loss: 0.0108\n",
      "Epoch 4: val_accuracy did not improve from 0.96757\n",
      "\u001b[1m253/253\u001b[0m \u001b[32m━━━━━━━━━━━━━━━━━━━━\u001b[0m\u001b[37m\u001b[0m \u001b[1m24s\u001b[0m 94ms/step - accuracy: 0.9976 - loss: 0.0108 - val_accuracy: 0.9654 - val_loss: 0.2235\n",
      "Epoch 5/100\n",
      "\u001b[1m253/253\u001b[0m \u001b[32m━━━━━━━━━━━━━━━━━━━━\u001b[0m\u001b[37m\u001b[0m \u001b[1m0s\u001b[0m 82ms/step - accuracy: 0.9963 - loss: 0.0139\n",
      "Epoch 5: val_accuracy did not improve from 0.96757\n",
      "\u001b[1m253/253\u001b[0m \u001b[32m━━━━━━━━━━━━━━━━━━━━\u001b[0m\u001b[37m\u001b[0m \u001b[1m24s\u001b[0m 95ms/step - accuracy: 0.9963 - loss: 0.0139 - val_accuracy: 0.9634 - val_loss: 0.2161\n",
      "Epoch 6/100\n",
      "\u001b[1m253/253\u001b[0m \u001b[32m━━━━━━━━━━━━━━━━━━━━\u001b[0m\u001b[37m\u001b[0m \u001b[1m0s\u001b[0m 82ms/step - accuracy: 0.9962 - loss: 0.0129\n",
      "Epoch 6: val_accuracy did not improve from 0.96757\n",
      "\u001b[1m253/253\u001b[0m \u001b[32m━━━━━━━━━━━━━━━━━━━━\u001b[0m\u001b[37m\u001b[0m \u001b[1m24s\u001b[0m 94ms/step - accuracy: 0.9962 - loss: 0.0129 - val_accuracy: 0.9634 - val_loss: 0.2212\n",
      "Epoch 6: early stopping\n",
      "Best weights loaded from best_model.weights.h5\n",
      "Full model saved as best_model.keras\n",
      "Full model saved as best_model.h5\n"
     ]
    }
   ],
   "source": [
    "from tensorflow.keras.models import load_model\n",
    "\n",
    "# EarlyStopping and ModelCheckpoint for saving weights\n",
    "es = EarlyStopping(monitor='val_loss', mode='min', verbose=1, patience=5)\n",
    "mc = ModelCheckpoint('best_model.weights.h5', monitor='val_accuracy', mode='max', verbose=1, save_best_only=True, save_weights_only=True)\n",
    "\n",
    "# Train the model\n",
    "history = model.fit(\n",
    "    X_train,\n",
    "    y_train,\n",
    "    validation_data=(X_test, y_test),\n",
    "    epochs=100,\n",
    "    batch_size=128,\n",
    "    callbacks=[es, mc]\n",
    ")\n",
    "\n",
    "# After training, load the best weights\n",
    "model.load_weights('best_model.weights.h5')\n",
    "print(\"Best weights loaded from best_model.weights.h5\")\n",
    "\n",
    "# Save the full model to .keras format\n",
    "model.save('best_model.keras')\n",
    "print(\"Full model saved as best_model.keras\")\n",
    "\n",
    "# Convert the .keras file to .h5\n",
    "model.save('best_model.h5', save_format='h5')\n",
    "print(\"Full model saved as best_model.h5\")\n"
   ]
  },
  {
   "cell_type": "code",
   "execution_count": 18,
   "id": "58432b26",
   "metadata": {
    "execution": {
     "iopub.execute_input": "2024-12-06T07:32:34.758084Z",
     "iopub.status.busy": "2024-12-06T07:32:34.757744Z",
     "iopub.status.idle": "2024-12-06T07:32:35.403387Z",
     "shell.execute_reply": "2024-12-06T07:32:35.402457Z"
    },
    "papermill": {
     "duration": 2.091231,
     "end_time": "2024-12-06T07:32:35.405500",
     "exception": false,
     "start_time": "2024-12-06T07:32:33.314269",
     "status": "completed"
    },
    "tags": []
   },
   "outputs": [
    {
     "data": {
      "image/png": "[encoded data removed]",
      "text/plain": [
       "<Figure size 1200x500 with 2 Axes>"
      ]
     },
     "metadata": {},
     "output_type": "display_data"
    }
   ],
   "source": [
    "import matplotlib.pyplot as plt\n",
    "\n",
    "# Plot for accuracy\n",
    "plt.figure(figsize=(12, 5))\n",
    "\n",
    "# Subplot for accuracy\n",
    "plt.subplot(1, 2, 1)\n",
    "plt.plot(history.history['accuracy'], label='Train Accuracy')  # Training accuracy\n",
    "plt.plot(history.history['val_accuracy'], label='Validation Accuracy')  # Validation accuracy\n",
    "plt.title('Accuracy per Epoch')  # Title of the plot\n",
    "plt.xlabel('Epochs')  # X-axis label\n",
    "plt.ylabel('Accuracy')  # Y-axis label\n",
    "plt.legend()  # Display legend\n",
    "\n",
    "# Subplot for loss\n",
    "plt.subplot(1, 2, 2)\n",
    "plt.plot(history.history['loss'], label='Train Loss')  # Training loss\n",
    "plt.plot(history.history['val_loss'], label='Validation Loss')  # Validation loss\n",
    "plt.title('Loss per Epoch')  # Title of the plot\n",
    "plt.xlabel('Epochs')  # X-axis label\n",
    "plt.ylabel('Loss')  # Y-axis label\n",
    "plt.legend()  # Display legend\n",
    "\n",
    "# Display the plot\n",
    "plt.tight_layout()  # Adjust layout for better fit\n",
    "plt.show()  # Show the plots"
   ]
  },
  {
   "cell_type": "code",
   "execution_count": 19,
   "id": "8c997ef8",
   "metadata": {
    "execution": {
     "iopub.execute_input": "2024-12-06T07:32:38.368515Z",
     "iopub.status.busy": "2024-12-06T07:32:38.367529Z",
     "iopub.status.idle": "2024-12-06T07:32:38.372018Z",
     "shell.execute_reply": "2024-12-06T07:32:38.371145Z"
    },
    "papermill": {
     "duration": 1.450191,
     "end_time": "2024-12-06T07:32:38.373757",
     "exception": false,
     "start_time": "2024-12-06T07:32:36.923566",
     "status": "completed"
    },
    "tags": []
   },
   "outputs": [],
   "source": [
    "# from sklearn.metrics import classification_report\n",
    "\n",
    "# # Get model predictions\n",
    "# y_pred = model.predict(X_test)\n",
    "\n",
    "# # Convert predictions and labels from one-hot encoding to integer labels\n",
    "# y_pred_labels = np.argmax(y_pred, axis=1)\n",
    "# y_test_labels = np.argmax(y_test, axis=1)\n",
    "\n",
    "# # Generate the classification report\n",
    "# report = classification_report(y_test_labels, y_pred_labels, target_names=df['status'].unique())\n",
    "\n",
    "# # Print the classification report\n",
    "# print(report)"
   ]
  },
  {
   "cell_type": "code",
   "execution_count": 20,
   "id": "26885a21",
   "metadata": {
    "execution": {
     "iopub.execute_input": "2024-12-06T07:32:41.285278Z",
     "iopub.status.busy": "2024-12-06T07:32:41.284591Z",
     "iopub.status.idle": "2024-12-06T07:32:48.487933Z",
     "shell.execute_reply": "2024-12-06T07:32:48.487176Z"
    },
    "papermill": {
     "duration": 8.670576,
     "end_time": "2024-12-06T07:32:48.489573",
     "exception": false,
     "start_time": "2024-12-06T07:32:39.818997",
     "status": "completed"
    },
    "tags": []
   },
   "outputs": [
    {
     "name": "stdout",
     "output_type": "stream",
     "text": [
      "\u001b[1m434/434\u001b[0m \u001b[32m━━━━━━━━━━━━━━━━━━━━\u001b[0m\u001b[37m\u001b[0m \u001b[1m7s\u001b[0m 16ms/step - accuracy: 0.9687 - loss: 0.1990\n",
      "Test Loss: 0.19993090629577637\n",
      "Test Accuracy: 0.9675745964050293\n"
     ]
    }
   ],
   "source": [
    "\n",
    "loss, accuracy = model.evaluate(X_test, y_test, verbose=1)\n",
    "print(f\"Test Loss: {loss}\")\n",
    "print(f\"Test Accuracy: {accuracy}\")"
   ]
  },
  {
   "cell_type": "markdown",
   "id": "d2355a51",
   "metadata": {
    "papermill": {
     "duration": 1.46048,
     "end_time": "2024-12-06T07:32:51.409152",
     "exception": false,
     "start_time": "2024-12-06T07:32:49.948672",
     "status": "completed"
    },
    "tags": []
   },
   "source": [
    "### Model Evaluation"
   ]
  },
  {
   "cell_type": "code",
   "execution_count": null,
   "id": "409cac7d",
   "metadata": {
    "papermill": {
     "duration": 1.451823,
     "end_time": "2024-12-06T07:32:54.366634",
     "exception": false,
     "start_time": "2024-12-06T07:32:52.914811",
     "status": "completed"
    },
    "tags": []
   },
   "outputs": [],
   "source": []
  },
  {
   "cell_type": "code",
   "execution_count": null,
   "id": "ff4468ef",
   "metadata": {
    "papermill": {
     "duration": 1.473129,
     "end_time": "2024-12-06T07:32:57.292377",
     "exception": false,
     "start_time": "2024-12-06T07:32:55.819248",
     "status": "completed"
    },
    "tags": []
   },
   "outputs": [],
   "source": []
  }
 ],
 "metadata": {
  "kaggle": {
   "accelerator": "nvidiaTeslaT4",
   "dataSources": [
    {
     "datasetId": 5338273,
     "sourceId": 8870083,
     "sourceType": "datasetVersion"
    },
    {
     "datasetId": 6241587,
     "sourceId": 10116235,
     "sourceType": "datasetVersion"
    }
   ],
   "dockerImageVersionId": 30787,
   "isGpuEnabled": true,
   "isInternetEnabled": true,
   "language": "python",
   "sourceType": "notebook"
  },
  "kernelspec": {
   "display_name": "Python 3",
   "language": "python",
   "name": "python3"
  },
  "language_info": {
   "codemirror_mode": {
    "name": "ipython",
    "version": 3
   },
   "file_extension": ".py",
   "mimetype": "text/x-python",
   "name": "python",
   "nbconvert_exporter": "python",
   "pygments_lexer": "ipython3",
   "version": "3.10.14"
  },
  "papermill": {
   "default_parameters": {},
   "duration": 1118.504636,
   "end_time": "2024-12-06T07:33:02.389238",
   "environment_variables": {},
   "exception": null,
   "input_path": "__notebook__.ipynb",
   "output_path": "__notebook__.ipynb",
   "parameters": {},
   "start_time": "2024-12-06T07:14:23.884602",
   "version": "2.6.0"
  }
 },
 "nbformat": 4,
 "nbformat_minor": 5
}
